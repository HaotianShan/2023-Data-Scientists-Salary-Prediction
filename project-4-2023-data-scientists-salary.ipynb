{
 "cells": [
  {
   "cell_type": "markdown",
   "id": "7e3b9546",
   "metadata": {
    "papermill": {
     "duration": 0.006377,
     "end_time": "2024-01-11T04:45:31.472589",
     "exception": false,
     "start_time": "2024-01-11T04:45:31.466212",
     "status": "completed"
    },
    "tags": []
   },
   "source": [
    "**Hi there! In this EDA project, we will be performing 2023 Data Scientists salary. We wil use multiple libraries which will help us in analysis and visualizing our dataset.**"
   ]
  },
  {
   "cell_type": "markdown",
   "id": "73e9bb97",
   "metadata": {
    "papermill": {
     "duration": 0.005465,
     "end_time": "2024-01-11T04:45:31.484372",
     "exception": false,
     "start_time": "2024-01-11T04:45:31.478907",
     "status": "completed"
    },
    "tags": []
   },
   "source": [
    "**Importing libraries**"
   ]
  },
  {
   "cell_type": "code",
   "execution_count": 1,
   "id": "0e8dc422",
   "metadata": {
    "execution": {
     "iopub.execute_input": "2024-01-11T04:45:31.497693Z",
     "iopub.status.busy": "2024-01-11T04:45:31.496916Z",
     "iopub.status.idle": "2024-01-11T04:45:33.273617Z",
     "shell.execute_reply": "2024-01-11T04:45:33.272308Z"
    },
    "papermill": {
     "duration": 1.785937,
     "end_time": "2024-01-11T04:45:33.275896",
     "exception": false,
     "start_time": "2024-01-11T04:45:31.489959",
     "status": "completed"
    },
    "tags": []
   },
   "outputs": [],
   "source": [
    "import numpy as np\n",
    "import pandas as pd \n",
    "import seaborn as sns\n",
    "import matplotlib.pyplot as plt"
   ]
  },
  {
   "cell_type": "code",
   "execution_count": 2,
   "id": "47f8ef16",
   "metadata": {
    "execution": {
     "iopub.execute_input": "2024-01-11T04:45:33.289164Z",
     "iopub.status.busy": "2024-01-11T04:45:33.288757Z",
     "iopub.status.idle": "2024-01-11T04:45:33.345049Z",
     "shell.execute_reply": "2024-01-11T04:45:33.344123Z"
    },
    "papermill": {
     "duration": 0.064936,
     "end_time": "2024-01-11T04:45:33.346858",
     "exception": false,
     "start_time": "2024-01-11T04:45:33.281922",
     "status": "completed"
    },
    "tags": []
   },
   "outputs": [
    {
     "data": {
      "text/html": [
       "<div>\n",
       "<style scoped>\n",
       "    .dataframe tbody tr th:only-of-type {\n",
       "        vertical-align: middle;\n",
       "    }\n",
       "\n",
       "    .dataframe tbody tr th {\n",
       "        vertical-align: top;\n",
       "    }\n",
       "\n",
       "    .dataframe thead th {\n",
       "        text-align: right;\n",
       "    }\n",
       "</style>\n",
       "<table border=\"1\" class=\"dataframe\">\n",
       "  <thead>\n",
       "    <tr style=\"text-align: right;\">\n",
       "      <th></th>\n",
       "      <th>work_year</th>\n",
       "      <th>experience_level</th>\n",
       "      <th>employment_type</th>\n",
       "      <th>job_title</th>\n",
       "      <th>salary</th>\n",
       "      <th>salary_currency</th>\n",
       "      <th>salary_in_usd</th>\n",
       "      <th>employee_residence</th>\n",
       "      <th>remote_ratio</th>\n",
       "      <th>company_location</th>\n",
       "      <th>company_size</th>\n",
       "    </tr>\n",
       "  </thead>\n",
       "  <tbody>\n",
       "    <tr>\n",
       "      <th>0</th>\n",
       "      <td>2023</td>\n",
       "      <td>SE</td>\n",
       "      <td>FT</td>\n",
       "      <td>Principal Data Scientist</td>\n",
       "      <td>80000</td>\n",
       "      <td>EUR</td>\n",
       "      <td>85847</td>\n",
       "      <td>ES</td>\n",
       "      <td>100</td>\n",
       "      <td>ES</td>\n",
       "      <td>L</td>\n",
       "    </tr>\n",
       "    <tr>\n",
       "      <th>1</th>\n",
       "      <td>2023</td>\n",
       "      <td>MI</td>\n",
       "      <td>CT</td>\n",
       "      <td>ML Engineer</td>\n",
       "      <td>30000</td>\n",
       "      <td>USD</td>\n",
       "      <td>30000</td>\n",
       "      <td>US</td>\n",
       "      <td>100</td>\n",
       "      <td>US</td>\n",
       "      <td>S</td>\n",
       "    </tr>\n",
       "    <tr>\n",
       "      <th>2</th>\n",
       "      <td>2023</td>\n",
       "      <td>MI</td>\n",
       "      <td>CT</td>\n",
       "      <td>ML Engineer</td>\n",
       "      <td>25500</td>\n",
       "      <td>USD</td>\n",
       "      <td>25500</td>\n",
       "      <td>US</td>\n",
       "      <td>100</td>\n",
       "      <td>US</td>\n",
       "      <td>S</td>\n",
       "    </tr>\n",
       "    <tr>\n",
       "      <th>3</th>\n",
       "      <td>2023</td>\n",
       "      <td>SE</td>\n",
       "      <td>FT</td>\n",
       "      <td>Data Scientist</td>\n",
       "      <td>175000</td>\n",
       "      <td>USD</td>\n",
       "      <td>175000</td>\n",
       "      <td>CA</td>\n",
       "      <td>100</td>\n",
       "      <td>CA</td>\n",
       "      <td>M</td>\n",
       "    </tr>\n",
       "    <tr>\n",
       "      <th>4</th>\n",
       "      <td>2023</td>\n",
       "      <td>SE</td>\n",
       "      <td>FT</td>\n",
       "      <td>Data Scientist</td>\n",
       "      <td>120000</td>\n",
       "      <td>USD</td>\n",
       "      <td>120000</td>\n",
       "      <td>CA</td>\n",
       "      <td>100</td>\n",
       "      <td>CA</td>\n",
       "      <td>M</td>\n",
       "    </tr>\n",
       "    <tr>\n",
       "      <th>...</th>\n",
       "      <td>...</td>\n",
       "      <td>...</td>\n",
       "      <td>...</td>\n",
       "      <td>...</td>\n",
       "      <td>...</td>\n",
       "      <td>...</td>\n",
       "      <td>...</td>\n",
       "      <td>...</td>\n",
       "      <td>...</td>\n",
       "      <td>...</td>\n",
       "      <td>...</td>\n",
       "    </tr>\n",
       "    <tr>\n",
       "      <th>3750</th>\n",
       "      <td>2020</td>\n",
       "      <td>SE</td>\n",
       "      <td>FT</td>\n",
       "      <td>Data Scientist</td>\n",
       "      <td>412000</td>\n",
       "      <td>USD</td>\n",
       "      <td>412000</td>\n",
       "      <td>US</td>\n",
       "      <td>100</td>\n",
       "      <td>US</td>\n",
       "      <td>L</td>\n",
       "    </tr>\n",
       "    <tr>\n",
       "      <th>3751</th>\n",
       "      <td>2021</td>\n",
       "      <td>MI</td>\n",
       "      <td>FT</td>\n",
       "      <td>Principal Data Scientist</td>\n",
       "      <td>151000</td>\n",
       "      <td>USD</td>\n",
       "      <td>151000</td>\n",
       "      <td>US</td>\n",
       "      <td>100</td>\n",
       "      <td>US</td>\n",
       "      <td>L</td>\n",
       "    </tr>\n",
       "    <tr>\n",
       "      <th>3752</th>\n",
       "      <td>2020</td>\n",
       "      <td>EN</td>\n",
       "      <td>FT</td>\n",
       "      <td>Data Scientist</td>\n",
       "      <td>105000</td>\n",
       "      <td>USD</td>\n",
       "      <td>105000</td>\n",
       "      <td>US</td>\n",
       "      <td>100</td>\n",
       "      <td>US</td>\n",
       "      <td>S</td>\n",
       "    </tr>\n",
       "    <tr>\n",
       "      <th>3753</th>\n",
       "      <td>2020</td>\n",
       "      <td>EN</td>\n",
       "      <td>CT</td>\n",
       "      <td>Business Data Analyst</td>\n",
       "      <td>100000</td>\n",
       "      <td>USD</td>\n",
       "      <td>100000</td>\n",
       "      <td>US</td>\n",
       "      <td>100</td>\n",
       "      <td>US</td>\n",
       "      <td>L</td>\n",
       "    </tr>\n",
       "    <tr>\n",
       "      <th>3754</th>\n",
       "      <td>2021</td>\n",
       "      <td>SE</td>\n",
       "      <td>FT</td>\n",
       "      <td>Data Science Manager</td>\n",
       "      <td>7000000</td>\n",
       "      <td>INR</td>\n",
       "      <td>94665</td>\n",
       "      <td>IN</td>\n",
       "      <td>50</td>\n",
       "      <td>IN</td>\n",
       "      <td>L</td>\n",
       "    </tr>\n",
       "  </tbody>\n",
       "</table>\n",
       "<p>3755 rows × 11 columns</p>\n",
       "</div>"
      ],
      "text/plain": [
       "      work_year experience_level employment_type                 job_title  \\\n",
       "0          2023               SE              FT  Principal Data Scientist   \n",
       "1          2023               MI              CT               ML Engineer   \n",
       "2          2023               MI              CT               ML Engineer   \n",
       "3          2023               SE              FT            Data Scientist   \n",
       "4          2023               SE              FT            Data Scientist   \n",
       "...         ...              ...             ...                       ...   \n",
       "3750       2020               SE              FT            Data Scientist   \n",
       "3751       2021               MI              FT  Principal Data Scientist   \n",
       "3752       2020               EN              FT            Data Scientist   \n",
       "3753       2020               EN              CT     Business Data Analyst   \n",
       "3754       2021               SE              FT      Data Science Manager   \n",
       "\n",
       "       salary salary_currency  salary_in_usd employee_residence  remote_ratio  \\\n",
       "0       80000             EUR          85847                 ES           100   \n",
       "1       30000             USD          30000                 US           100   \n",
       "2       25500             USD          25500                 US           100   \n",
       "3      175000             USD         175000                 CA           100   \n",
       "4      120000             USD         120000                 CA           100   \n",
       "...       ...             ...            ...                ...           ...   \n",
       "3750   412000             USD         412000                 US           100   \n",
       "3751   151000             USD         151000                 US           100   \n",
       "3752   105000             USD         105000                 US           100   \n",
       "3753   100000             USD         100000                 US           100   \n",
       "3754  7000000             INR          94665                 IN            50   \n",
       "\n",
       "     company_location company_size  \n",
       "0                  ES            L  \n",
       "1                  US            S  \n",
       "2                  US            S  \n",
       "3                  CA            M  \n",
       "4                  CA            M  \n",
       "...               ...          ...  \n",
       "3750               US            L  \n",
       "3751               US            L  \n",
       "3752               US            S  \n",
       "3753               US            L  \n",
       "3754               IN            L  \n",
       "\n",
       "[3755 rows x 11 columns]"
      ]
     },
     "execution_count": 2,
     "metadata": {},
     "output_type": "execute_result"
    }
   ],
   "source": [
    "data=pd.read_csv('/kaggle/input/2023-data-scientists-salary/ds_salaries.csv')\n",
    "data     #we are reading the data \n"
   ]
  },
  {
   "cell_type": "code",
   "execution_count": 3,
   "id": "db918a2e",
   "metadata": {
    "execution": {
     "iopub.execute_input": "2024-01-11T04:45:33.360419Z",
     "iopub.status.busy": "2024-01-11T04:45:33.360131Z",
     "iopub.status.idle": "2024-01-11T04:45:33.379057Z",
     "shell.execute_reply": "2024-01-11T04:45:33.378182Z"
    },
    "papermill": {
     "duration": 0.027837,
     "end_time": "2024-01-11T04:45:33.380956",
     "exception": false,
     "start_time": "2024-01-11T04:45:33.353119",
     "status": "completed"
    },
    "tags": []
   },
   "outputs": [
    {
     "data": {
      "text/html": [
       "<div>\n",
       "<style scoped>\n",
       "    .dataframe tbody tr th:only-of-type {\n",
       "        vertical-align: middle;\n",
       "    }\n",
       "\n",
       "    .dataframe tbody tr th {\n",
       "        vertical-align: top;\n",
       "    }\n",
       "\n",
       "    .dataframe thead th {\n",
       "        text-align: right;\n",
       "    }\n",
       "</style>\n",
       "<table border=\"1\" class=\"dataframe\">\n",
       "  <thead>\n",
       "    <tr style=\"text-align: right;\">\n",
       "      <th></th>\n",
       "      <th>work_year</th>\n",
       "      <th>experience_level</th>\n",
       "      <th>employment_type</th>\n",
       "      <th>job_title</th>\n",
       "      <th>salary</th>\n",
       "      <th>salary_currency</th>\n",
       "      <th>salary_in_usd</th>\n",
       "      <th>employee_residence</th>\n",
       "      <th>remote_ratio</th>\n",
       "      <th>company_location</th>\n",
       "      <th>company_size</th>\n",
       "    </tr>\n",
       "  </thead>\n",
       "  <tbody>\n",
       "    <tr>\n",
       "      <th>3669</th>\n",
       "      <td>2021</td>\n",
       "      <td>MI</td>\n",
       "      <td>FT</td>\n",
       "      <td>Data Scientist</td>\n",
       "      <td>30400000</td>\n",
       "      <td>CLP</td>\n",
       "      <td>40038</td>\n",
       "      <td>CL</td>\n",
       "      <td>100</td>\n",
       "      <td>CL</td>\n",
       "      <td>L</td>\n",
       "    </tr>\n",
       "    <tr>\n",
       "      <th>3646</th>\n",
       "      <td>2020</td>\n",
       "      <td>MI</td>\n",
       "      <td>FT</td>\n",
       "      <td>Data Scientist</td>\n",
       "      <td>11000000</td>\n",
       "      <td>HUF</td>\n",
       "      <td>35735</td>\n",
       "      <td>HU</td>\n",
       "      <td>50</td>\n",
       "      <td>HU</td>\n",
       "      <td>L</td>\n",
       "    </tr>\n",
       "    <tr>\n",
       "      <th>3574</th>\n",
       "      <td>2021</td>\n",
       "      <td>MI</td>\n",
       "      <td>FT</td>\n",
       "      <td>BI Data Analyst</td>\n",
       "      <td>11000000</td>\n",
       "      <td>HUF</td>\n",
       "      <td>36259</td>\n",
       "      <td>HU</td>\n",
       "      <td>50</td>\n",
       "      <td>US</td>\n",
       "      <td>L</td>\n",
       "    </tr>\n",
       "    <tr>\n",
       "      <th>3475</th>\n",
       "      <td>2021</td>\n",
       "      <td>MI</td>\n",
       "      <td>FT</td>\n",
       "      <td>ML Engineer</td>\n",
       "      <td>8500000</td>\n",
       "      <td>JPY</td>\n",
       "      <td>77364</td>\n",
       "      <td>JP</td>\n",
       "      <td>50</td>\n",
       "      <td>JP</td>\n",
       "      <td>S</td>\n",
       "    </tr>\n",
       "    <tr>\n",
       "      <th>2966</th>\n",
       "      <td>2022</td>\n",
       "      <td>SE</td>\n",
       "      <td>FT</td>\n",
       "      <td>Lead Machine Learning Engineer</td>\n",
       "      <td>7500000</td>\n",
       "      <td>INR</td>\n",
       "      <td>95386</td>\n",
       "      <td>IN</td>\n",
       "      <td>50</td>\n",
       "      <td>IN</td>\n",
       "      <td>L</td>\n",
       "    </tr>\n",
       "    <tr>\n",
       "      <th>...</th>\n",
       "      <td>...</td>\n",
       "      <td>...</td>\n",
       "      <td>...</td>\n",
       "      <td>...</td>\n",
       "      <td>...</td>\n",
       "      <td>...</td>\n",
       "      <td>...</td>\n",
       "      <td>...</td>\n",
       "      <td>...</td>\n",
       "      <td>...</td>\n",
       "      <td>...</td>\n",
       "    </tr>\n",
       "    <tr>\n",
       "      <th>3681</th>\n",
       "      <td>2020</td>\n",
       "      <td>MI</td>\n",
       "      <td>FT</td>\n",
       "      <td>Data Analyst</td>\n",
       "      <td>8000</td>\n",
       "      <td>USD</td>\n",
       "      <td>8000</td>\n",
       "      <td>PK</td>\n",
       "      <td>50</td>\n",
       "      <td>PK</td>\n",
       "      <td>L</td>\n",
       "    </tr>\n",
       "    <tr>\n",
       "      <th>2589</th>\n",
       "      <td>2022</td>\n",
       "      <td>SE</td>\n",
       "      <td>FT</td>\n",
       "      <td>Product Data Scientist</td>\n",
       "      <td>8000</td>\n",
       "      <td>USD</td>\n",
       "      <td>8000</td>\n",
       "      <td>IN</td>\n",
       "      <td>100</td>\n",
       "      <td>SG</td>\n",
       "      <td>L</td>\n",
       "    </tr>\n",
       "    <tr>\n",
       "      <th>2933</th>\n",
       "      <td>2022</td>\n",
       "      <td>MI</td>\n",
       "      <td>CT</td>\n",
       "      <td>Analytics Engineer</td>\n",
       "      <td>7500</td>\n",
       "      <td>USD</td>\n",
       "      <td>7500</td>\n",
       "      <td>BO</td>\n",
       "      <td>50</td>\n",
       "      <td>BO</td>\n",
       "      <td>M</td>\n",
       "    </tr>\n",
       "    <tr>\n",
       "      <th>573</th>\n",
       "      <td>2023</td>\n",
       "      <td>EN</td>\n",
       "      <td>FT</td>\n",
       "      <td>Autonomous Vehicle Technician</td>\n",
       "      <td>7000</td>\n",
       "      <td>USD</td>\n",
       "      <td>7000</td>\n",
       "      <td>GH</td>\n",
       "      <td>0</td>\n",
       "      <td>GH</td>\n",
       "      <td>S</td>\n",
       "    </tr>\n",
       "    <tr>\n",
       "      <th>1548</th>\n",
       "      <td>2022</td>\n",
       "      <td>EN</td>\n",
       "      <td>FT</td>\n",
       "      <td>AI Developer</td>\n",
       "      <td>6000</td>\n",
       "      <td>EUR</td>\n",
       "      <td>6304</td>\n",
       "      <td>MK</td>\n",
       "      <td>0</td>\n",
       "      <td>MK</td>\n",
       "      <td>S</td>\n",
       "    </tr>\n",
       "  </tbody>\n",
       "</table>\n",
       "<p>3755 rows × 11 columns</p>\n",
       "</div>"
      ],
      "text/plain": [
       "      work_year experience_level employment_type  \\\n",
       "3669       2021               MI              FT   \n",
       "3646       2020               MI              FT   \n",
       "3574       2021               MI              FT   \n",
       "3475       2021               MI              FT   \n",
       "2966       2022               SE              FT   \n",
       "...         ...              ...             ...   \n",
       "3681       2020               MI              FT   \n",
       "2589       2022               SE              FT   \n",
       "2933       2022               MI              CT   \n",
       "573        2023               EN              FT   \n",
       "1548       2022               EN              FT   \n",
       "\n",
       "                           job_title    salary salary_currency  salary_in_usd  \\\n",
       "3669                  Data Scientist  30400000             CLP          40038   \n",
       "3646                  Data Scientist  11000000             HUF          35735   \n",
       "3574                 BI Data Analyst  11000000             HUF          36259   \n",
       "3475                     ML Engineer   8500000             JPY          77364   \n",
       "2966  Lead Machine Learning Engineer   7500000             INR          95386   \n",
       "...                              ...       ...             ...            ...   \n",
       "3681                    Data Analyst      8000             USD           8000   \n",
       "2589          Product Data Scientist      8000             USD           8000   \n",
       "2933              Analytics Engineer      7500             USD           7500   \n",
       "573    Autonomous Vehicle Technician      7000             USD           7000   \n",
       "1548                    AI Developer      6000             EUR           6304   \n",
       "\n",
       "     employee_residence  remote_ratio company_location company_size  \n",
       "3669                 CL           100               CL            L  \n",
       "3646                 HU            50               HU            L  \n",
       "3574                 HU            50               US            L  \n",
       "3475                 JP            50               JP            S  \n",
       "2966                 IN            50               IN            L  \n",
       "...                 ...           ...              ...          ...  \n",
       "3681                 PK            50               PK            L  \n",
       "2589                 IN           100               SG            L  \n",
       "2933                 BO            50               BO            M  \n",
       "573                  GH             0               GH            S  \n",
       "1548                 MK             0               MK            S  \n",
       "\n",
       "[3755 rows x 11 columns]"
      ]
     },
     "execution_count": 3,
     "metadata": {},
     "output_type": "execute_result"
    }
   ],
   "source": [
    "data.sort_values('salary',ascending = False,inplace=True) \n",
    "data     #here we have sorted the salary in descending order"
   ]
  },
  {
   "cell_type": "code",
   "execution_count": 4,
   "id": "2c4f0663",
   "metadata": {
    "execution": {
     "iopub.execute_input": "2024-01-11T04:45:33.395760Z",
     "iopub.status.busy": "2024-01-11T04:45:33.395428Z",
     "iopub.status.idle": "2024-01-11T04:45:33.406770Z",
     "shell.execute_reply": "2024-01-11T04:45:33.405979Z"
    },
    "papermill": {
     "duration": 0.020862,
     "end_time": "2024-01-11T04:45:33.408697",
     "exception": false,
     "start_time": "2024-01-11T04:45:33.387835",
     "status": "completed"
    },
    "tags": []
   },
   "outputs": [
    {
     "data": {
      "text/html": [
       "<div>\n",
       "<style scoped>\n",
       "    .dataframe tbody tr th:only-of-type {\n",
       "        vertical-align: middle;\n",
       "    }\n",
       "\n",
       "    .dataframe tbody tr th {\n",
       "        vertical-align: top;\n",
       "    }\n",
       "\n",
       "    .dataframe thead th {\n",
       "        text-align: right;\n",
       "    }\n",
       "</style>\n",
       "<table border=\"1\" class=\"dataframe\">\n",
       "  <thead>\n",
       "    <tr style=\"text-align: right;\">\n",
       "      <th></th>\n",
       "      <th>work_year</th>\n",
       "      <th>experience_level</th>\n",
       "      <th>employment_type</th>\n",
       "      <th>job_title</th>\n",
       "      <th>salary</th>\n",
       "      <th>salary_currency</th>\n",
       "      <th>salary_in_usd</th>\n",
       "      <th>employee_residence</th>\n",
       "      <th>remote_ratio</th>\n",
       "      <th>company_location</th>\n",
       "      <th>company_size</th>\n",
       "    </tr>\n",
       "  </thead>\n",
       "  <tbody>\n",
       "    <tr>\n",
       "      <th>3669</th>\n",
       "      <td>2021</td>\n",
       "      <td>MI</td>\n",
       "      <td>FT</td>\n",
       "      <td>Data Scientist</td>\n",
       "      <td>30400000</td>\n",
       "      <td>CLP</td>\n",
       "      <td>40038</td>\n",
       "      <td>CL</td>\n",
       "      <td>100</td>\n",
       "      <td>CL</td>\n",
       "      <td>L</td>\n",
       "    </tr>\n",
       "    <tr>\n",
       "      <th>3646</th>\n",
       "      <td>2020</td>\n",
       "      <td>MI</td>\n",
       "      <td>FT</td>\n",
       "      <td>Data Scientist</td>\n",
       "      <td>11000000</td>\n",
       "      <td>HUF</td>\n",
       "      <td>35735</td>\n",
       "      <td>HU</td>\n",
       "      <td>50</td>\n",
       "      <td>HU</td>\n",
       "      <td>L</td>\n",
       "    </tr>\n",
       "    <tr>\n",
       "      <th>3574</th>\n",
       "      <td>2021</td>\n",
       "      <td>MI</td>\n",
       "      <td>FT</td>\n",
       "      <td>BI Data Analyst</td>\n",
       "      <td>11000000</td>\n",
       "      <td>HUF</td>\n",
       "      <td>36259</td>\n",
       "      <td>HU</td>\n",
       "      <td>50</td>\n",
       "      <td>US</td>\n",
       "      <td>L</td>\n",
       "    </tr>\n",
       "    <tr>\n",
       "      <th>3475</th>\n",
       "      <td>2021</td>\n",
       "      <td>MI</td>\n",
       "      <td>FT</td>\n",
       "      <td>ML Engineer</td>\n",
       "      <td>8500000</td>\n",
       "      <td>JPY</td>\n",
       "      <td>77364</td>\n",
       "      <td>JP</td>\n",
       "      <td>50</td>\n",
       "      <td>JP</td>\n",
       "      <td>S</td>\n",
       "    </tr>\n",
       "    <tr>\n",
       "      <th>2966</th>\n",
       "      <td>2022</td>\n",
       "      <td>SE</td>\n",
       "      <td>FT</td>\n",
       "      <td>Lead Machine Learning Engineer</td>\n",
       "      <td>7500000</td>\n",
       "      <td>INR</td>\n",
       "      <td>95386</td>\n",
       "      <td>IN</td>\n",
       "      <td>50</td>\n",
       "      <td>IN</td>\n",
       "      <td>L</td>\n",
       "    </tr>\n",
       "  </tbody>\n",
       "</table>\n",
       "</div>"
      ],
      "text/plain": [
       "      work_year experience_level employment_type  \\\n",
       "3669       2021               MI              FT   \n",
       "3646       2020               MI              FT   \n",
       "3574       2021               MI              FT   \n",
       "3475       2021               MI              FT   \n",
       "2966       2022               SE              FT   \n",
       "\n",
       "                           job_title    salary salary_currency  salary_in_usd  \\\n",
       "3669                  Data Scientist  30400000             CLP          40038   \n",
       "3646                  Data Scientist  11000000             HUF          35735   \n",
       "3574                 BI Data Analyst  11000000             HUF          36259   \n",
       "3475                     ML Engineer   8500000             JPY          77364   \n",
       "2966  Lead Machine Learning Engineer   7500000             INR          95386   \n",
       "\n",
       "     employee_residence  remote_ratio company_location company_size  \n",
       "3669                 CL           100               CL            L  \n",
       "3646                 HU            50               HU            L  \n",
       "3574                 HU            50               US            L  \n",
       "3475                 JP            50               JP            S  \n",
       "2966                 IN            50               IN            L  "
      ]
     },
     "execution_count": 4,
     "metadata": {},
     "output_type": "execute_result"
    }
   ],
   "source": [
    "data.head()    #reading the top 5 records"
   ]
  },
  {
   "cell_type": "code",
   "execution_count": 5,
   "id": "9efe1299",
   "metadata": {
    "execution": {
     "iopub.execute_input": "2024-01-11T04:45:33.424742Z",
     "iopub.status.busy": "2024-01-11T04:45:33.424444Z",
     "iopub.status.idle": "2024-01-11T04:45:33.435584Z",
     "shell.execute_reply": "2024-01-11T04:45:33.434822Z"
    },
    "papermill": {
     "duration": 0.02176,
     "end_time": "2024-01-11T04:45:33.438004",
     "exception": false,
     "start_time": "2024-01-11T04:45:33.416244",
     "status": "completed"
    },
    "tags": []
   },
   "outputs": [
    {
     "data": {
      "text/html": [
       "<div>\n",
       "<style scoped>\n",
       "    .dataframe tbody tr th:only-of-type {\n",
       "        vertical-align: middle;\n",
       "    }\n",
       "\n",
       "    .dataframe tbody tr th {\n",
       "        vertical-align: top;\n",
       "    }\n",
       "\n",
       "    .dataframe thead th {\n",
       "        text-align: right;\n",
       "    }\n",
       "</style>\n",
       "<table border=\"1\" class=\"dataframe\">\n",
       "  <thead>\n",
       "    <tr style=\"text-align: right;\">\n",
       "      <th></th>\n",
       "      <th>work_year</th>\n",
       "      <th>experience_level</th>\n",
       "      <th>employment_type</th>\n",
       "      <th>job_title</th>\n",
       "      <th>salary</th>\n",
       "      <th>salary_currency</th>\n",
       "      <th>salary_in_usd</th>\n",
       "      <th>employee_residence</th>\n",
       "      <th>remote_ratio</th>\n",
       "      <th>company_location</th>\n",
       "      <th>company_size</th>\n",
       "    </tr>\n",
       "  </thead>\n",
       "  <tbody>\n",
       "    <tr>\n",
       "      <th>3681</th>\n",
       "      <td>2020</td>\n",
       "      <td>MI</td>\n",
       "      <td>FT</td>\n",
       "      <td>Data Analyst</td>\n",
       "      <td>8000</td>\n",
       "      <td>USD</td>\n",
       "      <td>8000</td>\n",
       "      <td>PK</td>\n",
       "      <td>50</td>\n",
       "      <td>PK</td>\n",
       "      <td>L</td>\n",
       "    </tr>\n",
       "    <tr>\n",
       "      <th>2589</th>\n",
       "      <td>2022</td>\n",
       "      <td>SE</td>\n",
       "      <td>FT</td>\n",
       "      <td>Product Data Scientist</td>\n",
       "      <td>8000</td>\n",
       "      <td>USD</td>\n",
       "      <td>8000</td>\n",
       "      <td>IN</td>\n",
       "      <td>100</td>\n",
       "      <td>SG</td>\n",
       "      <td>L</td>\n",
       "    </tr>\n",
       "    <tr>\n",
       "      <th>2933</th>\n",
       "      <td>2022</td>\n",
       "      <td>MI</td>\n",
       "      <td>CT</td>\n",
       "      <td>Analytics Engineer</td>\n",
       "      <td>7500</td>\n",
       "      <td>USD</td>\n",
       "      <td>7500</td>\n",
       "      <td>BO</td>\n",
       "      <td>50</td>\n",
       "      <td>BO</td>\n",
       "      <td>M</td>\n",
       "    </tr>\n",
       "    <tr>\n",
       "      <th>573</th>\n",
       "      <td>2023</td>\n",
       "      <td>EN</td>\n",
       "      <td>FT</td>\n",
       "      <td>Autonomous Vehicle Technician</td>\n",
       "      <td>7000</td>\n",
       "      <td>USD</td>\n",
       "      <td>7000</td>\n",
       "      <td>GH</td>\n",
       "      <td>0</td>\n",
       "      <td>GH</td>\n",
       "      <td>S</td>\n",
       "    </tr>\n",
       "    <tr>\n",
       "      <th>1548</th>\n",
       "      <td>2022</td>\n",
       "      <td>EN</td>\n",
       "      <td>FT</td>\n",
       "      <td>AI Developer</td>\n",
       "      <td>6000</td>\n",
       "      <td>EUR</td>\n",
       "      <td>6304</td>\n",
       "      <td>MK</td>\n",
       "      <td>0</td>\n",
       "      <td>MK</td>\n",
       "      <td>S</td>\n",
       "    </tr>\n",
       "  </tbody>\n",
       "</table>\n",
       "</div>"
      ],
      "text/plain": [
       "      work_year experience_level employment_type  \\\n",
       "3681       2020               MI              FT   \n",
       "2589       2022               SE              FT   \n",
       "2933       2022               MI              CT   \n",
       "573        2023               EN              FT   \n",
       "1548       2022               EN              FT   \n",
       "\n",
       "                          job_title  salary salary_currency  salary_in_usd  \\\n",
       "3681                   Data Analyst    8000             USD           8000   \n",
       "2589         Product Data Scientist    8000             USD           8000   \n",
       "2933             Analytics Engineer    7500             USD           7500   \n",
       "573   Autonomous Vehicle Technician    7000             USD           7000   \n",
       "1548                   AI Developer    6000             EUR           6304   \n",
       "\n",
       "     employee_residence  remote_ratio company_location company_size  \n",
       "3681                 PK            50               PK            L  \n",
       "2589                 IN           100               SG            L  \n",
       "2933                 BO            50               BO            M  \n",
       "573                  GH             0               GH            S  \n",
       "1548                 MK             0               MK            S  "
      ]
     },
     "execution_count": 5,
     "metadata": {},
     "output_type": "execute_result"
    }
   ],
   "source": [
    "data.tail()   #reading the last 5 records"
   ]
  },
  {
   "cell_type": "code",
   "execution_count": 6,
   "id": "1461e30d",
   "metadata": {
    "execution": {
     "iopub.execute_input": "2024-01-11T04:45:33.453114Z",
     "iopub.status.busy": "2024-01-11T04:45:33.452857Z",
     "iopub.status.idle": "2024-01-11T04:45:33.533114Z",
     "shell.execute_reply": "2024-01-11T04:45:33.532247Z"
    },
    "papermill": {
     "duration": 0.090322,
     "end_time": "2024-01-11T04:45:33.535415",
     "exception": false,
     "start_time": "2024-01-11T04:45:33.445093",
     "status": "completed"
    },
    "tags": []
   },
   "outputs": [
    {
     "name": "stdout",
     "output_type": "stream",
     "text": [
      "<class 'pandas.core.frame.DataFrame'>\n",
      "Index: 3755 entries, 3669 to 1548\n",
      "Data columns (total 11 columns):\n",
      " #   Column              Non-Null Count  Dtype \n",
      "---  ------              --------------  ----- \n",
      " 0   work_year           3755 non-null   int64 \n",
      " 1   experience_level    3755 non-null   object\n",
      " 2   employment_type     3755 non-null   object\n",
      " 3   job_title           3755 non-null   object\n",
      " 4   salary              3755 non-null   int64 \n",
      " 5   salary_currency     3755 non-null   object\n",
      " 6   salary_in_usd       3755 non-null   int64 \n",
      " 7   employee_residence  3755 non-null   object\n",
      " 8   remote_ratio        3755 non-null   int64 \n",
      " 9   company_location    3755 non-null   object\n",
      " 10  company_size        3755 non-null   object\n",
      "dtypes: int64(4), object(7)\n",
      "memory usage: 352.0+ KB\n"
     ]
    }
   ],
   "source": [
    "data.info()   #reading the info of data"
   ]
  },
  {
   "cell_type": "code",
   "execution_count": 7,
   "id": "1f8b21ad",
   "metadata": {
    "execution": {
     "iopub.execute_input": "2024-01-11T04:45:33.551511Z",
     "iopub.status.busy": "2024-01-11T04:45:33.550963Z",
     "iopub.status.idle": "2024-01-11T04:45:33.556341Z",
     "shell.execute_reply": "2024-01-11T04:45:33.555595Z"
    },
    "papermill": {
     "duration": 0.015332,
     "end_time": "2024-01-11T04:45:33.557975",
     "exception": false,
     "start_time": "2024-01-11T04:45:33.542643",
     "status": "completed"
    },
    "tags": []
   },
   "outputs": [
    {
     "data": {
      "text/plain": [
       "(3755, 11)"
      ]
     },
     "execution_count": 7,
     "metadata": {},
     "output_type": "execute_result"
    }
   ],
   "source": [
    "data.shape   #here we see the shape of data"
   ]
  },
  {
   "cell_type": "code",
   "execution_count": 8,
   "id": "0ddcf9d9",
   "metadata": {
    "execution": {
     "iopub.execute_input": "2024-01-11T04:45:33.574440Z",
     "iopub.status.busy": "2024-01-11T04:45:33.573893Z",
     "iopub.status.idle": "2024-01-11T04:45:33.581951Z",
     "shell.execute_reply": "2024-01-11T04:45:33.581073Z"
    },
    "papermill": {
     "duration": 0.018875,
     "end_time": "2024-01-11T04:45:33.584156",
     "exception": false,
     "start_time": "2024-01-11T04:45:33.565281",
     "status": "completed"
    },
    "tags": []
   },
   "outputs": [
    {
     "data": {
      "text/plain": [
       "work_year             0\n",
       "experience_level      0\n",
       "employment_type       0\n",
       "job_title             0\n",
       "salary                0\n",
       "salary_currency       0\n",
       "salary_in_usd         0\n",
       "employee_residence    0\n",
       "remote_ratio          0\n",
       "company_location      0\n",
       "company_size          0\n",
       "dtype: int64"
      ]
     },
     "execution_count": 8,
     "metadata": {},
     "output_type": "execute_result"
    }
   ],
   "source": [
    "data.isnull().sum()  #checking missing values"
   ]
  },
  {
   "cell_type": "code",
   "execution_count": 9,
   "id": "0d71987d",
   "metadata": {
    "execution": {
     "iopub.execute_input": "2024-01-11T04:45:33.600213Z",
     "iopub.status.busy": "2024-01-11T04:45:33.599877Z",
     "iopub.status.idle": "2024-01-11T04:45:33.605769Z",
     "shell.execute_reply": "2024-01-11T04:45:33.604817Z"
    },
    "papermill": {
     "duration": 0.015858,
     "end_time": "2024-01-11T04:45:33.607413",
     "exception": false,
     "start_time": "2024-01-11T04:45:33.591555",
     "status": "completed"
    },
    "tags": []
   },
   "outputs": [
    {
     "data": {
      "text/plain": [
       "Index(['work_year', 'experience_level', 'employment_type', 'job_title',\n",
       "       'salary', 'salary_currency', 'salary_in_usd', 'employee_residence',\n",
       "       'remote_ratio', 'company_location', 'company_size'],\n",
       "      dtype='object')"
      ]
     },
     "execution_count": 9,
     "metadata": {},
     "output_type": "execute_result"
    }
   ],
   "source": [
    "data.columns     #here we will be checking column name"
   ]
  },
  {
   "cell_type": "code",
   "execution_count": 10,
   "id": "d3280902",
   "metadata": {
    "execution": {
     "iopub.execute_input": "2024-01-11T04:45:33.623052Z",
     "iopub.status.busy": "2024-01-11T04:45:33.622760Z",
     "iopub.status.idle": "2024-01-11T04:45:33.629032Z",
     "shell.execute_reply": "2024-01-11T04:45:33.628161Z"
    },
    "papermill": {
     "duration": 0.016162,
     "end_time": "2024-01-11T04:45:33.630849",
     "exception": false,
     "start_time": "2024-01-11T04:45:33.614687",
     "status": "completed"
    },
    "tags": []
   },
   "outputs": [
    {
     "data": {
      "text/plain": [
       "array(['L', 'S', 'M'], dtype=object)"
      ]
     },
     "execution_count": 10,
     "metadata": {},
     "output_type": "execute_result"
    }
   ],
   "source": [
    "data.company_size.unique()     #here we will be checking unique company size"
   ]
  },
  {
   "cell_type": "code",
   "execution_count": 11,
   "id": "6c2630f2",
   "metadata": {
    "execution": {
     "iopub.execute_input": "2024-01-11T04:45:33.646930Z",
     "iopub.status.busy": "2024-01-11T04:45:33.646595Z",
     "iopub.status.idle": "2024-01-11T04:45:33.654277Z",
     "shell.execute_reply": "2024-01-11T04:45:33.653374Z"
    },
    "papermill": {
     "duration": 0.017362,
     "end_time": "2024-01-11T04:45:33.655916",
     "exception": false,
     "start_time": "2024-01-11T04:45:33.638554",
     "status": "completed"
    },
    "tags": []
   },
   "outputs": [
    {
     "data": {
      "text/plain": [
       "array([100,  50,   0])"
      ]
     },
     "execution_count": 11,
     "metadata": {},
     "output_type": "execute_result"
    }
   ],
   "source": [
    "data.remote_ratio.unique()    #we see the unique remote ratio"
   ]
  },
  {
   "cell_type": "code",
   "execution_count": 12,
   "id": "cec56b1d",
   "metadata": {
    "execution": {
     "iopub.execute_input": "2024-01-11T04:45:33.672999Z",
     "iopub.status.busy": "2024-01-11T04:45:33.672449Z",
     "iopub.status.idle": "2024-01-11T04:45:33.677427Z",
     "shell.execute_reply": "2024-01-11T04:45:33.676892Z"
    },
    "papermill": {
     "duration": 0.015787,
     "end_time": "2024-01-11T04:45:33.678885",
     "exception": false,
     "start_time": "2024-01-11T04:45:33.663098",
     "status": "completed"
    },
    "tags": []
   },
   "outputs": [
    {
     "data": {
      "text/plain": [
       "array(['FT', 'FL', 'CT', 'PT'], dtype=object)"
      ]
     },
     "execution_count": 12,
     "metadata": {},
     "output_type": "execute_result"
    }
   ],
   "source": [
    "data.employment_type.unique()    #we see type of employment"
   ]
  },
  {
   "cell_type": "code",
   "execution_count": 13,
   "id": "8242f0d7",
   "metadata": {
    "execution": {
     "iopub.execute_input": "2024-01-11T04:45:33.695581Z",
     "iopub.status.busy": "2024-01-11T04:45:33.694561Z",
     "iopub.status.idle": "2024-01-11T04:45:33.701567Z",
     "shell.execute_reply": "2024-01-11T04:45:33.700724Z"
    },
    "papermill": {
     "duration": 0.017283,
     "end_time": "2024-01-11T04:45:33.703417",
     "exception": false,
     "start_time": "2024-01-11T04:45:33.686134",
     "status": "completed"
    },
    "tags": []
   },
   "outputs": [
    {
     "data": {
      "text/plain": [
       "array(['MI', 'SE', 'EN', 'EX'], dtype=object)"
      ]
     },
     "execution_count": 13,
     "metadata": {},
     "output_type": "execute_result"
    }
   ],
   "source": [
    "data.experience_level.unique()     #we see unique experience level"
   ]
  },
  {
   "cell_type": "markdown",
   "id": "2d8e8ed2",
   "metadata": {
    "papermill": {
     "duration": 0.007166,
     "end_time": "2024-01-11T04:45:33.718216",
     "exception": false,
     "start_time": "2024-01-11T04:45:33.711050",
     "status": "completed"
    },
    "tags": []
   },
   "source": [
    "**Arrange the data to be readable**"
   ]
  },
  {
   "cell_type": "code",
   "execution_count": 14,
   "id": "1152d3ac",
   "metadata": {
    "execution": {
     "iopub.execute_input": "2024-01-11T04:45:33.734489Z",
     "iopub.status.busy": "2024-01-11T04:45:33.734198Z",
     "iopub.status.idle": "2024-01-11T04:45:33.745751Z",
     "shell.execute_reply": "2024-01-11T04:45:33.744833Z"
    },
    "papermill": {
     "duration": 0.022041,
     "end_time": "2024-01-11T04:45:33.747576",
     "exception": false,
     "start_time": "2024-01-11T04:45:33.725535",
     "status": "completed"
    },
    "tags": []
   },
   "outputs": [],
   "source": [
    "data['experience_level']=data['experience_level'].replace({'SE': 'Senior','MI':'Mid-level','EN': 'ENTRY level','EX': 'Excecutive-level'})\n",
    "data['employment_type']=data['employment_type'].replace({'FT':'Full time','CT':'Contractual','FL':'Freelancer','PT':'Part time'})\n",
    "data['remote-ratio']=data['remote_ratio'].replace({100:'Work from site',50:'Hybrid',0:'Remotly'})\n",
    "data['company_size']=data['company_size'].replace({'L':'Large company','M':'Medium company','S':'Small company'})"
   ]
  },
  {
   "cell_type": "markdown",
   "id": "0c540a7c",
   "metadata": {
    "papermill": {
     "duration": 0.007131,
     "end_time": "2024-01-11T04:45:33.762342",
     "exception": false,
     "start_time": "2024-01-11T04:45:33.755211",
     "status": "completed"
    },
    "tags": []
   },
   "source": [
    "**Checking for duplicates**"
   ]
  },
  {
   "cell_type": "code",
   "execution_count": 15,
   "id": "6f6a0824",
   "metadata": {
    "execution": {
     "iopub.execute_input": "2024-01-11T04:45:33.778304Z",
     "iopub.status.busy": "2024-01-11T04:45:33.777943Z",
     "iopub.status.idle": "2024-01-11T04:45:33.789935Z",
     "shell.execute_reply": "2024-01-11T04:45:33.789112Z"
    },
    "papermill": {
     "duration": 0.022208,
     "end_time": "2024-01-11T04:45:33.791923",
     "exception": false,
     "start_time": "2024-01-11T04:45:33.769715",
     "status": "completed"
    },
    "tags": []
   },
   "outputs": [],
   "source": [
    "duplicate_rows=data[data.duplicated()].sum()"
   ]
  },
  {
   "cell_type": "code",
   "execution_count": 16,
   "id": "18dfa8f9",
   "metadata": {
    "execution": {
     "iopub.execute_input": "2024-01-11T04:45:33.808209Z",
     "iopub.status.busy": "2024-01-11T04:45:33.807947Z",
     "iopub.status.idle": "2024-01-11T04:45:33.827789Z",
     "shell.execute_reply": "2024-01-11T04:45:33.826996Z"
    },
    "papermill": {
     "duration": 0.030004,
     "end_time": "2024-01-11T04:45:33.829580",
     "exception": false,
     "start_time": "2024-01-11T04:45:33.799576",
     "status": "completed"
    },
    "tags": []
   },
   "outputs": [
    {
     "data": {
      "text/html": [
       "<div>\n",
       "<style scoped>\n",
       "    .dataframe tbody tr th:only-of-type {\n",
       "        vertical-align: middle;\n",
       "    }\n",
       "\n",
       "    .dataframe tbody tr th {\n",
       "        vertical-align: top;\n",
       "    }\n",
       "\n",
       "    .dataframe thead th {\n",
       "        text-align: right;\n",
       "    }\n",
       "</style>\n",
       "<table border=\"1\" class=\"dataframe\">\n",
       "  <thead>\n",
       "    <tr style=\"text-align: right;\">\n",
       "      <th></th>\n",
       "      <th>work_year</th>\n",
       "      <th>experience_level</th>\n",
       "      <th>employment_type</th>\n",
       "      <th>job_title</th>\n",
       "      <th>salary</th>\n",
       "      <th>salary_currency</th>\n",
       "      <th>salary_in_usd</th>\n",
       "      <th>employee_residence</th>\n",
       "      <th>remote_ratio</th>\n",
       "      <th>company_location</th>\n",
       "      <th>company_size</th>\n",
       "      <th>remote-ratio</th>\n",
       "    </tr>\n",
       "  </thead>\n",
       "  <tbody>\n",
       "    <tr>\n",
       "      <th>3669</th>\n",
       "      <td>2021</td>\n",
       "      <td>Mid-level</td>\n",
       "      <td>Full time</td>\n",
       "      <td>Data Scientist</td>\n",
       "      <td>30400000</td>\n",
       "      <td>CLP</td>\n",
       "      <td>40038</td>\n",
       "      <td>CL</td>\n",
       "      <td>100</td>\n",
       "      <td>CL</td>\n",
       "      <td>Large company</td>\n",
       "      <td>Work from site</td>\n",
       "    </tr>\n",
       "    <tr>\n",
       "      <th>3646</th>\n",
       "      <td>2020</td>\n",
       "      <td>Mid-level</td>\n",
       "      <td>Full time</td>\n",
       "      <td>Data Scientist</td>\n",
       "      <td>11000000</td>\n",
       "      <td>HUF</td>\n",
       "      <td>35735</td>\n",
       "      <td>HU</td>\n",
       "      <td>50</td>\n",
       "      <td>HU</td>\n",
       "      <td>Large company</td>\n",
       "      <td>Hybrid</td>\n",
       "    </tr>\n",
       "    <tr>\n",
       "      <th>3574</th>\n",
       "      <td>2021</td>\n",
       "      <td>Mid-level</td>\n",
       "      <td>Full time</td>\n",
       "      <td>BI Data Analyst</td>\n",
       "      <td>11000000</td>\n",
       "      <td>HUF</td>\n",
       "      <td>36259</td>\n",
       "      <td>HU</td>\n",
       "      <td>50</td>\n",
       "      <td>US</td>\n",
       "      <td>Large company</td>\n",
       "      <td>Hybrid</td>\n",
       "    </tr>\n",
       "    <tr>\n",
       "      <th>3475</th>\n",
       "      <td>2021</td>\n",
       "      <td>Mid-level</td>\n",
       "      <td>Full time</td>\n",
       "      <td>ML Engineer</td>\n",
       "      <td>8500000</td>\n",
       "      <td>JPY</td>\n",
       "      <td>77364</td>\n",
       "      <td>JP</td>\n",
       "      <td>50</td>\n",
       "      <td>JP</td>\n",
       "      <td>Small company</td>\n",
       "      <td>Hybrid</td>\n",
       "    </tr>\n",
       "    <tr>\n",
       "      <th>2966</th>\n",
       "      <td>2022</td>\n",
       "      <td>Senior</td>\n",
       "      <td>Full time</td>\n",
       "      <td>Lead Machine Learning Engineer</td>\n",
       "      <td>7500000</td>\n",
       "      <td>INR</td>\n",
       "      <td>95386</td>\n",
       "      <td>IN</td>\n",
       "      <td>50</td>\n",
       "      <td>IN</td>\n",
       "      <td>Large company</td>\n",
       "      <td>Hybrid</td>\n",
       "    </tr>\n",
       "    <tr>\n",
       "      <th>...</th>\n",
       "      <td>...</td>\n",
       "      <td>...</td>\n",
       "      <td>...</td>\n",
       "      <td>...</td>\n",
       "      <td>...</td>\n",
       "      <td>...</td>\n",
       "      <td>...</td>\n",
       "      <td>...</td>\n",
       "      <td>...</td>\n",
       "      <td>...</td>\n",
       "      <td>...</td>\n",
       "      <td>...</td>\n",
       "    </tr>\n",
       "    <tr>\n",
       "      <th>3681</th>\n",
       "      <td>2020</td>\n",
       "      <td>Mid-level</td>\n",
       "      <td>Full time</td>\n",
       "      <td>Data Analyst</td>\n",
       "      <td>8000</td>\n",
       "      <td>USD</td>\n",
       "      <td>8000</td>\n",
       "      <td>PK</td>\n",
       "      <td>50</td>\n",
       "      <td>PK</td>\n",
       "      <td>Large company</td>\n",
       "      <td>Hybrid</td>\n",
       "    </tr>\n",
       "    <tr>\n",
       "      <th>2589</th>\n",
       "      <td>2022</td>\n",
       "      <td>Senior</td>\n",
       "      <td>Full time</td>\n",
       "      <td>Product Data Scientist</td>\n",
       "      <td>8000</td>\n",
       "      <td>USD</td>\n",
       "      <td>8000</td>\n",
       "      <td>IN</td>\n",
       "      <td>100</td>\n",
       "      <td>SG</td>\n",
       "      <td>Large company</td>\n",
       "      <td>Work from site</td>\n",
       "    </tr>\n",
       "    <tr>\n",
       "      <th>2933</th>\n",
       "      <td>2022</td>\n",
       "      <td>Mid-level</td>\n",
       "      <td>Contractual</td>\n",
       "      <td>Analytics Engineer</td>\n",
       "      <td>7500</td>\n",
       "      <td>USD</td>\n",
       "      <td>7500</td>\n",
       "      <td>BO</td>\n",
       "      <td>50</td>\n",
       "      <td>BO</td>\n",
       "      <td>Medium company</td>\n",
       "      <td>Hybrid</td>\n",
       "    </tr>\n",
       "    <tr>\n",
       "      <th>573</th>\n",
       "      <td>2023</td>\n",
       "      <td>ENTRY level</td>\n",
       "      <td>Full time</td>\n",
       "      <td>Autonomous Vehicle Technician</td>\n",
       "      <td>7000</td>\n",
       "      <td>USD</td>\n",
       "      <td>7000</td>\n",
       "      <td>GH</td>\n",
       "      <td>0</td>\n",
       "      <td>GH</td>\n",
       "      <td>Small company</td>\n",
       "      <td>Remotly</td>\n",
       "    </tr>\n",
       "    <tr>\n",
       "      <th>1548</th>\n",
       "      <td>2022</td>\n",
       "      <td>ENTRY level</td>\n",
       "      <td>Full time</td>\n",
       "      <td>AI Developer</td>\n",
       "      <td>6000</td>\n",
       "      <td>EUR</td>\n",
       "      <td>6304</td>\n",
       "      <td>MK</td>\n",
       "      <td>0</td>\n",
       "      <td>MK</td>\n",
       "      <td>Small company</td>\n",
       "      <td>Remotly</td>\n",
       "    </tr>\n",
       "  </tbody>\n",
       "</table>\n",
       "<p>2584 rows × 12 columns</p>\n",
       "</div>"
      ],
      "text/plain": [
       "      work_year experience_level employment_type  \\\n",
       "3669       2021        Mid-level       Full time   \n",
       "3646       2020        Mid-level       Full time   \n",
       "3574       2021        Mid-level       Full time   \n",
       "3475       2021        Mid-level       Full time   \n",
       "2966       2022           Senior       Full time   \n",
       "...         ...              ...             ...   \n",
       "3681       2020        Mid-level       Full time   \n",
       "2589       2022           Senior       Full time   \n",
       "2933       2022        Mid-level     Contractual   \n",
       "573        2023      ENTRY level       Full time   \n",
       "1548       2022      ENTRY level       Full time   \n",
       "\n",
       "                           job_title    salary salary_currency  salary_in_usd  \\\n",
       "3669                  Data Scientist  30400000             CLP          40038   \n",
       "3646                  Data Scientist  11000000             HUF          35735   \n",
       "3574                 BI Data Analyst  11000000             HUF          36259   \n",
       "3475                     ML Engineer   8500000             JPY          77364   \n",
       "2966  Lead Machine Learning Engineer   7500000             INR          95386   \n",
       "...                              ...       ...             ...            ...   \n",
       "3681                    Data Analyst      8000             USD           8000   \n",
       "2589          Product Data Scientist      8000             USD           8000   \n",
       "2933              Analytics Engineer      7500             USD           7500   \n",
       "573    Autonomous Vehicle Technician      7000             USD           7000   \n",
       "1548                    AI Developer      6000             EUR           6304   \n",
       "\n",
       "     employee_residence  remote_ratio company_location    company_size  \\\n",
       "3669                 CL           100               CL   Large company   \n",
       "3646                 HU            50               HU   Large company   \n",
       "3574                 HU            50               US   Large company   \n",
       "3475                 JP            50               JP   Small company   \n",
       "2966                 IN            50               IN   Large company   \n",
       "...                 ...           ...              ...             ...   \n",
       "3681                 PK            50               PK   Large company   \n",
       "2589                 IN           100               SG   Large company   \n",
       "2933                 BO            50               BO  Medium company   \n",
       "573                  GH             0               GH   Small company   \n",
       "1548                 MK             0               MK   Small company   \n",
       "\n",
       "        remote-ratio  \n",
       "3669  Work from site  \n",
       "3646          Hybrid  \n",
       "3574          Hybrid  \n",
       "3475          Hybrid  \n",
       "2966          Hybrid  \n",
       "...              ...  \n",
       "3681          Hybrid  \n",
       "2589  Work from site  \n",
       "2933          Hybrid  \n",
       "573          Remotly  \n",
       "1548         Remotly  \n",
       "\n",
       "[2584 rows x 12 columns]"
      ]
     },
     "execution_count": 16,
     "metadata": {},
     "output_type": "execute_result"
    }
   ],
   "source": [
    "data.drop_duplicates(keep='last',inplace=True)\n",
    "data"
   ]
  },
  {
   "cell_type": "code",
   "execution_count": 17,
   "id": "ff97caab",
   "metadata": {
    "execution": {
     "iopub.execute_input": "2024-01-11T04:45:33.846312Z",
     "iopub.status.busy": "2024-01-11T04:45:33.846043Z",
     "iopub.status.idle": "2024-01-11T04:45:33.866098Z",
     "shell.execute_reply": "2024-01-11T04:45:33.865245Z"
    },
    "papermill": {
     "duration": 0.030332,
     "end_time": "2024-01-11T04:45:33.867803",
     "exception": false,
     "start_time": "2024-01-11T04:45:33.837471",
     "status": "completed"
    },
    "tags": []
   },
   "outputs": [
    {
     "data": {
      "text/html": [
       "<div>\n",
       "<style scoped>\n",
       "    .dataframe tbody tr th:only-of-type {\n",
       "        vertical-align: middle;\n",
       "    }\n",
       "\n",
       "    .dataframe tbody tr th {\n",
       "        vertical-align: top;\n",
       "    }\n",
       "\n",
       "    .dataframe thead th {\n",
       "        text-align: right;\n",
       "    }\n",
       "</style>\n",
       "<table border=\"1\" class=\"dataframe\">\n",
       "  <thead>\n",
       "    <tr style=\"text-align: right;\">\n",
       "      <th></th>\n",
       "      <th>work_year</th>\n",
       "      <th>experience_level</th>\n",
       "      <th>employment_type</th>\n",
       "      <th>job_title</th>\n",
       "      <th>salary</th>\n",
       "      <th>salary_currency</th>\n",
       "      <th>salary_in_usd</th>\n",
       "      <th>employee_residence</th>\n",
       "      <th>remote_ratio</th>\n",
       "      <th>company_location</th>\n",
       "      <th>company_size</th>\n",
       "      <th>remote-ratio</th>\n",
       "    </tr>\n",
       "  </thead>\n",
       "  <tbody>\n",
       "    <tr>\n",
       "      <th>3669</th>\n",
       "      <td>2021</td>\n",
       "      <td>Mid-level</td>\n",
       "      <td>Full time</td>\n",
       "      <td>Data Scientist</td>\n",
       "      <td>30400000</td>\n",
       "      <td>CLP</td>\n",
       "      <td>40038</td>\n",
       "      <td>CL</td>\n",
       "      <td>100</td>\n",
       "      <td>CL</td>\n",
       "      <td>Large company</td>\n",
       "      <td>Work from site</td>\n",
       "    </tr>\n",
       "    <tr>\n",
       "      <th>3646</th>\n",
       "      <td>2020</td>\n",
       "      <td>Mid-level</td>\n",
       "      <td>Full time</td>\n",
       "      <td>Data Scientist</td>\n",
       "      <td>11000000</td>\n",
       "      <td>HUF</td>\n",
       "      <td>35735</td>\n",
       "      <td>HU</td>\n",
       "      <td>50</td>\n",
       "      <td>HU</td>\n",
       "      <td>Large company</td>\n",
       "      <td>Hybrid</td>\n",
       "    </tr>\n",
       "    <tr>\n",
       "      <th>3574</th>\n",
       "      <td>2021</td>\n",
       "      <td>Mid-level</td>\n",
       "      <td>Full time</td>\n",
       "      <td>BI Data Analyst</td>\n",
       "      <td>11000000</td>\n",
       "      <td>HUF</td>\n",
       "      <td>36259</td>\n",
       "      <td>HU</td>\n",
       "      <td>50</td>\n",
       "      <td>US</td>\n",
       "      <td>Large company</td>\n",
       "      <td>Hybrid</td>\n",
       "    </tr>\n",
       "    <tr>\n",
       "      <th>3475</th>\n",
       "      <td>2021</td>\n",
       "      <td>Mid-level</td>\n",
       "      <td>Full time</td>\n",
       "      <td>ML Engineer</td>\n",
       "      <td>8500000</td>\n",
       "      <td>JPY</td>\n",
       "      <td>77364</td>\n",
       "      <td>JP</td>\n",
       "      <td>50</td>\n",
       "      <td>JP</td>\n",
       "      <td>Small company</td>\n",
       "      <td>Hybrid</td>\n",
       "    </tr>\n",
       "    <tr>\n",
       "      <th>2966</th>\n",
       "      <td>2022</td>\n",
       "      <td>Senior</td>\n",
       "      <td>Full time</td>\n",
       "      <td>Lead Machine Learning Engineer</td>\n",
       "      <td>7500000</td>\n",
       "      <td>INR</td>\n",
       "      <td>95386</td>\n",
       "      <td>IN</td>\n",
       "      <td>50</td>\n",
       "      <td>IN</td>\n",
       "      <td>Large company</td>\n",
       "      <td>Hybrid</td>\n",
       "    </tr>\n",
       "    <tr>\n",
       "      <th>...</th>\n",
       "      <td>...</td>\n",
       "      <td>...</td>\n",
       "      <td>...</td>\n",
       "      <td>...</td>\n",
       "      <td>...</td>\n",
       "      <td>...</td>\n",
       "      <td>...</td>\n",
       "      <td>...</td>\n",
       "      <td>...</td>\n",
       "      <td>...</td>\n",
       "      <td>...</td>\n",
       "      <td>...</td>\n",
       "    </tr>\n",
       "    <tr>\n",
       "      <th>3681</th>\n",
       "      <td>2020</td>\n",
       "      <td>Mid-level</td>\n",
       "      <td>Full time</td>\n",
       "      <td>Data Analyst</td>\n",
       "      <td>8000</td>\n",
       "      <td>USD</td>\n",
       "      <td>8000</td>\n",
       "      <td>PK</td>\n",
       "      <td>50</td>\n",
       "      <td>PK</td>\n",
       "      <td>Large company</td>\n",
       "      <td>Hybrid</td>\n",
       "    </tr>\n",
       "    <tr>\n",
       "      <th>2589</th>\n",
       "      <td>2022</td>\n",
       "      <td>Senior</td>\n",
       "      <td>Full time</td>\n",
       "      <td>Product Data Scientist</td>\n",
       "      <td>8000</td>\n",
       "      <td>USD</td>\n",
       "      <td>8000</td>\n",
       "      <td>IN</td>\n",
       "      <td>100</td>\n",
       "      <td>SG</td>\n",
       "      <td>Large company</td>\n",
       "      <td>Work from site</td>\n",
       "    </tr>\n",
       "    <tr>\n",
       "      <th>2933</th>\n",
       "      <td>2022</td>\n",
       "      <td>Mid-level</td>\n",
       "      <td>Contractual</td>\n",
       "      <td>Analytics Engineer</td>\n",
       "      <td>7500</td>\n",
       "      <td>USD</td>\n",
       "      <td>7500</td>\n",
       "      <td>BO</td>\n",
       "      <td>50</td>\n",
       "      <td>BO</td>\n",
       "      <td>Medium company</td>\n",
       "      <td>Hybrid</td>\n",
       "    </tr>\n",
       "    <tr>\n",
       "      <th>573</th>\n",
       "      <td>2023</td>\n",
       "      <td>ENTRY level</td>\n",
       "      <td>Full time</td>\n",
       "      <td>Autonomous Vehicle Technician</td>\n",
       "      <td>7000</td>\n",
       "      <td>USD</td>\n",
       "      <td>7000</td>\n",
       "      <td>GH</td>\n",
       "      <td>0</td>\n",
       "      <td>GH</td>\n",
       "      <td>Small company</td>\n",
       "      <td>Remotly</td>\n",
       "    </tr>\n",
       "    <tr>\n",
       "      <th>1548</th>\n",
       "      <td>2022</td>\n",
       "      <td>ENTRY level</td>\n",
       "      <td>Full time</td>\n",
       "      <td>AI Developer</td>\n",
       "      <td>6000</td>\n",
       "      <td>EUR</td>\n",
       "      <td>6304</td>\n",
       "      <td>MK</td>\n",
       "      <td>0</td>\n",
       "      <td>MK</td>\n",
       "      <td>Small company</td>\n",
       "      <td>Remotly</td>\n",
       "    </tr>\n",
       "  </tbody>\n",
       "</table>\n",
       "<p>2584 rows × 12 columns</p>\n",
       "</div>"
      ],
      "text/plain": [
       "      work_year experience_level employment_type  \\\n",
       "3669       2021        Mid-level       Full time   \n",
       "3646       2020        Mid-level       Full time   \n",
       "3574       2021        Mid-level       Full time   \n",
       "3475       2021        Mid-level       Full time   \n",
       "2966       2022           Senior       Full time   \n",
       "...         ...              ...             ...   \n",
       "3681       2020        Mid-level       Full time   \n",
       "2589       2022           Senior       Full time   \n",
       "2933       2022        Mid-level     Contractual   \n",
       "573        2023      ENTRY level       Full time   \n",
       "1548       2022      ENTRY level       Full time   \n",
       "\n",
       "                           job_title    salary salary_currency  salary_in_usd  \\\n",
       "3669                  Data Scientist  30400000             CLP          40038   \n",
       "3646                  Data Scientist  11000000             HUF          35735   \n",
       "3574                 BI Data Analyst  11000000             HUF          36259   \n",
       "3475                     ML Engineer   8500000             JPY          77364   \n",
       "2966  Lead Machine Learning Engineer   7500000             INR          95386   \n",
       "...                              ...       ...             ...            ...   \n",
       "3681                    Data Analyst      8000             USD           8000   \n",
       "2589          Product Data Scientist      8000             USD           8000   \n",
       "2933              Analytics Engineer      7500             USD           7500   \n",
       "573    Autonomous Vehicle Technician      7000             USD           7000   \n",
       "1548                    AI Developer      6000             EUR           6304   \n",
       "\n",
       "     employee_residence  remote_ratio company_location    company_size  \\\n",
       "3669                 CL           100               CL   Large company   \n",
       "3646                 HU            50               HU   Large company   \n",
       "3574                 HU            50               US   Large company   \n",
       "3475                 JP            50               JP   Small company   \n",
       "2966                 IN            50               IN   Large company   \n",
       "...                 ...           ...              ...             ...   \n",
       "3681                 PK            50               PK   Large company   \n",
       "2589                 IN           100               SG   Large company   \n",
       "2933                 BO            50               BO  Medium company   \n",
       "573                  GH             0               GH   Small company   \n",
       "1548                 MK             0               MK   Small company   \n",
       "\n",
       "        remote-ratio  \n",
       "3669  Work from site  \n",
       "3646          Hybrid  \n",
       "3574          Hybrid  \n",
       "3475          Hybrid  \n",
       "2966          Hybrid  \n",
       "...              ...  \n",
       "3681          Hybrid  \n",
       "2589  Work from site  \n",
       "2933          Hybrid  \n",
       "573          Remotly  \n",
       "1548         Remotly  \n",
       "\n",
       "[2584 rows x 12 columns]"
      ]
     },
     "execution_count": 17,
     "metadata": {},
     "output_type": "execute_result"
    }
   ],
   "source": [
    "data.drop_duplicates(keep='last',inplace=True)\n",
    "data"
   ]
  },
  {
   "cell_type": "code",
   "execution_count": 18,
   "id": "ed11a064",
   "metadata": {
    "execution": {
     "iopub.execute_input": "2024-01-11T04:45:33.885343Z",
     "iopub.status.busy": "2024-01-11T04:45:33.885034Z",
     "iopub.status.idle": "2024-01-11T04:45:33.889636Z",
     "shell.execute_reply": "2024-01-11T04:45:33.889108Z"
    },
    "papermill": {
     "duration": 0.014741,
     "end_time": "2024-01-11T04:45:33.891094",
     "exception": false,
     "start_time": "2024-01-11T04:45:33.876353",
     "status": "completed"
    },
    "tags": []
   },
   "outputs": [
    {
     "data": {
      "text/plain": [
       "(2584, 12)"
      ]
     },
     "execution_count": 18,
     "metadata": {},
     "output_type": "execute_result"
    }
   ],
   "source": [
    "data.shape"
   ]
  },
  {
   "cell_type": "code",
   "execution_count": 19,
   "id": "a1e7acf4",
   "metadata": {
    "execution": {
     "iopub.execute_input": "2024-01-11T04:45:33.909411Z",
     "iopub.status.busy": "2024-01-11T04:45:33.909045Z",
     "iopub.status.idle": "2024-01-11T04:45:33.915593Z",
     "shell.execute_reply": "2024-01-11T04:45:33.914467Z"
    },
    "papermill": {
     "duration": 0.018038,
     "end_time": "2024-01-11T04:45:33.917310",
     "exception": false,
     "start_time": "2024-01-11T04:45:33.899272",
     "status": "completed"
    },
    "tags": []
   },
   "outputs": [
    {
     "data": {
      "text/plain": [
       "array(['Mid-level', 'Senior', 'ENTRY level', 'Excecutive-level'],\n",
       "      dtype=object)"
      ]
     },
     "execution_count": 19,
     "metadata": {},
     "output_type": "execute_result"
    }
   ],
   "source": [
    "data.experience_level.unique()"
   ]
  },
  {
   "cell_type": "code",
   "execution_count": 20,
   "id": "b51e3a4a",
   "metadata": {
    "execution": {
     "iopub.execute_input": "2024-01-11T04:45:33.935481Z",
     "iopub.status.busy": "2024-01-11T04:45:33.935132Z",
     "iopub.status.idle": "2024-01-11T04:45:33.940372Z",
     "shell.execute_reply": "2024-01-11T04:45:33.939812Z"
    },
    "papermill": {
     "duration": 0.016249,
     "end_time": "2024-01-11T04:45:33.941827",
     "exception": false,
     "start_time": "2024-01-11T04:45:33.925578",
     "status": "completed"
    },
    "tags": []
   },
   "outputs": [
    {
     "data": {
      "text/plain": [
       "array([2021, 2020, 2022, 2023])"
      ]
     },
     "execution_count": 20,
     "metadata": {},
     "output_type": "execute_result"
    }
   ],
   "source": [
    "data['work_year'].unique()"
   ]
  },
  {
   "cell_type": "markdown",
   "id": "843ea95f",
   "metadata": {
    "papermill": {
     "duration": 0.007971,
     "end_time": "2024-01-11T04:45:33.957961",
     "exception": false,
     "start_time": "2024-01-11T04:45:33.949990",
     "status": "completed"
    },
    "tags": []
   },
   "source": [
    "**Visualization**"
   ]
  },
  {
   "cell_type": "code",
   "execution_count": 21,
   "id": "8a434f65",
   "metadata": {
    "execution": {
     "iopub.execute_input": "2024-01-11T04:45:33.976122Z",
     "iopub.status.busy": "2024-01-11T04:45:33.975708Z",
     "iopub.status.idle": "2024-01-11T04:45:34.181816Z",
     "shell.execute_reply": "2024-01-11T04:45:34.180560Z"
    },
    "papermill": {
     "duration": 0.218064,
     "end_time": "2024-01-11T04:45:34.184365",
     "exception": false,
     "start_time": "2024-01-11T04:45:33.966301",
     "status": "completed"
    },
    "tags": []
   },
   "outputs": [
    {
     "data": {
      "text/plain": [
       "<Axes: xlabel='company_size', ylabel='count'>"
      ]
     },
     "execution_count": 21,
     "metadata": {},
     "output_type": "execute_result"
    },
    {
     "data": {
      "image/png": "[encoded data removed]",
      "text/plain": [
       "<Figure size 800x600 with 1 Axes>"
      ]
     },
     "metadata": {},
     "output_type": "display_data"
    }
   ],
   "source": [
    "plt.figure(figsize=(8,6))\n",
    "sns.countplot(x=\"company_size\",data=data)"
   ]
  },
  {
   "cell_type": "code",
   "execution_count": 22,
   "id": "bd44c814",
   "metadata": {
    "execution": {
     "iopub.execute_input": "2024-01-11T04:45:34.204189Z",
     "iopub.status.busy": "2024-01-11T04:45:34.203341Z",
     "iopub.status.idle": "2024-01-11T04:45:34.500360Z",
     "shell.execute_reply": "2024-01-11T04:45:34.499510Z"
    },
    "papermill": {
     "duration": 0.308621,
     "end_time": "2024-01-11T04:45:34.502260",
     "exception": false,
     "start_time": "2024-01-11T04:45:34.193639",
     "status": "completed"
    },
    "tags": []
   },
   "outputs": [
    {
     "data": {
      "text/plain": [
       "Text(0, 0.5, 'Count')"
      ]
     },
     "execution_count": 22,
     "metadata": {},
     "output_type": "execute_result"
    },
    {
     "data": {
      "image/png": "[encoded data removed]",
      "text/plain": [
       "<Figure size 1800x800 with 1 Axes>"
      ]
     },
     "metadata": {},
     "output_type": "display_data"
    }
   ],
   "source": [
    "plt.figure(figsize=(18,8))\n",
    "sns.countplot(x=\"job_title\",order=data['job_title'].value_counts().index[:10],data=data)\n",
    "plt.title(\"Top 10 Job Title\",fontdict={'fontname':'bold','fontsize':22})\n",
    "plt.xlabel(\"Job Title\",fontdict={'fontname':'bold','fontsize':16})\n",
    "plt.ylabel(\"Count\",fontdict={'fontname':'bold','fontsize':16})"
   ]
  },
  {
   "cell_type": "markdown",
   "id": "c78666b3",
   "metadata": {
    "papermill": {
     "duration": 0.01029,
     "end_time": "2024-01-11T04:45:34.522147",
     "exception": false,
     "start_time": "2024-01-11T04:45:34.511857",
     "status": "completed"
    },
    "tags": []
   },
   "source": [
    "**Display the growth of data science over 4 years.**"
   ]
  },
  {
   "cell_type": "code",
   "execution_count": 23,
   "id": "37fea9d2",
   "metadata": {
    "execution": {
     "iopub.execute_input": "2024-01-11T04:45:34.588942Z",
     "iopub.status.busy": "2024-01-11T04:45:34.588590Z",
     "iopub.status.idle": "2024-01-11T04:45:34.595959Z",
     "shell.execute_reply": "2024-01-11T04:45:34.594977Z"
    },
    "papermill": {
     "duration": 0.019444,
     "end_time": "2024-01-11T04:45:34.597635",
     "exception": false,
     "start_time": "2024-01-11T04:45:34.578191",
     "status": "completed"
    },
    "tags": []
   },
   "outputs": [
    {
     "data": {
      "text/plain": [
       "work_year\n",
       "2023    1156\n",
       "2022    1125\n",
       "2021     228\n",
       "2020      75\n",
       "Name: count, dtype: int64"
      ]
     },
     "execution_count": 23,
     "metadata": {},
     "output_type": "execute_result"
    }
   ],
   "source": [
    "work_year=data.work_year.value_counts()\n",
    "work_year"
   ]
  },
  {
   "cell_type": "code",
   "execution_count": 24,
   "id": "0532ce2f",
   "metadata": {
    "execution": {
     "iopub.execute_input": "2024-01-11T04:45:34.620998Z",
     "iopub.status.busy": "2024-01-11T04:45:34.620118Z",
     "iopub.status.idle": "2024-01-11T04:45:34.796651Z",
     "shell.execute_reply": "2024-01-11T04:45:34.795728Z"
    },
    "papermill": {
     "duration": 0.190654,
     "end_time": "2024-01-11T04:45:34.799067",
     "exception": false,
     "start_time": "2024-01-11T04:45:34.608413",
     "status": "completed"
    },
    "tags": []
   },
   "outputs": [
    {
     "data": {
      "image/png": "[encoded data removed]",
      "text/plain": [
       "<Figure size 1000x600 with 1 Axes>"
      ]
     },
     "metadata": {},
     "output_type": "display_data"
    }
   ],
   "source": [
    "plt.figure(figsize=(10,6))\n",
    "sns.barplot(y=work_year.values,x=work_year.index)\n",
    "plt.xticks(rotation=0)\n",
    "plt.title(\"The Growth of Data Science Employees Over 4 Years\")\n",
    "plt.ylabel('Counts')\n",
    "plt.xlabel('Year')\n",
    "plt.show()"
   ]
  },
  {
   "cell_type": "code",
   "execution_count": 25,
   "id": "954b5931",
   "metadata": {
    "execution": {
     "iopub.execute_input": "2024-01-11T04:45:34.820933Z",
     "iopub.status.busy": "2024-01-11T04:45:34.820058Z",
     "iopub.status.idle": "2024-01-11T04:45:34.969553Z",
     "shell.execute_reply": "2024-01-11T04:45:34.968235Z"
    },
    "papermill": {
     "duration": 0.162406,
     "end_time": "2024-01-11T04:45:34.971691",
     "exception": false,
     "start_time": "2024-01-11T04:45:34.809285",
     "status": "completed"
    },
    "tags": []
   },
   "outputs": [
    {
     "data": {
      "image/png": "[encoded data removed]",
      "text/plain": [
       "<Figure size 900x600 with 1 Axes>"
      ]
     },
     "metadata": {},
     "output_type": "display_data"
    }
   ],
   "source": [
    "#pie chart to show distributions\n",
    "job_titles=data.job_title.value_counts().head(6)\n",
    "plt.figure(figsize=(9,6))\n",
    "plt.title(\"Distribution of job title in Data Science\")\n",
    "plt.pie(job_titles,labels=job_titles.index,autopct='%.2f%%');\n"
   ]
  }
 ],
 "metadata": {
  "kaggle": {
   "accelerator": "none",
   "dataSources": [
    {
     "datasetId": 4164244,
     "sourceId": 7199610,
     "sourceType": "datasetVersion"
    }
   ],
   "dockerImageVersionId": 30626,
   "isGpuEnabled": false,
   "isInternetEnabled": true,
   "language": "python",
   "sourceType": "notebook"
  },
  "kernelspec": {
   "display_name": "Python 3",
   "language": "python",
   "name": "python3"
  },
  "language_info": {
   "codemirror_mode": {
    "name": "ipython",
    "version": 3
   },
   "file_extension": ".py",
   "mimetype": "text/x-python",
   "name": "python",
   "nbconvert_exporter": "python",
   "pygments_lexer": "ipython3",
   "version": "3.10.12"
  },
  "papermill": {
   "default_parameters": {},
   "duration": 6.591604,
   "end_time": "2024-01-11T04:45:35.406255",
   "environment_variables": {},
   "exception": null,
   "input_path": "__notebook__.ipynb",
   "output_path": "__notebook__.ipynb",
   "parameters": {},
   "start_time": "2024-01-11T04:45:28.814651",
   "version": "2.4.0"
  }
 },
 "nbformat": 4,
 "nbformat_minor": 5
}
