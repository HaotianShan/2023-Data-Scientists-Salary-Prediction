{
 "cells": [
  {
   "cell_type": "markdown",
   "id": "29a3c23c",
   "metadata": {
    "papermill": {
     "duration": 0.012944,
     "end_time": "2024-01-11T04:48:38.191706",
     "exception": false,
     "start_time": "2024-01-11T04:48:38.178762",
     "status": "completed"
    },
    "tags": []
   },
   "source": [
    "# Importing necessary Libraries"
   ]
  },
  {
   "cell_type": "code",
   "execution_count": 1,
   "id": "985f2dba",
   "metadata": {
    "execution": {
     "iopub.execute_input": "2024-01-11T04:48:38.219665Z",
     "iopub.status.busy": "2024-01-11T04:48:38.219233Z",
     "iopub.status.idle": "2024-01-11T04:48:39.041403Z",
     "shell.execute_reply": "2024-01-11T04:48:39.040083Z"
    },
    "papermill": {
     "duration": 0.839614,
     "end_time": "2024-01-11T04:48:39.044430",
     "exception": false,
     "start_time": "2024-01-11T04:48:38.204816",
     "status": "completed"
    },
    "tags": []
   },
   "outputs": [],
   "source": [
    "import pandas as pd\n",
    "import numpy as np"
   ]
  },
  {
   "cell_type": "markdown",
   "id": "c41bc690",
   "metadata": {
    "papermill": {
     "duration": 0.012435,
     "end_time": "2024-01-11T04:48:39.070234",
     "exception": false,
     "start_time": "2024-01-11T04:48:39.057799",
     "status": "completed"
    },
    "tags": []
   },
   "source": [
    "## Reading the data"
   ]
  },
  {
   "cell_type": "code",
   "execution_count": 2,
   "id": "4b90e0a6",
   "metadata": {
    "execution": {
     "iopub.execute_input": "2024-01-11T04:48:39.098434Z",
     "iopub.status.busy": "2024-01-11T04:48:39.097927Z",
     "iopub.status.idle": "2024-01-11T04:48:39.131174Z",
     "shell.execute_reply": "2024-01-11T04:48:39.130141Z"
    },
    "papermill": {
     "duration": 0.05084,
     "end_time": "2024-01-11T04:48:39.133832",
     "exception": false,
     "start_time": "2024-01-11T04:48:39.082992",
     "status": "completed"
    },
    "tags": []
   },
   "outputs": [],
   "source": [
    "dataset=pd.read_csv(\"/kaggle/input/2023-data-scientists-salary/ds_salaries.csv\")"
   ]
  },
  {
   "cell_type": "code",
   "execution_count": 3,
   "id": "44f06e12",
   "metadata": {
    "execution": {
     "iopub.execute_input": "2024-01-11T04:48:39.161508Z",
     "iopub.status.busy": "2024-01-11T04:48:39.160952Z",
     "iopub.status.idle": "2024-01-11T04:48:39.196943Z",
     "shell.execute_reply": "2024-01-11T04:48:39.195560Z"
    },
    "papermill": {
     "duration": 0.05291,
     "end_time": "2024-01-11T04:48:39.199678",
     "exception": false,
     "start_time": "2024-01-11T04:48:39.146768",
     "status": "completed"
    },
    "tags": []
   },
   "outputs": [
    {
     "data": {
      "text/html": [
       "<div>\n",
       "<style scoped>\n",
       "    .dataframe tbody tr th:only-of-type {\n",
       "        vertical-align: middle;\n",
       "    }\n",
       "\n",
       "    .dataframe tbody tr th {\n",
       "        vertical-align: top;\n",
       "    }\n",
       "\n",
       "    .dataframe thead th {\n",
       "        text-align: right;\n",
       "    }\n",
       "</style>\n",
       "<table border=\"1\" class=\"dataframe\">\n",
       "  <thead>\n",
       "    <tr style=\"text-align: right;\">\n",
       "      <th></th>\n",
       "      <th>work_year</th>\n",
       "      <th>experience_level</th>\n",
       "      <th>employment_type</th>\n",
       "      <th>job_title</th>\n",
       "      <th>salary</th>\n",
       "      <th>salary_currency</th>\n",
       "      <th>salary_in_usd</th>\n",
       "      <th>employee_residence</th>\n",
       "      <th>remote_ratio</th>\n",
       "      <th>company_location</th>\n",
       "      <th>company_size</th>\n",
       "    </tr>\n",
       "  </thead>\n",
       "  <tbody>\n",
       "    <tr>\n",
       "      <th>0</th>\n",
       "      <td>2023</td>\n",
       "      <td>SE</td>\n",
       "      <td>FT</td>\n",
       "      <td>Principal Data Scientist</td>\n",
       "      <td>80000</td>\n",
       "      <td>EUR</td>\n",
       "      <td>85847</td>\n",
       "      <td>ES</td>\n",
       "      <td>100</td>\n",
       "      <td>ES</td>\n",
       "      <td>L</td>\n",
       "    </tr>\n",
       "    <tr>\n",
       "      <th>1</th>\n",
       "      <td>2023</td>\n",
       "      <td>MI</td>\n",
       "      <td>CT</td>\n",
       "      <td>ML Engineer</td>\n",
       "      <td>30000</td>\n",
       "      <td>USD</td>\n",
       "      <td>30000</td>\n",
       "      <td>US</td>\n",
       "      <td>100</td>\n",
       "      <td>US</td>\n",
       "      <td>S</td>\n",
       "    </tr>\n",
       "    <tr>\n",
       "      <th>2</th>\n",
       "      <td>2023</td>\n",
       "      <td>MI</td>\n",
       "      <td>CT</td>\n",
       "      <td>ML Engineer</td>\n",
       "      <td>25500</td>\n",
       "      <td>USD</td>\n",
       "      <td>25500</td>\n",
       "      <td>US</td>\n",
       "      <td>100</td>\n",
       "      <td>US</td>\n",
       "      <td>S</td>\n",
       "    </tr>\n",
       "    <tr>\n",
       "      <th>3</th>\n",
       "      <td>2023</td>\n",
       "      <td>SE</td>\n",
       "      <td>FT</td>\n",
       "      <td>Data Scientist</td>\n",
       "      <td>175000</td>\n",
       "      <td>USD</td>\n",
       "      <td>175000</td>\n",
       "      <td>CA</td>\n",
       "      <td>100</td>\n",
       "      <td>CA</td>\n",
       "      <td>M</td>\n",
       "    </tr>\n",
       "    <tr>\n",
       "      <th>4</th>\n",
       "      <td>2023</td>\n",
       "      <td>SE</td>\n",
       "      <td>FT</td>\n",
       "      <td>Data Scientist</td>\n",
       "      <td>120000</td>\n",
       "      <td>USD</td>\n",
       "      <td>120000</td>\n",
       "      <td>CA</td>\n",
       "      <td>100</td>\n",
       "      <td>CA</td>\n",
       "      <td>M</td>\n",
       "    </tr>\n",
       "    <tr>\n",
       "      <th>...</th>\n",
       "      <td>...</td>\n",
       "      <td>...</td>\n",
       "      <td>...</td>\n",
       "      <td>...</td>\n",
       "      <td>...</td>\n",
       "      <td>...</td>\n",
       "      <td>...</td>\n",
       "      <td>...</td>\n",
       "      <td>...</td>\n",
       "      <td>...</td>\n",
       "      <td>...</td>\n",
       "    </tr>\n",
       "    <tr>\n",
       "      <th>3750</th>\n",
       "      <td>2020</td>\n",
       "      <td>SE</td>\n",
       "      <td>FT</td>\n",
       "      <td>Data Scientist</td>\n",
       "      <td>412000</td>\n",
       "      <td>USD</td>\n",
       "      <td>412000</td>\n",
       "      <td>US</td>\n",
       "      <td>100</td>\n",
       "      <td>US</td>\n",
       "      <td>L</td>\n",
       "    </tr>\n",
       "    <tr>\n",
       "      <th>3751</th>\n",
       "      <td>2021</td>\n",
       "      <td>MI</td>\n",
       "      <td>FT</td>\n",
       "      <td>Principal Data Scientist</td>\n",
       "      <td>151000</td>\n",
       "      <td>USD</td>\n",
       "      <td>151000</td>\n",
       "      <td>US</td>\n",
       "      <td>100</td>\n",
       "      <td>US</td>\n",
       "      <td>L</td>\n",
       "    </tr>\n",
       "    <tr>\n",
       "      <th>3752</th>\n",
       "      <td>2020</td>\n",
       "      <td>EN</td>\n",
       "      <td>FT</td>\n",
       "      <td>Data Scientist</td>\n",
       "      <td>105000</td>\n",
       "      <td>USD</td>\n",
       "      <td>105000</td>\n",
       "      <td>US</td>\n",
       "      <td>100</td>\n",
       "      <td>US</td>\n",
       "      <td>S</td>\n",
       "    </tr>\n",
       "    <tr>\n",
       "      <th>3753</th>\n",
       "      <td>2020</td>\n",
       "      <td>EN</td>\n",
       "      <td>CT</td>\n",
       "      <td>Business Data Analyst</td>\n",
       "      <td>100000</td>\n",
       "      <td>USD</td>\n",
       "      <td>100000</td>\n",
       "      <td>US</td>\n",
       "      <td>100</td>\n",
       "      <td>US</td>\n",
       "      <td>L</td>\n",
       "    </tr>\n",
       "    <tr>\n",
       "      <th>3754</th>\n",
       "      <td>2021</td>\n",
       "      <td>SE</td>\n",
       "      <td>FT</td>\n",
       "      <td>Data Science Manager</td>\n",
       "      <td>7000000</td>\n",
       "      <td>INR</td>\n",
       "      <td>94665</td>\n",
       "      <td>IN</td>\n",
       "      <td>50</td>\n",
       "      <td>IN</td>\n",
       "      <td>L</td>\n",
       "    </tr>\n",
       "  </tbody>\n",
       "</table>\n",
       "<p>3755 rows × 11 columns</p>\n",
       "</div>"
      ],
      "text/plain": [
       "      work_year experience_level employment_type                 job_title  \\\n",
       "0          2023               SE              FT  Principal Data Scientist   \n",
       "1          2023               MI              CT               ML Engineer   \n",
       "2          2023               MI              CT               ML Engineer   \n",
       "3          2023               SE              FT            Data Scientist   \n",
       "4          2023               SE              FT            Data Scientist   \n",
       "...         ...              ...             ...                       ...   \n",
       "3750       2020               SE              FT            Data Scientist   \n",
       "3751       2021               MI              FT  Principal Data Scientist   \n",
       "3752       2020               EN              FT            Data Scientist   \n",
       "3753       2020               EN              CT     Business Data Analyst   \n",
       "3754       2021               SE              FT      Data Science Manager   \n",
       "\n",
       "       salary salary_currency  salary_in_usd employee_residence  remote_ratio  \\\n",
       "0       80000             EUR          85847                 ES           100   \n",
       "1       30000             USD          30000                 US           100   \n",
       "2       25500             USD          25500                 US           100   \n",
       "3      175000             USD         175000                 CA           100   \n",
       "4      120000             USD         120000                 CA           100   \n",
       "...       ...             ...            ...                ...           ...   \n",
       "3750   412000             USD         412000                 US           100   \n",
       "3751   151000             USD         151000                 US           100   \n",
       "3752   105000             USD         105000                 US           100   \n",
       "3753   100000             USD         100000                 US           100   \n",
       "3754  7000000             INR          94665                 IN            50   \n",
       "\n",
       "     company_location company_size  \n",
       "0                  ES            L  \n",
       "1                  US            S  \n",
       "2                  US            S  \n",
       "3                  CA            M  \n",
       "4                  CA            M  \n",
       "...               ...          ...  \n",
       "3750               US            L  \n",
       "3751               US            L  \n",
       "3752               US            S  \n",
       "3753               US            L  \n",
       "3754               IN            L  \n",
       "\n",
       "[3755 rows x 11 columns]"
      ]
     },
     "execution_count": 3,
     "metadata": {},
     "output_type": "execute_result"
    }
   ],
   "source": [
    "dataset"
   ]
  },
  {
   "cell_type": "markdown",
   "id": "cb84ac8a",
   "metadata": {
    "papermill": {
     "duration": 0.013625,
     "end_time": "2024-01-11T04:48:39.227021",
     "exception": false,
     "start_time": "2024-01-11T04:48:39.213396",
     "status": "completed"
    },
    "tags": []
   },
   "source": [
    "### Dropping un-necessary columns to make data more informative"
   ]
  },
  {
   "cell_type": "code",
   "execution_count": 4,
   "id": "18da66c2",
   "metadata": {
    "execution": {
     "iopub.execute_input": "2024-01-11T04:48:39.256204Z",
     "iopub.status.busy": "2024-01-11T04:48:39.255803Z",
     "iopub.status.idle": "2024-01-11T04:48:39.277217Z",
     "shell.execute_reply": "2024-01-11T04:48:39.276102Z"
    },
    "papermill": {
     "duration": 0.038568,
     "end_time": "2024-01-11T04:48:39.279606",
     "exception": false,
     "start_time": "2024-01-11T04:48:39.241038",
     "status": "completed"
    },
    "tags": []
   },
   "outputs": [
    {
     "data": {
      "text/html": [
       "<div>\n",
       "<style scoped>\n",
       "    .dataframe tbody tr th:only-of-type {\n",
       "        vertical-align: middle;\n",
       "    }\n",
       "\n",
       "    .dataframe tbody tr th {\n",
       "        vertical-align: top;\n",
       "    }\n",
       "\n",
       "    .dataframe thead th {\n",
       "        text-align: right;\n",
       "    }\n",
       "</style>\n",
       "<table border=\"1\" class=\"dataframe\">\n",
       "  <thead>\n",
       "    <tr style=\"text-align: right;\">\n",
       "      <th></th>\n",
       "      <th>experience_level</th>\n",
       "      <th>employment_type</th>\n",
       "      <th>job_title</th>\n",
       "      <th>salary</th>\n",
       "      <th>remote_ratio</th>\n",
       "      <th>company_location</th>\n",
       "      <th>company_size</th>\n",
       "    </tr>\n",
       "  </thead>\n",
       "  <tbody>\n",
       "    <tr>\n",
       "      <th>0</th>\n",
       "      <td>SE</td>\n",
       "      <td>FT</td>\n",
       "      <td>Principal Data Scientist</td>\n",
       "      <td>80000</td>\n",
       "      <td>100</td>\n",
       "      <td>ES</td>\n",
       "      <td>L</td>\n",
       "    </tr>\n",
       "    <tr>\n",
       "      <th>1</th>\n",
       "      <td>MI</td>\n",
       "      <td>CT</td>\n",
       "      <td>ML Engineer</td>\n",
       "      <td>30000</td>\n",
       "      <td>100</td>\n",
       "      <td>US</td>\n",
       "      <td>S</td>\n",
       "    </tr>\n",
       "    <tr>\n",
       "      <th>2</th>\n",
       "      <td>MI</td>\n",
       "      <td>CT</td>\n",
       "      <td>ML Engineer</td>\n",
       "      <td>25500</td>\n",
       "      <td>100</td>\n",
       "      <td>US</td>\n",
       "      <td>S</td>\n",
       "    </tr>\n",
       "    <tr>\n",
       "      <th>3</th>\n",
       "      <td>SE</td>\n",
       "      <td>FT</td>\n",
       "      <td>Data Scientist</td>\n",
       "      <td>175000</td>\n",
       "      <td>100</td>\n",
       "      <td>CA</td>\n",
       "      <td>M</td>\n",
       "    </tr>\n",
       "    <tr>\n",
       "      <th>4</th>\n",
       "      <td>SE</td>\n",
       "      <td>FT</td>\n",
       "      <td>Data Scientist</td>\n",
       "      <td>120000</td>\n",
       "      <td>100</td>\n",
       "      <td>CA</td>\n",
       "      <td>M</td>\n",
       "    </tr>\n",
       "    <tr>\n",
       "      <th>...</th>\n",
       "      <td>...</td>\n",
       "      <td>...</td>\n",
       "      <td>...</td>\n",
       "      <td>...</td>\n",
       "      <td>...</td>\n",
       "      <td>...</td>\n",
       "      <td>...</td>\n",
       "    </tr>\n",
       "    <tr>\n",
       "      <th>3750</th>\n",
       "      <td>SE</td>\n",
       "      <td>FT</td>\n",
       "      <td>Data Scientist</td>\n",
       "      <td>412000</td>\n",
       "      <td>100</td>\n",
       "      <td>US</td>\n",
       "      <td>L</td>\n",
       "    </tr>\n",
       "    <tr>\n",
       "      <th>3751</th>\n",
       "      <td>MI</td>\n",
       "      <td>FT</td>\n",
       "      <td>Principal Data Scientist</td>\n",
       "      <td>151000</td>\n",
       "      <td>100</td>\n",
       "      <td>US</td>\n",
       "      <td>L</td>\n",
       "    </tr>\n",
       "    <tr>\n",
       "      <th>3752</th>\n",
       "      <td>EN</td>\n",
       "      <td>FT</td>\n",
       "      <td>Data Scientist</td>\n",
       "      <td>105000</td>\n",
       "      <td>100</td>\n",
       "      <td>US</td>\n",
       "      <td>S</td>\n",
       "    </tr>\n",
       "    <tr>\n",
       "      <th>3753</th>\n",
       "      <td>EN</td>\n",
       "      <td>CT</td>\n",
       "      <td>Business Data Analyst</td>\n",
       "      <td>100000</td>\n",
       "      <td>100</td>\n",
       "      <td>US</td>\n",
       "      <td>L</td>\n",
       "    </tr>\n",
       "    <tr>\n",
       "      <th>3754</th>\n",
       "      <td>SE</td>\n",
       "      <td>FT</td>\n",
       "      <td>Data Science Manager</td>\n",
       "      <td>7000000</td>\n",
       "      <td>50</td>\n",
       "      <td>IN</td>\n",
       "      <td>L</td>\n",
       "    </tr>\n",
       "  </tbody>\n",
       "</table>\n",
       "<p>3755 rows × 7 columns</p>\n",
       "</div>"
      ],
      "text/plain": [
       "     experience_level employment_type                 job_title   salary  \\\n",
       "0                  SE              FT  Principal Data Scientist    80000   \n",
       "1                  MI              CT               ML Engineer    30000   \n",
       "2                  MI              CT               ML Engineer    25500   \n",
       "3                  SE              FT            Data Scientist   175000   \n",
       "4                  SE              FT            Data Scientist   120000   \n",
       "...               ...             ...                       ...      ...   \n",
       "3750               SE              FT            Data Scientist   412000   \n",
       "3751               MI              FT  Principal Data Scientist   151000   \n",
       "3752               EN              FT            Data Scientist   105000   \n",
       "3753               EN              CT     Business Data Analyst   100000   \n",
       "3754               SE              FT      Data Science Manager  7000000   \n",
       "\n",
       "      remote_ratio company_location company_size  \n",
       "0              100               ES            L  \n",
       "1              100               US            S  \n",
       "2              100               US            S  \n",
       "3              100               CA            M  \n",
       "4              100               CA            M  \n",
       "...            ...              ...          ...  \n",
       "3750           100               US            L  \n",
       "3751           100               US            L  \n",
       "3752           100               US            S  \n",
       "3753           100               US            L  \n",
       "3754            50               IN            L  \n",
       "\n",
       "[3755 rows x 7 columns]"
      ]
     },
     "execution_count": 4,
     "metadata": {},
     "output_type": "execute_result"
    }
   ],
   "source": [
    "dataset=dataset.drop(['work_year','salary_currency','salary_in_usd','employee_residence'],axis=1)\n",
    "dataset"
   ]
  },
  {
   "cell_type": "markdown",
   "id": "15625409",
   "metadata": {
    "papermill": {
     "duration": 0.013232,
     "end_time": "2024-01-11T04:48:39.306355",
     "exception": false,
     "start_time": "2024-01-11T04:48:39.293123",
     "status": "completed"
    },
    "tags": []
   },
   "source": [
    "### Making Salary as Label "
   ]
  },
  {
   "cell_type": "code",
   "execution_count": 5,
   "id": "6e548ff5",
   "metadata": {
    "execution": {
     "iopub.execute_input": "2024-01-11T04:48:39.336114Z",
     "iopub.status.busy": "2024-01-11T04:48:39.335028Z",
     "iopub.status.idle": "2024-01-11T04:48:39.341826Z",
     "shell.execute_reply": "2024-01-11T04:48:39.340771Z"
    },
    "papermill": {
     "duration": 0.023953,
     "end_time": "2024-01-11T04:48:39.344250",
     "exception": false,
     "start_time": "2024-01-11T04:48:39.320297",
     "status": "completed"
    },
    "tags": []
   },
   "outputs": [
    {
     "name": "stderr",
     "output_type": "stream",
     "text": [
      "/tmp/ipykernel_19/1118461398.py:2: UserWarning: Pandas doesn't allow columns to be created via a new attribute name - see https://pandas.pydata.org/pandas-docs/stable/indexing.html#attribute-access\n",
      "  y.column=['salary']\n"
     ]
    }
   ],
   "source": [
    "y=pd.DataFrame(dataset.salary)\n",
    "y.column=['salary']"
   ]
  },
  {
   "cell_type": "markdown",
   "id": "c6f8e72f",
   "metadata": {
    "papermill": {
     "duration": 0.013256,
     "end_time": "2024-01-11T04:48:39.371212",
     "exception": false,
     "start_time": "2024-01-11T04:48:39.357956",
     "status": "completed"
    },
    "tags": []
   },
   "source": [
    "### Dropping salary from the original dataset "
   ]
  },
  {
   "cell_type": "code",
   "execution_count": 6,
   "id": "7f0778f5",
   "metadata": {
    "execution": {
     "iopub.execute_input": "2024-01-11T04:48:39.401020Z",
     "iopub.status.busy": "2024-01-11T04:48:39.400603Z",
     "iopub.status.idle": "2024-01-11T04:48:39.418845Z",
     "shell.execute_reply": "2024-01-11T04:48:39.417929Z"
    },
    "papermill": {
     "duration": 0.036034,
     "end_time": "2024-01-11T04:48:39.421113",
     "exception": false,
     "start_time": "2024-01-11T04:48:39.385079",
     "status": "completed"
    },
    "scrolled": true,
    "tags": []
   },
   "outputs": [
    {
     "data": {
      "text/html": [
       "<div>\n",
       "<style scoped>\n",
       "    .dataframe tbody tr th:only-of-type {\n",
       "        vertical-align: middle;\n",
       "    }\n",
       "\n",
       "    .dataframe tbody tr th {\n",
       "        vertical-align: top;\n",
       "    }\n",
       "\n",
       "    .dataframe thead th {\n",
       "        text-align: right;\n",
       "    }\n",
       "</style>\n",
       "<table border=\"1\" class=\"dataframe\">\n",
       "  <thead>\n",
       "    <tr style=\"text-align: right;\">\n",
       "      <th></th>\n",
       "      <th>experience_level</th>\n",
       "      <th>employment_type</th>\n",
       "      <th>job_title</th>\n",
       "      <th>remote_ratio</th>\n",
       "      <th>company_location</th>\n",
       "      <th>company_size</th>\n",
       "    </tr>\n",
       "  </thead>\n",
       "  <tbody>\n",
       "    <tr>\n",
       "      <th>0</th>\n",
       "      <td>SE</td>\n",
       "      <td>FT</td>\n",
       "      <td>Principal Data Scientist</td>\n",
       "      <td>100</td>\n",
       "      <td>ES</td>\n",
       "      <td>L</td>\n",
       "    </tr>\n",
       "    <tr>\n",
       "      <th>1</th>\n",
       "      <td>MI</td>\n",
       "      <td>CT</td>\n",
       "      <td>ML Engineer</td>\n",
       "      <td>100</td>\n",
       "      <td>US</td>\n",
       "      <td>S</td>\n",
       "    </tr>\n",
       "    <tr>\n",
       "      <th>2</th>\n",
       "      <td>MI</td>\n",
       "      <td>CT</td>\n",
       "      <td>ML Engineer</td>\n",
       "      <td>100</td>\n",
       "      <td>US</td>\n",
       "      <td>S</td>\n",
       "    </tr>\n",
       "    <tr>\n",
       "      <th>3</th>\n",
       "      <td>SE</td>\n",
       "      <td>FT</td>\n",
       "      <td>Data Scientist</td>\n",
       "      <td>100</td>\n",
       "      <td>CA</td>\n",
       "      <td>M</td>\n",
       "    </tr>\n",
       "    <tr>\n",
       "      <th>4</th>\n",
       "      <td>SE</td>\n",
       "      <td>FT</td>\n",
       "      <td>Data Scientist</td>\n",
       "      <td>100</td>\n",
       "      <td>CA</td>\n",
       "      <td>M</td>\n",
       "    </tr>\n",
       "    <tr>\n",
       "      <th>...</th>\n",
       "      <td>...</td>\n",
       "      <td>...</td>\n",
       "      <td>...</td>\n",
       "      <td>...</td>\n",
       "      <td>...</td>\n",
       "      <td>...</td>\n",
       "    </tr>\n",
       "    <tr>\n",
       "      <th>3750</th>\n",
       "      <td>SE</td>\n",
       "      <td>FT</td>\n",
       "      <td>Data Scientist</td>\n",
       "      <td>100</td>\n",
       "      <td>US</td>\n",
       "      <td>L</td>\n",
       "    </tr>\n",
       "    <tr>\n",
       "      <th>3751</th>\n",
       "      <td>MI</td>\n",
       "      <td>FT</td>\n",
       "      <td>Principal Data Scientist</td>\n",
       "      <td>100</td>\n",
       "      <td>US</td>\n",
       "      <td>L</td>\n",
       "    </tr>\n",
       "    <tr>\n",
       "      <th>3752</th>\n",
       "      <td>EN</td>\n",
       "      <td>FT</td>\n",
       "      <td>Data Scientist</td>\n",
       "      <td>100</td>\n",
       "      <td>US</td>\n",
       "      <td>S</td>\n",
       "    </tr>\n",
       "    <tr>\n",
       "      <th>3753</th>\n",
       "      <td>EN</td>\n",
       "      <td>CT</td>\n",
       "      <td>Business Data Analyst</td>\n",
       "      <td>100</td>\n",
       "      <td>US</td>\n",
       "      <td>L</td>\n",
       "    </tr>\n",
       "    <tr>\n",
       "      <th>3754</th>\n",
       "      <td>SE</td>\n",
       "      <td>FT</td>\n",
       "      <td>Data Science Manager</td>\n",
       "      <td>50</td>\n",
       "      <td>IN</td>\n",
       "      <td>L</td>\n",
       "    </tr>\n",
       "  </tbody>\n",
       "</table>\n",
       "<p>3755 rows × 6 columns</p>\n",
       "</div>"
      ],
      "text/plain": [
       "     experience_level employment_type                 job_title  remote_ratio  \\\n",
       "0                  SE              FT  Principal Data Scientist           100   \n",
       "1                  MI              CT               ML Engineer           100   \n",
       "2                  MI              CT               ML Engineer           100   \n",
       "3                  SE              FT            Data Scientist           100   \n",
       "4                  SE              FT            Data Scientist           100   \n",
       "...               ...             ...                       ...           ...   \n",
       "3750               SE              FT            Data Scientist           100   \n",
       "3751               MI              FT  Principal Data Scientist           100   \n",
       "3752               EN              FT            Data Scientist           100   \n",
       "3753               EN              CT     Business Data Analyst           100   \n",
       "3754               SE              FT      Data Science Manager            50   \n",
       "\n",
       "     company_location company_size  \n",
       "0                  ES            L  \n",
       "1                  US            S  \n",
       "2                  US            S  \n",
       "3                  CA            M  \n",
       "4                  CA            M  \n",
       "...               ...          ...  \n",
       "3750               US            L  \n",
       "3751               US            L  \n",
       "3752               US            S  \n",
       "3753               US            L  \n",
       "3754               IN            L  \n",
       "\n",
       "[3755 rows x 6 columns]"
      ]
     },
     "execution_count": 6,
     "metadata": {},
     "output_type": "execute_result"
    }
   ],
   "source": [
    "dataset=dataset.drop(['salary'],axis=1)\n",
    "dataset"
   ]
  },
  {
   "cell_type": "markdown",
   "id": "52e28f1e",
   "metadata": {
    "papermill": {
     "duration": 0.013711,
     "end_time": "2024-01-11T04:48:39.448780",
     "exception": false,
     "start_time": "2024-01-11T04:48:39.435069",
     "status": "completed"
    },
    "tags": []
   },
   "source": [
    "### Making variable 'x' as feature"
   ]
  },
  {
   "cell_type": "code",
   "execution_count": 7,
   "id": "f59628a4",
   "metadata": {
    "execution": {
     "iopub.execute_input": "2024-01-11T04:48:39.478961Z",
     "iopub.status.busy": "2024-01-11T04:48:39.478493Z",
     "iopub.status.idle": "2024-01-11T04:48:39.495773Z",
     "shell.execute_reply": "2024-01-11T04:48:39.494577Z"
    },
    "papermill": {
     "duration": 0.035386,
     "end_time": "2024-01-11T04:48:39.498131",
     "exception": false,
     "start_time": "2024-01-11T04:48:39.462745",
     "status": "completed"
    },
    "tags": []
   },
   "outputs": [
    {
     "data": {
      "text/html": [
       "<div>\n",
       "<style scoped>\n",
       "    .dataframe tbody tr th:only-of-type {\n",
       "        vertical-align: middle;\n",
       "    }\n",
       "\n",
       "    .dataframe tbody tr th {\n",
       "        vertical-align: top;\n",
       "    }\n",
       "\n",
       "    .dataframe thead th {\n",
       "        text-align: right;\n",
       "    }\n",
       "</style>\n",
       "<table border=\"1\" class=\"dataframe\">\n",
       "  <thead>\n",
       "    <tr style=\"text-align: right;\">\n",
       "      <th></th>\n",
       "      <th>experience_level</th>\n",
       "      <th>employment_type</th>\n",
       "      <th>job_title</th>\n",
       "      <th>remote_ratio</th>\n",
       "      <th>company_location</th>\n",
       "      <th>company_size</th>\n",
       "    </tr>\n",
       "  </thead>\n",
       "  <tbody>\n",
       "    <tr>\n",
       "      <th>0</th>\n",
       "      <td>SE</td>\n",
       "      <td>FT</td>\n",
       "      <td>Principal Data Scientist</td>\n",
       "      <td>100</td>\n",
       "      <td>ES</td>\n",
       "      <td>L</td>\n",
       "    </tr>\n",
       "    <tr>\n",
       "      <th>1</th>\n",
       "      <td>MI</td>\n",
       "      <td>CT</td>\n",
       "      <td>ML Engineer</td>\n",
       "      <td>100</td>\n",
       "      <td>US</td>\n",
       "      <td>S</td>\n",
       "    </tr>\n",
       "    <tr>\n",
       "      <th>2</th>\n",
       "      <td>MI</td>\n",
       "      <td>CT</td>\n",
       "      <td>ML Engineer</td>\n",
       "      <td>100</td>\n",
       "      <td>US</td>\n",
       "      <td>S</td>\n",
       "    </tr>\n",
       "    <tr>\n",
       "      <th>3</th>\n",
       "      <td>SE</td>\n",
       "      <td>FT</td>\n",
       "      <td>Data Scientist</td>\n",
       "      <td>100</td>\n",
       "      <td>CA</td>\n",
       "      <td>M</td>\n",
       "    </tr>\n",
       "    <tr>\n",
       "      <th>4</th>\n",
       "      <td>SE</td>\n",
       "      <td>FT</td>\n",
       "      <td>Data Scientist</td>\n",
       "      <td>100</td>\n",
       "      <td>CA</td>\n",
       "      <td>M</td>\n",
       "    </tr>\n",
       "    <tr>\n",
       "      <th>...</th>\n",
       "      <td>...</td>\n",
       "      <td>...</td>\n",
       "      <td>...</td>\n",
       "      <td>...</td>\n",
       "      <td>...</td>\n",
       "      <td>...</td>\n",
       "    </tr>\n",
       "    <tr>\n",
       "      <th>3750</th>\n",
       "      <td>SE</td>\n",
       "      <td>FT</td>\n",
       "      <td>Data Scientist</td>\n",
       "      <td>100</td>\n",
       "      <td>US</td>\n",
       "      <td>L</td>\n",
       "    </tr>\n",
       "    <tr>\n",
       "      <th>3751</th>\n",
       "      <td>MI</td>\n",
       "      <td>FT</td>\n",
       "      <td>Principal Data Scientist</td>\n",
       "      <td>100</td>\n",
       "      <td>US</td>\n",
       "      <td>L</td>\n",
       "    </tr>\n",
       "    <tr>\n",
       "      <th>3752</th>\n",
       "      <td>EN</td>\n",
       "      <td>FT</td>\n",
       "      <td>Data Scientist</td>\n",
       "      <td>100</td>\n",
       "      <td>US</td>\n",
       "      <td>S</td>\n",
       "    </tr>\n",
       "    <tr>\n",
       "      <th>3753</th>\n",
       "      <td>EN</td>\n",
       "      <td>CT</td>\n",
       "      <td>Business Data Analyst</td>\n",
       "      <td>100</td>\n",
       "      <td>US</td>\n",
       "      <td>L</td>\n",
       "    </tr>\n",
       "    <tr>\n",
       "      <th>3754</th>\n",
       "      <td>SE</td>\n",
       "      <td>FT</td>\n",
       "      <td>Data Science Manager</td>\n",
       "      <td>50</td>\n",
       "      <td>IN</td>\n",
       "      <td>L</td>\n",
       "    </tr>\n",
       "  </tbody>\n",
       "</table>\n",
       "<p>3755 rows × 6 columns</p>\n",
       "</div>"
      ],
      "text/plain": [
       "     experience_level employment_type                 job_title  remote_ratio  \\\n",
       "0                  SE              FT  Principal Data Scientist           100   \n",
       "1                  MI              CT               ML Engineer           100   \n",
       "2                  MI              CT               ML Engineer           100   \n",
       "3                  SE              FT            Data Scientist           100   \n",
       "4                  SE              FT            Data Scientist           100   \n",
       "...               ...             ...                       ...           ...   \n",
       "3750               SE              FT            Data Scientist           100   \n",
       "3751               MI              FT  Principal Data Scientist           100   \n",
       "3752               EN              FT            Data Scientist           100   \n",
       "3753               EN              CT     Business Data Analyst           100   \n",
       "3754               SE              FT      Data Science Manager            50   \n",
       "\n",
       "     company_location company_size  \n",
       "0                  ES            L  \n",
       "1                  US            S  \n",
       "2                  US            S  \n",
       "3                  CA            M  \n",
       "4                  CA            M  \n",
       "...               ...          ...  \n",
       "3750               US            L  \n",
       "3751               US            L  \n",
       "3752               US            S  \n",
       "3753               US            L  \n",
       "3754               IN            L  \n",
       "\n",
       "[3755 rows x 6 columns]"
      ]
     },
     "execution_count": 7,
     "metadata": {},
     "output_type": "execute_result"
    }
   ],
   "source": [
    "x=dataset.iloc[:,:]\n",
    "x"
   ]
  },
  {
   "cell_type": "markdown",
   "id": "957f80de",
   "metadata": {
    "papermill": {
     "duration": 0.014065,
     "end_time": "2024-01-11T04:48:39.526500",
     "exception": false,
     "start_time": "2024-01-11T04:48:39.512435",
     "status": "completed"
    },
    "tags": []
   },
   "source": [
    "### Since a lot of data was in the form of string and since they were important and could be easily classified, Label Encoder has been used."
   ]
  },
  {
   "cell_type": "code",
   "execution_count": 8,
   "id": "287de468",
   "metadata": {
    "execution": {
     "iopub.execute_input": "2024-01-11T04:48:39.557309Z",
     "iopub.status.busy": "2024-01-11T04:48:39.556882Z",
     "iopub.status.idle": "2024-01-11T04:48:40.728450Z",
     "shell.execute_reply": "2024-01-11T04:48:40.727128Z"
    },
    "papermill": {
     "duration": 1.1909,
     "end_time": "2024-01-11T04:48:40.731797",
     "exception": false,
     "start_time": "2024-01-11T04:48:39.540897",
     "status": "completed"
    },
    "tags": []
   },
   "outputs": [],
   "source": [
    "from sklearn.preprocessing import LabelEncoder\n",
    "LE=LabelEncoder()"
   ]
  },
  {
   "cell_type": "code",
   "execution_count": 9,
   "id": "97354fe6",
   "metadata": {
    "execution": {
     "iopub.execute_input": "2024-01-11T04:48:40.763579Z",
     "iopub.status.busy": "2024-01-11T04:48:40.763131Z",
     "iopub.status.idle": "2024-01-11T04:48:40.784278Z",
     "shell.execute_reply": "2024-01-11T04:48:40.782962Z"
    },
    "papermill": {
     "duration": 0.040259,
     "end_time": "2024-01-11T04:48:40.787098",
     "exception": false,
     "start_time": "2024-01-11T04:48:40.746839",
     "status": "completed"
    },
    "tags": []
   },
   "outputs": [],
   "source": [
    "x['exp_lvl']=LE.fit_transform(x.experience_level)\n",
    "x['emp_type']=LE.fit_transform(x.employment_type)\n",
    "x['job']=LE.fit_transform(x.job_title)\n",
    "x['remote ratio']=LE.fit_transform(x.remote_ratio)\n",
    "x['company_loc']=LE.fit_transform(x.company_location)\n",
    "x['company size']=LE.fit_transform(x.company_size)"
   ]
  },
  {
   "cell_type": "markdown",
   "id": "1f0a42e2",
   "metadata": {
    "papermill": {
     "duration": 0.014344,
     "end_time": "2024-01-11T04:48:40.815922",
     "exception": false,
     "start_time": "2024-01-11T04:48:40.801578",
     "status": "completed"
    },
    "tags": []
   },
   "source": [
    "### Dropping the older columns"
   ]
  },
  {
   "cell_type": "code",
   "execution_count": 10,
   "id": "3f5659f0",
   "metadata": {
    "execution": {
     "iopub.execute_input": "2024-01-11T04:48:40.846236Z",
     "iopub.status.busy": "2024-01-11T04:48:40.845811Z",
     "iopub.status.idle": "2024-01-11T04:48:40.852680Z",
     "shell.execute_reply": "2024-01-11T04:48:40.851545Z"
    },
    "papermill": {
     "duration": 0.024703,
     "end_time": "2024-01-11T04:48:40.854846",
     "exception": false,
     "start_time": "2024-01-11T04:48:40.830143",
     "status": "completed"
    },
    "scrolled": true,
    "tags": []
   },
   "outputs": [],
   "source": [
    "x=x.drop(['experience_level','employment_type','job_title','remote_ratio','company_location','company_size'],axis=1)"
   ]
  },
  {
   "cell_type": "markdown",
   "id": "695054e1",
   "metadata": {
    "papermill": {
     "duration": 0.0769,
     "end_time": "2024-01-11T04:48:40.946095",
     "exception": false,
     "start_time": "2024-01-11T04:48:40.869195",
     "status": "completed"
    },
    "tags": []
   },
   "source": [
    "### Following is how the feature dataset looks like"
   ]
  },
  {
   "cell_type": "code",
   "execution_count": 11,
   "id": "de09c45d",
   "metadata": {
    "execution": {
     "iopub.execute_input": "2024-01-11T04:48:40.977689Z",
     "iopub.status.busy": "2024-01-11T04:48:40.976911Z",
     "iopub.status.idle": "2024-01-11T04:48:40.991514Z",
     "shell.execute_reply": "2024-01-11T04:48:40.990323Z"
    },
    "papermill": {
     "duration": 0.033227,
     "end_time": "2024-01-11T04:48:40.993985",
     "exception": false,
     "start_time": "2024-01-11T04:48:40.960758",
     "status": "completed"
    },
    "tags": []
   },
   "outputs": [
    {
     "data": {
      "text/html": [
       "<div>\n",
       "<style scoped>\n",
       "    .dataframe tbody tr th:only-of-type {\n",
       "        vertical-align: middle;\n",
       "    }\n",
       "\n",
       "    .dataframe tbody tr th {\n",
       "        vertical-align: top;\n",
       "    }\n",
       "\n",
       "    .dataframe thead th {\n",
       "        text-align: right;\n",
       "    }\n",
       "</style>\n",
       "<table border=\"1\" class=\"dataframe\">\n",
       "  <thead>\n",
       "    <tr style=\"text-align: right;\">\n",
       "      <th></th>\n",
       "      <th>exp_lvl</th>\n",
       "      <th>emp_type</th>\n",
       "      <th>job</th>\n",
       "      <th>remote ratio</th>\n",
       "      <th>company_loc</th>\n",
       "      <th>company size</th>\n",
       "    </tr>\n",
       "  </thead>\n",
       "  <tbody>\n",
       "    <tr>\n",
       "      <th>0</th>\n",
       "      <td>3</td>\n",
       "      <td>2</td>\n",
       "      <td>84</td>\n",
       "      <td>2</td>\n",
       "      <td>25</td>\n",
       "      <td>0</td>\n",
       "    </tr>\n",
       "    <tr>\n",
       "      <th>1</th>\n",
       "      <td>2</td>\n",
       "      <td>0</td>\n",
       "      <td>66</td>\n",
       "      <td>2</td>\n",
       "      <td>70</td>\n",
       "      <td>2</td>\n",
       "    </tr>\n",
       "    <tr>\n",
       "      <th>2</th>\n",
       "      <td>2</td>\n",
       "      <td>0</td>\n",
       "      <td>66</td>\n",
       "      <td>2</td>\n",
       "      <td>70</td>\n",
       "      <td>2</td>\n",
       "    </tr>\n",
       "    <tr>\n",
       "      <th>3</th>\n",
       "      <td>3</td>\n",
       "      <td>2</td>\n",
       "      <td>47</td>\n",
       "      <td>2</td>\n",
       "      <td>12</td>\n",
       "      <td>1</td>\n",
       "    </tr>\n",
       "    <tr>\n",
       "      <th>4</th>\n",
       "      <td>3</td>\n",
       "      <td>2</td>\n",
       "      <td>47</td>\n",
       "      <td>2</td>\n",
       "      <td>12</td>\n",
       "      <td>1</td>\n",
       "    </tr>\n",
       "    <tr>\n",
       "      <th>...</th>\n",
       "      <td>...</td>\n",
       "      <td>...</td>\n",
       "      <td>...</td>\n",
       "      <td>...</td>\n",
       "      <td>...</td>\n",
       "      <td>...</td>\n",
       "    </tr>\n",
       "    <tr>\n",
       "      <th>3750</th>\n",
       "      <td>3</td>\n",
       "      <td>2</td>\n",
       "      <td>47</td>\n",
       "      <td>2</td>\n",
       "      <td>70</td>\n",
       "      <td>0</td>\n",
       "    </tr>\n",
       "    <tr>\n",
       "      <th>3751</th>\n",
       "      <td>2</td>\n",
       "      <td>2</td>\n",
       "      <td>84</td>\n",
       "      <td>2</td>\n",
       "      <td>70</td>\n",
       "      <td>0</td>\n",
       "    </tr>\n",
       "    <tr>\n",
       "      <th>3752</th>\n",
       "      <td>0</td>\n",
       "      <td>2</td>\n",
       "      <td>47</td>\n",
       "      <td>2</td>\n",
       "      <td>70</td>\n",
       "      <td>2</td>\n",
       "    </tr>\n",
       "    <tr>\n",
       "      <th>3753</th>\n",
       "      <td>0</td>\n",
       "      <td>0</td>\n",
       "      <td>17</td>\n",
       "      <td>2</td>\n",
       "      <td>70</td>\n",
       "      <td>0</td>\n",
       "    </tr>\n",
       "    <tr>\n",
       "      <th>3754</th>\n",
       "      <td>3</td>\n",
       "      <td>2</td>\n",
       "      <td>45</td>\n",
       "      <td>1</td>\n",
       "      <td>38</td>\n",
       "      <td>0</td>\n",
       "    </tr>\n",
       "  </tbody>\n",
       "</table>\n",
       "<p>3755 rows × 6 columns</p>\n",
       "</div>"
      ],
      "text/plain": [
       "      exp_lvl  emp_type  job  remote ratio  company_loc  company size\n",
       "0           3         2   84             2           25             0\n",
       "1           2         0   66             2           70             2\n",
       "2           2         0   66             2           70             2\n",
       "3           3         2   47             2           12             1\n",
       "4           3         2   47             2           12             1\n",
       "...       ...       ...  ...           ...          ...           ...\n",
       "3750        3         2   47             2           70             0\n",
       "3751        2         2   84             2           70             0\n",
       "3752        0         2   47             2           70             2\n",
       "3753        0         0   17             2           70             0\n",
       "3754        3         2   45             1           38             0\n",
       "\n",
       "[3755 rows x 6 columns]"
      ]
     },
     "execution_count": 11,
     "metadata": {},
     "output_type": "execute_result"
    }
   ],
   "source": [
    "x"
   ]
  },
  {
   "cell_type": "code",
   "execution_count": 12,
   "id": "60ce8c15",
   "metadata": {
    "execution": {
     "iopub.execute_input": "2024-01-11T04:48:41.027832Z",
     "iopub.status.busy": "2024-01-11T04:48:41.027105Z",
     "iopub.status.idle": "2024-01-11T04:48:41.058908Z",
     "shell.execute_reply": "2024-01-11T04:48:41.057846Z"
    },
    "papermill": {
     "duration": 0.050681,
     "end_time": "2024-01-11T04:48:41.061364",
     "exception": false,
     "start_time": "2024-01-11T04:48:41.010683",
     "status": "completed"
    },
    "tags": []
   },
   "outputs": [
    {
     "data": {
      "text/html": [
       "<div>\n",
       "<style scoped>\n",
       "    .dataframe tbody tr th:only-of-type {\n",
       "        vertical-align: middle;\n",
       "    }\n",
       "\n",
       "    .dataframe tbody tr th {\n",
       "        vertical-align: top;\n",
       "    }\n",
       "\n",
       "    .dataframe thead th {\n",
       "        text-align: right;\n",
       "    }\n",
       "</style>\n",
       "<table border=\"1\" class=\"dataframe\">\n",
       "  <thead>\n",
       "    <tr style=\"text-align: right;\">\n",
       "      <th></th>\n",
       "      <th>exp_lvl</th>\n",
       "      <th>emp_type</th>\n",
       "      <th>job</th>\n",
       "      <th>remote ratio</th>\n",
       "      <th>company_loc</th>\n",
       "      <th>company size</th>\n",
       "    </tr>\n",
       "  </thead>\n",
       "  <tbody>\n",
       "    <tr>\n",
       "      <th>count</th>\n",
       "      <td>3755.000000</td>\n",
       "      <td>3755.000000</td>\n",
       "      <td>3755.000000</td>\n",
       "      <td>3755.000000</td>\n",
       "      <td>3755.000000</td>\n",
       "      <td>3755.000000</td>\n",
       "    </tr>\n",
       "    <tr>\n",
       "      <th>mean</th>\n",
       "      <td>2.469241</td>\n",
       "      <td>1.996538</td>\n",
       "      <td>39.661784</td>\n",
       "      <td>0.925433</td>\n",
       "      <td>62.117177</td>\n",
       "      <td>0.918509</td>\n",
       "    </tr>\n",
       "    <tr>\n",
       "      <th>std</th>\n",
       "      <td>0.906261</td>\n",
       "      <td>0.133550</td>\n",
       "      <td>18.536695</td>\n",
       "      <td>0.971781</td>\n",
       "      <td>17.495432</td>\n",
       "      <td>0.392071</td>\n",
       "    </tr>\n",
       "    <tr>\n",
       "      <th>min</th>\n",
       "      <td>0.000000</td>\n",
       "      <td>0.000000</td>\n",
       "      <td>0.000000</td>\n",
       "      <td>0.000000</td>\n",
       "      <td>0.000000</td>\n",
       "      <td>0.000000</td>\n",
       "    </tr>\n",
       "    <tr>\n",
       "      <th>25%</th>\n",
       "      <td>2.000000</td>\n",
       "      <td>2.000000</td>\n",
       "      <td>27.000000</td>\n",
       "      <td>0.000000</td>\n",
       "      <td>70.000000</td>\n",
       "      <td>1.000000</td>\n",
       "    </tr>\n",
       "    <tr>\n",
       "      <th>50%</th>\n",
       "      <td>3.000000</td>\n",
       "      <td>2.000000</td>\n",
       "      <td>33.000000</td>\n",
       "      <td>0.000000</td>\n",
       "      <td>70.000000</td>\n",
       "      <td>1.000000</td>\n",
       "    </tr>\n",
       "    <tr>\n",
       "      <th>75%</th>\n",
       "      <td>3.000000</td>\n",
       "      <td>2.000000</td>\n",
       "      <td>47.000000</td>\n",
       "      <td>2.000000</td>\n",
       "      <td>70.000000</td>\n",
       "      <td>1.000000</td>\n",
       "    </tr>\n",
       "    <tr>\n",
       "      <th>max</th>\n",
       "      <td>3.000000</td>\n",
       "      <td>3.000000</td>\n",
       "      <td>92.000000</td>\n",
       "      <td>2.000000</td>\n",
       "      <td>71.000000</td>\n",
       "      <td>2.000000</td>\n",
       "    </tr>\n",
       "  </tbody>\n",
       "</table>\n",
       "</div>"
      ],
      "text/plain": [
       "           exp_lvl     emp_type          job  remote ratio  company_loc  \\\n",
       "count  3755.000000  3755.000000  3755.000000   3755.000000  3755.000000   \n",
       "mean      2.469241     1.996538    39.661784      0.925433    62.117177   \n",
       "std       0.906261     0.133550    18.536695      0.971781    17.495432   \n",
       "min       0.000000     0.000000     0.000000      0.000000     0.000000   \n",
       "25%       2.000000     2.000000    27.000000      0.000000    70.000000   \n",
       "50%       3.000000     2.000000    33.000000      0.000000    70.000000   \n",
       "75%       3.000000     2.000000    47.000000      2.000000    70.000000   \n",
       "max       3.000000     3.000000    92.000000      2.000000    71.000000   \n",
       "\n",
       "       company size  \n",
       "count   3755.000000  \n",
       "mean       0.918509  \n",
       "std        0.392071  \n",
       "min        0.000000  \n",
       "25%        1.000000  \n",
       "50%        1.000000  \n",
       "75%        1.000000  \n",
       "max        2.000000  "
      ]
     },
     "execution_count": 12,
     "metadata": {},
     "output_type": "execute_result"
    }
   ],
   "source": [
    "x.describe()"
   ]
  },
  {
   "cell_type": "markdown",
   "id": "ed04926e",
   "metadata": {
    "papermill": {
     "duration": 0.014924,
     "end_time": "2024-01-11T04:48:41.091550",
     "exception": false,
     "start_time": "2024-01-11T04:48:41.076626",
     "status": "completed"
    },
    "tags": []
   },
   "source": [
    "### The columns 'job' and 'company_loc' had values ranging from 0 to 92 and 71 respectively and rest were ranging from 0 to 2 or 3.\n",
    "### If the model was feeded the data in the same way, it could have assumed the data with higher values as important and might have neglected the data with smaller values. \n",
    "### Therefore it was necessary to manipulate the data and make all values lie within same range."
   ]
  },
  {
   "cell_type": "code",
   "execution_count": 13,
   "id": "96da25ca",
   "metadata": {
    "execution": {
     "iopub.execute_input": "2024-01-11T04:48:41.124296Z",
     "iopub.status.busy": "2024-01-11T04:48:41.123561Z",
     "iopub.status.idle": "2024-01-11T04:48:41.128323Z",
     "shell.execute_reply": "2024-01-11T04:48:41.127470Z"
    },
    "papermill": {
     "duration": 0.02388,
     "end_time": "2024-01-11T04:48:41.130637",
     "exception": false,
     "start_time": "2024-01-11T04:48:41.106757",
     "status": "completed"
    },
    "tags": []
   },
   "outputs": [],
   "source": [
    "from sklearn.preprocessing import MinMaxScaler\n",
    "m_m_s=MinMaxScaler(feature_range=(0,3))"
   ]
  },
  {
   "cell_type": "markdown",
   "id": "9e8a7a30",
   "metadata": {
    "papermill": {
     "duration": 0.01491,
     "end_time": "2024-01-11T04:48:41.160858",
     "exception": false,
     "start_time": "2024-01-11T04:48:41.145948",
     "status": "completed"
    },
    "tags": []
   },
   "source": [
    "#### applying MinMaxScaler to job"
   ]
  },
  {
   "cell_type": "code",
   "execution_count": 14,
   "id": "ffb1edc5",
   "metadata": {
    "execution": {
     "iopub.execute_input": "2024-01-11T04:48:41.194612Z",
     "iopub.status.busy": "2024-01-11T04:48:41.193875Z",
     "iopub.status.idle": "2024-01-11T04:48:41.199318Z",
     "shell.execute_reply": "2024-01-11T04:48:41.198461Z"
    },
    "papermill": {
     "duration": 0.024752,
     "end_time": "2024-01-11T04:48:41.201557",
     "exception": false,
     "start_time": "2024-01-11T04:48:41.176805",
     "status": "completed"
    },
    "tags": []
   },
   "outputs": [],
   "source": [
    "cj=x['job']\n",
    "cj=np.array(cj)\n",
    "cj=cj.reshape(-1,1)"
   ]
  },
  {
   "cell_type": "code",
   "execution_count": 15,
   "id": "5a9320c6",
   "metadata": {
    "execution": {
     "iopub.execute_input": "2024-01-11T04:48:41.234779Z",
     "iopub.status.busy": "2024-01-11T04:48:41.234369Z",
     "iopub.status.idle": "2024-01-11T04:48:41.240213Z",
     "shell.execute_reply": "2024-01-11T04:48:41.239371Z"
    },
    "papermill": {
     "duration": 0.024871,
     "end_time": "2024-01-11T04:48:41.242483",
     "exception": false,
     "start_time": "2024-01-11T04:48:41.217612",
     "status": "completed"
    },
    "scrolled": true,
    "tags": []
   },
   "outputs": [],
   "source": [
    "x['job_']=m_m_s.fit_transform(cj)"
   ]
  },
  {
   "cell_type": "markdown",
   "id": "d79536ee",
   "metadata": {
    "papermill": {
     "duration": 0.015205,
     "end_time": "2024-01-11T04:48:41.272974",
     "exception": false,
     "start_time": "2024-01-11T04:48:41.257769",
     "status": "completed"
    },
    "tags": []
   },
   "source": [
    "#### applying MinMaxScaler to company location"
   ]
  },
  {
   "cell_type": "code",
   "execution_count": 16,
   "id": "9dbdaa5e",
   "metadata": {
    "execution": {
     "iopub.execute_input": "2024-01-11T04:48:41.305834Z",
     "iopub.status.busy": "2024-01-11T04:48:41.305014Z",
     "iopub.status.idle": "2024-01-11T04:48:41.310030Z",
     "shell.execute_reply": "2024-01-11T04:48:41.309241Z"
    },
    "papermill": {
     "duration": 0.024098,
     "end_time": "2024-01-11T04:48:41.312468",
     "exception": false,
     "start_time": "2024-01-11T04:48:41.288370",
     "status": "completed"
    },
    "tags": []
   },
   "outputs": [],
   "source": [
    "cl=x['company_loc']\n",
    "cl=np.array(cl)\n",
    "cl=cl.reshape(-1,1)"
   ]
  },
  {
   "cell_type": "code",
   "execution_count": 17,
   "id": "e19e50ce",
   "metadata": {
    "execution": {
     "iopub.execute_input": "2024-01-11T04:48:41.346438Z",
     "iopub.status.busy": "2024-01-11T04:48:41.345781Z",
     "iopub.status.idle": "2024-01-11T04:48:41.351706Z",
     "shell.execute_reply": "2024-01-11T04:48:41.350629Z"
    },
    "papermill": {
     "duration": 0.025653,
     "end_time": "2024-01-11T04:48:41.354407",
     "exception": false,
     "start_time": "2024-01-11T04:48:41.328754",
     "status": "completed"
    },
    "tags": []
   },
   "outputs": [],
   "source": [
    "x['comapy_location']=m_m_s.fit_transform(cl)"
   ]
  },
  {
   "cell_type": "markdown",
   "id": "5c039cbd",
   "metadata": {
    "papermill": {
     "duration": 0.014941,
     "end_time": "2024-01-11T04:48:41.384635",
     "exception": false,
     "start_time": "2024-01-11T04:48:41.369694",
     "status": "completed"
    },
    "tags": []
   },
   "source": [
    "### dropping older 'job' and 'comapny location'"
   ]
  },
  {
   "cell_type": "code",
   "execution_count": 18,
   "id": "5bc968bd",
   "metadata": {
    "execution": {
     "iopub.execute_input": "2024-01-11T04:48:41.418949Z",
     "iopub.status.busy": "2024-01-11T04:48:41.416707Z",
     "iopub.status.idle": "2024-01-11T04:48:41.423987Z",
     "shell.execute_reply": "2024-01-11T04:48:41.423086Z"
    },
    "papermill": {
     "duration": 0.026073,
     "end_time": "2024-01-11T04:48:41.426321",
     "exception": false,
     "start_time": "2024-01-11T04:48:41.400248",
     "status": "completed"
    },
    "tags": []
   },
   "outputs": [],
   "source": [
    "x=x.drop(['job','company_loc'],axis=1)"
   ]
  },
  {
   "cell_type": "markdown",
   "id": "1274bac4",
   "metadata": {
    "papermill": {
     "duration": 0.014858,
     "end_time": "2024-01-11T04:48:41.456510",
     "exception": false,
     "start_time": "2024-01-11T04:48:41.441652",
     "status": "completed"
    },
    "tags": []
   },
   "source": [
    "### This is the preprocessed data now"
   ]
  },
  {
   "cell_type": "code",
   "execution_count": 19,
   "id": "171ea79e",
   "metadata": {
    "execution": {
     "iopub.execute_input": "2024-01-11T04:48:41.489100Z",
     "iopub.status.busy": "2024-01-11T04:48:41.488228Z",
     "iopub.status.idle": "2024-01-11T04:48:41.503444Z",
     "shell.execute_reply": "2024-01-11T04:48:41.502297Z"
    },
    "papermill": {
     "duration": 0.034183,
     "end_time": "2024-01-11T04:48:41.505953",
     "exception": false,
     "start_time": "2024-01-11T04:48:41.471770",
     "status": "completed"
    },
    "tags": []
   },
   "outputs": [
    {
     "data": {
      "text/html": [
       "<div>\n",
       "<style scoped>\n",
       "    .dataframe tbody tr th:only-of-type {\n",
       "        vertical-align: middle;\n",
       "    }\n",
       "\n",
       "    .dataframe tbody tr th {\n",
       "        vertical-align: top;\n",
       "    }\n",
       "\n",
       "    .dataframe thead th {\n",
       "        text-align: right;\n",
       "    }\n",
       "</style>\n",
       "<table border=\"1\" class=\"dataframe\">\n",
       "  <thead>\n",
       "    <tr style=\"text-align: right;\">\n",
       "      <th></th>\n",
       "      <th>exp_lvl</th>\n",
       "      <th>emp_type</th>\n",
       "      <th>remote ratio</th>\n",
       "      <th>company size</th>\n",
       "      <th>job_</th>\n",
       "      <th>comapy_location</th>\n",
       "    </tr>\n",
       "  </thead>\n",
       "  <tbody>\n",
       "    <tr>\n",
       "      <th>0</th>\n",
       "      <td>3</td>\n",
       "      <td>2</td>\n",
       "      <td>2</td>\n",
       "      <td>0</td>\n",
       "      <td>2.739130</td>\n",
       "      <td>1.056338</td>\n",
       "    </tr>\n",
       "    <tr>\n",
       "      <th>1</th>\n",
       "      <td>2</td>\n",
       "      <td>0</td>\n",
       "      <td>2</td>\n",
       "      <td>2</td>\n",
       "      <td>2.152174</td>\n",
       "      <td>2.957746</td>\n",
       "    </tr>\n",
       "    <tr>\n",
       "      <th>2</th>\n",
       "      <td>2</td>\n",
       "      <td>0</td>\n",
       "      <td>2</td>\n",
       "      <td>2</td>\n",
       "      <td>2.152174</td>\n",
       "      <td>2.957746</td>\n",
       "    </tr>\n",
       "    <tr>\n",
       "      <th>3</th>\n",
       "      <td>3</td>\n",
       "      <td>2</td>\n",
       "      <td>2</td>\n",
       "      <td>1</td>\n",
       "      <td>1.532609</td>\n",
       "      <td>0.507042</td>\n",
       "    </tr>\n",
       "    <tr>\n",
       "      <th>4</th>\n",
       "      <td>3</td>\n",
       "      <td>2</td>\n",
       "      <td>2</td>\n",
       "      <td>1</td>\n",
       "      <td>1.532609</td>\n",
       "      <td>0.507042</td>\n",
       "    </tr>\n",
       "    <tr>\n",
       "      <th>...</th>\n",
       "      <td>...</td>\n",
       "      <td>...</td>\n",
       "      <td>...</td>\n",
       "      <td>...</td>\n",
       "      <td>...</td>\n",
       "      <td>...</td>\n",
       "    </tr>\n",
       "    <tr>\n",
       "      <th>3750</th>\n",
       "      <td>3</td>\n",
       "      <td>2</td>\n",
       "      <td>2</td>\n",
       "      <td>0</td>\n",
       "      <td>1.532609</td>\n",
       "      <td>2.957746</td>\n",
       "    </tr>\n",
       "    <tr>\n",
       "      <th>3751</th>\n",
       "      <td>2</td>\n",
       "      <td>2</td>\n",
       "      <td>2</td>\n",
       "      <td>0</td>\n",
       "      <td>2.739130</td>\n",
       "      <td>2.957746</td>\n",
       "    </tr>\n",
       "    <tr>\n",
       "      <th>3752</th>\n",
       "      <td>0</td>\n",
       "      <td>2</td>\n",
       "      <td>2</td>\n",
       "      <td>2</td>\n",
       "      <td>1.532609</td>\n",
       "      <td>2.957746</td>\n",
       "    </tr>\n",
       "    <tr>\n",
       "      <th>3753</th>\n",
       "      <td>0</td>\n",
       "      <td>0</td>\n",
       "      <td>2</td>\n",
       "      <td>0</td>\n",
       "      <td>0.554348</td>\n",
       "      <td>2.957746</td>\n",
       "    </tr>\n",
       "    <tr>\n",
       "      <th>3754</th>\n",
       "      <td>3</td>\n",
       "      <td>2</td>\n",
       "      <td>1</td>\n",
       "      <td>0</td>\n",
       "      <td>1.467391</td>\n",
       "      <td>1.605634</td>\n",
       "    </tr>\n",
       "  </tbody>\n",
       "</table>\n",
       "<p>3755 rows × 6 columns</p>\n",
       "</div>"
      ],
      "text/plain": [
       "      exp_lvl  emp_type  remote ratio  company size      job_  comapy_location\n",
       "0           3         2             2             0  2.739130         1.056338\n",
       "1           2         0             2             2  2.152174         2.957746\n",
       "2           2         0             2             2  2.152174         2.957746\n",
       "3           3         2             2             1  1.532609         0.507042\n",
       "4           3         2             2             1  1.532609         0.507042\n",
       "...       ...       ...           ...           ...       ...              ...\n",
       "3750        3         2             2             0  1.532609         2.957746\n",
       "3751        2         2             2             0  2.739130         2.957746\n",
       "3752        0         2             2             2  1.532609         2.957746\n",
       "3753        0         0             2             0  0.554348         2.957746\n",
       "3754        3         2             1             0  1.467391         1.605634\n",
       "\n",
       "[3755 rows x 6 columns]"
      ]
     },
     "execution_count": 19,
     "metadata": {},
     "output_type": "execute_result"
    }
   ],
   "source": [
    "x"
   ]
  },
  {
   "cell_type": "markdown",
   "id": "5a46e899",
   "metadata": {
    "papermill": {
     "duration": 0.015098,
     "end_time": "2024-01-11T04:48:41.536669",
     "exception": false,
     "start_time": "2024-01-11T04:48:41.521571",
     "status": "completed"
    },
    "tags": []
   },
   "source": [
    "### Splitting the data into training and testing data"
   ]
  },
  {
   "cell_type": "code",
   "execution_count": 20,
   "id": "fdfa0b2b",
   "metadata": {
    "execution": {
     "iopub.execute_input": "2024-01-11T04:48:41.569465Z",
     "iopub.status.busy": "2024-01-11T04:48:41.568872Z",
     "iopub.status.idle": "2024-01-11T04:48:41.672342Z",
     "shell.execute_reply": "2024-01-11T04:48:41.671093Z"
    },
    "papermill": {
     "duration": 0.123176,
     "end_time": "2024-01-11T04:48:41.675255",
     "exception": false,
     "start_time": "2024-01-11T04:48:41.552079",
     "status": "completed"
    },
    "tags": []
   },
   "outputs": [],
   "source": [
    "from sklearn.model_selection import train_test_split"
   ]
  },
  {
   "cell_type": "code",
   "execution_count": 21,
   "id": "402dbc77",
   "metadata": {
    "execution": {
     "iopub.execute_input": "2024-01-11T04:48:41.708657Z",
     "iopub.status.busy": "2024-01-11T04:48:41.708209Z",
     "iopub.status.idle": "2024-01-11T04:48:41.715542Z",
     "shell.execute_reply": "2024-01-11T04:48:41.714588Z"
    },
    "papermill": {
     "duration": 0.026447,
     "end_time": "2024-01-11T04:48:41.717848",
     "exception": false,
     "start_time": "2024-01-11T04:48:41.691401",
     "status": "completed"
    },
    "tags": []
   },
   "outputs": [],
   "source": [
    "x_train,x_test,y_train,y_test=train_test_split(x,y)"
   ]
  },
  {
   "cell_type": "markdown",
   "id": "bf0ba12f",
   "metadata": {
    "papermill": {
     "duration": 0.015575,
     "end_time": "2024-01-11T04:48:41.749136",
     "exception": false,
     "start_time": "2024-01-11T04:48:41.733561",
     "status": "completed"
    },
    "tags": []
   },
   "source": [
    "### Decision Tree Regressor has been taken as ML model"
   ]
  },
  {
   "cell_type": "code",
   "execution_count": 22,
   "id": "a3c6d8a4",
   "metadata": {
    "execution": {
     "iopub.execute_input": "2024-01-11T04:48:41.783093Z",
     "iopub.status.busy": "2024-01-11T04:48:41.782466Z",
     "iopub.status.idle": "2024-01-11T04:48:42.053074Z",
     "shell.execute_reply": "2024-01-11T04:48:42.051738Z"
    },
    "papermill": {
     "duration": 0.290662,
     "end_time": "2024-01-11T04:48:42.056068",
     "exception": false,
     "start_time": "2024-01-11T04:48:41.765406",
     "status": "completed"
    },
    "tags": []
   },
   "outputs": [],
   "source": [
    "from sklearn.tree import DecisionTreeRegressor"
   ]
  },
  {
   "cell_type": "code",
   "execution_count": 23,
   "id": "f29820e0",
   "metadata": {
    "execution": {
     "iopub.execute_input": "2024-01-11T04:48:42.090376Z",
     "iopub.status.busy": "2024-01-11T04:48:42.089551Z",
     "iopub.status.idle": "2024-01-11T04:48:42.105202Z",
     "shell.execute_reply": "2024-01-11T04:48:42.104028Z"
    },
    "papermill": {
     "duration": 0.035513,
     "end_time": "2024-01-11T04:48:42.108021",
     "exception": false,
     "start_time": "2024-01-11T04:48:42.072508",
     "status": "completed"
    },
    "tags": []
   },
   "outputs": [],
   "source": [
    "model=DecisionTreeRegressor()\n",
    "model.fit(x_train,y_train)\n",
    "y_pred=model.predict(x_test)"
   ]
  },
  {
   "cell_type": "markdown",
   "id": "fcc72148",
   "metadata": {
    "papermill": {
     "duration": 0.0155,
     "end_time": "2024-01-11T04:48:42.139103",
     "exception": false,
     "start_time": "2024-01-11T04:48:42.123603",
     "status": "completed"
    },
    "tags": []
   },
   "source": [
    "#### The training score is:"
   ]
  },
  {
   "cell_type": "code",
   "execution_count": 24,
   "id": "a1b5ad5c",
   "metadata": {
    "execution": {
     "iopub.execute_input": "2024-01-11T04:48:42.173090Z",
     "iopub.status.busy": "2024-01-11T04:48:42.172359Z",
     "iopub.status.idle": "2024-01-11T04:48:42.183630Z",
     "shell.execute_reply": "2024-01-11T04:48:42.182836Z"
    },
    "papermill": {
     "duration": 0.031032,
     "end_time": "2024-01-11T04:48:42.185857",
     "exception": false,
     "start_time": "2024-01-11T04:48:42.154825",
     "status": "completed"
    },
    "tags": []
   },
   "outputs": [
    {
     "data": {
      "text/plain": [
       "0.9907901737483404"
      ]
     },
     "execution_count": 24,
     "metadata": {},
     "output_type": "execute_result"
    }
   ],
   "source": [
    "model.score(x_train,y_train)"
   ]
  },
  {
   "cell_type": "markdown",
   "id": "ba0359a5",
   "metadata": {
    "papermill": {
     "duration": 0.016099,
     "end_time": "2024-01-11T04:48:42.217948",
     "exception": false,
     "start_time": "2024-01-11T04:48:42.201849",
     "status": "completed"
    },
    "tags": []
   },
   "source": [
    "#### The testing score is:"
   ]
  },
  {
   "cell_type": "code",
   "execution_count": 25,
   "id": "ad8f373f",
   "metadata": {
    "execution": {
     "iopub.execute_input": "2024-01-11T04:48:42.251898Z",
     "iopub.status.busy": "2024-01-11T04:48:42.251446Z",
     "iopub.status.idle": "2024-01-11T04:48:42.264025Z",
     "shell.execute_reply": "2024-01-11T04:48:42.263151Z"
    },
    "papermill": {
     "duration": 0.032036,
     "end_time": "2024-01-11T04:48:42.266351",
     "exception": false,
     "start_time": "2024-01-11T04:48:42.234315",
     "status": "completed"
    },
    "tags": []
   },
   "outputs": [
    {
     "data": {
      "text/plain": [
       "-2.8584871737809174"
      ]
     },
     "execution_count": 25,
     "metadata": {},
     "output_type": "execute_result"
    }
   ],
   "source": [
    "model.score(x_test,y_test)"
   ]
  },
  {
   "cell_type": "markdown",
   "id": "41c1f15f",
   "metadata": {
    "papermill": {
     "duration": 0.016028,
     "end_time": "2024-01-11T04:48:42.299062",
     "exception": false,
     "start_time": "2024-01-11T04:48:42.283034",
     "status": "completed"
    },
    "tags": []
   },
   "source": [
    "### In a regression problem, it is important to know the mean absolute error to judge the model performance"
   ]
  },
  {
   "cell_type": "code",
   "execution_count": 26,
   "id": "cc783ecb",
   "metadata": {
    "execution": {
     "iopub.execute_input": "2024-01-11T04:48:42.332870Z",
     "iopub.status.busy": "2024-01-11T04:48:42.332064Z",
     "iopub.status.idle": "2024-01-11T04:48:42.336905Z",
     "shell.execute_reply": "2024-01-11T04:48:42.336105Z"
    },
    "papermill": {
     "duration": 0.024355,
     "end_time": "2024-01-11T04:48:42.339193",
     "exception": false,
     "start_time": "2024-01-11T04:48:42.314838",
     "status": "completed"
    },
    "tags": []
   },
   "outputs": [],
   "source": [
    "from sklearn.metrics import mean_absolute_error"
   ]
  },
  {
   "cell_type": "code",
   "execution_count": 27,
   "id": "756fcf93",
   "metadata": {
    "execution": {
     "iopub.execute_input": "2024-01-11T04:48:42.372494Z",
     "iopub.status.busy": "2024-01-11T04:48:42.372108Z",
     "iopub.status.idle": "2024-01-11T04:48:42.381367Z",
     "shell.execute_reply": "2024-01-11T04:48:42.380272Z"
    },
    "papermill": {
     "duration": 0.028824,
     "end_time": "2024-01-11T04:48:42.383777",
     "exception": false,
     "start_time": "2024-01-11T04:48:42.354953",
     "status": "completed"
    },
    "tags": []
   },
   "outputs": [
    {
     "data": {
      "text/plain": [
       "119130.26681906302"
      ]
     },
     "execution_count": 27,
     "metadata": {},
     "output_type": "execute_result"
    }
   ],
   "source": [
    "mae=mean_absolute_error(y_test,y_pred)\n",
    "mae"
   ]
  }
 ],
 "metadata": {
  "kaggle": {
   "accelerator": "none",
   "dataSources": [
    {
     "datasetId": 4164244,
     "sourceId": 7199610,
     "sourceType": "datasetVersion"
    }
   ],
   "dockerImageVersionId": 30626,
   "isGpuEnabled": false,
   "isInternetEnabled": true,
   "language": "python",
   "sourceType": "notebook"
  },
  "kernelspec": {
   "display_name": "Python 3",
   "language": "python",
   "name": "python3"
  },
  "language_info": {
   "codemirror_mode": {
    "name": "ipython",
    "version": 3
   },
   "file_extension": ".py",
   "mimetype": "text/x-python",
   "name": "python",
   "nbconvert_exporter": "python",
   "pygments_lexer": "ipython3",
   "version": "3.10.12"
  },
  "papermill": {
   "default_parameters": {},
   "duration": 8.560377,
   "end_time": "2024-01-11T04:48:43.021660",
   "environment_variables": {},
   "exception": null,
   "input_path": "__notebook__.ipynb",
   "output_path": "__notebook__.ipynb",
   "parameters": {},
   "start_time": "2024-01-11T04:48:34.461283",
   "version": "2.4.0"
  }
 },
 "nbformat": 4,
 "nbformat_minor": 5
}
