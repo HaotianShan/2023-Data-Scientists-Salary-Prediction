{
 "cells": [
  {
   "cell_type": "code",
   "execution_count": 1,
   "id": "be9f6f22",
   "metadata": {
    "_cell_guid": "b1076dfc-b9ad-4769-8c92-a6c4dae69d19",
    "_uuid": "8f2839f25d086af736a60e9eeb907d3b93b6e0e5",
    "execution": {
     "iopub.execute_input": "2024-01-11T04:48:48.704794Z",
     "iopub.status.busy": "2024-01-11T04:48:48.704411Z",
     "iopub.status.idle": "2024-01-11T04:48:49.579088Z",
     "shell.execute_reply": "2024-01-11T04:48:49.577893Z"
    },
    "papermill": {
     "duration": 0.894762,
     "end_time": "2024-01-11T04:48:49.581567",
     "exception": false,
     "start_time": "2024-01-11T04:48:48.686805",
     "status": "completed"
    },
    "tags": []
   },
   "outputs": [
    {
     "name": "stdout",
     "output_type": "stream",
     "text": [
      "/kaggle/input/2023-data-scientists-salary/ds_salaries.csv\n"
     ]
    }
   ],
   "source": [
    "# This Python 3 environment comes with many helpful analytics libraries installed\n",
    "# It is defined by the kaggle/python Docker image: https://github.com/kaggle/docker-python\n",
    "# For example, here's several helpful packages to load\n",
    "\n",
    "import numpy as np # linear algebra\n",
    "import pandas as pd # data processing, CSV file I/O (e.g. pd.read_csv)\n",
    "\n",
    "# Input data files are available in the read-only \"../input/\" directory\n",
    "# For example, running this (by clicking run or pressing Shift+Enter) will list all files under the input directory\n",
    "\n",
    "import os\n",
    "for dirname, _, filenames in os.walk('/kaggle/input'):\n",
    "    for filename in filenames:\n",
    "        print(os.path.join(dirname, filename))\n",
    "\n",
    "# You can write up to 20GB to the current directory (/kaggle/working/) that gets preserved as output when you create a version using \"Save & Run All\" \n",
    "# You can also write temporary files to /kaggle/temp/, but they won't be saved outside of the current session"
   ]
  },
  {
   "cell_type": "code",
   "execution_count": 2,
   "id": "875db221",
   "metadata": {
    "execution": {
     "iopub.execute_input": "2024-01-11T04:48:49.614725Z",
     "iopub.status.busy": "2024-01-11T04:48:49.613861Z",
     "iopub.status.idle": "2024-01-11T04:48:52.985831Z",
     "shell.execute_reply": "2024-01-11T04:48:52.984595Z"
    },
    "papermill": {
     "duration": 3.391555,
     "end_time": "2024-01-11T04:48:52.988621",
     "exception": false,
     "start_time": "2024-01-11T04:48:49.597066",
     "status": "completed"
    },
    "tags": []
   },
   "outputs": [],
   "source": [
    "#importing libraries\n",
    "import plotly.express as px\n",
    "import matplotlib.pyplot as plt\n",
    "import seaborn as sns\n",
    "import plotly.figure_factory as ff\n",
    "import random"
   ]
  },
  {
   "cell_type": "markdown",
   "id": "f049d658",
   "metadata": {
    "papermill": {
     "duration": 0.015185,
     "end_time": "2024-01-11T04:48:53.019801",
     "exception": false,
     "start_time": "2024-01-11T04:48:53.004616",
     "status": "completed"
    },
    "tags": []
   },
   "source": [
    "# **Knowing The Data**"
   ]
  },
  {
   "cell_type": "code",
   "execution_count": 3,
   "id": "7d5038db",
   "metadata": {
    "execution": {
     "iopub.execute_input": "2024-01-11T04:48:53.053360Z",
     "iopub.status.busy": "2024-01-11T04:48:53.052587Z",
     "iopub.status.idle": "2024-01-11T04:48:53.106982Z",
     "shell.execute_reply": "2024-01-11T04:48:53.105788Z"
    },
    "papermill": {
     "duration": 0.074384,
     "end_time": "2024-01-11T04:48:53.109623",
     "exception": false,
     "start_time": "2024-01-11T04:48:53.035239",
     "status": "completed"
    },
    "tags": []
   },
   "outputs": [
    {
     "data": {
      "text/html": [
       "<div>\n",
       "<style scoped>\n",
       "    .dataframe tbody tr th:only-of-type {\n",
       "        vertical-align: middle;\n",
       "    }\n",
       "\n",
       "    .dataframe tbody tr th {\n",
       "        vertical-align: top;\n",
       "    }\n",
       "\n",
       "    .dataframe thead th {\n",
       "        text-align: right;\n",
       "    }\n",
       "</style>\n",
       "<table border=\"1\" class=\"dataframe\">\n",
       "  <thead>\n",
       "    <tr style=\"text-align: right;\">\n",
       "      <th></th>\n",
       "      <th>work_year</th>\n",
       "      <th>experience_level</th>\n",
       "      <th>employment_type</th>\n",
       "      <th>job_title</th>\n",
       "      <th>salary</th>\n",
       "      <th>salary_currency</th>\n",
       "      <th>salary_in_usd</th>\n",
       "      <th>employee_residence</th>\n",
       "      <th>remote_ratio</th>\n",
       "      <th>company_location</th>\n",
       "      <th>company_size</th>\n",
       "    </tr>\n",
       "  </thead>\n",
       "  <tbody>\n",
       "    <tr>\n",
       "      <th>0</th>\n",
       "      <td>2023</td>\n",
       "      <td>SE</td>\n",
       "      <td>FT</td>\n",
       "      <td>Principal Data Scientist</td>\n",
       "      <td>80000</td>\n",
       "      <td>EUR</td>\n",
       "      <td>85847</td>\n",
       "      <td>ES</td>\n",
       "      <td>100</td>\n",
       "      <td>ES</td>\n",
       "      <td>L</td>\n",
       "    </tr>\n",
       "    <tr>\n",
       "      <th>1</th>\n",
       "      <td>2023</td>\n",
       "      <td>MI</td>\n",
       "      <td>CT</td>\n",
       "      <td>ML Engineer</td>\n",
       "      <td>30000</td>\n",
       "      <td>USD</td>\n",
       "      <td>30000</td>\n",
       "      <td>US</td>\n",
       "      <td>100</td>\n",
       "      <td>US</td>\n",
       "      <td>S</td>\n",
       "    </tr>\n",
       "    <tr>\n",
       "      <th>2</th>\n",
       "      <td>2023</td>\n",
       "      <td>MI</td>\n",
       "      <td>CT</td>\n",
       "      <td>ML Engineer</td>\n",
       "      <td>25500</td>\n",
       "      <td>USD</td>\n",
       "      <td>25500</td>\n",
       "      <td>US</td>\n",
       "      <td>100</td>\n",
       "      <td>US</td>\n",
       "      <td>S</td>\n",
       "    </tr>\n",
       "    <tr>\n",
       "      <th>3</th>\n",
       "      <td>2023</td>\n",
       "      <td>SE</td>\n",
       "      <td>FT</td>\n",
       "      <td>Data Scientist</td>\n",
       "      <td>175000</td>\n",
       "      <td>USD</td>\n",
       "      <td>175000</td>\n",
       "      <td>CA</td>\n",
       "      <td>100</td>\n",
       "      <td>CA</td>\n",
       "      <td>M</td>\n",
       "    </tr>\n",
       "    <tr>\n",
       "      <th>4</th>\n",
       "      <td>2023</td>\n",
       "      <td>SE</td>\n",
       "      <td>FT</td>\n",
       "      <td>Data Scientist</td>\n",
       "      <td>120000</td>\n",
       "      <td>USD</td>\n",
       "      <td>120000</td>\n",
       "      <td>CA</td>\n",
       "      <td>100</td>\n",
       "      <td>CA</td>\n",
       "      <td>M</td>\n",
       "    </tr>\n",
       "  </tbody>\n",
       "</table>\n",
       "</div>"
      ],
      "text/plain": [
       "   work_year experience_level employment_type                 job_title  \\\n",
       "0       2023               SE              FT  Principal Data Scientist   \n",
       "1       2023               MI              CT               ML Engineer   \n",
       "2       2023               MI              CT               ML Engineer   \n",
       "3       2023               SE              FT            Data Scientist   \n",
       "4       2023               SE              FT            Data Scientist   \n",
       "\n",
       "   salary salary_currency  salary_in_usd employee_residence  remote_ratio  \\\n",
       "0   80000             EUR          85847                 ES           100   \n",
       "1   30000             USD          30000                 US           100   \n",
       "2   25500             USD          25500                 US           100   \n",
       "3  175000             USD         175000                 CA           100   \n",
       "4  120000             USD         120000                 CA           100   \n",
       "\n",
       "  company_location company_size  \n",
       "0               ES            L  \n",
       "1               US            S  \n",
       "2               US            S  \n",
       "3               CA            M  \n",
       "4               CA            M  "
      ]
     },
     "execution_count": 3,
     "metadata": {},
     "output_type": "execute_result"
    }
   ],
   "source": [
    "#importing data\n",
    "ds = pd.read_csv(\"/kaggle/input/2023-data-scientists-salary/ds_salaries.csv\")\n",
    "ds.head()"
   ]
  },
  {
   "cell_type": "code",
   "execution_count": 4,
   "id": "725a735e",
   "metadata": {
    "execution": {
     "iopub.execute_input": "2024-01-11T04:48:53.143325Z",
     "iopub.status.busy": "2024-01-11T04:48:53.142887Z",
     "iopub.status.idle": "2024-01-11T04:48:53.150032Z",
     "shell.execute_reply": "2024-01-11T04:48:53.148841Z"
    },
    "papermill": {
     "duration": 0.02661,
     "end_time": "2024-01-11T04:48:53.152275",
     "exception": false,
     "start_time": "2024-01-11T04:48:53.125665",
     "status": "completed"
    },
    "tags": []
   },
   "outputs": [
    {
     "data": {
      "text/plain": [
       "(3755, 11)"
      ]
     },
     "execution_count": 4,
     "metadata": {},
     "output_type": "execute_result"
    }
   ],
   "source": [
    "#shape of data\n",
    "ds.shape"
   ]
  },
  {
   "cell_type": "code",
   "execution_count": 5,
   "id": "b808433e",
   "metadata": {
    "execution": {
     "iopub.execute_input": "2024-01-11T04:48:53.187107Z",
     "iopub.status.busy": "2024-01-11T04:48:53.186515Z",
     "iopub.status.idle": "2024-01-11T04:48:53.215170Z",
     "shell.execute_reply": "2024-01-11T04:48:53.214048Z"
    },
    "papermill": {
     "duration": 0.048578,
     "end_time": "2024-01-11T04:48:53.217648",
     "exception": false,
     "start_time": "2024-01-11T04:48:53.169070",
     "status": "completed"
    },
    "tags": []
   },
   "outputs": [
    {
     "data": {
      "text/html": [
       "<div>\n",
       "<style scoped>\n",
       "    .dataframe tbody tr th:only-of-type {\n",
       "        vertical-align: middle;\n",
       "    }\n",
       "\n",
       "    .dataframe tbody tr th {\n",
       "        vertical-align: top;\n",
       "    }\n",
       "\n",
       "    .dataframe thead th {\n",
       "        text-align: right;\n",
       "    }\n",
       "</style>\n",
       "<table border=\"1\" class=\"dataframe\">\n",
       "  <thead>\n",
       "    <tr style=\"text-align: right;\">\n",
       "      <th></th>\n",
       "      <th>work_year</th>\n",
       "      <th>salary</th>\n",
       "      <th>salary_in_usd</th>\n",
       "      <th>remote_ratio</th>\n",
       "    </tr>\n",
       "  </thead>\n",
       "  <tbody>\n",
       "    <tr>\n",
       "      <th>count</th>\n",
       "      <td>3755.000000</td>\n",
       "      <td>3.755000e+03</td>\n",
       "      <td>3755.000000</td>\n",
       "      <td>3755.000000</td>\n",
       "    </tr>\n",
       "    <tr>\n",
       "      <th>mean</th>\n",
       "      <td>2022.373635</td>\n",
       "      <td>1.906956e+05</td>\n",
       "      <td>137570.389880</td>\n",
       "      <td>46.271638</td>\n",
       "    </tr>\n",
       "    <tr>\n",
       "      <th>std</th>\n",
       "      <td>0.691448</td>\n",
       "      <td>6.716765e+05</td>\n",
       "      <td>63055.625278</td>\n",
       "      <td>48.589050</td>\n",
       "    </tr>\n",
       "    <tr>\n",
       "      <th>min</th>\n",
       "      <td>2020.000000</td>\n",
       "      <td>6.000000e+03</td>\n",
       "      <td>5132.000000</td>\n",
       "      <td>0.000000</td>\n",
       "    </tr>\n",
       "    <tr>\n",
       "      <th>25%</th>\n",
       "      <td>2022.000000</td>\n",
       "      <td>1.000000e+05</td>\n",
       "      <td>95000.000000</td>\n",
       "      <td>0.000000</td>\n",
       "    </tr>\n",
       "    <tr>\n",
       "      <th>50%</th>\n",
       "      <td>2022.000000</td>\n",
       "      <td>1.380000e+05</td>\n",
       "      <td>135000.000000</td>\n",
       "      <td>0.000000</td>\n",
       "    </tr>\n",
       "    <tr>\n",
       "      <th>75%</th>\n",
       "      <td>2023.000000</td>\n",
       "      <td>1.800000e+05</td>\n",
       "      <td>175000.000000</td>\n",
       "      <td>100.000000</td>\n",
       "    </tr>\n",
       "    <tr>\n",
       "      <th>max</th>\n",
       "      <td>2023.000000</td>\n",
       "      <td>3.040000e+07</td>\n",
       "      <td>450000.000000</td>\n",
       "      <td>100.000000</td>\n",
       "    </tr>\n",
       "  </tbody>\n",
       "</table>\n",
       "</div>"
      ],
      "text/plain": [
       "         work_year        salary  salary_in_usd  remote_ratio\n",
       "count  3755.000000  3.755000e+03    3755.000000   3755.000000\n",
       "mean   2022.373635  1.906956e+05  137570.389880     46.271638\n",
       "std       0.691448  6.716765e+05   63055.625278     48.589050\n",
       "min    2020.000000  6.000000e+03    5132.000000      0.000000\n",
       "25%    2022.000000  1.000000e+05   95000.000000      0.000000\n",
       "50%    2022.000000  1.380000e+05  135000.000000      0.000000\n",
       "75%    2023.000000  1.800000e+05  175000.000000    100.000000\n",
       "max    2023.000000  3.040000e+07  450000.000000    100.000000"
      ]
     },
     "execution_count": 5,
     "metadata": {},
     "output_type": "execute_result"
    }
   ],
   "source": [
    "#stats of data\n",
    "ds.describe()"
   ]
  },
  {
   "cell_type": "code",
   "execution_count": 6,
   "id": "7db4d6f1",
   "metadata": {
    "execution": {
     "iopub.execute_input": "2024-01-11T04:48:53.251896Z",
     "iopub.status.busy": "2024-01-11T04:48:53.251228Z",
     "iopub.status.idle": "2024-01-11T04:48:53.280436Z",
     "shell.execute_reply": "2024-01-11T04:48:53.279333Z"
    },
    "papermill": {
     "duration": 0.049454,
     "end_time": "2024-01-11T04:48:53.283201",
     "exception": false,
     "start_time": "2024-01-11T04:48:53.233747",
     "status": "completed"
    },
    "tags": []
   },
   "outputs": [
    {
     "name": "stdout",
     "output_type": "stream",
     "text": [
      "<class 'pandas.core.frame.DataFrame'>\n",
      "RangeIndex: 3755 entries, 0 to 3754\n",
      "Data columns (total 11 columns):\n",
      " #   Column              Non-Null Count  Dtype \n",
      "---  ------              --------------  ----- \n",
      " 0   work_year           3755 non-null   int64 \n",
      " 1   experience_level    3755 non-null   object\n",
      " 2   employment_type     3755 non-null   object\n",
      " 3   job_title           3755 non-null   object\n",
      " 4   salary              3755 non-null   int64 \n",
      " 5   salary_currency     3755 non-null   object\n",
      " 6   salary_in_usd       3755 non-null   int64 \n",
      " 7   employee_residence  3755 non-null   object\n",
      " 8   remote_ratio        3755 non-null   int64 \n",
      " 9   company_location    3755 non-null   object\n",
      " 10  company_size        3755 non-null   object\n",
      "dtypes: int64(4), object(7)\n",
      "memory usage: 322.8+ KB\n"
     ]
    }
   ],
   "source": [
    "#data info \n",
    "ds.info()\n",
    "#no null values"
   ]
  },
  {
   "cell_type": "code",
   "execution_count": 7,
   "id": "c3e4302e",
   "metadata": {
    "execution": {
     "iopub.execute_input": "2024-01-11T04:48:53.317531Z",
     "iopub.status.busy": "2024-01-11T04:48:53.317152Z",
     "iopub.status.idle": "2024-01-11T04:48:53.330590Z",
     "shell.execute_reply": "2024-01-11T04:48:53.329231Z"
    },
    "papermill": {
     "duration": 0.033413,
     "end_time": "2024-01-11T04:48:53.332797",
     "exception": false,
     "start_time": "2024-01-11T04:48:53.299384",
     "status": "completed"
    },
    "tags": []
   },
   "outputs": [
    {
     "name": "stdout",
     "output_type": "stream",
     "text": [
      "Column: experience_level\n",
      "Number of Unique Values:4\n",
      "Unique Columns: ['SE' 'MI' 'EN' 'EX']\n",
      "\n",
      "Column: employment_type\n",
      "Number of Unique Values:4\n",
      "Unique Columns: ['FT' 'CT' 'FL' 'PT']\n",
      "\n",
      "Column: job_title\n",
      "Number of Unique Values:93\n",
      "Unique Columns: ['Principal Data Scientist' 'ML Engineer' 'Data Scientist'\n",
      " 'Applied Scientist' 'Data Analyst' 'Data Modeler' 'Research Engineer'\n",
      " 'Analytics Engineer' 'Business Intelligence Engineer'\n",
      " 'Machine Learning Engineer' 'Data Strategist' 'Data Engineer'\n",
      " 'Computer Vision Engineer' 'Data Quality Analyst'\n",
      " 'Compliance Data Analyst' 'Data Architect'\n",
      " 'Applied Machine Learning Engineer' 'AI Developer' 'Research Scientist'\n",
      " 'Data Analytics Manager' 'Business Data Analyst' 'Applied Data Scientist'\n",
      " 'Staff Data Analyst' 'ETL Engineer' 'Data DevOps Engineer' 'Head of Data'\n",
      " 'Data Science Manager' 'Data Manager' 'Machine Learning Researcher'\n",
      " 'Big Data Engineer' 'Data Specialist' 'Lead Data Analyst'\n",
      " 'BI Data Engineer' 'Director of Data Science'\n",
      " 'Machine Learning Scientist' 'MLOps Engineer' 'AI Scientist'\n",
      " 'Autonomous Vehicle Technician' 'Applied Machine Learning Scientist'\n",
      " 'Lead Data Scientist' 'Cloud Database Engineer' 'Financial Data Analyst'\n",
      " 'Data Infrastructure Engineer' 'Software Data Engineer' 'AI Programmer'\n",
      " 'Data Operations Engineer' 'BI Developer' 'Data Science Lead'\n",
      " 'Deep Learning Researcher' 'BI Analyst' 'Data Science Consultant'\n",
      " 'Data Analytics Specialist' 'Machine Learning Infrastructure Engineer'\n",
      " 'BI Data Analyst' 'Head of Data Science' 'Insight Analyst'\n",
      " 'Deep Learning Engineer' 'Machine Learning Software Engineer'\n",
      " 'Big Data Architect' 'Product Data Analyst'\n",
      " 'Computer Vision Software Engineer' 'Azure Data Engineer'\n",
      " 'Marketing Data Engineer' 'Data Analytics Lead' 'Data Lead'\n",
      " 'Data Science Engineer' 'Machine Learning Research Engineer'\n",
      " 'NLP Engineer' 'Manager Data Management' 'Machine Learning Developer'\n",
      " '3D Computer Vision Researcher' 'Principal Machine Learning Engineer'\n",
      " 'Data Analytics Engineer' 'Data Analytics Consultant'\n",
      " 'Data Management Specialist' 'Data Science Tech Lead'\n",
      " 'Data Scientist Lead' 'Cloud Data Engineer' 'Data Operations Analyst'\n",
      " 'Marketing Data Analyst' 'Power BI Developer' 'Product Data Scientist'\n",
      " 'Principal Data Architect' 'Machine Learning Manager'\n",
      " 'Lead Machine Learning Engineer' 'ETL Developer' 'Cloud Data Architect'\n",
      " 'Lead Data Engineer' 'Head of Machine Learning' 'Principal Data Analyst'\n",
      " 'Principal Data Engineer' 'Staff Data Scientist' 'Finance Data Analyst']\n",
      "\n",
      "Column: salary_currency\n",
      "Number of Unique Values:20\n",
      "Unique Columns: ['EUR' 'USD' 'INR' 'HKD' 'CHF' 'GBP' 'AUD' 'SGD' 'CAD' 'ILS' 'BRL' 'THB'\n",
      " 'PLN' 'HUF' 'CZK' 'DKK' 'JPY' 'MXN' 'TRY' 'CLP']\n",
      "\n",
      "Column: employee_residence\n",
      "Number of Unique Values:78\n",
      "Unique Columns: ['ES' 'US' 'CA' 'DE' 'GB' 'NG' 'IN' 'HK' 'PT' 'NL' 'CH' 'CF' 'FR' 'AU'\n",
      " 'FI' 'UA' 'IE' 'IL' 'GH' 'AT' 'CO' 'SG' 'SE' 'SI' 'MX' 'UZ' 'BR' 'TH'\n",
      " 'HR' 'PL' 'KW' 'VN' 'CY' 'AR' 'AM' 'BA' 'KE' 'GR' 'MK' 'LV' 'RO' 'PK'\n",
      " 'IT' 'MA' 'LT' 'BE' 'AS' 'IR' 'HU' 'SK' 'CN' 'CZ' 'CR' 'TR' 'CL' 'PR'\n",
      " 'DK' 'BO' 'PH' 'DO' 'EG' 'ID' 'AE' 'MY' 'JP' 'EE' 'HN' 'TN' 'RU' 'DZ'\n",
      " 'IQ' 'BG' 'JE' 'RS' 'NZ' 'MD' 'LU' 'MT']\n",
      "\n",
      "Column: company_location\n",
      "Number of Unique Values:72\n",
      "Unique Columns: ['ES' 'US' 'CA' 'DE' 'GB' 'NG' 'IN' 'HK' 'NL' 'CH' 'CF' 'FR' 'FI' 'UA'\n",
      " 'IE' 'IL' 'GH' 'CO' 'SG' 'AU' 'SE' 'SI' 'MX' 'BR' 'PT' 'RU' 'TH' 'HR'\n",
      " 'VN' 'EE' 'AM' 'BA' 'KE' 'GR' 'MK' 'LV' 'RO' 'PK' 'IT' 'MA' 'PL' 'AL'\n",
      " 'AR' 'LT' 'AS' 'CR' 'IR' 'BS' 'HU' 'AT' 'SK' 'CZ' 'TR' 'PR' 'DK' 'BO'\n",
      " 'PH' 'BE' 'ID' 'EG' 'AE' 'LU' 'MY' 'HN' 'JP' 'DZ' 'IQ' 'CN' 'NZ' 'CL'\n",
      " 'MD' 'MT']\n",
      "\n",
      "Column: company_size\n",
      "Number of Unique Values:3\n",
      "Unique Columns: ['L' 'S' 'M']\n",
      "\n"
     ]
    }
   ],
   "source": [
    "#unique vales in each columns\n",
    "for col in ds.columns:\n",
    "    if ds[col].dtype not in (float, int):\n",
    "        print(f\"Column: {col}\\nNumber of Unique Values:{len(ds[col].unique())}\\nUnique Columns: {ds[col].unique()}\\n\")"
   ]
  },
  {
   "cell_type": "code",
   "execution_count": 8,
   "id": "41dd92f9",
   "metadata": {
    "execution": {
     "iopub.execute_input": "2024-01-11T04:48:53.367902Z",
     "iopub.status.busy": "2024-01-11T04:48:53.367494Z",
     "iopub.status.idle": "2024-01-11T04:48:55.789905Z",
     "shell.execute_reply": "2024-01-11T04:48:55.788700Z"
    },
    "papermill": {
     "duration": 2.443292,
     "end_time": "2024-01-11T04:48:55.792535",
     "exception": false,
     "start_time": "2024-01-11T04:48:53.349243",
     "status": "completed"
    },
    "tags": []
   },
   "outputs": [
    {
     "data": {
      "text/html": [
       "        <script type=\"text/javascript\">\n",
       "        window.PlotlyConfig = {MathJaxConfig: 'local'};\n",
       "        if (window.MathJax && window.MathJax.Hub && window.MathJax.Hub.Config) {window.MathJax.Hub.Config({SVG: {font: \"STIX-Web\"}});}\n",
       "        if (typeof require !== 'undefined') {\n",
       "        require.undef(\"plotly\");\n",
       "        requirejs.config({\n",
       "            paths: {\n",
       "                'plotly': ['https://cdn.plot.ly/plotly-2.25.2.min']\n",
       "            }\n",
       "        });\n",
       "        require(['plotly'], function(Plotly) {\n",
       "            window._Plotly = Plotly;\n",
       "        });\n",
       "        }\n",
       "        </script>\n",
       "        "
      ]
     },
     "metadata": {},
     "output_type": "display_data"
    },
    {
     "data": {
      "text/html": [
       "<div>                            <div id=\"b16cc2ce-64f7-4563-a1d6-8dc07b047d87\" class=\"plotly-graph-div\" style=\"height:525px; width:100%;\"></div>            <script type=\"text/javascript\">                require([\"plotly\"], function(Plotly) {                    window.PLOTLYENV=window.PLOTLYENV || {};                                    if (document.getElementById(\"b16cc2ce-64f7-4563-a1d6-8dc07b047d87\")) {                    Plotly.newPlot(                        \"b16cc2ce-64f7-4563-a1d6-8dc07b047d87\",                        [{\"alignmentgroup\":\"True\",\"hovertemplate\":\"work_year=%{x}\\u003cbr\\u003evalue=%{marker.color}\\u003cextra\\u003e\\u003c\\u002fextra\\u003e\",\"legendgroup\":\"\",\"marker\":{\"color\":[1785,1664,230,76],\"coloraxis\":\"coloraxis\",\"pattern\":{\"shape\":\"\"}},\"name\":\"\",\"offsetgroup\":\"\",\"orientation\":\"v\",\"showlegend\":false,\"text\":[1785.0,1664.0,230.0,76.0],\"textposition\":\"auto\",\"x\":[2023,2022,2021,2020],\"xaxis\":\"x\",\"y\":[1785,1664,230,76],\"yaxis\":\"y\",\"type\":\"bar\"}],                        {\"template\":{\"data\":{\"histogram2dcontour\":[{\"type\":\"histogram2dcontour\",\"colorbar\":{\"outlinewidth\":0,\"ticks\":\"\"},\"colorscale\":[[0.0,\"#0d0887\"],[0.1111111111111111,\"#46039f\"],[0.2222222222222222,\"#7201a8\"],[0.3333333333333333,\"#9c179e\"],[0.4444444444444444,\"#bd3786\"],[0.5555555555555556,\"#d8576b\"],[0.6666666666666666,\"#ed7953\"],[0.7777777777777778,\"#fb9f3a\"],[0.8888888888888888,\"#fdca26\"],[1.0,\"#f0f921\"]]}],\"choropleth\":[{\"type\":\"choropleth\",\"colorbar\":{\"outlinewidth\":0,\"ticks\":\"\"}}],\"histogram2d\":[{\"type\":\"histogram2d\",\"colorbar\":{\"outlinewidth\":0,\"ticks\":\"\"},\"colorscale\":[[0.0,\"#0d0887\"],[0.1111111111111111,\"#46039f\"],[0.2222222222222222,\"#7201a8\"],[0.3333333333333333,\"#9c179e\"],[0.4444444444444444,\"#bd3786\"],[0.5555555555555556,\"#d8576b\"],[0.6666666666666666,\"#ed7953\"],[0.7777777777777778,\"#fb9f3a\"],[0.8888888888888888,\"#fdca26\"],[1.0,\"#f0f921\"]]}],\"heatmap\":[{\"type\":\"heatmap\",\"colorbar\":{\"outlinewidth\":0,\"ticks\":\"\"},\"colorscale\":[[0.0,\"#0d0887\"],[0.1111111111111111,\"#46039f\"],[0.2222222222222222,\"#7201a8\"],[0.3333333333333333,\"#9c179e\"],[0.4444444444444444,\"#bd3786\"],[0.5555555555555556,\"#d8576b\"],[0.6666666666666666,\"#ed7953\"],[0.7777777777777778,\"#fb9f3a\"],[0.8888888888888888,\"#fdca26\"],[1.0,\"#f0f921\"]]}],\"heatmapgl\":[{\"type\":\"heatmapgl\",\"colorbar\":{\"outlinewidth\":0,\"ticks\":\"\"},\"colorscale\":[[0.0,\"#0d0887\"],[0.1111111111111111,\"#46039f\"],[0.2222222222222222,\"#7201a8\"],[0.3333333333333333,\"#9c179e\"],[0.4444444444444444,\"#bd3786\"],[0.5555555555555556,\"#d8576b\"],[0.6666666666666666,\"#ed7953\"],[0.7777777777777778,\"#fb9f3a\"],[0.8888888888888888,\"#fdca26\"],[1.0,\"#f0f921\"]]}],\"contourcarpet\":[{\"type\":\"contourcarpet\",\"colorbar\":{\"outlinewidth\":0,\"ticks\":\"\"}}],\"contour\":[{\"type\":\"contour\",\"colorbar\":{\"outlinewidth\":0,\"ticks\":\"\"},\"colorscale\":[[0.0,\"#0d0887\"],[0.1111111111111111,\"#46039f\"],[0.2222222222222222,\"#7201a8\"],[0.3333333333333333,\"#9c179e\"],[0.4444444444444444,\"#bd3786\"],[0.5555555555555556,\"#d8576b\"],[0.6666666666666666,\"#ed7953\"],[0.7777777777777778,\"#fb9f3a\"],[0.8888888888888888,\"#fdca26\"],[1.0,\"#f0f921\"]]}],\"surface\":[{\"type\":\"surface\",\"colorbar\":{\"outlinewidth\":0,\"ticks\":\"\"},\"colorscale\":[[0.0,\"#0d0887\"],[0.1111111111111111,\"#46039f\"],[0.2222222222222222,\"#7201a8\"],[0.3333333333333333,\"#9c179e\"],[0.4444444444444444,\"#bd3786\"],[0.5555555555555556,\"#d8576b\"],[0.6666666666666666,\"#ed7953\"],[0.7777777777777778,\"#fb9f3a\"],[0.8888888888888888,\"#fdca26\"],[1.0,\"#f0f921\"]]}],\"mesh3d\":[{\"type\":\"mesh3d\",\"colorbar\":{\"outlinewidth\":0,\"ticks\":\"\"}}],\"scatter\":[{\"fillpattern\":{\"fillmode\":\"overlay\",\"size\":10,\"solidity\":0.2},\"type\":\"scatter\"}],\"parcoords\":[{\"type\":\"parcoords\",\"line\":{\"colorbar\":{\"outlinewidth\":0,\"ticks\":\"\"}}}],\"scatterpolargl\":[{\"type\":\"scatterpolargl\",\"marker\":{\"colorbar\":{\"outlinewidth\":0,\"ticks\":\"\"}}}],\"bar\":[{\"error_x\":{\"color\":\"#2a3f5f\"},\"error_y\":{\"color\":\"#2a3f5f\"},\"marker\":{\"line\":{\"color\":\"#E5ECF6\",\"width\":0.5},\"pattern\":{\"fillmode\":\"overlay\",\"size\":10,\"solidity\":0.2}},\"type\":\"bar\"}],\"scattergeo\":[{\"type\":\"scattergeo\",\"marker\":{\"colorbar\":{\"outlinewidth\":0,\"ticks\":\"\"}}}],\"scatterpolar\":[{\"type\":\"scatterpolar\",\"marker\":{\"colorbar\":{\"outlinewidth\":0,\"ticks\":\"\"}}}],\"histogram\":[{\"marker\":{\"pattern\":{\"fillmode\":\"overlay\",\"size\":10,\"solidity\":0.2}},\"type\":\"histogram\"}],\"scattergl\":[{\"type\":\"scattergl\",\"marker\":{\"colorbar\":{\"outlinewidth\":0,\"ticks\":\"\"}}}],\"scatter3d\":[{\"type\":\"scatter3d\",\"line\":{\"colorbar\":{\"outlinewidth\":0,\"ticks\":\"\"}},\"marker\":{\"colorbar\":{\"outlinewidth\":0,\"ticks\":\"\"}}}],\"scattermapbox\":[{\"type\":\"scattermapbox\",\"marker\":{\"colorbar\":{\"outlinewidth\":0,\"ticks\":\"\"}}}],\"scatterternary\":[{\"type\":\"scatterternary\",\"marker\":{\"colorbar\":{\"outlinewidth\":0,\"ticks\":\"\"}}}],\"scattercarpet\":[{\"type\":\"scattercarpet\",\"marker\":{\"colorbar\":{\"outlinewidth\":0,\"ticks\":\"\"}}}],\"carpet\":[{\"aaxis\":{\"endlinecolor\":\"#2a3f5f\",\"gridcolor\":\"white\",\"linecolor\":\"white\",\"minorgridcolor\":\"white\",\"startlinecolor\":\"#2a3f5f\"},\"baxis\":{\"endlinecolor\":\"#2a3f5f\",\"gridcolor\":\"white\",\"linecolor\":\"white\",\"minorgridcolor\":\"white\",\"startlinecolor\":\"#2a3f5f\"},\"type\":\"carpet\"}],\"table\":[{\"cells\":{\"fill\":{\"color\":\"#EBF0F8\"},\"line\":{\"color\":\"white\"}},\"header\":{\"fill\":{\"color\":\"#C8D4E3\"},\"line\":{\"color\":\"white\"}},\"type\":\"table\"}],\"barpolar\":[{\"marker\":{\"line\":{\"color\":\"#E5ECF6\",\"width\":0.5},\"pattern\":{\"fillmode\":\"overlay\",\"size\":10,\"solidity\":0.2}},\"type\":\"barpolar\"}],\"pie\":[{\"automargin\":true,\"type\":\"pie\"}]},\"layout\":{\"autotypenumbers\":\"strict\",\"colorway\":[\"#636efa\",\"#EF553B\",\"#00cc96\",\"#ab63fa\",\"#FFA15A\",\"#19d3f3\",\"#FF6692\",\"#B6E880\",\"#FF97FF\",\"#FECB52\"],\"font\":{\"color\":\"#2a3f5f\"},\"hovermode\":\"closest\",\"hoverlabel\":{\"align\":\"left\"},\"paper_bgcolor\":\"white\",\"plot_bgcolor\":\"#E5ECF6\",\"polar\":{\"bgcolor\":\"#E5ECF6\",\"angularaxis\":{\"gridcolor\":\"white\",\"linecolor\":\"white\",\"ticks\":\"\"},\"radialaxis\":{\"gridcolor\":\"white\",\"linecolor\":\"white\",\"ticks\":\"\"}},\"ternary\":{\"bgcolor\":\"#E5ECF6\",\"aaxis\":{\"gridcolor\":\"white\",\"linecolor\":\"white\",\"ticks\":\"\"},\"baxis\":{\"gridcolor\":\"white\",\"linecolor\":\"white\",\"ticks\":\"\"},\"caxis\":{\"gridcolor\":\"white\",\"linecolor\":\"white\",\"ticks\":\"\"}},\"coloraxis\":{\"colorbar\":{\"outlinewidth\":0,\"ticks\":\"\"}},\"colorscale\":{\"sequential\":[[0.0,\"#0d0887\"],[0.1111111111111111,\"#46039f\"],[0.2222222222222222,\"#7201a8\"],[0.3333333333333333,\"#9c179e\"],[0.4444444444444444,\"#bd3786\"],[0.5555555555555556,\"#d8576b\"],[0.6666666666666666,\"#ed7953\"],[0.7777777777777778,\"#fb9f3a\"],[0.8888888888888888,\"#fdca26\"],[1.0,\"#f0f921\"]],\"sequentialminus\":[[0.0,\"#0d0887\"],[0.1111111111111111,\"#46039f\"],[0.2222222222222222,\"#7201a8\"],[0.3333333333333333,\"#9c179e\"],[0.4444444444444444,\"#bd3786\"],[0.5555555555555556,\"#d8576b\"],[0.6666666666666666,\"#ed7953\"],[0.7777777777777778,\"#fb9f3a\"],[0.8888888888888888,\"#fdca26\"],[1.0,\"#f0f921\"]],\"diverging\":[[0,\"#8e0152\"],[0.1,\"#c51b7d\"],[0.2,\"#de77ae\"],[0.3,\"#f1b6da\"],[0.4,\"#fde0ef\"],[0.5,\"#f7f7f7\"],[0.6,\"#e6f5d0\"],[0.7,\"#b8e186\"],[0.8,\"#7fbc41\"],[0.9,\"#4d9221\"],[1,\"#276419\"]]},\"xaxis\":{\"gridcolor\":\"white\",\"linecolor\":\"white\",\"ticks\":\"\",\"title\":{\"standoff\":15},\"zerolinecolor\":\"white\",\"automargin\":true,\"zerolinewidth\":2},\"yaxis\":{\"gridcolor\":\"white\",\"linecolor\":\"white\",\"ticks\":\"\",\"title\":{\"standoff\":15},\"zerolinecolor\":\"white\",\"automargin\":true,\"zerolinewidth\":2},\"scene\":{\"xaxis\":{\"backgroundcolor\":\"#E5ECF6\",\"gridcolor\":\"white\",\"linecolor\":\"white\",\"showbackground\":true,\"ticks\":\"\",\"zerolinecolor\":\"white\",\"gridwidth\":2},\"yaxis\":{\"backgroundcolor\":\"#E5ECF6\",\"gridcolor\":\"white\",\"linecolor\":\"white\",\"showbackground\":true,\"ticks\":\"\",\"zerolinecolor\":\"white\",\"gridwidth\":2},\"zaxis\":{\"backgroundcolor\":\"#E5ECF6\",\"gridcolor\":\"white\",\"linecolor\":\"white\",\"showbackground\":true,\"ticks\":\"\",\"zerolinecolor\":\"white\",\"gridwidth\":2}},\"shapedefaults\":{\"line\":{\"color\":\"#2a3f5f\"}},\"annotationdefaults\":{\"arrowcolor\":\"#2a3f5f\",\"arrowhead\":0,\"arrowwidth\":1},\"geo\":{\"bgcolor\":\"white\",\"landcolor\":\"#E5ECF6\",\"subunitcolor\":\"white\",\"showland\":true,\"showlakes\":true,\"lakecolor\":\"white\"},\"title\":{\"x\":0.05},\"mapbox\":{\"style\":\"light\"}}},\"xaxis\":{\"anchor\":\"y\",\"domain\":[0.0,1.0],\"title\":{\"text\":\"work_year\"}},\"yaxis\":{\"anchor\":\"x\",\"domain\":[0.0,1.0],\"title\":{\"text\":\"value\"}},\"coloraxis\":{\"colorbar\":{\"title\":{\"text\":\"value\"}},\"colorscale\":[[0.0,\"rgb(228, 241, 225)\"],[0.16666666666666666,\"rgb(180, 217, 204)\"],[0.3333333333333333,\"rgb(137, 192, 182)\"],[0.5,\"rgb(99, 166, 160)\"],[0.6666666666666666,\"rgb(68, 140, 138)\"],[0.8333333333333334,\"rgb(40, 114, 116)\"],[1.0,\"rgb(13, 88, 95)\"]]},\"legend\":{\"tracegroupgap\":0},\"title\":{\"text\":\"Count of Values for Workyear\"},\"barmode\":\"relative\"},                        {\"responsive\": true}                    ).then(function(){\n",
       "                            \n",
       "var gd = document.getElementById('b16cc2ce-64f7-4563-a1d6-8dc07b047d87');\n",
       "var x = new MutationObserver(function (mutations, observer) {{\n",
       "        var display = window.getComputedStyle(gd).display;\n",
       "        if (!display || display === 'none') {{\n",
       "            console.log([gd, 'removed!']);\n",
       "            Plotly.purge(gd);\n",
       "            observer.disconnect();\n",
       "        }}\n",
       "}});\n",
       "\n",
       "// Listen for the removal of the full notebook cells\n",
       "var notebookContainer = gd.closest('#notebook-container');\n",
       "if (notebookContainer) {{\n",
       "    x.observe(notebookContainer, {childList: true});\n",
       "}}\n",
       "\n",
       "// Listen for the clearing of the current output cell\n",
       "var outputEl = gd.closest('.output');\n",
       "if (outputEl) {{\n",
       "    x.observe(outputEl, {childList: true});\n",
       "}}\n",
       "\n",
       "                        })                };                });            </script>        </div>"
      ]
     },
     "metadata": {},
     "output_type": "display_data"
    },
    {
     "data": {
      "text/html": [
       "<div>                            <div id=\"6febac2e-fdac-4e04-8d23-2ef819177245\" class=\"plotly-graph-div\" style=\"height:525px; width:100%;\"></div>            <script type=\"text/javascript\">                require([\"plotly\"], function(Plotly) {                    window.PLOTLYENV=window.PLOTLYENV || {};                                    if (document.getElementById(\"6febac2e-fdac-4e04-8d23-2ef819177245\")) {                    Plotly.newPlot(                        \"6febac2e-fdac-4e04-8d23-2ef819177245\",                        [{\"alignmentgroup\":\"True\",\"hovertemplate\":\"experience_level=%{x}\\u003cbr\\u003evalue=%{marker.color}\\u003cextra\\u003e\\u003c\\u002fextra\\u003e\",\"legendgroup\":\"\",\"marker\":{\"color\":[2516,805,320,114],\"coloraxis\":\"coloraxis\",\"pattern\":{\"shape\":\"\"}},\"name\":\"\",\"offsetgroup\":\"\",\"orientation\":\"v\",\"showlegend\":false,\"text\":[2516.0,805.0,320.0,114.0],\"textposition\":\"auto\",\"x\":[\"SE\",\"MI\",\"EN\",\"EX\"],\"xaxis\":\"x\",\"y\":[2516,805,320,114],\"yaxis\":\"y\",\"type\":\"bar\"}],                        {\"template\":{\"data\":{\"histogram2dcontour\":[{\"type\":\"histogram2dcontour\",\"colorbar\":{\"outlinewidth\":0,\"ticks\":\"\"},\"colorscale\":[[0.0,\"#0d0887\"],[0.1111111111111111,\"#46039f\"],[0.2222222222222222,\"#7201a8\"],[0.3333333333333333,\"#9c179e\"],[0.4444444444444444,\"#bd3786\"],[0.5555555555555556,\"#d8576b\"],[0.6666666666666666,\"#ed7953\"],[0.7777777777777778,\"#fb9f3a\"],[0.8888888888888888,\"#fdca26\"],[1.0,\"#f0f921\"]]}],\"choropleth\":[{\"type\":\"choropleth\",\"colorbar\":{\"outlinewidth\":0,\"ticks\":\"\"}}],\"histogram2d\":[{\"type\":\"histogram2d\",\"colorbar\":{\"outlinewidth\":0,\"ticks\":\"\"},\"colorscale\":[[0.0,\"#0d0887\"],[0.1111111111111111,\"#46039f\"],[0.2222222222222222,\"#7201a8\"],[0.3333333333333333,\"#9c179e\"],[0.4444444444444444,\"#bd3786\"],[0.5555555555555556,\"#d8576b\"],[0.6666666666666666,\"#ed7953\"],[0.7777777777777778,\"#fb9f3a\"],[0.8888888888888888,\"#fdca26\"],[1.0,\"#f0f921\"]]}],\"heatmap\":[{\"type\":\"heatmap\",\"colorbar\":{\"outlinewidth\":0,\"ticks\":\"\"},\"colorscale\":[[0.0,\"#0d0887\"],[0.1111111111111111,\"#46039f\"],[0.2222222222222222,\"#7201a8\"],[0.3333333333333333,\"#9c179e\"],[0.4444444444444444,\"#bd3786\"],[0.5555555555555556,\"#d8576b\"],[0.6666666666666666,\"#ed7953\"],[0.7777777777777778,\"#fb9f3a\"],[0.8888888888888888,\"#fdca26\"],[1.0,\"#f0f921\"]]}],\"heatmapgl\":[{\"type\":\"heatmapgl\",\"colorbar\":{\"outlinewidth\":0,\"ticks\":\"\"},\"colorscale\":[[0.0,\"#0d0887\"],[0.1111111111111111,\"#46039f\"],[0.2222222222222222,\"#7201a8\"],[0.3333333333333333,\"#9c179e\"],[0.4444444444444444,\"#bd3786\"],[0.5555555555555556,\"#d8576b\"],[0.6666666666666666,\"#ed7953\"],[0.7777777777777778,\"#fb9f3a\"],[0.8888888888888888,\"#fdca26\"],[1.0,\"#f0f921\"]]}],\"contourcarpet\":[{\"type\":\"contourcarpet\",\"colorbar\":{\"outlinewidth\":0,\"ticks\":\"\"}}],\"contour\":[{\"type\":\"contour\",\"colorbar\":{\"outlinewidth\":0,\"ticks\":\"\"},\"colorscale\":[[0.0,\"#0d0887\"],[0.1111111111111111,\"#46039f\"],[0.2222222222222222,\"#7201a8\"],[0.3333333333333333,\"#9c179e\"],[0.4444444444444444,\"#bd3786\"],[0.5555555555555556,\"#d8576b\"],[0.6666666666666666,\"#ed7953\"],[0.7777777777777778,\"#fb9f3a\"],[0.8888888888888888,\"#fdca26\"],[1.0,\"#f0f921\"]]}],\"surface\":[{\"type\":\"surface\",\"colorbar\":{\"outlinewidth\":0,\"ticks\":\"\"},\"colorscale\":[[0.0,\"#0d0887\"],[0.1111111111111111,\"#46039f\"],[0.2222222222222222,\"#7201a8\"],[0.3333333333333333,\"#9c179e\"],[0.4444444444444444,\"#bd3786\"],[0.5555555555555556,\"#d8576b\"],[0.6666666666666666,\"#ed7953\"],[0.7777777777777778,\"#fb9f3a\"],[0.8888888888888888,\"#fdca26\"],[1.0,\"#f0f921\"]]}],\"mesh3d\":[{\"type\":\"mesh3d\",\"colorbar\":{\"outlinewidth\":0,\"ticks\":\"\"}}],\"scatter\":[{\"fillpattern\":{\"fillmode\":\"overlay\",\"size\":10,\"solidity\":0.2},\"type\":\"scatter\"}],\"parcoords\":[{\"type\":\"parcoords\",\"line\":{\"colorbar\":{\"outlinewidth\":0,\"ticks\":\"\"}}}],\"scatterpolargl\":[{\"type\":\"scatterpolargl\",\"marker\":{\"colorbar\":{\"outlinewidth\":0,\"ticks\":\"\"}}}],\"bar\":[{\"error_x\":{\"color\":\"#2a3f5f\"},\"error_y\":{\"color\":\"#2a3f5f\"},\"marker\":{\"line\":{\"color\":\"#E5ECF6\",\"width\":0.5},\"pattern\":{\"fillmode\":\"overlay\",\"size\":10,\"solidity\":0.2}},\"type\":\"bar\"}],\"scattergeo\":[{\"type\":\"scattergeo\",\"marker\":{\"colorbar\":{\"outlinewidth\":0,\"ticks\":\"\"}}}],\"scatterpolar\":[{\"type\":\"scatterpolar\",\"marker\":{\"colorbar\":{\"outlinewidth\":0,\"ticks\":\"\"}}}],\"histogram\":[{\"marker\":{\"pattern\":{\"fillmode\":\"overlay\",\"size\":10,\"solidity\":0.2}},\"type\":\"histogram\"}],\"scattergl\":[{\"type\":\"scattergl\",\"marker\":{\"colorbar\":{\"outlinewidth\":0,\"ticks\":\"\"}}}],\"scatter3d\":[{\"type\":\"scatter3d\",\"line\":{\"colorbar\":{\"outlinewidth\":0,\"ticks\":\"\"}},\"marker\":{\"colorbar\":{\"outlinewidth\":0,\"ticks\":\"\"}}}],\"scattermapbox\":[{\"type\":\"scattermapbox\",\"marker\":{\"colorbar\":{\"outlinewidth\":0,\"ticks\":\"\"}}}],\"scatterternary\":[{\"type\":\"scatterternary\",\"marker\":{\"colorbar\":{\"outlinewidth\":0,\"ticks\":\"\"}}}],\"scattercarpet\":[{\"type\":\"scattercarpet\",\"marker\":{\"colorbar\":{\"outlinewidth\":0,\"ticks\":\"\"}}}],\"carpet\":[{\"aaxis\":{\"endlinecolor\":\"#2a3f5f\",\"gridcolor\":\"white\",\"linecolor\":\"white\",\"minorgridcolor\":\"white\",\"startlinecolor\":\"#2a3f5f\"},\"baxis\":{\"endlinecolor\":\"#2a3f5f\",\"gridcolor\":\"white\",\"linecolor\":\"white\",\"minorgridcolor\":\"white\",\"startlinecolor\":\"#2a3f5f\"},\"type\":\"carpet\"}],\"table\":[{\"cells\":{\"fill\":{\"color\":\"#EBF0F8\"},\"line\":{\"color\":\"white\"}},\"header\":{\"fill\":{\"color\":\"#C8D4E3\"},\"line\":{\"color\":\"white\"}},\"type\":\"table\"}],\"barpolar\":[{\"marker\":{\"line\":{\"color\":\"#E5ECF6\",\"width\":0.5},\"pattern\":{\"fillmode\":\"overlay\",\"size\":10,\"solidity\":0.2}},\"type\":\"barpolar\"}],\"pie\":[{\"automargin\":true,\"type\":\"pie\"}]},\"layout\":{\"autotypenumbers\":\"strict\",\"colorway\":[\"#636efa\",\"#EF553B\",\"#00cc96\",\"#ab63fa\",\"#FFA15A\",\"#19d3f3\",\"#FF6692\",\"#B6E880\",\"#FF97FF\",\"#FECB52\"],\"font\":{\"color\":\"#2a3f5f\"},\"hovermode\":\"closest\",\"hoverlabel\":{\"align\":\"left\"},\"paper_bgcolor\":\"white\",\"plot_bgcolor\":\"#E5ECF6\",\"polar\":{\"bgcolor\":\"#E5ECF6\",\"angularaxis\":{\"gridcolor\":\"white\",\"linecolor\":\"white\",\"ticks\":\"\"},\"radialaxis\":{\"gridcolor\":\"white\",\"linecolor\":\"white\",\"ticks\":\"\"}},\"ternary\":{\"bgcolor\":\"#E5ECF6\",\"aaxis\":{\"gridcolor\":\"white\",\"linecolor\":\"white\",\"ticks\":\"\"},\"baxis\":{\"gridcolor\":\"white\",\"linecolor\":\"white\",\"ticks\":\"\"},\"caxis\":{\"gridcolor\":\"white\",\"linecolor\":\"white\",\"ticks\":\"\"}},\"coloraxis\":{\"colorbar\":{\"outlinewidth\":0,\"ticks\":\"\"}},\"colorscale\":{\"sequential\":[[0.0,\"#0d0887\"],[0.1111111111111111,\"#46039f\"],[0.2222222222222222,\"#7201a8\"],[0.3333333333333333,\"#9c179e\"],[0.4444444444444444,\"#bd3786\"],[0.5555555555555556,\"#d8576b\"],[0.6666666666666666,\"#ed7953\"],[0.7777777777777778,\"#fb9f3a\"],[0.8888888888888888,\"#fdca26\"],[1.0,\"#f0f921\"]],\"sequentialminus\":[[0.0,\"#0d0887\"],[0.1111111111111111,\"#46039f\"],[0.2222222222222222,\"#7201a8\"],[0.3333333333333333,\"#9c179e\"],[0.4444444444444444,\"#bd3786\"],[0.5555555555555556,\"#d8576b\"],[0.6666666666666666,\"#ed7953\"],[0.7777777777777778,\"#fb9f3a\"],[0.8888888888888888,\"#fdca26\"],[1.0,\"#f0f921\"]],\"diverging\":[[0,\"#8e0152\"],[0.1,\"#c51b7d\"],[0.2,\"#de77ae\"],[0.3,\"#f1b6da\"],[0.4,\"#fde0ef\"],[0.5,\"#f7f7f7\"],[0.6,\"#e6f5d0\"],[0.7,\"#b8e186\"],[0.8,\"#7fbc41\"],[0.9,\"#4d9221\"],[1,\"#276419\"]]},\"xaxis\":{\"gridcolor\":\"white\",\"linecolor\":\"white\",\"ticks\":\"\",\"title\":{\"standoff\":15},\"zerolinecolor\":\"white\",\"automargin\":true,\"zerolinewidth\":2},\"yaxis\":{\"gridcolor\":\"white\",\"linecolor\":\"white\",\"ticks\":\"\",\"title\":{\"standoff\":15},\"zerolinecolor\":\"white\",\"automargin\":true,\"zerolinewidth\":2},\"scene\":{\"xaxis\":{\"backgroundcolor\":\"#E5ECF6\",\"gridcolor\":\"white\",\"linecolor\":\"white\",\"showbackground\":true,\"ticks\":\"\",\"zerolinecolor\":\"white\",\"gridwidth\":2},\"yaxis\":{\"backgroundcolor\":\"#E5ECF6\",\"gridcolor\":\"white\",\"linecolor\":\"white\",\"showbackground\":true,\"ticks\":\"\",\"zerolinecolor\":\"white\",\"gridwidth\":2},\"zaxis\":{\"backgroundcolor\":\"#E5ECF6\",\"gridcolor\":\"white\",\"linecolor\":\"white\",\"showbackground\":true,\"ticks\":\"\",\"zerolinecolor\":\"white\",\"gridwidth\":2}},\"shapedefaults\":{\"line\":{\"color\":\"#2a3f5f\"}},\"annotationdefaults\":{\"arrowcolor\":\"#2a3f5f\",\"arrowhead\":0,\"arrowwidth\":1},\"geo\":{\"bgcolor\":\"white\",\"landcolor\":\"#E5ECF6\",\"subunitcolor\":\"white\",\"showland\":true,\"showlakes\":true,\"lakecolor\":\"white\"},\"title\":{\"x\":0.05},\"mapbox\":{\"style\":\"light\"}}},\"xaxis\":{\"anchor\":\"y\",\"domain\":[0.0,1.0],\"title\":{\"text\":\"experience_level\"}},\"yaxis\":{\"anchor\":\"x\",\"domain\":[0.0,1.0],\"title\":{\"text\":\"value\"}},\"coloraxis\":{\"colorbar\":{\"title\":{\"text\":\"value\"}},\"colorscale\":[[0.0,\"rgb(238, 77, 90)\"],[0.16666666666666666,\"rgb(246, 99, 86)\"],[0.3333333333333333,\"rgb(249, 123, 87)\"],[0.5,\"rgb(247, 148, 93)\"],[0.6666666666666666,\"rgb(243, 173, 106)\"],[0.8333333333333334,\"rgb(239, 196, 126)\"],[1.0,\"rgb(236, 218, 154)\"]]},\"legend\":{\"tracegroupgap\":0},\"title\":{\"text\":\"Count of Values for Experiencelevel\"},\"barmode\":\"relative\"},                        {\"responsive\": true}                    ).then(function(){\n",
       "                            \n",
       "var gd = document.getElementById('6febac2e-fdac-4e04-8d23-2ef819177245');\n",
       "var x = new MutationObserver(function (mutations, observer) {{\n",
       "        var display = window.getComputedStyle(gd).display;\n",
       "        if (!display || display === 'none') {{\n",
       "            console.log([gd, 'removed!']);\n",
       "            Plotly.purge(gd);\n",
       "            observer.disconnect();\n",
       "        }}\n",
       "}});\n",
       "\n",
       "// Listen for the removal of the full notebook cells\n",
       "var notebookContainer = gd.closest('#notebook-container');\n",
       "if (notebookContainer) {{\n",
       "    x.observe(notebookContainer, {childList: true});\n",
       "}}\n",
       "\n",
       "// Listen for the clearing of the current output cell\n",
       "var outputEl = gd.closest('.output');\n",
       "if (outputEl) {{\n",
       "    x.observe(outputEl, {childList: true});\n",
       "}}\n",
       "\n",
       "                        })                };                });            </script>        </div>"
      ]
     },
     "metadata": {},
     "output_type": "display_data"
    },
    {
     "data": {
      "text/html": [
       "<div>                            <div id=\"06ae8e7d-fe87-45f6-95c2-284719b0b36a\" class=\"plotly-graph-div\" style=\"height:525px; width:100%;\"></div>            <script type=\"text/javascript\">                require([\"plotly\"], function(Plotly) {                    window.PLOTLYENV=window.PLOTLYENV || {};                                    if (document.getElementById(\"06ae8e7d-fe87-45f6-95c2-284719b0b36a\")) {                    Plotly.newPlot(                        \"06ae8e7d-fe87-45f6-95c2-284719b0b36a\",                        [{\"alignmentgroup\":\"True\",\"hovertemplate\":\"employment_type=%{x}\\u003cbr\\u003evalue=%{marker.color}\\u003cextra\\u003e\\u003c\\u002fextra\\u003e\",\"legendgroup\":\"\",\"marker\":{\"color\":[3718,17,10,10],\"coloraxis\":\"coloraxis\",\"pattern\":{\"shape\":\"\"}},\"name\":\"\",\"offsetgroup\":\"\",\"orientation\":\"v\",\"showlegend\":false,\"text\":[3718.0,17.0,10.0,10.0],\"textposition\":\"auto\",\"x\":[\"FT\",\"PT\",\"CT\",\"FL\"],\"xaxis\":\"x\",\"y\":[3718,17,10,10],\"yaxis\":\"y\",\"type\":\"bar\"}],                        {\"template\":{\"data\":{\"histogram2dcontour\":[{\"type\":\"histogram2dcontour\",\"colorbar\":{\"outlinewidth\":0,\"ticks\":\"\"},\"colorscale\":[[0.0,\"#0d0887\"],[0.1111111111111111,\"#46039f\"],[0.2222222222222222,\"#7201a8\"],[0.3333333333333333,\"#9c179e\"],[0.4444444444444444,\"#bd3786\"],[0.5555555555555556,\"#d8576b\"],[0.6666666666666666,\"#ed7953\"],[0.7777777777777778,\"#fb9f3a\"],[0.8888888888888888,\"#fdca26\"],[1.0,\"#f0f921\"]]}],\"choropleth\":[{\"type\":\"choropleth\",\"colorbar\":{\"outlinewidth\":0,\"ticks\":\"\"}}],\"histogram2d\":[{\"type\":\"histogram2d\",\"colorbar\":{\"outlinewidth\":0,\"ticks\":\"\"},\"colorscale\":[[0.0,\"#0d0887\"],[0.1111111111111111,\"#46039f\"],[0.2222222222222222,\"#7201a8\"],[0.3333333333333333,\"#9c179e\"],[0.4444444444444444,\"#bd3786\"],[0.5555555555555556,\"#d8576b\"],[0.6666666666666666,\"#ed7953\"],[0.7777777777777778,\"#fb9f3a\"],[0.8888888888888888,\"#fdca26\"],[1.0,\"#f0f921\"]]}],\"heatmap\":[{\"type\":\"heatmap\",\"colorbar\":{\"outlinewidth\":0,\"ticks\":\"\"},\"colorscale\":[[0.0,\"#0d0887\"],[0.1111111111111111,\"#46039f\"],[0.2222222222222222,\"#7201a8\"],[0.3333333333333333,\"#9c179e\"],[0.4444444444444444,\"#bd3786\"],[0.5555555555555556,\"#d8576b\"],[0.6666666666666666,\"#ed7953\"],[0.7777777777777778,\"#fb9f3a\"],[0.8888888888888888,\"#fdca26\"],[1.0,\"#f0f921\"]]}],\"heatmapgl\":[{\"type\":\"heatmapgl\",\"colorbar\":{\"outlinewidth\":0,\"ticks\":\"\"},\"colorscale\":[[0.0,\"#0d0887\"],[0.1111111111111111,\"#46039f\"],[0.2222222222222222,\"#7201a8\"],[0.3333333333333333,\"#9c179e\"],[0.4444444444444444,\"#bd3786\"],[0.5555555555555556,\"#d8576b\"],[0.6666666666666666,\"#ed7953\"],[0.7777777777777778,\"#fb9f3a\"],[0.8888888888888888,\"#fdca26\"],[1.0,\"#f0f921\"]]}],\"contourcarpet\":[{\"type\":\"contourcarpet\",\"colorbar\":{\"outlinewidth\":0,\"ticks\":\"\"}}],\"contour\":[{\"type\":\"contour\",\"colorbar\":{\"outlinewidth\":0,\"ticks\":\"\"},\"colorscale\":[[0.0,\"#0d0887\"],[0.1111111111111111,\"#46039f\"],[0.2222222222222222,\"#7201a8\"],[0.3333333333333333,\"#9c179e\"],[0.4444444444444444,\"#bd3786\"],[0.5555555555555556,\"#d8576b\"],[0.6666666666666666,\"#ed7953\"],[0.7777777777777778,\"#fb9f3a\"],[0.8888888888888888,\"#fdca26\"],[1.0,\"#f0f921\"]]}],\"surface\":[{\"type\":\"surface\",\"colorbar\":{\"outlinewidth\":0,\"ticks\":\"\"},\"colorscale\":[[0.0,\"#0d0887\"],[0.1111111111111111,\"#46039f\"],[0.2222222222222222,\"#7201a8\"],[0.3333333333333333,\"#9c179e\"],[0.4444444444444444,\"#bd3786\"],[0.5555555555555556,\"#d8576b\"],[0.6666666666666666,\"#ed7953\"],[0.7777777777777778,\"#fb9f3a\"],[0.8888888888888888,\"#fdca26\"],[1.0,\"#f0f921\"]]}],\"mesh3d\":[{\"type\":\"mesh3d\",\"colorbar\":{\"outlinewidth\":0,\"ticks\":\"\"}}],\"scatter\":[{\"fillpattern\":{\"fillmode\":\"overlay\",\"size\":10,\"solidity\":0.2},\"type\":\"scatter\"}],\"parcoords\":[{\"type\":\"parcoords\",\"line\":{\"colorbar\":{\"outlinewidth\":0,\"ticks\":\"\"}}}],\"scatterpolargl\":[{\"type\":\"scatterpolargl\",\"marker\":{\"colorbar\":{\"outlinewidth\":0,\"ticks\":\"\"}}}],\"bar\":[{\"error_x\":{\"color\":\"#2a3f5f\"},\"error_y\":{\"color\":\"#2a3f5f\"},\"marker\":{\"line\":{\"color\":\"#E5ECF6\",\"width\":0.5},\"pattern\":{\"fillmode\":\"overlay\",\"size\":10,\"solidity\":0.2}},\"type\":\"bar\"}],\"scattergeo\":[{\"type\":\"scattergeo\",\"marker\":{\"colorbar\":{\"outlinewidth\":0,\"ticks\":\"\"}}}],\"scatterpolar\":[{\"type\":\"scatterpolar\",\"marker\":{\"colorbar\":{\"outlinewidth\":0,\"ticks\":\"\"}}}],\"histogram\":[{\"marker\":{\"pattern\":{\"fillmode\":\"overlay\",\"size\":10,\"solidity\":0.2}},\"type\":\"histogram\"}],\"scattergl\":[{\"type\":\"scattergl\",\"marker\":{\"colorbar\":{\"outlinewidth\":0,\"ticks\":\"\"}}}],\"scatter3d\":[{\"type\":\"scatter3d\",\"line\":{\"colorbar\":{\"outlinewidth\":0,\"ticks\":\"\"}},\"marker\":{\"colorbar\":{\"outlinewidth\":0,\"ticks\":\"\"}}}],\"scattermapbox\":[{\"type\":\"scattermapbox\",\"marker\":{\"colorbar\":{\"outlinewidth\":0,\"ticks\":\"\"}}}],\"scatterternary\":[{\"type\":\"scatterternary\",\"marker\":{\"colorbar\":{\"outlinewidth\":0,\"ticks\":\"\"}}}],\"scattercarpet\":[{\"type\":\"scattercarpet\",\"marker\":{\"colorbar\":{\"outlinewidth\":0,\"ticks\":\"\"}}}],\"carpet\":[{\"aaxis\":{\"endlinecolor\":\"#2a3f5f\",\"gridcolor\":\"white\",\"linecolor\":\"white\",\"minorgridcolor\":\"white\",\"startlinecolor\":\"#2a3f5f\"},\"baxis\":{\"endlinecolor\":\"#2a3f5f\",\"gridcolor\":\"white\",\"linecolor\":\"white\",\"minorgridcolor\":\"white\",\"startlinecolor\":\"#2a3f5f\"},\"type\":\"carpet\"}],\"table\":[{\"cells\":{\"fill\":{\"color\":\"#EBF0F8\"},\"line\":{\"color\":\"white\"}},\"header\":{\"fill\":{\"color\":\"#C8D4E3\"},\"line\":{\"color\":\"white\"}},\"type\":\"table\"}],\"barpolar\":[{\"marker\":{\"line\":{\"color\":\"#E5ECF6\",\"width\":0.5},\"pattern\":{\"fillmode\":\"overlay\",\"size\":10,\"solidity\":0.2}},\"type\":\"barpolar\"}],\"pie\":[{\"automargin\":true,\"type\":\"pie\"}]},\"layout\":{\"autotypenumbers\":\"strict\",\"colorway\":[\"#636efa\",\"#EF553B\",\"#00cc96\",\"#ab63fa\",\"#FFA15A\",\"#19d3f3\",\"#FF6692\",\"#B6E880\",\"#FF97FF\",\"#FECB52\"],\"font\":{\"color\":\"#2a3f5f\"},\"hovermode\":\"closest\",\"hoverlabel\":{\"align\":\"left\"},\"paper_bgcolor\":\"white\",\"plot_bgcolor\":\"#E5ECF6\",\"polar\":{\"bgcolor\":\"#E5ECF6\",\"angularaxis\":{\"gridcolor\":\"white\",\"linecolor\":\"white\",\"ticks\":\"\"},\"radialaxis\":{\"gridcolor\":\"white\",\"linecolor\":\"white\",\"ticks\":\"\"}},\"ternary\":{\"bgcolor\":\"#E5ECF6\",\"aaxis\":{\"gridcolor\":\"white\",\"linecolor\":\"white\",\"ticks\":\"\"},\"baxis\":{\"gridcolor\":\"white\",\"linecolor\":\"white\",\"ticks\":\"\"},\"caxis\":{\"gridcolor\":\"white\",\"linecolor\":\"white\",\"ticks\":\"\"}},\"coloraxis\":{\"colorbar\":{\"outlinewidth\":0,\"ticks\":\"\"}},\"colorscale\":{\"sequential\":[[0.0,\"#0d0887\"],[0.1111111111111111,\"#46039f\"],[0.2222222222222222,\"#7201a8\"],[0.3333333333333333,\"#9c179e\"],[0.4444444444444444,\"#bd3786\"],[0.5555555555555556,\"#d8576b\"],[0.6666666666666666,\"#ed7953\"],[0.7777777777777778,\"#fb9f3a\"],[0.8888888888888888,\"#fdca26\"],[1.0,\"#f0f921\"]],\"sequentialminus\":[[0.0,\"#0d0887\"],[0.1111111111111111,\"#46039f\"],[0.2222222222222222,\"#7201a8\"],[0.3333333333333333,\"#9c179e\"],[0.4444444444444444,\"#bd3786\"],[0.5555555555555556,\"#d8576b\"],[0.6666666666666666,\"#ed7953\"],[0.7777777777777778,\"#fb9f3a\"],[0.8888888888888888,\"#fdca26\"],[1.0,\"#f0f921\"]],\"diverging\":[[0,\"#8e0152\"],[0.1,\"#c51b7d\"],[0.2,\"#de77ae\"],[0.3,\"#f1b6da\"],[0.4,\"#fde0ef\"],[0.5,\"#f7f7f7\"],[0.6,\"#e6f5d0\"],[0.7,\"#b8e186\"],[0.8,\"#7fbc41\"],[0.9,\"#4d9221\"],[1,\"#276419\"]]},\"xaxis\":{\"gridcolor\":\"white\",\"linecolor\":\"white\",\"ticks\":\"\",\"title\":{\"standoff\":15},\"zerolinecolor\":\"white\",\"automargin\":true,\"zerolinewidth\":2},\"yaxis\":{\"gridcolor\":\"white\",\"linecolor\":\"white\",\"ticks\":\"\",\"title\":{\"standoff\":15},\"zerolinecolor\":\"white\",\"automargin\":true,\"zerolinewidth\":2},\"scene\":{\"xaxis\":{\"backgroundcolor\":\"#E5ECF6\",\"gridcolor\":\"white\",\"linecolor\":\"white\",\"showbackground\":true,\"ticks\":\"\",\"zerolinecolor\":\"white\",\"gridwidth\":2},\"yaxis\":{\"backgroundcolor\":\"#E5ECF6\",\"gridcolor\":\"white\",\"linecolor\":\"white\",\"showbackground\":true,\"ticks\":\"\",\"zerolinecolor\":\"white\",\"gridwidth\":2},\"zaxis\":{\"backgroundcolor\":\"#E5ECF6\",\"gridcolor\":\"white\",\"linecolor\":\"white\",\"showbackground\":true,\"ticks\":\"\",\"zerolinecolor\":\"white\",\"gridwidth\":2}},\"shapedefaults\":{\"line\":{\"color\":\"#2a3f5f\"}},\"annotationdefaults\":{\"arrowcolor\":\"#2a3f5f\",\"arrowhead\":0,\"arrowwidth\":1},\"geo\":{\"bgcolor\":\"white\",\"landcolor\":\"#E5ECF6\",\"subunitcolor\":\"white\",\"showland\":true,\"showlakes\":true,\"lakecolor\":\"white\"},\"title\":{\"x\":0.05},\"mapbox\":{\"style\":\"light\"}}},\"xaxis\":{\"anchor\":\"y\",\"domain\":[0.0,1.0],\"title\":{\"text\":\"employment_type\"}},\"yaxis\":{\"anchor\":\"x\",\"domain\":[0.0,1.0],\"title\":{\"text\":\"value\"}},\"coloraxis\":{\"colorbar\":{\"title\":{\"text\":\"value\"}},\"colorscale\":[[0.0,\"rgb(75, 41, 145)\"],[0.16666666666666666,\"rgb(135, 44, 162)\"],[0.3333333333333333,\"rgb(192, 54, 157)\"],[0.5,\"rgb(234, 79, 136)\"],[0.6666666666666666,\"rgb(250, 120, 118)\"],[0.8333333333333334,\"rgb(246, 169, 122)\"],[1.0,\"rgb(237, 217, 163)\"]]},\"legend\":{\"tracegroupgap\":0},\"title\":{\"text\":\"Count of Values for Employmenttype\"},\"barmode\":\"relative\"},                        {\"responsive\": true}                    ).then(function(){\n",
       "                            \n",
       "var gd = document.getElementById('06ae8e7d-fe87-45f6-95c2-284719b0b36a');\n",
       "var x = new MutationObserver(function (mutations, observer) {{\n",
       "        var display = window.getComputedStyle(gd).display;\n",
       "        if (!display || display === 'none') {{\n",
       "            console.log([gd, 'removed!']);\n",
       "            Plotly.purge(gd);\n",
       "            observer.disconnect();\n",
       "        }}\n",
       "}});\n",
       "\n",
       "// Listen for the removal of the full notebook cells\n",
       "var notebookContainer = gd.closest('#notebook-container');\n",
       "if (notebookContainer) {{\n",
       "    x.observe(notebookContainer, {childList: true});\n",
       "}}\n",
       "\n",
       "// Listen for the clearing of the current output cell\n",
       "var outputEl = gd.closest('.output');\n",
       "if (outputEl) {{\n",
       "    x.observe(outputEl, {childList: true});\n",
       "}}\n",
       "\n",
       "                        })                };                });            </script>        </div>"
      ]
     },
     "metadata": {},
     "output_type": "display_data"
    },
    {
     "data": {
      "text/html": [
       "<div>                            <div id=\"af79716c-6417-4918-bbed-5b4c17d9d6f9\" class=\"plotly-graph-div\" style=\"height:525px; width:100%;\"></div>            <script type=\"text/javascript\">                require([\"plotly\"], function(Plotly) {                    window.PLOTLYENV=window.PLOTLYENV || {};                                    if (document.getElementById(\"af79716c-6417-4918-bbed-5b4c17d9d6f9\")) {                    Plotly.newPlot(                        \"af79716c-6417-4918-bbed-5b4c17d9d6f9\",                        [{\"alignmentgroup\":\"True\",\"hovertemplate\":\"job_title=%{x}\\u003cbr\\u003evalue=%{marker.color}\\u003cextra\\u003e\\u003c\\u002fextra\\u003e\",\"legendgroup\":\"\",\"marker\":{\"color\":[1040,840,612,289,103,101,82,58,58,37,34,29,26,24,22,18,16,15,15,14,13,12,11,11,11,11,10,10,10,10,10,9,9,9,8,8,7,7,7,6,6,6,6,6,5,5,5,5,5,4,4,4,4,4,3,3,3,3,2,2,2,2,2,2,2,2,2,2,2,2,2,2,2,2,2,1,1,1,1,1,1,1,1,1,1,1,1,1,1,1,1,1,1],\"coloraxis\":\"coloraxis\",\"pattern\":{\"shape\":\"\"}},\"name\":\"\",\"offsetgroup\":\"\",\"orientation\":\"v\",\"showlegend\":false,\"text\":[1040.0,840.0,612.0,289.0,103.0,101.0,82.0,58.0,58.0,37.0,34.0,29.0,26.0,24.0,22.0,18.0,16.0,15.0,15.0,14.0,13.0,12.0,11.0,11.0,11.0,11.0,10.0,10.0,10.0,10.0,10.0,9.0,9.0,9.0,8.0,8.0,7.0,7.0,7.0,6.0,6.0,6.0,6.0,6.0,5.0,5.0,5.0,5.0,5.0,4.0,4.0,4.0,4.0,4.0,3.0,3.0,3.0,3.0,2.0,2.0,2.0,2.0,2.0,2.0,2.0,2.0,2.0,2.0,2.0,2.0,2.0,2.0,2.0,2.0,2.0,1.0,1.0,1.0,1.0,1.0,1.0,1.0,1.0,1.0,1.0,1.0,1.0,1.0,1.0,1.0,1.0,1.0,1.0],\"textposition\":\"auto\",\"x\":[\"Data Engineer\",\"Data Scientist\",\"Data Analyst\",\"Machine Learning Engineer\",\"Analytics Engineer\",\"Data Architect\",\"Research Scientist\",\"Data Science Manager\",\"Applied Scientist\",\"Research Engineer\",\"ML Engineer\",\"Data Manager\",\"Machine Learning Scientist\",\"Data Science Consultant\",\"Data Analytics Manager\",\"Computer Vision Engineer\",\"AI Scientist\",\"BI Data Analyst\",\"Business Data Analyst\",\"Data Specialist\",\"BI Developer\",\"Applied Machine Learning Scientist\",\"Machine Learning Infrastructure Engineer\",\"Big Data Engineer\",\"Director of Data Science\",\"AI Developer\",\"Applied Data Scientist\",\"Head of Data\",\"Machine Learning Software Engineer\",\"Data Operations Engineer\",\"ETL Developer\",\"BI Analyst\",\"Head of Data Science\",\"Lead Data Scientist\",\"Data Science Lead\",\"Principal Data Scientist\",\"Data Quality Analyst\",\"NLP Engineer\",\"Machine Learning Developer\",\"Data Infrastructure Engineer\",\"Lead Data Engineer\",\"Machine Learning Researcher\",\"Deep Learning Engineer\",\"Data Analytics Engineer\",\"Lead Data Analyst\",\"Cloud Database Engineer\",\"Computer Vision Software Engineer\",\"Product Data Analyst\",\"Data Science Engineer\",\"MLOps Engineer\",\"3D Computer Vision Researcher\",\"Business Intelligence Engineer\",\"Data Operations Analyst\",\"Machine Learning Research Engineer\",\"Cloud Data Engineer\",\"Machine Learning Manager\",\"Lead Machine Learning Engineer\",\"Financial Data Analyst\",\"Data Scientist Lead\",\"Data Analytics Consultant\",\"Marketing Data Analyst\",\"Data Modeler\",\"Principal Data Analyst\",\"Principal Data Engineer\",\"Data Lead\",\"Autonomous Vehicle Technician\",\"Insight Analyst\",\"ETL Engineer\",\"Data Analytics Lead\",\"Applied Machine Learning Engineer\",\"Data Analytics Specialist\",\"AI Programmer\",\"Data Strategist\",\"Big Data Architect\",\"Software Data Engineer\",\"Principal Data Architect\",\"Head of Machine Learning\",\"Cloud Data Architect\",\"Data DevOps Engineer\",\"BI Data Engineer\",\"Staff Data Scientist\",\"Deep Learning Researcher\",\"Staff Data Analyst\",\"Product Data Scientist\",\"Power BI Developer\",\"Compliance Data Analyst\",\"Data Science Tech Lead\",\"Data Management Specialist\",\"Principal Machine Learning Engineer\",\"Azure Data Engineer\",\"Manager Data Management\",\"Marketing Data Engineer\",\"Finance Data Analyst\"],\"xaxis\":\"x\",\"y\":[1040,840,612,289,103,101,82,58,58,37,34,29,26,24,22,18,16,15,15,14,13,12,11,11,11,11,10,10,10,10,10,9,9,9,8,8,7,7,7,6,6,6,6,6,5,5,5,5,5,4,4,4,4,4,3,3,3,3,2,2,2,2,2,2,2,2,2,2,2,2,2,2,2,2,2,1,1,1,1,1,1,1,1,1,1,1,1,1,1,1,1,1,1],\"yaxis\":\"y\",\"type\":\"bar\"}],                        {\"template\":{\"data\":{\"histogram2dcontour\":[{\"type\":\"histogram2dcontour\",\"colorbar\":{\"outlinewidth\":0,\"ticks\":\"\"},\"colorscale\":[[0.0,\"#0d0887\"],[0.1111111111111111,\"#46039f\"],[0.2222222222222222,\"#7201a8\"],[0.3333333333333333,\"#9c179e\"],[0.4444444444444444,\"#bd3786\"],[0.5555555555555556,\"#d8576b\"],[0.6666666666666666,\"#ed7953\"],[0.7777777777777778,\"#fb9f3a\"],[0.8888888888888888,\"#fdca26\"],[1.0,\"#f0f921\"]]}],\"choropleth\":[{\"type\":\"choropleth\",\"colorbar\":{\"outlinewidth\":0,\"ticks\":\"\"}}],\"histogram2d\":[{\"type\":\"histogram2d\",\"colorbar\":{\"outlinewidth\":0,\"ticks\":\"\"},\"colorscale\":[[0.0,\"#0d0887\"],[0.1111111111111111,\"#46039f\"],[0.2222222222222222,\"#7201a8\"],[0.3333333333333333,\"#9c179e\"],[0.4444444444444444,\"#bd3786\"],[0.5555555555555556,\"#d8576b\"],[0.6666666666666666,\"#ed7953\"],[0.7777777777777778,\"#fb9f3a\"],[0.8888888888888888,\"#fdca26\"],[1.0,\"#f0f921\"]]}],\"heatmap\":[{\"type\":\"heatmap\",\"colorbar\":{\"outlinewidth\":0,\"ticks\":\"\"},\"colorscale\":[[0.0,\"#0d0887\"],[0.1111111111111111,\"#46039f\"],[0.2222222222222222,\"#7201a8\"],[0.3333333333333333,\"#9c179e\"],[0.4444444444444444,\"#bd3786\"],[0.5555555555555556,\"#d8576b\"],[0.6666666666666666,\"#ed7953\"],[0.7777777777777778,\"#fb9f3a\"],[0.8888888888888888,\"#fdca26\"],[1.0,\"#f0f921\"]]}],\"heatmapgl\":[{\"type\":\"heatmapgl\",\"colorbar\":{\"outlinewidth\":0,\"ticks\":\"\"},\"colorscale\":[[0.0,\"#0d0887\"],[0.1111111111111111,\"#46039f\"],[0.2222222222222222,\"#7201a8\"],[0.3333333333333333,\"#9c179e\"],[0.4444444444444444,\"#bd3786\"],[0.5555555555555556,\"#d8576b\"],[0.6666666666666666,\"#ed7953\"],[0.7777777777777778,\"#fb9f3a\"],[0.8888888888888888,\"#fdca26\"],[1.0,\"#f0f921\"]]}],\"contourcarpet\":[{\"type\":\"contourcarpet\",\"colorbar\":{\"outlinewidth\":0,\"ticks\":\"\"}}],\"contour\":[{\"type\":\"contour\",\"colorbar\":{\"outlinewidth\":0,\"ticks\":\"\"},\"colorscale\":[[0.0,\"#0d0887\"],[0.1111111111111111,\"#46039f\"],[0.2222222222222222,\"#7201a8\"],[0.3333333333333333,\"#9c179e\"],[0.4444444444444444,\"#bd3786\"],[0.5555555555555556,\"#d8576b\"],[0.6666666666666666,\"#ed7953\"],[0.7777777777777778,\"#fb9f3a\"],[0.8888888888888888,\"#fdca26\"],[1.0,\"#f0f921\"]]}],\"surface\":[{\"type\":\"surface\",\"colorbar\":{\"outlinewidth\":0,\"ticks\":\"\"},\"colorscale\":[[0.0,\"#0d0887\"],[0.1111111111111111,\"#46039f\"],[0.2222222222222222,\"#7201a8\"],[0.3333333333333333,\"#9c179e\"],[0.4444444444444444,\"#bd3786\"],[0.5555555555555556,\"#d8576b\"],[0.6666666666666666,\"#ed7953\"],[0.7777777777777778,\"#fb9f3a\"],[0.8888888888888888,\"#fdca26\"],[1.0,\"#f0f921\"]]}],\"mesh3d\":[{\"type\":\"mesh3d\",\"colorbar\":{\"outlinewidth\":0,\"ticks\":\"\"}}],\"scatter\":[{\"fillpattern\":{\"fillmode\":\"overlay\",\"size\":10,\"solidity\":0.2},\"type\":\"scatter\"}],\"parcoords\":[{\"type\":\"parcoords\",\"line\":{\"colorbar\":{\"outlinewidth\":0,\"ticks\":\"\"}}}],\"scatterpolargl\":[{\"type\":\"scatterpolargl\",\"marker\":{\"colorbar\":{\"outlinewidth\":0,\"ticks\":\"\"}}}],\"bar\":[{\"error_x\":{\"color\":\"#2a3f5f\"},\"error_y\":{\"color\":\"#2a3f5f\"},\"marker\":{\"line\":{\"color\":\"#E5ECF6\",\"width\":0.5},\"pattern\":{\"fillmode\":\"overlay\",\"size\":10,\"solidity\":0.2}},\"type\":\"bar\"}],\"scattergeo\":[{\"type\":\"scattergeo\",\"marker\":{\"colorbar\":{\"outlinewidth\":0,\"ticks\":\"\"}}}],\"scatterpolar\":[{\"type\":\"scatterpolar\",\"marker\":{\"colorbar\":{\"outlinewidth\":0,\"ticks\":\"\"}}}],\"histogram\":[{\"marker\":{\"pattern\":{\"fillmode\":\"overlay\",\"size\":10,\"solidity\":0.2}},\"type\":\"histogram\"}],\"scattergl\":[{\"type\":\"scattergl\",\"marker\":{\"colorbar\":{\"outlinewidth\":0,\"ticks\":\"\"}}}],\"scatter3d\":[{\"type\":\"scatter3d\",\"line\":{\"colorbar\":{\"outlinewidth\":0,\"ticks\":\"\"}},\"marker\":{\"colorbar\":{\"outlinewidth\":0,\"ticks\":\"\"}}}],\"scattermapbox\":[{\"type\":\"scattermapbox\",\"marker\":{\"colorbar\":{\"outlinewidth\":0,\"ticks\":\"\"}}}],\"scatterternary\":[{\"type\":\"scatterternary\",\"marker\":{\"colorbar\":{\"outlinewidth\":0,\"ticks\":\"\"}}}],\"scattercarpet\":[{\"type\":\"scattercarpet\",\"marker\":{\"colorbar\":{\"outlinewidth\":0,\"ticks\":\"\"}}}],\"carpet\":[{\"aaxis\":{\"endlinecolor\":\"#2a3f5f\",\"gridcolor\":\"white\",\"linecolor\":\"white\",\"minorgridcolor\":\"white\",\"startlinecolor\":\"#2a3f5f\"},\"baxis\":{\"endlinecolor\":\"#2a3f5f\",\"gridcolor\":\"white\",\"linecolor\":\"white\",\"minorgridcolor\":\"white\",\"startlinecolor\":\"#2a3f5f\"},\"type\":\"carpet\"}],\"table\":[{\"cells\":{\"fill\":{\"color\":\"#EBF0F8\"},\"line\":{\"color\":\"white\"}},\"header\":{\"fill\":{\"color\":\"#C8D4E3\"},\"line\":{\"color\":\"white\"}},\"type\":\"table\"}],\"barpolar\":[{\"marker\":{\"line\":{\"color\":\"#E5ECF6\",\"width\":0.5},\"pattern\":{\"fillmode\":\"overlay\",\"size\":10,\"solidity\":0.2}},\"type\":\"barpolar\"}],\"pie\":[{\"automargin\":true,\"type\":\"pie\"}]},\"layout\":{\"autotypenumbers\":\"strict\",\"colorway\":[\"#636efa\",\"#EF553B\",\"#00cc96\",\"#ab63fa\",\"#FFA15A\",\"#19d3f3\",\"#FF6692\",\"#B6E880\",\"#FF97FF\",\"#FECB52\"],\"font\":{\"color\":\"#2a3f5f\"},\"hovermode\":\"closest\",\"hoverlabel\":{\"align\":\"left\"},\"paper_bgcolor\":\"white\",\"plot_bgcolor\":\"#E5ECF6\",\"polar\":{\"bgcolor\":\"#E5ECF6\",\"angularaxis\":{\"gridcolor\":\"white\",\"linecolor\":\"white\",\"ticks\":\"\"},\"radialaxis\":{\"gridcolor\":\"white\",\"linecolor\":\"white\",\"ticks\":\"\"}},\"ternary\":{\"bgcolor\":\"#E5ECF6\",\"aaxis\":{\"gridcolor\":\"white\",\"linecolor\":\"white\",\"ticks\":\"\"},\"baxis\":{\"gridcolor\":\"white\",\"linecolor\":\"white\",\"ticks\":\"\"},\"caxis\":{\"gridcolor\":\"white\",\"linecolor\":\"white\",\"ticks\":\"\"}},\"coloraxis\":{\"colorbar\":{\"outlinewidth\":0,\"ticks\":\"\"}},\"colorscale\":{\"sequential\":[[0.0,\"#0d0887\"],[0.1111111111111111,\"#46039f\"],[0.2222222222222222,\"#7201a8\"],[0.3333333333333333,\"#9c179e\"],[0.4444444444444444,\"#bd3786\"],[0.5555555555555556,\"#d8576b\"],[0.6666666666666666,\"#ed7953\"],[0.7777777777777778,\"#fb9f3a\"],[0.8888888888888888,\"#fdca26\"],[1.0,\"#f0f921\"]],\"sequentialminus\":[[0.0,\"#0d0887\"],[0.1111111111111111,\"#46039f\"],[0.2222222222222222,\"#7201a8\"],[0.3333333333333333,\"#9c179e\"],[0.4444444444444444,\"#bd3786\"],[0.5555555555555556,\"#d8576b\"],[0.6666666666666666,\"#ed7953\"],[0.7777777777777778,\"#fb9f3a\"],[0.8888888888888888,\"#fdca26\"],[1.0,\"#f0f921\"]],\"diverging\":[[0,\"#8e0152\"],[0.1,\"#c51b7d\"],[0.2,\"#de77ae\"],[0.3,\"#f1b6da\"],[0.4,\"#fde0ef\"],[0.5,\"#f7f7f7\"],[0.6,\"#e6f5d0\"],[0.7,\"#b8e186\"],[0.8,\"#7fbc41\"],[0.9,\"#4d9221\"],[1,\"#276419\"]]},\"xaxis\":{\"gridcolor\":\"white\",\"linecolor\":\"white\",\"ticks\":\"\",\"title\":{\"standoff\":15},\"zerolinecolor\":\"white\",\"automargin\":true,\"zerolinewidth\":2},\"yaxis\":{\"gridcolor\":\"white\",\"linecolor\":\"white\",\"ticks\":\"\",\"title\":{\"standoff\":15},\"zerolinecolor\":\"white\",\"automargin\":true,\"zerolinewidth\":2},\"scene\":{\"xaxis\":{\"backgroundcolor\":\"#E5ECF6\",\"gridcolor\":\"white\",\"linecolor\":\"white\",\"showbackground\":true,\"ticks\":\"\",\"zerolinecolor\":\"white\",\"gridwidth\":2},\"yaxis\":{\"backgroundcolor\":\"#E5ECF6\",\"gridcolor\":\"white\",\"linecolor\":\"white\",\"showbackground\":true,\"ticks\":\"\",\"zerolinecolor\":\"white\",\"gridwidth\":2},\"zaxis\":{\"backgroundcolor\":\"#E5ECF6\",\"gridcolor\":\"white\",\"linecolor\":\"white\",\"showbackground\":true,\"ticks\":\"\",\"zerolinecolor\":\"white\",\"gridwidth\":2}},\"shapedefaults\":{\"line\":{\"color\":\"#2a3f5f\"}},\"annotationdefaults\":{\"arrowcolor\":\"#2a3f5f\",\"arrowhead\":0,\"arrowwidth\":1},\"geo\":{\"bgcolor\":\"white\",\"landcolor\":\"#E5ECF6\",\"subunitcolor\":\"white\",\"showland\":true,\"showlakes\":true,\"lakecolor\":\"white\"},\"title\":{\"x\":0.05},\"mapbox\":{\"style\":\"light\"}}},\"xaxis\":{\"anchor\":\"y\",\"domain\":[0.0,1.0],\"title\":{\"text\":\"job_title\"}},\"yaxis\":{\"anchor\":\"x\",\"domain\":[0.0,1.0],\"title\":{\"text\":\"value\"}},\"coloraxis\":{\"colorbar\":{\"title\":{\"text\":\"value\"}},\"colorscale\":[[0.0,\"rgb(237, 239, 93)\"],[0.16666666666666666,\"rgb(169, 220, 103)\"],[0.3333333333333333,\"rgb(110, 197, 116)\"],[0.5,\"rgb(57, 171, 126)\"],[0.6666666666666666,\"rgb(13, 143, 129)\"],[0.8333333333333334,\"rgb(15, 114, 121)\"],[1.0,\"rgb(36, 86, 104)\"]]},\"legend\":{\"tracegroupgap\":0},\"title\":{\"text\":\"Count of Values for Jobtitle\"},\"barmode\":\"relative\"},                        {\"responsive\": true}                    ).then(function(){\n",
       "                            \n",
       "var gd = document.getElementById('af79716c-6417-4918-bbed-5b4c17d9d6f9');\n",
       "var x = new MutationObserver(function (mutations, observer) {{\n",
       "        var display = window.getComputedStyle(gd).display;\n",
       "        if (!display || display === 'none') {{\n",
       "            console.log([gd, 'removed!']);\n",
       "            Plotly.purge(gd);\n",
       "            observer.disconnect();\n",
       "        }}\n",
       "}});\n",
       "\n",
       "// Listen for the removal of the full notebook cells\n",
       "var notebookContainer = gd.closest('#notebook-container');\n",
       "if (notebookContainer) {{\n",
       "    x.observe(notebookContainer, {childList: true});\n",
       "}}\n",
       "\n",
       "// Listen for the clearing of the current output cell\n",
       "var outputEl = gd.closest('.output');\n",
       "if (outputEl) {{\n",
       "    x.observe(outputEl, {childList: true});\n",
       "}}\n",
       "\n",
       "                        })                };                });            </script>        </div>"
      ]
     },
     "metadata": {},
     "output_type": "display_data"
    },
    {
     "data": {
      "text/html": [
       "<div>                            <div id=\"ef2e77c3-9270-44d1-9475-fc463d72aa5b\" class=\"plotly-graph-div\" style=\"height:525px; width:100%;\"></div>            <script type=\"text/javascript\">                require([\"plotly\"], function(Plotly) {                    window.PLOTLYENV=window.PLOTLYENV || {};                                    if (document.getElementById(\"ef2e77c3-9270-44d1-9475-fc463d72aa5b\")) {                    Plotly.newPlot(                        \"ef2e77c3-9270-44d1-9475-fc463d72aa5b\",                        [{\"alignmentgroup\":\"True\",\"hovertemplate\":\"salary_currency=%{x}\\u003cbr\\u003evalue=%{marker.color}\\u003cextra\\u003e\\u003c\\u002fextra\\u003e\",\"legendgroup\":\"\",\"marker\":{\"color\":[3224,236,161,60,25,9,6,6,5,4,3,3,3,3,2,1,1,1,1,1],\"coloraxis\":\"coloraxis\",\"pattern\":{\"shape\":\"\"}},\"name\":\"\",\"offsetgroup\":\"\",\"orientation\":\"v\",\"showlegend\":false,\"text\":[3224.0,236.0,161.0,60.0,25.0,9.0,6.0,6.0,5.0,4.0,3.0,3.0,3.0,3.0,2.0,1.0,1.0,1.0,1.0,1.0],\"textposition\":\"auto\",\"x\":[\"USD\",\"EUR\",\"GBP\",\"INR\",\"CAD\",\"AUD\",\"SGD\",\"BRL\",\"PLN\",\"CHF\",\"HUF\",\"DKK\",\"JPY\",\"TRY\",\"THB\",\"ILS\",\"HKD\",\"CZK\",\"MXN\",\"CLP\"],\"xaxis\":\"x\",\"y\":[3224,236,161,60,25,9,6,6,5,4,3,3,3,3,2,1,1,1,1,1],\"yaxis\":\"y\",\"type\":\"bar\"}],                        {\"template\":{\"data\":{\"histogram2dcontour\":[{\"type\":\"histogram2dcontour\",\"colorbar\":{\"outlinewidth\":0,\"ticks\":\"\"},\"colorscale\":[[0.0,\"#0d0887\"],[0.1111111111111111,\"#46039f\"],[0.2222222222222222,\"#7201a8\"],[0.3333333333333333,\"#9c179e\"],[0.4444444444444444,\"#bd3786\"],[0.5555555555555556,\"#d8576b\"],[0.6666666666666666,\"#ed7953\"],[0.7777777777777778,\"#fb9f3a\"],[0.8888888888888888,\"#fdca26\"],[1.0,\"#f0f921\"]]}],\"choropleth\":[{\"type\":\"choropleth\",\"colorbar\":{\"outlinewidth\":0,\"ticks\":\"\"}}],\"histogram2d\":[{\"type\":\"histogram2d\",\"colorbar\":{\"outlinewidth\":0,\"ticks\":\"\"},\"colorscale\":[[0.0,\"#0d0887\"],[0.1111111111111111,\"#46039f\"],[0.2222222222222222,\"#7201a8\"],[0.3333333333333333,\"#9c179e\"],[0.4444444444444444,\"#bd3786\"],[0.5555555555555556,\"#d8576b\"],[0.6666666666666666,\"#ed7953\"],[0.7777777777777778,\"#fb9f3a\"],[0.8888888888888888,\"#fdca26\"],[1.0,\"#f0f921\"]]}],\"heatmap\":[{\"type\":\"heatmap\",\"colorbar\":{\"outlinewidth\":0,\"ticks\":\"\"},\"colorscale\":[[0.0,\"#0d0887\"],[0.1111111111111111,\"#46039f\"],[0.2222222222222222,\"#7201a8\"],[0.3333333333333333,\"#9c179e\"],[0.4444444444444444,\"#bd3786\"],[0.5555555555555556,\"#d8576b\"],[0.6666666666666666,\"#ed7953\"],[0.7777777777777778,\"#fb9f3a\"],[0.8888888888888888,\"#fdca26\"],[1.0,\"#f0f921\"]]}],\"heatmapgl\":[{\"type\":\"heatmapgl\",\"colorbar\":{\"outlinewidth\":0,\"ticks\":\"\"},\"colorscale\":[[0.0,\"#0d0887\"],[0.1111111111111111,\"#46039f\"],[0.2222222222222222,\"#7201a8\"],[0.3333333333333333,\"#9c179e\"],[0.4444444444444444,\"#bd3786\"],[0.5555555555555556,\"#d8576b\"],[0.6666666666666666,\"#ed7953\"],[0.7777777777777778,\"#fb9f3a\"],[0.8888888888888888,\"#fdca26\"],[1.0,\"#f0f921\"]]}],\"contourcarpet\":[{\"type\":\"contourcarpet\",\"colorbar\":{\"outlinewidth\":0,\"ticks\":\"\"}}],\"contour\":[{\"type\":\"contour\",\"colorbar\":{\"outlinewidth\":0,\"ticks\":\"\"},\"colorscale\":[[0.0,\"#0d0887\"],[0.1111111111111111,\"#46039f\"],[0.2222222222222222,\"#7201a8\"],[0.3333333333333333,\"#9c179e\"],[0.4444444444444444,\"#bd3786\"],[0.5555555555555556,\"#d8576b\"],[0.6666666666666666,\"#ed7953\"],[0.7777777777777778,\"#fb9f3a\"],[0.8888888888888888,\"#fdca26\"],[1.0,\"#f0f921\"]]}],\"surface\":[{\"type\":\"surface\",\"colorbar\":{\"outlinewidth\":0,\"ticks\":\"\"},\"colorscale\":[[0.0,\"#0d0887\"],[0.1111111111111111,\"#46039f\"],[0.2222222222222222,\"#7201a8\"],[0.3333333333333333,\"#9c179e\"],[0.4444444444444444,\"#bd3786\"],[0.5555555555555556,\"#d8576b\"],[0.6666666666666666,\"#ed7953\"],[0.7777777777777778,\"#fb9f3a\"],[0.8888888888888888,\"#fdca26\"],[1.0,\"#f0f921\"]]}],\"mesh3d\":[{\"type\":\"mesh3d\",\"colorbar\":{\"outlinewidth\":0,\"ticks\":\"\"}}],\"scatter\":[{\"fillpattern\":{\"fillmode\":\"overlay\",\"size\":10,\"solidity\":0.2},\"type\":\"scatter\"}],\"parcoords\":[{\"type\":\"parcoords\",\"line\":{\"colorbar\":{\"outlinewidth\":0,\"ticks\":\"\"}}}],\"scatterpolargl\":[{\"type\":\"scatterpolargl\",\"marker\":{\"colorbar\":{\"outlinewidth\":0,\"ticks\":\"\"}}}],\"bar\":[{\"error_x\":{\"color\":\"#2a3f5f\"},\"error_y\":{\"color\":\"#2a3f5f\"},\"marker\":{\"line\":{\"color\":\"#E5ECF6\",\"width\":0.5},\"pattern\":{\"fillmode\":\"overlay\",\"size\":10,\"solidity\":0.2}},\"type\":\"bar\"}],\"scattergeo\":[{\"type\":\"scattergeo\",\"marker\":{\"colorbar\":{\"outlinewidth\":0,\"ticks\":\"\"}}}],\"scatterpolar\":[{\"type\":\"scatterpolar\",\"marker\":{\"colorbar\":{\"outlinewidth\":0,\"ticks\":\"\"}}}],\"histogram\":[{\"marker\":{\"pattern\":{\"fillmode\":\"overlay\",\"size\":10,\"solidity\":0.2}},\"type\":\"histogram\"}],\"scattergl\":[{\"type\":\"scattergl\",\"marker\":{\"colorbar\":{\"outlinewidth\":0,\"ticks\":\"\"}}}],\"scatter3d\":[{\"type\":\"scatter3d\",\"line\":{\"colorbar\":{\"outlinewidth\":0,\"ticks\":\"\"}},\"marker\":{\"colorbar\":{\"outlinewidth\":0,\"ticks\":\"\"}}}],\"scattermapbox\":[{\"type\":\"scattermapbox\",\"marker\":{\"colorbar\":{\"outlinewidth\":0,\"ticks\":\"\"}}}],\"scatterternary\":[{\"type\":\"scatterternary\",\"marker\":{\"colorbar\":{\"outlinewidth\":0,\"ticks\":\"\"}}}],\"scattercarpet\":[{\"type\":\"scattercarpet\",\"marker\":{\"colorbar\":{\"outlinewidth\":0,\"ticks\":\"\"}}}],\"carpet\":[{\"aaxis\":{\"endlinecolor\":\"#2a3f5f\",\"gridcolor\":\"white\",\"linecolor\":\"white\",\"minorgridcolor\":\"white\",\"startlinecolor\":\"#2a3f5f\"},\"baxis\":{\"endlinecolor\":\"#2a3f5f\",\"gridcolor\":\"white\",\"linecolor\":\"white\",\"minorgridcolor\":\"white\",\"startlinecolor\":\"#2a3f5f\"},\"type\":\"carpet\"}],\"table\":[{\"cells\":{\"fill\":{\"color\":\"#EBF0F8\"},\"line\":{\"color\":\"white\"}},\"header\":{\"fill\":{\"color\":\"#C8D4E3\"},\"line\":{\"color\":\"white\"}},\"type\":\"table\"}],\"barpolar\":[{\"marker\":{\"line\":{\"color\":\"#E5ECF6\",\"width\":0.5},\"pattern\":{\"fillmode\":\"overlay\",\"size\":10,\"solidity\":0.2}},\"type\":\"barpolar\"}],\"pie\":[{\"automargin\":true,\"type\":\"pie\"}]},\"layout\":{\"autotypenumbers\":\"strict\",\"colorway\":[\"#636efa\",\"#EF553B\",\"#00cc96\",\"#ab63fa\",\"#FFA15A\",\"#19d3f3\",\"#FF6692\",\"#B6E880\",\"#FF97FF\",\"#FECB52\"],\"font\":{\"color\":\"#2a3f5f\"},\"hovermode\":\"closest\",\"hoverlabel\":{\"align\":\"left\"},\"paper_bgcolor\":\"white\",\"plot_bgcolor\":\"#E5ECF6\",\"polar\":{\"bgcolor\":\"#E5ECF6\",\"angularaxis\":{\"gridcolor\":\"white\",\"linecolor\":\"white\",\"ticks\":\"\"},\"radialaxis\":{\"gridcolor\":\"white\",\"linecolor\":\"white\",\"ticks\":\"\"}},\"ternary\":{\"bgcolor\":\"#E5ECF6\",\"aaxis\":{\"gridcolor\":\"white\",\"linecolor\":\"white\",\"ticks\":\"\"},\"baxis\":{\"gridcolor\":\"white\",\"linecolor\":\"white\",\"ticks\":\"\"},\"caxis\":{\"gridcolor\":\"white\",\"linecolor\":\"white\",\"ticks\":\"\"}},\"coloraxis\":{\"colorbar\":{\"outlinewidth\":0,\"ticks\":\"\"}},\"colorscale\":{\"sequential\":[[0.0,\"#0d0887\"],[0.1111111111111111,\"#46039f\"],[0.2222222222222222,\"#7201a8\"],[0.3333333333333333,\"#9c179e\"],[0.4444444444444444,\"#bd3786\"],[0.5555555555555556,\"#d8576b\"],[0.6666666666666666,\"#ed7953\"],[0.7777777777777778,\"#fb9f3a\"],[0.8888888888888888,\"#fdca26\"],[1.0,\"#f0f921\"]],\"sequentialminus\":[[0.0,\"#0d0887\"],[0.1111111111111111,\"#46039f\"],[0.2222222222222222,\"#7201a8\"],[0.3333333333333333,\"#9c179e\"],[0.4444444444444444,\"#bd3786\"],[0.5555555555555556,\"#d8576b\"],[0.6666666666666666,\"#ed7953\"],[0.7777777777777778,\"#fb9f3a\"],[0.8888888888888888,\"#fdca26\"],[1.0,\"#f0f921\"]],\"diverging\":[[0,\"#8e0152\"],[0.1,\"#c51b7d\"],[0.2,\"#de77ae\"],[0.3,\"#f1b6da\"],[0.4,\"#fde0ef\"],[0.5,\"#f7f7f7\"],[0.6,\"#e6f5d0\"],[0.7,\"#b8e186\"],[0.8,\"#7fbc41\"],[0.9,\"#4d9221\"],[1,\"#276419\"]]},\"xaxis\":{\"gridcolor\":\"white\",\"linecolor\":\"white\",\"ticks\":\"\",\"title\":{\"standoff\":15},\"zerolinecolor\":\"white\",\"automargin\":true,\"zerolinewidth\":2},\"yaxis\":{\"gridcolor\":\"white\",\"linecolor\":\"white\",\"ticks\":\"\",\"title\":{\"standoff\":15},\"zerolinecolor\":\"white\",\"automargin\":true,\"zerolinewidth\":2},\"scene\":{\"xaxis\":{\"backgroundcolor\":\"#E5ECF6\",\"gridcolor\":\"white\",\"linecolor\":\"white\",\"showbackground\":true,\"ticks\":\"\",\"zerolinecolor\":\"white\",\"gridwidth\":2},\"yaxis\":{\"backgroundcolor\":\"#E5ECF6\",\"gridcolor\":\"white\",\"linecolor\":\"white\",\"showbackground\":true,\"ticks\":\"\",\"zerolinecolor\":\"white\",\"gridwidth\":2},\"zaxis\":{\"backgroundcolor\":\"#E5ECF6\",\"gridcolor\":\"white\",\"linecolor\":\"white\",\"showbackground\":true,\"ticks\":\"\",\"zerolinecolor\":\"white\",\"gridwidth\":2}},\"shapedefaults\":{\"line\":{\"color\":\"#2a3f5f\"}},\"annotationdefaults\":{\"arrowcolor\":\"#2a3f5f\",\"arrowhead\":0,\"arrowwidth\":1},\"geo\":{\"bgcolor\":\"white\",\"landcolor\":\"#E5ECF6\",\"subunitcolor\":\"white\",\"showland\":true,\"showlakes\":true,\"lakecolor\":\"white\"},\"title\":{\"x\":0.05},\"mapbox\":{\"style\":\"light\"}}},\"xaxis\":{\"anchor\":\"y\",\"domain\":[0.0,1.0],\"title\":{\"text\":\"salary_currency\"}},\"yaxis\":{\"anchor\":\"x\",\"domain\":[0.0,1.0],\"title\":{\"text\":\"value\"}},\"coloraxis\":{\"colorbar\":{\"title\":{\"text\":\"value\"}},\"colorscale\":[[0.0,\"#00224e\"],[0.1111111111111111,\"#123570\"],[0.2222222222222222,\"#3b496c\"],[0.3333333333333333,\"#575d6d\"],[0.4444444444444444,\"#707173\"],[0.5555555555555556,\"#8a8678\"],[0.6666666666666666,\"#a59c74\"],[0.7777777777777778,\"#c3b369\"],[0.8888888888888888,\"#e1cc55\"],[1.0,\"#fee838\"]]},\"legend\":{\"tracegroupgap\":0},\"title\":{\"text\":\"Count of Values for Salarycurrency\"},\"barmode\":\"relative\"},                        {\"responsive\": true}                    ).then(function(){\n",
       "                            \n",
       "var gd = document.getElementById('ef2e77c3-9270-44d1-9475-fc463d72aa5b');\n",
       "var x = new MutationObserver(function (mutations, observer) {{\n",
       "        var display = window.getComputedStyle(gd).display;\n",
       "        if (!display || display === 'none') {{\n",
       "            console.log([gd, 'removed!']);\n",
       "            Plotly.purge(gd);\n",
       "            observer.disconnect();\n",
       "        }}\n",
       "}});\n",
       "\n",
       "// Listen for the removal of the full notebook cells\n",
       "var notebookContainer = gd.closest('#notebook-container');\n",
       "if (notebookContainer) {{\n",
       "    x.observe(notebookContainer, {childList: true});\n",
       "}}\n",
       "\n",
       "// Listen for the clearing of the current output cell\n",
       "var outputEl = gd.closest('.output');\n",
       "if (outputEl) {{\n",
       "    x.observe(outputEl, {childList: true});\n",
       "}}\n",
       "\n",
       "                        })                };                });            </script>        </div>"
      ]
     },
     "metadata": {},
     "output_type": "display_data"
    },
    {
     "data": {
      "text/html": [
       "<div>                            <div id=\"59fe41d5-a2f9-4c11-840d-9639ca076457\" class=\"plotly-graph-div\" style=\"height:525px; width:100%;\"></div>            <script type=\"text/javascript\">                require([\"plotly\"], function(Plotly) {                    window.PLOTLYENV=window.PLOTLYENV || {};                                    if (document.getElementById(\"59fe41d5-a2f9-4c11-840d-9639ca076457\")) {                    Plotly.newPlot(                        \"59fe41d5-a2f9-4c11-840d-9639ca076457\",                        [{\"alignmentgroup\":\"True\",\"hovertemplate\":\"employee_residence=%{x}\\u003cbr\\u003evalue=%{marker.color}\\u003cextra\\u003e\\u003c\\u002fextra\\u003e\",\"legendgroup\":\"\",\"marker\":{\"color\":[3004,167,85,80,71,48,38,18,18,16,15,11,10,8,8,7,7,7,6,6,6,5,5,5,5,4,4,4,4,4,4,3,3,3,3,3,3,3,3,2,2,2,2,2,2,2,2,2,2,2,2,1,1,1,1,1,1,1,1,1,1,1,1,1,1,1,1,1,1,1,1,1,1,1,1,1,1,1],\"coloraxis\":\"coloraxis\",\"pattern\":{\"shape\":\"\"}},\"name\":\"\",\"offsetgroup\":\"\",\"orientation\":\"v\",\"showlegend\":false,\"text\":[3004.0,167.0,85.0,80.0,71.0,48.0,38.0,18.0,18.0,16.0,15.0,11.0,10.0,8.0,8.0,7.0,7.0,7.0,6.0,6.0,6.0,5.0,5.0,5.0,5.0,4.0,4.0,4.0,4.0,4.0,4.0,3.0,3.0,3.0,3.0,3.0,3.0,3.0,3.0,2.0,2.0,2.0,2.0,2.0,2.0,2.0,2.0,2.0,2.0,2.0,2.0,1.0,1.0,1.0,1.0,1.0,1.0,1.0,1.0,1.0,1.0,1.0,1.0,1.0,1.0,1.0,1.0,1.0,1.0,1.0,1.0,1.0,1.0,1.0,1.0,1.0,1.0,1.0],\"textposition\":\"auto\",\"x\":[\"US\",\"GB\",\"CA\",\"ES\",\"IN\",\"DE\",\"FR\",\"PT\",\"BR\",\"GR\",\"NL\",\"AU\",\"MX\",\"IT\",\"PK\",\"JP\",\"IE\",\"NG\",\"AT\",\"AR\",\"PL\",\"PR\",\"TR\",\"BE\",\"SG\",\"RU\",\"LV\",\"UA\",\"CO\",\"CH\",\"SI\",\"BO\",\"DK\",\"HR\",\"HU\",\"RO\",\"TH\",\"AE\",\"VN\",\"HK\",\"UZ\",\"PH\",\"CF\",\"CL\",\"FI\",\"CZ\",\"SE\",\"AS\",\"LT\",\"GH\",\"KE\",\"DZ\",\"NZ\",\"JE\",\"MY\",\"MD\",\"IQ\",\"BG\",\"LU\",\"RS\",\"HN\",\"EE\",\"TN\",\"CR\",\"ID\",\"EG\",\"DO\",\"CN\",\"SK\",\"IR\",\"MA\",\"IL\",\"MK\",\"BA\",\"AM\",\"CY\",\"KW\",\"MT\"],\"xaxis\":\"x\",\"y\":[3004,167,85,80,71,48,38,18,18,16,15,11,10,8,8,7,7,7,6,6,6,5,5,5,5,4,4,4,4,4,4,3,3,3,3,3,3,3,3,2,2,2,2,2,2,2,2,2,2,2,2,1,1,1,1,1,1,1,1,1,1,1,1,1,1,1,1,1,1,1,1,1,1,1,1,1,1,1],\"yaxis\":\"y\",\"type\":\"bar\"}],                        {\"template\":{\"data\":{\"histogram2dcontour\":[{\"type\":\"histogram2dcontour\",\"colorbar\":{\"outlinewidth\":0,\"ticks\":\"\"},\"colorscale\":[[0.0,\"#0d0887\"],[0.1111111111111111,\"#46039f\"],[0.2222222222222222,\"#7201a8\"],[0.3333333333333333,\"#9c179e\"],[0.4444444444444444,\"#bd3786\"],[0.5555555555555556,\"#d8576b\"],[0.6666666666666666,\"#ed7953\"],[0.7777777777777778,\"#fb9f3a\"],[0.8888888888888888,\"#fdca26\"],[1.0,\"#f0f921\"]]}],\"choropleth\":[{\"type\":\"choropleth\",\"colorbar\":{\"outlinewidth\":0,\"ticks\":\"\"}}],\"histogram2d\":[{\"type\":\"histogram2d\",\"colorbar\":{\"outlinewidth\":0,\"ticks\":\"\"},\"colorscale\":[[0.0,\"#0d0887\"],[0.1111111111111111,\"#46039f\"],[0.2222222222222222,\"#7201a8\"],[0.3333333333333333,\"#9c179e\"],[0.4444444444444444,\"#bd3786\"],[0.5555555555555556,\"#d8576b\"],[0.6666666666666666,\"#ed7953\"],[0.7777777777777778,\"#fb9f3a\"],[0.8888888888888888,\"#fdca26\"],[1.0,\"#f0f921\"]]}],\"heatmap\":[{\"type\":\"heatmap\",\"colorbar\":{\"outlinewidth\":0,\"ticks\":\"\"},\"colorscale\":[[0.0,\"#0d0887\"],[0.1111111111111111,\"#46039f\"],[0.2222222222222222,\"#7201a8\"],[0.3333333333333333,\"#9c179e\"],[0.4444444444444444,\"#bd3786\"],[0.5555555555555556,\"#d8576b\"],[0.6666666666666666,\"#ed7953\"],[0.7777777777777778,\"#fb9f3a\"],[0.8888888888888888,\"#fdca26\"],[1.0,\"#f0f921\"]]}],\"heatmapgl\":[{\"type\":\"heatmapgl\",\"colorbar\":{\"outlinewidth\":0,\"ticks\":\"\"},\"colorscale\":[[0.0,\"#0d0887\"],[0.1111111111111111,\"#46039f\"],[0.2222222222222222,\"#7201a8\"],[0.3333333333333333,\"#9c179e\"],[0.4444444444444444,\"#bd3786\"],[0.5555555555555556,\"#d8576b\"],[0.6666666666666666,\"#ed7953\"],[0.7777777777777778,\"#fb9f3a\"],[0.8888888888888888,\"#fdca26\"],[1.0,\"#f0f921\"]]}],\"contourcarpet\":[{\"type\":\"contourcarpet\",\"colorbar\":{\"outlinewidth\":0,\"ticks\":\"\"}}],\"contour\":[{\"type\":\"contour\",\"colorbar\":{\"outlinewidth\":0,\"ticks\":\"\"},\"colorscale\":[[0.0,\"#0d0887\"],[0.1111111111111111,\"#46039f\"],[0.2222222222222222,\"#7201a8\"],[0.3333333333333333,\"#9c179e\"],[0.4444444444444444,\"#bd3786\"],[0.5555555555555556,\"#d8576b\"],[0.6666666666666666,\"#ed7953\"],[0.7777777777777778,\"#fb9f3a\"],[0.8888888888888888,\"#fdca26\"],[1.0,\"#f0f921\"]]}],\"surface\":[{\"type\":\"surface\",\"colorbar\":{\"outlinewidth\":0,\"ticks\":\"\"},\"colorscale\":[[0.0,\"#0d0887\"],[0.1111111111111111,\"#46039f\"],[0.2222222222222222,\"#7201a8\"],[0.3333333333333333,\"#9c179e\"],[0.4444444444444444,\"#bd3786\"],[0.5555555555555556,\"#d8576b\"],[0.6666666666666666,\"#ed7953\"],[0.7777777777777778,\"#fb9f3a\"],[0.8888888888888888,\"#fdca26\"],[1.0,\"#f0f921\"]]}],\"mesh3d\":[{\"type\":\"mesh3d\",\"colorbar\":{\"outlinewidth\":0,\"ticks\":\"\"}}],\"scatter\":[{\"fillpattern\":{\"fillmode\":\"overlay\",\"size\":10,\"solidity\":0.2},\"type\":\"scatter\"}],\"parcoords\":[{\"type\":\"parcoords\",\"line\":{\"colorbar\":{\"outlinewidth\":0,\"ticks\":\"\"}}}],\"scatterpolargl\":[{\"type\":\"scatterpolargl\",\"marker\":{\"colorbar\":{\"outlinewidth\":0,\"ticks\":\"\"}}}],\"bar\":[{\"error_x\":{\"color\":\"#2a3f5f\"},\"error_y\":{\"color\":\"#2a3f5f\"},\"marker\":{\"line\":{\"color\":\"#E5ECF6\",\"width\":0.5},\"pattern\":{\"fillmode\":\"overlay\",\"size\":10,\"solidity\":0.2}},\"type\":\"bar\"}],\"scattergeo\":[{\"type\":\"scattergeo\",\"marker\":{\"colorbar\":{\"outlinewidth\":0,\"ticks\":\"\"}}}],\"scatterpolar\":[{\"type\":\"scatterpolar\",\"marker\":{\"colorbar\":{\"outlinewidth\":0,\"ticks\":\"\"}}}],\"histogram\":[{\"marker\":{\"pattern\":{\"fillmode\":\"overlay\",\"size\":10,\"solidity\":0.2}},\"type\":\"histogram\"}],\"scattergl\":[{\"type\":\"scattergl\",\"marker\":{\"colorbar\":{\"outlinewidth\":0,\"ticks\":\"\"}}}],\"scatter3d\":[{\"type\":\"scatter3d\",\"line\":{\"colorbar\":{\"outlinewidth\":0,\"ticks\":\"\"}},\"marker\":{\"colorbar\":{\"outlinewidth\":0,\"ticks\":\"\"}}}],\"scattermapbox\":[{\"type\":\"scattermapbox\",\"marker\":{\"colorbar\":{\"outlinewidth\":0,\"ticks\":\"\"}}}],\"scatterternary\":[{\"type\":\"scatterternary\",\"marker\":{\"colorbar\":{\"outlinewidth\":0,\"ticks\":\"\"}}}],\"scattercarpet\":[{\"type\":\"scattercarpet\",\"marker\":{\"colorbar\":{\"outlinewidth\":0,\"ticks\":\"\"}}}],\"carpet\":[{\"aaxis\":{\"endlinecolor\":\"#2a3f5f\",\"gridcolor\":\"white\",\"linecolor\":\"white\",\"minorgridcolor\":\"white\",\"startlinecolor\":\"#2a3f5f\"},\"baxis\":{\"endlinecolor\":\"#2a3f5f\",\"gridcolor\":\"white\",\"linecolor\":\"white\",\"minorgridcolor\":\"white\",\"startlinecolor\":\"#2a3f5f\"},\"type\":\"carpet\"}],\"table\":[{\"cells\":{\"fill\":{\"color\":\"#EBF0F8\"},\"line\":{\"color\":\"white\"}},\"header\":{\"fill\":{\"color\":\"#C8D4E3\"},\"line\":{\"color\":\"white\"}},\"type\":\"table\"}],\"barpolar\":[{\"marker\":{\"line\":{\"color\":\"#E5ECF6\",\"width\":0.5},\"pattern\":{\"fillmode\":\"overlay\",\"size\":10,\"solidity\":0.2}},\"type\":\"barpolar\"}],\"pie\":[{\"automargin\":true,\"type\":\"pie\"}]},\"layout\":{\"autotypenumbers\":\"strict\",\"colorway\":[\"#636efa\",\"#EF553B\",\"#00cc96\",\"#ab63fa\",\"#FFA15A\",\"#19d3f3\",\"#FF6692\",\"#B6E880\",\"#FF97FF\",\"#FECB52\"],\"font\":{\"color\":\"#2a3f5f\"},\"hovermode\":\"closest\",\"hoverlabel\":{\"align\":\"left\"},\"paper_bgcolor\":\"white\",\"plot_bgcolor\":\"#E5ECF6\",\"polar\":{\"bgcolor\":\"#E5ECF6\",\"angularaxis\":{\"gridcolor\":\"white\",\"linecolor\":\"white\",\"ticks\":\"\"},\"radialaxis\":{\"gridcolor\":\"white\",\"linecolor\":\"white\",\"ticks\":\"\"}},\"ternary\":{\"bgcolor\":\"#E5ECF6\",\"aaxis\":{\"gridcolor\":\"white\",\"linecolor\":\"white\",\"ticks\":\"\"},\"baxis\":{\"gridcolor\":\"white\",\"linecolor\":\"white\",\"ticks\":\"\"},\"caxis\":{\"gridcolor\":\"white\",\"linecolor\":\"white\",\"ticks\":\"\"}},\"coloraxis\":{\"colorbar\":{\"outlinewidth\":0,\"ticks\":\"\"}},\"colorscale\":{\"sequential\":[[0.0,\"#0d0887\"],[0.1111111111111111,\"#46039f\"],[0.2222222222222222,\"#7201a8\"],[0.3333333333333333,\"#9c179e\"],[0.4444444444444444,\"#bd3786\"],[0.5555555555555556,\"#d8576b\"],[0.6666666666666666,\"#ed7953\"],[0.7777777777777778,\"#fb9f3a\"],[0.8888888888888888,\"#fdca26\"],[1.0,\"#f0f921\"]],\"sequentialminus\":[[0.0,\"#0d0887\"],[0.1111111111111111,\"#46039f\"],[0.2222222222222222,\"#7201a8\"],[0.3333333333333333,\"#9c179e\"],[0.4444444444444444,\"#bd3786\"],[0.5555555555555556,\"#d8576b\"],[0.6666666666666666,\"#ed7953\"],[0.7777777777777778,\"#fb9f3a\"],[0.8888888888888888,\"#fdca26\"],[1.0,\"#f0f921\"]],\"diverging\":[[0,\"#8e0152\"],[0.1,\"#c51b7d\"],[0.2,\"#de77ae\"],[0.3,\"#f1b6da\"],[0.4,\"#fde0ef\"],[0.5,\"#f7f7f7\"],[0.6,\"#e6f5d0\"],[0.7,\"#b8e186\"],[0.8,\"#7fbc41\"],[0.9,\"#4d9221\"],[1,\"#276419\"]]},\"xaxis\":{\"gridcolor\":\"white\",\"linecolor\":\"white\",\"ticks\":\"\",\"title\":{\"standoff\":15},\"zerolinecolor\":\"white\",\"automargin\":true,\"zerolinewidth\":2},\"yaxis\":{\"gridcolor\":\"white\",\"linecolor\":\"white\",\"ticks\":\"\",\"title\":{\"standoff\":15},\"zerolinecolor\":\"white\",\"automargin\":true,\"zerolinewidth\":2},\"scene\":{\"xaxis\":{\"backgroundcolor\":\"#E5ECF6\",\"gridcolor\":\"white\",\"linecolor\":\"white\",\"showbackground\":true,\"ticks\":\"\",\"zerolinecolor\":\"white\",\"gridwidth\":2},\"yaxis\":{\"backgroundcolor\":\"#E5ECF6\",\"gridcolor\":\"white\",\"linecolor\":\"white\",\"showbackground\":true,\"ticks\":\"\",\"zerolinecolor\":\"white\",\"gridwidth\":2},\"zaxis\":{\"backgroundcolor\":\"#E5ECF6\",\"gridcolor\":\"white\",\"linecolor\":\"white\",\"showbackground\":true,\"ticks\":\"\",\"zerolinecolor\":\"white\",\"gridwidth\":2}},\"shapedefaults\":{\"line\":{\"color\":\"#2a3f5f\"}},\"annotationdefaults\":{\"arrowcolor\":\"#2a3f5f\",\"arrowhead\":0,\"arrowwidth\":1},\"geo\":{\"bgcolor\":\"white\",\"landcolor\":\"#E5ECF6\",\"subunitcolor\":\"white\",\"showland\":true,\"showlakes\":true,\"lakecolor\":\"white\"},\"title\":{\"x\":0.05},\"mapbox\":{\"style\":\"light\"}}},\"xaxis\":{\"anchor\":\"y\",\"domain\":[0.0,1.0],\"title\":{\"text\":\"employee_residence\"}},\"yaxis\":{\"anchor\":\"x\",\"domain\":[0.0,1.0],\"title\":{\"text\":\"value\"}},\"coloraxis\":{\"colorbar\":{\"title\":{\"text\":\"value\"}},\"colorscale\":[[0.0,\"rgb(243, 231, 155)\"],[0.16666666666666666,\"rgb(250, 196, 132)\"],[0.3333333333333333,\"rgb(248, 160, 126)\"],[0.5,\"rgb(235, 127, 134)\"],[0.6666666666666666,\"rgb(206, 102, 147)\"],[0.8333333333333334,\"rgb(160, 89, 160)\"],[1.0,\"rgb(92, 83, 165)\"]]},\"legend\":{\"tracegroupgap\":0},\"title\":{\"text\":\"Count of Values for Employeeresidence\"},\"barmode\":\"relative\"},                        {\"responsive\": true}                    ).then(function(){\n",
       "                            \n",
       "var gd = document.getElementById('59fe41d5-a2f9-4c11-840d-9639ca076457');\n",
       "var x = new MutationObserver(function (mutations, observer) {{\n",
       "        var display = window.getComputedStyle(gd).display;\n",
       "        if (!display || display === 'none') {{\n",
       "            console.log([gd, 'removed!']);\n",
       "            Plotly.purge(gd);\n",
       "            observer.disconnect();\n",
       "        }}\n",
       "}});\n",
       "\n",
       "// Listen for the removal of the full notebook cells\n",
       "var notebookContainer = gd.closest('#notebook-container');\n",
       "if (notebookContainer) {{\n",
       "    x.observe(notebookContainer, {childList: true});\n",
       "}}\n",
       "\n",
       "// Listen for the clearing of the current output cell\n",
       "var outputEl = gd.closest('.output');\n",
       "if (outputEl) {{\n",
       "    x.observe(outputEl, {childList: true});\n",
       "}}\n",
       "\n",
       "                        })                };                });            </script>        </div>"
      ]
     },
     "metadata": {},
     "output_type": "display_data"
    },
    {
     "data": {
      "text/html": [
       "<div>                            <div id=\"67b8a57b-c1fe-46b6-9116-1f35ade6edfe\" class=\"plotly-graph-div\" style=\"height:525px; width:100%;\"></div>            <script type=\"text/javascript\">                require([\"plotly\"], function(Plotly) {                    window.PLOTLYENV=window.PLOTLYENV || {};                                    if (document.getElementById(\"67b8a57b-c1fe-46b6-9116-1f35ade6edfe\")) {                    Plotly.newPlot(                        \"67b8a57b-c1fe-46b6-9116-1f35ade6edfe\",                        [{\"alignmentgroup\":\"True\",\"hovertemplate\":\"remote_ratio=%{x}\\u003cbr\\u003evalue=%{marker.color}\\u003cextra\\u003e\\u003c\\u002fextra\\u003e\",\"legendgroup\":\"\",\"marker\":{\"color\":[1923,1643,189],\"coloraxis\":\"coloraxis\",\"pattern\":{\"shape\":\"\"}},\"name\":\"\",\"offsetgroup\":\"\",\"orientation\":\"v\",\"showlegend\":false,\"text\":[1923.0,1643.0,189.0],\"textposition\":\"auto\",\"x\":[0,100,50],\"xaxis\":\"x\",\"y\":[1923,1643,189],\"yaxis\":\"y\",\"type\":\"bar\"}],                        {\"template\":{\"data\":{\"histogram2dcontour\":[{\"type\":\"histogram2dcontour\",\"colorbar\":{\"outlinewidth\":0,\"ticks\":\"\"},\"colorscale\":[[0.0,\"#0d0887\"],[0.1111111111111111,\"#46039f\"],[0.2222222222222222,\"#7201a8\"],[0.3333333333333333,\"#9c179e\"],[0.4444444444444444,\"#bd3786\"],[0.5555555555555556,\"#d8576b\"],[0.6666666666666666,\"#ed7953\"],[0.7777777777777778,\"#fb9f3a\"],[0.8888888888888888,\"#fdca26\"],[1.0,\"#f0f921\"]]}],\"choropleth\":[{\"type\":\"choropleth\",\"colorbar\":{\"outlinewidth\":0,\"ticks\":\"\"}}],\"histogram2d\":[{\"type\":\"histogram2d\",\"colorbar\":{\"outlinewidth\":0,\"ticks\":\"\"},\"colorscale\":[[0.0,\"#0d0887\"],[0.1111111111111111,\"#46039f\"],[0.2222222222222222,\"#7201a8\"],[0.3333333333333333,\"#9c179e\"],[0.4444444444444444,\"#bd3786\"],[0.5555555555555556,\"#d8576b\"],[0.6666666666666666,\"#ed7953\"],[0.7777777777777778,\"#fb9f3a\"],[0.8888888888888888,\"#fdca26\"],[1.0,\"#f0f921\"]]}],\"heatmap\":[{\"type\":\"heatmap\",\"colorbar\":{\"outlinewidth\":0,\"ticks\":\"\"},\"colorscale\":[[0.0,\"#0d0887\"],[0.1111111111111111,\"#46039f\"],[0.2222222222222222,\"#7201a8\"],[0.3333333333333333,\"#9c179e\"],[0.4444444444444444,\"#bd3786\"],[0.5555555555555556,\"#d8576b\"],[0.6666666666666666,\"#ed7953\"],[0.7777777777777778,\"#fb9f3a\"],[0.8888888888888888,\"#fdca26\"],[1.0,\"#f0f921\"]]}],\"heatmapgl\":[{\"type\":\"heatmapgl\",\"colorbar\":{\"outlinewidth\":0,\"ticks\":\"\"},\"colorscale\":[[0.0,\"#0d0887\"],[0.1111111111111111,\"#46039f\"],[0.2222222222222222,\"#7201a8\"],[0.3333333333333333,\"#9c179e\"],[0.4444444444444444,\"#bd3786\"],[0.5555555555555556,\"#d8576b\"],[0.6666666666666666,\"#ed7953\"],[0.7777777777777778,\"#fb9f3a\"],[0.8888888888888888,\"#fdca26\"],[1.0,\"#f0f921\"]]}],\"contourcarpet\":[{\"type\":\"contourcarpet\",\"colorbar\":{\"outlinewidth\":0,\"ticks\":\"\"}}],\"contour\":[{\"type\":\"contour\",\"colorbar\":{\"outlinewidth\":0,\"ticks\":\"\"},\"colorscale\":[[0.0,\"#0d0887\"],[0.1111111111111111,\"#46039f\"],[0.2222222222222222,\"#7201a8\"],[0.3333333333333333,\"#9c179e\"],[0.4444444444444444,\"#bd3786\"],[0.5555555555555556,\"#d8576b\"],[0.6666666666666666,\"#ed7953\"],[0.7777777777777778,\"#fb9f3a\"],[0.8888888888888888,\"#fdca26\"],[1.0,\"#f0f921\"]]}],\"surface\":[{\"type\":\"surface\",\"colorbar\":{\"outlinewidth\":0,\"ticks\":\"\"},\"colorscale\":[[0.0,\"#0d0887\"],[0.1111111111111111,\"#46039f\"],[0.2222222222222222,\"#7201a8\"],[0.3333333333333333,\"#9c179e\"],[0.4444444444444444,\"#bd3786\"],[0.5555555555555556,\"#d8576b\"],[0.6666666666666666,\"#ed7953\"],[0.7777777777777778,\"#fb9f3a\"],[0.8888888888888888,\"#fdca26\"],[1.0,\"#f0f921\"]]}],\"mesh3d\":[{\"type\":\"mesh3d\",\"colorbar\":{\"outlinewidth\":0,\"ticks\":\"\"}}],\"scatter\":[{\"fillpattern\":{\"fillmode\":\"overlay\",\"size\":10,\"solidity\":0.2},\"type\":\"scatter\"}],\"parcoords\":[{\"type\":\"parcoords\",\"line\":{\"colorbar\":{\"outlinewidth\":0,\"ticks\":\"\"}}}],\"scatterpolargl\":[{\"type\":\"scatterpolargl\",\"marker\":{\"colorbar\":{\"outlinewidth\":0,\"ticks\":\"\"}}}],\"bar\":[{\"error_x\":{\"color\":\"#2a3f5f\"},\"error_y\":{\"color\":\"#2a3f5f\"},\"marker\":{\"line\":{\"color\":\"#E5ECF6\",\"width\":0.5},\"pattern\":{\"fillmode\":\"overlay\",\"size\":10,\"solidity\":0.2}},\"type\":\"bar\"}],\"scattergeo\":[{\"type\":\"scattergeo\",\"marker\":{\"colorbar\":{\"outlinewidth\":0,\"ticks\":\"\"}}}],\"scatterpolar\":[{\"type\":\"scatterpolar\",\"marker\":{\"colorbar\":{\"outlinewidth\":0,\"ticks\":\"\"}}}],\"histogram\":[{\"marker\":{\"pattern\":{\"fillmode\":\"overlay\",\"size\":10,\"solidity\":0.2}},\"type\":\"histogram\"}],\"scattergl\":[{\"type\":\"scattergl\",\"marker\":{\"colorbar\":{\"outlinewidth\":0,\"ticks\":\"\"}}}],\"scatter3d\":[{\"type\":\"scatter3d\",\"line\":{\"colorbar\":{\"outlinewidth\":0,\"ticks\":\"\"}},\"marker\":{\"colorbar\":{\"outlinewidth\":0,\"ticks\":\"\"}}}],\"scattermapbox\":[{\"type\":\"scattermapbox\",\"marker\":{\"colorbar\":{\"outlinewidth\":0,\"ticks\":\"\"}}}],\"scatterternary\":[{\"type\":\"scatterternary\",\"marker\":{\"colorbar\":{\"outlinewidth\":0,\"ticks\":\"\"}}}],\"scattercarpet\":[{\"type\":\"scattercarpet\",\"marker\":{\"colorbar\":{\"outlinewidth\":0,\"ticks\":\"\"}}}],\"carpet\":[{\"aaxis\":{\"endlinecolor\":\"#2a3f5f\",\"gridcolor\":\"white\",\"linecolor\":\"white\",\"minorgridcolor\":\"white\",\"startlinecolor\":\"#2a3f5f\"},\"baxis\":{\"endlinecolor\":\"#2a3f5f\",\"gridcolor\":\"white\",\"linecolor\":\"white\",\"minorgridcolor\":\"white\",\"startlinecolor\":\"#2a3f5f\"},\"type\":\"carpet\"}],\"table\":[{\"cells\":{\"fill\":{\"color\":\"#EBF0F8\"},\"line\":{\"color\":\"white\"}},\"header\":{\"fill\":{\"color\":\"#C8D4E3\"},\"line\":{\"color\":\"white\"}},\"type\":\"table\"}],\"barpolar\":[{\"marker\":{\"line\":{\"color\":\"#E5ECF6\",\"width\":0.5},\"pattern\":{\"fillmode\":\"overlay\",\"size\":10,\"solidity\":0.2}},\"type\":\"barpolar\"}],\"pie\":[{\"automargin\":true,\"type\":\"pie\"}]},\"layout\":{\"autotypenumbers\":\"strict\",\"colorway\":[\"#636efa\",\"#EF553B\",\"#00cc96\",\"#ab63fa\",\"#FFA15A\",\"#19d3f3\",\"#FF6692\",\"#B6E880\",\"#FF97FF\",\"#FECB52\"],\"font\":{\"color\":\"#2a3f5f\"},\"hovermode\":\"closest\",\"hoverlabel\":{\"align\":\"left\"},\"paper_bgcolor\":\"white\",\"plot_bgcolor\":\"#E5ECF6\",\"polar\":{\"bgcolor\":\"#E5ECF6\",\"angularaxis\":{\"gridcolor\":\"white\",\"linecolor\":\"white\",\"ticks\":\"\"},\"radialaxis\":{\"gridcolor\":\"white\",\"linecolor\":\"white\",\"ticks\":\"\"}},\"ternary\":{\"bgcolor\":\"#E5ECF6\",\"aaxis\":{\"gridcolor\":\"white\",\"linecolor\":\"white\",\"ticks\":\"\"},\"baxis\":{\"gridcolor\":\"white\",\"linecolor\":\"white\",\"ticks\":\"\"},\"caxis\":{\"gridcolor\":\"white\",\"linecolor\":\"white\",\"ticks\":\"\"}},\"coloraxis\":{\"colorbar\":{\"outlinewidth\":0,\"ticks\":\"\"}},\"colorscale\":{\"sequential\":[[0.0,\"#0d0887\"],[0.1111111111111111,\"#46039f\"],[0.2222222222222222,\"#7201a8\"],[0.3333333333333333,\"#9c179e\"],[0.4444444444444444,\"#bd3786\"],[0.5555555555555556,\"#d8576b\"],[0.6666666666666666,\"#ed7953\"],[0.7777777777777778,\"#fb9f3a\"],[0.8888888888888888,\"#fdca26\"],[1.0,\"#f0f921\"]],\"sequentialminus\":[[0.0,\"#0d0887\"],[0.1111111111111111,\"#46039f\"],[0.2222222222222222,\"#7201a8\"],[0.3333333333333333,\"#9c179e\"],[0.4444444444444444,\"#bd3786\"],[0.5555555555555556,\"#d8576b\"],[0.6666666666666666,\"#ed7953\"],[0.7777777777777778,\"#fb9f3a\"],[0.8888888888888888,\"#fdca26\"],[1.0,\"#f0f921\"]],\"diverging\":[[0,\"#8e0152\"],[0.1,\"#c51b7d\"],[0.2,\"#de77ae\"],[0.3,\"#f1b6da\"],[0.4,\"#fde0ef\"],[0.5,\"#f7f7f7\"],[0.6,\"#e6f5d0\"],[0.7,\"#b8e186\"],[0.8,\"#7fbc41\"],[0.9,\"#4d9221\"],[1,\"#276419\"]]},\"xaxis\":{\"gridcolor\":\"white\",\"linecolor\":\"white\",\"ticks\":\"\",\"title\":{\"standoff\":15},\"zerolinecolor\":\"white\",\"automargin\":true,\"zerolinewidth\":2},\"yaxis\":{\"gridcolor\":\"white\",\"linecolor\":\"white\",\"ticks\":\"\",\"title\":{\"standoff\":15},\"zerolinecolor\":\"white\",\"automargin\":true,\"zerolinewidth\":2},\"scene\":{\"xaxis\":{\"backgroundcolor\":\"#E5ECF6\",\"gridcolor\":\"white\",\"linecolor\":\"white\",\"showbackground\":true,\"ticks\":\"\",\"zerolinecolor\":\"white\",\"gridwidth\":2},\"yaxis\":{\"backgroundcolor\":\"#E5ECF6\",\"gridcolor\":\"white\",\"linecolor\":\"white\",\"showbackground\":true,\"ticks\":\"\",\"zerolinecolor\":\"white\",\"gridwidth\":2},\"zaxis\":{\"backgroundcolor\":\"#E5ECF6\",\"gridcolor\":\"white\",\"linecolor\":\"white\",\"showbackground\":true,\"ticks\":\"\",\"zerolinecolor\":\"white\",\"gridwidth\":2}},\"shapedefaults\":{\"line\":{\"color\":\"#2a3f5f\"}},\"annotationdefaults\":{\"arrowcolor\":\"#2a3f5f\",\"arrowhead\":0,\"arrowwidth\":1},\"geo\":{\"bgcolor\":\"white\",\"landcolor\":\"#E5ECF6\",\"subunitcolor\":\"white\",\"showland\":true,\"showlakes\":true,\"lakecolor\":\"white\"},\"title\":{\"x\":0.05},\"mapbox\":{\"style\":\"light\"}}},\"xaxis\":{\"anchor\":\"y\",\"domain\":[0.0,1.0],\"title\":{\"text\":\"remote_ratio\"}},\"yaxis\":{\"anchor\":\"x\",\"domain\":[0.0,1.0],\"title\":{\"text\":\"value\"}},\"coloraxis\":{\"colorbar\":{\"title\":{\"text\":\"value\"}},\"colorscale\":[[0.0,\"rgb(209, 238, 234)\"],[0.16666666666666666,\"rgb(168, 219, 217)\"],[0.3333333333333333,\"rgb(133, 196, 201)\"],[0.5,\"rgb(104, 171, 184)\"],[0.6666666666666666,\"rgb(79, 144, 166)\"],[0.8333333333333334,\"rgb(59, 115, 143)\"],[1.0,\"rgb(42, 86, 116)\"]]},\"legend\":{\"tracegroupgap\":0},\"title\":{\"text\":\"Count of Values for Remoteratio\"},\"barmode\":\"relative\"},                        {\"responsive\": true}                    ).then(function(){\n",
       "                            \n",
       "var gd = document.getElementById('67b8a57b-c1fe-46b6-9116-1f35ade6edfe');\n",
       "var x = new MutationObserver(function (mutations, observer) {{\n",
       "        var display = window.getComputedStyle(gd).display;\n",
       "        if (!display || display === 'none') {{\n",
       "            console.log([gd, 'removed!']);\n",
       "            Plotly.purge(gd);\n",
       "            observer.disconnect();\n",
       "        }}\n",
       "}});\n",
       "\n",
       "// Listen for the removal of the full notebook cells\n",
       "var notebookContainer = gd.closest('#notebook-container');\n",
       "if (notebookContainer) {{\n",
       "    x.observe(notebookContainer, {childList: true});\n",
       "}}\n",
       "\n",
       "// Listen for the clearing of the current output cell\n",
       "var outputEl = gd.closest('.output');\n",
       "if (outputEl) {{\n",
       "    x.observe(outputEl, {childList: true});\n",
       "}}\n",
       "\n",
       "                        })                };                });            </script>        </div>"
      ]
     },
     "metadata": {},
     "output_type": "display_data"
    },
    {
     "data": {
      "text/html": [
       "<div>                            <div id=\"7d5b3f0e-681f-433c-83ba-29016ab8d007\" class=\"plotly-graph-div\" style=\"height:525px; width:100%;\"></div>            <script type=\"text/javascript\">                require([\"plotly\"], function(Plotly) {                    window.PLOTLYENV=window.PLOTLYENV || {};                                    if (document.getElementById(\"7d5b3f0e-681f-433c-83ba-29016ab8d007\")) {                    Plotly.newPlot(                        \"7d5b3f0e-681f-433c-83ba-29016ab8d007\",                        [{\"alignmentgroup\":\"True\",\"hovertemplate\":\"company_location=%{x}\\u003cbr\\u003evalue=%{marker.color}\\u003cextra\\u003e\\u003c\\u002fextra\\u003e\",\"legendgroup\":\"\",\"marker\":{\"color\":[3040,172,87,77,58,56,34,15,14,14,14,13,10,7,6,6,6,5,5,5,5,4,4,4,4,4,4,4,4,4,3,3,3,3,3,3,3,3,3,2,2,2,2,2,2,2,2,2,2,1,1,1,1,1,1,1,1,1,1,1,1,1,1,1,1,1,1,1,1,1,1,1],\"coloraxis\":\"coloraxis\",\"pattern\":{\"shape\":\"\"}},\"name\":\"\",\"offsetgroup\":\"\",\"orientation\":\"v\",\"showlegend\":false,\"text\":[3040.0,172.0,87.0,77.0,58.0,56.0,34.0,15.0,14.0,14.0,14.0,13.0,10.0,7.0,6.0,6.0,6.0,5.0,5.0,5.0,5.0,4.0,4.0,4.0,4.0,4.0,4.0,4.0,4.0,4.0,3.0,3.0,3.0,3.0,3.0,3.0,3.0,3.0,3.0,2.0,2.0,2.0,2.0,2.0,2.0,2.0,2.0,2.0,2.0,1.0,1.0,1.0,1.0,1.0,1.0,1.0,1.0,1.0,1.0,1.0,1.0,1.0,1.0,1.0,1.0,1.0,1.0,1.0,1.0,1.0,1.0,1.0],\"textposition\":\"auto\",\"x\":[\"US\",\"GB\",\"CA\",\"ES\",\"IN\",\"DE\",\"FR\",\"BR\",\"AU\",\"GR\",\"PT\",\"NL\",\"MX\",\"IE\",\"SG\",\"AT\",\"JP\",\"TR\",\"CH\",\"NG\",\"PL\",\"PK\",\"LV\",\"DK\",\"IT\",\"PR\",\"SI\",\"BE\",\"CO\",\"UA\",\"HR\",\"TH\",\"RU\",\"AR\",\"CZ\",\"AE\",\"FI\",\"AS\",\"LU\",\"HU\",\"ID\",\"LT\",\"RO\",\"SE\",\"KE\",\"EE\",\"CF\",\"IL\",\"GH\",\"EG\",\"MD\",\"CL\",\"NZ\",\"CN\",\"IQ\",\"DZ\",\"HK\",\"HN\",\"MY\",\"AL\",\"MA\",\"PH\",\"BO\",\"VN\",\"AM\",\"BA\",\"SK\",\"MK\",\"BS\",\"IR\",\"CR\",\"MT\"],\"xaxis\":\"x\",\"y\":[3040,172,87,77,58,56,34,15,14,14,14,13,10,7,6,6,6,5,5,5,5,4,4,4,4,4,4,4,4,4,3,3,3,3,3,3,3,3,3,2,2,2,2,2,2,2,2,2,2,1,1,1,1,1,1,1,1,1,1,1,1,1,1,1,1,1,1,1,1,1,1,1],\"yaxis\":\"y\",\"type\":\"bar\"}],                        {\"template\":{\"data\":{\"histogram2dcontour\":[{\"type\":\"histogram2dcontour\",\"colorbar\":{\"outlinewidth\":0,\"ticks\":\"\"},\"colorscale\":[[0.0,\"#0d0887\"],[0.1111111111111111,\"#46039f\"],[0.2222222222222222,\"#7201a8\"],[0.3333333333333333,\"#9c179e\"],[0.4444444444444444,\"#bd3786\"],[0.5555555555555556,\"#d8576b\"],[0.6666666666666666,\"#ed7953\"],[0.7777777777777778,\"#fb9f3a\"],[0.8888888888888888,\"#fdca26\"],[1.0,\"#f0f921\"]]}],\"choropleth\":[{\"type\":\"choropleth\",\"colorbar\":{\"outlinewidth\":0,\"ticks\":\"\"}}],\"histogram2d\":[{\"type\":\"histogram2d\",\"colorbar\":{\"outlinewidth\":0,\"ticks\":\"\"},\"colorscale\":[[0.0,\"#0d0887\"],[0.1111111111111111,\"#46039f\"],[0.2222222222222222,\"#7201a8\"],[0.3333333333333333,\"#9c179e\"],[0.4444444444444444,\"#bd3786\"],[0.5555555555555556,\"#d8576b\"],[0.6666666666666666,\"#ed7953\"],[0.7777777777777778,\"#fb9f3a\"],[0.8888888888888888,\"#fdca26\"],[1.0,\"#f0f921\"]]}],\"heatmap\":[{\"type\":\"heatmap\",\"colorbar\":{\"outlinewidth\":0,\"ticks\":\"\"},\"colorscale\":[[0.0,\"#0d0887\"],[0.1111111111111111,\"#46039f\"],[0.2222222222222222,\"#7201a8\"],[0.3333333333333333,\"#9c179e\"],[0.4444444444444444,\"#bd3786\"],[0.5555555555555556,\"#d8576b\"],[0.6666666666666666,\"#ed7953\"],[0.7777777777777778,\"#fb9f3a\"],[0.8888888888888888,\"#fdca26\"],[1.0,\"#f0f921\"]]}],\"heatmapgl\":[{\"type\":\"heatmapgl\",\"colorbar\":{\"outlinewidth\":0,\"ticks\":\"\"},\"colorscale\":[[0.0,\"#0d0887\"],[0.1111111111111111,\"#46039f\"],[0.2222222222222222,\"#7201a8\"],[0.3333333333333333,\"#9c179e\"],[0.4444444444444444,\"#bd3786\"],[0.5555555555555556,\"#d8576b\"],[0.6666666666666666,\"#ed7953\"],[0.7777777777777778,\"#fb9f3a\"],[0.8888888888888888,\"#fdca26\"],[1.0,\"#f0f921\"]]}],\"contourcarpet\":[{\"type\":\"contourcarpet\",\"colorbar\":{\"outlinewidth\":0,\"ticks\":\"\"}}],\"contour\":[{\"type\":\"contour\",\"colorbar\":{\"outlinewidth\":0,\"ticks\":\"\"},\"colorscale\":[[0.0,\"#0d0887\"],[0.1111111111111111,\"#46039f\"],[0.2222222222222222,\"#7201a8\"],[0.3333333333333333,\"#9c179e\"],[0.4444444444444444,\"#bd3786\"],[0.5555555555555556,\"#d8576b\"],[0.6666666666666666,\"#ed7953\"],[0.7777777777777778,\"#fb9f3a\"],[0.8888888888888888,\"#fdca26\"],[1.0,\"#f0f921\"]]}],\"surface\":[{\"type\":\"surface\",\"colorbar\":{\"outlinewidth\":0,\"ticks\":\"\"},\"colorscale\":[[0.0,\"#0d0887\"],[0.1111111111111111,\"#46039f\"],[0.2222222222222222,\"#7201a8\"],[0.3333333333333333,\"#9c179e\"],[0.4444444444444444,\"#bd3786\"],[0.5555555555555556,\"#d8576b\"],[0.6666666666666666,\"#ed7953\"],[0.7777777777777778,\"#fb9f3a\"],[0.8888888888888888,\"#fdca26\"],[1.0,\"#f0f921\"]]}],\"mesh3d\":[{\"type\":\"mesh3d\",\"colorbar\":{\"outlinewidth\":0,\"ticks\":\"\"}}],\"scatter\":[{\"fillpattern\":{\"fillmode\":\"overlay\",\"size\":10,\"solidity\":0.2},\"type\":\"scatter\"}],\"parcoords\":[{\"type\":\"parcoords\",\"line\":{\"colorbar\":{\"outlinewidth\":0,\"ticks\":\"\"}}}],\"scatterpolargl\":[{\"type\":\"scatterpolargl\",\"marker\":{\"colorbar\":{\"outlinewidth\":0,\"ticks\":\"\"}}}],\"bar\":[{\"error_x\":{\"color\":\"#2a3f5f\"},\"error_y\":{\"color\":\"#2a3f5f\"},\"marker\":{\"line\":{\"color\":\"#E5ECF6\",\"width\":0.5},\"pattern\":{\"fillmode\":\"overlay\",\"size\":10,\"solidity\":0.2}},\"type\":\"bar\"}],\"scattergeo\":[{\"type\":\"scattergeo\",\"marker\":{\"colorbar\":{\"outlinewidth\":0,\"ticks\":\"\"}}}],\"scatterpolar\":[{\"type\":\"scatterpolar\",\"marker\":{\"colorbar\":{\"outlinewidth\":0,\"ticks\":\"\"}}}],\"histogram\":[{\"marker\":{\"pattern\":{\"fillmode\":\"overlay\",\"size\":10,\"solidity\":0.2}},\"type\":\"histogram\"}],\"scattergl\":[{\"type\":\"scattergl\",\"marker\":{\"colorbar\":{\"outlinewidth\":0,\"ticks\":\"\"}}}],\"scatter3d\":[{\"type\":\"scatter3d\",\"line\":{\"colorbar\":{\"outlinewidth\":0,\"ticks\":\"\"}},\"marker\":{\"colorbar\":{\"outlinewidth\":0,\"ticks\":\"\"}}}],\"scattermapbox\":[{\"type\":\"scattermapbox\",\"marker\":{\"colorbar\":{\"outlinewidth\":0,\"ticks\":\"\"}}}],\"scatterternary\":[{\"type\":\"scatterternary\",\"marker\":{\"colorbar\":{\"outlinewidth\":0,\"ticks\":\"\"}}}],\"scattercarpet\":[{\"type\":\"scattercarpet\",\"marker\":{\"colorbar\":{\"outlinewidth\":0,\"ticks\":\"\"}}}],\"carpet\":[{\"aaxis\":{\"endlinecolor\":\"#2a3f5f\",\"gridcolor\":\"white\",\"linecolor\":\"white\",\"minorgridcolor\":\"white\",\"startlinecolor\":\"#2a3f5f\"},\"baxis\":{\"endlinecolor\":\"#2a3f5f\",\"gridcolor\":\"white\",\"linecolor\":\"white\",\"minorgridcolor\":\"white\",\"startlinecolor\":\"#2a3f5f\"},\"type\":\"carpet\"}],\"table\":[{\"cells\":{\"fill\":{\"color\":\"#EBF0F8\"},\"line\":{\"color\":\"white\"}},\"header\":{\"fill\":{\"color\":\"#C8D4E3\"},\"line\":{\"color\":\"white\"}},\"type\":\"table\"}],\"barpolar\":[{\"marker\":{\"line\":{\"color\":\"#E5ECF6\",\"width\":0.5},\"pattern\":{\"fillmode\":\"overlay\",\"size\":10,\"solidity\":0.2}},\"type\":\"barpolar\"}],\"pie\":[{\"automargin\":true,\"type\":\"pie\"}]},\"layout\":{\"autotypenumbers\":\"strict\",\"colorway\":[\"#636efa\",\"#EF553B\",\"#00cc96\",\"#ab63fa\",\"#FFA15A\",\"#19d3f3\",\"#FF6692\",\"#B6E880\",\"#FF97FF\",\"#FECB52\"],\"font\":{\"color\":\"#2a3f5f\"},\"hovermode\":\"closest\",\"hoverlabel\":{\"align\":\"left\"},\"paper_bgcolor\":\"white\",\"plot_bgcolor\":\"#E5ECF6\",\"polar\":{\"bgcolor\":\"#E5ECF6\",\"angularaxis\":{\"gridcolor\":\"white\",\"linecolor\":\"white\",\"ticks\":\"\"},\"radialaxis\":{\"gridcolor\":\"white\",\"linecolor\":\"white\",\"ticks\":\"\"}},\"ternary\":{\"bgcolor\":\"#E5ECF6\",\"aaxis\":{\"gridcolor\":\"white\",\"linecolor\":\"white\",\"ticks\":\"\"},\"baxis\":{\"gridcolor\":\"white\",\"linecolor\":\"white\",\"ticks\":\"\"},\"caxis\":{\"gridcolor\":\"white\",\"linecolor\":\"white\",\"ticks\":\"\"}},\"coloraxis\":{\"colorbar\":{\"outlinewidth\":0,\"ticks\":\"\"}},\"colorscale\":{\"sequential\":[[0.0,\"#0d0887\"],[0.1111111111111111,\"#46039f\"],[0.2222222222222222,\"#7201a8\"],[0.3333333333333333,\"#9c179e\"],[0.4444444444444444,\"#bd3786\"],[0.5555555555555556,\"#d8576b\"],[0.6666666666666666,\"#ed7953\"],[0.7777777777777778,\"#fb9f3a\"],[0.8888888888888888,\"#fdca26\"],[1.0,\"#f0f921\"]],\"sequentialminus\":[[0.0,\"#0d0887\"],[0.1111111111111111,\"#46039f\"],[0.2222222222222222,\"#7201a8\"],[0.3333333333333333,\"#9c179e\"],[0.4444444444444444,\"#bd3786\"],[0.5555555555555556,\"#d8576b\"],[0.6666666666666666,\"#ed7953\"],[0.7777777777777778,\"#fb9f3a\"],[0.8888888888888888,\"#fdca26\"],[1.0,\"#f0f921\"]],\"diverging\":[[0,\"#8e0152\"],[0.1,\"#c51b7d\"],[0.2,\"#de77ae\"],[0.3,\"#f1b6da\"],[0.4,\"#fde0ef\"],[0.5,\"#f7f7f7\"],[0.6,\"#e6f5d0\"],[0.7,\"#b8e186\"],[0.8,\"#7fbc41\"],[0.9,\"#4d9221\"],[1,\"#276419\"]]},\"xaxis\":{\"gridcolor\":\"white\",\"linecolor\":\"white\",\"ticks\":\"\",\"title\":{\"standoff\":15},\"zerolinecolor\":\"white\",\"automargin\":true,\"zerolinewidth\":2},\"yaxis\":{\"gridcolor\":\"white\",\"linecolor\":\"white\",\"ticks\":\"\",\"title\":{\"standoff\":15},\"zerolinecolor\":\"white\",\"automargin\":true,\"zerolinewidth\":2},\"scene\":{\"xaxis\":{\"backgroundcolor\":\"#E5ECF6\",\"gridcolor\":\"white\",\"linecolor\":\"white\",\"showbackground\":true,\"ticks\":\"\",\"zerolinecolor\":\"white\",\"gridwidth\":2},\"yaxis\":{\"backgroundcolor\":\"#E5ECF6\",\"gridcolor\":\"white\",\"linecolor\":\"white\",\"showbackground\":true,\"ticks\":\"\",\"zerolinecolor\":\"white\",\"gridwidth\":2},\"zaxis\":{\"backgroundcolor\":\"#E5ECF6\",\"gridcolor\":\"white\",\"linecolor\":\"white\",\"showbackground\":true,\"ticks\":\"\",\"zerolinecolor\":\"white\",\"gridwidth\":2}},\"shapedefaults\":{\"line\":{\"color\":\"#2a3f5f\"}},\"annotationdefaults\":{\"arrowcolor\":\"#2a3f5f\",\"arrowhead\":0,\"arrowwidth\":1},\"geo\":{\"bgcolor\":\"white\",\"landcolor\":\"#E5ECF6\",\"subunitcolor\":\"white\",\"showland\":true,\"showlakes\":true,\"lakecolor\":\"white\"},\"title\":{\"x\":0.05},\"mapbox\":{\"style\":\"light\"}}},\"xaxis\":{\"anchor\":\"y\",\"domain\":[0.0,1.0],\"title\":{\"text\":\"company_location\"}},\"yaxis\":{\"anchor\":\"x\",\"domain\":[0.0,1.0],\"title\":{\"text\":\"value\"}},\"coloraxis\":{\"colorbar\":{\"title\":{\"text\":\"value\"}},\"colorscale\":[[0.0,\"rgb(238, 77, 90)\"],[0.16666666666666666,\"rgb(246, 99, 86)\"],[0.3333333333333333,\"rgb(249, 123, 87)\"],[0.5,\"rgb(247, 148, 93)\"],[0.6666666666666666,\"rgb(243, 173, 106)\"],[0.8333333333333334,\"rgb(239, 196, 126)\"],[1.0,\"rgb(236, 218, 154)\"]]},\"legend\":{\"tracegroupgap\":0},\"title\":{\"text\":\"Count of Values for Companylocation\"},\"barmode\":\"relative\"},                        {\"responsive\": true}                    ).then(function(){\n",
       "                            \n",
       "var gd = document.getElementById('7d5b3f0e-681f-433c-83ba-29016ab8d007');\n",
       "var x = new MutationObserver(function (mutations, observer) {{\n",
       "        var display = window.getComputedStyle(gd).display;\n",
       "        if (!display || display === 'none') {{\n",
       "            console.log([gd, 'removed!']);\n",
       "            Plotly.purge(gd);\n",
       "            observer.disconnect();\n",
       "        }}\n",
       "}});\n",
       "\n",
       "// Listen for the removal of the full notebook cells\n",
       "var notebookContainer = gd.closest('#notebook-container');\n",
       "if (notebookContainer) {{\n",
       "    x.observe(notebookContainer, {childList: true});\n",
       "}}\n",
       "\n",
       "// Listen for the clearing of the current output cell\n",
       "var outputEl = gd.closest('.output');\n",
       "if (outputEl) {{\n",
       "    x.observe(outputEl, {childList: true});\n",
       "}}\n",
       "\n",
       "                        })                };                });            </script>        </div>"
      ]
     },
     "metadata": {},
     "output_type": "display_data"
    },
    {
     "data": {
      "text/html": [
       "<div>                            <div id=\"b0495233-1c46-4f69-b3e7-cdaa511d2a2c\" class=\"plotly-graph-div\" style=\"height:525px; width:100%;\"></div>            <script type=\"text/javascript\">                require([\"plotly\"], function(Plotly) {                    window.PLOTLYENV=window.PLOTLYENV || {};                                    if (document.getElementById(\"b0495233-1c46-4f69-b3e7-cdaa511d2a2c\")) {                    Plotly.newPlot(                        \"b0495233-1c46-4f69-b3e7-cdaa511d2a2c\",                        [{\"alignmentgroup\":\"True\",\"hovertemplate\":\"company_size=%{x}\\u003cbr\\u003evalue=%{marker.color}\\u003cextra\\u003e\\u003c\\u002fextra\\u003e\",\"legendgroup\":\"\",\"marker\":{\"color\":[3153,454,148],\"coloraxis\":\"coloraxis\",\"pattern\":{\"shape\":\"\"}},\"name\":\"\",\"offsetgroup\":\"\",\"orientation\":\"v\",\"showlegend\":false,\"text\":[3153.0,454.0,148.0],\"textposition\":\"auto\",\"x\":[\"M\",\"L\",\"S\"],\"xaxis\":\"x\",\"y\":[3153,454,148],\"yaxis\":\"y\",\"type\":\"bar\"}],                        {\"template\":{\"data\":{\"histogram2dcontour\":[{\"type\":\"histogram2dcontour\",\"colorbar\":{\"outlinewidth\":0,\"ticks\":\"\"},\"colorscale\":[[0.0,\"#0d0887\"],[0.1111111111111111,\"#46039f\"],[0.2222222222222222,\"#7201a8\"],[0.3333333333333333,\"#9c179e\"],[0.4444444444444444,\"#bd3786\"],[0.5555555555555556,\"#d8576b\"],[0.6666666666666666,\"#ed7953\"],[0.7777777777777778,\"#fb9f3a\"],[0.8888888888888888,\"#fdca26\"],[1.0,\"#f0f921\"]]}],\"choropleth\":[{\"type\":\"choropleth\",\"colorbar\":{\"outlinewidth\":0,\"ticks\":\"\"}}],\"histogram2d\":[{\"type\":\"histogram2d\",\"colorbar\":{\"outlinewidth\":0,\"ticks\":\"\"},\"colorscale\":[[0.0,\"#0d0887\"],[0.1111111111111111,\"#46039f\"],[0.2222222222222222,\"#7201a8\"],[0.3333333333333333,\"#9c179e\"],[0.4444444444444444,\"#bd3786\"],[0.5555555555555556,\"#d8576b\"],[0.6666666666666666,\"#ed7953\"],[0.7777777777777778,\"#fb9f3a\"],[0.8888888888888888,\"#fdca26\"],[1.0,\"#f0f921\"]]}],\"heatmap\":[{\"type\":\"heatmap\",\"colorbar\":{\"outlinewidth\":0,\"ticks\":\"\"},\"colorscale\":[[0.0,\"#0d0887\"],[0.1111111111111111,\"#46039f\"],[0.2222222222222222,\"#7201a8\"],[0.3333333333333333,\"#9c179e\"],[0.4444444444444444,\"#bd3786\"],[0.5555555555555556,\"#d8576b\"],[0.6666666666666666,\"#ed7953\"],[0.7777777777777778,\"#fb9f3a\"],[0.8888888888888888,\"#fdca26\"],[1.0,\"#f0f921\"]]}],\"heatmapgl\":[{\"type\":\"heatmapgl\",\"colorbar\":{\"outlinewidth\":0,\"ticks\":\"\"},\"colorscale\":[[0.0,\"#0d0887\"],[0.1111111111111111,\"#46039f\"],[0.2222222222222222,\"#7201a8\"],[0.3333333333333333,\"#9c179e\"],[0.4444444444444444,\"#bd3786\"],[0.5555555555555556,\"#d8576b\"],[0.6666666666666666,\"#ed7953\"],[0.7777777777777778,\"#fb9f3a\"],[0.8888888888888888,\"#fdca26\"],[1.0,\"#f0f921\"]]}],\"contourcarpet\":[{\"type\":\"contourcarpet\",\"colorbar\":{\"outlinewidth\":0,\"ticks\":\"\"}}],\"contour\":[{\"type\":\"contour\",\"colorbar\":{\"outlinewidth\":0,\"ticks\":\"\"},\"colorscale\":[[0.0,\"#0d0887\"],[0.1111111111111111,\"#46039f\"],[0.2222222222222222,\"#7201a8\"],[0.3333333333333333,\"#9c179e\"],[0.4444444444444444,\"#bd3786\"],[0.5555555555555556,\"#d8576b\"],[0.6666666666666666,\"#ed7953\"],[0.7777777777777778,\"#fb9f3a\"],[0.8888888888888888,\"#fdca26\"],[1.0,\"#f0f921\"]]}],\"surface\":[{\"type\":\"surface\",\"colorbar\":{\"outlinewidth\":0,\"ticks\":\"\"},\"colorscale\":[[0.0,\"#0d0887\"],[0.1111111111111111,\"#46039f\"],[0.2222222222222222,\"#7201a8\"],[0.3333333333333333,\"#9c179e\"],[0.4444444444444444,\"#bd3786\"],[0.5555555555555556,\"#d8576b\"],[0.6666666666666666,\"#ed7953\"],[0.7777777777777778,\"#fb9f3a\"],[0.8888888888888888,\"#fdca26\"],[1.0,\"#f0f921\"]]}],\"mesh3d\":[{\"type\":\"mesh3d\",\"colorbar\":{\"outlinewidth\":0,\"ticks\":\"\"}}],\"scatter\":[{\"fillpattern\":{\"fillmode\":\"overlay\",\"size\":10,\"solidity\":0.2},\"type\":\"scatter\"}],\"parcoords\":[{\"type\":\"parcoords\",\"line\":{\"colorbar\":{\"outlinewidth\":0,\"ticks\":\"\"}}}],\"scatterpolargl\":[{\"type\":\"scatterpolargl\",\"marker\":{\"colorbar\":{\"outlinewidth\":0,\"ticks\":\"\"}}}],\"bar\":[{\"error_x\":{\"color\":\"#2a3f5f\"},\"error_y\":{\"color\":\"#2a3f5f\"},\"marker\":{\"line\":{\"color\":\"#E5ECF6\",\"width\":0.5},\"pattern\":{\"fillmode\":\"overlay\",\"size\":10,\"solidity\":0.2}},\"type\":\"bar\"}],\"scattergeo\":[{\"type\":\"scattergeo\",\"marker\":{\"colorbar\":{\"outlinewidth\":0,\"ticks\":\"\"}}}],\"scatterpolar\":[{\"type\":\"scatterpolar\",\"marker\":{\"colorbar\":{\"outlinewidth\":0,\"ticks\":\"\"}}}],\"histogram\":[{\"marker\":{\"pattern\":{\"fillmode\":\"overlay\",\"size\":10,\"solidity\":0.2}},\"type\":\"histogram\"}],\"scattergl\":[{\"type\":\"scattergl\",\"marker\":{\"colorbar\":{\"outlinewidth\":0,\"ticks\":\"\"}}}],\"scatter3d\":[{\"type\":\"scatter3d\",\"line\":{\"colorbar\":{\"outlinewidth\":0,\"ticks\":\"\"}},\"marker\":{\"colorbar\":{\"outlinewidth\":0,\"ticks\":\"\"}}}],\"scattermapbox\":[{\"type\":\"scattermapbox\",\"marker\":{\"colorbar\":{\"outlinewidth\":0,\"ticks\":\"\"}}}],\"scatterternary\":[{\"type\":\"scatterternary\",\"marker\":{\"colorbar\":{\"outlinewidth\":0,\"ticks\":\"\"}}}],\"scattercarpet\":[{\"type\":\"scattercarpet\",\"marker\":{\"colorbar\":{\"outlinewidth\":0,\"ticks\":\"\"}}}],\"carpet\":[{\"aaxis\":{\"endlinecolor\":\"#2a3f5f\",\"gridcolor\":\"white\",\"linecolor\":\"white\",\"minorgridcolor\":\"white\",\"startlinecolor\":\"#2a3f5f\"},\"baxis\":{\"endlinecolor\":\"#2a3f5f\",\"gridcolor\":\"white\",\"linecolor\":\"white\",\"minorgridcolor\":\"white\",\"startlinecolor\":\"#2a3f5f\"},\"type\":\"carpet\"}],\"table\":[{\"cells\":{\"fill\":{\"color\":\"#EBF0F8\"},\"line\":{\"color\":\"white\"}},\"header\":{\"fill\":{\"color\":\"#C8D4E3\"},\"line\":{\"color\":\"white\"}},\"type\":\"table\"}],\"barpolar\":[{\"marker\":{\"line\":{\"color\":\"#E5ECF6\",\"width\":0.5},\"pattern\":{\"fillmode\":\"overlay\",\"size\":10,\"solidity\":0.2}},\"type\":\"barpolar\"}],\"pie\":[{\"automargin\":true,\"type\":\"pie\"}]},\"layout\":{\"autotypenumbers\":\"strict\",\"colorway\":[\"#636efa\",\"#EF553B\",\"#00cc96\",\"#ab63fa\",\"#FFA15A\",\"#19d3f3\",\"#FF6692\",\"#B6E880\",\"#FF97FF\",\"#FECB52\"],\"font\":{\"color\":\"#2a3f5f\"},\"hovermode\":\"closest\",\"hoverlabel\":{\"align\":\"left\"},\"paper_bgcolor\":\"white\",\"plot_bgcolor\":\"#E5ECF6\",\"polar\":{\"bgcolor\":\"#E5ECF6\",\"angularaxis\":{\"gridcolor\":\"white\",\"linecolor\":\"white\",\"ticks\":\"\"},\"radialaxis\":{\"gridcolor\":\"white\",\"linecolor\":\"white\",\"ticks\":\"\"}},\"ternary\":{\"bgcolor\":\"#E5ECF6\",\"aaxis\":{\"gridcolor\":\"white\",\"linecolor\":\"white\",\"ticks\":\"\"},\"baxis\":{\"gridcolor\":\"white\",\"linecolor\":\"white\",\"ticks\":\"\"},\"caxis\":{\"gridcolor\":\"white\",\"linecolor\":\"white\",\"ticks\":\"\"}},\"coloraxis\":{\"colorbar\":{\"outlinewidth\":0,\"ticks\":\"\"}},\"colorscale\":{\"sequential\":[[0.0,\"#0d0887\"],[0.1111111111111111,\"#46039f\"],[0.2222222222222222,\"#7201a8\"],[0.3333333333333333,\"#9c179e\"],[0.4444444444444444,\"#bd3786\"],[0.5555555555555556,\"#d8576b\"],[0.6666666666666666,\"#ed7953\"],[0.7777777777777778,\"#fb9f3a\"],[0.8888888888888888,\"#fdca26\"],[1.0,\"#f0f921\"]],\"sequentialminus\":[[0.0,\"#0d0887\"],[0.1111111111111111,\"#46039f\"],[0.2222222222222222,\"#7201a8\"],[0.3333333333333333,\"#9c179e\"],[0.4444444444444444,\"#bd3786\"],[0.5555555555555556,\"#d8576b\"],[0.6666666666666666,\"#ed7953\"],[0.7777777777777778,\"#fb9f3a\"],[0.8888888888888888,\"#fdca26\"],[1.0,\"#f0f921\"]],\"diverging\":[[0,\"#8e0152\"],[0.1,\"#c51b7d\"],[0.2,\"#de77ae\"],[0.3,\"#f1b6da\"],[0.4,\"#fde0ef\"],[0.5,\"#f7f7f7\"],[0.6,\"#e6f5d0\"],[0.7,\"#b8e186\"],[0.8,\"#7fbc41\"],[0.9,\"#4d9221\"],[1,\"#276419\"]]},\"xaxis\":{\"gridcolor\":\"white\",\"linecolor\":\"white\",\"ticks\":\"\",\"title\":{\"standoff\":15},\"zerolinecolor\":\"white\",\"automargin\":true,\"zerolinewidth\":2},\"yaxis\":{\"gridcolor\":\"white\",\"linecolor\":\"white\",\"ticks\":\"\",\"title\":{\"standoff\":15},\"zerolinecolor\":\"white\",\"automargin\":true,\"zerolinewidth\":2},\"scene\":{\"xaxis\":{\"backgroundcolor\":\"#E5ECF6\",\"gridcolor\":\"white\",\"linecolor\":\"white\",\"showbackground\":true,\"ticks\":\"\",\"zerolinecolor\":\"white\",\"gridwidth\":2},\"yaxis\":{\"backgroundcolor\":\"#E5ECF6\",\"gridcolor\":\"white\",\"linecolor\":\"white\",\"showbackground\":true,\"ticks\":\"\",\"zerolinecolor\":\"white\",\"gridwidth\":2},\"zaxis\":{\"backgroundcolor\":\"#E5ECF6\",\"gridcolor\":\"white\",\"linecolor\":\"white\",\"showbackground\":true,\"ticks\":\"\",\"zerolinecolor\":\"white\",\"gridwidth\":2}},\"shapedefaults\":{\"line\":{\"color\":\"#2a3f5f\"}},\"annotationdefaults\":{\"arrowcolor\":\"#2a3f5f\",\"arrowhead\":0,\"arrowwidth\":1},\"geo\":{\"bgcolor\":\"white\",\"landcolor\":\"#E5ECF6\",\"subunitcolor\":\"white\",\"showland\":true,\"showlakes\":true,\"lakecolor\":\"white\"},\"title\":{\"x\":0.05},\"mapbox\":{\"style\":\"light\"}}},\"xaxis\":{\"anchor\":\"y\",\"domain\":[0.0,1.0],\"title\":{\"text\":\"company_size\"}},\"yaxis\":{\"anchor\":\"x\",\"domain\":[0.0,1.0],\"title\":{\"text\":\"value\"}},\"coloraxis\":{\"colorbar\":{\"title\":{\"text\":\"value\"}},\"colorscale\":[[0.0,\"rgb(236, 218, 154)\"],[0.16666666666666666,\"rgb(239, 196, 126)\"],[0.3333333333333333,\"rgb(243, 173, 106)\"],[0.5,\"rgb(247, 148, 93)\"],[0.6666666666666666,\"rgb(249, 123, 87)\"],[0.8333333333333334,\"rgb(246, 99, 86)\"],[1.0,\"rgb(238, 77, 90)\"]]},\"legend\":{\"tracegroupgap\":0},\"title\":{\"text\":\"Count of Values for Companysize\"},\"barmode\":\"relative\"},                        {\"responsive\": true}                    ).then(function(){\n",
       "                            \n",
       "var gd = document.getElementById('b0495233-1c46-4f69-b3e7-cdaa511d2a2c');\n",
       "var x = new MutationObserver(function (mutations, observer) {{\n",
       "        var display = window.getComputedStyle(gd).display;\n",
       "        if (!display || display === 'none') {{\n",
       "            console.log([gd, 'removed!']);\n",
       "            Plotly.purge(gd);\n",
       "            observer.disconnect();\n",
       "        }}\n",
       "}});\n",
       "\n",
       "// Listen for the removal of the full notebook cells\n",
       "var notebookContainer = gd.closest('#notebook-container');\n",
       "if (notebookContainer) {{\n",
       "    x.observe(notebookContainer, {childList: true});\n",
       "}}\n",
       "\n",
       "// Listen for the clearing of the current output cell\n",
       "var outputEl = gd.closest('.output');\n",
       "if (outputEl) {{\n",
       "    x.observe(outputEl, {childList: true});\n",
       "}}\n",
       "\n",
       "                        })                };                });            </script>        </div>"
      ]
     },
     "metadata": {},
     "output_type": "display_data"
    }
   ],
   "source": [
    "#value counts\n",
    "color_scales = [\"aggrnyl\", \"sunset\", \"oryel\", \"mint\", \"teal\", \"agsunset\", \"aggrnyl_r\", \"oryel_r\",\n",
    "               \"cividis\", \"viridis\"]\n",
    "\n",
    "for col in ds.columns:\n",
    "    if col not in [\"salary\", \"salary_in_usd\"]:\n",
    "        color_sel = random.choice(color_scales)\n",
    "        bar = px.bar(ds[col].value_counts(),\n",
    "                    color=\"value\", color_continuous_scale=color_sel,\n",
    "                    text=\"value\",\n",
    "                    title=f\"Count of Values for {col.capitalize().replace('_','' '')}\")\n",
    "        bar.show()"
   ]
  },
  {
   "cell_type": "markdown",
   "id": "4ea441f0",
   "metadata": {
    "papermill": {
     "duration": 0.019111,
     "end_time": "2024-01-11T04:48:55.830888",
     "exception": false,
     "start_time": "2024-01-11T04:48:55.811777",
     "status": "completed"
    },
    "tags": []
   },
   "source": [
    "# **Salary Based on Different Features in Data**"
   ]
  },
  {
   "cell_type": "code",
   "execution_count": 9,
   "id": "7b7248a4",
   "metadata": {
    "execution": {
     "iopub.execute_input": "2024-01-11T04:48:55.872729Z",
     "iopub.status.busy": "2024-01-11T04:48:55.871546Z",
     "iopub.status.idle": "2024-01-11T04:48:55.957984Z",
     "shell.execute_reply": "2024-01-11T04:48:55.956866Z"
    },
    "papermill": {
     "duration": 0.109752,
     "end_time": "2024-01-11T04:48:55.960792",
     "exception": false,
     "start_time": "2024-01-11T04:48:55.851040",
     "status": "completed"
    },
    "tags": []
   },
   "outputs": [
    {
     "data": {
      "text/html": [
       "<div>                            <div id=\"f6930341-492b-4f34-9126-765a55595398\" class=\"plotly-graph-div\" style=\"height:200px; width:100%;\"></div>            <script type=\"text/javascript\">                require([\"plotly\"], function(Plotly) {                    window.PLOTLYENV=window.PLOTLYENV || {};                                    if (document.getElementById(\"f6930341-492b-4f34-9126-765a55595398\")) {                    Plotly.newPlot(                        \"f6930341-492b-4f34-9126-765a55595398\",                        [{\"colorscale\":[[0.0,\"rgb(39, 26, 44)\"],[0.09090909090909091,\"rgb(54, 43, 77)\"],[0.18181818181818182,\"rgb(64, 60, 115)\"],[0.2727272727272727,\"rgb(62, 82, 143)\"],[0.36363636363636365,\"rgb(62, 108, 150)\"],[0.45454545454545453,\"rgb(68, 130, 155)\"],[0.5454545454545454,\"rgb(76, 153, 160)\"],[0.6363636363636364,\"rgb(86, 177, 163)\"],[0.7272727272727273,\"rgb(111, 201, 163)\"],[0.8181818181818182,\"rgb(156, 219, 165)\"],[0.9090909090909091,\"rgb(206, 236, 179)\"],[1.0,\"rgb(253, 253, 204)\"]],\"hoverinfo\":\"none\",\"opacity\":0.75,\"showscale\":false,\"z\":[[0,0,0,0,0],[0.5,0.5,0.5,0.5,0.5],[1,1,1,1,1],[0.5,0.5,0.5,0.5,0.5],[1,1,1,1,1]],\"type\":\"heatmap\"}],                        {\"annotations\":[{\"align\":\"left\",\"font\":{\"color\":\"#ffffff\"},\"showarrow\":false,\"text\":\"\\u003cb\\u003eexperience_level\\u003c\\u002fb\\u003e\",\"x\":-0.45,\"xanchor\":\"left\",\"xref\":\"x\",\"y\":0,\"yref\":\"y\"},{\"align\":\"left\",\"font\":{\"color\":\"#ffffff\"},\"showarrow\":false,\"text\":\"\\u003cb\\u003emean\\u003c\\u002fb\\u003e\",\"x\":0.55,\"xanchor\":\"left\",\"xref\":\"x\",\"y\":0,\"yref\":\"y\"},{\"align\":\"left\",\"font\":{\"color\":\"#ffffff\"},\"showarrow\":false,\"text\":\"\\u003cb\\u003estd\\u003c\\u002fb\\u003e\",\"x\":1.55,\"xanchor\":\"left\",\"xref\":\"x\",\"y\":0,\"yref\":\"y\"},{\"align\":\"left\",\"font\":{\"color\":\"#ffffff\"},\"showarrow\":false,\"text\":\"\\u003cb\\u003emax\\u003c\\u002fb\\u003e\",\"x\":2.55,\"xanchor\":\"left\",\"xref\":\"x\",\"y\":0,\"yref\":\"y\"},{\"align\":\"left\",\"font\":{\"color\":\"#ffffff\"},\"showarrow\":false,\"text\":\"\\u003cb\\u003emin\\u003c\\u002fb\\u003e\",\"x\":3.55,\"xanchor\":\"left\",\"xref\":\"x\",\"y\":0,\"yref\":\"y\"},{\"align\":\"left\",\"font\":{\"color\":\"#000000\"},\"showarrow\":false,\"text\":\"EN\",\"x\":-0.45,\"xanchor\":\"left\",\"xref\":\"x\",\"y\":1,\"yref\":\"y\"},{\"align\":\"left\",\"font\":{\"color\":\"#000000\"},\"showarrow\":false,\"text\":\"78546.28\",\"x\":0.55,\"xanchor\":\"left\",\"xref\":\"x\",\"y\":1,\"yref\":\"y\"},{\"align\":\"left\",\"font\":{\"color\":\"#000000\"},\"showarrow\":false,\"text\":\"52225.42\",\"x\":1.55,\"xanchor\":\"left\",\"xref\":\"x\",\"y\":1,\"yref\":\"y\"},{\"align\":\"left\",\"font\":{\"color\":\"#000000\"},\"showarrow\":false,\"text\":\"300000\",\"x\":2.55,\"xanchor\":\"left\",\"xref\":\"x\",\"y\":1,\"yref\":\"y\"},{\"align\":\"left\",\"font\":{\"color\":\"#000000\"},\"showarrow\":false,\"text\":\"5409\",\"x\":3.55,\"xanchor\":\"left\",\"xref\":\"x\",\"y\":1,\"yref\":\"y\"},{\"align\":\"left\",\"font\":{\"color\":\"#000000\"},\"showarrow\":false,\"text\":\"EX\",\"x\":-0.45,\"xanchor\":\"left\",\"xref\":\"x\",\"y\":2,\"yref\":\"y\"},{\"align\":\"left\",\"font\":{\"color\":\"#000000\"},\"showarrow\":false,\"text\":\"194930.93\",\"x\":0.55,\"xanchor\":\"left\",\"xref\":\"x\",\"y\":2,\"yref\":\"y\"},{\"align\":\"left\",\"font\":{\"color\":\"#000000\"},\"showarrow\":false,\"text\":\"70661.93\",\"x\":1.55,\"xanchor\":\"left\",\"xref\":\"x\",\"y\":2,\"yref\":\"y\"},{\"align\":\"left\",\"font\":{\"color\":\"#000000\"},\"showarrow\":false,\"text\":\"416000\",\"x\":2.55,\"xanchor\":\"left\",\"xref\":\"x\",\"y\":2,\"yref\":\"y\"},{\"align\":\"left\",\"font\":{\"color\":\"#000000\"},\"showarrow\":false,\"text\":\"15000\",\"x\":3.55,\"xanchor\":\"left\",\"xref\":\"x\",\"y\":2,\"yref\":\"y\"},{\"align\":\"left\",\"font\":{\"color\":\"#000000\"},\"showarrow\":false,\"text\":\"MI\",\"x\":-0.45,\"xanchor\":\"left\",\"xref\":\"x\",\"y\":3,\"yref\":\"y\"},{\"align\":\"left\",\"font\":{\"color\":\"#000000\"},\"showarrow\":false,\"text\":\"104525.94\",\"x\":0.55,\"xanchor\":\"left\",\"xref\":\"x\",\"y\":3,\"yref\":\"y\"},{\"align\":\"left\",\"font\":{\"color\":\"#000000\"},\"showarrow\":false,\"text\":\"54387.69\",\"x\":1.55,\"xanchor\":\"left\",\"xref\":\"x\",\"y\":3,\"yref\":\"y\"},{\"align\":\"left\",\"font\":{\"color\":\"#000000\"},\"showarrow\":false,\"text\":\"450000\",\"x\":2.55,\"xanchor\":\"left\",\"xref\":\"x\",\"y\":3,\"yref\":\"y\"},{\"align\":\"left\",\"font\":{\"color\":\"#000000\"},\"showarrow\":false,\"text\":\"5132\",\"x\":3.55,\"xanchor\":\"left\",\"xref\":\"x\",\"y\":3,\"yref\":\"y\"},{\"align\":\"left\",\"font\":{\"color\":\"#000000\"},\"showarrow\":false,\"text\":\"SE\",\"x\":-0.45,\"xanchor\":\"left\",\"xref\":\"x\",\"y\":4,\"yref\":\"y\"},{\"align\":\"left\",\"font\":{\"color\":\"#000000\"},\"showarrow\":false,\"text\":\"153051.07\",\"x\":0.55,\"xanchor\":\"left\",\"xref\":\"x\",\"y\":4,\"yref\":\"y\"},{\"align\":\"left\",\"font\":{\"color\":\"#000000\"},\"showarrow\":false,\"text\":\"56896.26\",\"x\":1.55,\"xanchor\":\"left\",\"xref\":\"x\",\"y\":4,\"yref\":\"y\"},{\"align\":\"left\",\"font\":{\"color\":\"#000000\"},\"showarrow\":false,\"text\":\"423834\",\"x\":2.55,\"xanchor\":\"left\",\"xref\":\"x\",\"y\":4,\"yref\":\"y\"},{\"align\":\"left\",\"font\":{\"color\":\"#000000\"},\"showarrow\":false,\"text\":\"8000\",\"x\":3.55,\"xanchor\":\"left\",\"xref\":\"x\",\"y\":4,\"yref\":\"y\"}],\"height\":200,\"margin\":{\"b\":0,\"l\":0,\"r\":0,\"t\":0},\"xaxis\":{\"dtick\":1,\"gridwidth\":2,\"showticklabels\":false,\"tick0\":-0.5,\"ticks\":\"\",\"zeroline\":false},\"yaxis\":{\"autorange\":\"reversed\",\"dtick\":1,\"gridwidth\":2,\"showticklabels\":false,\"tick0\":0.5,\"ticks\":\"\",\"zeroline\":false},\"template\":{\"data\":{\"histogram2dcontour\":[{\"type\":\"histogram2dcontour\",\"colorbar\":{\"outlinewidth\":0,\"ticks\":\"\"},\"colorscale\":[[0.0,\"#0d0887\"],[0.1111111111111111,\"#46039f\"],[0.2222222222222222,\"#7201a8\"],[0.3333333333333333,\"#9c179e\"],[0.4444444444444444,\"#bd3786\"],[0.5555555555555556,\"#d8576b\"],[0.6666666666666666,\"#ed7953\"],[0.7777777777777778,\"#fb9f3a\"],[0.8888888888888888,\"#fdca26\"],[1.0,\"#f0f921\"]]}],\"choropleth\":[{\"type\":\"choropleth\",\"colorbar\":{\"outlinewidth\":0,\"ticks\":\"\"}}],\"histogram2d\":[{\"type\":\"histogram2d\",\"colorbar\":{\"outlinewidth\":0,\"ticks\":\"\"},\"colorscale\":[[0.0,\"#0d0887\"],[0.1111111111111111,\"#46039f\"],[0.2222222222222222,\"#7201a8\"],[0.3333333333333333,\"#9c179e\"],[0.4444444444444444,\"#bd3786\"],[0.5555555555555556,\"#d8576b\"],[0.6666666666666666,\"#ed7953\"],[0.7777777777777778,\"#fb9f3a\"],[0.8888888888888888,\"#fdca26\"],[1.0,\"#f0f921\"]]}],\"heatmap\":[{\"type\":\"heatmap\",\"colorbar\":{\"outlinewidth\":0,\"ticks\":\"\"},\"colorscale\":[[0.0,\"#0d0887\"],[0.1111111111111111,\"#46039f\"],[0.2222222222222222,\"#7201a8\"],[0.3333333333333333,\"#9c179e\"],[0.4444444444444444,\"#bd3786\"],[0.5555555555555556,\"#d8576b\"],[0.6666666666666666,\"#ed7953\"],[0.7777777777777778,\"#fb9f3a\"],[0.8888888888888888,\"#fdca26\"],[1.0,\"#f0f921\"]]}],\"heatmapgl\":[{\"type\":\"heatmapgl\",\"colorbar\":{\"outlinewidth\":0,\"ticks\":\"\"},\"colorscale\":[[0.0,\"#0d0887\"],[0.1111111111111111,\"#46039f\"],[0.2222222222222222,\"#7201a8\"],[0.3333333333333333,\"#9c179e\"],[0.4444444444444444,\"#bd3786\"],[0.5555555555555556,\"#d8576b\"],[0.6666666666666666,\"#ed7953\"],[0.7777777777777778,\"#fb9f3a\"],[0.8888888888888888,\"#fdca26\"],[1.0,\"#f0f921\"]]}],\"contourcarpet\":[{\"type\":\"contourcarpet\",\"colorbar\":{\"outlinewidth\":0,\"ticks\":\"\"}}],\"contour\":[{\"type\":\"contour\",\"colorbar\":{\"outlinewidth\":0,\"ticks\":\"\"},\"colorscale\":[[0.0,\"#0d0887\"],[0.1111111111111111,\"#46039f\"],[0.2222222222222222,\"#7201a8\"],[0.3333333333333333,\"#9c179e\"],[0.4444444444444444,\"#bd3786\"],[0.5555555555555556,\"#d8576b\"],[0.6666666666666666,\"#ed7953\"],[0.7777777777777778,\"#fb9f3a\"],[0.8888888888888888,\"#fdca26\"],[1.0,\"#f0f921\"]]}],\"surface\":[{\"type\":\"surface\",\"colorbar\":{\"outlinewidth\":0,\"ticks\":\"\"},\"colorscale\":[[0.0,\"#0d0887\"],[0.1111111111111111,\"#46039f\"],[0.2222222222222222,\"#7201a8\"],[0.3333333333333333,\"#9c179e\"],[0.4444444444444444,\"#bd3786\"],[0.5555555555555556,\"#d8576b\"],[0.6666666666666666,\"#ed7953\"],[0.7777777777777778,\"#fb9f3a\"],[0.8888888888888888,\"#fdca26\"],[1.0,\"#f0f921\"]]}],\"mesh3d\":[{\"type\":\"mesh3d\",\"colorbar\":{\"outlinewidth\":0,\"ticks\":\"\"}}],\"scatter\":[{\"fillpattern\":{\"fillmode\":\"overlay\",\"size\":10,\"solidity\":0.2},\"type\":\"scatter\"}],\"parcoords\":[{\"type\":\"parcoords\",\"line\":{\"colorbar\":{\"outlinewidth\":0,\"ticks\":\"\"}}}],\"scatterpolargl\":[{\"type\":\"scatterpolargl\",\"marker\":{\"colorbar\":{\"outlinewidth\":0,\"ticks\":\"\"}}}],\"bar\":[{\"error_x\":{\"color\":\"#2a3f5f\"},\"error_y\":{\"color\":\"#2a3f5f\"},\"marker\":{\"line\":{\"color\":\"#E5ECF6\",\"width\":0.5},\"pattern\":{\"fillmode\":\"overlay\",\"size\":10,\"solidity\":0.2}},\"type\":\"bar\"}],\"scattergeo\":[{\"type\":\"scattergeo\",\"marker\":{\"colorbar\":{\"outlinewidth\":0,\"ticks\":\"\"}}}],\"scatterpolar\":[{\"type\":\"scatterpolar\",\"marker\":{\"colorbar\":{\"outlinewidth\":0,\"ticks\":\"\"}}}],\"histogram\":[{\"marker\":{\"pattern\":{\"fillmode\":\"overlay\",\"size\":10,\"solidity\":0.2}},\"type\":\"histogram\"}],\"scattergl\":[{\"type\":\"scattergl\",\"marker\":{\"colorbar\":{\"outlinewidth\":0,\"ticks\":\"\"}}}],\"scatter3d\":[{\"type\":\"scatter3d\",\"line\":{\"colorbar\":{\"outlinewidth\":0,\"ticks\":\"\"}},\"marker\":{\"colorbar\":{\"outlinewidth\":0,\"ticks\":\"\"}}}],\"scattermapbox\":[{\"type\":\"scattermapbox\",\"marker\":{\"colorbar\":{\"outlinewidth\":0,\"ticks\":\"\"}}}],\"scatterternary\":[{\"type\":\"scatterternary\",\"marker\":{\"colorbar\":{\"outlinewidth\":0,\"ticks\":\"\"}}}],\"scattercarpet\":[{\"type\":\"scattercarpet\",\"marker\":{\"colorbar\":{\"outlinewidth\":0,\"ticks\":\"\"}}}],\"carpet\":[{\"aaxis\":{\"endlinecolor\":\"#2a3f5f\",\"gridcolor\":\"white\",\"linecolor\":\"white\",\"minorgridcolor\":\"white\",\"startlinecolor\":\"#2a3f5f\"},\"baxis\":{\"endlinecolor\":\"#2a3f5f\",\"gridcolor\":\"white\",\"linecolor\":\"white\",\"minorgridcolor\":\"white\",\"startlinecolor\":\"#2a3f5f\"},\"type\":\"carpet\"}],\"table\":[{\"cells\":{\"fill\":{\"color\":\"#EBF0F8\"},\"line\":{\"color\":\"white\"}},\"header\":{\"fill\":{\"color\":\"#C8D4E3\"},\"line\":{\"color\":\"white\"}},\"type\":\"table\"}],\"barpolar\":[{\"marker\":{\"line\":{\"color\":\"#E5ECF6\",\"width\":0.5},\"pattern\":{\"fillmode\":\"overlay\",\"size\":10,\"solidity\":0.2}},\"type\":\"barpolar\"}],\"pie\":[{\"automargin\":true,\"type\":\"pie\"}]},\"layout\":{\"autotypenumbers\":\"strict\",\"colorway\":[\"#636efa\",\"#EF553B\",\"#00cc96\",\"#ab63fa\",\"#FFA15A\",\"#19d3f3\",\"#FF6692\",\"#B6E880\",\"#FF97FF\",\"#FECB52\"],\"font\":{\"color\":\"#2a3f5f\"},\"hovermode\":\"closest\",\"hoverlabel\":{\"align\":\"left\"},\"paper_bgcolor\":\"white\",\"plot_bgcolor\":\"#E5ECF6\",\"polar\":{\"bgcolor\":\"#E5ECF6\",\"angularaxis\":{\"gridcolor\":\"white\",\"linecolor\":\"white\",\"ticks\":\"\"},\"radialaxis\":{\"gridcolor\":\"white\",\"linecolor\":\"white\",\"ticks\":\"\"}},\"ternary\":{\"bgcolor\":\"#E5ECF6\",\"aaxis\":{\"gridcolor\":\"white\",\"linecolor\":\"white\",\"ticks\":\"\"},\"baxis\":{\"gridcolor\":\"white\",\"linecolor\":\"white\",\"ticks\":\"\"},\"caxis\":{\"gridcolor\":\"white\",\"linecolor\":\"white\",\"ticks\":\"\"}},\"coloraxis\":{\"colorbar\":{\"outlinewidth\":0,\"ticks\":\"\"}},\"colorscale\":{\"sequential\":[[0.0,\"#0d0887\"],[0.1111111111111111,\"#46039f\"],[0.2222222222222222,\"#7201a8\"],[0.3333333333333333,\"#9c179e\"],[0.4444444444444444,\"#bd3786\"],[0.5555555555555556,\"#d8576b\"],[0.6666666666666666,\"#ed7953\"],[0.7777777777777778,\"#fb9f3a\"],[0.8888888888888888,\"#fdca26\"],[1.0,\"#f0f921\"]],\"sequentialminus\":[[0.0,\"#0d0887\"],[0.1111111111111111,\"#46039f\"],[0.2222222222222222,\"#7201a8\"],[0.3333333333333333,\"#9c179e\"],[0.4444444444444444,\"#bd3786\"],[0.5555555555555556,\"#d8576b\"],[0.6666666666666666,\"#ed7953\"],[0.7777777777777778,\"#fb9f3a\"],[0.8888888888888888,\"#fdca26\"],[1.0,\"#f0f921\"]],\"diverging\":[[0,\"#8e0152\"],[0.1,\"#c51b7d\"],[0.2,\"#de77ae\"],[0.3,\"#f1b6da\"],[0.4,\"#fde0ef\"],[0.5,\"#f7f7f7\"],[0.6,\"#e6f5d0\"],[0.7,\"#b8e186\"],[0.8,\"#7fbc41\"],[0.9,\"#4d9221\"],[1,\"#276419\"]]},\"xaxis\":{\"gridcolor\":\"white\",\"linecolor\":\"white\",\"ticks\":\"\",\"title\":{\"standoff\":15},\"zerolinecolor\":\"white\",\"automargin\":true,\"zerolinewidth\":2},\"yaxis\":{\"gridcolor\":\"white\",\"linecolor\":\"white\",\"ticks\":\"\",\"title\":{\"standoff\":15},\"zerolinecolor\":\"white\",\"automargin\":true,\"zerolinewidth\":2},\"scene\":{\"xaxis\":{\"backgroundcolor\":\"#E5ECF6\",\"gridcolor\":\"white\",\"linecolor\":\"white\",\"showbackground\":true,\"ticks\":\"\",\"zerolinecolor\":\"white\",\"gridwidth\":2},\"yaxis\":{\"backgroundcolor\":\"#E5ECF6\",\"gridcolor\":\"white\",\"linecolor\":\"white\",\"showbackground\":true,\"ticks\":\"\",\"zerolinecolor\":\"white\",\"gridwidth\":2},\"zaxis\":{\"backgroundcolor\":\"#E5ECF6\",\"gridcolor\":\"white\",\"linecolor\":\"white\",\"showbackground\":true,\"ticks\":\"\",\"zerolinecolor\":\"white\",\"gridwidth\":2}},\"shapedefaults\":{\"line\":{\"color\":\"#2a3f5f\"}},\"annotationdefaults\":{\"arrowcolor\":\"#2a3f5f\",\"arrowhead\":0,\"arrowwidth\":1},\"geo\":{\"bgcolor\":\"white\",\"landcolor\":\"#E5ECF6\",\"subunitcolor\":\"white\",\"showland\":true,\"showlakes\":true,\"lakecolor\":\"white\"},\"title\":{\"x\":0.05},\"mapbox\":{\"style\":\"light\"}}}},                        {\"responsive\": true}                    ).then(function(){\n",
       "                            \n",
       "var gd = document.getElementById('f6930341-492b-4f34-9126-765a55595398');\n",
       "var x = new MutationObserver(function (mutations, observer) {{\n",
       "        var display = window.getComputedStyle(gd).display;\n",
       "        if (!display || display === 'none') {{\n",
       "            console.log([gd, 'removed!']);\n",
       "            Plotly.purge(gd);\n",
       "            observer.disconnect();\n",
       "        }}\n",
       "}});\n",
       "\n",
       "// Listen for the removal of the full notebook cells\n",
       "var notebookContainer = gd.closest('#notebook-container');\n",
       "if (notebookContainer) {{\n",
       "    x.observe(notebookContainer, {childList: true});\n",
       "}}\n",
       "\n",
       "// Listen for the clearing of the current output cell\n",
       "var outputEl = gd.closest('.output');\n",
       "if (outputEl) {{\n",
       "    x.observe(outputEl, {childList: true});\n",
       "}}\n",
       "\n",
       "                        })                };                });            </script>        </div>"
      ]
     },
     "metadata": {},
     "output_type": "display_data"
    }
   ],
   "source": [
    "#experience level and salary in usd\n",
    "exp_sal = round(ds.groupby(\"experience_level\")[\"salary_in_usd\"].agg([\"mean\", \"std\", \"max\", \"min\"]).reset_index(),2)\n",
    "ff.create_table(exp_sal, \"deep_r\")"
   ]
  },
  {
   "cell_type": "code",
   "execution_count": 10,
   "id": "2cc9fafb",
   "metadata": {
    "execution": {
     "iopub.execute_input": "2024-01-11T04:48:56.061599Z",
     "iopub.status.busy": "2024-01-11T04:48:56.061205Z",
     "iopub.status.idle": "2024-01-11T04:48:56.080900Z",
     "shell.execute_reply": "2024-01-11T04:48:56.079344Z"
    },
    "papermill": {
     "duration": 0.104182,
     "end_time": "2024-01-11T04:48:56.084626",
     "exception": false,
     "start_time": "2024-01-11T04:48:55.980444",
     "status": "completed"
    },
    "tags": []
   },
   "outputs": [
    {
     "data": {
      "text/html": [
       "<div>\n",
       "<style scoped>\n",
       "    .dataframe tbody tr th:only-of-type {\n",
       "        vertical-align: middle;\n",
       "    }\n",
       "\n",
       "    .dataframe tbody tr th {\n",
       "        vertical-align: top;\n",
       "    }\n",
       "\n",
       "    .dataframe thead th {\n",
       "        text-align: right;\n",
       "    }\n",
       "</style>\n",
       "<table border=\"1\" class=\"dataframe\">\n",
       "  <thead>\n",
       "    <tr style=\"text-align: right;\">\n",
       "      <th></th>\n",
       "      <th>experience_level</th>\n",
       "      <th>stats</th>\n",
       "      <th>salary</th>\n",
       "    </tr>\n",
       "  </thead>\n",
       "  <tbody>\n",
       "    <tr>\n",
       "      <th>0</th>\n",
       "      <td>EN</td>\n",
       "      <td>mean</td>\n",
       "      <td>78546.28</td>\n",
       "    </tr>\n",
       "    <tr>\n",
       "      <th>1</th>\n",
       "      <td>EX</td>\n",
       "      <td>mean</td>\n",
       "      <td>194930.93</td>\n",
       "    </tr>\n",
       "    <tr>\n",
       "      <th>2</th>\n",
       "      <td>MI</td>\n",
       "      <td>mean</td>\n",
       "      <td>104525.94</td>\n",
       "    </tr>\n",
       "    <tr>\n",
       "      <th>3</th>\n",
       "      <td>SE</td>\n",
       "      <td>mean</td>\n",
       "      <td>153051.07</td>\n",
       "    </tr>\n",
       "    <tr>\n",
       "      <th>4</th>\n",
       "      <td>EN</td>\n",
       "      <td>std</td>\n",
       "      <td>52225.42</td>\n",
       "    </tr>\n",
       "    <tr>\n",
       "      <th>5</th>\n",
       "      <td>EX</td>\n",
       "      <td>std</td>\n",
       "      <td>70661.93</td>\n",
       "    </tr>\n",
       "    <tr>\n",
       "      <th>6</th>\n",
       "      <td>MI</td>\n",
       "      <td>std</td>\n",
       "      <td>54387.69</td>\n",
       "    </tr>\n",
       "    <tr>\n",
       "      <th>7</th>\n",
       "      <td>SE</td>\n",
       "      <td>std</td>\n",
       "      <td>56896.26</td>\n",
       "    </tr>\n",
       "    <tr>\n",
       "      <th>8</th>\n",
       "      <td>EN</td>\n",
       "      <td>max</td>\n",
       "      <td>300000.00</td>\n",
       "    </tr>\n",
       "    <tr>\n",
       "      <th>9</th>\n",
       "      <td>EX</td>\n",
       "      <td>max</td>\n",
       "      <td>416000.00</td>\n",
       "    </tr>\n",
       "    <tr>\n",
       "      <th>10</th>\n",
       "      <td>MI</td>\n",
       "      <td>max</td>\n",
       "      <td>450000.00</td>\n",
       "    </tr>\n",
       "    <tr>\n",
       "      <th>11</th>\n",
       "      <td>SE</td>\n",
       "      <td>max</td>\n",
       "      <td>423834.00</td>\n",
       "    </tr>\n",
       "    <tr>\n",
       "      <th>12</th>\n",
       "      <td>EN</td>\n",
       "      <td>min</td>\n",
       "      <td>5409.00</td>\n",
       "    </tr>\n",
       "    <tr>\n",
       "      <th>13</th>\n",
       "      <td>EX</td>\n",
       "      <td>min</td>\n",
       "      <td>15000.00</td>\n",
       "    </tr>\n",
       "    <tr>\n",
       "      <th>14</th>\n",
       "      <td>MI</td>\n",
       "      <td>min</td>\n",
       "      <td>5132.00</td>\n",
       "    </tr>\n",
       "    <tr>\n",
       "      <th>15</th>\n",
       "      <td>SE</td>\n",
       "      <td>min</td>\n",
       "      <td>8000.00</td>\n",
       "    </tr>\n",
       "  </tbody>\n",
       "</table>\n",
       "</div>"
      ],
      "text/plain": [
       "   experience_level stats     salary\n",
       "0                EN  mean   78546.28\n",
       "1                EX  mean  194930.93\n",
       "2                MI  mean  104525.94\n",
       "3                SE  mean  153051.07\n",
       "4                EN   std   52225.42\n",
       "5                EX   std   70661.93\n",
       "6                MI   std   54387.69\n",
       "7                SE   std   56896.26\n",
       "8                EN   max  300000.00\n",
       "9                EX   max  416000.00\n",
       "10               MI   max  450000.00\n",
       "11               SE   max  423834.00\n",
       "12               EN   min    5409.00\n",
       "13               EX   min   15000.00\n",
       "14               MI   min    5132.00\n",
       "15               SE   min    8000.00"
      ]
     },
     "execution_count": 10,
     "metadata": {},
     "output_type": "execute_result"
    }
   ],
   "source": [
    "melt_exp_sal = exp_sal.melt(id_vars=\"experience_level\", var_name=\"stats\", value_name=\"salary\")\n",
    "melt_exp_sal"
   ]
  },
  {
   "cell_type": "code",
   "execution_count": 11,
   "id": "dde855fa",
   "metadata": {
    "execution": {
     "iopub.execute_input": "2024-01-11T04:48:56.127785Z",
     "iopub.status.busy": "2024-01-11T04:48:56.127094Z",
     "iopub.status.idle": "2024-01-11T04:48:56.225041Z",
     "shell.execute_reply": "2024-01-11T04:48:56.223905Z"
    },
    "papermill": {
     "duration": 0.122111,
     "end_time": "2024-01-11T04:48:56.227618",
     "exception": false,
     "start_time": "2024-01-11T04:48:56.105507",
     "status": "completed"
    },
    "tags": []
   },
   "outputs": [
    {
     "data": {
      "text/html": [
       "<div>                            <div id=\"13a31e5e-7493-4aa1-95fc-0a74cbb2b3bc\" class=\"plotly-graph-div\" style=\"height:525px; width:100%;\"></div>            <script type=\"text/javascript\">                require([\"plotly\"], function(Plotly) {                    window.PLOTLYENV=window.PLOTLYENV || {};                                    if (document.getElementById(\"13a31e5e-7493-4aa1-95fc-0a74cbb2b3bc\")) {                    Plotly.newPlot(                        \"13a31e5e-7493-4aa1-95fc-0a74cbb2b3bc\",                        [{\"alignmentgroup\":\"True\",\"hovertemplate\":\"stats=mean\\u003cbr\\u003eexperience_level=%{x}\\u003cbr\\u003esalary=%{text}\\u003cextra\\u003e\\u003c\\u002fextra\\u003e\",\"legendgroup\":\"mean\",\"marker\":{\"color\":\"rgb(253, 253, 204)\",\"pattern\":{\"shape\":\"\"}},\"name\":\"mean\",\"offsetgroup\":\"mean\",\"orientation\":\"v\",\"showlegend\":true,\"text\":[78546.28,194930.93,104525.94,153051.07],\"textposition\":\"auto\",\"x\":[\"EN\",\"EX\",\"MI\",\"SE\"],\"xaxis\":\"x\",\"y\":[78546.28,194930.93,104525.94,153051.07],\"yaxis\":\"y\",\"type\":\"bar\"},{\"alignmentgroup\":\"True\",\"hovertemplate\":\"stats=std\\u003cbr\\u003eexperience_level=%{x}\\u003cbr\\u003esalary=%{text}\\u003cextra\\u003e\\u003c\\u002fextra\\u003e\",\"legendgroup\":\"std\",\"marker\":{\"color\":\"rgb(206, 236, 179)\",\"pattern\":{\"shape\":\"\"}},\"name\":\"std\",\"offsetgroup\":\"std\",\"orientation\":\"v\",\"showlegend\":true,\"text\":[52225.42,70661.93,54387.69,56896.26],\"textposition\":\"auto\",\"x\":[\"EN\",\"EX\",\"MI\",\"SE\"],\"xaxis\":\"x\",\"y\":[52225.42,70661.93,54387.69,56896.26],\"yaxis\":\"y\",\"type\":\"bar\"},{\"alignmentgroup\":\"True\",\"hovertemplate\":\"stats=max\\u003cbr\\u003eexperience_level=%{x}\\u003cbr\\u003esalary=%{text}\\u003cextra\\u003e\\u003c\\u002fextra\\u003e\",\"legendgroup\":\"max\",\"marker\":{\"color\":\"rgb(156, 219, 165)\",\"pattern\":{\"shape\":\"\"}},\"name\":\"max\",\"offsetgroup\":\"max\",\"orientation\":\"v\",\"showlegend\":true,\"text\":[300000.0,416000.0,450000.0,423834.0],\"textposition\":\"auto\",\"x\":[\"EN\",\"EX\",\"MI\",\"SE\"],\"xaxis\":\"x\",\"y\":[300000.0,416000.0,450000.0,423834.0],\"yaxis\":\"y\",\"type\":\"bar\"},{\"alignmentgroup\":\"True\",\"hovertemplate\":\"stats=min\\u003cbr\\u003eexperience_level=%{x}\\u003cbr\\u003esalary=%{text}\\u003cextra\\u003e\\u003c\\u002fextra\\u003e\",\"legendgroup\":\"min\",\"marker\":{\"color\":\"rgb(111, 201, 163)\",\"pattern\":{\"shape\":\"\"}},\"name\":\"min\",\"offsetgroup\":\"min\",\"orientation\":\"v\",\"showlegend\":true,\"text\":[5409.0,15000.0,5132.0,8000.0],\"textposition\":\"auto\",\"x\":[\"EN\",\"EX\",\"MI\",\"SE\"],\"xaxis\":\"x\",\"y\":[5409.0,15000.0,5132.0,8000.0],\"yaxis\":\"y\",\"type\":\"bar\"}],                        {\"template\":{\"data\":{\"histogram2dcontour\":[{\"type\":\"histogram2dcontour\",\"colorbar\":{\"outlinewidth\":0,\"ticks\":\"\"},\"colorscale\":[[0.0,\"#0d0887\"],[0.1111111111111111,\"#46039f\"],[0.2222222222222222,\"#7201a8\"],[0.3333333333333333,\"#9c179e\"],[0.4444444444444444,\"#bd3786\"],[0.5555555555555556,\"#d8576b\"],[0.6666666666666666,\"#ed7953\"],[0.7777777777777778,\"#fb9f3a\"],[0.8888888888888888,\"#fdca26\"],[1.0,\"#f0f921\"]]}],\"choropleth\":[{\"type\":\"choropleth\",\"colorbar\":{\"outlinewidth\":0,\"ticks\":\"\"}}],\"histogram2d\":[{\"type\":\"histogram2d\",\"colorbar\":{\"outlinewidth\":0,\"ticks\":\"\"},\"colorscale\":[[0.0,\"#0d0887\"],[0.1111111111111111,\"#46039f\"],[0.2222222222222222,\"#7201a8\"],[0.3333333333333333,\"#9c179e\"],[0.4444444444444444,\"#bd3786\"],[0.5555555555555556,\"#d8576b\"],[0.6666666666666666,\"#ed7953\"],[0.7777777777777778,\"#fb9f3a\"],[0.8888888888888888,\"#fdca26\"],[1.0,\"#f0f921\"]]}],\"heatmap\":[{\"type\":\"heatmap\",\"colorbar\":{\"outlinewidth\":0,\"ticks\":\"\"},\"colorscale\":[[0.0,\"#0d0887\"],[0.1111111111111111,\"#46039f\"],[0.2222222222222222,\"#7201a8\"],[0.3333333333333333,\"#9c179e\"],[0.4444444444444444,\"#bd3786\"],[0.5555555555555556,\"#d8576b\"],[0.6666666666666666,\"#ed7953\"],[0.7777777777777778,\"#fb9f3a\"],[0.8888888888888888,\"#fdca26\"],[1.0,\"#f0f921\"]]}],\"heatmapgl\":[{\"type\":\"heatmapgl\",\"colorbar\":{\"outlinewidth\":0,\"ticks\":\"\"},\"colorscale\":[[0.0,\"#0d0887\"],[0.1111111111111111,\"#46039f\"],[0.2222222222222222,\"#7201a8\"],[0.3333333333333333,\"#9c179e\"],[0.4444444444444444,\"#bd3786\"],[0.5555555555555556,\"#d8576b\"],[0.6666666666666666,\"#ed7953\"],[0.7777777777777778,\"#fb9f3a\"],[0.8888888888888888,\"#fdca26\"],[1.0,\"#f0f921\"]]}],\"contourcarpet\":[{\"type\":\"contourcarpet\",\"colorbar\":{\"outlinewidth\":0,\"ticks\":\"\"}}],\"contour\":[{\"type\":\"contour\",\"colorbar\":{\"outlinewidth\":0,\"ticks\":\"\"},\"colorscale\":[[0.0,\"#0d0887\"],[0.1111111111111111,\"#46039f\"],[0.2222222222222222,\"#7201a8\"],[0.3333333333333333,\"#9c179e\"],[0.4444444444444444,\"#bd3786\"],[0.5555555555555556,\"#d8576b\"],[0.6666666666666666,\"#ed7953\"],[0.7777777777777778,\"#fb9f3a\"],[0.8888888888888888,\"#fdca26\"],[1.0,\"#f0f921\"]]}],\"surface\":[{\"type\":\"surface\",\"colorbar\":{\"outlinewidth\":0,\"ticks\":\"\"},\"colorscale\":[[0.0,\"#0d0887\"],[0.1111111111111111,\"#46039f\"],[0.2222222222222222,\"#7201a8\"],[0.3333333333333333,\"#9c179e\"],[0.4444444444444444,\"#bd3786\"],[0.5555555555555556,\"#d8576b\"],[0.6666666666666666,\"#ed7953\"],[0.7777777777777778,\"#fb9f3a\"],[0.8888888888888888,\"#fdca26\"],[1.0,\"#f0f921\"]]}],\"mesh3d\":[{\"type\":\"mesh3d\",\"colorbar\":{\"outlinewidth\":0,\"ticks\":\"\"}}],\"scatter\":[{\"fillpattern\":{\"fillmode\":\"overlay\",\"size\":10,\"solidity\":0.2},\"type\":\"scatter\"}],\"parcoords\":[{\"type\":\"parcoords\",\"line\":{\"colorbar\":{\"outlinewidth\":0,\"ticks\":\"\"}}}],\"scatterpolargl\":[{\"type\":\"scatterpolargl\",\"marker\":{\"colorbar\":{\"outlinewidth\":0,\"ticks\":\"\"}}}],\"bar\":[{\"error_x\":{\"color\":\"#2a3f5f\"},\"error_y\":{\"color\":\"#2a3f5f\"},\"marker\":{\"line\":{\"color\":\"#E5ECF6\",\"width\":0.5},\"pattern\":{\"fillmode\":\"overlay\",\"size\":10,\"solidity\":0.2}},\"type\":\"bar\"}],\"scattergeo\":[{\"type\":\"scattergeo\",\"marker\":{\"colorbar\":{\"outlinewidth\":0,\"ticks\":\"\"}}}],\"scatterpolar\":[{\"type\":\"scatterpolar\",\"marker\":{\"colorbar\":{\"outlinewidth\":0,\"ticks\":\"\"}}}],\"histogram\":[{\"marker\":{\"pattern\":{\"fillmode\":\"overlay\",\"size\":10,\"solidity\":0.2}},\"type\":\"histogram\"}],\"scattergl\":[{\"type\":\"scattergl\",\"marker\":{\"colorbar\":{\"outlinewidth\":0,\"ticks\":\"\"}}}],\"scatter3d\":[{\"type\":\"scatter3d\",\"line\":{\"colorbar\":{\"outlinewidth\":0,\"ticks\":\"\"}},\"marker\":{\"colorbar\":{\"outlinewidth\":0,\"ticks\":\"\"}}}],\"scattermapbox\":[{\"type\":\"scattermapbox\",\"marker\":{\"colorbar\":{\"outlinewidth\":0,\"ticks\":\"\"}}}],\"scatterternary\":[{\"type\":\"scatterternary\",\"marker\":{\"colorbar\":{\"outlinewidth\":0,\"ticks\":\"\"}}}],\"scattercarpet\":[{\"type\":\"scattercarpet\",\"marker\":{\"colorbar\":{\"outlinewidth\":0,\"ticks\":\"\"}}}],\"carpet\":[{\"aaxis\":{\"endlinecolor\":\"#2a3f5f\",\"gridcolor\":\"white\",\"linecolor\":\"white\",\"minorgridcolor\":\"white\",\"startlinecolor\":\"#2a3f5f\"},\"baxis\":{\"endlinecolor\":\"#2a3f5f\",\"gridcolor\":\"white\",\"linecolor\":\"white\",\"minorgridcolor\":\"white\",\"startlinecolor\":\"#2a3f5f\"},\"type\":\"carpet\"}],\"table\":[{\"cells\":{\"fill\":{\"color\":\"#EBF0F8\"},\"line\":{\"color\":\"white\"}},\"header\":{\"fill\":{\"color\":\"#C8D4E3\"},\"line\":{\"color\":\"white\"}},\"type\":\"table\"}],\"barpolar\":[{\"marker\":{\"line\":{\"color\":\"#E5ECF6\",\"width\":0.5},\"pattern\":{\"fillmode\":\"overlay\",\"size\":10,\"solidity\":0.2}},\"type\":\"barpolar\"}],\"pie\":[{\"automargin\":true,\"type\":\"pie\"}]},\"layout\":{\"autotypenumbers\":\"strict\",\"colorway\":[\"#636efa\",\"#EF553B\",\"#00cc96\",\"#ab63fa\",\"#FFA15A\",\"#19d3f3\",\"#FF6692\",\"#B6E880\",\"#FF97FF\",\"#FECB52\"],\"font\":{\"color\":\"#2a3f5f\"},\"hovermode\":\"closest\",\"hoverlabel\":{\"align\":\"left\"},\"paper_bgcolor\":\"white\",\"plot_bgcolor\":\"#E5ECF6\",\"polar\":{\"bgcolor\":\"#E5ECF6\",\"angularaxis\":{\"gridcolor\":\"white\",\"linecolor\":\"white\",\"ticks\":\"\"},\"radialaxis\":{\"gridcolor\":\"white\",\"linecolor\":\"white\",\"ticks\":\"\"}},\"ternary\":{\"bgcolor\":\"#E5ECF6\",\"aaxis\":{\"gridcolor\":\"white\",\"linecolor\":\"white\",\"ticks\":\"\"},\"baxis\":{\"gridcolor\":\"white\",\"linecolor\":\"white\",\"ticks\":\"\"},\"caxis\":{\"gridcolor\":\"white\",\"linecolor\":\"white\",\"ticks\":\"\"}},\"coloraxis\":{\"colorbar\":{\"outlinewidth\":0,\"ticks\":\"\"}},\"colorscale\":{\"sequential\":[[0.0,\"#0d0887\"],[0.1111111111111111,\"#46039f\"],[0.2222222222222222,\"#7201a8\"],[0.3333333333333333,\"#9c179e\"],[0.4444444444444444,\"#bd3786\"],[0.5555555555555556,\"#d8576b\"],[0.6666666666666666,\"#ed7953\"],[0.7777777777777778,\"#fb9f3a\"],[0.8888888888888888,\"#fdca26\"],[1.0,\"#f0f921\"]],\"sequentialminus\":[[0.0,\"#0d0887\"],[0.1111111111111111,\"#46039f\"],[0.2222222222222222,\"#7201a8\"],[0.3333333333333333,\"#9c179e\"],[0.4444444444444444,\"#bd3786\"],[0.5555555555555556,\"#d8576b\"],[0.6666666666666666,\"#ed7953\"],[0.7777777777777778,\"#fb9f3a\"],[0.8888888888888888,\"#fdca26\"],[1.0,\"#f0f921\"]],\"diverging\":[[0,\"#8e0152\"],[0.1,\"#c51b7d\"],[0.2,\"#de77ae\"],[0.3,\"#f1b6da\"],[0.4,\"#fde0ef\"],[0.5,\"#f7f7f7\"],[0.6,\"#e6f5d0\"],[0.7,\"#b8e186\"],[0.8,\"#7fbc41\"],[0.9,\"#4d9221\"],[1,\"#276419\"]]},\"xaxis\":{\"gridcolor\":\"white\",\"linecolor\":\"white\",\"ticks\":\"\",\"title\":{\"standoff\":15},\"zerolinecolor\":\"white\",\"automargin\":true,\"zerolinewidth\":2},\"yaxis\":{\"gridcolor\":\"white\",\"linecolor\":\"white\",\"ticks\":\"\",\"title\":{\"standoff\":15},\"zerolinecolor\":\"white\",\"automargin\":true,\"zerolinewidth\":2},\"scene\":{\"xaxis\":{\"backgroundcolor\":\"#E5ECF6\",\"gridcolor\":\"white\",\"linecolor\":\"white\",\"showbackground\":true,\"ticks\":\"\",\"zerolinecolor\":\"white\",\"gridwidth\":2},\"yaxis\":{\"backgroundcolor\":\"#E5ECF6\",\"gridcolor\":\"white\",\"linecolor\":\"white\",\"showbackground\":true,\"ticks\":\"\",\"zerolinecolor\":\"white\",\"gridwidth\":2},\"zaxis\":{\"backgroundcolor\":\"#E5ECF6\",\"gridcolor\":\"white\",\"linecolor\":\"white\",\"showbackground\":true,\"ticks\":\"\",\"zerolinecolor\":\"white\",\"gridwidth\":2}},\"shapedefaults\":{\"line\":{\"color\":\"#2a3f5f\"}},\"annotationdefaults\":{\"arrowcolor\":\"#2a3f5f\",\"arrowhead\":0,\"arrowwidth\":1},\"geo\":{\"bgcolor\":\"white\",\"landcolor\":\"#E5ECF6\",\"subunitcolor\":\"white\",\"showland\":true,\"showlakes\":true,\"lakecolor\":\"white\"},\"title\":{\"x\":0.05},\"mapbox\":{\"style\":\"light\"}}},\"xaxis\":{\"anchor\":\"y\",\"domain\":[0.0,1.0],\"title\":{\"text\":\"experience_level\"}},\"yaxis\":{\"anchor\":\"x\",\"domain\":[0.0,1.0],\"title\":{\"text\":\"salary\"}},\"legend\":{\"title\":{\"text\":\"stats\"},\"tracegroupgap\":0},\"title\":{\"text\":\"Salary Statistics Based on Experience\"},\"barmode\":\"group\"},                        {\"responsive\": true}                    ).then(function(){\n",
       "                            \n",
       "var gd = document.getElementById('13a31e5e-7493-4aa1-95fc-0a74cbb2b3bc');\n",
       "var x = new MutationObserver(function (mutations, observer) {{\n",
       "        var display = window.getComputedStyle(gd).display;\n",
       "        if (!display || display === 'none') {{\n",
       "            console.log([gd, 'removed!']);\n",
       "            Plotly.purge(gd);\n",
       "            observer.disconnect();\n",
       "        }}\n",
       "}});\n",
       "\n",
       "// Listen for the removal of the full notebook cells\n",
       "var notebookContainer = gd.closest('#notebook-container');\n",
       "if (notebookContainer) {{\n",
       "    x.observe(notebookContainer, {childList: true});\n",
       "}}\n",
       "\n",
       "// Listen for the clearing of the current output cell\n",
       "var outputEl = gd.closest('.output');\n",
       "if (outputEl) {{\n",
       "    x.observe(outputEl, {childList: true});\n",
       "}}\n",
       "\n",
       "                        })                };                });            </script>        </div>"
      ]
     },
     "metadata": {},
     "output_type": "display_data"
    }
   ],
   "source": [
    "#plot for experience and salary\n",
    "px.bar(melt_exp_sal, x=\"experience_level\", y=\"salary\",\n",
    "       color=\"stats\", color_discrete_sequence=px.colors.sequential.deep,\n",
    "       barmode=\"group\",\n",
    "       title=\"Salary Statistics Based on Experience\",\n",
    "       text=\"salary\")\n",
    "       "
   ]
  },
  {
   "cell_type": "code",
   "execution_count": 12,
   "id": "4637aedb",
   "metadata": {
    "execution": {
     "iopub.execute_input": "2024-01-11T04:48:56.270399Z",
     "iopub.status.busy": "2024-01-11T04:48:56.269964Z",
     "iopub.status.idle": "2024-01-11T04:48:56.442981Z",
     "shell.execute_reply": "2024-01-11T04:48:56.442051Z"
    },
    "papermill": {
     "duration": 0.197807,
     "end_time": "2024-01-11T04:48:56.445806",
     "exception": false,
     "start_time": "2024-01-11T04:48:56.247999",
     "status": "completed"
    },
    "tags": []
   },
   "outputs": [
    {
     "data": {
      "text/html": [
       "<div>                            <div id=\"ef81a833-49f0-4fb1-b779-9cd18756d23c\" class=\"plotly-graph-div\" style=\"height:525px; width:100%;\"></div>            <script type=\"text/javascript\">                require([\"plotly\"], function(Plotly) {                    window.PLOTLYENV=window.PLOTLYENV || {};                                    if (document.getElementById(\"ef81a833-49f0-4fb1-b779-9cd18756d23c\")) {                    Plotly.newPlot(                        \"ef81a833-49f0-4fb1-b779-9cd18756d23c\",                        [{\"branchvalues\":\"total\",\"customdata\":[[5132.0],[5409.0],[8000.0],[15000.0],[52225.42],[54387.69],[56896.26],[70661.93],[78546.28],[104525.94],[153051.07],[194930.93],[300000.0],[416000.0],[423834.0],[450000.0],[300000.0],[416000.0],[450000.0],[423834.0],[78546.28],[194930.93],[104525.94],[153051.07],[5409.0],[15000.0],[5132.0],[8000.0],[52225.42],[70661.93],[54387.69],[56896.26],[109045.175],[174148.215],[153511.4075],[160445.33250000002]],\"domain\":{\"x\":[0.0,1.0],\"y\":[0.0,1.0]},\"hovertemplate\":\"labels=%{label}\\u003cbr\\u003ecount=%{value}\\u003cbr\\u003eparent=%{parent}\\u003cbr\\u003eid=%{id}\\u003cbr\\u003esalary=%{color}\\u003cextra\\u003e\\u003c\\u002fextra\\u003e\",\"ids\":[\"MI\\u002fmin\\u002f5132.0\",\"EN\\u002fmin\\u002f5409.0\",\"SE\\u002fmin\\u002f8000.0\",\"EX\\u002fmin\\u002f15000.0\",\"EN\\u002fstd\\u002f52225.42\",\"MI\\u002fstd\\u002f54387.69\",\"SE\\u002fstd\\u002f56896.26\",\"EX\\u002fstd\\u002f70661.93\",\"EN\\u002fmean\\u002f78546.28\",\"MI\\u002fmean\\u002f104525.94\",\"SE\\u002fmean\\u002f153051.07\",\"EX\\u002fmean\\u002f194930.93\",\"EN\\u002fmax\\u002f300000.0\",\"EX\\u002fmax\\u002f416000.0\",\"SE\\u002fmax\\u002f423834.0\",\"MI\\u002fmax\\u002f450000.0\",\"EN\\u002fmax\",\"EX\\u002fmax\",\"MI\\u002fmax\",\"SE\\u002fmax\",\"EN\\u002fmean\",\"EX\\u002fmean\",\"MI\\u002fmean\",\"SE\\u002fmean\",\"EN\\u002fmin\",\"EX\\u002fmin\",\"MI\\u002fmin\",\"SE\\u002fmin\",\"EN\\u002fstd\",\"EX\\u002fstd\",\"MI\\u002fstd\",\"SE\\u002fstd\",\"EN\",\"EX\",\"MI\",\"SE\"],\"labels\":[\"5132.0\",\"5409.0\",\"8000.0\",\"15000.0\",\"52225.42\",\"54387.69\",\"56896.26\",\"70661.93\",\"78546.28\",\"104525.94\",\"153051.07\",\"194930.93\",\"300000.0\",\"416000.0\",\"423834.0\",\"450000.0\",\"max\",\"max\",\"max\",\"max\",\"mean\",\"mean\",\"mean\",\"mean\",\"min\",\"min\",\"min\",\"min\",\"std\",\"std\",\"std\",\"std\",\"EN\",\"EX\",\"MI\",\"SE\"],\"marker\":{\"coloraxis\":\"coloraxis\",\"colors\":[5132.0,5409.0,8000.0,15000.0,52225.42,54387.69,56896.26,70661.93,78546.28,104525.94,153051.07,194930.93,300000.0,416000.0,423834.0,450000.0,300000.0,416000.0,450000.0,423834.0,78546.28,194930.93,104525.94,153051.07,5409.0,15000.0,5132.0,8000.0,52225.42,70661.93,54387.69,56896.26,109045.175,174148.215,153511.4075,160445.33250000002]},\"name\":\"\",\"parents\":[\"MI\\u002fmin\",\"EN\\u002fmin\",\"SE\\u002fmin\",\"EX\\u002fmin\",\"EN\\u002fstd\",\"MI\\u002fstd\",\"SE\\u002fstd\",\"EX\\u002fstd\",\"EN\\u002fmean\",\"MI\\u002fmean\",\"SE\\u002fmean\",\"EX\\u002fmean\",\"EN\\u002fmax\",\"EX\\u002fmax\",\"SE\\u002fmax\",\"MI\\u002fmax\",\"EN\",\"EX\",\"MI\",\"SE\",\"EN\",\"EX\",\"MI\",\"SE\",\"EN\",\"EX\",\"MI\",\"SE\",\"EN\",\"EX\",\"MI\",\"SE\",\"\",\"\",\"\",\"\"],\"values\":[1,1,1,1,1,1,1,1,1,1,1,1,1,1,1,1,1,1,1,1,1,1,1,1,1,1,1,1,1,1,1,1,4,4,4,4],\"type\":\"sunburst\"}],                        {\"template\":{\"data\":{\"histogram2dcontour\":[{\"type\":\"histogram2dcontour\",\"colorbar\":{\"outlinewidth\":0,\"ticks\":\"\"},\"colorscale\":[[0.0,\"#0d0887\"],[0.1111111111111111,\"#46039f\"],[0.2222222222222222,\"#7201a8\"],[0.3333333333333333,\"#9c179e\"],[0.4444444444444444,\"#bd3786\"],[0.5555555555555556,\"#d8576b\"],[0.6666666666666666,\"#ed7953\"],[0.7777777777777778,\"#fb9f3a\"],[0.8888888888888888,\"#fdca26\"],[1.0,\"#f0f921\"]]}],\"choropleth\":[{\"type\":\"choropleth\",\"colorbar\":{\"outlinewidth\":0,\"ticks\":\"\"}}],\"histogram2d\":[{\"type\":\"histogram2d\",\"colorbar\":{\"outlinewidth\":0,\"ticks\":\"\"},\"colorscale\":[[0.0,\"#0d0887\"],[0.1111111111111111,\"#46039f\"],[0.2222222222222222,\"#7201a8\"],[0.3333333333333333,\"#9c179e\"],[0.4444444444444444,\"#bd3786\"],[0.5555555555555556,\"#d8576b\"],[0.6666666666666666,\"#ed7953\"],[0.7777777777777778,\"#fb9f3a\"],[0.8888888888888888,\"#fdca26\"],[1.0,\"#f0f921\"]]}],\"heatmap\":[{\"type\":\"heatmap\",\"colorbar\":{\"outlinewidth\":0,\"ticks\":\"\"},\"colorscale\":[[0.0,\"#0d0887\"],[0.1111111111111111,\"#46039f\"],[0.2222222222222222,\"#7201a8\"],[0.3333333333333333,\"#9c179e\"],[0.4444444444444444,\"#bd3786\"],[0.5555555555555556,\"#d8576b\"],[0.6666666666666666,\"#ed7953\"],[0.7777777777777778,\"#fb9f3a\"],[0.8888888888888888,\"#fdca26\"],[1.0,\"#f0f921\"]]}],\"heatmapgl\":[{\"type\":\"heatmapgl\",\"colorbar\":{\"outlinewidth\":0,\"ticks\":\"\"},\"colorscale\":[[0.0,\"#0d0887\"],[0.1111111111111111,\"#46039f\"],[0.2222222222222222,\"#7201a8\"],[0.3333333333333333,\"#9c179e\"],[0.4444444444444444,\"#bd3786\"],[0.5555555555555556,\"#d8576b\"],[0.6666666666666666,\"#ed7953\"],[0.7777777777777778,\"#fb9f3a\"],[0.8888888888888888,\"#fdca26\"],[1.0,\"#f0f921\"]]}],\"contourcarpet\":[{\"type\":\"contourcarpet\",\"colorbar\":{\"outlinewidth\":0,\"ticks\":\"\"}}],\"contour\":[{\"type\":\"contour\",\"colorbar\":{\"outlinewidth\":0,\"ticks\":\"\"},\"colorscale\":[[0.0,\"#0d0887\"],[0.1111111111111111,\"#46039f\"],[0.2222222222222222,\"#7201a8\"],[0.3333333333333333,\"#9c179e\"],[0.4444444444444444,\"#bd3786\"],[0.5555555555555556,\"#d8576b\"],[0.6666666666666666,\"#ed7953\"],[0.7777777777777778,\"#fb9f3a\"],[0.8888888888888888,\"#fdca26\"],[1.0,\"#f0f921\"]]}],\"surface\":[{\"type\":\"surface\",\"colorbar\":{\"outlinewidth\":0,\"ticks\":\"\"},\"colorscale\":[[0.0,\"#0d0887\"],[0.1111111111111111,\"#46039f\"],[0.2222222222222222,\"#7201a8\"],[0.3333333333333333,\"#9c179e\"],[0.4444444444444444,\"#bd3786\"],[0.5555555555555556,\"#d8576b\"],[0.6666666666666666,\"#ed7953\"],[0.7777777777777778,\"#fb9f3a\"],[0.8888888888888888,\"#fdca26\"],[1.0,\"#f0f921\"]]}],\"mesh3d\":[{\"type\":\"mesh3d\",\"colorbar\":{\"outlinewidth\":0,\"ticks\":\"\"}}],\"scatter\":[{\"fillpattern\":{\"fillmode\":\"overlay\",\"size\":10,\"solidity\":0.2},\"type\":\"scatter\"}],\"parcoords\":[{\"type\":\"parcoords\",\"line\":{\"colorbar\":{\"outlinewidth\":0,\"ticks\":\"\"}}}],\"scatterpolargl\":[{\"type\":\"scatterpolargl\",\"marker\":{\"colorbar\":{\"outlinewidth\":0,\"ticks\":\"\"}}}],\"bar\":[{\"error_x\":{\"color\":\"#2a3f5f\"},\"error_y\":{\"color\":\"#2a3f5f\"},\"marker\":{\"line\":{\"color\":\"#E5ECF6\",\"width\":0.5},\"pattern\":{\"fillmode\":\"overlay\",\"size\":10,\"solidity\":0.2}},\"type\":\"bar\"}],\"scattergeo\":[{\"type\":\"scattergeo\",\"marker\":{\"colorbar\":{\"outlinewidth\":0,\"ticks\":\"\"}}}],\"scatterpolar\":[{\"type\":\"scatterpolar\",\"marker\":{\"colorbar\":{\"outlinewidth\":0,\"ticks\":\"\"}}}],\"histogram\":[{\"marker\":{\"pattern\":{\"fillmode\":\"overlay\",\"size\":10,\"solidity\":0.2}},\"type\":\"histogram\"}],\"scattergl\":[{\"type\":\"scattergl\",\"marker\":{\"colorbar\":{\"outlinewidth\":0,\"ticks\":\"\"}}}],\"scatter3d\":[{\"type\":\"scatter3d\",\"line\":{\"colorbar\":{\"outlinewidth\":0,\"ticks\":\"\"}},\"marker\":{\"colorbar\":{\"outlinewidth\":0,\"ticks\":\"\"}}}],\"scattermapbox\":[{\"type\":\"scattermapbox\",\"marker\":{\"colorbar\":{\"outlinewidth\":0,\"ticks\":\"\"}}}],\"scatterternary\":[{\"type\":\"scatterternary\",\"marker\":{\"colorbar\":{\"outlinewidth\":0,\"ticks\":\"\"}}}],\"scattercarpet\":[{\"type\":\"scattercarpet\",\"marker\":{\"colorbar\":{\"outlinewidth\":0,\"ticks\":\"\"}}}],\"carpet\":[{\"aaxis\":{\"endlinecolor\":\"#2a3f5f\",\"gridcolor\":\"white\",\"linecolor\":\"white\",\"minorgridcolor\":\"white\",\"startlinecolor\":\"#2a3f5f\"},\"baxis\":{\"endlinecolor\":\"#2a3f5f\",\"gridcolor\":\"white\",\"linecolor\":\"white\",\"minorgridcolor\":\"white\",\"startlinecolor\":\"#2a3f5f\"},\"type\":\"carpet\"}],\"table\":[{\"cells\":{\"fill\":{\"color\":\"#EBF0F8\"},\"line\":{\"color\":\"white\"}},\"header\":{\"fill\":{\"color\":\"#C8D4E3\"},\"line\":{\"color\":\"white\"}},\"type\":\"table\"}],\"barpolar\":[{\"marker\":{\"line\":{\"color\":\"#E5ECF6\",\"width\":0.5},\"pattern\":{\"fillmode\":\"overlay\",\"size\":10,\"solidity\":0.2}},\"type\":\"barpolar\"}],\"pie\":[{\"automargin\":true,\"type\":\"pie\"}]},\"layout\":{\"autotypenumbers\":\"strict\",\"colorway\":[\"#636efa\",\"#EF553B\",\"#00cc96\",\"#ab63fa\",\"#FFA15A\",\"#19d3f3\",\"#FF6692\",\"#B6E880\",\"#FF97FF\",\"#FECB52\"],\"font\":{\"color\":\"#2a3f5f\"},\"hovermode\":\"closest\",\"hoverlabel\":{\"align\":\"left\"},\"paper_bgcolor\":\"white\",\"plot_bgcolor\":\"#E5ECF6\",\"polar\":{\"bgcolor\":\"#E5ECF6\",\"angularaxis\":{\"gridcolor\":\"white\",\"linecolor\":\"white\",\"ticks\":\"\"},\"radialaxis\":{\"gridcolor\":\"white\",\"linecolor\":\"white\",\"ticks\":\"\"}},\"ternary\":{\"bgcolor\":\"#E5ECF6\",\"aaxis\":{\"gridcolor\":\"white\",\"linecolor\":\"white\",\"ticks\":\"\"},\"baxis\":{\"gridcolor\":\"white\",\"linecolor\":\"white\",\"ticks\":\"\"},\"caxis\":{\"gridcolor\":\"white\",\"linecolor\":\"white\",\"ticks\":\"\"}},\"coloraxis\":{\"colorbar\":{\"outlinewidth\":0,\"ticks\":\"\"}},\"colorscale\":{\"sequential\":[[0.0,\"#0d0887\"],[0.1111111111111111,\"#46039f\"],[0.2222222222222222,\"#7201a8\"],[0.3333333333333333,\"#9c179e\"],[0.4444444444444444,\"#bd3786\"],[0.5555555555555556,\"#d8576b\"],[0.6666666666666666,\"#ed7953\"],[0.7777777777777778,\"#fb9f3a\"],[0.8888888888888888,\"#fdca26\"],[1.0,\"#f0f921\"]],\"sequentialminus\":[[0.0,\"#0d0887\"],[0.1111111111111111,\"#46039f\"],[0.2222222222222222,\"#7201a8\"],[0.3333333333333333,\"#9c179e\"],[0.4444444444444444,\"#bd3786\"],[0.5555555555555556,\"#d8576b\"],[0.6666666666666666,\"#ed7953\"],[0.7777777777777778,\"#fb9f3a\"],[0.8888888888888888,\"#fdca26\"],[1.0,\"#f0f921\"]],\"diverging\":[[0,\"#8e0152\"],[0.1,\"#c51b7d\"],[0.2,\"#de77ae\"],[0.3,\"#f1b6da\"],[0.4,\"#fde0ef\"],[0.5,\"#f7f7f7\"],[0.6,\"#e6f5d0\"],[0.7,\"#b8e186\"],[0.8,\"#7fbc41\"],[0.9,\"#4d9221\"],[1,\"#276419\"]]},\"xaxis\":{\"gridcolor\":\"white\",\"linecolor\":\"white\",\"ticks\":\"\",\"title\":{\"standoff\":15},\"zerolinecolor\":\"white\",\"automargin\":true,\"zerolinewidth\":2},\"yaxis\":{\"gridcolor\":\"white\",\"linecolor\":\"white\",\"ticks\":\"\",\"title\":{\"standoff\":15},\"zerolinecolor\":\"white\",\"automargin\":true,\"zerolinewidth\":2},\"scene\":{\"xaxis\":{\"backgroundcolor\":\"#E5ECF6\",\"gridcolor\":\"white\",\"linecolor\":\"white\",\"showbackground\":true,\"ticks\":\"\",\"zerolinecolor\":\"white\",\"gridwidth\":2},\"yaxis\":{\"backgroundcolor\":\"#E5ECF6\",\"gridcolor\":\"white\",\"linecolor\":\"white\",\"showbackground\":true,\"ticks\":\"\",\"zerolinecolor\":\"white\",\"gridwidth\":2},\"zaxis\":{\"backgroundcolor\":\"#E5ECF6\",\"gridcolor\":\"white\",\"linecolor\":\"white\",\"showbackground\":true,\"ticks\":\"\",\"zerolinecolor\":\"white\",\"gridwidth\":2}},\"shapedefaults\":{\"line\":{\"color\":\"#2a3f5f\"}},\"annotationdefaults\":{\"arrowcolor\":\"#2a3f5f\",\"arrowhead\":0,\"arrowwidth\":1},\"geo\":{\"bgcolor\":\"white\",\"landcolor\":\"#E5ECF6\",\"subunitcolor\":\"white\",\"showland\":true,\"showlakes\":true,\"lakecolor\":\"white\"},\"title\":{\"x\":0.05},\"mapbox\":{\"style\":\"light\"}}},\"coloraxis\":{\"colorbar\":{\"title\":{\"text\":\"salary\"}},\"colorscale\":[[0.0,\"rgb(236, 218, 154)\"],[0.16666666666666666,\"rgb(239, 196, 126)\"],[0.3333333333333333,\"rgb(243, 173, 106)\"],[0.5,\"rgb(247, 148, 93)\"],[0.6666666666666666,\"rgb(249, 123, 87)\"],[0.8333333333333334,\"rgb(246, 99, 86)\"],[1.0,\"rgb(238, 77, 90)\"]]},\"legend\":{\"tracegroupgap\":0},\"title\":{\"text\":\"Sunburst Plot For Experience and Salary\"}},                        {\"responsive\": true}                    ).then(function(){\n",
       "                            \n",
       "var gd = document.getElementById('ef81a833-49f0-4fb1-b779-9cd18756d23c');\n",
       "var x = new MutationObserver(function (mutations, observer) {{\n",
       "        var display = window.getComputedStyle(gd).display;\n",
       "        if (!display || display === 'none') {{\n",
       "            console.log([gd, 'removed!']);\n",
       "            Plotly.purge(gd);\n",
       "            observer.disconnect();\n",
       "        }}\n",
       "}});\n",
       "\n",
       "// Listen for the removal of the full notebook cells\n",
       "var notebookContainer = gd.closest('#notebook-container');\n",
       "if (notebookContainer) {{\n",
       "    x.observe(notebookContainer, {childList: true});\n",
       "}}\n",
       "\n",
       "// Listen for the clearing of the current output cell\n",
       "var outputEl = gd.closest('.output');\n",
       "if (outputEl) {{\n",
       "    x.observe(outputEl, {childList: true});\n",
       "}}\n",
       "\n",
       "                        })                };                });            </script>        </div>"
      ]
     },
     "metadata": {},
     "output_type": "display_data"
    }
   ],
   "source": [
    "#sunburst for experience and salary stats\n",
    "px.sunburst(melt_exp_sal, names=\"experience_level\",\n",
    "            path=[\"experience_level\", \"stats\", \"salary\"],\n",
    "           color=\"salary\", color_continuous_scale=\"oryel\",\n",
    "           title=\"Sunburst Plot For Experience and Salary\")"
   ]
  },
  {
   "cell_type": "code",
   "execution_count": 13,
   "id": "15e3d41f",
   "metadata": {
    "execution": {
     "iopub.execute_input": "2024-01-11T04:48:56.490308Z",
     "iopub.status.busy": "2024-01-11T04:48:56.489512Z",
     "iopub.status.idle": "2024-01-11T04:48:56.567339Z",
     "shell.execute_reply": "2024-01-11T04:48:56.566198Z"
    },
    "papermill": {
     "duration": 0.103316,
     "end_time": "2024-01-11T04:48:56.569699",
     "exception": false,
     "start_time": "2024-01-11T04:48:56.466383",
     "status": "completed"
    },
    "tags": []
   },
   "outputs": [
    {
     "data": {
      "text/html": [
       "<div>                            <div id=\"4c36cefa-db96-4fa9-8602-25098865e9ff\" class=\"plotly-graph-div\" style=\"height:525px; width:100%;\"></div>            <script type=\"text/javascript\">                require([\"plotly\"], function(Plotly) {                    window.PLOTLYENV=window.PLOTLYENV || {};                                    if (document.getElementById(\"4c36cefa-db96-4fa9-8602-25098865e9ff\")) {                    Plotly.newPlot(                        \"4c36cefa-db96-4fa9-8602-25098865e9ff\",                        [{\"alignmentgroup\":\"True\",\"hovertemplate\":\"experience_level=%{x}\\u003cbr\\u003esum_of_salary=%{marker.color}\\u003cextra\\u003e\\u003c\\u002fextra\\u003e\",\"legendgroup\":\"\",\"marker\":{\"color\":[25134811,22222126,84143381,385076496],\"coloraxis\":\"coloraxis\",\"pattern\":{\"shape\":\"\"}},\"name\":\"\",\"offsetgroup\":\"\",\"orientation\":\"v\",\"showlegend\":false,\"text\":[25134811.0,22222126.0,84143381.0,385076496.0],\"textposition\":\"auto\",\"x\":[\"EN\",\"EX\",\"MI\",\"SE\"],\"xaxis\":\"x\",\"y\":[25134811,22222126,84143381,385076496],\"yaxis\":\"y\",\"type\":\"bar\"}],                        {\"template\":{\"data\":{\"histogram2dcontour\":[{\"type\":\"histogram2dcontour\",\"colorbar\":{\"outlinewidth\":0,\"ticks\":\"\"},\"colorscale\":[[0.0,\"#0d0887\"],[0.1111111111111111,\"#46039f\"],[0.2222222222222222,\"#7201a8\"],[0.3333333333333333,\"#9c179e\"],[0.4444444444444444,\"#bd3786\"],[0.5555555555555556,\"#d8576b\"],[0.6666666666666666,\"#ed7953\"],[0.7777777777777778,\"#fb9f3a\"],[0.8888888888888888,\"#fdca26\"],[1.0,\"#f0f921\"]]}],\"choropleth\":[{\"type\":\"choropleth\",\"colorbar\":{\"outlinewidth\":0,\"ticks\":\"\"}}],\"histogram2d\":[{\"type\":\"histogram2d\",\"colorbar\":{\"outlinewidth\":0,\"ticks\":\"\"},\"colorscale\":[[0.0,\"#0d0887\"],[0.1111111111111111,\"#46039f\"],[0.2222222222222222,\"#7201a8\"],[0.3333333333333333,\"#9c179e\"],[0.4444444444444444,\"#bd3786\"],[0.5555555555555556,\"#d8576b\"],[0.6666666666666666,\"#ed7953\"],[0.7777777777777778,\"#fb9f3a\"],[0.8888888888888888,\"#fdca26\"],[1.0,\"#f0f921\"]]}],\"heatmap\":[{\"type\":\"heatmap\",\"colorbar\":{\"outlinewidth\":0,\"ticks\":\"\"},\"colorscale\":[[0.0,\"#0d0887\"],[0.1111111111111111,\"#46039f\"],[0.2222222222222222,\"#7201a8\"],[0.3333333333333333,\"#9c179e\"],[0.4444444444444444,\"#bd3786\"],[0.5555555555555556,\"#d8576b\"],[0.6666666666666666,\"#ed7953\"],[0.7777777777777778,\"#fb9f3a\"],[0.8888888888888888,\"#fdca26\"],[1.0,\"#f0f921\"]]}],\"heatmapgl\":[{\"type\":\"heatmapgl\",\"colorbar\":{\"outlinewidth\":0,\"ticks\":\"\"},\"colorscale\":[[0.0,\"#0d0887\"],[0.1111111111111111,\"#46039f\"],[0.2222222222222222,\"#7201a8\"],[0.3333333333333333,\"#9c179e\"],[0.4444444444444444,\"#bd3786\"],[0.5555555555555556,\"#d8576b\"],[0.6666666666666666,\"#ed7953\"],[0.7777777777777778,\"#fb9f3a\"],[0.8888888888888888,\"#fdca26\"],[1.0,\"#f0f921\"]]}],\"contourcarpet\":[{\"type\":\"contourcarpet\",\"colorbar\":{\"outlinewidth\":0,\"ticks\":\"\"}}],\"contour\":[{\"type\":\"contour\",\"colorbar\":{\"outlinewidth\":0,\"ticks\":\"\"},\"colorscale\":[[0.0,\"#0d0887\"],[0.1111111111111111,\"#46039f\"],[0.2222222222222222,\"#7201a8\"],[0.3333333333333333,\"#9c179e\"],[0.4444444444444444,\"#bd3786\"],[0.5555555555555556,\"#d8576b\"],[0.6666666666666666,\"#ed7953\"],[0.7777777777777778,\"#fb9f3a\"],[0.8888888888888888,\"#fdca26\"],[1.0,\"#f0f921\"]]}],\"surface\":[{\"type\":\"surface\",\"colorbar\":{\"outlinewidth\":0,\"ticks\":\"\"},\"colorscale\":[[0.0,\"#0d0887\"],[0.1111111111111111,\"#46039f\"],[0.2222222222222222,\"#7201a8\"],[0.3333333333333333,\"#9c179e\"],[0.4444444444444444,\"#bd3786\"],[0.5555555555555556,\"#d8576b\"],[0.6666666666666666,\"#ed7953\"],[0.7777777777777778,\"#fb9f3a\"],[0.8888888888888888,\"#fdca26\"],[1.0,\"#f0f921\"]]}],\"mesh3d\":[{\"type\":\"mesh3d\",\"colorbar\":{\"outlinewidth\":0,\"ticks\":\"\"}}],\"scatter\":[{\"fillpattern\":{\"fillmode\":\"overlay\",\"size\":10,\"solidity\":0.2},\"type\":\"scatter\"}],\"parcoords\":[{\"type\":\"parcoords\",\"line\":{\"colorbar\":{\"outlinewidth\":0,\"ticks\":\"\"}}}],\"scatterpolargl\":[{\"type\":\"scatterpolargl\",\"marker\":{\"colorbar\":{\"outlinewidth\":0,\"ticks\":\"\"}}}],\"bar\":[{\"error_x\":{\"color\":\"#2a3f5f\"},\"error_y\":{\"color\":\"#2a3f5f\"},\"marker\":{\"line\":{\"color\":\"#E5ECF6\",\"width\":0.5},\"pattern\":{\"fillmode\":\"overlay\",\"size\":10,\"solidity\":0.2}},\"type\":\"bar\"}],\"scattergeo\":[{\"type\":\"scattergeo\",\"marker\":{\"colorbar\":{\"outlinewidth\":0,\"ticks\":\"\"}}}],\"scatterpolar\":[{\"type\":\"scatterpolar\",\"marker\":{\"colorbar\":{\"outlinewidth\":0,\"ticks\":\"\"}}}],\"histogram\":[{\"marker\":{\"pattern\":{\"fillmode\":\"overlay\",\"size\":10,\"solidity\":0.2}},\"type\":\"histogram\"}],\"scattergl\":[{\"type\":\"scattergl\",\"marker\":{\"colorbar\":{\"outlinewidth\":0,\"ticks\":\"\"}}}],\"scatter3d\":[{\"type\":\"scatter3d\",\"line\":{\"colorbar\":{\"outlinewidth\":0,\"ticks\":\"\"}},\"marker\":{\"colorbar\":{\"outlinewidth\":0,\"ticks\":\"\"}}}],\"scattermapbox\":[{\"type\":\"scattermapbox\",\"marker\":{\"colorbar\":{\"outlinewidth\":0,\"ticks\":\"\"}}}],\"scatterternary\":[{\"type\":\"scatterternary\",\"marker\":{\"colorbar\":{\"outlinewidth\":0,\"ticks\":\"\"}}}],\"scattercarpet\":[{\"type\":\"scattercarpet\",\"marker\":{\"colorbar\":{\"outlinewidth\":0,\"ticks\":\"\"}}}],\"carpet\":[{\"aaxis\":{\"endlinecolor\":\"#2a3f5f\",\"gridcolor\":\"white\",\"linecolor\":\"white\",\"minorgridcolor\":\"white\",\"startlinecolor\":\"#2a3f5f\"},\"baxis\":{\"endlinecolor\":\"#2a3f5f\",\"gridcolor\":\"white\",\"linecolor\":\"white\",\"minorgridcolor\":\"white\",\"startlinecolor\":\"#2a3f5f\"},\"type\":\"carpet\"}],\"table\":[{\"cells\":{\"fill\":{\"color\":\"#EBF0F8\"},\"line\":{\"color\":\"white\"}},\"header\":{\"fill\":{\"color\":\"#C8D4E3\"},\"line\":{\"color\":\"white\"}},\"type\":\"table\"}],\"barpolar\":[{\"marker\":{\"line\":{\"color\":\"#E5ECF6\",\"width\":0.5},\"pattern\":{\"fillmode\":\"overlay\",\"size\":10,\"solidity\":0.2}},\"type\":\"barpolar\"}],\"pie\":[{\"automargin\":true,\"type\":\"pie\"}]},\"layout\":{\"autotypenumbers\":\"strict\",\"colorway\":[\"#636efa\",\"#EF553B\",\"#00cc96\",\"#ab63fa\",\"#FFA15A\",\"#19d3f3\",\"#FF6692\",\"#B6E880\",\"#FF97FF\",\"#FECB52\"],\"font\":{\"color\":\"#2a3f5f\"},\"hovermode\":\"closest\",\"hoverlabel\":{\"align\":\"left\"},\"paper_bgcolor\":\"white\",\"plot_bgcolor\":\"#E5ECF6\",\"polar\":{\"bgcolor\":\"#E5ECF6\",\"angularaxis\":{\"gridcolor\":\"white\",\"linecolor\":\"white\",\"ticks\":\"\"},\"radialaxis\":{\"gridcolor\":\"white\",\"linecolor\":\"white\",\"ticks\":\"\"}},\"ternary\":{\"bgcolor\":\"#E5ECF6\",\"aaxis\":{\"gridcolor\":\"white\",\"linecolor\":\"white\",\"ticks\":\"\"},\"baxis\":{\"gridcolor\":\"white\",\"linecolor\":\"white\",\"ticks\":\"\"},\"caxis\":{\"gridcolor\":\"white\",\"linecolor\":\"white\",\"ticks\":\"\"}},\"coloraxis\":{\"colorbar\":{\"outlinewidth\":0,\"ticks\":\"\"}},\"colorscale\":{\"sequential\":[[0.0,\"#0d0887\"],[0.1111111111111111,\"#46039f\"],[0.2222222222222222,\"#7201a8\"],[0.3333333333333333,\"#9c179e\"],[0.4444444444444444,\"#bd3786\"],[0.5555555555555556,\"#d8576b\"],[0.6666666666666666,\"#ed7953\"],[0.7777777777777778,\"#fb9f3a\"],[0.8888888888888888,\"#fdca26\"],[1.0,\"#f0f921\"]],\"sequentialminus\":[[0.0,\"#0d0887\"],[0.1111111111111111,\"#46039f\"],[0.2222222222222222,\"#7201a8\"],[0.3333333333333333,\"#9c179e\"],[0.4444444444444444,\"#bd3786\"],[0.5555555555555556,\"#d8576b\"],[0.6666666666666666,\"#ed7953\"],[0.7777777777777778,\"#fb9f3a\"],[0.8888888888888888,\"#fdca26\"],[1.0,\"#f0f921\"]],\"diverging\":[[0,\"#8e0152\"],[0.1,\"#c51b7d\"],[0.2,\"#de77ae\"],[0.3,\"#f1b6da\"],[0.4,\"#fde0ef\"],[0.5,\"#f7f7f7\"],[0.6,\"#e6f5d0\"],[0.7,\"#b8e186\"],[0.8,\"#7fbc41\"],[0.9,\"#4d9221\"],[1,\"#276419\"]]},\"xaxis\":{\"gridcolor\":\"white\",\"linecolor\":\"white\",\"ticks\":\"\",\"title\":{\"standoff\":15},\"zerolinecolor\":\"white\",\"automargin\":true,\"zerolinewidth\":2},\"yaxis\":{\"gridcolor\":\"white\",\"linecolor\":\"white\",\"ticks\":\"\",\"title\":{\"standoff\":15},\"zerolinecolor\":\"white\",\"automargin\":true,\"zerolinewidth\":2},\"scene\":{\"xaxis\":{\"backgroundcolor\":\"#E5ECF6\",\"gridcolor\":\"white\",\"linecolor\":\"white\",\"showbackground\":true,\"ticks\":\"\",\"zerolinecolor\":\"white\",\"gridwidth\":2},\"yaxis\":{\"backgroundcolor\":\"#E5ECF6\",\"gridcolor\":\"white\",\"linecolor\":\"white\",\"showbackground\":true,\"ticks\":\"\",\"zerolinecolor\":\"white\",\"gridwidth\":2},\"zaxis\":{\"backgroundcolor\":\"#E5ECF6\",\"gridcolor\":\"white\",\"linecolor\":\"white\",\"showbackground\":true,\"ticks\":\"\",\"zerolinecolor\":\"white\",\"gridwidth\":2}},\"shapedefaults\":{\"line\":{\"color\":\"#2a3f5f\"}},\"annotationdefaults\":{\"arrowcolor\":\"#2a3f5f\",\"arrowhead\":0,\"arrowwidth\":1},\"geo\":{\"bgcolor\":\"white\",\"landcolor\":\"#E5ECF6\",\"subunitcolor\":\"white\",\"showland\":true,\"showlakes\":true,\"lakecolor\":\"white\"},\"title\":{\"x\":0.05},\"mapbox\":{\"style\":\"light\"}}},\"xaxis\":{\"anchor\":\"y\",\"domain\":[0.0,1.0],\"title\":{\"text\":\"experience_level\"}},\"yaxis\":{\"anchor\":\"x\",\"domain\":[0.0,1.0],\"title\":{\"text\":\"sum_of_salary\"}},\"coloraxis\":{\"colorbar\":{\"title\":{\"text\":\"sum_of_salary\"}},\"colorscale\":[[0.0,\"rgb(236, 218, 154)\"],[0.16666666666666666,\"rgb(239, 196, 126)\"],[0.3333333333333333,\"rgb(243, 173, 106)\"],[0.5,\"rgb(247, 148, 93)\"],[0.6666666666666666,\"rgb(249, 123, 87)\"],[0.8333333333333334,\"rgb(246, 99, 86)\"],[1.0,\"rgb(238, 77, 90)\"]]},\"legend\":{\"tracegroupgap\":0},\"title\":{\"text\":\"Sum of Salary Based on Experience Level\"},\"barmode\":\"relative\"},                        {\"responsive\": true}                    ).then(function(){\n",
       "                            \n",
       "var gd = document.getElementById('4c36cefa-db96-4fa9-8602-25098865e9ff');\n",
       "var x = new MutationObserver(function (mutations, observer) {{\n",
       "        var display = window.getComputedStyle(gd).display;\n",
       "        if (!display || display === 'none') {{\n",
       "            console.log([gd, 'removed!']);\n",
       "            Plotly.purge(gd);\n",
       "            observer.disconnect();\n",
       "        }}\n",
       "}});\n",
       "\n",
       "// Listen for the removal of the full notebook cells\n",
       "var notebookContainer = gd.closest('#notebook-container');\n",
       "if (notebookContainer) {{\n",
       "    x.observe(notebookContainer, {childList: true});\n",
       "}}\n",
       "\n",
       "// Listen for the clearing of the current output cell\n",
       "var outputEl = gd.closest('.output');\n",
       "if (outputEl) {{\n",
       "    x.observe(outputEl, {childList: true});\n",
       "}}\n",
       "\n",
       "                        })                };                });            </script>        </div>"
      ]
     },
     "metadata": {},
     "output_type": "display_data"
    }
   ],
   "source": [
    "#salary sum comparison\n",
    "sum_sal_exp = ds.groupby(\"experience_level\")[\"salary_in_usd\"].sum().reset_index(name=\"sum_of_salary\")\n",
    "px.bar(sum_sal_exp, x=\"experience_level\", y=\"sum_of_salary\",\n",
    "      color=\"sum_of_salary\", color_continuous_scale=\"oryel\",\n",
    "      title=\"Sum of Salary Based on Experience Level\",\n",
    "      text=\"sum_of_salary\")"
   ]
  },
  {
   "cell_type": "code",
   "execution_count": 14,
   "id": "c5326ff1",
   "metadata": {
    "execution": {
     "iopub.execute_input": "2024-01-11T04:48:56.614294Z",
     "iopub.status.busy": "2024-01-11T04:48:56.613864Z",
     "iopub.status.idle": "2024-01-11T04:48:56.649905Z",
     "shell.execute_reply": "2024-01-11T04:48:56.648760Z"
    },
    "papermill": {
     "duration": 0.06101,
     "end_time": "2024-01-11T04:48:56.652471",
     "exception": false,
     "start_time": "2024-01-11T04:48:56.591461",
     "status": "completed"
    },
    "tags": []
   },
   "outputs": [
    {
     "data": {
      "text/html": [
       "<div>                            <div id=\"02465953-9ee9-4d1d-9f3a-9cef73842245\" class=\"plotly-graph-div\" style=\"height:200px; width:100%;\"></div>            <script type=\"text/javascript\">                require([\"plotly\"], function(Plotly) {                    window.PLOTLYENV=window.PLOTLYENV || {};                                    if (document.getElementById(\"02465953-9ee9-4d1d-9f3a-9cef73842245\")) {                    Plotly.newPlot(                        \"02465953-9ee9-4d1d-9f3a-9cef73842245\",                        [{\"colorscale\":[[0,\"#00083e\"],[0.5,\"#ededee\"],[1,\"#ffffff\"]],\"hoverinfo\":\"none\",\"opacity\":0.75,\"showscale\":false,\"z\":[[0,0,0,0,0],[0.5,0.5,0.5,0.5,0.5],[1,1,1,1,1],[0.5,0.5,0.5,0.5,0.5],[1,1,1,1,1]],\"type\":\"heatmap\"}],                        {\"annotations\":[{\"align\":\"left\",\"font\":{\"color\":\"#ffffff\"},\"showarrow\":false,\"text\":\"\\u003cb\\u003eemployment_type\\u003c\\u002fb\\u003e\",\"x\":-0.45,\"xanchor\":\"left\",\"xref\":\"x\",\"y\":0,\"yref\":\"y\"},{\"align\":\"left\",\"font\":{\"color\":\"#ffffff\"},\"showarrow\":false,\"text\":\"\\u003cb\\u003emean\\u003c\\u002fb\\u003e\",\"x\":0.55,\"xanchor\":\"left\",\"xref\":\"x\",\"y\":0,\"yref\":\"y\"},{\"align\":\"left\",\"font\":{\"color\":\"#ffffff\"},\"showarrow\":false,\"text\":\"\\u003cb\\u003estd\\u003c\\u002fb\\u003e\",\"x\":1.55,\"xanchor\":\"left\",\"xref\":\"x\",\"y\":0,\"yref\":\"y\"},{\"align\":\"left\",\"font\":{\"color\":\"#ffffff\"},\"showarrow\":false,\"text\":\"\\u003cb\\u003emax\\u003c\\u002fb\\u003e\",\"x\":2.55,\"xanchor\":\"left\",\"xref\":\"x\",\"y\":0,\"yref\":\"y\"},{\"align\":\"left\",\"font\":{\"color\":\"#ffffff\"},\"showarrow\":false,\"text\":\"\\u003cb\\u003emin\\u003c\\u002fb\\u003e\",\"x\":3.55,\"xanchor\":\"left\",\"xref\":\"x\",\"y\":0,\"yref\":\"y\"},{\"align\":\"left\",\"font\":{\"color\":\"#000000\"},\"showarrow\":false,\"text\":\"CT\",\"x\":-0.45,\"xanchor\":\"left\",\"xref\":\"x\",\"y\":1,\"yref\":\"y\"},{\"align\":\"left\",\"font\":{\"color\":\"#000000\"},\"showarrow\":false,\"text\":\"113446.9\",\"x\":0.55,\"xanchor\":\"left\",\"xref\":\"x\",\"y\":1,\"yref\":\"y\"},{\"align\":\"left\",\"font\":{\"color\":\"#000000\"},\"showarrow\":false,\"text\":\"130176.75\",\"x\":1.55,\"xanchor\":\"left\",\"xref\":\"x\",\"y\":1,\"yref\":\"y\"},{\"align\":\"left\",\"font\":{\"color\":\"#000000\"},\"showarrow\":false,\"text\":\"416000\",\"x\":2.55,\"xanchor\":\"left\",\"xref\":\"x\",\"y\":1,\"yref\":\"y\"},{\"align\":\"left\",\"font\":{\"color\":\"#000000\"},\"showarrow\":false,\"text\":\"7500\",\"x\":3.55,\"xanchor\":\"left\",\"xref\":\"x\",\"y\":1,\"yref\":\"y\"},{\"align\":\"left\",\"font\":{\"color\":\"#000000\"},\"showarrow\":false,\"text\":\"FL\",\"x\":-0.45,\"xanchor\":\"left\",\"xref\":\"x\",\"y\":2,\"yref\":\"y\"},{\"align\":\"left\",\"font\":{\"color\":\"#000000\"},\"showarrow\":false,\"text\":\"51807.8\",\"x\":0.55,\"xanchor\":\"left\",\"xref\":\"x\",\"y\":2,\"yref\":\"y\"},{\"align\":\"left\",\"font\":{\"color\":\"#000000\"},\"showarrow\":false,\"text\":\"29458.88\",\"x\":1.55,\"xanchor\":\"left\",\"xref\":\"x\",\"y\":2,\"yref\":\"y\"},{\"align\":\"left\",\"font\":{\"color\":\"#000000\"},\"showarrow\":false,\"text\":\"100000\",\"x\":2.55,\"xanchor\":\"left\",\"xref\":\"x\",\"y\":2,\"yref\":\"y\"},{\"align\":\"left\",\"font\":{\"color\":\"#000000\"},\"showarrow\":false,\"text\":\"12000\",\"x\":3.55,\"xanchor\":\"left\",\"xref\":\"x\",\"y\":2,\"yref\":\"y\"},{\"align\":\"left\",\"font\":{\"color\":\"#000000\"},\"showarrow\":false,\"text\":\"FT\",\"x\":-0.45,\"xanchor\":\"left\",\"xref\":\"x\",\"y\":3,\"yref\":\"y\"},{\"align\":\"left\",\"font\":{\"color\":\"#000000\"},\"showarrow\":false,\"text\":\"138314.2\",\"x\":0.55,\"xanchor\":\"left\",\"xref\":\"x\",\"y\":3,\"yref\":\"y\"},{\"align\":\"left\",\"font\":{\"color\":\"#000000\"},\"showarrow\":false,\"text\":\"62452.18\",\"x\":1.55,\"xanchor\":\"left\",\"xref\":\"x\",\"y\":3,\"yref\":\"y\"},{\"align\":\"left\",\"font\":{\"color\":\"#000000\"},\"showarrow\":false,\"text\":\"450000\",\"x\":2.55,\"xanchor\":\"left\",\"xref\":\"x\",\"y\":3,\"yref\":\"y\"},{\"align\":\"left\",\"font\":{\"color\":\"#000000\"},\"showarrow\":false,\"text\":\"5132\",\"x\":3.55,\"xanchor\":\"left\",\"xref\":\"x\",\"y\":3,\"yref\":\"y\"},{\"align\":\"left\",\"font\":{\"color\":\"#000000\"},\"showarrow\":false,\"text\":\"PT\",\"x\":-0.45,\"xanchor\":\"left\",\"xref\":\"x\",\"y\":4,\"yref\":\"y\"},{\"align\":\"left\",\"font\":{\"color\":\"#000000\"},\"showarrow\":false,\"text\":\"39533.71\",\"x\":0.55,\"xanchor\":\"left\",\"xref\":\"x\",\"y\":4,\"yref\":\"y\"},{\"align\":\"left\",\"font\":{\"color\":\"#000000\"},\"showarrow\":false,\"text\":\"38312.15\",\"x\":1.55,\"xanchor\":\"left\",\"xref\":\"x\",\"y\":4,\"yref\":\"y\"},{\"align\":\"left\",\"font\":{\"color\":\"#000000\"},\"showarrow\":false,\"text\":\"125404\",\"x\":2.55,\"xanchor\":\"left\",\"xref\":\"x\",\"y\":4,\"yref\":\"y\"},{\"align\":\"left\",\"font\":{\"color\":\"#000000\"},\"showarrow\":false,\"text\":\"5409\",\"x\":3.55,\"xanchor\":\"left\",\"xref\":\"x\",\"y\":4,\"yref\":\"y\"}],\"height\":200,\"margin\":{\"b\":0,\"l\":0,\"r\":0,\"t\":0},\"xaxis\":{\"dtick\":1,\"gridwidth\":2,\"showticklabels\":false,\"tick0\":-0.5,\"ticks\":\"\",\"zeroline\":false},\"yaxis\":{\"autorange\":\"reversed\",\"dtick\":1,\"gridwidth\":2,\"showticklabels\":false,\"tick0\":0.5,\"ticks\":\"\",\"zeroline\":false},\"template\":{\"data\":{\"histogram2dcontour\":[{\"type\":\"histogram2dcontour\",\"colorbar\":{\"outlinewidth\":0,\"ticks\":\"\"},\"colorscale\":[[0.0,\"#0d0887\"],[0.1111111111111111,\"#46039f\"],[0.2222222222222222,\"#7201a8\"],[0.3333333333333333,\"#9c179e\"],[0.4444444444444444,\"#bd3786\"],[0.5555555555555556,\"#d8576b\"],[0.6666666666666666,\"#ed7953\"],[0.7777777777777778,\"#fb9f3a\"],[0.8888888888888888,\"#fdca26\"],[1.0,\"#f0f921\"]]}],\"choropleth\":[{\"type\":\"choropleth\",\"colorbar\":{\"outlinewidth\":0,\"ticks\":\"\"}}],\"histogram2d\":[{\"type\":\"histogram2d\",\"colorbar\":{\"outlinewidth\":0,\"ticks\":\"\"},\"colorscale\":[[0.0,\"#0d0887\"],[0.1111111111111111,\"#46039f\"],[0.2222222222222222,\"#7201a8\"],[0.3333333333333333,\"#9c179e\"],[0.4444444444444444,\"#bd3786\"],[0.5555555555555556,\"#d8576b\"],[0.6666666666666666,\"#ed7953\"],[0.7777777777777778,\"#fb9f3a\"],[0.8888888888888888,\"#fdca26\"],[1.0,\"#f0f921\"]]}],\"heatmap\":[{\"type\":\"heatmap\",\"colorbar\":{\"outlinewidth\":0,\"ticks\":\"\"},\"colorscale\":[[0.0,\"#0d0887\"],[0.1111111111111111,\"#46039f\"],[0.2222222222222222,\"#7201a8\"],[0.3333333333333333,\"#9c179e\"],[0.4444444444444444,\"#bd3786\"],[0.5555555555555556,\"#d8576b\"],[0.6666666666666666,\"#ed7953\"],[0.7777777777777778,\"#fb9f3a\"],[0.8888888888888888,\"#fdca26\"],[1.0,\"#f0f921\"]]}],\"heatmapgl\":[{\"type\":\"heatmapgl\",\"colorbar\":{\"outlinewidth\":0,\"ticks\":\"\"},\"colorscale\":[[0.0,\"#0d0887\"],[0.1111111111111111,\"#46039f\"],[0.2222222222222222,\"#7201a8\"],[0.3333333333333333,\"#9c179e\"],[0.4444444444444444,\"#bd3786\"],[0.5555555555555556,\"#d8576b\"],[0.6666666666666666,\"#ed7953\"],[0.7777777777777778,\"#fb9f3a\"],[0.8888888888888888,\"#fdca26\"],[1.0,\"#f0f921\"]]}],\"contourcarpet\":[{\"type\":\"contourcarpet\",\"colorbar\":{\"outlinewidth\":0,\"ticks\":\"\"}}],\"contour\":[{\"type\":\"contour\",\"colorbar\":{\"outlinewidth\":0,\"ticks\":\"\"},\"colorscale\":[[0.0,\"#0d0887\"],[0.1111111111111111,\"#46039f\"],[0.2222222222222222,\"#7201a8\"],[0.3333333333333333,\"#9c179e\"],[0.4444444444444444,\"#bd3786\"],[0.5555555555555556,\"#d8576b\"],[0.6666666666666666,\"#ed7953\"],[0.7777777777777778,\"#fb9f3a\"],[0.8888888888888888,\"#fdca26\"],[1.0,\"#f0f921\"]]}],\"surface\":[{\"type\":\"surface\",\"colorbar\":{\"outlinewidth\":0,\"ticks\":\"\"},\"colorscale\":[[0.0,\"#0d0887\"],[0.1111111111111111,\"#46039f\"],[0.2222222222222222,\"#7201a8\"],[0.3333333333333333,\"#9c179e\"],[0.4444444444444444,\"#bd3786\"],[0.5555555555555556,\"#d8576b\"],[0.6666666666666666,\"#ed7953\"],[0.7777777777777778,\"#fb9f3a\"],[0.8888888888888888,\"#fdca26\"],[1.0,\"#f0f921\"]]}],\"mesh3d\":[{\"type\":\"mesh3d\",\"colorbar\":{\"outlinewidth\":0,\"ticks\":\"\"}}],\"scatter\":[{\"fillpattern\":{\"fillmode\":\"overlay\",\"size\":10,\"solidity\":0.2},\"type\":\"scatter\"}],\"parcoords\":[{\"type\":\"parcoords\",\"line\":{\"colorbar\":{\"outlinewidth\":0,\"ticks\":\"\"}}}],\"scatterpolargl\":[{\"type\":\"scatterpolargl\",\"marker\":{\"colorbar\":{\"outlinewidth\":0,\"ticks\":\"\"}}}],\"bar\":[{\"error_x\":{\"color\":\"#2a3f5f\"},\"error_y\":{\"color\":\"#2a3f5f\"},\"marker\":{\"line\":{\"color\":\"#E5ECF6\",\"width\":0.5},\"pattern\":{\"fillmode\":\"overlay\",\"size\":10,\"solidity\":0.2}},\"type\":\"bar\"}],\"scattergeo\":[{\"type\":\"scattergeo\",\"marker\":{\"colorbar\":{\"outlinewidth\":0,\"ticks\":\"\"}}}],\"scatterpolar\":[{\"type\":\"scatterpolar\",\"marker\":{\"colorbar\":{\"outlinewidth\":0,\"ticks\":\"\"}}}],\"histogram\":[{\"marker\":{\"pattern\":{\"fillmode\":\"overlay\",\"size\":10,\"solidity\":0.2}},\"type\":\"histogram\"}],\"scattergl\":[{\"type\":\"scattergl\",\"marker\":{\"colorbar\":{\"outlinewidth\":0,\"ticks\":\"\"}}}],\"scatter3d\":[{\"type\":\"scatter3d\",\"line\":{\"colorbar\":{\"outlinewidth\":0,\"ticks\":\"\"}},\"marker\":{\"colorbar\":{\"outlinewidth\":0,\"ticks\":\"\"}}}],\"scattermapbox\":[{\"type\":\"scattermapbox\",\"marker\":{\"colorbar\":{\"outlinewidth\":0,\"ticks\":\"\"}}}],\"scatterternary\":[{\"type\":\"scatterternary\",\"marker\":{\"colorbar\":{\"outlinewidth\":0,\"ticks\":\"\"}}}],\"scattercarpet\":[{\"type\":\"scattercarpet\",\"marker\":{\"colorbar\":{\"outlinewidth\":0,\"ticks\":\"\"}}}],\"carpet\":[{\"aaxis\":{\"endlinecolor\":\"#2a3f5f\",\"gridcolor\":\"white\",\"linecolor\":\"white\",\"minorgridcolor\":\"white\",\"startlinecolor\":\"#2a3f5f\"},\"baxis\":{\"endlinecolor\":\"#2a3f5f\",\"gridcolor\":\"white\",\"linecolor\":\"white\",\"minorgridcolor\":\"white\",\"startlinecolor\":\"#2a3f5f\"},\"type\":\"carpet\"}],\"table\":[{\"cells\":{\"fill\":{\"color\":\"#EBF0F8\"},\"line\":{\"color\":\"white\"}},\"header\":{\"fill\":{\"color\":\"#C8D4E3\"},\"line\":{\"color\":\"white\"}},\"type\":\"table\"}],\"barpolar\":[{\"marker\":{\"line\":{\"color\":\"#E5ECF6\",\"width\":0.5},\"pattern\":{\"fillmode\":\"overlay\",\"size\":10,\"solidity\":0.2}},\"type\":\"barpolar\"}],\"pie\":[{\"automargin\":true,\"type\":\"pie\"}]},\"layout\":{\"autotypenumbers\":\"strict\",\"colorway\":[\"#636efa\",\"#EF553B\",\"#00cc96\",\"#ab63fa\",\"#FFA15A\",\"#19d3f3\",\"#FF6692\",\"#B6E880\",\"#FF97FF\",\"#FECB52\"],\"font\":{\"color\":\"#2a3f5f\"},\"hovermode\":\"closest\",\"hoverlabel\":{\"align\":\"left\"},\"paper_bgcolor\":\"white\",\"plot_bgcolor\":\"#E5ECF6\",\"polar\":{\"bgcolor\":\"#E5ECF6\",\"angularaxis\":{\"gridcolor\":\"white\",\"linecolor\":\"white\",\"ticks\":\"\"},\"radialaxis\":{\"gridcolor\":\"white\",\"linecolor\":\"white\",\"ticks\":\"\"}},\"ternary\":{\"bgcolor\":\"#E5ECF6\",\"aaxis\":{\"gridcolor\":\"white\",\"linecolor\":\"white\",\"ticks\":\"\"},\"baxis\":{\"gridcolor\":\"white\",\"linecolor\":\"white\",\"ticks\":\"\"},\"caxis\":{\"gridcolor\":\"white\",\"linecolor\":\"white\",\"ticks\":\"\"}},\"coloraxis\":{\"colorbar\":{\"outlinewidth\":0,\"ticks\":\"\"}},\"colorscale\":{\"sequential\":[[0.0,\"#0d0887\"],[0.1111111111111111,\"#46039f\"],[0.2222222222222222,\"#7201a8\"],[0.3333333333333333,\"#9c179e\"],[0.4444444444444444,\"#bd3786\"],[0.5555555555555556,\"#d8576b\"],[0.6666666666666666,\"#ed7953\"],[0.7777777777777778,\"#fb9f3a\"],[0.8888888888888888,\"#fdca26\"],[1.0,\"#f0f921\"]],\"sequentialminus\":[[0.0,\"#0d0887\"],[0.1111111111111111,\"#46039f\"],[0.2222222222222222,\"#7201a8\"],[0.3333333333333333,\"#9c179e\"],[0.4444444444444444,\"#bd3786\"],[0.5555555555555556,\"#d8576b\"],[0.6666666666666666,\"#ed7953\"],[0.7777777777777778,\"#fb9f3a\"],[0.8888888888888888,\"#fdca26\"],[1.0,\"#f0f921\"]],\"diverging\":[[0,\"#8e0152\"],[0.1,\"#c51b7d\"],[0.2,\"#de77ae\"],[0.3,\"#f1b6da\"],[0.4,\"#fde0ef\"],[0.5,\"#f7f7f7\"],[0.6,\"#e6f5d0\"],[0.7,\"#b8e186\"],[0.8,\"#7fbc41\"],[0.9,\"#4d9221\"],[1,\"#276419\"]]},\"xaxis\":{\"gridcolor\":\"white\",\"linecolor\":\"white\",\"ticks\":\"\",\"title\":{\"standoff\":15},\"zerolinecolor\":\"white\",\"automargin\":true,\"zerolinewidth\":2},\"yaxis\":{\"gridcolor\":\"white\",\"linecolor\":\"white\",\"ticks\":\"\",\"title\":{\"standoff\":15},\"zerolinecolor\":\"white\",\"automargin\":true,\"zerolinewidth\":2},\"scene\":{\"xaxis\":{\"backgroundcolor\":\"#E5ECF6\",\"gridcolor\":\"white\",\"linecolor\":\"white\",\"showbackground\":true,\"ticks\":\"\",\"zerolinecolor\":\"white\",\"gridwidth\":2},\"yaxis\":{\"backgroundcolor\":\"#E5ECF6\",\"gridcolor\":\"white\",\"linecolor\":\"white\",\"showbackground\":true,\"ticks\":\"\",\"zerolinecolor\":\"white\",\"gridwidth\":2},\"zaxis\":{\"backgroundcolor\":\"#E5ECF6\",\"gridcolor\":\"white\",\"linecolor\":\"white\",\"showbackground\":true,\"ticks\":\"\",\"zerolinecolor\":\"white\",\"gridwidth\":2}},\"shapedefaults\":{\"line\":{\"color\":\"#2a3f5f\"}},\"annotationdefaults\":{\"arrowcolor\":\"#2a3f5f\",\"arrowhead\":0,\"arrowwidth\":1},\"geo\":{\"bgcolor\":\"white\",\"landcolor\":\"#E5ECF6\",\"subunitcolor\":\"white\",\"showland\":true,\"showlakes\":true,\"lakecolor\":\"white\"},\"title\":{\"x\":0.05},\"mapbox\":{\"style\":\"light\"}}}},                        {\"responsive\": true}                    ).then(function(){\n",
       "                            \n",
       "var gd = document.getElementById('02465953-9ee9-4d1d-9f3a-9cef73842245');\n",
       "var x = new MutationObserver(function (mutations, observer) {{\n",
       "        var display = window.getComputedStyle(gd).display;\n",
       "        if (!display || display === 'none') {{\n",
       "            console.log([gd, 'removed!']);\n",
       "            Plotly.purge(gd);\n",
       "            observer.disconnect();\n",
       "        }}\n",
       "}});\n",
       "\n",
       "// Listen for the removal of the full notebook cells\n",
       "var notebookContainer = gd.closest('#notebook-container');\n",
       "if (notebookContainer) {{\n",
       "    x.observe(notebookContainer, {childList: true});\n",
       "}}\n",
       "\n",
       "// Listen for the clearing of the current output cell\n",
       "var outputEl = gd.closest('.output');\n",
       "if (outputEl) {{\n",
       "    x.observe(outputEl, {childList: true});\n",
       "}}\n",
       "\n",
       "                        })                };                });            </script>        </div>"
      ]
     },
     "metadata": {},
     "output_type": "display_data"
    }
   ],
   "source": [
    "#employment type and salary\n",
    "emp_sal = round(ds.groupby(\"employment_type\")[\"salary_in_usd\"].agg([\"mean\", \"std\", \"max\", \"min\"]).reset_index(),2)\n",
    "ff.create_table(emp_sal)"
   ]
  },
  {
   "cell_type": "code",
   "execution_count": 15,
   "id": "f490714d",
   "metadata": {
    "execution": {
     "iopub.execute_input": "2024-01-11T04:48:56.696640Z",
     "iopub.status.busy": "2024-01-11T04:48:56.696231Z",
     "iopub.status.idle": "2024-01-11T04:48:56.870637Z",
     "shell.execute_reply": "2024-01-11T04:48:56.869054Z"
    },
    "papermill": {
     "duration": 0.199311,
     "end_time": "2024-01-11T04:48:56.873017",
     "exception": false,
     "start_time": "2024-01-11T04:48:56.673706",
     "status": "completed"
    },
    "tags": []
   },
   "outputs": [
    {
     "data": {
      "text/html": [
       "<div>                            <div id=\"d6c66056-e8aa-4109-8d1d-1a247963fd63\" class=\"plotly-graph-div\" style=\"height:525px; width:100%;\"></div>            <script type=\"text/javascript\">                require([\"plotly\"], function(Plotly) {                    window.PLOTLYENV=window.PLOTLYENV || {};                                    if (document.getElementById(\"d6c66056-e8aa-4109-8d1d-1a247963fd63\")) {                    Plotly.newPlot(                        \"d6c66056-e8aa-4109-8d1d-1a247963fd63\",                        [{\"branchvalues\":\"total\",\"customdata\":[[5132.0],[5409.0],[7500.0],[12000.0],[29458.88],[38312.15],[39533.71],[51807.8],[62452.18],[100000.0],[113446.9],[125404.0],[130176.75],[138314.2],[416000.0],[450000.0],[416000.0],[100000.0],[450000.0],[125404.0],[113446.9],[51807.8],[138314.2],[39533.71],[7500.0],[12000.0],[5132.0],[5409.0],[130176.75],[29458.88],[62452.18],[38312.15],[166780.9125],[48316.67],[163974.595],[52164.715]],\"domain\":{\"x\":[0.0,1.0],\"y\":[0.0,1.0]},\"hovertemplate\":\"labels=%{label}\\u003cbr\\u003ecount=%{value}\\u003cbr\\u003eparent=%{parent}\\u003cbr\\u003eid=%{id}\\u003cbr\\u003esalary=%{color}\\u003cextra\\u003e\\u003c\\u002fextra\\u003e\",\"ids\":[\"FT\\u002fmin\\u002f5132.0\",\"PT\\u002fmin\\u002f5409.0\",\"CT\\u002fmin\\u002f7500.0\",\"FL\\u002fmin\\u002f12000.0\",\"FL\\u002fstd\\u002f29458.88\",\"PT\\u002fstd\\u002f38312.15\",\"PT\\u002fmean\\u002f39533.71\",\"FL\\u002fmean\\u002f51807.8\",\"FT\\u002fstd\\u002f62452.18\",\"FL\\u002fmax\\u002f100000.0\",\"CT\\u002fmean\\u002f113446.9\",\"PT\\u002fmax\\u002f125404.0\",\"CT\\u002fstd\\u002f130176.75\",\"FT\\u002fmean\\u002f138314.2\",\"CT\\u002fmax\\u002f416000.0\",\"FT\\u002fmax\\u002f450000.0\",\"CT\\u002fmax\",\"FL\\u002fmax\",\"FT\\u002fmax\",\"PT\\u002fmax\",\"CT\\u002fmean\",\"FL\\u002fmean\",\"FT\\u002fmean\",\"PT\\u002fmean\",\"CT\\u002fmin\",\"FL\\u002fmin\",\"FT\\u002fmin\",\"PT\\u002fmin\",\"CT\\u002fstd\",\"FL\\u002fstd\",\"FT\\u002fstd\",\"PT\\u002fstd\",\"CT\",\"FL\",\"FT\",\"PT\"],\"labels\":[\"5132.0\",\"5409.0\",\"7500.0\",\"12000.0\",\"29458.88\",\"38312.15\",\"39533.71\",\"51807.8\",\"62452.18\",\"100000.0\",\"113446.9\",\"125404.0\",\"130176.75\",\"138314.2\",\"416000.0\",\"450000.0\",\"max\",\"max\",\"max\",\"max\",\"mean\",\"mean\",\"mean\",\"mean\",\"min\",\"min\",\"min\",\"min\",\"std\",\"std\",\"std\",\"std\",\"CT\",\"FL\",\"FT\",\"PT\"],\"marker\":{\"coloraxis\":\"coloraxis\",\"colors\":[5132.0,5409.0,7500.0,12000.0,29458.88,38312.15,39533.71,51807.8,62452.18,100000.0,113446.9,125404.0,130176.75,138314.2,416000.0,450000.0,416000.0,100000.0,450000.0,125404.0,113446.9,51807.8,138314.2,39533.71,7500.0,12000.0,5132.0,5409.0,130176.75,29458.88,62452.18,38312.15,166780.9125,48316.67,163974.595,52164.715]},\"name\":\"\",\"parents\":[\"FT\\u002fmin\",\"PT\\u002fmin\",\"CT\\u002fmin\",\"FL\\u002fmin\",\"FL\\u002fstd\",\"PT\\u002fstd\",\"PT\\u002fmean\",\"FL\\u002fmean\",\"FT\\u002fstd\",\"FL\\u002fmax\",\"CT\\u002fmean\",\"PT\\u002fmax\",\"CT\\u002fstd\",\"FT\\u002fmean\",\"CT\\u002fmax\",\"FT\\u002fmax\",\"CT\",\"FL\",\"FT\",\"PT\",\"CT\",\"FL\",\"FT\",\"PT\",\"CT\",\"FL\",\"FT\",\"PT\",\"CT\",\"FL\",\"FT\",\"PT\",\"\",\"\",\"\",\"\"],\"values\":[1,1,1,1,1,1,1,1,1,1,1,1,1,1,1,1,1,1,1,1,1,1,1,1,1,1,1,1,1,1,1,1,4,4,4,4],\"type\":\"treemap\"}],                        {\"template\":{\"data\":{\"histogram2dcontour\":[{\"type\":\"histogram2dcontour\",\"colorbar\":{\"outlinewidth\":0,\"ticks\":\"\"},\"colorscale\":[[0.0,\"#0d0887\"],[0.1111111111111111,\"#46039f\"],[0.2222222222222222,\"#7201a8\"],[0.3333333333333333,\"#9c179e\"],[0.4444444444444444,\"#bd3786\"],[0.5555555555555556,\"#d8576b\"],[0.6666666666666666,\"#ed7953\"],[0.7777777777777778,\"#fb9f3a\"],[0.8888888888888888,\"#fdca26\"],[1.0,\"#f0f921\"]]}],\"choropleth\":[{\"type\":\"choropleth\",\"colorbar\":{\"outlinewidth\":0,\"ticks\":\"\"}}],\"histogram2d\":[{\"type\":\"histogram2d\",\"colorbar\":{\"outlinewidth\":0,\"ticks\":\"\"},\"colorscale\":[[0.0,\"#0d0887\"],[0.1111111111111111,\"#46039f\"],[0.2222222222222222,\"#7201a8\"],[0.3333333333333333,\"#9c179e\"],[0.4444444444444444,\"#bd3786\"],[0.5555555555555556,\"#d8576b\"],[0.6666666666666666,\"#ed7953\"],[0.7777777777777778,\"#fb9f3a\"],[0.8888888888888888,\"#fdca26\"],[1.0,\"#f0f921\"]]}],\"heatmap\":[{\"type\":\"heatmap\",\"colorbar\":{\"outlinewidth\":0,\"ticks\":\"\"},\"colorscale\":[[0.0,\"#0d0887\"],[0.1111111111111111,\"#46039f\"],[0.2222222222222222,\"#7201a8\"],[0.3333333333333333,\"#9c179e\"],[0.4444444444444444,\"#bd3786\"],[0.5555555555555556,\"#d8576b\"],[0.6666666666666666,\"#ed7953\"],[0.7777777777777778,\"#fb9f3a\"],[0.8888888888888888,\"#fdca26\"],[1.0,\"#f0f921\"]]}],\"heatmapgl\":[{\"type\":\"heatmapgl\",\"colorbar\":{\"outlinewidth\":0,\"ticks\":\"\"},\"colorscale\":[[0.0,\"#0d0887\"],[0.1111111111111111,\"#46039f\"],[0.2222222222222222,\"#7201a8\"],[0.3333333333333333,\"#9c179e\"],[0.4444444444444444,\"#bd3786\"],[0.5555555555555556,\"#d8576b\"],[0.6666666666666666,\"#ed7953\"],[0.7777777777777778,\"#fb9f3a\"],[0.8888888888888888,\"#fdca26\"],[1.0,\"#f0f921\"]]}],\"contourcarpet\":[{\"type\":\"contourcarpet\",\"colorbar\":{\"outlinewidth\":0,\"ticks\":\"\"}}],\"contour\":[{\"type\":\"contour\",\"colorbar\":{\"outlinewidth\":0,\"ticks\":\"\"},\"colorscale\":[[0.0,\"#0d0887\"],[0.1111111111111111,\"#46039f\"],[0.2222222222222222,\"#7201a8\"],[0.3333333333333333,\"#9c179e\"],[0.4444444444444444,\"#bd3786\"],[0.5555555555555556,\"#d8576b\"],[0.6666666666666666,\"#ed7953\"],[0.7777777777777778,\"#fb9f3a\"],[0.8888888888888888,\"#fdca26\"],[1.0,\"#f0f921\"]]}],\"surface\":[{\"type\":\"surface\",\"colorbar\":{\"outlinewidth\":0,\"ticks\":\"\"},\"colorscale\":[[0.0,\"#0d0887\"],[0.1111111111111111,\"#46039f\"],[0.2222222222222222,\"#7201a8\"],[0.3333333333333333,\"#9c179e\"],[0.4444444444444444,\"#bd3786\"],[0.5555555555555556,\"#d8576b\"],[0.6666666666666666,\"#ed7953\"],[0.7777777777777778,\"#fb9f3a\"],[0.8888888888888888,\"#fdca26\"],[1.0,\"#f0f921\"]]}],\"mesh3d\":[{\"type\":\"mesh3d\",\"colorbar\":{\"outlinewidth\":0,\"ticks\":\"\"}}],\"scatter\":[{\"fillpattern\":{\"fillmode\":\"overlay\",\"size\":10,\"solidity\":0.2},\"type\":\"scatter\"}],\"parcoords\":[{\"type\":\"parcoords\",\"line\":{\"colorbar\":{\"outlinewidth\":0,\"ticks\":\"\"}}}],\"scatterpolargl\":[{\"type\":\"scatterpolargl\",\"marker\":{\"colorbar\":{\"outlinewidth\":0,\"ticks\":\"\"}}}],\"bar\":[{\"error_x\":{\"color\":\"#2a3f5f\"},\"error_y\":{\"color\":\"#2a3f5f\"},\"marker\":{\"line\":{\"color\":\"#E5ECF6\",\"width\":0.5},\"pattern\":{\"fillmode\":\"overlay\",\"size\":10,\"solidity\":0.2}},\"type\":\"bar\"}],\"scattergeo\":[{\"type\":\"scattergeo\",\"marker\":{\"colorbar\":{\"outlinewidth\":0,\"ticks\":\"\"}}}],\"scatterpolar\":[{\"type\":\"scatterpolar\",\"marker\":{\"colorbar\":{\"outlinewidth\":0,\"ticks\":\"\"}}}],\"histogram\":[{\"marker\":{\"pattern\":{\"fillmode\":\"overlay\",\"size\":10,\"solidity\":0.2}},\"type\":\"histogram\"}],\"scattergl\":[{\"type\":\"scattergl\",\"marker\":{\"colorbar\":{\"outlinewidth\":0,\"ticks\":\"\"}}}],\"scatter3d\":[{\"type\":\"scatter3d\",\"line\":{\"colorbar\":{\"outlinewidth\":0,\"ticks\":\"\"}},\"marker\":{\"colorbar\":{\"outlinewidth\":0,\"ticks\":\"\"}}}],\"scattermapbox\":[{\"type\":\"scattermapbox\",\"marker\":{\"colorbar\":{\"outlinewidth\":0,\"ticks\":\"\"}}}],\"scatterternary\":[{\"type\":\"scatterternary\",\"marker\":{\"colorbar\":{\"outlinewidth\":0,\"ticks\":\"\"}}}],\"scattercarpet\":[{\"type\":\"scattercarpet\",\"marker\":{\"colorbar\":{\"outlinewidth\":0,\"ticks\":\"\"}}}],\"carpet\":[{\"aaxis\":{\"endlinecolor\":\"#2a3f5f\",\"gridcolor\":\"white\",\"linecolor\":\"white\",\"minorgridcolor\":\"white\",\"startlinecolor\":\"#2a3f5f\"},\"baxis\":{\"endlinecolor\":\"#2a3f5f\",\"gridcolor\":\"white\",\"linecolor\":\"white\",\"minorgridcolor\":\"white\",\"startlinecolor\":\"#2a3f5f\"},\"type\":\"carpet\"}],\"table\":[{\"cells\":{\"fill\":{\"color\":\"#EBF0F8\"},\"line\":{\"color\":\"white\"}},\"header\":{\"fill\":{\"color\":\"#C8D4E3\"},\"line\":{\"color\":\"white\"}},\"type\":\"table\"}],\"barpolar\":[{\"marker\":{\"line\":{\"color\":\"#E5ECF6\",\"width\":0.5},\"pattern\":{\"fillmode\":\"overlay\",\"size\":10,\"solidity\":0.2}},\"type\":\"barpolar\"}],\"pie\":[{\"automargin\":true,\"type\":\"pie\"}]},\"layout\":{\"autotypenumbers\":\"strict\",\"colorway\":[\"#636efa\",\"#EF553B\",\"#00cc96\",\"#ab63fa\",\"#FFA15A\",\"#19d3f3\",\"#FF6692\",\"#B6E880\",\"#FF97FF\",\"#FECB52\"],\"font\":{\"color\":\"#2a3f5f\"},\"hovermode\":\"closest\",\"hoverlabel\":{\"align\":\"left\"},\"paper_bgcolor\":\"white\",\"plot_bgcolor\":\"#E5ECF6\",\"polar\":{\"bgcolor\":\"#E5ECF6\",\"angularaxis\":{\"gridcolor\":\"white\",\"linecolor\":\"white\",\"ticks\":\"\"},\"radialaxis\":{\"gridcolor\":\"white\",\"linecolor\":\"white\",\"ticks\":\"\"}},\"ternary\":{\"bgcolor\":\"#E5ECF6\",\"aaxis\":{\"gridcolor\":\"white\",\"linecolor\":\"white\",\"ticks\":\"\"},\"baxis\":{\"gridcolor\":\"white\",\"linecolor\":\"white\",\"ticks\":\"\"},\"caxis\":{\"gridcolor\":\"white\",\"linecolor\":\"white\",\"ticks\":\"\"}},\"coloraxis\":{\"colorbar\":{\"outlinewidth\":0,\"ticks\":\"\"}},\"colorscale\":{\"sequential\":[[0.0,\"#0d0887\"],[0.1111111111111111,\"#46039f\"],[0.2222222222222222,\"#7201a8\"],[0.3333333333333333,\"#9c179e\"],[0.4444444444444444,\"#bd3786\"],[0.5555555555555556,\"#d8576b\"],[0.6666666666666666,\"#ed7953\"],[0.7777777777777778,\"#fb9f3a\"],[0.8888888888888888,\"#fdca26\"],[1.0,\"#f0f921\"]],\"sequentialminus\":[[0.0,\"#0d0887\"],[0.1111111111111111,\"#46039f\"],[0.2222222222222222,\"#7201a8\"],[0.3333333333333333,\"#9c179e\"],[0.4444444444444444,\"#bd3786\"],[0.5555555555555556,\"#d8576b\"],[0.6666666666666666,\"#ed7953\"],[0.7777777777777778,\"#fb9f3a\"],[0.8888888888888888,\"#fdca26\"],[1.0,\"#f0f921\"]],\"diverging\":[[0,\"#8e0152\"],[0.1,\"#c51b7d\"],[0.2,\"#de77ae\"],[0.3,\"#f1b6da\"],[0.4,\"#fde0ef\"],[0.5,\"#f7f7f7\"],[0.6,\"#e6f5d0\"],[0.7,\"#b8e186\"],[0.8,\"#7fbc41\"],[0.9,\"#4d9221\"],[1,\"#276419\"]]},\"xaxis\":{\"gridcolor\":\"white\",\"linecolor\":\"white\",\"ticks\":\"\",\"title\":{\"standoff\":15},\"zerolinecolor\":\"white\",\"automargin\":true,\"zerolinewidth\":2},\"yaxis\":{\"gridcolor\":\"white\",\"linecolor\":\"white\",\"ticks\":\"\",\"title\":{\"standoff\":15},\"zerolinecolor\":\"white\",\"automargin\":true,\"zerolinewidth\":2},\"scene\":{\"xaxis\":{\"backgroundcolor\":\"#E5ECF6\",\"gridcolor\":\"white\",\"linecolor\":\"white\",\"showbackground\":true,\"ticks\":\"\",\"zerolinecolor\":\"white\",\"gridwidth\":2},\"yaxis\":{\"backgroundcolor\":\"#E5ECF6\",\"gridcolor\":\"white\",\"linecolor\":\"white\",\"showbackground\":true,\"ticks\":\"\",\"zerolinecolor\":\"white\",\"gridwidth\":2},\"zaxis\":{\"backgroundcolor\":\"#E5ECF6\",\"gridcolor\":\"white\",\"linecolor\":\"white\",\"showbackground\":true,\"ticks\":\"\",\"zerolinecolor\":\"white\",\"gridwidth\":2}},\"shapedefaults\":{\"line\":{\"color\":\"#2a3f5f\"}},\"annotationdefaults\":{\"arrowcolor\":\"#2a3f5f\",\"arrowhead\":0,\"arrowwidth\":1},\"geo\":{\"bgcolor\":\"white\",\"landcolor\":\"#E5ECF6\",\"subunitcolor\":\"white\",\"showland\":true,\"showlakes\":true,\"lakecolor\":\"white\"},\"title\":{\"x\":0.05},\"mapbox\":{\"style\":\"light\"}}},\"coloraxis\":{\"colorbar\":{\"title\":{\"text\":\"salary\"}},\"colorscale\":[[0.0,\"rgb(167, 119, 12)\"],[0.09090909090909091,\"rgb(119, 141, 17)\"],[0.18181818181818182,\"rgb(39, 153, 79)\"],[0.2727272727272727,\"rgb(15, 151, 136)\"],[0.36363636363636365,\"rgb(40, 144, 183)\"],[0.45454545454545453,\"rgb(95, 127, 228)\"],[0.5454545454545454,\"rgb(153, 97, 244)\"],[0.6363636363636364,\"rgb(196, 59, 224)\"],[0.7272727272727273,\"rgb(221, 38, 163)\"],[0.8181818181818182,\"rgb(217, 67, 96)\"],[0.9090909090909091,\"rgb(197, 96, 51)\"],[1.0,\"rgb(167, 119, 12)\"]]},\"legend\":{\"tracegroupgap\":0},\"margin\":{\"t\":60}},                        {\"responsive\": true}                    ).then(function(){\n",
       "                            \n",
       "var gd = document.getElementById('d6c66056-e8aa-4109-8d1d-1a247963fd63');\n",
       "var x = new MutationObserver(function (mutations, observer) {{\n",
       "        var display = window.getComputedStyle(gd).display;\n",
       "        if (!display || display === 'none') {{\n",
       "            console.log([gd, 'removed!']);\n",
       "            Plotly.purge(gd);\n",
       "            observer.disconnect();\n",
       "        }}\n",
       "}});\n",
       "\n",
       "// Listen for the removal of the full notebook cells\n",
       "var notebookContainer = gd.closest('#notebook-container');\n",
       "if (notebookContainer) {{\n",
       "    x.observe(notebookContainer, {childList: true});\n",
       "}}\n",
       "\n",
       "// Listen for the clearing of the current output cell\n",
       "var outputEl = gd.closest('.output');\n",
       "if (outputEl) {{\n",
       "    x.observe(outputEl, {childList: true});\n",
       "}}\n",
       "\n",
       "                        })                };                });            </script>        </div>"
      ]
     },
     "metadata": {},
     "output_type": "display_data"
    }
   ],
   "source": [
    "long_emp_sal = emp_sal.melt(id_vars=\"employment_type\", var_name=\"stats\", value_name=\"salary\")\n",
    "px.treemap(long_emp_sal, names=\"employment_type\",\n",
    "           path=[\"employment_type\", \"stats\", \"salary\"],\n",
    "          color=\"salary\", color_continuous_scale=\"phase_r\")"
   ]
  },
  {
   "cell_type": "code",
   "execution_count": 16,
   "id": "0d2843d9",
   "metadata": {
    "execution": {
     "iopub.execute_input": "2024-01-11T04:48:56.918109Z",
     "iopub.status.busy": "2024-01-11T04:48:56.917635Z",
     "iopub.status.idle": "2024-01-11T04:48:56.957894Z",
     "shell.execute_reply": "2024-01-11T04:48:56.956766Z"
    },
    "papermill": {
     "duration": 0.065359,
     "end_time": "2024-01-11T04:48:56.960218",
     "exception": false,
     "start_time": "2024-01-11T04:48:56.894859",
     "status": "completed"
    },
    "tags": []
   },
   "outputs": [
    {
     "data": {
      "text/html": [
       "<div>                            <div id=\"194ecb61-f54c-415c-9762-ffe350380b8e\" class=\"plotly-graph-div\" style=\"height:230px; width:100%;\"></div>            <script type=\"text/javascript\">                require([\"plotly\"], function(Plotly) {                    window.PLOTLYENV=window.PLOTLYENV || {};                                    if (document.getElementById(\"194ecb61-f54c-415c-9762-ffe350380b8e\")) {                    Plotly.newPlot(                        \"194ecb61-f54c-415c-9762-ffe350380b8e\",                        [{\"colorscale\":[[0.0,\"rgb(8,48,107)\"],[0.125,\"rgb(8,81,156)\"],[0.25,\"rgb(33,113,181)\"],[0.375,\"rgb(66,146,198)\"],[0.5,\"rgb(107,174,214)\"],[0.625,\"rgb(158,202,225)\"],[0.75,\"rgb(198,219,239)\"],[0.875,\"rgb(222,235,247)\"],[1.0,\"rgb(247,251,255)\"]],\"hoverinfo\":\"none\",\"opacity\":0.75,\"showscale\":false,\"z\":[[0,0,0,0,0],[0.5,0.5,0.5,0.5,0.5],[1,1,1,1,1],[0.5,0.5,0.5,0.5,0.5],[1,1,1,1,1],[0.5,0.5,0.5,0.5,0.5]],\"type\":\"heatmap\"}],                        {\"annotations\":[{\"align\":\"left\",\"font\":{\"color\":\"#ffffff\"},\"showarrow\":false,\"text\":\"\\u003cb\\u003ejob_title\\u003c\\u002fb\\u003e\",\"x\":-0.45,\"xanchor\":\"left\",\"xref\":\"x\",\"y\":0,\"yref\":\"y\"},{\"align\":\"left\",\"font\":{\"color\":\"#ffffff\"},\"showarrow\":false,\"text\":\"\\u003cb\\u003emean\\u003c\\u002fb\\u003e\",\"x\":0.55,\"xanchor\":\"left\",\"xref\":\"x\",\"y\":0,\"yref\":\"y\"},{\"align\":\"left\",\"font\":{\"color\":\"#ffffff\"},\"showarrow\":false,\"text\":\"\\u003cb\\u003estd\\u003c\\u002fb\\u003e\",\"x\":1.55,\"xanchor\":\"left\",\"xref\":\"x\",\"y\":0,\"yref\":\"y\"},{\"align\":\"left\",\"font\":{\"color\":\"#ffffff\"},\"showarrow\":false,\"text\":\"\\u003cb\\u003emax\\u003c\\u002fb\\u003e\",\"x\":2.55,\"xanchor\":\"left\",\"xref\":\"x\",\"y\":0,\"yref\":\"y\"},{\"align\":\"left\",\"font\":{\"color\":\"#ffffff\"},\"showarrow\":false,\"text\":\"\\u003cb\\u003emin\\u003c\\u002fb\\u003e\",\"x\":3.55,\"xanchor\":\"left\",\"xref\":\"x\",\"y\":0,\"yref\":\"y\"},{\"align\":\"left\",\"font\":{\"color\":\"#000000\"},\"showarrow\":false,\"text\":\"Data Science Tech Lead\",\"x\":-0.45,\"xanchor\":\"left\",\"xref\":\"x\",\"y\":1,\"yref\":\"y\"},{\"align\":\"left\",\"font\":{\"color\":\"#000000\"},\"showarrow\":false,\"text\":\"375000.0\",\"x\":0.55,\"xanchor\":\"left\",\"xref\":\"x\",\"y\":1,\"yref\":\"y\"},{\"align\":\"left\",\"font\":{\"color\":\"#000000\"},\"showarrow\":false,\"text\":\"nan\",\"x\":1.55,\"xanchor\":\"left\",\"xref\":\"x\",\"y\":1,\"yref\":\"y\"},{\"align\":\"left\",\"font\":{\"color\":\"#000000\"},\"showarrow\":false,\"text\":\"375000\",\"x\":2.55,\"xanchor\":\"left\",\"xref\":\"x\",\"y\":1,\"yref\":\"y\"},{\"align\":\"left\",\"font\":{\"color\":\"#000000\"},\"showarrow\":false,\"text\":\"375000\",\"x\":3.55,\"xanchor\":\"left\",\"xref\":\"x\",\"y\":1,\"yref\":\"y\"},{\"align\":\"left\",\"font\":{\"color\":\"#000000\"},\"showarrow\":false,\"text\":\"Cloud Data Architect\",\"x\":-0.45,\"xanchor\":\"left\",\"xref\":\"x\",\"y\":2,\"yref\":\"y\"},{\"align\":\"left\",\"font\":{\"color\":\"#000000\"},\"showarrow\":false,\"text\":\"250000.0\",\"x\":0.55,\"xanchor\":\"left\",\"xref\":\"x\",\"y\":2,\"yref\":\"y\"},{\"align\":\"left\",\"font\":{\"color\":\"#000000\"},\"showarrow\":false,\"text\":\"nan\",\"x\":1.55,\"xanchor\":\"left\",\"xref\":\"x\",\"y\":2,\"yref\":\"y\"},{\"align\":\"left\",\"font\":{\"color\":\"#000000\"},\"showarrow\":false,\"text\":\"250000\",\"x\":2.55,\"xanchor\":\"left\",\"xref\":\"x\",\"y\":2,\"yref\":\"y\"},{\"align\":\"left\",\"font\":{\"color\":\"#000000\"},\"showarrow\":false,\"text\":\"250000\",\"x\":3.55,\"xanchor\":\"left\",\"xref\":\"x\",\"y\":2,\"yref\":\"y\"},{\"align\":\"left\",\"font\":{\"color\":\"#000000\"},\"showarrow\":false,\"text\":\"Data Lead\",\"x\":-0.45,\"xanchor\":\"left\",\"xref\":\"x\",\"y\":3,\"yref\":\"y\"},{\"align\":\"left\",\"font\":{\"color\":\"#000000\"},\"showarrow\":false,\"text\":\"212500.0\",\"x\":0.55,\"xanchor\":\"left\",\"xref\":\"x\",\"y\":3,\"yref\":\"y\"},{\"align\":\"left\",\"font\":{\"color\":\"#000000\"},\"showarrow\":false,\"text\":\"17677.67\",\"x\":1.55,\"xanchor\":\"left\",\"xref\":\"x\",\"y\":3,\"yref\":\"y\"},{\"align\":\"left\",\"font\":{\"color\":\"#000000\"},\"showarrow\":false,\"text\":\"225000\",\"x\":2.55,\"xanchor\":\"left\",\"xref\":\"x\",\"y\":3,\"yref\":\"y\"},{\"align\":\"left\",\"font\":{\"color\":\"#000000\"},\"showarrow\":false,\"text\":\"200000\",\"x\":3.55,\"xanchor\":\"left\",\"xref\":\"x\",\"y\":3,\"yref\":\"y\"},{\"align\":\"left\",\"font\":{\"color\":\"#000000\"},\"showarrow\":false,\"text\":\"Data Analytics Lead\",\"x\":-0.45,\"xanchor\":\"left\",\"xref\":\"x\",\"y\":4,\"yref\":\"y\"},{\"align\":\"left\",\"font\":{\"color\":\"#000000\"},\"showarrow\":false,\"text\":\"211254.5\",\"x\":0.55,\"xanchor\":\"left\",\"xref\":\"x\",\"y\":4,\"yref\":\"y\"},{\"align\":\"left\",\"font\":{\"color\":\"#000000\"},\"showarrow\":false,\"text\":\"273997.51\",\"x\":1.55,\"xanchor\":\"left\",\"xref\":\"x\",\"y\":4,\"yref\":\"y\"},{\"align\":\"left\",\"font\":{\"color\":\"#000000\"},\"showarrow\":false,\"text\":\"405000\",\"x\":2.55,\"xanchor\":\"left\",\"xref\":\"x\",\"y\":4,\"yref\":\"y\"},{\"align\":\"left\",\"font\":{\"color\":\"#000000\"},\"showarrow\":false,\"text\":\"17509\",\"x\":3.55,\"xanchor\":\"left\",\"xref\":\"x\",\"y\":4,\"yref\":\"y\"},{\"align\":\"left\",\"font\":{\"color\":\"#000000\"},\"showarrow\":false,\"text\":\"Principal Data Scientist\",\"x\":-0.45,\"xanchor\":\"left\",\"xref\":\"x\",\"y\":5,\"yref\":\"y\"},{\"align\":\"left\",\"font\":{\"color\":\"#000000\"},\"showarrow\":false,\"text\":\"198171.12\",\"x\":0.55,\"xanchor\":\"left\",\"xref\":\"x\",\"y\":5,\"yref\":\"y\"},{\"align\":\"left\",\"font\":{\"color\":\"#000000\"},\"showarrow\":false,\"text\":\"99306.05\",\"x\":1.55,\"xanchor\":\"left\",\"xref\":\"x\",\"y\":5,\"yref\":\"y\"},{\"align\":\"left\",\"font\":{\"color\":\"#000000\"},\"showarrow\":false,\"text\":\"416000\",\"x\":2.55,\"xanchor\":\"left\",\"xref\":\"x\",\"y\":5,\"yref\":\"y\"},{\"align\":\"left\",\"font\":{\"color\":\"#000000\"},\"showarrow\":false,\"text\":\"85847\",\"x\":3.55,\"xanchor\":\"left\",\"xref\":\"x\",\"y\":5,\"yref\":\"y\"}],\"height\":230,\"margin\":{\"b\":0,\"l\":0,\"r\":0,\"t\":0},\"xaxis\":{\"dtick\":1,\"gridwidth\":2,\"showticklabels\":false,\"tick0\":-0.5,\"ticks\":\"\",\"zeroline\":false},\"yaxis\":{\"autorange\":\"reversed\",\"dtick\":1,\"gridwidth\":2,\"showticklabels\":false,\"tick0\":0.5,\"ticks\":\"\",\"zeroline\":false},\"template\":{\"data\":{\"histogram2dcontour\":[{\"type\":\"histogram2dcontour\",\"colorbar\":{\"outlinewidth\":0,\"ticks\":\"\"},\"colorscale\":[[0.0,\"#0d0887\"],[0.1111111111111111,\"#46039f\"],[0.2222222222222222,\"#7201a8\"],[0.3333333333333333,\"#9c179e\"],[0.4444444444444444,\"#bd3786\"],[0.5555555555555556,\"#d8576b\"],[0.6666666666666666,\"#ed7953\"],[0.7777777777777778,\"#fb9f3a\"],[0.8888888888888888,\"#fdca26\"],[1.0,\"#f0f921\"]]}],\"choropleth\":[{\"type\":\"choropleth\",\"colorbar\":{\"outlinewidth\":0,\"ticks\":\"\"}}],\"histogram2d\":[{\"type\":\"histogram2d\",\"colorbar\":{\"outlinewidth\":0,\"ticks\":\"\"},\"colorscale\":[[0.0,\"#0d0887\"],[0.1111111111111111,\"#46039f\"],[0.2222222222222222,\"#7201a8\"],[0.3333333333333333,\"#9c179e\"],[0.4444444444444444,\"#bd3786\"],[0.5555555555555556,\"#d8576b\"],[0.6666666666666666,\"#ed7953\"],[0.7777777777777778,\"#fb9f3a\"],[0.8888888888888888,\"#fdca26\"],[1.0,\"#f0f921\"]]}],\"heatmap\":[{\"type\":\"heatmap\",\"colorbar\":{\"outlinewidth\":0,\"ticks\":\"\"},\"colorscale\":[[0.0,\"#0d0887\"],[0.1111111111111111,\"#46039f\"],[0.2222222222222222,\"#7201a8\"],[0.3333333333333333,\"#9c179e\"],[0.4444444444444444,\"#bd3786\"],[0.5555555555555556,\"#d8576b\"],[0.6666666666666666,\"#ed7953\"],[0.7777777777777778,\"#fb9f3a\"],[0.8888888888888888,\"#fdca26\"],[1.0,\"#f0f921\"]]}],\"heatmapgl\":[{\"type\":\"heatmapgl\",\"colorbar\":{\"outlinewidth\":0,\"ticks\":\"\"},\"colorscale\":[[0.0,\"#0d0887\"],[0.1111111111111111,\"#46039f\"],[0.2222222222222222,\"#7201a8\"],[0.3333333333333333,\"#9c179e\"],[0.4444444444444444,\"#bd3786\"],[0.5555555555555556,\"#d8576b\"],[0.6666666666666666,\"#ed7953\"],[0.7777777777777778,\"#fb9f3a\"],[0.8888888888888888,\"#fdca26\"],[1.0,\"#f0f921\"]]}],\"contourcarpet\":[{\"type\":\"contourcarpet\",\"colorbar\":{\"outlinewidth\":0,\"ticks\":\"\"}}],\"contour\":[{\"type\":\"contour\",\"colorbar\":{\"outlinewidth\":0,\"ticks\":\"\"},\"colorscale\":[[0.0,\"#0d0887\"],[0.1111111111111111,\"#46039f\"],[0.2222222222222222,\"#7201a8\"],[0.3333333333333333,\"#9c179e\"],[0.4444444444444444,\"#bd3786\"],[0.5555555555555556,\"#d8576b\"],[0.6666666666666666,\"#ed7953\"],[0.7777777777777778,\"#fb9f3a\"],[0.8888888888888888,\"#fdca26\"],[1.0,\"#f0f921\"]]}],\"surface\":[{\"type\":\"surface\",\"colorbar\":{\"outlinewidth\":0,\"ticks\":\"\"},\"colorscale\":[[0.0,\"#0d0887\"],[0.1111111111111111,\"#46039f\"],[0.2222222222222222,\"#7201a8\"],[0.3333333333333333,\"#9c179e\"],[0.4444444444444444,\"#bd3786\"],[0.5555555555555556,\"#d8576b\"],[0.6666666666666666,\"#ed7953\"],[0.7777777777777778,\"#fb9f3a\"],[0.8888888888888888,\"#fdca26\"],[1.0,\"#f0f921\"]]}],\"mesh3d\":[{\"type\":\"mesh3d\",\"colorbar\":{\"outlinewidth\":0,\"ticks\":\"\"}}],\"scatter\":[{\"fillpattern\":{\"fillmode\":\"overlay\",\"size\":10,\"solidity\":0.2},\"type\":\"scatter\"}],\"parcoords\":[{\"type\":\"parcoords\",\"line\":{\"colorbar\":{\"outlinewidth\":0,\"ticks\":\"\"}}}],\"scatterpolargl\":[{\"type\":\"scatterpolargl\",\"marker\":{\"colorbar\":{\"outlinewidth\":0,\"ticks\":\"\"}}}],\"bar\":[{\"error_x\":{\"color\":\"#2a3f5f\"},\"error_y\":{\"color\":\"#2a3f5f\"},\"marker\":{\"line\":{\"color\":\"#E5ECF6\",\"width\":0.5},\"pattern\":{\"fillmode\":\"overlay\",\"size\":10,\"solidity\":0.2}},\"type\":\"bar\"}],\"scattergeo\":[{\"type\":\"scattergeo\",\"marker\":{\"colorbar\":{\"outlinewidth\":0,\"ticks\":\"\"}}}],\"scatterpolar\":[{\"type\":\"scatterpolar\",\"marker\":{\"colorbar\":{\"outlinewidth\":0,\"ticks\":\"\"}}}],\"histogram\":[{\"marker\":{\"pattern\":{\"fillmode\":\"overlay\",\"size\":10,\"solidity\":0.2}},\"type\":\"histogram\"}],\"scattergl\":[{\"type\":\"scattergl\",\"marker\":{\"colorbar\":{\"outlinewidth\":0,\"ticks\":\"\"}}}],\"scatter3d\":[{\"type\":\"scatter3d\",\"line\":{\"colorbar\":{\"outlinewidth\":0,\"ticks\":\"\"}},\"marker\":{\"colorbar\":{\"outlinewidth\":0,\"ticks\":\"\"}}}],\"scattermapbox\":[{\"type\":\"scattermapbox\",\"marker\":{\"colorbar\":{\"outlinewidth\":0,\"ticks\":\"\"}}}],\"scatterternary\":[{\"type\":\"scatterternary\",\"marker\":{\"colorbar\":{\"outlinewidth\":0,\"ticks\":\"\"}}}],\"scattercarpet\":[{\"type\":\"scattercarpet\",\"marker\":{\"colorbar\":{\"outlinewidth\":0,\"ticks\":\"\"}}}],\"carpet\":[{\"aaxis\":{\"endlinecolor\":\"#2a3f5f\",\"gridcolor\":\"white\",\"linecolor\":\"white\",\"minorgridcolor\":\"white\",\"startlinecolor\":\"#2a3f5f\"},\"baxis\":{\"endlinecolor\":\"#2a3f5f\",\"gridcolor\":\"white\",\"linecolor\":\"white\",\"minorgridcolor\":\"white\",\"startlinecolor\":\"#2a3f5f\"},\"type\":\"carpet\"}],\"table\":[{\"cells\":{\"fill\":{\"color\":\"#EBF0F8\"},\"line\":{\"color\":\"white\"}},\"header\":{\"fill\":{\"color\":\"#C8D4E3\"},\"line\":{\"color\":\"white\"}},\"type\":\"table\"}],\"barpolar\":[{\"marker\":{\"line\":{\"color\":\"#E5ECF6\",\"width\":0.5},\"pattern\":{\"fillmode\":\"overlay\",\"size\":10,\"solidity\":0.2}},\"type\":\"barpolar\"}],\"pie\":[{\"automargin\":true,\"type\":\"pie\"}]},\"layout\":{\"autotypenumbers\":\"strict\",\"colorway\":[\"#636efa\",\"#EF553B\",\"#00cc96\",\"#ab63fa\",\"#FFA15A\",\"#19d3f3\",\"#FF6692\",\"#B6E880\",\"#FF97FF\",\"#FECB52\"],\"font\":{\"color\":\"#2a3f5f\"},\"hovermode\":\"closest\",\"hoverlabel\":{\"align\":\"left\"},\"paper_bgcolor\":\"white\",\"plot_bgcolor\":\"#E5ECF6\",\"polar\":{\"bgcolor\":\"#E5ECF6\",\"angularaxis\":{\"gridcolor\":\"white\",\"linecolor\":\"white\",\"ticks\":\"\"},\"radialaxis\":{\"gridcolor\":\"white\",\"linecolor\":\"white\",\"ticks\":\"\"}},\"ternary\":{\"bgcolor\":\"#E5ECF6\",\"aaxis\":{\"gridcolor\":\"white\",\"linecolor\":\"white\",\"ticks\":\"\"},\"baxis\":{\"gridcolor\":\"white\",\"linecolor\":\"white\",\"ticks\":\"\"},\"caxis\":{\"gridcolor\":\"white\",\"linecolor\":\"white\",\"ticks\":\"\"}},\"coloraxis\":{\"colorbar\":{\"outlinewidth\":0,\"ticks\":\"\"}},\"colorscale\":{\"sequential\":[[0.0,\"#0d0887\"],[0.1111111111111111,\"#46039f\"],[0.2222222222222222,\"#7201a8\"],[0.3333333333333333,\"#9c179e\"],[0.4444444444444444,\"#bd3786\"],[0.5555555555555556,\"#d8576b\"],[0.6666666666666666,\"#ed7953\"],[0.7777777777777778,\"#fb9f3a\"],[0.8888888888888888,\"#fdca26\"],[1.0,\"#f0f921\"]],\"sequentialminus\":[[0.0,\"#0d0887\"],[0.1111111111111111,\"#46039f\"],[0.2222222222222222,\"#7201a8\"],[0.3333333333333333,\"#9c179e\"],[0.4444444444444444,\"#bd3786\"],[0.5555555555555556,\"#d8576b\"],[0.6666666666666666,\"#ed7953\"],[0.7777777777777778,\"#fb9f3a\"],[0.8888888888888888,\"#fdca26\"],[1.0,\"#f0f921\"]],\"diverging\":[[0,\"#8e0152\"],[0.1,\"#c51b7d\"],[0.2,\"#de77ae\"],[0.3,\"#f1b6da\"],[0.4,\"#fde0ef\"],[0.5,\"#f7f7f7\"],[0.6,\"#e6f5d0\"],[0.7,\"#b8e186\"],[0.8,\"#7fbc41\"],[0.9,\"#4d9221\"],[1,\"#276419\"]]},\"xaxis\":{\"gridcolor\":\"white\",\"linecolor\":\"white\",\"ticks\":\"\",\"title\":{\"standoff\":15},\"zerolinecolor\":\"white\",\"automargin\":true,\"zerolinewidth\":2},\"yaxis\":{\"gridcolor\":\"white\",\"linecolor\":\"white\",\"ticks\":\"\",\"title\":{\"standoff\":15},\"zerolinecolor\":\"white\",\"automargin\":true,\"zerolinewidth\":2},\"scene\":{\"xaxis\":{\"backgroundcolor\":\"#E5ECF6\",\"gridcolor\":\"white\",\"linecolor\":\"white\",\"showbackground\":true,\"ticks\":\"\",\"zerolinecolor\":\"white\",\"gridwidth\":2},\"yaxis\":{\"backgroundcolor\":\"#E5ECF6\",\"gridcolor\":\"white\",\"linecolor\":\"white\",\"showbackground\":true,\"ticks\":\"\",\"zerolinecolor\":\"white\",\"gridwidth\":2},\"zaxis\":{\"backgroundcolor\":\"#E5ECF6\",\"gridcolor\":\"white\",\"linecolor\":\"white\",\"showbackground\":true,\"ticks\":\"\",\"zerolinecolor\":\"white\",\"gridwidth\":2}},\"shapedefaults\":{\"line\":{\"color\":\"#2a3f5f\"}},\"annotationdefaults\":{\"arrowcolor\":\"#2a3f5f\",\"arrowhead\":0,\"arrowwidth\":1},\"geo\":{\"bgcolor\":\"white\",\"landcolor\":\"#E5ECF6\",\"subunitcolor\":\"white\",\"showland\":true,\"showlakes\":true,\"lakecolor\":\"white\"},\"title\":{\"x\":0.05},\"mapbox\":{\"style\":\"light\"}}}},                        {\"responsive\": true}                    ).then(function(){\n",
       "                            \n",
       "var gd = document.getElementById('194ecb61-f54c-415c-9762-ffe350380b8e');\n",
       "var x = new MutationObserver(function (mutations, observer) {{\n",
       "        var display = window.getComputedStyle(gd).display;\n",
       "        if (!display || display === 'none') {{\n",
       "            console.log([gd, 'removed!']);\n",
       "            Plotly.purge(gd);\n",
       "            observer.disconnect();\n",
       "        }}\n",
       "}});\n",
       "\n",
       "// Listen for the removal of the full notebook cells\n",
       "var notebookContainer = gd.closest('#notebook-container');\n",
       "if (notebookContainer) {{\n",
       "    x.observe(notebookContainer, {childList: true});\n",
       "}}\n",
       "\n",
       "// Listen for the clearing of the current output cell\n",
       "var outputEl = gd.closest('.output');\n",
       "if (outputEl) {{\n",
       "    x.observe(outputEl, {childList: true});\n",
       "}}\n",
       "\n",
       "                        })                };                });            </script>        </div>"
      ]
     },
     "metadata": {},
     "output_type": "display_data"
    }
   ],
   "source": [
    "#job title and salary\n",
    "job_sal = round(ds.groupby(\"job_title\")[\"salary_in_usd\"].agg([\"mean\", \"std\", \"max\", \"min\"]).reset_index(),2\n",
    "               ).sort_values(\"mean\", ascending=False)\n",
    "ff.create_table(job_sal.head(), \"blues_r\")"
   ]
  },
  {
   "cell_type": "code",
   "execution_count": 17,
   "id": "b83c8466",
   "metadata": {
    "execution": {
     "iopub.execute_input": "2024-01-11T04:48:57.007299Z",
     "iopub.status.busy": "2024-01-11T04:48:57.005306Z",
     "iopub.status.idle": "2024-01-11T04:48:57.318408Z",
     "shell.execute_reply": "2024-01-11T04:48:57.317399Z"
    },
    "papermill": {
     "duration": 0.340211,
     "end_time": "2024-01-11T04:48:57.322229",
     "exception": false,
     "start_time": "2024-01-11T04:48:56.982018",
     "status": "completed"
    },
    "tags": []
   },
   "outputs": [
    {
     "data": {
      "text/html": [
       "<div>                            <div id=\"9325f1c7-b9a1-42d0-bd8f-9a6478188af3\" class=\"plotly-graph-div\" style=\"height:1000px; width:100%;\"></div>            <script type=\"text/javascript\">                require([\"plotly\"], function(Plotly) {                    window.PLOTLYENV=window.PLOTLYENV || {};                                    if (document.getElementById(\"9325f1c7-b9a1-42d0-bd8f-9a6478188af3\")) {                    Plotly.newPlot(                        \"9325f1c7-b9a1-42d0-bd8f-9a6478188af3\",                        [{\"branchvalues\":\"total\",\"customdata\":[[\"BI Developer\"],[\"Business Data Analyst\"],[\"Data Quality Analyst\"],[\"Machine Learning Manager\"],[\"Machine Learning Infrastructure Engineer\"],[\"Applied Data Scientist\"],[\"Principal Data Engineer\"],[\"Lead Machine Learning Engineer\"],[\"Applied Machine Learning Engineer\"],[\"Computer Vision Software Engineer\"],[\"Applied Machine Learning Scientist\"],[\"Computer Vision Software Engineer\"],[\"Principal Data Analyst\"],[\"Data Analytics Lead\"],[\"3D Computer Vision Researcher\"],[\"Machine Learning Scientist\"],[\"BI Analyst\"],[\"Data Operations Engineer\"],[\"BI Analyst\"],[\"Computer Vision Engineer\"],[\"Data Modeler\"],[\"Data Infrastructure Engineer\"],[\"Cloud Data Architect\"],[\"Data Quality Analyst\"],[\"BI Developer\"],[\"Data Engineer\"],[\"Data Analytics Engineer\"],[\"Big Data Architect\"],[\"Applied Data Scientist\"],[\"Data Operations Analyst\"],[\"NLP Engineer\"],[\"Data Operations Analyst\"],[\"ETL Developer\"],[\"Data Infrastructure Engineer\"],[\"Big Data Engineer\"],[\"Data Analytics Specialist\"],[\"Cloud Database Engineer\"],[\"Data Manager\"],[\"ETL Engineer\"],[\"BI Data Engineer\"],[\"Manager Data Management\"],[\"Autonomous Vehicle Technician\"],[\"Principal Data Analyst\"],[\"Head of Data Science\"],[\"Manager Data Management\"],[\"Marketing Data Engineer\"],[\"Data Operations Analyst\"],[\"AI Developer\"],[\"Head of Machine Learning\"],[\"Data Modeler\"],[\"Analytics Engineer\"],[\"Machine Learning Manager\"],[\"ML Engineer\"],[\"BI Data Analyst\"],[\"Data Operations Engineer\"],[\"Applied Data Scientist\"],[\"Staff Data Analyst\"],[\"Applied Machine Learning Scientist\"],[\"Head of Data Science\"],[\"Data Analytics Lead\"],[\"AI Scientist\"],[\"Staff Data Analyst\"],[\"Finance Data Analyst\"],[\"Data Specialist\"],[\"AI Scientist\"],[\"Data Analytics Manager\"],[\"Research Scientist\"],[\"Data Modeler\"],[\"Computer Vision Engineer\"],[\"AI Developer\"],[\"Lead Data Engineer\"],[\"Data Science Consultant\"],[\"Principal Data Engineer\"],[\"Principal Data Scientist\"],[\"Data DevOps Engineer\"],[\"AI Developer\"],[\"Power BI Developer\"],[\"Deep Learning Engineer\"],[\"Research Scientist\"],[\"Marketing Data Analyst\"],[\"Compliance Data Analyst\"],[\"Director of Data Science\"],[\"Financial Data Analyst\"],[\"Lead Machine Learning Engineer\"],[\"NLP Engineer\"],[\"Principal Data Engineer\"],[\"ETL Engineer\"],[\"Machine Learning Software Engineer\"],[\"Machine Learning Engineer\"],[\"BI Data Analyst\"],[\"Autonomous Vehicle Technician\"],[\"Data Analytics Specialist\"],[\"Data Analytics Specialist\"],[\"Machine Learning Engineer\"],[\"Product Data Analyst\"],[\"BI Developer\"],[\"AI Developer\"],[\"Data Strategist\"],[\"Applied Data Scientist\"],[\"Big Data Architect\"],[\"Deep Learning Researcher\"],[\"Data Scientist Lead\"],[\"AI Programmer\"],[\"ML Engineer\"],[\"Head of Data\"],[\"Data Science Tech Lead\"],[\"ETL Engineer\"],[\"Data Analytics Engineer\"],[\"Data Infrastructure Engineer\"],[\"Principal Data Analyst\"],[\"BI Data Analyst\"],[\"Research Scientist\"],[\"Data Analytics Consultant\"],[\"Data Strategist\"],[\"Data Architect\"],[\"3D Computer Vision Researcher\"],[\"Staff Data Scientist\"],[\"Cloud Data Engineer\"],[\"BI Analyst\"],[\"BI Data Engineer\"],[\"Machine Learning Engineer\"],[\"Data Management Specialist\"],[\"Cloud Database Engineer\"],[\"Business Intelligence Engineer\"],[\"Product Data Scientist\"],[\"Applied Machine Learning Engineer\"],[\"Principal Machine Learning Engineer\"],[\"Data Science Manager\"],[\"Data Science Engineer\"],[\"Deep Learning Engineer\"],[\"Marketing Data Analyst\"],[\"Applied Scientist\"],[\"BI Data Engineer\"],[\"Machine Learning Research Engineer\"],[\"Data Manager\"],[\"Staff Data Scientist\"],[\"Head of Data\"],[\"Data Operations Engineer\"],[\"Data DevOps Engineer\"],[\"BI Data Analyst\"],[\"Power BI Developer\"],[\"Big Data Engineer\"],[\"Data Scientist Lead\"],[\"3D Computer Vision Researcher\"],[\"Financial Data Analyst\"],[\"AI Programmer\"],[\"Data Engineer\"],[\"Data Analyst\"],[\"Computer Vision Software Engineer\"],[\"Machine Learning Engineer\"],[\"Cloud Data Architect\"],[\"Machine Learning Manager\"],[\"Lead Data Analyst\"],[\"Data Science Manager\"],[\"Data Manager\"],[\"ETL Developer\"],[\"Compliance Data Analyst\"],[\"Applied Machine Learning Engineer\"],[\"Applied Scientist\"],[\"Big Data Engineer\"],[\"Head of Data\"],[\"Financial Data Analyst\"],[\"Data Management Specialist\"],[\"MLOps Engineer\"],[\"AI Programmer\"],[\"Machine Learning Software Engineer\"],[\"Applied Machine Learning Scientist\"],[\"NLP Engineer\"],[\"Data Science Tech Lead\"],[\"ETL Developer\"],[\"Compliance Data Analyst\"],[\"Applied Machine Learning Engineer\"],[\"BI Developer\"],[\"Computer Vision Engineer\"],[\"Data Management Specialist\"],[\"Lead Data Scientist\"],[\"Lead Data Engineer\"],[\"Computer Vision Engineer\"],[\"Data Science Manager\"],[\"Azure Data Engineer\"],[\"MLOps Engineer\"],[\"Data Science Engineer\"],[\"Business Intelligence Engineer\"],[\"Applied Scientist\"],[\"Head of Data Science\"],[\"Computer Vision Software Engineer\"],[\"NLP Engineer\"],[\"ETL Developer\"],[\"Data Strategist\"],[\"Data Operations Engineer\"],[\"Data Analytics Manager\"],[\"Machine Learning Manager\"],[\"Data Analytics Specialist\"],[\"Data Lead\"],[\"BI Data Analyst\"],[\"Applied Machine Learning Scientist\"],[\"Software Data Engineer\"],[\"Cloud Data Architect\"],[\"Cloud Database Engineer\"],[\"Data Architect\"],[\"Data Scientist Lead\"],[\"Applied Scientist\"],[\"Data Architect\"],[\"Machine Learning Researcher\"],[\"Lead Data Engineer\"],[\"Business Data Analyst\"],[\"Deep Learning Researcher\"],[\"Data Analytics Manager\"],[\"Lead Data Analyst\"],[\"Data Analytics Consultant\"],[\"Data Lead\"],[\"Data Analytics Lead\"],[\"Software Data Engineer\"],[\"Data Operations Analyst\"],[\"Data Scientist\"],[\"Machine Learning Scientist\"],[\"Data Science Lead\"],[\"Staff Data Analyst\"],[\"Machine Learning Infrastructure Engineer\"],[\"Deep Learning Engineer\"],[\"Deep Learning Engineer\"],[\"Data Scientist\"],[\"Applied Machine Learning Scientist\"],[\"Machine Learning Developer\"],[\"Data Science Consultant\"],[\"Business Intelligence Engineer\"],[\"Head of Machine Learning\"],[\"AI Scientist\"],[\"Data Science Manager\"],[\"Autonomous Vehicle Technician\"],[\"Manager Data Management\"],[\"Marketing Data Engineer\"],[\"Data Scientist Lead\"],[\"Product Data Analyst\"],[\"Data Architect\"],[\"AI Developer\"],[\"Product Data Scientist\"],[\"Data Quality Analyst\"],[\"Principal Machine Learning Engineer\"],[\"Research Engineer\"],[\"Lead Data Engineer\"],[\"Data Analytics Lead\"],[\"Lead Data Analyst\"],[\"Principal Data Architect\"],[\"Data Strategist\"],[\"Machine Learning Researcher\"],[\"Machine Learning Research Engineer\"],[\"Autonomous Vehicle Technician\"],[\"Principal Data Architect\"],[\"Principal Data Scientist\"],[\"Cloud Data Engineer\"],[\"Product Data Analyst\"],[\"Research Engineer\"],[\"Machine Learning Researcher\"],[\"Marketing Data Analyst\"],[\"Data Analytics Engineer\"],[\"Data Science Lead\"],[\"Machine Learning Scientist\"],[\"ETL Engineer\"],[\"Data Specialist\"],[\"MLOps Engineer\"],[\"Data Specialist\"],[\"Machine Learning Research Engineer\"],[\"Data Science Tech Lead\"],[\"Azure Data Engineer\"],[\"Applied Scientist\"],[\"Machine Learning Developer\"],[\"Business Data Analyst\"],[\"Data Lead\"],[\"Machine Learning Developer\"],[\"AI Scientist\"],[\"Finance Data Analyst\"],[\"Machine Learning Research Engineer\"],[\"Principal Data Architect\"],[\"Data Scientist\"],[\"Data Science Engineer\"],[\"Principal Data Engineer\"],[\"AI Scientist\"],[\"Director of Data Science\"],[\"Financial Data Analyst\"],[\"Principal Data Scientist\"],[\"Machine Learning Scientist\"],[\"BI Data Engineer\"],[\"Staff Data Scientist\"],[\"Machine Learning Software Engineer\"],[\"Lead Data Scientist\"],[\"BI Developer\"],[\"Product Data Analyst\"],[\"Azure Data Engineer\"],[\"Data Specialist\"],[\"Big Data Architect\"],[\"Data Analytics Consultant\"],[\"Lead Data Scientist\"],[\"Deep Learning Researcher\"],[\"Analytics Engineer\"],[\"3D Computer Vision Researcher\"],[\"Data DevOps Engineer\"],[\"Cloud Database Engineer\"],[\"Autonomous Vehicle Technician\"],[\"Machine Learning Software Engineer\"],[\"Head of Data\"],[\"Data Analyst\"],[\"Insight Analyst\"],[\"Principal Data Analyst\"],[\"ML Engineer\"],[\"Finance Data Analyst\"],[\"Lead Data Scientist\"],[\"Business Intelligence Engineer\"],[\"BI Analyst\"],[\"Director of Data Science\"],[\"Data Engineer\"],[\"Data Engineer\"],[\"Machine Learning Infrastructure Engineer\"],[\"Software Data Engineer\"],[\"3D Computer Vision Researcher\"],[\"Data Manager\"],[\"Data Analytics Manager\"],[\"Data Analyst\"],[\"Data Quality Analyst\"],[\"Data Scientist\"],[\"Cloud Data Engineer\"],[\"Business Data Analyst\"],[\"Data Analytics Engineer\"],[\"Cloud Data Engineer\"],[\"Software Data Engineer\"],[\"Data Science Lead\"],[\"Data Lead\"],[\"Applied Data Scientist\"],[\"Lead Machine Learning Engineer\"],[\"BI Analyst\"],[\"Data Analytics Consultant\"],[\"Analytics Engineer\"],[\"Data Science Consultant\"],[\"Machine Learning Infrastructure Engineer\"],[\"Lead Data Analyst\"],[\"Data Modeler\"],[\"Power BI Developer\"],[\"Director of Data Science\"],[\"Machine Learning Researcher\"],[\"Research Engineer\"],[\"Lead Machine Learning Engineer\"],[\"Insight Analyst\"],[\"Big Data Engineer\"],[\"Machine Learning Developer\"],[\"Insight Analyst\"],[\"Business Data Analyst\"],[\"Head of Data Science\"],[\"Applied Machine Learning Engineer\"],[\"Data Analyst\"],[\"ML Engineer\"],[\"Data Science Consultant\"],[\"Big Data Engineer\"],[\"Analytics Engineer\"],[\"Data Infrastructure Engineer\"],[\"Analytics Engineer\"],[\"Big Data Architect\"],[\"Product Data Scientist\"],[\"Principal Machine Learning Engineer\"],[\"AI Programmer\"],[\"Azure Data Engineer\"],[\"Data Science Engineer\"],[\"Head of Machine Learning\"],[\"Marketing Data Analyst\"],[\"AI Programmer\"],[\"Insight Analyst\"],[\"Principal Data Scientist\"],[\"Data Science Lead\"],[\"Big Data Architect\"],[\"Research Scientist\"],[\"MLOps Engineer\"],[\"Research Engineer\"],[\"Marketing Data Engineer\"],[\"Business Intelligence Engineer\"],[\"Cloud Data Architect\"],[\"Cloud Data Engineer\"],[\"Cloud Database Engineer\"],[\"Compliance Data Analyst\"],[\"Computer Vision Engineer\"],[\"Computer Vision Software Engineer\"],[\"Data Analyst\"],[\"Data Analytics Consultant\"],[\"Data Analytics Engineer\"],[\"Data Analytics Lead\"],[\"Data Analytics Manager\"],[\"Data Analytics Specialist\"],[\"Data Architect\"],[\"Data DevOps Engineer\"],[\"Data Engineer\"],[\"Data Infrastructure Engineer\"],[\"Data Lead\"],[\"Data Management Specialist\"],[\"Data Manager\"],[\"Data Modeler\"],[\"Data Operations Analyst\"],[\"Data Operations Engineer\"],[\"Data Quality Analyst\"],[\"Data Science Consultant\"],[\"Data Science Engineer\"],[\"Data Science Lead\"],[\"Data Science Manager\"],[\"Data Science Tech Lead\"],[\"Data Scientist\"],[\"Data Scientist Lead\"],[\"Data Specialist\"],[\"Data Strategist\"],[\"Deep Learning Engineer\"],[\"Deep Learning Researcher\"],[\"Director of Data Science\"],[\"ETL Developer\"],[\"ETL Engineer\"],[\"Finance Data Analyst\"],[\"Financial Data Analyst\"],[\"Head of Data\"],[\"Head of Data Science\"],[\"Head of Machine Learning\"],[\"Insight Analyst\"],[\"Lead Data Analyst\"],[\"Lead Data Engineer\"],[\"Lead Data Scientist\"],[\"Lead Machine Learning Engineer\"],[\"ML Engineer\"],[\"MLOps Engineer\"],[\"Machine Learning Developer\"],[\"Machine Learning Engineer\"],[\"Machine Learning Infrastructure Engineer\"],[\"Machine Learning Manager\"],[\"Machine Learning Research Engineer\"],[\"Machine Learning Researcher\"],[\"Machine Learning Scientist\"],[\"Machine Learning Software Engineer\"],[\"Manager Data Management\"],[\"Marketing Data Analyst\"],[\"Marketing Data Engineer\"],[\"NLP Engineer\"],[\"Power BI Developer\"],[\"Principal Data Analyst\"],[\"Principal Data Architect\"],[\"Principal Data Engineer\"],[\"Principal Data Scientist\"],[\"Principal Machine Learning Engineer\"],[\"Product Data Analyst\"],[\"Product Data Scientist\"],[\"Research Engineer\"],[\"Research Scientist\"],[\"Software Data Engineer\"],[\"Staff Data Analyst\"],[\"Staff Data Scientist\"],[\"3D Computer Vision Researcher\"],[\"AI Developer\"],[\"AI Programmer\"],[\"AI Scientist\"],[\"Analytics Engineer\"],[\"Applied Data Scientist\"],[\"Applied Machine Learning Engineer\"],[\"Applied Machine Learning Scientist\"],[\"Applied Scientist\"],[\"Autonomous Vehicle Technician\"],[\"Azure Data Engineer\"],[\"BI Analyst\"],[\"BI Data Analyst\"],[\"BI Data Engineer\"],[\"BI Developer\"],[\"Big Data Architect\"],[\"Big Data Engineer\"],[\"Business Data Analyst\"],[\"Business Intelligence Engineer\"],[\"Cloud Data Architect\"],[\"Cloud Data Engineer\"],[\"Cloud Database Engineer\"],[\"Compliance Data Analyst\"],[\"Computer Vision Engineer\"],[\"Computer Vision Software Engineer\"],[\"Data Analyst\"],[\"Data Analytics Consultant\"],[\"Data Analytics Engineer\"],[\"Data Analytics Lead\"],[\"Data Analytics Manager\"],[\"Data Analytics Specialist\"],[\"Data Architect\"],[\"Data DevOps Engineer\"],[\"Data Engineer\"],[\"Data Infrastructure Engineer\"],[\"Data Lead\"],[\"Data Management Specialist\"],[\"Data Manager\"],[\"Data Modeler\"],[\"Data Operations Analyst\"],[\"Data Operations Engineer\"],[\"Data Quality Analyst\"],[\"Data Science Consultant\"],[\"Data Science Engineer\"],[\"Data Science Lead\"],[\"Data Science Manager\"],[\"Data Science Tech Lead\"],[\"Data Scientist\"],[\"Data Scientist Lead\"],[\"Data Specialist\"],[\"Data Strategist\"],[\"Deep Learning Engineer\"],[\"Deep Learning Researcher\"],[\"Director of Data Science\"],[\"ETL Developer\"],[\"ETL Engineer\"],[\"Finance Data Analyst\"],[\"Financial Data Analyst\"],[\"Head of Data\"],[\"Head of Data Science\"],[\"Head of Machine Learning\"],[\"Insight Analyst\"],[\"Lead Data Analyst\"],[\"Lead Data Engineer\"],[\"Lead Data Scientist\"],[\"Lead Machine Learning Engineer\"],[\"ML Engineer\"],[\"MLOps Engineer\"],[\"Machine Learning Developer\"],[\"Machine Learning Engineer\"],[\"Machine Learning Infrastructure Engineer\"],[\"Machine Learning Manager\"],[\"Machine Learning Research Engineer\"],[\"Machine Learning Researcher\"],[\"Machine Learning Scientist\"],[\"Machine Learning Software Engineer\"],[\"Manager Data Management\"],[\"Marketing Data Analyst\"],[\"Marketing Data Engineer\"],[\"NLP Engineer\"],[\"Power BI Developer\"],[\"Principal Data Analyst\"],[\"Principal Data Architect\"],[\"Principal Data Engineer\"],[\"Principal Data Scientist\"],[\"Principal Machine Learning Engineer\"],[\"Product Data Analyst\"],[\"Product Data Scientist\"],[\"Research Engineer\"],[\"Research Scientist\"],[\"Software Data Engineer\"],[\"Staff Data Analyst\"],[\"Staff Data Scientist\"],[\"3D Computer Vision Researcher\"],[\"AI Developer\"],[\"AI Programmer\"],[\"AI Scientist\"],[\"Analytics Engineer\"],[\"Applied Data Scientist\"],[\"Applied Machine Learning Engineer\"],[\"Applied Machine Learning Scientist\"],[\"Applied Scientist\"],[\"Autonomous Vehicle Technician\"],[\"Azure Data Engineer\"],[\"BI Analyst\"],[\"BI Data Analyst\"],[\"BI Data Engineer\"],[\"BI Developer\"],[\"Big Data Architect\"],[\"Big Data Engineer\"],[\"Business Data Analyst\"],[\"Business Intelligence Engineer\"],[\"Cloud Data Architect\"],[\"Cloud Data Engineer\"],[\"Cloud Database Engineer\"],[\"Compliance Data Analyst\"],[\"Computer Vision Engineer\"],[\"Computer Vision Software Engineer\"],[\"Data Analyst\"],[\"Data Analytics Consultant\"],[\"Data Analytics Engineer\"],[\"Data Analytics Lead\"],[\"Data Analytics Manager\"],[\"Data Analytics Specialist\"],[\"Data Architect\"],[\"Data DevOps Engineer\"],[\"Data Engineer\"],[\"Data Infrastructure Engineer\"],[\"Data Lead\"],[\"Data Management Specialist\"],[\"Data Manager\"],[\"Data Modeler\"],[\"Data Operations Analyst\"],[\"Data Operations Engineer\"],[\"Data Quality Analyst\"],[\"Data Science Consultant\"],[\"Data Science Engineer\"],[\"Data Science Lead\"],[\"Data Science Manager\"],[\"Data Science Tech Lead\"],[\"Data Scientist\"],[\"Data Scientist Lead\"],[\"Data Specialist\"],[\"Data Strategist\"],[\"Deep Learning Engineer\"],[\"Deep Learning Researcher\"],[\"Director of Data Science\"],[\"ETL Developer\"],[\"ETL Engineer\"],[\"Finance Data Analyst\"],[\"Financial Data Analyst\"],[\"Head of Data\"],[\"Head of Data Science\"],[\"Head of Machine Learning\"],[\"Insight Analyst\"],[\"Lead Data Analyst\"],[\"Lead Data Engineer\"],[\"Lead Data Scientist\"],[\"Lead Machine Learning Engineer\"],[\"ML Engineer\"],[\"MLOps Engineer\"],[\"Machine Learning Developer\"],[\"Machine Learning Engineer\"],[\"Machine Learning Infrastructure Engineer\"],[\"Machine Learning Manager\"],[\"Machine Learning Research Engineer\"],[\"Machine Learning Researcher\"],[\"Machine Learning Scientist\"],[\"Machine Learning Software Engineer\"],[\"Manager Data Management\"],[\"Marketing Data Analyst\"],[\"Marketing Data Engineer\"],[\"NLP Engineer\"],[\"Power BI Developer\"],[\"Principal Data Analyst\"],[\"Principal Data Architect\"],[\"Principal Data Engineer\"],[\"Principal Data Scientist\"],[\"Principal Machine Learning Engineer\"],[\"Product Data Analyst\"],[\"Product Data Scientist\"],[\"Research Engineer\"],[\"Research Scientist\"],[\"Software Data Engineer\"],[\"Staff Data Analyst\"],[\"Staff Data Scientist\"],[\"3D Computer Vision Researcher\"],[\"AI Developer\"],[\"AI Programmer\"],[\"AI Scientist\"],[\"Analytics Engineer\"],[\"Applied Data Scientist\"],[\"Applied Machine Learning Engineer\"],[\"Applied Machine Learning Scientist\"],[\"Applied Scientist\"],[\"Autonomous Vehicle Technician\"],[\"Azure Data Engineer\"],[\"BI Analyst\"],[\"BI Data Analyst\"],[\"BI Data Engineer\"],[\"BI Developer\"],[\"Big Data Architect\"],[\"Big Data Engineer\"],[\"Business Data Analyst\"],[\"Business Intelligence Engineer\"],[\"Cloud Data Architect\"],[\"Cloud Data Engineer\"],[\"Cloud Database Engineer\"],[\"Compliance Data Analyst\"],[\"Computer Vision Engineer\"],[\"Computer Vision Software Engineer\"],[\"Data Analyst\"],[\"Data Analytics Consultant\"],[\"Data Analytics Engineer\"],[\"Data Analytics Lead\"],[\"Data Analytics Manager\"],[\"Data Analytics Specialist\"],[\"Data Architect\"],[\"Data DevOps Engineer\"],[\"Data Engineer\"],[\"Data Infrastructure Engineer\"],[\"Data Lead\"],[\"Data Management Specialist\"],[\"Data Manager\"],[\"Data Modeler\"],[\"Data Operations Analyst\"],[\"Data Operations Engineer\"],[\"Data Quality Analyst\"],[\"Data Science Consultant\"],[\"Data Science Engineer\"],[\"Data Science Lead\"],[\"Data Science Manager\"],[\"Data Science Tech Lead\"],[\"Data Scientist\"],[\"Data Scientist Lead\"],[\"Data Specialist\"],[\"Data Strategist\"],[\"Deep Learning Engineer\"],[\"Deep Learning Researcher\"],[\"Director of Data Science\"],[\"ETL Developer\"],[\"ETL Engineer\"],[\"Finance Data Analyst\"],[\"Financial Data Analyst\"],[\"Head of Data\"],[\"Head of Data Science\"],[\"Head of Machine Learning\"],[\"Insight Analyst\"],[\"Lead Data Analyst\"],[\"Lead Data Engineer\"],[\"Lead Data Scientist\"],[\"Lead Machine Learning Engineer\"],[\"ML Engineer\"],[\"MLOps Engineer\"],[\"Machine Learning Developer\"],[\"Machine Learning Engineer\"],[\"Machine Learning Infrastructure Engineer\"],[\"Machine Learning Manager\"],[\"Machine Learning Research Engineer\"],[\"Machine Learning Researcher\"],[\"Machine Learning Scientist\"],[\"Machine Learning Software Engineer\"],[\"Manager Data Management\"],[\"Marketing Data Analyst\"],[\"Marketing Data Engineer\"],[\"NLP Engineer\"],[\"Power BI Developer\"],[\"Principal Data Analyst\"],[\"Principal Data Architect\"],[\"Principal Data Engineer\"],[\"Principal Data Scientist\"],[\"Principal Machine Learning Engineer\"],[\"Product Data Analyst\"],[\"Product Data Scientist\"],[\"Research Engineer\"],[\"Research Scientist\"],[\"Software Data Engineer\"],[\"Staff Data Analyst\"],[\"Staff Data Scientist\"],[\"3D Computer Vision Researcher\"],[\"AI Developer\"],[\"AI Programmer\"],[\"AI Scientist\"],[\"Analytics Engineer\"],[\"Applied Data Scientist\"],[\"Applied Machine Learning Engineer\"],[\"Applied Machine Learning Scientist\"],[\"Applied Scientist\"],[\"Autonomous Vehicle Technician\"],[\"Azure Data Engineer\"],[\"BI Analyst\"],[\"BI Data Analyst\"],[\"BI Data Engineer\"],[\"BI Developer\"],[\"Big Data Architect\"],[\"Big Data Engineer\"],[\"Business Data Analyst\"],[\"Business Intelligence Engineer\"],[\"Cloud Data Architect\"],[\"Cloud Data Engineer\"],[\"Cloud Database Engineer\"],[\"Compliance Data Analyst\"],[\"Computer Vision Engineer\"],[\"Computer Vision Software Engineer\"],[\"Data Analyst\"],[\"Data Analytics Consultant\"],[\"Data Analytics Engineer\"],[\"Data Analytics Lead\"],[\"Data Analytics Manager\"],[\"Data Analytics Specialist\"],[\"Data Architect\"],[\"Data DevOps Engineer\"],[\"Data Engineer\"],[\"Data Infrastructure Engineer\"],[\"Data Lead\"],[\"Data Management Specialist\"],[\"Data Manager\"],[\"Data Modeler\"],[\"Data Operations Analyst\"],[\"Data Operations Engineer\"],[\"Data Quality Analyst\"],[\"Data Science Consultant\"],[\"Data Science Engineer\"],[\"Data Science Lead\"],[\"Data Science Manager\"],[\"Data Science Tech Lead\"],[\"Data Scientist\"],[\"Data Scientist Lead\"],[\"Data Specialist\"],[\"Data Strategist\"],[\"Deep Learning Engineer\"],[\"Deep Learning Researcher\"],[\"Director of Data Science\"],[\"ETL Developer\"],[\"ETL Engineer\"],[\"Finance Data Analyst\"],[\"Financial Data Analyst\"],[\"Head of Data\"],[\"Head of Data Science\"],[\"Head of Machine Learning\"],[\"Insight Analyst\"],[\"Lead Data Analyst\"],[\"Lead Data Engineer\"],[\"Lead Data Scientist\"],[\"Lead Machine Learning Engineer\"],[\"ML Engineer\"],[\"MLOps Engineer\"],[\"Machine Learning Developer\"],[\"Machine Learning Engineer\"],[\"Machine Learning Infrastructure Engineer\"],[\"Machine Learning Manager\"],[\"Machine Learning Research Engineer\"],[\"Machine Learning Researcher\"],[\"Machine Learning Scientist\"],[\"Machine Learning Software Engineer\"],[\"Manager Data Management\"],[\"Marketing Data Analyst\"],[\"Marketing Data Engineer\"],[\"NLP Engineer\"],[\"Power BI Developer\"],[\"Principal Data Analyst\"],[\"Principal Data Architect\"],[\"Principal Data Engineer\"],[\"Principal Data Scientist\"],[\"Principal Machine Learning Engineer\"],[\"Product Data Analyst\"],[\"Product Data Scientist\"],[\"Research Engineer\"],[\"Research Scientist\"],[\"Software Data Engineer\"],[\"Staff Data Analyst\"],[\"Staff Data Scientist\"]],\"domain\":{\"x\":[0.0,1.0],\"y\":[0.0,1.0]},\"hovertemplate\":\"labels=%{label}\\u003cbr\\u003ecount=%{value}\\u003cbr\\u003eparent=%{parent}\\u003cbr\\u003eid=%{id}\\u003cbr\\u003ejob_title=%{customdata[0]}\\u003cextra\\u003e\\u003c\\u002fextra\\u003e\",\"ids\":[\"BI Developer\\u002fmax\",\"Business Data Analyst\\u002fstd\\u002f46095.37\",\"Data Quality Analyst\\u002fmean\\u002f85311.43\",\"Machine Learning Manager\\u002fmean\\u002f155701.33\",\"Machine Learning Infrastructure Engineer\\u002fstd\\u002f60217.9\",\"Applied Data Scientist\\u002fstd\\u002f106294.03\",\"Principal Data Engineer\\u002fmax\\u002f200000.0\",\"Lead Machine Learning Engineer\\u002fstd\\u002f13057.42\",\"Applied Machine Learning Engineer\\u002fstd\\u002f42602.48\",\"Computer Vision Software Engineer\\u002fmean\\u002f77694.6\",\"Applied Machine Learning Scientist\\u002fmax\",\"Computer Vision Software Engineer\\u002fmax\\u002f150000.0\",\"Principal Data Analyst\\u002fmean\\u002f122500.0\",\"Data Analytics Lead\\u002fstd\\u002f273997.51\",\"3D Computer Vision Researcher\\u002fstd\\u002f20046.47\",\"Machine Learning Scientist\\u002fstd\\u002f65101.89\",\"BI Analyst\\u002fstd\\u002f57925.48\",\"Data Operations Engineer\\u002fmax\\u002f193000.0\",\"BI Analyst\\u002fmin\\u002f12000.0\",\"Computer Vision Engineer\\u002fstd\\u002f103187.88\",\"Data Modeler\\u002fmean\\u002f118900.0\",\"Data Infrastructure Engineer\\u002fstd\\u002f19230.39\",\"Cloud Data Architect\\u002fmin\\u002f250000.0\",\"Data Quality Analyst\\u002fmin\\u002f64980.0\",\"BI Developer\\u002fstd\\u002f27370.44\",\"Data Engineer\\u002fmax\\u002f324000.0\",\"Data Analytics Engineer\\u002fmean\\u002f67866.17\",\"Big Data Architect\\u002fmean\\u002f125802.5\",\"Applied Data Scientist\\u002fmin\\u002f20670.0\",\"Data Operations Analyst\\u002fmin\\u002f66000.0\",\"NLP Engineer\\u002fmax\\u002f275000.0\",\"Data Operations Analyst\\u002fmax\\u002f123000.0\",\"ETL Developer\\u002fmin\\u002f52533.0\",\"Data Infrastructure Engineer\\u002fmean\\u002f175051.67\",\"Big Data Engineer\\u002fmin\\u002f5882.0\",\"Data Analytics Specialist\\u002fmean\\u002f95000.0\",\"Cloud Database Engineer\\u002fmean\\u002f155000.0\",\"Data Manager\\u002fmin\\u002f45600.0\",\"ETL Engineer\\u002fmax\\u002f85066.0\",\"BI Data Engineer\\u002fmax\",\"Manager Data Management\\u002fmin\\u002f125000.0\",\"Autonomous Vehicle Technician\\u002fstd\\u002f27262.5\",\"Principal Data Analyst\\u002fstd\\u002f67175.14\",\"Head of Data Science\\u002fmax\\u002f314100.0\",\"Manager Data Management\\u002fmax\\u002f125000.0\",\"Marketing Data Engineer\\u002fmean\\u002f66970.0\",\"Data Operations Analyst\\u002fstd\\u002f24150.89\",\"AI Developer\\u002fmax\\u002f300000.0\",\"Head of Machine Learning\\u002fmin\\u002f76309.0\",\"Data Modeler\\u002fmax\\u002f147100.0\",\"Analytics Engineer\\u002fmax\",\"Machine Learning Manager\\u002fstd\\u002f41741.05\",\"ML Engineer\\u002fstd\\u002f76590.45\",\"BI Data Analyst\\u002fmax\\u002f150000.0\",\"Data Operations Engineer\\u002fstd\\u002f41778.48\",\"Applied Data Scientist\\u002fmax\",\"Staff Data Analyst\\u002fmean\\u002f15000.0\",\"Applied Machine Learning Scientist\\u002fmean\\u002f109452.83\",\"Head of Data Science\\u002fmin\\u002f60795.0\",\"Data Analytics Lead\\u002fmean\\u002f211254.5\",\"AI Scientist\\u002fstd\\u002f111733.54\",\"Staff Data Analyst\\u002fmin\\u002f15000.0\",\"Finance Data Analyst\\u002fmean\\u002f61896.0\",\"Data Specialist\\u002fmax\\u002f221300.0\",\"AI Scientist\\u002fmax\\u002f423834.0\",\"Data Analytics Manager\\u002fmean\\u002f141879.09\",\"Research Scientist\\u002fstd\\u002f74944.43\",\"Data Modeler\\u002fstd\\u002f39880.82\",\"Computer Vision Engineer\\u002fmean\\u002f143536.11\",\"AI Developer\\u002fmax\",\"Lead Data Engineer\\u002fstd\\u002f75026.1\",\"Data Science Consultant\\u002fstd\\u002f40182.65\",\"Principal Data Engineer\\u002fmin\\u002f185000.0\",\"Principal Data Scientist\\u002fstd\\u002f99306.05\",\"Data DevOps Engineer\\u002fmean\\u002f53654.0\",\"AI Developer\\u002fmin\\u002f6304.0\",\"Power BI Developer\\u002fmax\\u002f5409.0\",\"Deep Learning Engineer\\u002fmin\\u002f49253.0\",\"Research Scientist\\u002fmean\\u002f161214.2\",\"Marketing Data Analyst\\u002fmin\\u002f88654.0\",\"Compliance Data Analyst\\u002fmean\\u002f30000.0\",\"Director of Data Science\\u002fmax\\u002f353200.0\",\"Financial Data Analyst\\u002fmax\\u002f130000.0\",\"Lead Machine Learning Engineer\\u002fmin\\u002f69344.0\",\"NLP Engineer\\u002fstd\\u002f101547.25\",\"Principal Data Engineer\\u002fstd\\u002f10606.6\",\"ETL Engineer\\u002fmin\\u002f57723.0\",\"Machine Learning Software Engineer\\u002fmean\\u002f192420.0\",\"Machine Learning Engineer\\u002fmean\\u002f154690.73\",\"BI Data Analyst\\u002fmax\",\"Autonomous Vehicle Technician\\u002fmax\\u002f45555.0\",\"Data Analytics Specialist\\u002fmin\\u002f85000.0\",\"Data Analytics Specialist\\u002fmax\\u002f105000.0\",\"Machine Learning Engineer\\u002fmin\\u002f12000.0\",\"Product Data Analyst\\u002fstd\\u002f59888.69\",\"BI Developer\\u002fmax\\u002f197000.0\",\"AI Developer\\u002fmean\\u002f136666.09\",\"Data Strategist\\u002fmin\\u002f72000.0\",\"Applied Data Scientist\\u002fmax\\u002f380000.0\",\"Big Data Architect\\u002fstd\\u002f36910.27\",\"Deep Learning Researcher\\u002fmean\\u002f123405.0\",\"Data Scientist Lead\\u002fstd\\u002f66251.66\",\"AI Programmer\\u002fstd\\u002f21213.2\",\"ML Engineer\\u002fmax\\u002f289076.0\",\"Head of Data\\u002fmin\\u002f31520.0\",\"Data Science Tech Lead\\u002fmin\\u002f375000.0\",\"ETL Engineer\\u002fmean\\u002f71394.5\",\"Data Analytics Engineer\\u002fmax\\u002f135000.0\",\"Data Infrastructure Engineer\\u002fmin\\u002f143000.0\",\"Principal Data Analyst\\u002fmin\\u002f75000.0\",\"BI Data Analyst\\u002fstd\\u002f40026.93\",\"Research Scientist\\u002fmax\\u002f450000.0\",\"Data Analytics Consultant\\u002fmin\\u002f50000.0\",\"Data Strategist\\u002fmax\\u002f90000.0\",\"Data Architect\\u002fmean\\u002f161713.77\",\"3D Computer Vision Researcher\\u002fmin\\u002f5409.0\",\"Staff Data Scientist\\u002fmin\\u002f105000.0\",\"Cloud Data Engineer\\u002fmin\\u002f12608.0\",\"BI Analyst\\u002fmax\\u002f200000.0\",\"BI Data Engineer\\u002fmin\\u002f60000.0\",\"Machine Learning Engineer\\u002fmax\\u002f342300.0\",\"Data Management Specialist\\u002fmean\\u002f68293.0\",\"Cloud Database Engineer\\u002fstd\\u002f28722.81\",\"Business Intelligence Engineer\\u002fmin\\u002f129300.0\",\"Product Data Scientist\\u002fmax\\u002f8000.0\",\"Applied Machine Learning Engineer\\u002fmean\\u002f99875.5\",\"Principal Machine Learning Engineer\\u002fmax\\u002f190000.0\",\"Data Science Manager\\u002fmin\\u002f54094.0\",\"Data Science Engineer\\u002fstd\\u002f42737.33\",\"Deep Learning Engineer\\u002fmax\\u002f150000.0\",\"Marketing Data Analyst\\u002fstd\\u002f78733.51\",\"Applied Scientist\\u002fmax\",\"BI Data Engineer\\u002fmean\\u002f60000.0\",\"Machine Learning Research Engineer\\u002fmin\\u002f12171.0\",\"Data Manager\\u002fmax\\u002f199000.0\",\"Staff Data Scientist\\u002fmean\\u002f105000.0\",\"Head of Data\\u002fmean\\u002f183857.5\",\"Data Operations Engineer\\u002fmean\\u002f98485.0\",\"Data DevOps Engineer\\u002fmax\\u002f53654.0\",\"BI Data Analyst\\u002fmin\\u002f6270.0\",\"Power BI Developer\\u002fmean\\u002f5409.0\",\"Big Data Engineer\\u002fmax\\u002f161311.0\",\"Data Scientist Lead\\u002fmin\\u002f89306.0\",\"3D Computer Vision Researcher\\u002fmax\\u002f50000.0\",\"Financial Data Analyst\\u002fmin\\u002f75000.0\",\"AI Programmer\\u002fmin\\u002f40000.0\",\"Data Engineer\\u002fmean\\u002f142785.73\",\"Data Analyst\\u002fmax\\u002f430967.0\",\"Computer Vision Software Engineer\\u002fmin\\u002f19073.0\",\"Machine Learning Engineer\\u002fstd\\u002f63142.49\",\"Cloud Data Architect\\u002fmean\\u002f250000.0\",\"Machine Learning Manager\\u002fmin\\u002f117104.0\",\"Lead Data Analyst\\u002fmin\\u002f18238.0\",\"Data Science Manager\\u002fstd\\u002f63101.29\",\"Data Manager\\u002fmean\\u002f116613.34\",\"ETL Developer\\u002fmax\\u002f250000.0\",\"Compliance Data Analyst\\u002fmax\\u002f30000.0\",\"Applied Machine Learning Engineer\\u002fmax\\u002f130000.0\",\"Applied Scientist\\u002fmax\\u002f350000.0\",\"Big Data Engineer\\u002fmean\\u002f68672.0\",\"Head of Data\\u002fmax\\u002f329500.0\",\"Financial Data Analyst\\u002fstd\\u002f27537.85\",\"Data Management Specialist\\u002fmax\\u002f68293.0\",\"MLOps Engineer\\u002fmean\\u002f129000.0\",\"AI Programmer\\u002fmax\\u002f70000.0\",\"Machine Learning Software Engineer\\u002fmax\\u002f375000.0\",\"Applied Machine Learning Scientist\\u002fmin\\u002f30469.0\",\"NLP Engineer\\u002fmean\\u002f132785.29\",\"Data Science Tech Lead\\u002fmax\\u002f375000.0\",\"ETL Developer\\u002fmean\\u002f131453.6\",\"Compliance Data Analyst\\u002fmin\\u002f30000.0\",\"Applied Machine Learning Engineer\\u002fmin\\u002f69751.0\",\"BI Developer\\u002fmean\\u002f129846.15\",\"Computer Vision Engineer\\u002fmax\\u002f342810.0\",\"Data Management Specialist\\u002fmin\\u002f68293.0\",\"Lead Data Scientist\\u002fmin\\u002f29944.0\",\"Lead Data Engineer\\u002fmin\\u002f56000.0\",\"Computer Vision Engineer\\u002fmin\\u002f10000.0\",\"Data Science Manager\\u002fmean\\u002f191278.78\",\"Azure Data Engineer\\u002fmin\\u002f100000.0\",\"MLOps Engineer\\u002fstd\\u002f5773.5\",\"Data Science Engineer\\u002fmean\\u002f93482.0\",\"Business Intelligence Engineer\\u002fmean\\u002f174150.0\",\"Applied Scientist\\u002fstd\\u002f52001.24\",\"Head of Data Science\\u002fmean\\u002f160591.67\",\"Computer Vision Software Engineer\\u002fstd\\u002f49060.1\",\"NLP Engineer\\u002fmin\\u002f5132.0\",\"ETL Developer\\u002fstd\\u002f87523.59\",\"Data Strategist\\u002fstd\\u002f12727.92\",\"Data Operations Engineer\\u002fmin\\u002f60000.0\",\"Data Analytics Manager\\u002fmin\\u002f105400.0\",\"Machine Learning Manager\\u002fmax\\u002f200000.0\",\"Data Analytics Specialist\\u002fstd\\u002f14142.14\",\"Data Lead\\u002fmin\\u002f200000.0\",\"BI Data Analyst\\u002fmean\\u002f60440.13\",\"Applied Machine Learning Scientist\\u002fstd\\u002f108601.53\",\"Software Data Engineer\\u002fstd\\u002f17691.81\",\"Cloud Data Architect\\u002fmax\\u002f250000.0\",\"Cloud Database Engineer\\u002fmin\\u002f115000.0\",\"Data Architect\\u002fmin\\u002f63000.0\",\"Data Scientist Lead\\u002fmean\\u002f136153.0\",\"Applied Scientist\\u002fmin\\u002f72000.0\",\"Data Architect\\u002fmax\\u002f376080.0\",\"Machine Learning Researcher\\u002fstd\\u002f33824.51\",\"Lead Data Engineer\\u002fmax\\u002f276000.0\",\"Business Data Analyst\\u002fmean\\u002f66065.4\",\"Deep Learning Researcher\\u002fmax\\u002f123405.0\",\"Data Analytics Manager\\u002fstd\\u002f20849.72\",\"Lead Data Analyst\\u002fstd\\u002f62206.41\",\"Data Analytics Consultant\\u002fmax\\u002f113000.0\",\"Data Lead\\u002fmax\\u002f225000.0\",\"Data Analytics Lead\\u002fmin\\u002f17509.0\",\"Software Data Engineer\\u002fmin\\u002f50000.0\",\"Data Operations Analyst\\u002fmean\\u002f90562.5\",\"Data Scientist\\u002fmin\\u002f5679.0\",\"Machine Learning Scientist\\u002fmean\\u002f163220.08\",\"Data Science Lead\\u002fmin\\u002f60761.0\",\"Staff Data Analyst\\u002fmax\\u002f15000.0\",\"Machine Learning Infrastructure Engineer\\u002fmax\\u002f205920.0\",\"Deep Learning Engineer\\u002fmean\\u002f109241.0\",\"Deep Learning Engineer\\u002fstd\\u002f39124.2\",\"Data Scientist\\u002fmean\\u002f140869.77\",\"Applied Machine Learning Scientist\\u002fmax\\u002f423000.0\",\"Machine Learning Developer\\u002fmean\\u002f74518.29\",\"Data Science Consultant\\u002fmax\\u002f145000.0\",\"Business Intelligence Engineer\\u002fstd\\u002f41029.95\",\"Head of Machine Learning\\u002fmean\\u002f76309.0\",\"AI Scientist\\u002fmax\",\"Data Science Manager\\u002fmax\\u002f300000.0\",\"Autonomous Vehicle Technician\\u002fmean\\u002f26277.5\",\"Manager Data Management\\u002fmean\\u002f125000.0\",\"Marketing Data Engineer\\u002fmin\\u002f66970.0\",\"Data Scientist Lead\\u002fmax\\u002f183000.0\",\"Product Data Analyst\\u002fmin\\u002f6072.0\",\"Data Architect\\u002fstd\\u002f53281.35\",\"AI Developer\\u002fstd\\u002f95973.55\",\"Product Data Scientist\\u002fmin\\u002f8000.0\",\"Data Quality Analyst\\u002fmax\\u002f100000.0\",\"Principal Machine Learning Engineer\\u002fmin\\u002f190000.0\",\"Research Engineer\\u002fstd\\u002f55055.42\",\"Lead Data Engineer\\u002fmean\\u002f139230.33\",\"Data Analytics Lead\\u002fmax\\u002f405000.0\",\"Lead Data Analyst\\u002fmean\\u002f72569.4\",\"Principal Data Architect\\u002fmax\\u002f38154.0\",\"Data Strategist\\u002fmean\\u002f81000.0\",\"Machine Learning Researcher\\u002fmax\\u002f150000.0\",\"Machine Learning Research Engineer\\u002fmean\\u002f42819.25\",\"Autonomous Vehicle Technician\\u002fmax\",\"Principal Data Architect\\u002fmin\\u002f38154.0\",\"Principal Data Scientist\\u002fmax\\u002f416000.0\",\"Cloud Data Engineer\\u002fstd\\u002f73716.22\",\"Product Data Analyst\\u002fmax\\u002f140000.0\",\"Research Engineer\\u002fmin\\u002f60000.0\",\"Machine Learning Researcher\\u002fmean\\u002f105872.67\",\"Marketing Data Analyst\\u002fmax\\u002f200000.0\",\"Data Analytics Engineer\\u002fmin\\u002f13000.0\",\"Data Science Lead\\u002fstd\\u002f65039.24\",\"Machine Learning Scientist\\u002fmax\\u002f260000.0\",\"ETL Engineer\\u002fstd\\u002f19334.42\",\"Data Specialist\\u002fmean\\u002f119642.86\",\"MLOps Engineer\\u002fmax\\u002f134000.0\",\"Data Specialist\\u002fmin\\u002f70000.0\",\"Machine Learning Research Engineer\\u002fstd\\u002f31155.59\",\"Data Science Tech Lead\\u002fmean\\u002f375000.0\",\"Azure Data Engineer\\u002fmean\\u002f100000.0\",\"Applied Scientist\\u002fmean\\u002f190264.48\",\"Machine Learning Developer\\u002fstd\\u002f55142.18\",\"Business Data Analyst\\u002fmin\\u002f9289.0\",\"Data Lead\\u002fmean\\u002f212500.0\",\"Machine Learning Developer\\u002fmin\\u002f15000.0\",\"AI Scientist\\u002fmean\\u002f110120.88\",\"Finance Data Analyst\\u002fmax\\u002f61896.0\",\"Machine Learning Research Engineer\\u002fmax\\u002f72914.0\",\"Principal Data Architect\\u002fmean\\u002f38154.0\",\"Data Scientist\\u002fmax\\u002f412000.0\",\"Data Science Engineer\\u002fmax\\u002f140000.0\",\"Principal Data Engineer\\u002fmean\\u002f192500.0\",\"AI Scientist\\u002fmin\\u002f12000.0\",\"Director of Data Science\\u002fmin\\u002f57786.0\",\"Financial Data Analyst\\u002fmean\\u002f101666.67\",\"Principal Data Scientist\\u002fmean\\u002f198171.12\",\"Machine Learning Scientist\\u002fmin\\u002f12000.0\",\"BI Data Engineer\\u002fmax\\u002f60000.0\",\"Staff Data Scientist\\u002fmax\\u002f105000.0\",\"Machine Learning Software Engineer\\u002fmin\\u002f10000.0\",\"Lead Data Scientist\\u002fmax\\u002f192000.0\",\"BI Developer\\u002fmin\\u002f100000.0\",\"Product Data Analyst\\u002fmean\\u002f56497.2\",\"Azure Data Engineer\\u002fmax\",\"Data Specialist\\u002fstd\\u002f44383.46\",\"Big Data Architect\\u002fmax\\u002f151902.0\",\"Data Analytics Consultant\\u002fmean\\u002f81500.0\",\"Lead Data Scientist\\u002fstd\\u002f66682.52\",\"Deep Learning Researcher\\u002fmin\\u002f123405.0\",\"Analytics Engineer\\u002fmax\\u002f289800.0\",\"3D Computer Vision Researcher\\u002fmean\\u002f21352.25\",\"Data DevOps Engineer\\u002fmin\\u002f53654.0\",\"Cloud Database Engineer\\u002fmax\\u002f190000.0\",\"Autonomous Vehicle Technician\\u002fmin\\u002f7000.0\",\"Machine Learning Software Engineer\\u002fstd\\u002f99504.21\",\"Head of Data\\u002fstd\\u002f92002.65\",\"Data Analyst\\u002fmin\\u002f5723.0\",\"Insight Analyst\\u002fmax\\u002f51039.0\",\"Principal Data Analyst\\u002fmax\\u002f170000.0\",\"ML Engineer\\u002fmin\\u002f15966.0\",\"Finance Data Analyst\\u002fmin\\u002f61896.0\",\"Lead Data Scientist\\u002fmean\\u002f112775.56\",\"Business Intelligence Engineer\\u002fmax\\u002f225000.0\",\"BI Analyst\\u002fmean\\u002f104888.89\",\"Director of Data Science\\u002fmean\\u002f195140.73\",\"Data Engineer\\u002fmin\\u002f12000.0\",\"Data Engineer\\u002fstd\\u002f58038.09\",\"Machine Learning Infrastructure Engineer\\u002fmean\\u002f143011.82\",\"Software Data Engineer\\u002fmax\\u002f75020.0\",\"3D Computer Vision Researcher\\u002fmax\",\"Data Manager\\u002fstd\\u002f40124.74\",\"Data Analytics Manager\\u002fmax\\u002f204500.0\",\"Data Analyst\\u002fmean\\u002f108716.23\",\"Data Quality Analyst\\u002fstd\\u002f14656.97\",\"Data Scientist\\u002fstd\\u002f60687.46\",\"Cloud Data Engineer\\u002fmean\\u002f87300.67\",\"Business Data Analyst\\u002fmax\",\"Data Analytics Engineer\\u002fstd\\u002f49053.57\",\"Cloud Data Engineer\\u002fmax\\u002f160000.0\",\"Software Data Engineer\\u002fmean\\u002f62510.0\",\"Data Science Lead\\u002fmax\\u002f247500.0\",\"Data Lead\\u002fstd\\u002f17677.67\",\"Applied Data Scientist\\u002fmean\\u002f113726.3\",\"Lead Machine Learning Engineer\\u002fmean\\u002f82927.67\",\"BI Analyst\\u002fmax\",\"Data Analytics Consultant\\u002fstd\\u002f44547.73\",\"Analytics Engineer\\u002fmean\\u002f152368.63\",\"Data Science Consultant\\u002fmin\\u002f5707.0\",\"Machine Learning Infrastructure Engineer\\u002fmin\\u002f50180.0\",\"Lead Data Analyst\\u002fmax\\u002f170000.0\",\"Data Modeler\\u002fmin\\u002f90700.0\",\"Power BI Developer\\u002fmin\\u002f5409.0\",\"Director of Data Science\\u002fstd\\u002f90014.33\",\"Machine Learning Researcher\\u002fmin\\u002f50000.0\",\"Research Engineer\\u002fmean\\u002f163108.38\",\"Lead Machine Learning Engineer\\u002fmax\\u002f95386.0\",\"Insight Analyst\\u002fstd\\u002f6014.65\",\"Big Data Engineer\\u002fstd\\u002f52825.13\",\"Machine Learning Developer\\u002fmax\\u002f180000.0\",\"Insight Analyst\\u002fmin\\u002f42533.0\",\"Business Data Analyst\\u002fmax\\u002f150000.0\",\"Head of Data Science\\u002fstd\\u002f77627.66\",\"Applied Machine Learning Engineer\\u002fmax\",\"Data Analyst\\u002fstd\\u002f46912.1\",\"ML Engineer\\u002fmean\\u002f158352.44\",\"Data Science Consultant\\u002fmean\\u002f87011.75\",\"Big Data Engineer\\u002fmax\",\"Analytics Engineer\\u002fmin\\u002f7500.0\",\"Data Infrastructure Engineer\\u002fmax\\u002f190000.0\",\"Analytics Engineer\\u002fstd\\u002f53838.47\",\"Big Data Architect\\u002fmin\\u002f99703.0\",\"Product Data Scientist\\u002fmean\\u002f8000.0\",\"Principal Machine Learning Engineer\\u002fmean\\u002f190000.0\",\"AI Programmer\\u002fmean\\u002f55000.0\",\"Azure Data Engineer\\u002fmax\\u002f100000.0\",\"Data Science Engineer\\u002fmin\\u002f40189.0\",\"Head of Machine Learning\\u002fmax\\u002f76309.0\",\"Marketing Data Analyst\\u002fmean\\u002f144327.0\",\"AI Programmer\\u002fmax\",\"Insight Analyst\\u002fmean\\u002f46786.0\",\"Principal Data Scientist\\u002fmin\\u002f85847.0\",\"Data Science Lead\\u002fmean\\u002f156334.38\",\"Big Data Architect\\u002fmax\",\"Research Scientist\\u002fmin\\u002f23000.0\",\"MLOps Engineer\\u002fmin\\u002f124000.0\",\"Research Engineer\\u002fmax\\u002f293000.0\",\"Marketing Data Engineer\\u002fmax\\u002f66970.0\",\"Business Intelligence Engineer\\u002fmax\",\"Cloud Data Architect\\u002fmax\",\"Cloud Data Engineer\\u002fmax\",\"Cloud Database Engineer\\u002fmax\",\"Compliance Data Analyst\\u002fmax\",\"Computer Vision Engineer\\u002fmax\",\"Computer Vision Software Engineer\\u002fmax\",\"Data Analyst\\u002fmax\",\"Data Analytics Consultant\\u002fmax\",\"Data Analytics Engineer\\u002fmax\",\"Data Analytics Lead\\u002fmax\",\"Data Analytics Manager\\u002fmax\",\"Data Analytics Specialist\\u002fmax\",\"Data Architect\\u002fmax\",\"Data DevOps Engineer\\u002fmax\",\"Data Engineer\\u002fmax\",\"Data Infrastructure Engineer\\u002fmax\",\"Data Lead\\u002fmax\",\"Data Management Specialist\\u002fmax\",\"Data Manager\\u002fmax\",\"Data Modeler\\u002fmax\",\"Data Operations Analyst\\u002fmax\",\"Data Operations Engineer\\u002fmax\",\"Data Quality Analyst\\u002fmax\",\"Data Science Consultant\\u002fmax\",\"Data Science Engineer\\u002fmax\",\"Data Science Lead\\u002fmax\",\"Data Science Manager\\u002fmax\",\"Data Science Tech Lead\\u002fmax\",\"Data Scientist\\u002fmax\",\"Data Scientist Lead\\u002fmax\",\"Data Specialist\\u002fmax\",\"Data Strategist\\u002fmax\",\"Deep Learning Engineer\\u002fmax\",\"Deep Learning Researcher\\u002fmax\",\"Director of Data Science\\u002fmax\",\"ETL Developer\\u002fmax\",\"ETL Engineer\\u002fmax\",\"Finance Data Analyst\\u002fmax\",\"Financial Data Analyst\\u002fmax\",\"Head of Data\\u002fmax\",\"Head of Data Science\\u002fmax\",\"Head of Machine Learning\\u002fmax\",\"Insight Analyst\\u002fmax\",\"Lead Data Analyst\\u002fmax\",\"Lead Data Engineer\\u002fmax\",\"Lead Data Scientist\\u002fmax\",\"Lead Machine Learning Engineer\\u002fmax\",\"ML Engineer\\u002fmax\",\"MLOps Engineer\\u002fmax\",\"Machine Learning Developer\\u002fmax\",\"Machine Learning Engineer\\u002fmax\",\"Machine Learning Infrastructure Engineer\\u002fmax\",\"Machine Learning Manager\\u002fmax\",\"Machine Learning Research Engineer\\u002fmax\",\"Machine Learning Researcher\\u002fmax\",\"Machine Learning Scientist\\u002fmax\",\"Machine Learning Software Engineer\\u002fmax\",\"Manager Data Management\\u002fmax\",\"Marketing Data Analyst\\u002fmax\",\"Marketing Data Engineer\\u002fmax\",\"NLP Engineer\\u002fmax\",\"Power BI Developer\\u002fmax\",\"Principal Data Analyst\\u002fmax\",\"Principal Data Architect\\u002fmax\",\"Principal Data Engineer\\u002fmax\",\"Principal Data Scientist\\u002fmax\",\"Principal Machine Learning Engineer\\u002fmax\",\"Product Data Analyst\\u002fmax\",\"Product Data Scientist\\u002fmax\",\"Research Engineer\\u002fmax\",\"Research Scientist\\u002fmax\",\"Software Data Engineer\\u002fmax\",\"Staff Data Analyst\\u002fmax\",\"Staff Data Scientist\\u002fmax\",\"3D Computer Vision Researcher\\u002fmean\",\"AI Developer\\u002fmean\",\"AI Programmer\\u002fmean\",\"AI Scientist\\u002fmean\",\"Analytics Engineer\\u002fmean\",\"Applied Data Scientist\\u002fmean\",\"Applied Machine Learning Engineer\\u002fmean\",\"Applied Machine Learning Scientist\\u002fmean\",\"Applied Scientist\\u002fmean\",\"Autonomous Vehicle Technician\\u002fmean\",\"Azure Data Engineer\\u002fmean\",\"BI Analyst\\u002fmean\",\"BI Data Analyst\\u002fmean\",\"BI Data Engineer\\u002fmean\",\"BI Developer\\u002fmean\",\"Big Data Architect\\u002fmean\",\"Big Data Engineer\\u002fmean\",\"Business Data Analyst\\u002fmean\",\"Business Intelligence Engineer\\u002fmean\",\"Cloud Data Architect\\u002fmean\",\"Cloud Data Engineer\\u002fmean\",\"Cloud Database Engineer\\u002fmean\",\"Compliance Data Analyst\\u002fmean\",\"Computer Vision Engineer\\u002fmean\",\"Computer Vision Software Engineer\\u002fmean\",\"Data Analyst\\u002fmean\",\"Data Analytics Consultant\\u002fmean\",\"Data Analytics Engineer\\u002fmean\",\"Data Analytics Lead\\u002fmean\",\"Data Analytics Manager\\u002fmean\",\"Data Analytics Specialist\\u002fmean\",\"Data Architect\\u002fmean\",\"Data DevOps Engineer\\u002fmean\",\"Data Engineer\\u002fmean\",\"Data Infrastructure Engineer\\u002fmean\",\"Data Lead\\u002fmean\",\"Data Management Specialist\\u002fmean\",\"Data Manager\\u002fmean\",\"Data Modeler\\u002fmean\",\"Data Operations Analyst\\u002fmean\",\"Data Operations Engineer\\u002fmean\",\"Data Quality Analyst\\u002fmean\",\"Data Science Consultant\\u002fmean\",\"Data Science Engineer\\u002fmean\",\"Data Science Lead\\u002fmean\",\"Data Science Manager\\u002fmean\",\"Data Science Tech Lead\\u002fmean\",\"Data Scientist\\u002fmean\",\"Data Scientist Lead\\u002fmean\",\"Data Specialist\\u002fmean\",\"Data Strategist\\u002fmean\",\"Deep Learning Engineer\\u002fmean\",\"Deep Learning Researcher\\u002fmean\",\"Director of Data Science\\u002fmean\",\"ETL Developer\\u002fmean\",\"ETL Engineer\\u002fmean\",\"Finance Data Analyst\\u002fmean\",\"Financial Data Analyst\\u002fmean\",\"Head of Data\\u002fmean\",\"Head of Data Science\\u002fmean\",\"Head of Machine Learning\\u002fmean\",\"Insight Analyst\\u002fmean\",\"Lead Data Analyst\\u002fmean\",\"Lead Data Engineer\\u002fmean\",\"Lead Data Scientist\\u002fmean\",\"Lead Machine Learning Engineer\\u002fmean\",\"ML Engineer\\u002fmean\",\"MLOps Engineer\\u002fmean\",\"Machine Learning Developer\\u002fmean\",\"Machine Learning Engineer\\u002fmean\",\"Machine Learning Infrastructure Engineer\\u002fmean\",\"Machine Learning Manager\\u002fmean\",\"Machine Learning Research Engineer\\u002fmean\",\"Machine Learning Researcher\\u002fmean\",\"Machine Learning Scientist\\u002fmean\",\"Machine Learning Software Engineer\\u002fmean\",\"Manager Data Management\\u002fmean\",\"Marketing Data Analyst\\u002fmean\",\"Marketing Data Engineer\\u002fmean\",\"NLP Engineer\\u002fmean\",\"Power BI Developer\\u002fmean\",\"Principal Data Analyst\\u002fmean\",\"Principal Data Architect\\u002fmean\",\"Principal Data Engineer\\u002fmean\",\"Principal Data Scientist\\u002fmean\",\"Principal Machine Learning Engineer\\u002fmean\",\"Product Data Analyst\\u002fmean\",\"Product Data Scientist\\u002fmean\",\"Research Engineer\\u002fmean\",\"Research Scientist\\u002fmean\",\"Software Data Engineer\\u002fmean\",\"Staff Data Analyst\\u002fmean\",\"Staff Data Scientist\\u002fmean\",\"3D Computer Vision Researcher\\u002fmin\",\"AI Developer\\u002fmin\",\"AI Programmer\\u002fmin\",\"AI Scientist\\u002fmin\",\"Analytics Engineer\\u002fmin\",\"Applied Data Scientist\\u002fmin\",\"Applied Machine Learning Engineer\\u002fmin\",\"Applied Machine Learning Scientist\\u002fmin\",\"Applied Scientist\\u002fmin\",\"Autonomous Vehicle Technician\\u002fmin\",\"Azure Data Engineer\\u002fmin\",\"BI Analyst\\u002fmin\",\"BI Data Analyst\\u002fmin\",\"BI Data Engineer\\u002fmin\",\"BI Developer\\u002fmin\",\"Big Data Architect\\u002fmin\",\"Big Data Engineer\\u002fmin\",\"Business Data Analyst\\u002fmin\",\"Business Intelligence Engineer\\u002fmin\",\"Cloud Data Architect\\u002fmin\",\"Cloud Data Engineer\\u002fmin\",\"Cloud Database Engineer\\u002fmin\",\"Compliance Data Analyst\\u002fmin\",\"Computer Vision Engineer\\u002fmin\",\"Computer Vision Software Engineer\\u002fmin\",\"Data Analyst\\u002fmin\",\"Data Analytics Consultant\\u002fmin\",\"Data Analytics Engineer\\u002fmin\",\"Data Analytics Lead\\u002fmin\",\"Data Analytics Manager\\u002fmin\",\"Data Analytics Specialist\\u002fmin\",\"Data Architect\\u002fmin\",\"Data DevOps Engineer\\u002fmin\",\"Data Engineer\\u002fmin\",\"Data Infrastructure Engineer\\u002fmin\",\"Data Lead\\u002fmin\",\"Data Management Specialist\\u002fmin\",\"Data Manager\\u002fmin\",\"Data Modeler\\u002fmin\",\"Data Operations Analyst\\u002fmin\",\"Data Operations Engineer\\u002fmin\",\"Data Quality Analyst\\u002fmin\",\"Data Science Consultant\\u002fmin\",\"Data Science Engineer\\u002fmin\",\"Data Science Lead\\u002fmin\",\"Data Science Manager\\u002fmin\",\"Data Science Tech Lead\\u002fmin\",\"Data Scientist\\u002fmin\",\"Data Scientist Lead\\u002fmin\",\"Data Specialist\\u002fmin\",\"Data Strategist\\u002fmin\",\"Deep Learning Engineer\\u002fmin\",\"Deep Learning Researcher\\u002fmin\",\"Director of Data Science\\u002fmin\",\"ETL Developer\\u002fmin\",\"ETL Engineer\\u002fmin\",\"Finance Data Analyst\\u002fmin\",\"Financial Data Analyst\\u002fmin\",\"Head of Data\\u002fmin\",\"Head of Data Science\\u002fmin\",\"Head of Machine Learning\\u002fmin\",\"Insight Analyst\\u002fmin\",\"Lead Data Analyst\\u002fmin\",\"Lead Data Engineer\\u002fmin\",\"Lead Data Scientist\\u002fmin\",\"Lead Machine Learning Engineer\\u002fmin\",\"ML Engineer\\u002fmin\",\"MLOps Engineer\\u002fmin\",\"Machine Learning Developer\\u002fmin\",\"Machine Learning Engineer\\u002fmin\",\"Machine Learning Infrastructure Engineer\\u002fmin\",\"Machine Learning Manager\\u002fmin\",\"Machine Learning Research Engineer\\u002fmin\",\"Machine Learning Researcher\\u002fmin\",\"Machine Learning Scientist\\u002fmin\",\"Machine Learning Software Engineer\\u002fmin\",\"Manager Data Management\\u002fmin\",\"Marketing Data Analyst\\u002fmin\",\"Marketing Data Engineer\\u002fmin\",\"NLP Engineer\\u002fmin\",\"Power BI Developer\\u002fmin\",\"Principal Data Analyst\\u002fmin\",\"Principal Data Architect\\u002fmin\",\"Principal Data Engineer\\u002fmin\",\"Principal Data Scientist\\u002fmin\",\"Principal Machine Learning Engineer\\u002fmin\",\"Product Data Analyst\\u002fmin\",\"Product Data Scientist\\u002fmin\",\"Research Engineer\\u002fmin\",\"Research Scientist\\u002fmin\",\"Software Data Engineer\\u002fmin\",\"Staff Data Analyst\\u002fmin\",\"Staff Data Scientist\\u002fmin\",\"3D Computer Vision Researcher\\u002fstd\",\"AI Developer\\u002fstd\",\"AI Programmer\\u002fstd\",\"AI Scientist\\u002fstd\",\"Analytics Engineer\\u002fstd\",\"Applied Data Scientist\\u002fstd\",\"Applied Machine Learning Engineer\\u002fstd\",\"Applied Machine Learning Scientist\\u002fstd\",\"Applied Scientist\\u002fstd\",\"Autonomous Vehicle Technician\\u002fstd\",\"Azure Data Engineer\\u002fstd\",\"BI Analyst\\u002fstd\",\"BI Data Analyst\\u002fstd\",\"BI Data Engineer\\u002fstd\",\"BI Developer\\u002fstd\",\"Big Data Architect\\u002fstd\",\"Big Data Engineer\\u002fstd\",\"Business Data Analyst\\u002fstd\",\"Business Intelligence Engineer\\u002fstd\",\"Cloud Data Architect\\u002fstd\",\"Cloud Data Engineer\\u002fstd\",\"Cloud Database Engineer\\u002fstd\",\"Compliance Data Analyst\\u002fstd\",\"Computer Vision Engineer\\u002fstd\",\"Computer Vision Software Engineer\\u002fstd\",\"Data Analyst\\u002fstd\",\"Data Analytics Consultant\\u002fstd\",\"Data Analytics Engineer\\u002fstd\",\"Data Analytics Lead\\u002fstd\",\"Data Analytics Manager\\u002fstd\",\"Data Analytics Specialist\\u002fstd\",\"Data Architect\\u002fstd\",\"Data DevOps Engineer\\u002fstd\",\"Data Engineer\\u002fstd\",\"Data Infrastructure Engineer\\u002fstd\",\"Data Lead\\u002fstd\",\"Data Management Specialist\\u002fstd\",\"Data Manager\\u002fstd\",\"Data Modeler\\u002fstd\",\"Data Operations Analyst\\u002fstd\",\"Data Operations Engineer\\u002fstd\",\"Data Quality Analyst\\u002fstd\",\"Data Science Consultant\\u002fstd\",\"Data Science Engineer\\u002fstd\",\"Data Science Lead\\u002fstd\",\"Data Science Manager\\u002fstd\",\"Data Science Tech Lead\\u002fstd\",\"Data Scientist\\u002fstd\",\"Data Scientist Lead\\u002fstd\",\"Data Specialist\\u002fstd\",\"Data Strategist\\u002fstd\",\"Deep Learning Engineer\\u002fstd\",\"Deep Learning Researcher\\u002fstd\",\"Director of Data Science\\u002fstd\",\"ETL Developer\\u002fstd\",\"ETL Engineer\\u002fstd\",\"Finance Data Analyst\\u002fstd\",\"Financial Data Analyst\\u002fstd\",\"Head of Data\\u002fstd\",\"Head of Data Science\\u002fstd\",\"Head of Machine Learning\\u002fstd\",\"Insight Analyst\\u002fstd\",\"Lead Data Analyst\\u002fstd\",\"Lead Data Engineer\\u002fstd\",\"Lead Data Scientist\\u002fstd\",\"Lead Machine Learning Engineer\\u002fstd\",\"ML Engineer\\u002fstd\",\"MLOps Engineer\\u002fstd\",\"Machine Learning Developer\\u002fstd\",\"Machine Learning Engineer\\u002fstd\",\"Machine Learning Infrastructure Engineer\\u002fstd\",\"Machine Learning Manager\\u002fstd\",\"Machine Learning Research Engineer\\u002fstd\",\"Machine Learning Researcher\\u002fstd\",\"Machine Learning Scientist\\u002fstd\",\"Machine Learning Software Engineer\\u002fstd\",\"Manager Data Management\\u002fstd\",\"Marketing Data Analyst\\u002fstd\",\"Marketing Data Engineer\\u002fstd\",\"NLP Engineer\\u002fstd\",\"Power BI Developer\\u002fstd\",\"Principal Data Analyst\\u002fstd\",\"Principal Data Architect\\u002fstd\",\"Principal Data Engineer\\u002fstd\",\"Principal Data Scientist\\u002fstd\",\"Principal Machine Learning Engineer\\u002fstd\",\"Product Data Analyst\\u002fstd\",\"Product Data Scientist\\u002fstd\",\"Research Engineer\\u002fstd\",\"Research Scientist\\u002fstd\",\"Software Data Engineer\\u002fstd\",\"Staff Data Analyst\\u002fstd\",\"Staff Data Scientist\\u002fstd\",\"3D Computer Vision Researcher\",\"AI Developer\",\"AI Programmer\",\"AI Scientist\",\"Analytics Engineer\",\"Applied Data Scientist\",\"Applied Machine Learning Engineer\",\"Applied Machine Learning Scientist\",\"Applied Scientist\",\"Autonomous Vehicle Technician\",\"Azure Data Engineer\",\"BI Analyst\",\"BI Data Analyst\",\"BI Data Engineer\",\"BI Developer\",\"Big Data Architect\",\"Big Data Engineer\",\"Business Data Analyst\",\"Business Intelligence Engineer\",\"Cloud Data Architect\",\"Cloud Data Engineer\",\"Cloud Database Engineer\",\"Compliance Data Analyst\",\"Computer Vision Engineer\",\"Computer Vision Software Engineer\",\"Data Analyst\",\"Data Analytics Consultant\",\"Data Analytics Engineer\",\"Data Analytics Lead\",\"Data Analytics Manager\",\"Data Analytics Specialist\",\"Data Architect\",\"Data DevOps Engineer\",\"Data Engineer\",\"Data Infrastructure Engineer\",\"Data Lead\",\"Data Management Specialist\",\"Data Manager\",\"Data Modeler\",\"Data Operations Analyst\",\"Data Operations Engineer\",\"Data Quality Analyst\",\"Data Science Consultant\",\"Data Science Engineer\",\"Data Science Lead\",\"Data Science Manager\",\"Data Science Tech Lead\",\"Data Scientist\",\"Data Scientist Lead\",\"Data Specialist\",\"Data Strategist\",\"Deep Learning Engineer\",\"Deep Learning Researcher\",\"Director of Data Science\",\"ETL Developer\",\"ETL Engineer\",\"Finance Data Analyst\",\"Financial Data Analyst\",\"Head of Data\",\"Head of Data Science\",\"Head of Machine Learning\",\"Insight Analyst\",\"Lead Data Analyst\",\"Lead Data Engineer\",\"Lead Data Scientist\",\"Lead Machine Learning Engineer\",\"ML Engineer\",\"MLOps Engineer\",\"Machine Learning Developer\",\"Machine Learning Engineer\",\"Machine Learning Infrastructure Engineer\",\"Machine Learning Manager\",\"Machine Learning Research Engineer\",\"Machine Learning Researcher\",\"Machine Learning Scientist\",\"Machine Learning Software Engineer\",\"Manager Data Management\",\"Marketing Data Analyst\",\"Marketing Data Engineer\",\"NLP Engineer\",\"Power BI Developer\",\"Principal Data Analyst\",\"Principal Data Architect\",\"Principal Data Engineer\",\"Principal Data Scientist\",\"Principal Machine Learning Engineer\",\"Product Data Analyst\",\"Product Data Scientist\",\"Research Engineer\",\"Research Scientist\",\"Software Data Engineer\",\"Staff Data Analyst\",\"Staff Data Scientist\"],\"labels\":[\"max\",\"46095.37\",\"85311.43\",\"155701.33\",\"60217.9\",\"106294.03\",\"200000.0\",\"13057.42\",\"42602.48\",\"77694.6\",\"max\",\"150000.0\",\"122500.0\",\"273997.51\",\"20046.47\",\"65101.89\",\"57925.48\",\"193000.0\",\"12000.0\",\"103187.88\",\"118900.0\",\"19230.39\",\"250000.0\",\"64980.0\",\"27370.44\",\"324000.0\",\"67866.17\",\"125802.5\",\"20670.0\",\"66000.0\",\"275000.0\",\"123000.0\",\"52533.0\",\"175051.67\",\"5882.0\",\"95000.0\",\"155000.0\",\"45600.0\",\"85066.0\",\"max\",\"125000.0\",\"27262.5\",\"67175.14\",\"314100.0\",\"125000.0\",\"66970.0\",\"24150.89\",\"300000.0\",\"76309.0\",\"147100.0\",\"max\",\"41741.05\",\"76590.45\",\"150000.0\",\"41778.48\",\"max\",\"15000.0\",\"109452.83\",\"60795.0\",\"211254.5\",\"111733.54\",\"15000.0\",\"61896.0\",\"221300.0\",\"423834.0\",\"141879.09\",\"74944.43\",\"39880.82\",\"143536.11\",\"max\",\"75026.1\",\"40182.65\",\"185000.0\",\"99306.05\",\"53654.0\",\"6304.0\",\"5409.0\",\"49253.0\",\"161214.2\",\"88654.0\",\"30000.0\",\"353200.0\",\"130000.0\",\"69344.0\",\"101547.25\",\"10606.6\",\"57723.0\",\"192420.0\",\"154690.73\",\"max\",\"45555.0\",\"85000.0\",\"105000.0\",\"12000.0\",\"59888.69\",\"197000.0\",\"136666.09\",\"72000.0\",\"380000.0\",\"36910.27\",\"123405.0\",\"66251.66\",\"21213.2\",\"289076.0\",\"31520.0\",\"375000.0\",\"71394.5\",\"135000.0\",\"143000.0\",\"75000.0\",\"40026.93\",\"450000.0\",\"50000.0\",\"90000.0\",\"161713.77\",\"5409.0\",\"105000.0\",\"12608.0\",\"200000.0\",\"60000.0\",\"342300.0\",\"68293.0\",\"28722.81\",\"129300.0\",\"8000.0\",\"99875.5\",\"190000.0\",\"54094.0\",\"42737.33\",\"150000.0\",\"78733.51\",\"max\",\"60000.0\",\"12171.0\",\"199000.0\",\"105000.0\",\"183857.5\",\"98485.0\",\"53654.0\",\"6270.0\",\"5409.0\",\"161311.0\",\"89306.0\",\"50000.0\",\"75000.0\",\"40000.0\",\"142785.73\",\"430967.0\",\"19073.0\",\"63142.49\",\"250000.0\",\"117104.0\",\"18238.0\",\"63101.29\",\"116613.34\",\"250000.0\",\"30000.0\",\"130000.0\",\"350000.0\",\"68672.0\",\"329500.0\",\"27537.85\",\"68293.0\",\"129000.0\",\"70000.0\",\"375000.0\",\"30469.0\",\"132785.29\",\"375000.0\",\"131453.6\",\"30000.0\",\"69751.0\",\"129846.15\",\"342810.0\",\"68293.0\",\"29944.0\",\"56000.0\",\"10000.0\",\"191278.78\",\"100000.0\",\"5773.5\",\"93482.0\",\"174150.0\",\"52001.24\",\"160591.67\",\"49060.1\",\"5132.0\",\"87523.59\",\"12727.92\",\"60000.0\",\"105400.0\",\"200000.0\",\"14142.14\",\"200000.0\",\"60440.13\",\"108601.53\",\"17691.81\",\"250000.0\",\"115000.0\",\"63000.0\",\"136153.0\",\"72000.0\",\"376080.0\",\"33824.51\",\"276000.0\",\"66065.4\",\"123405.0\",\"20849.72\",\"62206.41\",\"113000.0\",\"225000.0\",\"17509.0\",\"50000.0\",\"90562.5\",\"5679.0\",\"163220.08\",\"60761.0\",\"15000.0\",\"205920.0\",\"109241.0\",\"39124.2\",\"140869.77\",\"423000.0\",\"74518.29\",\"145000.0\",\"41029.95\",\"76309.0\",\"max\",\"300000.0\",\"26277.5\",\"125000.0\",\"66970.0\",\"183000.0\",\"6072.0\",\"53281.35\",\"95973.55\",\"8000.0\",\"100000.0\",\"190000.0\",\"55055.42\",\"139230.33\",\"405000.0\",\"72569.4\",\"38154.0\",\"81000.0\",\"150000.0\",\"42819.25\",\"max\",\"38154.0\",\"416000.0\",\"73716.22\",\"140000.0\",\"60000.0\",\"105872.67\",\"200000.0\",\"13000.0\",\"65039.24\",\"260000.0\",\"19334.42\",\"119642.86\",\"134000.0\",\"70000.0\",\"31155.59\",\"375000.0\",\"100000.0\",\"190264.48\",\"55142.18\",\"9289.0\",\"212500.0\",\"15000.0\",\"110120.88\",\"61896.0\",\"72914.0\",\"38154.0\",\"412000.0\",\"140000.0\",\"192500.0\",\"12000.0\",\"57786.0\",\"101666.67\",\"198171.12\",\"12000.0\",\"60000.0\",\"105000.0\",\"10000.0\",\"192000.0\",\"100000.0\",\"56497.2\",\"max\",\"44383.46\",\"151902.0\",\"81500.0\",\"66682.52\",\"123405.0\",\"289800.0\",\"21352.25\",\"53654.0\",\"190000.0\",\"7000.0\",\"99504.21\",\"92002.65\",\"5723.0\",\"51039.0\",\"170000.0\",\"15966.0\",\"61896.0\",\"112775.56\",\"225000.0\",\"104888.89\",\"195140.73\",\"12000.0\",\"58038.09\",\"143011.82\",\"75020.0\",\"max\",\"40124.74\",\"204500.0\",\"108716.23\",\"14656.97\",\"60687.46\",\"87300.67\",\"max\",\"49053.57\",\"160000.0\",\"62510.0\",\"247500.0\",\"17677.67\",\"113726.3\",\"82927.67\",\"max\",\"44547.73\",\"152368.63\",\"5707.0\",\"50180.0\",\"170000.0\",\"90700.0\",\"5409.0\",\"90014.33\",\"50000.0\",\"163108.38\",\"95386.0\",\"6014.65\",\"52825.13\",\"180000.0\",\"42533.0\",\"150000.0\",\"77627.66\",\"max\",\"46912.1\",\"158352.44\",\"87011.75\",\"max\",\"7500.0\",\"190000.0\",\"53838.47\",\"99703.0\",\"8000.0\",\"190000.0\",\"55000.0\",\"100000.0\",\"40189.0\",\"76309.0\",\"144327.0\",\"max\",\"46786.0\",\"85847.0\",\"156334.38\",\"max\",\"23000.0\",\"124000.0\",\"293000.0\",\"66970.0\",\"max\",\"max\",\"max\",\"max\",\"max\",\"max\",\"max\",\"max\",\"max\",\"max\",\"max\",\"max\",\"max\",\"max\",\"max\",\"max\",\"max\",\"max\",\"max\",\"max\",\"max\",\"max\",\"max\",\"max\",\"max\",\"max\",\"max\",\"max\",\"max\",\"max\",\"max\",\"max\",\"max\",\"max\",\"max\",\"max\",\"max\",\"max\",\"max\",\"max\",\"max\",\"max\",\"max\",\"max\",\"max\",\"max\",\"max\",\"max\",\"max\",\"max\",\"max\",\"max\",\"max\",\"max\",\"max\",\"max\",\"max\",\"max\",\"max\",\"max\",\"max\",\"max\",\"max\",\"max\",\"max\",\"max\",\"max\",\"max\",\"max\",\"max\",\"max\",\"max\",\"max\",\"max\",\"max\",\"mean\",\"mean\",\"mean\",\"mean\",\"mean\",\"mean\",\"mean\",\"mean\",\"mean\",\"mean\",\"mean\",\"mean\",\"mean\",\"mean\",\"mean\",\"mean\",\"mean\",\"mean\",\"mean\",\"mean\",\"mean\",\"mean\",\"mean\",\"mean\",\"mean\",\"mean\",\"mean\",\"mean\",\"mean\",\"mean\",\"mean\",\"mean\",\"mean\",\"mean\",\"mean\",\"mean\",\"mean\",\"mean\",\"mean\",\"mean\",\"mean\",\"mean\",\"mean\",\"mean\",\"mean\",\"mean\",\"mean\",\"mean\",\"mean\",\"mean\",\"mean\",\"mean\",\"mean\",\"mean\",\"mean\",\"mean\",\"mean\",\"mean\",\"mean\",\"mean\",\"mean\",\"mean\",\"mean\",\"mean\",\"mean\",\"mean\",\"mean\",\"mean\",\"mean\",\"mean\",\"mean\",\"mean\",\"mean\",\"mean\",\"mean\",\"mean\",\"mean\",\"mean\",\"mean\",\"mean\",\"mean\",\"mean\",\"mean\",\"mean\",\"mean\",\"mean\",\"mean\",\"mean\",\"mean\",\"mean\",\"mean\",\"mean\",\"mean\",\"min\",\"min\",\"min\",\"min\",\"min\",\"min\",\"min\",\"min\",\"min\",\"min\",\"min\",\"min\",\"min\",\"min\",\"min\",\"min\",\"min\",\"min\",\"min\",\"min\",\"min\",\"min\",\"min\",\"min\",\"min\",\"min\",\"min\",\"min\",\"min\",\"min\",\"min\",\"min\",\"min\",\"min\",\"min\",\"min\",\"min\",\"min\",\"min\",\"min\",\"min\",\"min\",\"min\",\"min\",\"min\",\"min\",\"min\",\"min\",\"min\",\"min\",\"min\",\"min\",\"min\",\"min\",\"min\",\"min\",\"min\",\"min\",\"min\",\"min\",\"min\",\"min\",\"min\",\"min\",\"min\",\"min\",\"min\",\"min\",\"min\",\"min\",\"min\",\"min\",\"min\",\"min\",\"min\",\"min\",\"min\",\"min\",\"min\",\"min\",\"min\",\"min\",\"min\",\"min\",\"min\",\"min\",\"min\",\"min\",\"min\",\"min\",\"min\",\"min\",\"min\",\"std\",\"std\",\"std\",\"std\",\"std\",\"std\",\"std\",\"std\",\"std\",\"std\",\"std\",\"std\",\"std\",\"std\",\"std\",\"std\",\"std\",\"std\",\"std\",\"std\",\"std\",\"std\",\"std\",\"std\",\"std\",\"std\",\"std\",\"std\",\"std\",\"std\",\"std\",\"std\",\"std\",\"std\",\"std\",\"std\",\"std\",\"std\",\"std\",\"std\",\"std\",\"std\",\"std\",\"std\",\"std\",\"std\",\"std\",\"std\",\"std\",\"std\",\"std\",\"std\",\"std\",\"std\",\"std\",\"std\",\"std\",\"std\",\"std\",\"std\",\"std\",\"std\",\"std\",\"std\",\"std\",\"std\",\"std\",\"std\",\"std\",\"std\",\"std\",\"std\",\"std\",\"std\",\"std\",\"std\",\"std\",\"std\",\"std\",\"std\",\"std\",\"std\",\"std\",\"std\",\"std\",\"std\",\"std\",\"std\",\"std\",\"std\",\"std\",\"std\",\"std\",\"3D Computer Vision Researcher\",\"AI Developer\",\"AI Programmer\",\"AI Scientist\",\"Analytics Engineer\",\"Applied Data Scientist\",\"Applied Machine Learning Engineer\",\"Applied Machine Learning Scientist\",\"Applied Scientist\",\"Autonomous Vehicle Technician\",\"Azure Data Engineer\",\"BI Analyst\",\"BI Data Analyst\",\"BI Data Engineer\",\"BI Developer\",\"Big Data Architect\",\"Big Data Engineer\",\"Business Data Analyst\",\"Business Intelligence Engineer\",\"Cloud Data Architect\",\"Cloud Data Engineer\",\"Cloud Database Engineer\",\"Compliance Data Analyst\",\"Computer Vision Engineer\",\"Computer Vision Software Engineer\",\"Data Analyst\",\"Data Analytics Consultant\",\"Data Analytics Engineer\",\"Data Analytics Lead\",\"Data Analytics Manager\",\"Data Analytics Specialist\",\"Data Architect\",\"Data DevOps Engineer\",\"Data Engineer\",\"Data Infrastructure Engineer\",\"Data Lead\",\"Data Management Specialist\",\"Data Manager\",\"Data Modeler\",\"Data Operations Analyst\",\"Data Operations Engineer\",\"Data Quality Analyst\",\"Data Science Consultant\",\"Data Science Engineer\",\"Data Science Lead\",\"Data Science Manager\",\"Data Science Tech Lead\",\"Data Scientist\",\"Data Scientist Lead\",\"Data Specialist\",\"Data Strategist\",\"Deep Learning Engineer\",\"Deep Learning Researcher\",\"Director of Data Science\",\"ETL Developer\",\"ETL Engineer\",\"Finance Data Analyst\",\"Financial Data Analyst\",\"Head of Data\",\"Head of Data Science\",\"Head of Machine Learning\",\"Insight Analyst\",\"Lead Data Analyst\",\"Lead Data Engineer\",\"Lead Data Scientist\",\"Lead Machine Learning Engineer\",\"ML Engineer\",\"MLOps Engineer\",\"Machine Learning Developer\",\"Machine Learning Engineer\",\"Machine Learning Infrastructure Engineer\",\"Machine Learning Manager\",\"Machine Learning Research Engineer\",\"Machine Learning Researcher\",\"Machine Learning Scientist\",\"Machine Learning Software Engineer\",\"Manager Data Management\",\"Marketing Data Analyst\",\"Marketing Data Engineer\",\"NLP Engineer\",\"Power BI Developer\",\"Principal Data Analyst\",\"Principal Data Architect\",\"Principal Data Engineer\",\"Principal Data Scientist\",\"Principal Machine Learning Engineer\",\"Product Data Analyst\",\"Product Data Scientist\",\"Research Engineer\",\"Research Scientist\",\"Software Data Engineer\",\"Staff Data Analyst\",\"Staff Data Scientist\"],\"marker\":{\"colors\":[\"rgb(237, 229, 207)\",\"rgb(224, 194, 162)\",\"rgb(211, 156, 131)\",\"rgb(193, 118, 111)\",\"rgb(166, 84, 97)\",\"rgb(129, 55, 83)\",\"rgb(84, 31, 63)\",\"rgb(237, 229, 207)\",\"rgb(224, 194, 162)\",\"rgb(211, 156, 131)\",\"rgb(193, 118, 111)\",\"rgb(211, 156, 131)\",\"rgb(166, 84, 97)\",\"rgb(129, 55, 83)\",\"rgb(84, 31, 63)\",\"rgb(237, 229, 207)\",\"rgb(224, 194, 162)\",\"rgb(211, 156, 131)\",\"rgb(224, 194, 162)\",\"rgb(193, 118, 111)\",\"rgb(166, 84, 97)\",\"rgb(129, 55, 83)\",\"rgb(84, 31, 63)\",\"rgb(211, 156, 131)\",\"rgb(237, 229, 207)\",\"rgb(237, 229, 207)\",\"rgb(224, 194, 162)\",\"rgb(211, 156, 131)\",\"rgb(129, 55, 83)\",\"rgb(193, 118, 111)\",\"rgb(166, 84, 97)\",\"rgb(193, 118, 111)\",\"rgb(129, 55, 83)\",\"rgb(129, 55, 83)\",\"rgb(84, 31, 63)\",\"rgb(237, 229, 207)\",\"rgb(224, 194, 162)\",\"rgb(211, 156, 131)\",\"rgb(193, 118, 111)\",\"rgb(166, 84, 97)\",\"rgb(129, 55, 83)\",\"rgb(84, 31, 63)\",\"rgb(166, 84, 97)\",\"rgb(237, 229, 207)\",\"rgb(129, 55, 83)\",\"rgb(224, 194, 162)\",\"rgb(193, 118, 111)\",\"rgb(211, 156, 131)\",\"rgb(193, 118, 111)\",\"rgb(166, 84, 97)\",\"rgb(166, 84, 97)\",\"rgb(193, 118, 111)\",\"rgb(129, 55, 83)\",\"rgb(84, 31, 63)\",\"rgb(211, 156, 131)\",\"rgb(129, 55, 83)\",\"rgb(237, 229, 207)\",\"rgb(193, 118, 111)\",\"rgb(237, 229, 207)\",\"rgb(129, 55, 83)\",\"rgb(224, 194, 162)\",\"rgb(237, 229, 207)\",\"rgb(211, 156, 131)\",\"rgb(193, 118, 111)\",\"rgb(224, 194, 162)\",\"rgb(166, 84, 97)\",\"rgb(129, 55, 83)\",\"rgb(166, 84, 97)\",\"rgb(193, 118, 111)\",\"rgb(211, 156, 131)\",\"rgb(84, 31, 63)\",\"rgb(237, 229, 207)\",\"rgb(84, 31, 63)\",\"rgb(224, 194, 162)\",\"rgb(211, 156, 131)\",\"rgb(211, 156, 131)\",\"rgb(193, 118, 111)\",\"rgb(166, 84, 97)\",\"rgb(129, 55, 83)\",\"rgb(129, 55, 83)\",\"rgb(84, 31, 63)\",\"rgb(237, 229, 207)\",\"rgb(224, 194, 162)\",\"rgb(237, 229, 207)\",\"rgb(166, 84, 97)\",\"rgb(84, 31, 63)\",\"rgb(193, 118, 111)\",\"rgb(211, 156, 131)\",\"rgb(193, 118, 111)\",\"rgb(84, 31, 63)\",\"rgb(84, 31, 63)\",\"rgb(237, 229, 207)\",\"rgb(237, 229, 207)\",\"rgb(193, 118, 111)\",\"rgb(166, 84, 97)\",\"rgb(237, 229, 207)\",\"rgb(211, 156, 131)\",\"rgb(129, 55, 83)\",\"rgb(129, 55, 83)\",\"rgb(211, 156, 131)\",\"rgb(84, 31, 63)\",\"rgb(237, 229, 207)\",\"rgb(224, 194, 162)\",\"rgb(129, 55, 83)\",\"rgb(211, 156, 131)\",\"rgb(193, 118, 111)\",\"rgb(193, 118, 111)\",\"rgb(224, 194, 162)\",\"rgb(129, 55, 83)\",\"rgb(166, 84, 97)\",\"rgb(84, 31, 63)\",\"rgb(129, 55, 83)\",\"rgb(166, 84, 97)\",\"rgb(129, 55, 83)\",\"rgb(129, 55, 83)\",\"rgb(84, 31, 63)\",\"rgb(84, 31, 63)\",\"rgb(237, 229, 207)\",\"rgb(224, 194, 162)\",\"rgb(166, 84, 97)\",\"rgb(193, 118, 111)\",\"rgb(224, 194, 162)\",\"rgb(224, 194, 162)\",\"rgb(211, 156, 131)\",\"rgb(193, 118, 111)\",\"rgb(224, 194, 162)\",\"rgb(166, 84, 97)\",\"rgb(129, 55, 83)\",\"rgb(84, 31, 63)\",\"rgb(166, 84, 97)\",\"rgb(129, 55, 83)\",\"rgb(237, 229, 207)\",\"rgb(166, 84, 97)\",\"rgb(224, 194, 162)\",\"rgb(211, 156, 131)\",\"rgb(84, 31, 63)\",\"rgb(211, 156, 131)\",\"rgb(211, 156, 131)\",\"rgb(211, 156, 131)\",\"rgb(84, 31, 63)\",\"rgb(193, 118, 111)\",\"rgb(84, 31, 63)\",\"rgb(237, 229, 207)\",\"rgb(84, 31, 63)\",\"rgb(224, 194, 162)\",\"rgb(224, 194, 162)\",\"rgb(237, 229, 207)\",\"rgb(211, 156, 131)\",\"rgb(211, 156, 131)\",\"rgb(193, 118, 111)\",\"rgb(84, 31, 63)\",\"rgb(193, 118, 111)\",\"rgb(193, 118, 111)\",\"rgb(129, 55, 83)\",\"rgb(211, 156, 131)\",\"rgb(129, 55, 83)\",\"rgb(84, 31, 63)\",\"rgb(224, 194, 162)\",\"rgb(237, 229, 207)\",\"rgb(84, 31, 63)\",\"rgb(211, 156, 131)\",\"rgb(224, 194, 162)\",\"rgb(224, 194, 162)\",\"rgb(166, 84, 97)\",\"rgb(224, 194, 162)\",\"rgb(211, 156, 131)\",\"rgb(193, 118, 111)\",\"rgb(166, 84, 97)\",\"rgb(193, 118, 111)\",\"rgb(129, 55, 83)\",\"rgb(84, 31, 63)\",\"rgb(224, 194, 162)\",\"rgb(237, 229, 207)\",\"rgb(193, 118, 111)\",\"rgb(224, 194, 162)\",\"rgb(129, 55, 83)\",\"rgb(84, 31, 63)\",\"rgb(193, 118, 111)\",\"rgb(129, 55, 83)\",\"rgb(84, 31, 63)\",\"rgb(166, 84, 97)\",\"rgb(84, 31, 63)\",\"rgb(211, 156, 131)\",\"rgb(237, 229, 207)\",\"rgb(237, 229, 207)\",\"rgb(211, 156, 131)\",\"rgb(166, 84, 97)\",\"rgb(129, 55, 83)\",\"rgb(129, 55, 83)\",\"rgb(211, 156, 131)\",\"rgb(166, 84, 97)\",\"rgb(193, 118, 111)\",\"rgb(237, 229, 207)\",\"rgb(237, 229, 207)\",\"rgb(84, 31, 63)\",\"rgb(193, 118, 111)\",\"rgb(224, 194, 162)\",\"rgb(84, 31, 63)\",\"rgb(224, 194, 162)\",\"rgb(129, 55, 83)\",\"rgb(237, 229, 207)\",\"rgb(237, 229, 207)\",\"rgb(129, 55, 83)\",\"rgb(211, 156, 131)\",\"rgb(84, 31, 63)\",\"rgb(224, 194, 162)\",\"rgb(84, 31, 63)\",\"rgb(166, 84, 97)\",\"rgb(193, 118, 111)\",\"rgb(166, 84, 97)\",\"rgb(237, 229, 207)\",\"rgb(129, 55, 83)\",\"rgb(224, 194, 162)\",\"rgb(193, 118, 111)\",\"rgb(193, 118, 111)\",\"rgb(237, 229, 207)\",\"rgb(166, 84, 97)\",\"rgb(237, 229, 207)\",\"rgb(166, 84, 97)\",\"rgb(166, 84, 97)\",\"rgb(166, 84, 97)\",\"rgb(193, 118, 111)\",\"rgb(193, 118, 111)\",\"rgb(129, 55, 83)\",\"rgb(237, 229, 207)\",\"rgb(211, 156, 131)\",\"rgb(193, 118, 111)\",\"rgb(224, 194, 162)\",\"rgb(129, 55, 83)\",\"rgb(84, 31, 63)\",\"rgb(129, 55, 83)\",\"rgb(224, 194, 162)\",\"rgb(237, 229, 207)\",\"rgb(166, 84, 97)\",\"rgb(129, 55, 83)\",\"rgb(211, 156, 131)\",\"rgb(193, 118, 111)\",\"rgb(211, 156, 131)\",\"rgb(166, 84, 97)\",\"rgb(84, 31, 63)\",\"rgb(84, 31, 63)\",\"rgb(129, 55, 83)\",\"rgb(193, 118, 111)\",\"rgb(237, 229, 207)\",\"rgb(129, 55, 83)\",\"rgb(211, 156, 131)\",\"rgb(224, 194, 162)\",\"rgb(84, 31, 63)\",\"rgb(237, 229, 207)\",\"rgb(224, 194, 162)\",\"rgb(237, 229, 207)\",\"rgb(166, 84, 97)\",\"rgb(84, 31, 63)\",\"rgb(211, 156, 131)\",\"rgb(129, 55, 83)\",\"rgb(224, 194, 162)\",\"rgb(166, 84, 97)\",\"rgb(237, 229, 207)\",\"rgb(193, 118, 111)\",\"rgb(193, 118, 111)\",\"rgb(166, 84, 97)\",\"rgb(193, 118, 111)\",\"rgb(224, 194, 162)\",\"rgb(193, 118, 111)\",\"rgb(84, 31, 63)\",\"rgb(237, 229, 207)\",\"rgb(129, 55, 83)\",\"rgb(224, 194, 162)\",\"rgb(237, 229, 207)\",\"rgb(129, 55, 83)\",\"rgb(224, 194, 162)\",\"rgb(211, 156, 131)\",\"rgb(224, 194, 162)\",\"rgb(237, 229, 207)\",\"rgb(193, 118, 111)\",\"rgb(84, 31, 63)\",\"rgb(84, 31, 63)\",\"rgb(224, 194, 162)\",\"rgb(237, 229, 207)\",\"rgb(224, 194, 162)\",\"rgb(224, 194, 162)\",\"rgb(237, 229, 207)\",\"rgb(166, 84, 97)\",\"rgb(84, 31, 63)\",\"rgb(211, 156, 131)\",\"rgb(129, 55, 83)\",\"rgb(237, 229, 207)\",\"rgb(166, 84, 97)\",\"rgb(84, 31, 63)\",\"rgb(193, 118, 111)\",\"rgb(211, 156, 131)\",\"rgb(166, 84, 97)\",\"rgb(129, 55, 83)\",\"rgb(84, 31, 63)\",\"rgb(166, 84, 97)\",\"rgb(84, 31, 63)\",\"rgb(211, 156, 131)\",\"rgb(224, 194, 162)\",\"rgb(84, 31, 63)\",\"rgb(211, 156, 131)\",\"rgb(211, 156, 131)\",\"rgb(211, 156, 131)\",\"rgb(224, 194, 162)\",\"rgb(166, 84, 97)\",\"rgb(129, 55, 83)\",\"rgb(211, 156, 131)\",\"rgb(129, 55, 83)\",\"rgb(211, 156, 131)\",\"rgb(224, 194, 162)\",\"rgb(237, 229, 207)\",\"rgb(237, 229, 207)\",\"rgb(237, 229, 207)\",\"rgb(166, 84, 97)\",\"rgb(224, 194, 162)\",\"rgb(84, 31, 63)\",\"rgb(211, 156, 131)\",\"rgb(166, 84, 97)\",\"rgb(211, 156, 131)\",\"rgb(211, 156, 131)\",\"rgb(193, 118, 111)\",\"rgb(237, 229, 207)\",\"rgb(224, 194, 162)\",\"rgb(224, 194, 162)\",\"rgb(237, 229, 207)\",\"rgb(224, 194, 162)\",\"rgb(166, 84, 97)\",\"rgb(237, 229, 207)\",\"rgb(129, 55, 83)\",\"rgb(237, 229, 207)\",\"rgb(224, 194, 162)\",\"rgb(166, 84, 97)\",\"rgb(166, 84, 97)\",\"rgb(237, 229, 207)\",\"rgb(166, 84, 97)\",\"rgb(193, 118, 111)\",\"rgb(166, 84, 97)\",\"rgb(193, 118, 111)\",\"rgb(237, 229, 207)\",\"rgb(211, 156, 131)\",\"rgb(84, 31, 63)\",\"rgb(237, 229, 207)\",\"rgb(224, 194, 162)\",\"rgb(84, 31, 63)\",\"rgb(129, 55, 83)\",\"rgb(224, 194, 162)\",\"rgb(224, 194, 162)\",\"rgb(237, 229, 207)\",\"rgb(224, 194, 162)\",\"rgb(211, 156, 131)\",\"rgb(129, 55, 83)\",\"rgb(237, 229, 207)\",\"rgb(84, 31, 63)\",\"rgb(166, 84, 97)\",\"rgb(129, 55, 83)\",\"rgb(166, 84, 97)\",\"rgb(211, 156, 131)\",\"rgb(193, 118, 111)\",\"rgb(166, 84, 97)\",\"rgb(224, 194, 162)\",\"rgb(84, 31, 63)\",\"rgb(84, 31, 63)\",\"rgb(193, 118, 111)\",\"rgb(129, 55, 83)\",\"rgb(224, 194, 162)\",\"rgb(224, 194, 162)\",\"rgb(224, 194, 162)\",\"rgb(166, 84, 97)\",\"rgb(211, 156, 131)\",\"rgb(129, 55, 83)\",\"rgb(166, 84, 97)\",\"rgb(84, 31, 63)\",\"rgb(224, 194, 162)\",\"rgb(211, 156, 131)\",\"rgb(84, 31, 63)\",\"rgb(237, 229, 207)\",\"rgb(224, 194, 162)\",\"rgb(84, 31, 63)\",\"rgb(193, 118, 111)\",\"rgb(211, 156, 131)\",\"rgb(211, 156, 131)\",\"rgb(166, 84, 97)\",\"rgb(224, 194, 162)\",\"rgb(129, 55, 83)\",\"rgb(166, 84, 97)\",\"rgb(237, 229, 207)\",\"rgb(129, 55, 83)\",\"rgb(211, 156, 131)\",\"rgb(237, 229, 207)\",\"rgb(129, 55, 83)\",\"rgb(237, 229, 207)\",\"rgb(224, 194, 162)\",\"rgb(211, 156, 131)\",\"rgb(166, 84, 97)\",\"rgb(193, 118, 111)\",\"rgb(211, 156, 131)\",\"rgb(211, 156, 131)\",\"rgb(237, 229, 207)\",\"rgb(84, 31, 63)\",\"rgb(166, 84, 97)\",\"rgb(129, 55, 83)\",\"rgb(193, 118, 111)\",\"rgb(193, 118, 111)\",\"rgb(237, 229, 207)\",\"rgb(193, 118, 111)\",\"rgb(129, 55, 83)\",\"rgb(166, 84, 97)\",\"rgb(84, 31, 63)\",\"rgb(237, 229, 207)\",\"rgb(129, 55, 83)\",\"rgb(193, 118, 111)\",\"rgb(211, 156, 131)\",\"rgb(224, 194, 162)\",\"rgb(211, 156, 131)\",\"rgb(237, 229, 207)\",\"rgb(193, 118, 111)\",\"rgb(224, 194, 162)\",\"rgb(193, 118, 111)\",\"rgb(84, 31, 63)\",\"rgb(129, 55, 83)\",\"rgb(237, 229, 207)\",\"rgb(129, 55, 83)\",\"rgb(166, 84, 97)\",\"rgb(129, 55, 83)\",\"rgb(193, 118, 111)\",\"rgb(166, 84, 97)\",\"rgb(193, 118, 111)\",\"rgb(224, 194, 162)\",\"rgb(211, 156, 131)\",\"rgb(237, 229, 207)\",\"rgb(211, 156, 131)\",\"rgb(129, 55, 83)\",\"rgb(129, 55, 83)\",\"rgb(224, 194, 162)\",\"rgb(166, 84, 97)\",\"rgb(193, 118, 111)\",\"rgb(166, 84, 97)\",\"rgb(237, 229, 207)\",\"rgb(84, 31, 63)\",\"rgb(224, 194, 162)\",\"rgb(166, 84, 97)\",\"rgb(166, 84, 97)\",\"rgb(193, 118, 111)\",\"rgb(84, 31, 63)\",\"rgb(129, 55, 83)\",\"rgb(224, 194, 162)\",\"rgb(237, 229, 207)\",\"rgb(84, 31, 63)\",\"rgb(84, 31, 63)\",\"rgb(211, 156, 131)\",\"rgb(224, 194, 162)\",\"rgb(224, 194, 162)\",\"rgb(166, 84, 97)\",\"rgb(129, 55, 83)\",\"rgb(224, 194, 162)\",\"rgb(193, 118, 111)\",\"rgb(237, 229, 207)\",\"rgb(84, 31, 63)\",\"rgb(84, 31, 63)\",\"rgb(224, 194, 162)\",\"rgb(84, 31, 63)\",\"rgb(166, 84, 97)\",\"rgb(237, 229, 207)\",\"rgb(211, 156, 131)\",\"rgb(84, 31, 63)\",\"rgb(224, 194, 162)\",\"rgb(211, 156, 131)\",\"rgb(84, 31, 63)\",\"rgb(237, 229, 207)\",\"rgb(224, 194, 162)\",\"rgb(84, 31, 63)\",\"rgb(193, 118, 111)\",\"rgb(211, 156, 131)\",\"rgb(211, 156, 131)\",\"rgb(166, 84, 97)\",\"rgb(224, 194, 162)\",\"rgb(129, 55, 83)\",\"rgb(166, 84, 97)\",\"rgb(237, 229, 207)\",\"rgb(129, 55, 83)\",\"rgb(211, 156, 131)\",\"rgb(237, 229, 207)\",\"rgb(129, 55, 83)\",\"rgb(237, 229, 207)\",\"rgb(224, 194, 162)\",\"rgb(211, 156, 131)\",\"rgb(166, 84, 97)\",\"rgb(193, 118, 111)\",\"rgb(211, 156, 131)\",\"rgb(211, 156, 131)\",\"rgb(237, 229, 207)\",\"rgb(84, 31, 63)\",\"rgb(166, 84, 97)\",\"rgb(129, 55, 83)\",\"rgb(193, 118, 111)\",\"rgb(193, 118, 111)\",\"rgb(237, 229, 207)\",\"rgb(193, 118, 111)\",\"rgb(129, 55, 83)\",\"rgb(166, 84, 97)\",\"rgb(84, 31, 63)\",\"rgb(237, 229, 207)\",\"rgb(129, 55, 83)\",\"rgb(193, 118, 111)\",\"rgb(211, 156, 131)\",\"rgb(224, 194, 162)\",\"rgb(211, 156, 131)\",\"rgb(237, 229, 207)\",\"rgb(193, 118, 111)\",\"rgb(224, 194, 162)\",\"rgb(193, 118, 111)\",\"rgb(84, 31, 63)\",\"rgb(129, 55, 83)\",\"rgb(237, 229, 207)\",\"rgb(129, 55, 83)\",\"rgb(166, 84, 97)\",\"rgb(129, 55, 83)\",\"rgb(193, 118, 111)\",\"rgb(166, 84, 97)\",\"rgb(193, 118, 111)\",\"rgb(224, 194, 162)\",\"rgb(211, 156, 131)\",\"rgb(237, 229, 207)\",\"rgb(211, 156, 131)\",\"rgb(129, 55, 83)\",\"rgb(129, 55, 83)\",\"rgb(224, 194, 162)\",\"rgb(166, 84, 97)\",\"rgb(193, 118, 111)\",\"rgb(166, 84, 97)\",\"rgb(237, 229, 207)\",\"rgb(84, 31, 63)\",\"rgb(224, 194, 162)\",\"rgb(166, 84, 97)\",\"rgb(166, 84, 97)\",\"rgb(193, 118, 111)\",\"rgb(84, 31, 63)\",\"rgb(129, 55, 83)\",\"rgb(224, 194, 162)\",\"rgb(237, 229, 207)\",\"rgb(84, 31, 63)\",\"rgb(84, 31, 63)\",\"rgb(211, 156, 131)\",\"rgb(224, 194, 162)\",\"rgb(224, 194, 162)\",\"rgb(166, 84, 97)\",\"rgb(129, 55, 83)\",\"rgb(224, 194, 162)\",\"rgb(193, 118, 111)\",\"rgb(237, 229, 207)\",\"rgb(84, 31, 63)\",\"rgb(84, 31, 63)\",\"rgb(224, 194, 162)\",\"rgb(84, 31, 63)\",\"rgb(166, 84, 97)\",\"rgb(237, 229, 207)\",\"rgb(211, 156, 131)\",\"rgb(84, 31, 63)\",\"rgb(224, 194, 162)\",\"rgb(211, 156, 131)\",\"rgb(84, 31, 63)\",\"rgb(237, 229, 207)\",\"rgb(224, 194, 162)\",\"rgb(84, 31, 63)\",\"rgb(193, 118, 111)\",\"rgb(211, 156, 131)\",\"rgb(211, 156, 131)\",\"rgb(166, 84, 97)\",\"rgb(224, 194, 162)\",\"rgb(129, 55, 83)\",\"rgb(166, 84, 97)\",\"rgb(237, 229, 207)\",\"rgb(129, 55, 83)\",\"rgb(211, 156, 131)\",\"rgb(237, 229, 207)\",\"rgb(129, 55, 83)\",\"rgb(237, 229, 207)\",\"rgb(224, 194, 162)\",\"rgb(211, 156, 131)\",\"rgb(166, 84, 97)\",\"rgb(193, 118, 111)\",\"rgb(211, 156, 131)\",\"rgb(211, 156, 131)\",\"rgb(237, 229, 207)\",\"rgb(84, 31, 63)\",\"rgb(166, 84, 97)\",\"rgb(129, 55, 83)\",\"rgb(193, 118, 111)\",\"rgb(193, 118, 111)\",\"rgb(237, 229, 207)\",\"rgb(193, 118, 111)\",\"rgb(129, 55, 83)\",\"rgb(166, 84, 97)\",\"rgb(84, 31, 63)\",\"rgb(237, 229, 207)\",\"rgb(129, 55, 83)\",\"rgb(193, 118, 111)\",\"rgb(211, 156, 131)\",\"rgb(224, 194, 162)\",\"rgb(211, 156, 131)\",\"rgb(237, 229, 207)\",\"rgb(193, 118, 111)\",\"rgb(224, 194, 162)\",\"rgb(193, 118, 111)\",\"rgb(84, 31, 63)\",\"rgb(129, 55, 83)\",\"rgb(237, 229, 207)\",\"rgb(129, 55, 83)\",\"rgb(166, 84, 97)\",\"rgb(129, 55, 83)\",\"rgb(193, 118, 111)\",\"rgb(166, 84, 97)\",\"rgb(193, 118, 111)\",\"rgb(224, 194, 162)\",\"rgb(211, 156, 131)\",\"rgb(237, 229, 207)\",\"rgb(211, 156, 131)\",\"rgb(129, 55, 83)\",\"rgb(129, 55, 83)\",\"rgb(224, 194, 162)\",\"rgb(166, 84, 97)\",\"rgb(193, 118, 111)\",\"rgb(166, 84, 97)\",\"rgb(237, 229, 207)\",\"rgb(84, 31, 63)\",\"rgb(224, 194, 162)\",\"rgb(166, 84, 97)\",\"rgb(166, 84, 97)\",\"rgb(193, 118, 111)\",\"rgb(84, 31, 63)\",\"rgb(129, 55, 83)\",\"rgb(224, 194, 162)\",\"rgb(237, 229, 207)\",\"rgb(84, 31, 63)\",\"rgb(84, 31, 63)\",\"rgb(211, 156, 131)\",\"rgb(224, 194, 162)\",\"rgb(224, 194, 162)\",\"rgb(166, 84, 97)\",\"rgb(129, 55, 83)\",\"rgb(224, 194, 162)\",\"rgb(193, 118, 111)\",\"rgb(237, 229, 207)\",\"rgb(84, 31, 63)\",\"rgb(84, 31, 63)\",\"rgb(224, 194, 162)\",\"rgb(84, 31, 63)\",\"rgb(166, 84, 97)\",\"rgb(237, 229, 207)\",\"rgb(211, 156, 131)\",\"rgb(84, 31, 63)\",\"rgb(224, 194, 162)\",\"rgb(211, 156, 131)\",\"rgb(84, 31, 63)\",\"rgb(237, 229, 207)\",\"rgb(224, 194, 162)\",\"rgb(84, 31, 63)\",\"rgb(193, 118, 111)\",\"rgb(211, 156, 131)\",\"rgb(211, 156, 131)\",\"rgb(166, 84, 97)\",\"rgb(224, 194, 162)\",\"rgb(129, 55, 83)\",\"rgb(166, 84, 97)\",\"rgb(237, 229, 207)\",\"rgb(129, 55, 83)\",\"rgb(211, 156, 131)\",\"rgb(237, 229, 207)\",\"rgb(129, 55, 83)\",\"rgb(237, 229, 207)\",\"rgb(224, 194, 162)\",\"rgb(211, 156, 131)\",\"rgb(166, 84, 97)\",\"rgb(193, 118, 111)\",\"rgb(211, 156, 131)\",\"rgb(211, 156, 131)\",\"rgb(237, 229, 207)\",\"rgb(84, 31, 63)\",\"rgb(166, 84, 97)\",\"rgb(129, 55, 83)\",\"rgb(193, 118, 111)\",\"rgb(193, 118, 111)\",\"rgb(237, 229, 207)\",\"rgb(193, 118, 111)\",\"rgb(129, 55, 83)\",\"rgb(166, 84, 97)\",\"rgb(84, 31, 63)\",\"rgb(237, 229, 207)\",\"rgb(129, 55, 83)\",\"rgb(193, 118, 111)\",\"rgb(211, 156, 131)\",\"rgb(224, 194, 162)\",\"rgb(211, 156, 131)\",\"rgb(237, 229, 207)\",\"rgb(193, 118, 111)\",\"rgb(224, 194, 162)\",\"rgb(193, 118, 111)\",\"rgb(84, 31, 63)\",\"rgb(129, 55, 83)\",\"rgb(237, 229, 207)\",\"rgb(129, 55, 83)\",\"rgb(166, 84, 97)\",\"rgb(129, 55, 83)\",\"rgb(193, 118, 111)\",\"rgb(166, 84, 97)\",\"rgb(193, 118, 111)\",\"rgb(224, 194, 162)\",\"rgb(211, 156, 131)\",\"rgb(237, 229, 207)\",\"rgb(211, 156, 131)\",\"rgb(129, 55, 83)\",\"rgb(129, 55, 83)\",\"rgb(224, 194, 162)\",\"rgb(166, 84, 97)\",\"rgb(193, 118, 111)\",\"rgb(166, 84, 97)\",\"rgb(237, 229, 207)\",\"rgb(84, 31, 63)\",\"rgb(224, 194, 162)\",\"rgb(166, 84, 97)\",\"rgb(166, 84, 97)\",\"rgb(193, 118, 111)\",\"rgb(84, 31, 63)\",\"rgb(129, 55, 83)\",\"rgb(224, 194, 162)\",\"rgb(237, 229, 207)\",\"rgb(84, 31, 63)\",\"rgb(84, 31, 63)\",\"rgb(211, 156, 131)\",\"rgb(224, 194, 162)\",\"rgb(224, 194, 162)\",\"rgb(166, 84, 97)\",\"rgb(129, 55, 83)\",\"rgb(224, 194, 162)\",\"rgb(193, 118, 111)\",\"rgb(237, 229, 207)\",\"rgb(84, 31, 63)\",\"rgb(84, 31, 63)\",\"rgb(224, 194, 162)\",\"rgb(84, 31, 63)\",\"rgb(166, 84, 97)\",\"rgb(237, 229, 207)\",\"rgb(211, 156, 131)\",\"rgb(84, 31, 63)\",\"rgb(224, 194, 162)\",\"rgb(211, 156, 131)\",\"rgb(84, 31, 63)\",\"rgb(237, 229, 207)\",\"rgb(224, 194, 162)\",\"rgb(84, 31, 63)\",\"rgb(193, 118, 111)\",\"rgb(211, 156, 131)\",\"rgb(211, 156, 131)\",\"rgb(166, 84, 97)\",\"rgb(224, 194, 162)\",\"rgb(129, 55, 83)\",\"rgb(166, 84, 97)\",\"rgb(237, 229, 207)\",\"rgb(129, 55, 83)\",\"rgb(211, 156, 131)\",\"rgb(237, 229, 207)\",\"rgb(129, 55, 83)\",\"rgb(237, 229, 207)\",\"rgb(224, 194, 162)\",\"rgb(211, 156, 131)\",\"rgb(166, 84, 97)\",\"rgb(193, 118, 111)\",\"rgb(211, 156, 131)\",\"rgb(211, 156, 131)\",\"rgb(237, 229, 207)\",\"rgb(84, 31, 63)\",\"rgb(166, 84, 97)\",\"rgb(129, 55, 83)\",\"rgb(193, 118, 111)\",\"rgb(193, 118, 111)\",\"rgb(237, 229, 207)\",\"rgb(193, 118, 111)\",\"rgb(129, 55, 83)\",\"rgb(166, 84, 97)\",\"rgb(84, 31, 63)\",\"rgb(237, 229, 207)\",\"rgb(129, 55, 83)\",\"rgb(193, 118, 111)\",\"rgb(211, 156, 131)\",\"rgb(224, 194, 162)\",\"rgb(211, 156, 131)\",\"rgb(237, 229, 207)\",\"rgb(193, 118, 111)\",\"rgb(224, 194, 162)\",\"rgb(193, 118, 111)\",\"rgb(84, 31, 63)\",\"rgb(129, 55, 83)\",\"rgb(237, 229, 207)\",\"rgb(129, 55, 83)\",\"rgb(166, 84, 97)\",\"rgb(129, 55, 83)\",\"rgb(193, 118, 111)\",\"rgb(166, 84, 97)\",\"rgb(193, 118, 111)\",\"rgb(224, 194, 162)\",\"rgb(211, 156, 131)\",\"rgb(237, 229, 207)\",\"rgb(211, 156, 131)\",\"rgb(129, 55, 83)\",\"rgb(129, 55, 83)\",\"rgb(224, 194, 162)\",\"rgb(166, 84, 97)\",\"rgb(193, 118, 111)\",\"rgb(166, 84, 97)\",\"rgb(237, 229, 207)\",\"rgb(84, 31, 63)\",\"rgb(224, 194, 162)\",\"rgb(166, 84, 97)\",\"rgb(166, 84, 97)\",\"rgb(193, 118, 111)\",\"rgb(84, 31, 63)\",\"rgb(129, 55, 83)\",\"rgb(224, 194, 162)\",\"rgb(237, 229, 207)\",\"rgb(84, 31, 63)\"]},\"name\":\"\",\"parents\":[\"BI Developer\",\"Business Data Analyst\\u002fstd\",\"Data Quality Analyst\\u002fmean\",\"Machine Learning Manager\\u002fmean\",\"Machine Learning Infrastructure Engineer\\u002fstd\",\"Applied Data Scientist\\u002fstd\",\"Principal Data Engineer\\u002fmax\",\"Lead Machine Learning Engineer\\u002fstd\",\"Applied Machine Learning Engineer\\u002fstd\",\"Computer Vision Software Engineer\\u002fmean\",\"Applied Machine Learning Scientist\",\"Computer Vision Software Engineer\\u002fmax\",\"Principal Data Analyst\\u002fmean\",\"Data Analytics Lead\\u002fstd\",\"3D Computer Vision Researcher\\u002fstd\",\"Machine Learning Scientist\\u002fstd\",\"BI Analyst\\u002fstd\",\"Data Operations Engineer\\u002fmax\",\"BI Analyst\\u002fmin\",\"Computer Vision Engineer\\u002fstd\",\"Data Modeler\\u002fmean\",\"Data Infrastructure Engineer\\u002fstd\",\"Cloud Data Architect\\u002fmin\",\"Data Quality Analyst\\u002fmin\",\"BI Developer\\u002fstd\",\"Data Engineer\\u002fmax\",\"Data Analytics Engineer\\u002fmean\",\"Big Data Architect\\u002fmean\",\"Applied Data Scientist\\u002fmin\",\"Data Operations Analyst\\u002fmin\",\"NLP Engineer\\u002fmax\",\"Data Operations Analyst\\u002fmax\",\"ETL Developer\\u002fmin\",\"Data Infrastructure Engineer\\u002fmean\",\"Big Data Engineer\\u002fmin\",\"Data Analytics Specialist\\u002fmean\",\"Cloud Database Engineer\\u002fmean\",\"Data Manager\\u002fmin\",\"ETL Engineer\\u002fmax\",\"BI Data Engineer\",\"Manager Data Management\\u002fmin\",\"Autonomous Vehicle Technician\\u002fstd\",\"Principal Data Analyst\\u002fstd\",\"Head of Data Science\\u002fmax\",\"Manager Data Management\\u002fmax\",\"Marketing Data Engineer\\u002fmean\",\"Data Operations Analyst\\u002fstd\",\"AI Developer\\u002fmax\",\"Head of Machine Learning\\u002fmin\",\"Data Modeler\\u002fmax\",\"Analytics Engineer\",\"Machine Learning Manager\\u002fstd\",\"ML Engineer\\u002fstd\",\"BI Data Analyst\\u002fmax\",\"Data Operations Engineer\\u002fstd\",\"Applied Data Scientist\",\"Staff Data Analyst\\u002fmean\",\"Applied Machine Learning Scientist\\u002fmean\",\"Head of Data Science\\u002fmin\",\"Data Analytics Lead\\u002fmean\",\"AI Scientist\\u002fstd\",\"Staff Data Analyst\\u002fmin\",\"Finance Data Analyst\\u002fmean\",\"Data Specialist\\u002fmax\",\"AI Scientist\\u002fmax\",\"Data Analytics Manager\\u002fmean\",\"Research Scientist\\u002fstd\",\"Data Modeler\\u002fstd\",\"Computer Vision Engineer\\u002fmean\",\"AI Developer\",\"Lead Data Engineer\\u002fstd\",\"Data Science Consultant\\u002fstd\",\"Principal Data Engineer\\u002fmin\",\"Principal Data Scientist\\u002fstd\",\"Data DevOps Engineer\\u002fmean\",\"AI Developer\\u002fmin\",\"Power BI Developer\\u002fmax\",\"Deep Learning Engineer\\u002fmin\",\"Research Scientist\\u002fmean\",\"Marketing Data Analyst\\u002fmin\",\"Compliance Data Analyst\\u002fmean\",\"Director of Data Science\\u002fmax\",\"Financial Data Analyst\\u002fmax\",\"Lead Machine Learning Engineer\\u002fmin\",\"NLP Engineer\\u002fstd\",\"Principal Data Engineer\\u002fstd\",\"ETL Engineer\\u002fmin\",\"Machine Learning Software Engineer\\u002fmean\",\"Machine Learning Engineer\\u002fmean\",\"BI Data Analyst\",\"Autonomous Vehicle Technician\\u002fmax\",\"Data Analytics Specialist\\u002fmin\",\"Data Analytics Specialist\\u002fmax\",\"Machine Learning Engineer\\u002fmin\",\"Product Data Analyst\\u002fstd\",\"BI Developer\\u002fmax\",\"AI Developer\\u002fmean\",\"Data Strategist\\u002fmin\",\"Applied Data Scientist\\u002fmax\",\"Big Data Architect\\u002fstd\",\"Deep Learning Researcher\\u002fmean\",\"Data Scientist Lead\\u002fstd\",\"AI Programmer\\u002fstd\",\"ML Engineer\\u002fmax\",\"Head of Data\\u002fmin\",\"Data Science Tech Lead\\u002fmin\",\"ETL Engineer\\u002fmean\",\"Data Analytics Engineer\\u002fmax\",\"Data Infrastructure Engineer\\u002fmin\",\"Principal Data Analyst\\u002fmin\",\"BI Data Analyst\\u002fstd\",\"Research Scientist\\u002fmax\",\"Data Analytics Consultant\\u002fmin\",\"Data Strategist\\u002fmax\",\"Data Architect\\u002fmean\",\"3D Computer Vision Researcher\\u002fmin\",\"Staff Data Scientist\\u002fmin\",\"Cloud Data Engineer\\u002fmin\",\"BI Analyst\\u002fmax\",\"BI Data Engineer\\u002fmin\",\"Machine Learning Engineer\\u002fmax\",\"Data Management Specialist\\u002fmean\",\"Cloud Database Engineer\\u002fstd\",\"Business Intelligence Engineer\\u002fmin\",\"Product Data Scientist\\u002fmax\",\"Applied Machine Learning Engineer\\u002fmean\",\"Principal Machine Learning Engineer\\u002fmax\",\"Data Science Manager\\u002fmin\",\"Data Science Engineer\\u002fstd\",\"Deep Learning Engineer\\u002fmax\",\"Marketing Data Analyst\\u002fstd\",\"Applied Scientist\",\"BI Data Engineer\\u002fmean\",\"Machine Learning Research Engineer\\u002fmin\",\"Data Manager\\u002fmax\",\"Staff Data Scientist\\u002fmean\",\"Head of Data\\u002fmean\",\"Data Operations Engineer\\u002fmean\",\"Data DevOps Engineer\\u002fmax\",\"BI Data Analyst\\u002fmin\",\"Power BI Developer\\u002fmean\",\"Big Data Engineer\\u002fmax\",\"Data Scientist Lead\\u002fmin\",\"3D Computer Vision Researcher\\u002fmax\",\"Financial Data Analyst\\u002fmin\",\"AI Programmer\\u002fmin\",\"Data Engineer\\u002fmean\",\"Data Analyst\\u002fmax\",\"Computer Vision Software Engineer\\u002fmin\",\"Machine Learning Engineer\\u002fstd\",\"Cloud Data Architect\\u002fmean\",\"Machine Learning Manager\\u002fmin\",\"Lead Data Analyst\\u002fmin\",\"Data Science Manager\\u002fstd\",\"Data Manager\\u002fmean\",\"ETL Developer\\u002fmax\",\"Compliance Data Analyst\\u002fmax\",\"Applied Machine Learning Engineer\\u002fmax\",\"Applied Scientist\\u002fmax\",\"Big Data Engineer\\u002fmean\",\"Head of Data\\u002fmax\",\"Financial Data Analyst\\u002fstd\",\"Data Management Specialist\\u002fmax\",\"MLOps Engineer\\u002fmean\",\"AI Programmer\\u002fmax\",\"Machine Learning Software Engineer\\u002fmax\",\"Applied Machine Learning Scientist\\u002fmin\",\"NLP Engineer\\u002fmean\",\"Data Science Tech Lead\\u002fmax\",\"ETL Developer\\u002fmean\",\"Compliance Data Analyst\\u002fmin\",\"Applied Machine Learning Engineer\\u002fmin\",\"BI Developer\\u002fmean\",\"Computer Vision Engineer\\u002fmax\",\"Data Management Specialist\\u002fmin\",\"Lead Data Scientist\\u002fmin\",\"Lead Data Engineer\\u002fmin\",\"Computer Vision Engineer\\u002fmin\",\"Data Science Manager\\u002fmean\",\"Azure Data Engineer\\u002fmin\",\"MLOps Engineer\\u002fstd\",\"Data Science Engineer\\u002fmean\",\"Business Intelligence Engineer\\u002fmean\",\"Applied Scientist\\u002fstd\",\"Head of Data Science\\u002fmean\",\"Computer Vision Software Engineer\\u002fstd\",\"NLP Engineer\\u002fmin\",\"ETL Developer\\u002fstd\",\"Data Strategist\\u002fstd\",\"Data Operations Engineer\\u002fmin\",\"Data Analytics Manager\\u002fmin\",\"Machine Learning Manager\\u002fmax\",\"Data Analytics Specialist\\u002fstd\",\"Data Lead\\u002fmin\",\"BI Data Analyst\\u002fmean\",\"Applied Machine Learning Scientist\\u002fstd\",\"Software Data Engineer\\u002fstd\",\"Cloud Data Architect\\u002fmax\",\"Cloud Database Engineer\\u002fmin\",\"Data Architect\\u002fmin\",\"Data Scientist Lead\\u002fmean\",\"Applied Scientist\\u002fmin\",\"Data Architect\\u002fmax\",\"Machine Learning Researcher\\u002fstd\",\"Lead Data Engineer\\u002fmax\",\"Business Data Analyst\\u002fmean\",\"Deep Learning Researcher\\u002fmax\",\"Data Analytics Manager\\u002fstd\",\"Lead Data Analyst\\u002fstd\",\"Data Analytics Consultant\\u002fmax\",\"Data Lead\\u002fmax\",\"Data Analytics Lead\\u002fmin\",\"Software Data Engineer\\u002fmin\",\"Data Operations Analyst\\u002fmean\",\"Data Scientist\\u002fmin\",\"Machine Learning Scientist\\u002fmean\",\"Data Science Lead\\u002fmin\",\"Staff Data Analyst\\u002fmax\",\"Machine Learning Infrastructure Engineer\\u002fmax\",\"Deep Learning Engineer\\u002fmean\",\"Deep Learning Engineer\\u002fstd\",\"Data Scientist\\u002fmean\",\"Applied Machine Learning Scientist\\u002fmax\",\"Machine Learning Developer\\u002fmean\",\"Data Science Consultant\\u002fmax\",\"Business Intelligence Engineer\\u002fstd\",\"Head of Machine Learning\\u002fmean\",\"AI Scientist\",\"Data Science Manager\\u002fmax\",\"Autonomous Vehicle Technician\\u002fmean\",\"Manager Data Management\\u002fmean\",\"Marketing Data Engineer\\u002fmin\",\"Data Scientist Lead\\u002fmax\",\"Product Data Analyst\\u002fmin\",\"Data Architect\\u002fstd\",\"AI Developer\\u002fstd\",\"Product Data Scientist\\u002fmin\",\"Data Quality Analyst\\u002fmax\",\"Principal Machine Learning Engineer\\u002fmin\",\"Research Engineer\\u002fstd\",\"Lead Data Engineer\\u002fmean\",\"Data Analytics Lead\\u002fmax\",\"Lead Data Analyst\\u002fmean\",\"Principal Data Architect\\u002fmax\",\"Data Strategist\\u002fmean\",\"Machine Learning Researcher\\u002fmax\",\"Machine Learning Research Engineer\\u002fmean\",\"Autonomous Vehicle Technician\",\"Principal Data Architect\\u002fmin\",\"Principal Data Scientist\\u002fmax\",\"Cloud Data Engineer\\u002fstd\",\"Product Data Analyst\\u002fmax\",\"Research Engineer\\u002fmin\",\"Machine Learning Researcher\\u002fmean\",\"Marketing Data Analyst\\u002fmax\",\"Data Analytics Engineer\\u002fmin\",\"Data Science Lead\\u002fstd\",\"Machine Learning Scientist\\u002fmax\",\"ETL Engineer\\u002fstd\",\"Data Specialist\\u002fmean\",\"MLOps Engineer\\u002fmax\",\"Data Specialist\\u002fmin\",\"Machine Learning Research Engineer\\u002fstd\",\"Data Science Tech Lead\\u002fmean\",\"Azure Data Engineer\\u002fmean\",\"Applied Scientist\\u002fmean\",\"Machine Learning Developer\\u002fstd\",\"Business Data Analyst\\u002fmin\",\"Data Lead\\u002fmean\",\"Machine Learning Developer\\u002fmin\",\"AI Scientist\\u002fmean\",\"Finance Data Analyst\\u002fmax\",\"Machine Learning Research Engineer\\u002fmax\",\"Principal Data Architect\\u002fmean\",\"Data Scientist\\u002fmax\",\"Data Science Engineer\\u002fmax\",\"Principal Data Engineer\\u002fmean\",\"AI Scientist\\u002fmin\",\"Director of Data Science\\u002fmin\",\"Financial Data Analyst\\u002fmean\",\"Principal Data Scientist\\u002fmean\",\"Machine Learning Scientist\\u002fmin\",\"BI Data Engineer\\u002fmax\",\"Staff Data Scientist\\u002fmax\",\"Machine Learning Software Engineer\\u002fmin\",\"Lead Data Scientist\\u002fmax\",\"BI Developer\\u002fmin\",\"Product Data Analyst\\u002fmean\",\"Azure Data Engineer\",\"Data Specialist\\u002fstd\",\"Big Data Architect\\u002fmax\",\"Data Analytics Consultant\\u002fmean\",\"Lead Data Scientist\\u002fstd\",\"Deep Learning Researcher\\u002fmin\",\"Analytics Engineer\\u002fmax\",\"3D Computer Vision Researcher\\u002fmean\",\"Data DevOps Engineer\\u002fmin\",\"Cloud Database Engineer\\u002fmax\",\"Autonomous Vehicle Technician\\u002fmin\",\"Machine Learning Software Engineer\\u002fstd\",\"Head of Data\\u002fstd\",\"Data Analyst\\u002fmin\",\"Insight Analyst\\u002fmax\",\"Principal Data Analyst\\u002fmax\",\"ML Engineer\\u002fmin\",\"Finance Data Analyst\\u002fmin\",\"Lead Data Scientist\\u002fmean\",\"Business Intelligence Engineer\\u002fmax\",\"BI Analyst\\u002fmean\",\"Director of Data Science\\u002fmean\",\"Data Engineer\\u002fmin\",\"Data Engineer\\u002fstd\",\"Machine Learning Infrastructure Engineer\\u002fmean\",\"Software Data Engineer\\u002fmax\",\"3D Computer Vision Researcher\",\"Data Manager\\u002fstd\",\"Data Analytics Manager\\u002fmax\",\"Data Analyst\\u002fmean\",\"Data Quality Analyst\\u002fstd\",\"Data Scientist\\u002fstd\",\"Cloud Data Engineer\\u002fmean\",\"Business Data Analyst\",\"Data Analytics Engineer\\u002fstd\",\"Cloud Data Engineer\\u002fmax\",\"Software Data Engineer\\u002fmean\",\"Data Science Lead\\u002fmax\",\"Data Lead\\u002fstd\",\"Applied Data Scientist\\u002fmean\",\"Lead Machine Learning Engineer\\u002fmean\",\"BI Analyst\",\"Data Analytics Consultant\\u002fstd\",\"Analytics Engineer\\u002fmean\",\"Data Science Consultant\\u002fmin\",\"Machine Learning Infrastructure Engineer\\u002fmin\",\"Lead Data Analyst\\u002fmax\",\"Data Modeler\\u002fmin\",\"Power BI Developer\\u002fmin\",\"Director of Data Science\\u002fstd\",\"Machine Learning Researcher\\u002fmin\",\"Research Engineer\\u002fmean\",\"Lead Machine Learning Engineer\\u002fmax\",\"Insight Analyst\\u002fstd\",\"Big Data Engineer\\u002fstd\",\"Machine Learning Developer\\u002fmax\",\"Insight Analyst\\u002fmin\",\"Business Data Analyst\\u002fmax\",\"Head of Data Science\\u002fstd\",\"Applied Machine Learning Engineer\",\"Data Analyst\\u002fstd\",\"ML Engineer\\u002fmean\",\"Data Science Consultant\\u002fmean\",\"Big Data Engineer\",\"Analytics Engineer\\u002fmin\",\"Data Infrastructure Engineer\\u002fmax\",\"Analytics Engineer\\u002fstd\",\"Big Data Architect\\u002fmin\",\"Product Data Scientist\\u002fmean\",\"Principal Machine Learning Engineer\\u002fmean\",\"AI Programmer\\u002fmean\",\"Azure Data Engineer\\u002fmax\",\"Data Science Engineer\\u002fmin\",\"Head of Machine Learning\\u002fmax\",\"Marketing Data Analyst\\u002fmean\",\"AI Programmer\",\"Insight Analyst\\u002fmean\",\"Principal Data Scientist\\u002fmin\",\"Data Science Lead\\u002fmean\",\"Big Data Architect\",\"Research Scientist\\u002fmin\",\"MLOps Engineer\\u002fmin\",\"Research Engineer\\u002fmax\",\"Marketing Data Engineer\\u002fmax\",\"Business Intelligence Engineer\",\"Cloud Data Architect\",\"Cloud Data Engineer\",\"Cloud Database Engineer\",\"Compliance Data Analyst\",\"Computer Vision Engineer\",\"Computer Vision Software Engineer\",\"Data Analyst\",\"Data Analytics Consultant\",\"Data Analytics Engineer\",\"Data Analytics Lead\",\"Data Analytics Manager\",\"Data Analytics Specialist\",\"Data Architect\",\"Data DevOps Engineer\",\"Data Engineer\",\"Data Infrastructure Engineer\",\"Data Lead\",\"Data Management Specialist\",\"Data Manager\",\"Data Modeler\",\"Data Operations Analyst\",\"Data Operations Engineer\",\"Data Quality Analyst\",\"Data Science Consultant\",\"Data Science Engineer\",\"Data Science Lead\",\"Data Science Manager\",\"Data Science Tech Lead\",\"Data Scientist\",\"Data Scientist Lead\",\"Data Specialist\",\"Data Strategist\",\"Deep Learning Engineer\",\"Deep Learning Researcher\",\"Director of Data Science\",\"ETL Developer\",\"ETL Engineer\",\"Finance Data Analyst\",\"Financial Data Analyst\",\"Head of Data\",\"Head of Data Science\",\"Head of Machine Learning\",\"Insight Analyst\",\"Lead Data Analyst\",\"Lead Data Engineer\",\"Lead Data Scientist\",\"Lead Machine Learning Engineer\",\"ML Engineer\",\"MLOps Engineer\",\"Machine Learning Developer\",\"Machine Learning Engineer\",\"Machine Learning Infrastructure Engineer\",\"Machine Learning Manager\",\"Machine Learning Research Engineer\",\"Machine Learning Researcher\",\"Machine Learning Scientist\",\"Machine Learning Software Engineer\",\"Manager Data Management\",\"Marketing Data Analyst\",\"Marketing Data Engineer\",\"NLP Engineer\",\"Power BI Developer\",\"Principal Data Analyst\",\"Principal Data Architect\",\"Principal Data Engineer\",\"Principal Data Scientist\",\"Principal Machine Learning Engineer\",\"Product Data Analyst\",\"Product Data Scientist\",\"Research Engineer\",\"Research Scientist\",\"Software Data Engineer\",\"Staff Data Analyst\",\"Staff Data Scientist\",\"3D Computer Vision Researcher\",\"AI Developer\",\"AI Programmer\",\"AI Scientist\",\"Analytics Engineer\",\"Applied Data Scientist\",\"Applied Machine Learning Engineer\",\"Applied Machine Learning Scientist\",\"Applied Scientist\",\"Autonomous Vehicle Technician\",\"Azure Data Engineer\",\"BI Analyst\",\"BI Data Analyst\",\"BI Data Engineer\",\"BI Developer\",\"Big Data Architect\",\"Big Data Engineer\",\"Business Data Analyst\",\"Business Intelligence Engineer\",\"Cloud Data Architect\",\"Cloud Data Engineer\",\"Cloud Database Engineer\",\"Compliance Data Analyst\",\"Computer Vision Engineer\",\"Computer Vision Software Engineer\",\"Data Analyst\",\"Data Analytics Consultant\",\"Data Analytics Engineer\",\"Data Analytics Lead\",\"Data Analytics Manager\",\"Data Analytics Specialist\",\"Data Architect\",\"Data DevOps Engineer\",\"Data Engineer\",\"Data Infrastructure Engineer\",\"Data Lead\",\"Data Management Specialist\",\"Data Manager\",\"Data Modeler\",\"Data Operations Analyst\",\"Data Operations Engineer\",\"Data Quality Analyst\",\"Data Science Consultant\",\"Data Science Engineer\",\"Data Science Lead\",\"Data Science Manager\",\"Data Science Tech Lead\",\"Data Scientist\",\"Data Scientist Lead\",\"Data Specialist\",\"Data Strategist\",\"Deep Learning Engineer\",\"Deep Learning Researcher\",\"Director of Data Science\",\"ETL Developer\",\"ETL Engineer\",\"Finance Data Analyst\",\"Financial Data Analyst\",\"Head of Data\",\"Head of Data Science\",\"Head of Machine Learning\",\"Insight Analyst\",\"Lead Data Analyst\",\"Lead Data Engineer\",\"Lead Data Scientist\",\"Lead Machine Learning Engineer\",\"ML Engineer\",\"MLOps Engineer\",\"Machine Learning Developer\",\"Machine Learning Engineer\",\"Machine Learning Infrastructure Engineer\",\"Machine Learning Manager\",\"Machine Learning Research Engineer\",\"Machine Learning Researcher\",\"Machine Learning Scientist\",\"Machine Learning Software Engineer\",\"Manager Data Management\",\"Marketing Data Analyst\",\"Marketing Data Engineer\",\"NLP Engineer\",\"Power BI Developer\",\"Principal Data Analyst\",\"Principal Data Architect\",\"Principal Data Engineer\",\"Principal Data Scientist\",\"Principal Machine Learning Engineer\",\"Product Data Analyst\",\"Product Data Scientist\",\"Research Engineer\",\"Research Scientist\",\"Software Data Engineer\",\"Staff Data Analyst\",\"Staff Data Scientist\",\"3D Computer Vision Researcher\",\"AI Developer\",\"AI Programmer\",\"AI Scientist\",\"Analytics Engineer\",\"Applied Data Scientist\",\"Applied Machine Learning Engineer\",\"Applied Machine Learning Scientist\",\"Applied Scientist\",\"Autonomous Vehicle Technician\",\"Azure Data Engineer\",\"BI Analyst\",\"BI Data Analyst\",\"BI Data Engineer\",\"BI Developer\",\"Big Data Architect\",\"Big Data Engineer\",\"Business Data Analyst\",\"Business Intelligence Engineer\",\"Cloud Data Architect\",\"Cloud Data Engineer\",\"Cloud Database Engineer\",\"Compliance Data Analyst\",\"Computer Vision Engineer\",\"Computer Vision Software Engineer\",\"Data Analyst\",\"Data Analytics Consultant\",\"Data Analytics Engineer\",\"Data Analytics Lead\",\"Data Analytics Manager\",\"Data Analytics Specialist\",\"Data Architect\",\"Data DevOps Engineer\",\"Data Engineer\",\"Data Infrastructure Engineer\",\"Data Lead\",\"Data Management Specialist\",\"Data Manager\",\"Data Modeler\",\"Data Operations Analyst\",\"Data Operations Engineer\",\"Data Quality Analyst\",\"Data Science Consultant\",\"Data Science Engineer\",\"Data Science Lead\",\"Data Science Manager\",\"Data Science Tech Lead\",\"Data Scientist\",\"Data Scientist Lead\",\"Data Specialist\",\"Data Strategist\",\"Deep Learning Engineer\",\"Deep Learning Researcher\",\"Director of Data Science\",\"ETL Developer\",\"ETL Engineer\",\"Finance Data Analyst\",\"Financial Data Analyst\",\"Head of Data\",\"Head of Data Science\",\"Head of Machine Learning\",\"Insight Analyst\",\"Lead Data Analyst\",\"Lead Data Engineer\",\"Lead Data Scientist\",\"Lead Machine Learning Engineer\",\"ML Engineer\",\"MLOps Engineer\",\"Machine Learning Developer\",\"Machine Learning Engineer\",\"Machine Learning Infrastructure Engineer\",\"Machine Learning Manager\",\"Machine Learning Research Engineer\",\"Machine Learning Researcher\",\"Machine Learning Scientist\",\"Machine Learning Software Engineer\",\"Manager Data Management\",\"Marketing Data Analyst\",\"Marketing Data Engineer\",\"NLP Engineer\",\"Power BI Developer\",\"Principal Data Analyst\",\"Principal Data Architect\",\"Principal Data Engineer\",\"Principal Data Scientist\",\"Principal Machine Learning Engineer\",\"Product Data Analyst\",\"Product Data Scientist\",\"Research Engineer\",\"Research Scientist\",\"Software Data Engineer\",\"Staff Data Analyst\",\"Staff Data Scientist\",\"3D Computer Vision Researcher\",\"AI Developer\",\"AI Programmer\",\"AI Scientist\",\"Analytics Engineer\",\"Applied Data Scientist\",\"Applied Machine Learning Engineer\",\"Applied Machine Learning Scientist\",\"Applied Scientist\",\"Autonomous Vehicle Technician\",\"Azure Data Engineer\",\"BI Analyst\",\"BI Data Analyst\",\"BI Data Engineer\",\"BI Developer\",\"Big Data Architect\",\"Big Data Engineer\",\"Business Data Analyst\",\"Business Intelligence Engineer\",\"Cloud Data Architect\",\"Cloud Data Engineer\",\"Cloud Database Engineer\",\"Compliance Data Analyst\",\"Computer Vision Engineer\",\"Computer Vision Software Engineer\",\"Data Analyst\",\"Data Analytics Consultant\",\"Data Analytics Engineer\",\"Data Analytics Lead\",\"Data Analytics Manager\",\"Data Analytics Specialist\",\"Data Architect\",\"Data DevOps Engineer\",\"Data Engineer\",\"Data Infrastructure Engineer\",\"Data Lead\",\"Data Management Specialist\",\"Data Manager\",\"Data Modeler\",\"Data Operations Analyst\",\"Data Operations Engineer\",\"Data Quality Analyst\",\"Data Science Consultant\",\"Data Science Engineer\",\"Data Science Lead\",\"Data Science Manager\",\"Data Science Tech Lead\",\"Data Scientist\",\"Data Scientist Lead\",\"Data Specialist\",\"Data Strategist\",\"Deep Learning Engineer\",\"Deep Learning Researcher\",\"Director of Data Science\",\"ETL Developer\",\"ETL Engineer\",\"Finance Data Analyst\",\"Financial Data Analyst\",\"Head of Data\",\"Head of Data Science\",\"Head of Machine Learning\",\"Insight Analyst\",\"Lead Data Analyst\",\"Lead Data Engineer\",\"Lead Data Scientist\",\"Lead Machine Learning Engineer\",\"ML Engineer\",\"MLOps Engineer\",\"Machine Learning Developer\",\"Machine Learning Engineer\",\"Machine Learning Infrastructure Engineer\",\"Machine Learning Manager\",\"Machine Learning Research Engineer\",\"Machine Learning Researcher\",\"Machine Learning Scientist\",\"Machine Learning Software Engineer\",\"Manager Data Management\",\"Marketing Data Analyst\",\"Marketing Data Engineer\",\"NLP Engineer\",\"Power BI Developer\",\"Principal Data Analyst\",\"Principal Data Architect\",\"Principal Data Engineer\",\"Principal Data Scientist\",\"Principal Machine Learning Engineer\",\"Product Data Analyst\",\"Product Data Scientist\",\"Research Engineer\",\"Research Scientist\",\"Software Data Engineer\",\"Staff Data Analyst\",\"Staff Data Scientist\",\"\",\"\",\"\",\"\",\"\",\"\",\"\",\"\",\"\",\"\",\"\",\"\",\"\",\"\",\"\",\"\",\"\",\"\",\"\",\"\",\"\",\"\",\"\",\"\",\"\",\"\",\"\",\"\",\"\",\"\",\"\",\"\",\"\",\"\",\"\",\"\",\"\",\"\",\"\",\"\",\"\",\"\",\"\",\"\",\"\",\"\",\"\",\"\",\"\",\"\",\"\",\"\",\"\",\"\",\"\",\"\",\"\",\"\",\"\",\"\",\"\",\"\",\"\",\"\",\"\",\"\",\"\",\"\",\"\",\"\",\"\",\"\",\"\",\"\",\"\",\"\",\"\",\"\",\"\",\"\",\"\",\"\",\"\",\"\",\"\",\"\",\"\",\"\",\"\",\"\",\"\",\"\",\"\"],\"values\":[1,1,1,1,1,1,1,1,1,1,1,1,1,1,1,1,1,1,1,1,1,1,1,1,1,1,1,1,1,1,1,1,1,1,1,1,1,1,1,1,1,1,1,1,1,1,1,1,1,1,1,1,1,1,1,1,1,1,1,1,1,1,1,1,1,1,1,1,1,1,1,1,1,1,1,1,1,1,1,1,1,1,1,1,1,1,1,1,1,1,1,1,1,1,1,1,1,1,1,1,1,1,1,1,1,1,1,1,1,1,1,1,1,1,1,1,1,1,1,1,1,1,1,1,1,1,1,1,1,1,1,1,1,1,1,1,1,1,1,1,1,1,1,1,1,1,1,1,1,1,1,1,1,1,1,1,1,1,1,1,1,1,1,1,1,1,1,1,1,1,1,1,1,1,1,1,1,1,1,1,1,1,1,1,1,1,1,1,1,1,1,1,1,1,1,1,1,1,1,1,1,1,1,1,1,1,1,1,1,1,1,1,1,1,1,1,1,1,1,1,1,1,1,1,1,1,1,1,1,1,1,1,1,1,1,1,1,1,1,1,1,1,1,1,1,1,1,1,1,1,1,1,1,1,1,1,1,1,1,1,1,1,1,1,1,1,1,1,1,1,1,1,1,1,1,1,1,1,1,1,1,1,1,1,1,1,1,1,1,1,1,1,1,1,1,1,1,1,1,1,1,1,1,1,1,1,1,1,1,1,1,1,1,1,1,1,1,1,1,1,1,1,1,1,1,1,1,1,1,1,1,1,1,1,1,1,1,1,1,1,1,1,1,1,1,1,1,1,1,1,1,1,1,1,1,1,1,1,1,1,1,1,1,1,1,1,1,1,1,1,1,1,1,1,1,1,1,1,1,1,1,1,1,1,1,1,1,1,1,1,1,1,1,1,1,1,1,1,1,1,1,1,1,1,1,1,1,1,1,1,1,1,1,1,1,1,1,1,1,1,1,1,1,1,1,1,1,1,1,1,1,1,1,1,1,1,1,1,1,1,1,1,1,1,1,1,1,1,1,1,1,1,1,1,1,1,1,1,1,1,1,1,1,1,1,1,1,1,1,1,1,1,1,1,1,1,1,1,1,1,1,1,1,1,1,1,1,1,1,1,1,1,1,1,1,1,1,1,1,1,1,1,1,1,1,1,1,1,1,1,1,1,1,1,1,1,1,1,1,1,1,1,1,1,1,1,1,1,1,1,1,1,1,1,1,1,1,1,1,1,1,1,1,1,1,1,1,1,1,1,1,1,1,1,1,1,1,1,1,1,1,1,1,1,1,1,1,1,1,1,1,1,1,1,1,1,1,1,1,1,1,1,1,1,1,1,1,1,1,1,1,1,1,1,1,1,1,1,1,1,1,1,1,1,1,1,1,1,1,1,1,1,1,1,1,1,1,1,1,1,1,1,1,1,1,1,1,1,1,1,1,1,1,1,1,1,1,1,1,1,1,1,1,1,1,1,1,1,1,1,1,1,1,1,1,1,1,1,1,1,1,1,1,1,1,1,1,1,1,1,1,1,1,1,1,1,1,1,1,1,1,1,1,1,1,1,1,1,1,1,1,1,1,1,1,1,1,1,1,1,1,1,1,1,1,1,1,1,1,1,1,1,1,1,1,1,1,1,1,1,1,1,1,1,1,1,4,4,4,4,4,4,4,4,4,4,4,4,4,4,4,4,4,4,4,4,4,4,4,4,4,4,4,4,4,4,4,4,4,4,4,4,4,4,4,4,4,4,4,4,4,4,4,4,4,4,4,4,4,4,4,4,4,4,4,4,4,4,4,4,4,4,4,4,4,4,4,4,4,4,4,4,4,4,4,4,4,4,4,4,4,4,4,4,4,4,4,4,4],\"type\":\"treemap\"}],                        {\"template\":{\"data\":{\"histogram2dcontour\":[{\"type\":\"histogram2dcontour\",\"colorbar\":{\"outlinewidth\":0,\"ticks\":\"\"},\"colorscale\":[[0.0,\"#0d0887\"],[0.1111111111111111,\"#46039f\"],[0.2222222222222222,\"#7201a8\"],[0.3333333333333333,\"#9c179e\"],[0.4444444444444444,\"#bd3786\"],[0.5555555555555556,\"#d8576b\"],[0.6666666666666666,\"#ed7953\"],[0.7777777777777778,\"#fb9f3a\"],[0.8888888888888888,\"#fdca26\"],[1.0,\"#f0f921\"]]}],\"choropleth\":[{\"type\":\"choropleth\",\"colorbar\":{\"outlinewidth\":0,\"ticks\":\"\"}}],\"histogram2d\":[{\"type\":\"histogram2d\",\"colorbar\":{\"outlinewidth\":0,\"ticks\":\"\"},\"colorscale\":[[0.0,\"#0d0887\"],[0.1111111111111111,\"#46039f\"],[0.2222222222222222,\"#7201a8\"],[0.3333333333333333,\"#9c179e\"],[0.4444444444444444,\"#bd3786\"],[0.5555555555555556,\"#d8576b\"],[0.6666666666666666,\"#ed7953\"],[0.7777777777777778,\"#fb9f3a\"],[0.8888888888888888,\"#fdca26\"],[1.0,\"#f0f921\"]]}],\"heatmap\":[{\"type\":\"heatmap\",\"colorbar\":{\"outlinewidth\":0,\"ticks\":\"\"},\"colorscale\":[[0.0,\"#0d0887\"],[0.1111111111111111,\"#46039f\"],[0.2222222222222222,\"#7201a8\"],[0.3333333333333333,\"#9c179e\"],[0.4444444444444444,\"#bd3786\"],[0.5555555555555556,\"#d8576b\"],[0.6666666666666666,\"#ed7953\"],[0.7777777777777778,\"#fb9f3a\"],[0.8888888888888888,\"#fdca26\"],[1.0,\"#f0f921\"]]}],\"heatmapgl\":[{\"type\":\"heatmapgl\",\"colorbar\":{\"outlinewidth\":0,\"ticks\":\"\"},\"colorscale\":[[0.0,\"#0d0887\"],[0.1111111111111111,\"#46039f\"],[0.2222222222222222,\"#7201a8\"],[0.3333333333333333,\"#9c179e\"],[0.4444444444444444,\"#bd3786\"],[0.5555555555555556,\"#d8576b\"],[0.6666666666666666,\"#ed7953\"],[0.7777777777777778,\"#fb9f3a\"],[0.8888888888888888,\"#fdca26\"],[1.0,\"#f0f921\"]]}],\"contourcarpet\":[{\"type\":\"contourcarpet\",\"colorbar\":{\"outlinewidth\":0,\"ticks\":\"\"}}],\"contour\":[{\"type\":\"contour\",\"colorbar\":{\"outlinewidth\":0,\"ticks\":\"\"},\"colorscale\":[[0.0,\"#0d0887\"],[0.1111111111111111,\"#46039f\"],[0.2222222222222222,\"#7201a8\"],[0.3333333333333333,\"#9c179e\"],[0.4444444444444444,\"#bd3786\"],[0.5555555555555556,\"#d8576b\"],[0.6666666666666666,\"#ed7953\"],[0.7777777777777778,\"#fb9f3a\"],[0.8888888888888888,\"#fdca26\"],[1.0,\"#f0f921\"]]}],\"surface\":[{\"type\":\"surface\",\"colorbar\":{\"outlinewidth\":0,\"ticks\":\"\"},\"colorscale\":[[0.0,\"#0d0887\"],[0.1111111111111111,\"#46039f\"],[0.2222222222222222,\"#7201a8\"],[0.3333333333333333,\"#9c179e\"],[0.4444444444444444,\"#bd3786\"],[0.5555555555555556,\"#d8576b\"],[0.6666666666666666,\"#ed7953\"],[0.7777777777777778,\"#fb9f3a\"],[0.8888888888888888,\"#fdca26\"],[1.0,\"#f0f921\"]]}],\"mesh3d\":[{\"type\":\"mesh3d\",\"colorbar\":{\"outlinewidth\":0,\"ticks\":\"\"}}],\"scatter\":[{\"fillpattern\":{\"fillmode\":\"overlay\",\"size\":10,\"solidity\":0.2},\"type\":\"scatter\"}],\"parcoords\":[{\"type\":\"parcoords\",\"line\":{\"colorbar\":{\"outlinewidth\":0,\"ticks\":\"\"}}}],\"scatterpolargl\":[{\"type\":\"scatterpolargl\",\"marker\":{\"colorbar\":{\"outlinewidth\":0,\"ticks\":\"\"}}}],\"bar\":[{\"error_x\":{\"color\":\"#2a3f5f\"},\"error_y\":{\"color\":\"#2a3f5f\"},\"marker\":{\"line\":{\"color\":\"#E5ECF6\",\"width\":0.5},\"pattern\":{\"fillmode\":\"overlay\",\"size\":10,\"solidity\":0.2}},\"type\":\"bar\"}],\"scattergeo\":[{\"type\":\"scattergeo\",\"marker\":{\"colorbar\":{\"outlinewidth\":0,\"ticks\":\"\"}}}],\"scatterpolar\":[{\"type\":\"scatterpolar\",\"marker\":{\"colorbar\":{\"outlinewidth\":0,\"ticks\":\"\"}}}],\"histogram\":[{\"marker\":{\"pattern\":{\"fillmode\":\"overlay\",\"size\":10,\"solidity\":0.2}},\"type\":\"histogram\"}],\"scattergl\":[{\"type\":\"scattergl\",\"marker\":{\"colorbar\":{\"outlinewidth\":0,\"ticks\":\"\"}}}],\"scatter3d\":[{\"type\":\"scatter3d\",\"line\":{\"colorbar\":{\"outlinewidth\":0,\"ticks\":\"\"}},\"marker\":{\"colorbar\":{\"outlinewidth\":0,\"ticks\":\"\"}}}],\"scattermapbox\":[{\"type\":\"scattermapbox\",\"marker\":{\"colorbar\":{\"outlinewidth\":0,\"ticks\":\"\"}}}],\"scatterternary\":[{\"type\":\"scatterternary\",\"marker\":{\"colorbar\":{\"outlinewidth\":0,\"ticks\":\"\"}}}],\"scattercarpet\":[{\"type\":\"scattercarpet\",\"marker\":{\"colorbar\":{\"outlinewidth\":0,\"ticks\":\"\"}}}],\"carpet\":[{\"aaxis\":{\"endlinecolor\":\"#2a3f5f\",\"gridcolor\":\"white\",\"linecolor\":\"white\",\"minorgridcolor\":\"white\",\"startlinecolor\":\"#2a3f5f\"},\"baxis\":{\"endlinecolor\":\"#2a3f5f\",\"gridcolor\":\"white\",\"linecolor\":\"white\",\"minorgridcolor\":\"white\",\"startlinecolor\":\"#2a3f5f\"},\"type\":\"carpet\"}],\"table\":[{\"cells\":{\"fill\":{\"color\":\"#EBF0F8\"},\"line\":{\"color\":\"white\"}},\"header\":{\"fill\":{\"color\":\"#C8D4E3\"},\"line\":{\"color\":\"white\"}},\"type\":\"table\"}],\"barpolar\":[{\"marker\":{\"line\":{\"color\":\"#E5ECF6\",\"width\":0.5},\"pattern\":{\"fillmode\":\"overlay\",\"size\":10,\"solidity\":0.2}},\"type\":\"barpolar\"}],\"pie\":[{\"automargin\":true,\"type\":\"pie\"}]},\"layout\":{\"autotypenumbers\":\"strict\",\"colorway\":[\"#636efa\",\"#EF553B\",\"#00cc96\",\"#ab63fa\",\"#FFA15A\",\"#19d3f3\",\"#FF6692\",\"#B6E880\",\"#FF97FF\",\"#FECB52\"],\"font\":{\"color\":\"#2a3f5f\"},\"hovermode\":\"closest\",\"hoverlabel\":{\"align\":\"left\"},\"paper_bgcolor\":\"white\",\"plot_bgcolor\":\"#E5ECF6\",\"polar\":{\"bgcolor\":\"#E5ECF6\",\"angularaxis\":{\"gridcolor\":\"white\",\"linecolor\":\"white\",\"ticks\":\"\"},\"radialaxis\":{\"gridcolor\":\"white\",\"linecolor\":\"white\",\"ticks\":\"\"}},\"ternary\":{\"bgcolor\":\"#E5ECF6\",\"aaxis\":{\"gridcolor\":\"white\",\"linecolor\":\"white\",\"ticks\":\"\"},\"baxis\":{\"gridcolor\":\"white\",\"linecolor\":\"white\",\"ticks\":\"\"},\"caxis\":{\"gridcolor\":\"white\",\"linecolor\":\"white\",\"ticks\":\"\"}},\"coloraxis\":{\"colorbar\":{\"outlinewidth\":0,\"ticks\":\"\"}},\"colorscale\":{\"sequential\":[[0.0,\"#0d0887\"],[0.1111111111111111,\"#46039f\"],[0.2222222222222222,\"#7201a8\"],[0.3333333333333333,\"#9c179e\"],[0.4444444444444444,\"#bd3786\"],[0.5555555555555556,\"#d8576b\"],[0.6666666666666666,\"#ed7953\"],[0.7777777777777778,\"#fb9f3a\"],[0.8888888888888888,\"#fdca26\"],[1.0,\"#f0f921\"]],\"sequentialminus\":[[0.0,\"#0d0887\"],[0.1111111111111111,\"#46039f\"],[0.2222222222222222,\"#7201a8\"],[0.3333333333333333,\"#9c179e\"],[0.4444444444444444,\"#bd3786\"],[0.5555555555555556,\"#d8576b\"],[0.6666666666666666,\"#ed7953\"],[0.7777777777777778,\"#fb9f3a\"],[0.8888888888888888,\"#fdca26\"],[1.0,\"#f0f921\"]],\"diverging\":[[0,\"#8e0152\"],[0.1,\"#c51b7d\"],[0.2,\"#de77ae\"],[0.3,\"#f1b6da\"],[0.4,\"#fde0ef\"],[0.5,\"#f7f7f7\"],[0.6,\"#e6f5d0\"],[0.7,\"#b8e186\"],[0.8,\"#7fbc41\"],[0.9,\"#4d9221\"],[1,\"#276419\"]]},\"xaxis\":{\"gridcolor\":\"white\",\"linecolor\":\"white\",\"ticks\":\"\",\"title\":{\"standoff\":15},\"zerolinecolor\":\"white\",\"automargin\":true,\"zerolinewidth\":2},\"yaxis\":{\"gridcolor\":\"white\",\"linecolor\":\"white\",\"ticks\":\"\",\"title\":{\"standoff\":15},\"zerolinecolor\":\"white\",\"automargin\":true,\"zerolinewidth\":2},\"scene\":{\"xaxis\":{\"backgroundcolor\":\"#E5ECF6\",\"gridcolor\":\"white\",\"linecolor\":\"white\",\"showbackground\":true,\"ticks\":\"\",\"zerolinecolor\":\"white\",\"gridwidth\":2},\"yaxis\":{\"backgroundcolor\":\"#E5ECF6\",\"gridcolor\":\"white\",\"linecolor\":\"white\",\"showbackground\":true,\"ticks\":\"\",\"zerolinecolor\":\"white\",\"gridwidth\":2},\"zaxis\":{\"backgroundcolor\":\"#E5ECF6\",\"gridcolor\":\"white\",\"linecolor\":\"white\",\"showbackground\":true,\"ticks\":\"\",\"zerolinecolor\":\"white\",\"gridwidth\":2}},\"shapedefaults\":{\"line\":{\"color\":\"#2a3f5f\"}},\"annotationdefaults\":{\"arrowcolor\":\"#2a3f5f\",\"arrowhead\":0,\"arrowwidth\":1},\"geo\":{\"bgcolor\":\"white\",\"landcolor\":\"#E5ECF6\",\"subunitcolor\":\"white\",\"showland\":true,\"showlakes\":true,\"lakecolor\":\"white\"},\"title\":{\"x\":0.05},\"mapbox\":{\"style\":\"light\"}}},\"legend\":{\"tracegroupgap\":0},\"margin\":{\"t\":60},\"treemapcolorway\":[\"rgb(237, 229, 207)\",\"rgb(224, 194, 162)\",\"rgb(211, 156, 131)\",\"rgb(193, 118, 111)\",\"rgb(166, 84, 97)\",\"rgb(129, 55, 83)\",\"rgb(84, 31, 63)\"],\"height\":1000},                        {\"responsive\": true}                    ).then(function(){\n",
       "                            \n",
       "var gd = document.getElementById('9325f1c7-b9a1-42d0-bd8f-9a6478188af3');\n",
       "var x = new MutationObserver(function (mutations, observer) {{\n",
       "        var display = window.getComputedStyle(gd).display;\n",
       "        if (!display || display === 'none') {{\n",
       "            console.log([gd, 'removed!']);\n",
       "            Plotly.purge(gd);\n",
       "            observer.disconnect();\n",
       "        }}\n",
       "}});\n",
       "\n",
       "// Listen for the removal of the full notebook cells\n",
       "var notebookContainer = gd.closest('#notebook-container');\n",
       "if (notebookContainer) {{\n",
       "    x.observe(notebookContainer, {childList: true});\n",
       "}}\n",
       "\n",
       "// Listen for the clearing of the current output cell\n",
       "var outputEl = gd.closest('.output');\n",
       "if (outputEl) {{\n",
       "    x.observe(outputEl, {childList: true});\n",
       "}}\n",
       "\n",
       "                        })                };                });            </script>        </div>"
      ]
     },
     "metadata": {},
     "output_type": "display_data"
    }
   ],
   "source": [
    "melt_job_sal = job_sal.melt(id_vars=\"job_title\", var_name=\"stats\", value_name=\"salary\")\n",
    "px.treemap(melt_job_sal, names=\"job_title\", \n",
    "           path=[\"job_title\", \"stats\", \"salary\"],\n",
    "          color=\"job_title\", color_discrete_sequence=px.colors.sequential.Brwnyl,\n",
    "          height=1000)"
   ]
  },
  {
   "cell_type": "code",
   "execution_count": 18,
   "id": "34cada5e",
   "metadata": {
    "execution": {
     "iopub.execute_input": "2024-01-11T04:48:57.372236Z",
     "iopub.status.busy": "2024-01-11T04:48:57.370999Z",
     "iopub.status.idle": "2024-01-11T04:48:57.387653Z",
     "shell.execute_reply": "2024-01-11T04:48:57.386487Z"
    },
    "papermill": {
     "duration": 0.043942,
     "end_time": "2024-01-11T04:48:57.389968",
     "exception": false,
     "start_time": "2024-01-11T04:48:57.346026",
     "status": "completed"
    },
    "tags": []
   },
   "outputs": [
    {
     "data": {
      "text/html": [
       "<div>\n",
       "<style scoped>\n",
       "    .dataframe tbody tr th:only-of-type {\n",
       "        vertical-align: middle;\n",
       "    }\n",
       "\n",
       "    .dataframe tbody tr th {\n",
       "        vertical-align: top;\n",
       "    }\n",
       "\n",
       "    .dataframe thead th {\n",
       "        text-align: right;\n",
       "    }\n",
       "</style>\n",
       "<table border=\"1\" class=\"dataframe\">\n",
       "  <thead>\n",
       "    <tr style=\"text-align: right;\">\n",
       "      <th></th>\n",
       "      <th>company_size</th>\n",
       "      <th>mean</th>\n",
       "      <th>std</th>\n",
       "      <th>max</th>\n",
       "      <th>min</th>\n",
       "    </tr>\n",
       "  </thead>\n",
       "  <tbody>\n",
       "    <tr>\n",
       "      <th>0</th>\n",
       "      <td>L</td>\n",
       "      <td>118300.98</td>\n",
       "      <td>75832.39</td>\n",
       "      <td>423834</td>\n",
       "      <td>5409</td>\n",
       "    </tr>\n",
       "    <tr>\n",
       "      <th>1</th>\n",
       "      <td>M</td>\n",
       "      <td>143130.55</td>\n",
       "      <td>58992.81</td>\n",
       "      <td>450000</td>\n",
       "      <td>5132</td>\n",
       "    </tr>\n",
       "    <tr>\n",
       "      <th>2</th>\n",
       "      <td>S</td>\n",
       "      <td>78226.68</td>\n",
       "      <td>61955.14</td>\n",
       "      <td>416000</td>\n",
       "      <td>5679</td>\n",
       "    </tr>\n",
       "  </tbody>\n",
       "</table>\n",
       "</div>"
      ],
      "text/plain": [
       "  company_size       mean       std     max   min\n",
       "0            L  118300.98  75832.39  423834  5409\n",
       "1            M  143130.55  58992.81  450000  5132\n",
       "2            S   78226.68  61955.14  416000  5679"
      ]
     },
     "execution_count": 18,
     "metadata": {},
     "output_type": "execute_result"
    }
   ],
   "source": [
    "#company size and salary\n",
    "size_sal = round(ds.groupby(\"company_size\")[\"salary_in_usd\"].agg([\"mean\", \"std\", \"max\", \"min\"]).reset_index(),2)\n",
    "size_sal"
   ]
  },
  {
   "cell_type": "code",
   "execution_count": 19,
   "id": "5a4d757d",
   "metadata": {
    "execution": {
     "iopub.execute_input": "2024-01-11T04:48:57.438714Z",
     "iopub.status.busy": "2024-01-11T04:48:57.438244Z",
     "iopub.status.idle": "2024-01-11T04:48:57.534368Z",
     "shell.execute_reply": "2024-01-11T04:48:57.533189Z"
    },
    "papermill": {
     "duration": 0.123726,
     "end_time": "2024-01-11T04:48:57.537119",
     "exception": false,
     "start_time": "2024-01-11T04:48:57.413393",
     "status": "completed"
    },
    "tags": []
   },
   "outputs": [
    {
     "data": {
      "text/html": [
       "<div>                            <div id=\"5ecec36f-dbbc-4522-8088-ca15caf94b26\" class=\"plotly-graph-div\" style=\"height:525px; width:100%;\"></div>            <script type=\"text/javascript\">                require([\"plotly\"], function(Plotly) {                    window.PLOTLYENV=window.PLOTLYENV || {};                                    if (document.getElementById(\"5ecec36f-dbbc-4522-8088-ca15caf94b26\")) {                    Plotly.newPlot(                        \"5ecec36f-dbbc-4522-8088-ca15caf94b26\",                        [{\"alignmentgroup\":\"True\",\"hovertemplate\":\"stats=mean\\u003cbr\\u003ecompany_size=%{x}\\u003cbr\\u003esalary=%{text}\\u003cextra\\u003e\\u003c\\u002fextra\\u003e\",\"legendgroup\":\"mean\",\"marker\":{\"color\":\"rgb(253, 253, 204)\",\"pattern\":{\"shape\":\"\"}},\"name\":\"mean\",\"offsetgroup\":\"mean\",\"orientation\":\"v\",\"showlegend\":true,\"text\":[118300.98,143130.55,78226.68],\"textposition\":\"auto\",\"x\":[\"L\",\"M\",\"S\"],\"xaxis\":\"x\",\"y\":[118300.98,143130.55,78226.68],\"yaxis\":\"y\",\"type\":\"bar\"},{\"alignmentgroup\":\"True\",\"hovertemplate\":\"stats=std\\u003cbr\\u003ecompany_size=%{x}\\u003cbr\\u003esalary=%{text}\\u003cextra\\u003e\\u003c\\u002fextra\\u003e\",\"legendgroup\":\"std\",\"marker\":{\"color\":\"rgb(206, 236, 179)\",\"pattern\":{\"shape\":\"\"}},\"name\":\"std\",\"offsetgroup\":\"std\",\"orientation\":\"v\",\"showlegend\":true,\"text\":[75832.39,58992.81,61955.14],\"textposition\":\"auto\",\"x\":[\"L\",\"M\",\"S\"],\"xaxis\":\"x\",\"y\":[75832.39,58992.81,61955.14],\"yaxis\":\"y\",\"type\":\"bar\"},{\"alignmentgroup\":\"True\",\"hovertemplate\":\"stats=max\\u003cbr\\u003ecompany_size=%{x}\\u003cbr\\u003esalary=%{text}\\u003cextra\\u003e\\u003c\\u002fextra\\u003e\",\"legendgroup\":\"max\",\"marker\":{\"color\":\"rgb(156, 219, 165)\",\"pattern\":{\"shape\":\"\"}},\"name\":\"max\",\"offsetgroup\":\"max\",\"orientation\":\"v\",\"showlegend\":true,\"text\":[423834.0,450000.0,416000.0],\"textposition\":\"auto\",\"x\":[\"L\",\"M\",\"S\"],\"xaxis\":\"x\",\"y\":[423834.0,450000.0,416000.0],\"yaxis\":\"y\",\"type\":\"bar\"},{\"alignmentgroup\":\"True\",\"hovertemplate\":\"stats=min\\u003cbr\\u003ecompany_size=%{x}\\u003cbr\\u003esalary=%{text}\\u003cextra\\u003e\\u003c\\u002fextra\\u003e\",\"legendgroup\":\"min\",\"marker\":{\"color\":\"rgb(111, 201, 163)\",\"pattern\":{\"shape\":\"\"}},\"name\":\"min\",\"offsetgroup\":\"min\",\"orientation\":\"v\",\"showlegend\":true,\"text\":[5409.0,5132.0,5679.0],\"textposition\":\"auto\",\"x\":[\"L\",\"M\",\"S\"],\"xaxis\":\"x\",\"y\":[5409.0,5132.0,5679.0],\"yaxis\":\"y\",\"type\":\"bar\"}],                        {\"template\":{\"data\":{\"histogram2dcontour\":[{\"type\":\"histogram2dcontour\",\"colorbar\":{\"outlinewidth\":0,\"ticks\":\"\"},\"colorscale\":[[0.0,\"#0d0887\"],[0.1111111111111111,\"#46039f\"],[0.2222222222222222,\"#7201a8\"],[0.3333333333333333,\"#9c179e\"],[0.4444444444444444,\"#bd3786\"],[0.5555555555555556,\"#d8576b\"],[0.6666666666666666,\"#ed7953\"],[0.7777777777777778,\"#fb9f3a\"],[0.8888888888888888,\"#fdca26\"],[1.0,\"#f0f921\"]]}],\"choropleth\":[{\"type\":\"choropleth\",\"colorbar\":{\"outlinewidth\":0,\"ticks\":\"\"}}],\"histogram2d\":[{\"type\":\"histogram2d\",\"colorbar\":{\"outlinewidth\":0,\"ticks\":\"\"},\"colorscale\":[[0.0,\"#0d0887\"],[0.1111111111111111,\"#46039f\"],[0.2222222222222222,\"#7201a8\"],[0.3333333333333333,\"#9c179e\"],[0.4444444444444444,\"#bd3786\"],[0.5555555555555556,\"#d8576b\"],[0.6666666666666666,\"#ed7953\"],[0.7777777777777778,\"#fb9f3a\"],[0.8888888888888888,\"#fdca26\"],[1.0,\"#f0f921\"]]}],\"heatmap\":[{\"type\":\"heatmap\",\"colorbar\":{\"outlinewidth\":0,\"ticks\":\"\"},\"colorscale\":[[0.0,\"#0d0887\"],[0.1111111111111111,\"#46039f\"],[0.2222222222222222,\"#7201a8\"],[0.3333333333333333,\"#9c179e\"],[0.4444444444444444,\"#bd3786\"],[0.5555555555555556,\"#d8576b\"],[0.6666666666666666,\"#ed7953\"],[0.7777777777777778,\"#fb9f3a\"],[0.8888888888888888,\"#fdca26\"],[1.0,\"#f0f921\"]]}],\"heatmapgl\":[{\"type\":\"heatmapgl\",\"colorbar\":{\"outlinewidth\":0,\"ticks\":\"\"},\"colorscale\":[[0.0,\"#0d0887\"],[0.1111111111111111,\"#46039f\"],[0.2222222222222222,\"#7201a8\"],[0.3333333333333333,\"#9c179e\"],[0.4444444444444444,\"#bd3786\"],[0.5555555555555556,\"#d8576b\"],[0.6666666666666666,\"#ed7953\"],[0.7777777777777778,\"#fb9f3a\"],[0.8888888888888888,\"#fdca26\"],[1.0,\"#f0f921\"]]}],\"contourcarpet\":[{\"type\":\"contourcarpet\",\"colorbar\":{\"outlinewidth\":0,\"ticks\":\"\"}}],\"contour\":[{\"type\":\"contour\",\"colorbar\":{\"outlinewidth\":0,\"ticks\":\"\"},\"colorscale\":[[0.0,\"#0d0887\"],[0.1111111111111111,\"#46039f\"],[0.2222222222222222,\"#7201a8\"],[0.3333333333333333,\"#9c179e\"],[0.4444444444444444,\"#bd3786\"],[0.5555555555555556,\"#d8576b\"],[0.6666666666666666,\"#ed7953\"],[0.7777777777777778,\"#fb9f3a\"],[0.8888888888888888,\"#fdca26\"],[1.0,\"#f0f921\"]]}],\"surface\":[{\"type\":\"surface\",\"colorbar\":{\"outlinewidth\":0,\"ticks\":\"\"},\"colorscale\":[[0.0,\"#0d0887\"],[0.1111111111111111,\"#46039f\"],[0.2222222222222222,\"#7201a8\"],[0.3333333333333333,\"#9c179e\"],[0.4444444444444444,\"#bd3786\"],[0.5555555555555556,\"#d8576b\"],[0.6666666666666666,\"#ed7953\"],[0.7777777777777778,\"#fb9f3a\"],[0.8888888888888888,\"#fdca26\"],[1.0,\"#f0f921\"]]}],\"mesh3d\":[{\"type\":\"mesh3d\",\"colorbar\":{\"outlinewidth\":0,\"ticks\":\"\"}}],\"scatter\":[{\"fillpattern\":{\"fillmode\":\"overlay\",\"size\":10,\"solidity\":0.2},\"type\":\"scatter\"}],\"parcoords\":[{\"type\":\"parcoords\",\"line\":{\"colorbar\":{\"outlinewidth\":0,\"ticks\":\"\"}}}],\"scatterpolargl\":[{\"type\":\"scatterpolargl\",\"marker\":{\"colorbar\":{\"outlinewidth\":0,\"ticks\":\"\"}}}],\"bar\":[{\"error_x\":{\"color\":\"#2a3f5f\"},\"error_y\":{\"color\":\"#2a3f5f\"},\"marker\":{\"line\":{\"color\":\"#E5ECF6\",\"width\":0.5},\"pattern\":{\"fillmode\":\"overlay\",\"size\":10,\"solidity\":0.2}},\"type\":\"bar\"}],\"scattergeo\":[{\"type\":\"scattergeo\",\"marker\":{\"colorbar\":{\"outlinewidth\":0,\"ticks\":\"\"}}}],\"scatterpolar\":[{\"type\":\"scatterpolar\",\"marker\":{\"colorbar\":{\"outlinewidth\":0,\"ticks\":\"\"}}}],\"histogram\":[{\"marker\":{\"pattern\":{\"fillmode\":\"overlay\",\"size\":10,\"solidity\":0.2}},\"type\":\"histogram\"}],\"scattergl\":[{\"type\":\"scattergl\",\"marker\":{\"colorbar\":{\"outlinewidth\":0,\"ticks\":\"\"}}}],\"scatter3d\":[{\"type\":\"scatter3d\",\"line\":{\"colorbar\":{\"outlinewidth\":0,\"ticks\":\"\"}},\"marker\":{\"colorbar\":{\"outlinewidth\":0,\"ticks\":\"\"}}}],\"scattermapbox\":[{\"type\":\"scattermapbox\",\"marker\":{\"colorbar\":{\"outlinewidth\":0,\"ticks\":\"\"}}}],\"scatterternary\":[{\"type\":\"scatterternary\",\"marker\":{\"colorbar\":{\"outlinewidth\":0,\"ticks\":\"\"}}}],\"scattercarpet\":[{\"type\":\"scattercarpet\",\"marker\":{\"colorbar\":{\"outlinewidth\":0,\"ticks\":\"\"}}}],\"carpet\":[{\"aaxis\":{\"endlinecolor\":\"#2a3f5f\",\"gridcolor\":\"white\",\"linecolor\":\"white\",\"minorgridcolor\":\"white\",\"startlinecolor\":\"#2a3f5f\"},\"baxis\":{\"endlinecolor\":\"#2a3f5f\",\"gridcolor\":\"white\",\"linecolor\":\"white\",\"minorgridcolor\":\"white\",\"startlinecolor\":\"#2a3f5f\"},\"type\":\"carpet\"}],\"table\":[{\"cells\":{\"fill\":{\"color\":\"#EBF0F8\"},\"line\":{\"color\":\"white\"}},\"header\":{\"fill\":{\"color\":\"#C8D4E3\"},\"line\":{\"color\":\"white\"}},\"type\":\"table\"}],\"barpolar\":[{\"marker\":{\"line\":{\"color\":\"#E5ECF6\",\"width\":0.5},\"pattern\":{\"fillmode\":\"overlay\",\"size\":10,\"solidity\":0.2}},\"type\":\"barpolar\"}],\"pie\":[{\"automargin\":true,\"type\":\"pie\"}]},\"layout\":{\"autotypenumbers\":\"strict\",\"colorway\":[\"#636efa\",\"#EF553B\",\"#00cc96\",\"#ab63fa\",\"#FFA15A\",\"#19d3f3\",\"#FF6692\",\"#B6E880\",\"#FF97FF\",\"#FECB52\"],\"font\":{\"color\":\"#2a3f5f\"},\"hovermode\":\"closest\",\"hoverlabel\":{\"align\":\"left\"},\"paper_bgcolor\":\"white\",\"plot_bgcolor\":\"#E5ECF6\",\"polar\":{\"bgcolor\":\"#E5ECF6\",\"angularaxis\":{\"gridcolor\":\"white\",\"linecolor\":\"white\",\"ticks\":\"\"},\"radialaxis\":{\"gridcolor\":\"white\",\"linecolor\":\"white\",\"ticks\":\"\"}},\"ternary\":{\"bgcolor\":\"#E5ECF6\",\"aaxis\":{\"gridcolor\":\"white\",\"linecolor\":\"white\",\"ticks\":\"\"},\"baxis\":{\"gridcolor\":\"white\",\"linecolor\":\"white\",\"ticks\":\"\"},\"caxis\":{\"gridcolor\":\"white\",\"linecolor\":\"white\",\"ticks\":\"\"}},\"coloraxis\":{\"colorbar\":{\"outlinewidth\":0,\"ticks\":\"\"}},\"colorscale\":{\"sequential\":[[0.0,\"#0d0887\"],[0.1111111111111111,\"#46039f\"],[0.2222222222222222,\"#7201a8\"],[0.3333333333333333,\"#9c179e\"],[0.4444444444444444,\"#bd3786\"],[0.5555555555555556,\"#d8576b\"],[0.6666666666666666,\"#ed7953\"],[0.7777777777777778,\"#fb9f3a\"],[0.8888888888888888,\"#fdca26\"],[1.0,\"#f0f921\"]],\"sequentialminus\":[[0.0,\"#0d0887\"],[0.1111111111111111,\"#46039f\"],[0.2222222222222222,\"#7201a8\"],[0.3333333333333333,\"#9c179e\"],[0.4444444444444444,\"#bd3786\"],[0.5555555555555556,\"#d8576b\"],[0.6666666666666666,\"#ed7953\"],[0.7777777777777778,\"#fb9f3a\"],[0.8888888888888888,\"#fdca26\"],[1.0,\"#f0f921\"]],\"diverging\":[[0,\"#8e0152\"],[0.1,\"#c51b7d\"],[0.2,\"#de77ae\"],[0.3,\"#f1b6da\"],[0.4,\"#fde0ef\"],[0.5,\"#f7f7f7\"],[0.6,\"#e6f5d0\"],[0.7,\"#b8e186\"],[0.8,\"#7fbc41\"],[0.9,\"#4d9221\"],[1,\"#276419\"]]},\"xaxis\":{\"gridcolor\":\"white\",\"linecolor\":\"white\",\"ticks\":\"\",\"title\":{\"standoff\":15},\"zerolinecolor\":\"white\",\"automargin\":true,\"zerolinewidth\":2},\"yaxis\":{\"gridcolor\":\"white\",\"linecolor\":\"white\",\"ticks\":\"\",\"title\":{\"standoff\":15},\"zerolinecolor\":\"white\",\"automargin\":true,\"zerolinewidth\":2},\"scene\":{\"xaxis\":{\"backgroundcolor\":\"#E5ECF6\",\"gridcolor\":\"white\",\"linecolor\":\"white\",\"showbackground\":true,\"ticks\":\"\",\"zerolinecolor\":\"white\",\"gridwidth\":2},\"yaxis\":{\"backgroundcolor\":\"#E5ECF6\",\"gridcolor\":\"white\",\"linecolor\":\"white\",\"showbackground\":true,\"ticks\":\"\",\"zerolinecolor\":\"white\",\"gridwidth\":2},\"zaxis\":{\"backgroundcolor\":\"#E5ECF6\",\"gridcolor\":\"white\",\"linecolor\":\"white\",\"showbackground\":true,\"ticks\":\"\",\"zerolinecolor\":\"white\",\"gridwidth\":2}},\"shapedefaults\":{\"line\":{\"color\":\"#2a3f5f\"}},\"annotationdefaults\":{\"arrowcolor\":\"#2a3f5f\",\"arrowhead\":0,\"arrowwidth\":1},\"geo\":{\"bgcolor\":\"white\",\"landcolor\":\"#E5ECF6\",\"subunitcolor\":\"white\",\"showland\":true,\"showlakes\":true,\"lakecolor\":\"white\"},\"title\":{\"x\":0.05},\"mapbox\":{\"style\":\"light\"}}},\"xaxis\":{\"anchor\":\"y\",\"domain\":[0.0,1.0],\"title\":{\"text\":\"company_size\"}},\"yaxis\":{\"anchor\":\"x\",\"domain\":[0.0,1.0],\"title\":{\"text\":\"salary\"}},\"legend\":{\"title\":{\"text\":\"stats\"},\"tracegroupgap\":0},\"title\":{\"text\":\"Salary Statistics Based on Experience\"},\"barmode\":\"group\"},                        {\"responsive\": true}                    ).then(function(){\n",
       "                            \n",
       "var gd = document.getElementById('5ecec36f-dbbc-4522-8088-ca15caf94b26');\n",
       "var x = new MutationObserver(function (mutations, observer) {{\n",
       "        var display = window.getComputedStyle(gd).display;\n",
       "        if (!display || display === 'none') {{\n",
       "            console.log([gd, 'removed!']);\n",
       "            Plotly.purge(gd);\n",
       "            observer.disconnect();\n",
       "        }}\n",
       "}});\n",
       "\n",
       "// Listen for the removal of the full notebook cells\n",
       "var notebookContainer = gd.closest('#notebook-container');\n",
       "if (notebookContainer) {{\n",
       "    x.observe(notebookContainer, {childList: true});\n",
       "}}\n",
       "\n",
       "// Listen for the clearing of the current output cell\n",
       "var outputEl = gd.closest('.output');\n",
       "if (outputEl) {{\n",
       "    x.observe(outputEl, {childList: true});\n",
       "}}\n",
       "\n",
       "                        })                };                });            </script>        </div>"
      ]
     },
     "metadata": {},
     "output_type": "display_data"
    }
   ],
   "source": [
    "melt_size_sal = size_sal.melt(id_vars=\"company_size\", var_name=\"stats\", value_name=\"salary\")\n",
    "px.bar(melt_size_sal, x=\"company_size\", y=\"salary\",\n",
    "       color=\"stats\", color_discrete_sequence=px.colors.sequential.deep,\n",
    "       barmode=\"group\",\n",
    "       title=\"Salary Statistics Based on Experience\",\n",
    "       text=\"salary\")"
   ]
  },
  {
   "cell_type": "code",
   "execution_count": 20,
   "id": "ddf7a4e9",
   "metadata": {
    "execution": {
     "iopub.execute_input": "2024-01-11T04:48:57.592127Z",
     "iopub.status.busy": "2024-01-11T04:48:57.591748Z",
     "iopub.status.idle": "2024-01-11T04:48:57.641629Z",
     "shell.execute_reply": "2024-01-11T04:48:57.640574Z"
    },
    "papermill": {
     "duration": 0.077853,
     "end_time": "2024-01-11T04:48:57.644332",
     "exception": false,
     "start_time": "2024-01-11T04:48:57.566479",
     "status": "completed"
    },
    "tags": []
   },
   "outputs": [
    {
     "data": {
      "text/html": [
       "<div>                            <div id=\"f649b4c7-2a66-4431-a679-35e238cb0ce6\" class=\"plotly-graph-div\" style=\"height:470px; width:100%;\"></div>            <script type=\"text/javascript\">                require([\"plotly\"], function(Plotly) {                    window.PLOTLYENV=window.PLOTLYENV || {};                                    if (document.getElementById(\"f649b4c7-2a66-4431-a679-35e238cb0ce6\")) {                    Plotly.newPlot(                        \"f649b4c7-2a66-4431-a679-35e238cb0ce6\",                        [{\"colorscale\":[[0,\"#00083e\"],[0.5,\"#ededee\"],[1,\"#ffffff\"]],\"hoverinfo\":\"none\",\"opacity\":0.75,\"showscale\":false,\"z\":[[0,0,0],[0.5,0.5,0.5],[1,1,1],[0.5,0.5,0.5],[1,1,1],[0.5,0.5,0.5],[1,1,1],[0.5,0.5,0.5],[1,1,1],[0.5,0.5,0.5],[1,1,1],[0.5,0.5,0.5],[1,1,1],[0.5,0.5,0.5]],\"type\":\"heatmap\"}],                        {\"annotations\":[{\"align\":\"left\",\"font\":{\"color\":\"#ffffff\"},\"showarrow\":false,\"text\":\"\\u003cb\\u003eexperience_level\\u003c\\u002fb\\u003e\",\"x\":-0.45,\"xanchor\":\"left\",\"xref\":\"x\",\"y\":0,\"yref\":\"y\"},{\"align\":\"left\",\"font\":{\"color\":\"#ffffff\"},\"showarrow\":false,\"text\":\"\\u003cb\\u003eemployment_type\\u003c\\u002fb\\u003e\",\"x\":0.55,\"xanchor\":\"left\",\"xref\":\"x\",\"y\":0,\"yref\":\"y\"},{\"align\":\"left\",\"font\":{\"color\":\"#ffffff\"},\"showarrow\":false,\"text\":\"\\u003cb\\u003ecount\\u003c\\u002fb\\u003e\",\"x\":1.55,\"xanchor\":\"left\",\"xref\":\"x\",\"y\":0,\"yref\":\"y\"},{\"align\":\"left\",\"font\":{\"color\":\"#000000\"},\"showarrow\":false,\"text\":\"EN\",\"x\":-0.45,\"xanchor\":\"left\",\"xref\":\"x\",\"y\":1,\"yref\":\"y\"},{\"align\":\"left\",\"font\":{\"color\":\"#000000\"},\"showarrow\":false,\"text\":\"FT\",\"x\":0.55,\"xanchor\":\"left\",\"xref\":\"x\",\"y\":1,\"yref\":\"y\"},{\"align\":\"left\",\"font\":{\"color\":\"#000000\"},\"showarrow\":false,\"text\":\"302\",\"x\":1.55,\"xanchor\":\"left\",\"xref\":\"x\",\"y\":1,\"yref\":\"y\"},{\"align\":\"left\",\"font\":{\"color\":\"#000000\"},\"showarrow\":false,\"text\":\"EN\",\"x\":-0.45,\"xanchor\":\"left\",\"xref\":\"x\",\"y\":2,\"yref\":\"y\"},{\"align\":\"left\",\"font\":{\"color\":\"#000000\"},\"showarrow\":false,\"text\":\"PT\",\"x\":0.55,\"xanchor\":\"left\",\"xref\":\"x\",\"y\":2,\"yref\":\"y\"},{\"align\":\"left\",\"font\":{\"color\":\"#000000\"},\"showarrow\":false,\"text\":\"14\",\"x\":1.55,\"xanchor\":\"left\",\"xref\":\"x\",\"y\":2,\"yref\":\"y\"},{\"align\":\"left\",\"font\":{\"color\":\"#000000\"},\"showarrow\":false,\"text\":\"EN\",\"x\":-0.45,\"xanchor\":\"left\",\"xref\":\"x\",\"y\":3,\"yref\":\"y\"},{\"align\":\"left\",\"font\":{\"color\":\"#000000\"},\"showarrow\":false,\"text\":\"CT\",\"x\":0.55,\"xanchor\":\"left\",\"xref\":\"x\",\"y\":3,\"yref\":\"y\"},{\"align\":\"left\",\"font\":{\"color\":\"#000000\"},\"showarrow\":false,\"text\":\"2\",\"x\":1.55,\"xanchor\":\"left\",\"xref\":\"x\",\"y\":3,\"yref\":\"y\"},{\"align\":\"left\",\"font\":{\"color\":\"#000000\"},\"showarrow\":false,\"text\":\"EN\",\"x\":-0.45,\"xanchor\":\"left\",\"xref\":\"x\",\"y\":4,\"yref\":\"y\"},{\"align\":\"left\",\"font\":{\"color\":\"#000000\"},\"showarrow\":false,\"text\":\"FL\",\"x\":0.55,\"xanchor\":\"left\",\"xref\":\"x\",\"y\":4,\"yref\":\"y\"},{\"align\":\"left\",\"font\":{\"color\":\"#000000\"},\"showarrow\":false,\"text\":\"2\",\"x\":1.55,\"xanchor\":\"left\",\"xref\":\"x\",\"y\":4,\"yref\":\"y\"},{\"align\":\"left\",\"font\":{\"color\":\"#000000\"},\"showarrow\":false,\"text\":\"EX\",\"x\":-0.45,\"xanchor\":\"left\",\"xref\":\"x\",\"y\":5,\"yref\":\"y\"},{\"align\":\"left\",\"font\":{\"color\":\"#000000\"},\"showarrow\":false,\"text\":\"FT\",\"x\":0.55,\"xanchor\":\"left\",\"xref\":\"x\",\"y\":5,\"yref\":\"y\"},{\"align\":\"left\",\"font\":{\"color\":\"#000000\"},\"showarrow\":false,\"text\":\"113\",\"x\":1.55,\"xanchor\":\"left\",\"xref\":\"x\",\"y\":5,\"yref\":\"y\"},{\"align\":\"left\",\"font\":{\"color\":\"#000000\"},\"showarrow\":false,\"text\":\"EX\",\"x\":-0.45,\"xanchor\":\"left\",\"xref\":\"x\",\"y\":6,\"yref\":\"y\"},{\"align\":\"left\",\"font\":{\"color\":\"#000000\"},\"showarrow\":false,\"text\":\"CT\",\"x\":0.55,\"xanchor\":\"left\",\"xref\":\"x\",\"y\":6,\"yref\":\"y\"},{\"align\":\"left\",\"font\":{\"color\":\"#000000\"},\"showarrow\":false,\"text\":\"1\",\"x\":1.55,\"xanchor\":\"left\",\"xref\":\"x\",\"y\":6,\"yref\":\"y\"},{\"align\":\"left\",\"font\":{\"color\":\"#000000\"},\"showarrow\":false,\"text\":\"MI\",\"x\":-0.45,\"xanchor\":\"left\",\"xref\":\"x\",\"y\":7,\"yref\":\"y\"},{\"align\":\"left\",\"font\":{\"color\":\"#000000\"},\"showarrow\":false,\"text\":\"FT\",\"x\":0.55,\"xanchor\":\"left\",\"xref\":\"x\",\"y\":7,\"yref\":\"y\"},{\"align\":\"left\",\"font\":{\"color\":\"#000000\"},\"showarrow\":false,\"text\":\"792\",\"x\":1.55,\"xanchor\":\"left\",\"xref\":\"x\",\"y\":7,\"yref\":\"y\"},{\"align\":\"left\",\"font\":{\"color\":\"#000000\"},\"showarrow\":false,\"text\":\"MI\",\"x\":-0.45,\"xanchor\":\"left\",\"xref\":\"x\",\"y\":8,\"yref\":\"y\"},{\"align\":\"left\",\"font\":{\"color\":\"#000000\"},\"showarrow\":false,\"text\":\"CT\",\"x\":0.55,\"xanchor\":\"left\",\"xref\":\"x\",\"y\":8,\"yref\":\"y\"},{\"align\":\"left\",\"font\":{\"color\":\"#000000\"},\"showarrow\":false,\"text\":\"5\",\"x\":1.55,\"xanchor\":\"left\",\"xref\":\"x\",\"y\":8,\"yref\":\"y\"},{\"align\":\"left\",\"font\":{\"color\":\"#000000\"},\"showarrow\":false,\"text\":\"MI\",\"x\":-0.45,\"xanchor\":\"left\",\"xref\":\"x\",\"y\":9,\"yref\":\"y\"},{\"align\":\"left\",\"font\":{\"color\":\"#000000\"},\"showarrow\":false,\"text\":\"FL\",\"x\":0.55,\"xanchor\":\"left\",\"xref\":\"x\",\"y\":9,\"yref\":\"y\"},{\"align\":\"left\",\"font\":{\"color\":\"#000000\"},\"showarrow\":false,\"text\":\"5\",\"x\":1.55,\"xanchor\":\"left\",\"xref\":\"x\",\"y\":9,\"yref\":\"y\"},{\"align\":\"left\",\"font\":{\"color\":\"#000000\"},\"showarrow\":false,\"text\":\"MI\",\"x\":-0.45,\"xanchor\":\"left\",\"xref\":\"x\",\"y\":10,\"yref\":\"y\"},{\"align\":\"left\",\"font\":{\"color\":\"#000000\"},\"showarrow\":false,\"text\":\"PT\",\"x\":0.55,\"xanchor\":\"left\",\"xref\":\"x\",\"y\":10,\"yref\":\"y\"},{\"align\":\"left\",\"font\":{\"color\":\"#000000\"},\"showarrow\":false,\"text\":\"3\",\"x\":1.55,\"xanchor\":\"left\",\"xref\":\"x\",\"y\":10,\"yref\":\"y\"},{\"align\":\"left\",\"font\":{\"color\":\"#000000\"},\"showarrow\":false,\"text\":\"SE\",\"x\":-0.45,\"xanchor\":\"left\",\"xref\":\"x\",\"y\":11,\"yref\":\"y\"},{\"align\":\"left\",\"font\":{\"color\":\"#000000\"},\"showarrow\":false,\"text\":\"FT\",\"x\":0.55,\"xanchor\":\"left\",\"xref\":\"x\",\"y\":11,\"yref\":\"y\"},{\"align\":\"left\",\"font\":{\"color\":\"#000000\"},\"showarrow\":false,\"text\":\"2511\",\"x\":1.55,\"xanchor\":\"left\",\"xref\":\"x\",\"y\":11,\"yref\":\"y\"},{\"align\":\"left\",\"font\":{\"color\":\"#000000\"},\"showarrow\":false,\"text\":\"SE\",\"x\":-0.45,\"xanchor\":\"left\",\"xref\":\"x\",\"y\":12,\"yref\":\"y\"},{\"align\":\"left\",\"font\":{\"color\":\"#000000\"},\"showarrow\":false,\"text\":\"FL\",\"x\":0.55,\"xanchor\":\"left\",\"xref\":\"x\",\"y\":12,\"yref\":\"y\"},{\"align\":\"left\",\"font\":{\"color\":\"#000000\"},\"showarrow\":false,\"text\":\"3\",\"x\":1.55,\"xanchor\":\"left\",\"xref\":\"x\",\"y\":12,\"yref\":\"y\"},{\"align\":\"left\",\"font\":{\"color\":\"#000000\"},\"showarrow\":false,\"text\":\"SE\",\"x\":-0.45,\"xanchor\":\"left\",\"xref\":\"x\",\"y\":13,\"yref\":\"y\"},{\"align\":\"left\",\"font\":{\"color\":\"#000000\"},\"showarrow\":false,\"text\":\"CT\",\"x\":0.55,\"xanchor\":\"left\",\"xref\":\"x\",\"y\":13,\"yref\":\"y\"},{\"align\":\"left\",\"font\":{\"color\":\"#000000\"},\"showarrow\":false,\"text\":\"2\",\"x\":1.55,\"xanchor\":\"left\",\"xref\":\"x\",\"y\":13,\"yref\":\"y\"}],\"height\":470,\"margin\":{\"b\":0,\"l\":0,\"r\":0,\"t\":0},\"xaxis\":{\"dtick\":1,\"gridwidth\":2,\"showticklabels\":false,\"tick0\":-0.5,\"ticks\":\"\",\"zeroline\":false},\"yaxis\":{\"autorange\":\"reversed\",\"dtick\":1,\"gridwidth\":2,\"showticklabels\":false,\"tick0\":0.5,\"ticks\":\"\",\"zeroline\":false},\"template\":{\"data\":{\"histogram2dcontour\":[{\"type\":\"histogram2dcontour\",\"colorbar\":{\"outlinewidth\":0,\"ticks\":\"\"},\"colorscale\":[[0.0,\"#0d0887\"],[0.1111111111111111,\"#46039f\"],[0.2222222222222222,\"#7201a8\"],[0.3333333333333333,\"#9c179e\"],[0.4444444444444444,\"#bd3786\"],[0.5555555555555556,\"#d8576b\"],[0.6666666666666666,\"#ed7953\"],[0.7777777777777778,\"#fb9f3a\"],[0.8888888888888888,\"#fdca26\"],[1.0,\"#f0f921\"]]}],\"choropleth\":[{\"type\":\"choropleth\",\"colorbar\":{\"outlinewidth\":0,\"ticks\":\"\"}}],\"histogram2d\":[{\"type\":\"histogram2d\",\"colorbar\":{\"outlinewidth\":0,\"ticks\":\"\"},\"colorscale\":[[0.0,\"#0d0887\"],[0.1111111111111111,\"#46039f\"],[0.2222222222222222,\"#7201a8\"],[0.3333333333333333,\"#9c179e\"],[0.4444444444444444,\"#bd3786\"],[0.5555555555555556,\"#d8576b\"],[0.6666666666666666,\"#ed7953\"],[0.7777777777777778,\"#fb9f3a\"],[0.8888888888888888,\"#fdca26\"],[1.0,\"#f0f921\"]]}],\"heatmap\":[{\"type\":\"heatmap\",\"colorbar\":{\"outlinewidth\":0,\"ticks\":\"\"},\"colorscale\":[[0.0,\"#0d0887\"],[0.1111111111111111,\"#46039f\"],[0.2222222222222222,\"#7201a8\"],[0.3333333333333333,\"#9c179e\"],[0.4444444444444444,\"#bd3786\"],[0.5555555555555556,\"#d8576b\"],[0.6666666666666666,\"#ed7953\"],[0.7777777777777778,\"#fb9f3a\"],[0.8888888888888888,\"#fdca26\"],[1.0,\"#f0f921\"]]}],\"heatmapgl\":[{\"type\":\"heatmapgl\",\"colorbar\":{\"outlinewidth\":0,\"ticks\":\"\"},\"colorscale\":[[0.0,\"#0d0887\"],[0.1111111111111111,\"#46039f\"],[0.2222222222222222,\"#7201a8\"],[0.3333333333333333,\"#9c179e\"],[0.4444444444444444,\"#bd3786\"],[0.5555555555555556,\"#d8576b\"],[0.6666666666666666,\"#ed7953\"],[0.7777777777777778,\"#fb9f3a\"],[0.8888888888888888,\"#fdca26\"],[1.0,\"#f0f921\"]]}],\"contourcarpet\":[{\"type\":\"contourcarpet\",\"colorbar\":{\"outlinewidth\":0,\"ticks\":\"\"}}],\"contour\":[{\"type\":\"contour\",\"colorbar\":{\"outlinewidth\":0,\"ticks\":\"\"},\"colorscale\":[[0.0,\"#0d0887\"],[0.1111111111111111,\"#46039f\"],[0.2222222222222222,\"#7201a8\"],[0.3333333333333333,\"#9c179e\"],[0.4444444444444444,\"#bd3786\"],[0.5555555555555556,\"#d8576b\"],[0.6666666666666666,\"#ed7953\"],[0.7777777777777778,\"#fb9f3a\"],[0.8888888888888888,\"#fdca26\"],[1.0,\"#f0f921\"]]}],\"surface\":[{\"type\":\"surface\",\"colorbar\":{\"outlinewidth\":0,\"ticks\":\"\"},\"colorscale\":[[0.0,\"#0d0887\"],[0.1111111111111111,\"#46039f\"],[0.2222222222222222,\"#7201a8\"],[0.3333333333333333,\"#9c179e\"],[0.4444444444444444,\"#bd3786\"],[0.5555555555555556,\"#d8576b\"],[0.6666666666666666,\"#ed7953\"],[0.7777777777777778,\"#fb9f3a\"],[0.8888888888888888,\"#fdca26\"],[1.0,\"#f0f921\"]]}],\"mesh3d\":[{\"type\":\"mesh3d\",\"colorbar\":{\"outlinewidth\":0,\"ticks\":\"\"}}],\"scatter\":[{\"fillpattern\":{\"fillmode\":\"overlay\",\"size\":10,\"solidity\":0.2},\"type\":\"scatter\"}],\"parcoords\":[{\"type\":\"parcoords\",\"line\":{\"colorbar\":{\"outlinewidth\":0,\"ticks\":\"\"}}}],\"scatterpolargl\":[{\"type\":\"scatterpolargl\",\"marker\":{\"colorbar\":{\"outlinewidth\":0,\"ticks\":\"\"}}}],\"bar\":[{\"error_x\":{\"color\":\"#2a3f5f\"},\"error_y\":{\"color\":\"#2a3f5f\"},\"marker\":{\"line\":{\"color\":\"#E5ECF6\",\"width\":0.5},\"pattern\":{\"fillmode\":\"overlay\",\"size\":10,\"solidity\":0.2}},\"type\":\"bar\"}],\"scattergeo\":[{\"type\":\"scattergeo\",\"marker\":{\"colorbar\":{\"outlinewidth\":0,\"ticks\":\"\"}}}],\"scatterpolar\":[{\"type\":\"scatterpolar\",\"marker\":{\"colorbar\":{\"outlinewidth\":0,\"ticks\":\"\"}}}],\"histogram\":[{\"marker\":{\"pattern\":{\"fillmode\":\"overlay\",\"size\":10,\"solidity\":0.2}},\"type\":\"histogram\"}],\"scattergl\":[{\"type\":\"scattergl\",\"marker\":{\"colorbar\":{\"outlinewidth\":0,\"ticks\":\"\"}}}],\"scatter3d\":[{\"type\":\"scatter3d\",\"line\":{\"colorbar\":{\"outlinewidth\":0,\"ticks\":\"\"}},\"marker\":{\"colorbar\":{\"outlinewidth\":0,\"ticks\":\"\"}}}],\"scattermapbox\":[{\"type\":\"scattermapbox\",\"marker\":{\"colorbar\":{\"outlinewidth\":0,\"ticks\":\"\"}}}],\"scatterternary\":[{\"type\":\"scatterternary\",\"marker\":{\"colorbar\":{\"outlinewidth\":0,\"ticks\":\"\"}}}],\"scattercarpet\":[{\"type\":\"scattercarpet\",\"marker\":{\"colorbar\":{\"outlinewidth\":0,\"ticks\":\"\"}}}],\"carpet\":[{\"aaxis\":{\"endlinecolor\":\"#2a3f5f\",\"gridcolor\":\"white\",\"linecolor\":\"white\",\"minorgridcolor\":\"white\",\"startlinecolor\":\"#2a3f5f\"},\"baxis\":{\"endlinecolor\":\"#2a3f5f\",\"gridcolor\":\"white\",\"linecolor\":\"white\",\"minorgridcolor\":\"white\",\"startlinecolor\":\"#2a3f5f\"},\"type\":\"carpet\"}],\"table\":[{\"cells\":{\"fill\":{\"color\":\"#EBF0F8\"},\"line\":{\"color\":\"white\"}},\"header\":{\"fill\":{\"color\":\"#C8D4E3\"},\"line\":{\"color\":\"white\"}},\"type\":\"table\"}],\"barpolar\":[{\"marker\":{\"line\":{\"color\":\"#E5ECF6\",\"width\":0.5},\"pattern\":{\"fillmode\":\"overlay\",\"size\":10,\"solidity\":0.2}},\"type\":\"barpolar\"}],\"pie\":[{\"automargin\":true,\"type\":\"pie\"}]},\"layout\":{\"autotypenumbers\":\"strict\",\"colorway\":[\"#636efa\",\"#EF553B\",\"#00cc96\",\"#ab63fa\",\"#FFA15A\",\"#19d3f3\",\"#FF6692\",\"#B6E880\",\"#FF97FF\",\"#FECB52\"],\"font\":{\"color\":\"#2a3f5f\"},\"hovermode\":\"closest\",\"hoverlabel\":{\"align\":\"left\"},\"paper_bgcolor\":\"white\",\"plot_bgcolor\":\"#E5ECF6\",\"polar\":{\"bgcolor\":\"#E5ECF6\",\"angularaxis\":{\"gridcolor\":\"white\",\"linecolor\":\"white\",\"ticks\":\"\"},\"radialaxis\":{\"gridcolor\":\"white\",\"linecolor\":\"white\",\"ticks\":\"\"}},\"ternary\":{\"bgcolor\":\"#E5ECF6\",\"aaxis\":{\"gridcolor\":\"white\",\"linecolor\":\"white\",\"ticks\":\"\"},\"baxis\":{\"gridcolor\":\"white\",\"linecolor\":\"white\",\"ticks\":\"\"},\"caxis\":{\"gridcolor\":\"white\",\"linecolor\":\"white\",\"ticks\":\"\"}},\"coloraxis\":{\"colorbar\":{\"outlinewidth\":0,\"ticks\":\"\"}},\"colorscale\":{\"sequential\":[[0.0,\"#0d0887\"],[0.1111111111111111,\"#46039f\"],[0.2222222222222222,\"#7201a8\"],[0.3333333333333333,\"#9c179e\"],[0.4444444444444444,\"#bd3786\"],[0.5555555555555556,\"#d8576b\"],[0.6666666666666666,\"#ed7953\"],[0.7777777777777778,\"#fb9f3a\"],[0.8888888888888888,\"#fdca26\"],[1.0,\"#f0f921\"]],\"sequentialminus\":[[0.0,\"#0d0887\"],[0.1111111111111111,\"#46039f\"],[0.2222222222222222,\"#7201a8\"],[0.3333333333333333,\"#9c179e\"],[0.4444444444444444,\"#bd3786\"],[0.5555555555555556,\"#d8576b\"],[0.6666666666666666,\"#ed7953\"],[0.7777777777777778,\"#fb9f3a\"],[0.8888888888888888,\"#fdca26\"],[1.0,\"#f0f921\"]],\"diverging\":[[0,\"#8e0152\"],[0.1,\"#c51b7d\"],[0.2,\"#de77ae\"],[0.3,\"#f1b6da\"],[0.4,\"#fde0ef\"],[0.5,\"#f7f7f7\"],[0.6,\"#e6f5d0\"],[0.7,\"#b8e186\"],[0.8,\"#7fbc41\"],[0.9,\"#4d9221\"],[1,\"#276419\"]]},\"xaxis\":{\"gridcolor\":\"white\",\"linecolor\":\"white\",\"ticks\":\"\",\"title\":{\"standoff\":15},\"zerolinecolor\":\"white\",\"automargin\":true,\"zerolinewidth\":2},\"yaxis\":{\"gridcolor\":\"white\",\"linecolor\":\"white\",\"ticks\":\"\",\"title\":{\"standoff\":15},\"zerolinecolor\":\"white\",\"automargin\":true,\"zerolinewidth\":2},\"scene\":{\"xaxis\":{\"backgroundcolor\":\"#E5ECF6\",\"gridcolor\":\"white\",\"linecolor\":\"white\",\"showbackground\":true,\"ticks\":\"\",\"zerolinecolor\":\"white\",\"gridwidth\":2},\"yaxis\":{\"backgroundcolor\":\"#E5ECF6\",\"gridcolor\":\"white\",\"linecolor\":\"white\",\"showbackground\":true,\"ticks\":\"\",\"zerolinecolor\":\"white\",\"gridwidth\":2},\"zaxis\":{\"backgroundcolor\":\"#E5ECF6\",\"gridcolor\":\"white\",\"linecolor\":\"white\",\"showbackground\":true,\"ticks\":\"\",\"zerolinecolor\":\"white\",\"gridwidth\":2}},\"shapedefaults\":{\"line\":{\"color\":\"#2a3f5f\"}},\"annotationdefaults\":{\"arrowcolor\":\"#2a3f5f\",\"arrowhead\":0,\"arrowwidth\":1},\"geo\":{\"bgcolor\":\"white\",\"landcolor\":\"#E5ECF6\",\"subunitcolor\":\"white\",\"showland\":true,\"showlakes\":true,\"lakecolor\":\"white\"},\"title\":{\"x\":0.05},\"mapbox\":{\"style\":\"light\"}}}},                        {\"responsive\": true}                    ).then(function(){\n",
       "                            \n",
       "var gd = document.getElementById('f649b4c7-2a66-4431-a679-35e238cb0ce6');\n",
       "var x = new MutationObserver(function (mutations, observer) {{\n",
       "        var display = window.getComputedStyle(gd).display;\n",
       "        if (!display || display === 'none') {{\n",
       "            console.log([gd, 'removed!']);\n",
       "            Plotly.purge(gd);\n",
       "            observer.disconnect();\n",
       "        }}\n",
       "}});\n",
       "\n",
       "// Listen for the removal of the full notebook cells\n",
       "var notebookContainer = gd.closest('#notebook-container');\n",
       "if (notebookContainer) {{\n",
       "    x.observe(notebookContainer, {childList: true});\n",
       "}}\n",
       "\n",
       "// Listen for the clearing of the current output cell\n",
       "var outputEl = gd.closest('.output');\n",
       "if (outputEl) {{\n",
       "    x.observe(outputEl, {childList: true});\n",
       "}}\n",
       "\n",
       "                        })                };                });            </script>        </div>"
      ]
     },
     "metadata": {},
     "output_type": "display_data"
    }
   ],
   "source": [
    "#experience level and employment type\n",
    "exp_typ = ds.groupby(\"experience_level\")[\"employment_type\"].value_counts().reset_index()\n",
    "ff.create_table(exp_typ)"
   ]
  },
  {
   "cell_type": "code",
   "execution_count": 21,
   "id": "fa54b2ec",
   "metadata": {
    "execution": {
     "iopub.execute_input": "2024-01-11T04:48:57.695026Z",
     "iopub.status.busy": "2024-01-11T04:48:57.694615Z",
     "iopub.status.idle": "2024-01-11T04:48:57.801865Z",
     "shell.execute_reply": "2024-01-11T04:48:57.800723Z"
    },
    "papermill": {
     "duration": 0.135354,
     "end_time": "2024-01-11T04:48:57.804372",
     "exception": false,
     "start_time": "2024-01-11T04:48:57.669018",
     "status": "completed"
    },
    "tags": []
   },
   "outputs": [
    {
     "data": {
      "text/html": [
       "<div>                            <div id=\"7eb6600f-1fa1-40e6-b61c-f3f674e8821a\" class=\"plotly-graph-div\" style=\"height:525px; width:100%;\"></div>            <script type=\"text/javascript\">                require([\"plotly\"], function(Plotly) {                    window.PLOTLYENV=window.PLOTLYENV || {};                                    if (document.getElementById(\"7eb6600f-1fa1-40e6-b61c-f3f674e8821a\")) {                    Plotly.newPlot(                        \"7eb6600f-1fa1-40e6-b61c-f3f674e8821a\",                        [{\"branchvalues\":\"total\",\"domain\":{\"x\":[0.0,1.0],\"y\":[0.0,1.0]},\"hovertemplate\":\"labels=%{label}\\u003cbr\\u003eexperience_levelemployment_typecountcount_path_copyemployment_type_path_copyexperience_level_path_copy=%{value}\\u003cbr\\u003eparent=%{parent}\\u003cbr\\u003eid=%{id}\\u003cextra\\u003e\\u003c\\u002fextra\\u003e\",\"ids\":[\"EX\\u002fCT\\u002f1\",\"EN\\u002fCT\\u002f2\",\"SE\\u002fCT\\u002f2\",\"EN\\u002fFL\\u002f2\",\"SE\\u002fFL\\u002f3\",\"MI\\u002fPT\\u002f3\",\"MI\\u002fCT\\u002f5\",\"MI\\u002fFL\\u002f5\",\"EN\\u002fPT\\u002f14\",\"EX\\u002fFT\\u002f113\",\"EN\\u002fFT\\u002f302\",\"MI\\u002fFT\\u002f792\",\"SE\\u002fFT\\u002f2511\",\"EN\\u002fCT\",\"EX\\u002fCT\",\"MI\\u002fCT\",\"SE\\u002fCT\",\"EN\\u002fFL\",\"MI\\u002fFL\",\"SE\\u002fFL\",\"EN\\u002fFT\",\"EX\\u002fFT\",\"MI\\u002fFT\",\"SE\\u002fFT\",\"EN\\u002fPT\",\"MI\\u002fPT\",\"EN\",\"EX\",\"MI\",\"SE\"],\"labels\":[\"1\",\"2\",\"2\",\"2\",\"3\",\"3\",\"5\",\"5\",\"14\",\"113\",\"302\",\"792\",\"2511\",\"CT\",\"CT\",\"CT\",\"CT\",\"FL\",\"FL\",\"FL\",\"FT\",\"FT\",\"FT\",\"FT\",\"PT\",\"PT\",\"EN\",\"EX\",\"MI\",\"SE\"],\"name\":\"\",\"parents\":[\"EX\\u002fCT\",\"EN\\u002fCT\",\"SE\\u002fCT\",\"EN\\u002fFL\",\"SE\\u002fFL\",\"MI\\u002fPT\",\"MI\\u002fCT\",\"MI\\u002fFL\",\"EN\\u002fPT\",\"EX\\u002fFT\",\"EN\\u002fFT\",\"MI\\u002fFT\",\"SE\\u002fFT\",\"EN\",\"EX\",\"MI\",\"SE\",\"EN\",\"MI\",\"SE\",\"EN\",\"EX\",\"MI\",\"SE\",\"EN\",\"MI\",\"\",\"\",\"\",\"\"],\"values\":[1,1,1,1,1,1,1,1,1,1,1,1,1,1,1,1,1,1,1,1,1,1,1,1,1,1,4,2,4,3],\"type\":\"sunburst\"}],                        {\"template\":{\"data\":{\"histogram2dcontour\":[{\"type\":\"histogram2dcontour\",\"colorbar\":{\"outlinewidth\":0,\"ticks\":\"\"},\"colorscale\":[[0.0,\"#0d0887\"],[0.1111111111111111,\"#46039f\"],[0.2222222222222222,\"#7201a8\"],[0.3333333333333333,\"#9c179e\"],[0.4444444444444444,\"#bd3786\"],[0.5555555555555556,\"#d8576b\"],[0.6666666666666666,\"#ed7953\"],[0.7777777777777778,\"#fb9f3a\"],[0.8888888888888888,\"#fdca26\"],[1.0,\"#f0f921\"]]}],\"choropleth\":[{\"type\":\"choropleth\",\"colorbar\":{\"outlinewidth\":0,\"ticks\":\"\"}}],\"histogram2d\":[{\"type\":\"histogram2d\",\"colorbar\":{\"outlinewidth\":0,\"ticks\":\"\"},\"colorscale\":[[0.0,\"#0d0887\"],[0.1111111111111111,\"#46039f\"],[0.2222222222222222,\"#7201a8\"],[0.3333333333333333,\"#9c179e\"],[0.4444444444444444,\"#bd3786\"],[0.5555555555555556,\"#d8576b\"],[0.6666666666666666,\"#ed7953\"],[0.7777777777777778,\"#fb9f3a\"],[0.8888888888888888,\"#fdca26\"],[1.0,\"#f0f921\"]]}],\"heatmap\":[{\"type\":\"heatmap\",\"colorbar\":{\"outlinewidth\":0,\"ticks\":\"\"},\"colorscale\":[[0.0,\"#0d0887\"],[0.1111111111111111,\"#46039f\"],[0.2222222222222222,\"#7201a8\"],[0.3333333333333333,\"#9c179e\"],[0.4444444444444444,\"#bd3786\"],[0.5555555555555556,\"#d8576b\"],[0.6666666666666666,\"#ed7953\"],[0.7777777777777778,\"#fb9f3a\"],[0.8888888888888888,\"#fdca26\"],[1.0,\"#f0f921\"]]}],\"heatmapgl\":[{\"type\":\"heatmapgl\",\"colorbar\":{\"outlinewidth\":0,\"ticks\":\"\"},\"colorscale\":[[0.0,\"#0d0887\"],[0.1111111111111111,\"#46039f\"],[0.2222222222222222,\"#7201a8\"],[0.3333333333333333,\"#9c179e\"],[0.4444444444444444,\"#bd3786\"],[0.5555555555555556,\"#d8576b\"],[0.6666666666666666,\"#ed7953\"],[0.7777777777777778,\"#fb9f3a\"],[0.8888888888888888,\"#fdca26\"],[1.0,\"#f0f921\"]]}],\"contourcarpet\":[{\"type\":\"contourcarpet\",\"colorbar\":{\"outlinewidth\":0,\"ticks\":\"\"}}],\"contour\":[{\"type\":\"contour\",\"colorbar\":{\"outlinewidth\":0,\"ticks\":\"\"},\"colorscale\":[[0.0,\"#0d0887\"],[0.1111111111111111,\"#46039f\"],[0.2222222222222222,\"#7201a8\"],[0.3333333333333333,\"#9c179e\"],[0.4444444444444444,\"#bd3786\"],[0.5555555555555556,\"#d8576b\"],[0.6666666666666666,\"#ed7953\"],[0.7777777777777778,\"#fb9f3a\"],[0.8888888888888888,\"#fdca26\"],[1.0,\"#f0f921\"]]}],\"surface\":[{\"type\":\"surface\",\"colorbar\":{\"outlinewidth\":0,\"ticks\":\"\"},\"colorscale\":[[0.0,\"#0d0887\"],[0.1111111111111111,\"#46039f\"],[0.2222222222222222,\"#7201a8\"],[0.3333333333333333,\"#9c179e\"],[0.4444444444444444,\"#bd3786\"],[0.5555555555555556,\"#d8576b\"],[0.6666666666666666,\"#ed7953\"],[0.7777777777777778,\"#fb9f3a\"],[0.8888888888888888,\"#fdca26\"],[1.0,\"#f0f921\"]]}],\"mesh3d\":[{\"type\":\"mesh3d\",\"colorbar\":{\"outlinewidth\":0,\"ticks\":\"\"}}],\"scatter\":[{\"fillpattern\":{\"fillmode\":\"overlay\",\"size\":10,\"solidity\":0.2},\"type\":\"scatter\"}],\"parcoords\":[{\"type\":\"parcoords\",\"line\":{\"colorbar\":{\"outlinewidth\":0,\"ticks\":\"\"}}}],\"scatterpolargl\":[{\"type\":\"scatterpolargl\",\"marker\":{\"colorbar\":{\"outlinewidth\":0,\"ticks\":\"\"}}}],\"bar\":[{\"error_x\":{\"color\":\"#2a3f5f\"},\"error_y\":{\"color\":\"#2a3f5f\"},\"marker\":{\"line\":{\"color\":\"#E5ECF6\",\"width\":0.5},\"pattern\":{\"fillmode\":\"overlay\",\"size\":10,\"solidity\":0.2}},\"type\":\"bar\"}],\"scattergeo\":[{\"type\":\"scattergeo\",\"marker\":{\"colorbar\":{\"outlinewidth\":0,\"ticks\":\"\"}}}],\"scatterpolar\":[{\"type\":\"scatterpolar\",\"marker\":{\"colorbar\":{\"outlinewidth\":0,\"ticks\":\"\"}}}],\"histogram\":[{\"marker\":{\"pattern\":{\"fillmode\":\"overlay\",\"size\":10,\"solidity\":0.2}},\"type\":\"histogram\"}],\"scattergl\":[{\"type\":\"scattergl\",\"marker\":{\"colorbar\":{\"outlinewidth\":0,\"ticks\":\"\"}}}],\"scatter3d\":[{\"type\":\"scatter3d\",\"line\":{\"colorbar\":{\"outlinewidth\":0,\"ticks\":\"\"}},\"marker\":{\"colorbar\":{\"outlinewidth\":0,\"ticks\":\"\"}}}],\"scattermapbox\":[{\"type\":\"scattermapbox\",\"marker\":{\"colorbar\":{\"outlinewidth\":0,\"ticks\":\"\"}}}],\"scatterternary\":[{\"type\":\"scatterternary\",\"marker\":{\"colorbar\":{\"outlinewidth\":0,\"ticks\":\"\"}}}],\"scattercarpet\":[{\"type\":\"scattercarpet\",\"marker\":{\"colorbar\":{\"outlinewidth\":0,\"ticks\":\"\"}}}],\"carpet\":[{\"aaxis\":{\"endlinecolor\":\"#2a3f5f\",\"gridcolor\":\"white\",\"linecolor\":\"white\",\"minorgridcolor\":\"white\",\"startlinecolor\":\"#2a3f5f\"},\"baxis\":{\"endlinecolor\":\"#2a3f5f\",\"gridcolor\":\"white\",\"linecolor\":\"white\",\"minorgridcolor\":\"white\",\"startlinecolor\":\"#2a3f5f\"},\"type\":\"carpet\"}],\"table\":[{\"cells\":{\"fill\":{\"color\":\"#EBF0F8\"},\"line\":{\"color\":\"white\"}},\"header\":{\"fill\":{\"color\":\"#C8D4E3\"},\"line\":{\"color\":\"white\"}},\"type\":\"table\"}],\"barpolar\":[{\"marker\":{\"line\":{\"color\":\"#E5ECF6\",\"width\":0.5},\"pattern\":{\"fillmode\":\"overlay\",\"size\":10,\"solidity\":0.2}},\"type\":\"barpolar\"}],\"pie\":[{\"automargin\":true,\"type\":\"pie\"}]},\"layout\":{\"autotypenumbers\":\"strict\",\"colorway\":[\"#636efa\",\"#EF553B\",\"#00cc96\",\"#ab63fa\",\"#FFA15A\",\"#19d3f3\",\"#FF6692\",\"#B6E880\",\"#FF97FF\",\"#FECB52\"],\"font\":{\"color\":\"#2a3f5f\"},\"hovermode\":\"closest\",\"hoverlabel\":{\"align\":\"left\"},\"paper_bgcolor\":\"white\",\"plot_bgcolor\":\"#E5ECF6\",\"polar\":{\"bgcolor\":\"#E5ECF6\",\"angularaxis\":{\"gridcolor\":\"white\",\"linecolor\":\"white\",\"ticks\":\"\"},\"radialaxis\":{\"gridcolor\":\"white\",\"linecolor\":\"white\",\"ticks\":\"\"}},\"ternary\":{\"bgcolor\":\"#E5ECF6\",\"aaxis\":{\"gridcolor\":\"white\",\"linecolor\":\"white\",\"ticks\":\"\"},\"baxis\":{\"gridcolor\":\"white\",\"linecolor\":\"white\",\"ticks\":\"\"},\"caxis\":{\"gridcolor\":\"white\",\"linecolor\":\"white\",\"ticks\":\"\"}},\"coloraxis\":{\"colorbar\":{\"outlinewidth\":0,\"ticks\":\"\"}},\"colorscale\":{\"sequential\":[[0.0,\"#0d0887\"],[0.1111111111111111,\"#46039f\"],[0.2222222222222222,\"#7201a8\"],[0.3333333333333333,\"#9c179e\"],[0.4444444444444444,\"#bd3786\"],[0.5555555555555556,\"#d8576b\"],[0.6666666666666666,\"#ed7953\"],[0.7777777777777778,\"#fb9f3a\"],[0.8888888888888888,\"#fdca26\"],[1.0,\"#f0f921\"]],\"sequentialminus\":[[0.0,\"#0d0887\"],[0.1111111111111111,\"#46039f\"],[0.2222222222222222,\"#7201a8\"],[0.3333333333333333,\"#9c179e\"],[0.4444444444444444,\"#bd3786\"],[0.5555555555555556,\"#d8576b\"],[0.6666666666666666,\"#ed7953\"],[0.7777777777777778,\"#fb9f3a\"],[0.8888888888888888,\"#fdca26\"],[1.0,\"#f0f921\"]],\"diverging\":[[0,\"#8e0152\"],[0.1,\"#c51b7d\"],[0.2,\"#de77ae\"],[0.3,\"#f1b6da\"],[0.4,\"#fde0ef\"],[0.5,\"#f7f7f7\"],[0.6,\"#e6f5d0\"],[0.7,\"#b8e186\"],[0.8,\"#7fbc41\"],[0.9,\"#4d9221\"],[1,\"#276419\"]]},\"xaxis\":{\"gridcolor\":\"white\",\"linecolor\":\"white\",\"ticks\":\"\",\"title\":{\"standoff\":15},\"zerolinecolor\":\"white\",\"automargin\":true,\"zerolinewidth\":2},\"yaxis\":{\"gridcolor\":\"white\",\"linecolor\":\"white\",\"ticks\":\"\",\"title\":{\"standoff\":15},\"zerolinecolor\":\"white\",\"automargin\":true,\"zerolinewidth\":2},\"scene\":{\"xaxis\":{\"backgroundcolor\":\"#E5ECF6\",\"gridcolor\":\"white\",\"linecolor\":\"white\",\"showbackground\":true,\"ticks\":\"\",\"zerolinecolor\":\"white\",\"gridwidth\":2},\"yaxis\":{\"backgroundcolor\":\"#E5ECF6\",\"gridcolor\":\"white\",\"linecolor\":\"white\",\"showbackground\":true,\"ticks\":\"\",\"zerolinecolor\":\"white\",\"gridwidth\":2},\"zaxis\":{\"backgroundcolor\":\"#E5ECF6\",\"gridcolor\":\"white\",\"linecolor\":\"white\",\"showbackground\":true,\"ticks\":\"\",\"zerolinecolor\":\"white\",\"gridwidth\":2}},\"shapedefaults\":{\"line\":{\"color\":\"#2a3f5f\"}},\"annotationdefaults\":{\"arrowcolor\":\"#2a3f5f\",\"arrowhead\":0,\"arrowwidth\":1},\"geo\":{\"bgcolor\":\"white\",\"landcolor\":\"#E5ECF6\",\"subunitcolor\":\"white\",\"showland\":true,\"showlakes\":true,\"lakecolor\":\"white\"},\"title\":{\"x\":0.05},\"mapbox\":{\"style\":\"light\"}}},\"legend\":{\"tracegroupgap\":0},\"title\":{\"text\":\"Sunburst for Experience Level and Count of Employment Type\"}},                        {\"responsive\": true}                    ).then(function(){\n",
       "                            \n",
       "var gd = document.getElementById('7eb6600f-1fa1-40e6-b61c-f3f674e8821a');\n",
       "var x = new MutationObserver(function (mutations, observer) {{\n",
       "        var display = window.getComputedStyle(gd).display;\n",
       "        if (!display || display === 'none') {{\n",
       "            console.log([gd, 'removed!']);\n",
       "            Plotly.purge(gd);\n",
       "            observer.disconnect();\n",
       "        }}\n",
       "}});\n",
       "\n",
       "// Listen for the removal of the full notebook cells\n",
       "var notebookContainer = gd.closest('#notebook-container');\n",
       "if (notebookContainer) {{\n",
       "    x.observe(notebookContainer, {childList: true});\n",
       "}}\n",
       "\n",
       "// Listen for the clearing of the current output cell\n",
       "var outputEl = gd.closest('.output');\n",
       "if (outputEl) {{\n",
       "    x.observe(outputEl, {childList: true});\n",
       "}}\n",
       "\n",
       "                        })                };                });            </script>        </div>"
      ]
     },
     "metadata": {},
     "output_type": "display_data"
    }
   ],
   "source": [
    "px.sunburst(exp_typ, path=[\"experience_level\", \"employment_type\", \"count\"],\n",
    "           title=\"Sunburst for Experience Level and Count of Employment Type\")"
   ]
  },
  {
   "cell_type": "markdown",
   "id": "611c6c7b",
   "metadata": {
    "papermill": {
     "duration": 0.024192,
     "end_time": "2024-01-11T04:48:57.852980",
     "exception": false,
     "start_time": "2024-01-11T04:48:57.828788",
     "status": "completed"
    },
    "tags": []
   },
   "source": [
    "# **Building Model for Prediction**"
   ]
  },
  {
   "cell_type": "code",
   "execution_count": 22,
   "id": "b7238caa",
   "metadata": {
    "execution": {
     "iopub.execute_input": "2024-01-11T04:48:57.903769Z",
     "iopub.status.busy": "2024-01-11T04:48:57.903335Z",
     "iopub.status.idle": "2024-01-11T04:48:57.910115Z",
     "shell.execute_reply": "2024-01-11T04:48:57.908900Z"
    },
    "papermill": {
     "duration": 0.034836,
     "end_time": "2024-01-11T04:48:57.912415",
     "exception": false,
     "start_time": "2024-01-11T04:48:57.877579",
     "status": "completed"
    },
    "tags": []
   },
   "outputs": [],
   "source": [
    "#removing unnecessary columns\n",
    "ds.drop([\"salary\", \"salary_currency\"], axis=1, inplace=True)"
   ]
  },
  {
   "cell_type": "code",
   "execution_count": 23,
   "id": "360ef0ca",
   "metadata": {
    "execution": {
     "iopub.execute_input": "2024-01-11T04:48:57.963174Z",
     "iopub.status.busy": "2024-01-11T04:48:57.962798Z",
     "iopub.status.idle": "2024-01-11T04:48:57.969346Z",
     "shell.execute_reply": "2024-01-11T04:48:57.968226Z"
    },
    "papermill": {
     "duration": 0.034905,
     "end_time": "2024-01-11T04:48:57.971694",
     "exception": false,
     "start_time": "2024-01-11T04:48:57.936789",
     "status": "completed"
    },
    "tags": []
   },
   "outputs": [],
   "source": [
    "#data preprocessing\n",
    "ordinal_cols = [\"work_year\", \"experience_level\", \"company_size\"]\n",
    "years = [i for i in range(2020, 2027, 1)]\n",
    "mapping = {year:idx for idx,year in enumerate(years)}\n",
    "exp_map = {\"EN\":0, \"MI\":1, \"SE\":2, \"EX\":3}\n",
    "size_map = {\"S\":0, \"M\":1, \"L\":2}"
   ]
  },
  {
   "cell_type": "code",
   "execution_count": 24,
   "id": "efdb62ef",
   "metadata": {
    "execution": {
     "iopub.execute_input": "2024-01-11T04:48:58.022611Z",
     "iopub.status.busy": "2024-01-11T04:48:58.022146Z",
     "iopub.status.idle": "2024-01-11T04:48:58.032527Z",
     "shell.execute_reply": "2024-01-11T04:48:58.031397Z"
    },
    "papermill": {
     "duration": 0.038538,
     "end_time": "2024-01-11T04:48:58.034760",
     "exception": false,
     "start_time": "2024-01-11T04:48:57.996222",
     "status": "completed"
    },
    "tags": []
   },
   "outputs": [],
   "source": [
    "#mapping ordinal columns\n",
    "ds[\"work_year\"] = ds[\"work_year\"].map(mapping)\n",
    "ds[\"experience_level\"] = ds[\"experience_level\"].map(exp_map)\n",
    "ds[\"company_size\"] = ds[\"company_size\"].map(size_map)"
   ]
  },
  {
   "cell_type": "code",
   "execution_count": 25,
   "id": "629b5680",
   "metadata": {
    "execution": {
     "iopub.execute_input": "2024-01-11T04:48:58.085845Z",
     "iopub.status.busy": "2024-01-11T04:48:58.085408Z",
     "iopub.status.idle": "2024-01-11T04:48:58.100516Z",
     "shell.execute_reply": "2024-01-11T04:48:58.099336Z"
    },
    "papermill": {
     "duration": 0.04369,
     "end_time": "2024-01-11T04:48:58.103130",
     "exception": false,
     "start_time": "2024-01-11T04:48:58.059440",
     "status": "completed"
    },
    "tags": []
   },
   "outputs": [
    {
     "data": {
      "text/html": [
       "<div>\n",
       "<style scoped>\n",
       "    .dataframe tbody tr th:only-of-type {\n",
       "        vertical-align: middle;\n",
       "    }\n",
       "\n",
       "    .dataframe tbody tr th {\n",
       "        vertical-align: top;\n",
       "    }\n",
       "\n",
       "    .dataframe thead th {\n",
       "        text-align: right;\n",
       "    }\n",
       "</style>\n",
       "<table border=\"1\" class=\"dataframe\">\n",
       "  <thead>\n",
       "    <tr style=\"text-align: right;\">\n",
       "      <th></th>\n",
       "      <th>work_year</th>\n",
       "      <th>experience_level</th>\n",
       "      <th>employment_type</th>\n",
       "      <th>job_title</th>\n",
       "      <th>salary_in_usd</th>\n",
       "      <th>employee_residence</th>\n",
       "      <th>remote_ratio</th>\n",
       "      <th>company_location</th>\n",
       "      <th>company_size</th>\n",
       "    </tr>\n",
       "  </thead>\n",
       "  <tbody>\n",
       "    <tr>\n",
       "      <th>0</th>\n",
       "      <td>3</td>\n",
       "      <td>2</td>\n",
       "      <td>FT</td>\n",
       "      <td>Principal Data Scientist</td>\n",
       "      <td>85847</td>\n",
       "      <td>ES</td>\n",
       "      <td>100</td>\n",
       "      <td>ES</td>\n",
       "      <td>2</td>\n",
       "    </tr>\n",
       "    <tr>\n",
       "      <th>1</th>\n",
       "      <td>3</td>\n",
       "      <td>1</td>\n",
       "      <td>CT</td>\n",
       "      <td>ML Engineer</td>\n",
       "      <td>30000</td>\n",
       "      <td>US</td>\n",
       "      <td>100</td>\n",
       "      <td>US</td>\n",
       "      <td>0</td>\n",
       "    </tr>\n",
       "    <tr>\n",
       "      <th>2</th>\n",
       "      <td>3</td>\n",
       "      <td>1</td>\n",
       "      <td>CT</td>\n",
       "      <td>ML Engineer</td>\n",
       "      <td>25500</td>\n",
       "      <td>US</td>\n",
       "      <td>100</td>\n",
       "      <td>US</td>\n",
       "      <td>0</td>\n",
       "    </tr>\n",
       "    <tr>\n",
       "      <th>3</th>\n",
       "      <td>3</td>\n",
       "      <td>2</td>\n",
       "      <td>FT</td>\n",
       "      <td>Data Scientist</td>\n",
       "      <td>175000</td>\n",
       "      <td>CA</td>\n",
       "      <td>100</td>\n",
       "      <td>CA</td>\n",
       "      <td>1</td>\n",
       "    </tr>\n",
       "    <tr>\n",
       "      <th>4</th>\n",
       "      <td>3</td>\n",
       "      <td>2</td>\n",
       "      <td>FT</td>\n",
       "      <td>Data Scientist</td>\n",
       "      <td>120000</td>\n",
       "      <td>CA</td>\n",
       "      <td>100</td>\n",
       "      <td>CA</td>\n",
       "      <td>1</td>\n",
       "    </tr>\n",
       "  </tbody>\n",
       "</table>\n",
       "</div>"
      ],
      "text/plain": [
       "   work_year  experience_level employment_type                 job_title  \\\n",
       "0          3                 2              FT  Principal Data Scientist   \n",
       "1          3                 1              CT               ML Engineer   \n",
       "2          3                 1              CT               ML Engineer   \n",
       "3          3                 2              FT            Data Scientist   \n",
       "4          3                 2              FT            Data Scientist   \n",
       "\n",
       "   salary_in_usd employee_residence  remote_ratio company_location  \\\n",
       "0          85847                 ES           100               ES   \n",
       "1          30000                 US           100               US   \n",
       "2          25500                 US           100               US   \n",
       "3         175000                 CA           100               CA   \n",
       "4         120000                 CA           100               CA   \n",
       "\n",
       "   company_size  \n",
       "0             2  \n",
       "1             0  \n",
       "2             0  \n",
       "3             1  \n",
       "4             1  "
      ]
     },
     "execution_count": 25,
     "metadata": {},
     "output_type": "execute_result"
    }
   ],
   "source": [
    "ds.head()"
   ]
  },
  {
   "cell_type": "code",
   "execution_count": 26,
   "id": "a4f5e278",
   "metadata": {
    "execution": {
     "iopub.execute_input": "2024-01-11T04:48:58.155364Z",
     "iopub.status.busy": "2024-01-11T04:48:58.154932Z",
     "iopub.status.idle": "2024-01-11T04:48:58.162577Z",
     "shell.execute_reply": "2024-01-11T04:48:58.161839Z"
    },
    "papermill": {
     "duration": 0.036006,
     "end_time": "2024-01-11T04:48:58.164744",
     "exception": false,
     "start_time": "2024-01-11T04:48:58.128738",
     "status": "completed"
    },
    "tags": []
   },
   "outputs": [
    {
     "data": {
      "text/plain": [
       "['employment_type',\n",
       " 'job_title',\n",
       " 'employee_residence',\n",
       " 'remote_ratio',\n",
       " 'company_location']"
      ]
     },
     "execution_count": 26,
     "metadata": {},
     "output_type": "execute_result"
    }
   ],
   "source": [
    "#one hot columns\n",
    "ohe_cols = [col for col in ds.columns if ds[col].dtype in [\"O\"] or col==\"remote_ratio\"]\n",
    "ohe_cols"
   ]
  },
  {
   "cell_type": "code",
   "execution_count": 27,
   "id": "a8d8dc5f",
   "metadata": {
    "execution": {
     "iopub.execute_input": "2024-01-11T04:48:58.216425Z",
     "iopub.status.busy": "2024-01-11T04:48:58.216035Z",
     "iopub.status.idle": "2024-01-11T04:48:58.227456Z",
     "shell.execute_reply": "2024-01-11T04:48:58.226343Z"
    },
    "papermill": {
     "duration": 0.040122,
     "end_time": "2024-01-11T04:48:58.229646",
     "exception": false,
     "start_time": "2024-01-11T04:48:58.189524",
     "status": "completed"
    },
    "tags": []
   },
   "outputs": [
    {
     "data": {
      "text/plain": [
       "(3355, 9)"
      ]
     },
     "execution_count": 27,
     "metadata": {},
     "output_type": "execute_result"
    }
   ],
   "source": [
    "#dropping job_title values which have count less than 5\n",
    "val_count = ds.job_title.value_counts()\n",
    "less_5 = val_count[val_count < 20].index\n",
    "ds = ds[~ds[\"job_title\"].isin(less_5)]\n",
    "ds.shape"
   ]
  },
  {
   "cell_type": "code",
   "execution_count": 28,
   "id": "13da432a",
   "metadata": {
    "execution": {
     "iopub.execute_input": "2024-01-11T04:48:58.282005Z",
     "iopub.status.busy": "2024-01-11T04:48:58.281608Z",
     "iopub.status.idle": "2024-01-11T04:48:59.237268Z",
     "shell.execute_reply": "2024-01-11T04:48:59.236207Z"
    },
    "papermill": {
     "duration": 0.984995,
     "end_time": "2024-01-11T04:48:59.239925",
     "exception": false,
     "start_time": "2024-01-11T04:48:58.254930",
     "status": "completed"
    },
    "tags": []
   },
   "outputs": [],
   "source": [
    "from sklearn.compose import make_column_transformer\n",
    "from sklearn.pipeline import make_pipeline\n",
    "from sklearn.ensemble import RandomForestRegressor\n",
    "from xgboost import XGBRegressor\n",
    "from sklearn.linear_model import LinearRegression\n",
    "from sklearn.preprocessing import OneHotEncoder\n",
    "from sklearn.metrics import mean_absolute_error\n",
    "from sklearn.model_selection import train_test_split\n",
    "from imblearn.over_sampling import RandomOverSampler"
   ]
  },
  {
   "cell_type": "code",
   "execution_count": 29,
   "id": "3967337a",
   "metadata": {
    "execution": {
     "iopub.execute_input": "2024-01-11T04:48:59.292880Z",
     "iopub.status.busy": "2024-01-11T04:48:59.292153Z",
     "iopub.status.idle": "2024-01-11T04:48:59.298169Z",
     "shell.execute_reply": "2024-01-11T04:48:59.296928Z"
    },
    "papermill": {
     "duration": 0.035436,
     "end_time": "2024-01-11T04:48:59.300654",
     "exception": false,
     "start_time": "2024-01-11T04:48:59.265218",
     "status": "completed"
    },
    "tags": []
   },
   "outputs": [],
   "source": [
    "#making column transformer for one hot encoding\n",
    "ct = make_column_transformer(\n",
    "    (OneHotEncoder(drop=\"first\", handle_unknown=\"ignore\"), ohe_cols),\n",
    "    remainder=\"passthrough\"\n",
    ")"
   ]
  },
  {
   "cell_type": "code",
   "execution_count": 30,
   "id": "ef5a4862",
   "metadata": {
    "execution": {
     "iopub.execute_input": "2024-01-11T04:48:59.352967Z",
     "iopub.status.busy": "2024-01-11T04:48:59.352542Z",
     "iopub.status.idle": "2024-01-11T04:48:59.359959Z",
     "shell.execute_reply": "2024-01-11T04:48:59.359115Z"
    },
    "papermill": {
     "duration": 0.036602,
     "end_time": "2024-01-11T04:48:59.362231",
     "exception": false,
     "start_time": "2024-01-11T04:48:59.325629",
     "status": "completed"
    },
    "tags": []
   },
   "outputs": [],
   "source": [
    "# #applying ohe to data\n",
    "X = ds.drop(\"salary_in_usd\", axis=1)\n",
    "y = ds.pop(\"salary_in_usd\")"
   ]
  },
  {
   "cell_type": "code",
   "execution_count": 31,
   "id": "777152b6",
   "metadata": {
    "execution": {
     "iopub.execute_input": "2024-01-11T04:48:59.415020Z",
     "iopub.status.busy": "2024-01-11T04:48:59.414583Z",
     "iopub.status.idle": "2024-01-11T04:48:59.422845Z",
     "shell.execute_reply": "2024-01-11T04:48:59.421870Z"
    },
    "papermill": {
     "duration": 0.038205,
     "end_time": "2024-01-11T04:48:59.425513",
     "exception": false,
     "start_time": "2024-01-11T04:48:59.387308",
     "status": "completed"
    },
    "tags": []
   },
   "outputs": [],
   "source": [
    "#traing and testing data\n",
    "X_train, X_test, y_train, y_test = train_test_split(X, y, test_size=0.3, random_state=100)"
   ]
  },
  {
   "cell_type": "code",
   "execution_count": 32,
   "id": "e4767d83",
   "metadata": {
    "execution": {
     "iopub.execute_input": "2024-01-11T04:48:59.478761Z",
     "iopub.status.busy": "2024-01-11T04:48:59.478319Z",
     "iopub.status.idle": "2024-01-11T04:48:59.847133Z",
     "shell.execute_reply": "2024-01-11T04:48:59.846009Z"
    },
    "papermill": {
     "duration": 0.398957,
     "end_time": "2024-01-11T04:48:59.850013",
     "exception": false,
     "start_time": "2024-01-11T04:48:59.451056",
     "status": "completed"
    },
    "tags": []
   },
   "outputs": [],
   "source": [
    "sampling = RandomOverSampler(sampling_strategy=\"auto\", random_state=42)\n",
    "X_resampled, y_resampled = sampling.fit_resample(X_train, y_train)"
   ]
  },
  {
   "cell_type": "code",
   "execution_count": 33,
   "id": "f4790a3e",
   "metadata": {
    "execution": {
     "iopub.execute_input": "2024-01-11T04:48:59.905857Z",
     "iopub.status.busy": "2024-01-11T04:48:59.904740Z",
     "iopub.status.idle": "2024-01-11T04:48:59.920397Z",
     "shell.execute_reply": "2024-01-11T04:48:59.919247Z"
    },
    "papermill": {
     "duration": 0.045821,
     "end_time": "2024-01-11T04:48:59.922887",
     "exception": false,
     "start_time": "2024-01-11T04:48:59.877066",
     "status": "completed"
    },
    "tags": []
   },
   "outputs": [
    {
     "data": {
      "text/plain": [
       "job_title\n",
       "Data Scientist                12733\n",
       "Data Engineer                 11999\n",
       "Data Analyst                   7686\n",
       "Machine Learning Engineer      3774\n",
       "Research Scientist             1432\n",
       "Analytics Engineer             1198\n",
       "Data Architect                 1183\n",
       "Data Science Manager            920\n",
       "Applied Scientist               780\n",
       "ML Engineer                     605\n",
       "Data Science Consultant         577\n",
       "Research Engineer               520\n",
       "Data Manager                    493\n",
       "Machine Learning Scientist      265\n",
       "Data Analytics Manager          235\n",
       "Name: count, dtype: int64"
      ]
     },
     "execution_count": 33,
     "metadata": {},
     "output_type": "execute_result"
    }
   ],
   "source": [
    "X_resampled.job_title.value_counts()"
   ]
  },
  {
   "cell_type": "code",
   "execution_count": 34,
   "id": "b243aead",
   "metadata": {
    "execution": {
     "iopub.execute_input": "2024-01-11T04:48:59.976272Z",
     "iopub.status.busy": "2024-01-11T04:48:59.975875Z",
     "iopub.status.idle": "2024-01-11T04:48:59.981248Z",
     "shell.execute_reply": "2024-01-11T04:48:59.980057Z"
    },
    "papermill": {
     "duration": 0.035669,
     "end_time": "2024-01-11T04:48:59.984633",
     "exception": false,
     "start_time": "2024-01-11T04:48:59.948964",
     "status": "completed"
    },
    "tags": []
   },
   "outputs": [
    {
     "name": "stdout",
     "output_type": "stream",
     "text": [
      "X_train: (2348, 8), X_test: (1007, 8)\n"
     ]
    }
   ],
   "source": [
    "#shape of training and testing data (X)\n",
    "print(f\"X_train: {X_train.shape}, X_test: {X_test.shape}\")"
   ]
  },
  {
   "cell_type": "code",
   "execution_count": 35,
   "id": "73d7acfd",
   "metadata": {
    "execution": {
     "iopub.execute_input": "2024-01-11T04:49:00.037982Z",
     "iopub.status.busy": "2024-01-11T04:49:00.036861Z",
     "iopub.status.idle": "2024-01-11T04:49:00.182546Z",
     "shell.execute_reply": "2024-01-11T04:49:00.181744Z"
    },
    "papermill": {
     "duration": 0.175193,
     "end_time": "2024-01-11T04:49:00.185083",
     "exception": false,
     "start_time": "2024-01-11T04:49:00.009890",
     "status": "completed"
    },
    "tags": []
   },
   "outputs": [
    {
     "name": "stderr",
     "output_type": "stream",
     "text": [
      "/opt/conda/lib/python3.10/site-packages/sklearn/preprocessing/_encoders.py:202: UserWarning:\n",
      "\n",
      "Found unknown categories in columns [2, 4] during transform. These unknown categories will be encoded as all zeros\n",
      "\n"
     ]
    }
   ],
   "source": [
    "#converting the categorical columns to one hot encoding through column transformer we created earlier\n",
    "X_train_trans = ct.fit_transform(X_resampled)\n",
    "X_test_trans = ct.transform(X_test)"
   ]
  },
  {
   "cell_type": "markdown",
   "id": "a26a1e30",
   "metadata": {
    "papermill": {
     "duration": 0.025857,
     "end_time": "2024-01-11T04:49:00.236197",
     "exception": false,
     "start_time": "2024-01-11T04:49:00.210340",
     "status": "completed"
    },
    "tags": []
   },
   "source": [
    "# **Building Models**"
   ]
  },
  {
   "cell_type": "code",
   "execution_count": 36,
   "id": "b7555551",
   "metadata": {
    "execution": {
     "iopub.execute_input": "2024-01-11T04:49:00.291936Z",
     "iopub.status.busy": "2024-01-11T04:49:00.291233Z",
     "iopub.status.idle": "2024-01-11T04:49:01.355154Z",
     "shell.execute_reply": "2024-01-11T04:49:01.353623Z"
    },
    "papermill": {
     "duration": 1.096817,
     "end_time": "2024-01-11T04:49:01.359471",
     "exception": false,
     "start_time": "2024-01-11T04:49:00.262654",
     "status": "completed"
    },
    "tags": []
   },
   "outputs": [
    {
     "data": {
      "text/html": [
       "<style>#sk-container-id-1 {color: black;background-color: white;}#sk-container-id-1 pre{padding: 0;}#sk-container-id-1 div.sk-toggleable {background-color: white;}#sk-container-id-1 label.sk-toggleable__label {cursor: pointer;display: block;width: 100%;margin-bottom: 0;padding: 0.3em;box-sizing: border-box;text-align: center;}#sk-container-id-1 label.sk-toggleable__label-arrow:before {content: \"▸\";float: left;margin-right: 0.25em;color: #696969;}#sk-container-id-1 label.sk-toggleable__label-arrow:hover:before {color: black;}#sk-container-id-1 div.sk-estimator:hover label.sk-toggleable__label-arrow:before {color: black;}#sk-container-id-1 div.sk-toggleable__content {max-height: 0;max-width: 0;overflow: hidden;text-align: left;background-color: #f0f8ff;}#sk-container-id-1 div.sk-toggleable__content pre {margin: 0.2em;color: black;border-radius: 0.25em;background-color: #f0f8ff;}#sk-container-id-1 input.sk-toggleable__control:checked~div.sk-toggleable__content {max-height: 200px;max-width: 100%;overflow: auto;}#sk-container-id-1 input.sk-toggleable__control:checked~label.sk-toggleable__label-arrow:before {content: \"▾\";}#sk-container-id-1 div.sk-estimator input.sk-toggleable__control:checked~label.sk-toggleable__label {background-color: #d4ebff;}#sk-container-id-1 div.sk-label input.sk-toggleable__control:checked~label.sk-toggleable__label {background-color: #d4ebff;}#sk-container-id-1 input.sk-hidden--visually {border: 0;clip: rect(1px 1px 1px 1px);clip: rect(1px, 1px, 1px, 1px);height: 1px;margin: -1px;overflow: hidden;padding: 0;position: absolute;width: 1px;}#sk-container-id-1 div.sk-estimator {font-family: monospace;background-color: #f0f8ff;border: 1px dotted black;border-radius: 0.25em;box-sizing: border-box;margin-bottom: 0.5em;}#sk-container-id-1 div.sk-estimator:hover {background-color: #d4ebff;}#sk-container-id-1 div.sk-parallel-item::after {content: \"\";width: 100%;border-bottom: 1px solid gray;flex-grow: 1;}#sk-container-id-1 div.sk-label:hover label.sk-toggleable__label {background-color: #d4ebff;}#sk-container-id-1 div.sk-serial::before {content: \"\";position: absolute;border-left: 1px solid gray;box-sizing: border-box;top: 0;bottom: 0;left: 50%;z-index: 0;}#sk-container-id-1 div.sk-serial {display: flex;flex-direction: column;align-items: center;background-color: white;padding-right: 0.2em;padding-left: 0.2em;position: relative;}#sk-container-id-1 div.sk-item {position: relative;z-index: 1;}#sk-container-id-1 div.sk-parallel {display: flex;align-items: stretch;justify-content: center;background-color: white;position: relative;}#sk-container-id-1 div.sk-item::before, #sk-container-id-1 div.sk-parallel-item::before {content: \"\";position: absolute;border-left: 1px solid gray;box-sizing: border-box;top: 0;bottom: 0;left: 50%;z-index: -1;}#sk-container-id-1 div.sk-parallel-item {display: flex;flex-direction: column;z-index: 1;position: relative;background-color: white;}#sk-container-id-1 div.sk-parallel-item:first-child::after {align-self: flex-end;width: 50%;}#sk-container-id-1 div.sk-parallel-item:last-child::after {align-self: flex-start;width: 50%;}#sk-container-id-1 div.sk-parallel-item:only-child::after {width: 0;}#sk-container-id-1 div.sk-dashed-wrapped {border: 1px dashed gray;margin: 0 0.4em 0.5em 0.4em;box-sizing: border-box;padding-bottom: 0.4em;background-color: white;}#sk-container-id-1 div.sk-label label {font-family: monospace;font-weight: bold;display: inline-block;line-height: 1.2em;}#sk-container-id-1 div.sk-label-container {text-align: center;}#sk-container-id-1 div.sk-container {/* jupyter's `normalize.less` sets `[hidden] { display: none; }` but bootstrap.min.css set `[hidden] { display: none !important; }` so we also need the `!important` here to be able to override the default hidden behavior on the sphinx rendered scikit-learn.org. See: https://github.com/scikit-learn/scikit-learn/issues/21755 */display: inline-block !important;position: relative;}#sk-container-id-1 div.sk-text-repr-fallback {display: none;}</style><div id=\"sk-container-id-1\" class=\"sk-top-container\"><div class=\"sk-text-repr-fallback\"><pre>Pipeline(steps=[(&#x27;columntransformer&#x27;,\n",
       "                 ColumnTransformer(remainder=&#x27;passthrough&#x27;,\n",
       "                                   transformers=[(&#x27;onehotencoder&#x27;,\n",
       "                                                  OneHotEncoder(drop=&#x27;first&#x27;,\n",
       "                                                                handle_unknown=&#x27;ignore&#x27;),\n",
       "                                                  [&#x27;employment_type&#x27;,\n",
       "                                                   &#x27;job_title&#x27;,\n",
       "                                                   &#x27;employee_residence&#x27;,\n",
       "                                                   &#x27;remote_ratio&#x27;,\n",
       "                                                   &#x27;company_location&#x27;])])),\n",
       "                (&#x27;linearregression&#x27;, LinearRegression())])</pre><b>In a Jupyter environment, please rerun this cell to show the HTML representation or trust the notebook. <br />On GitHub, the HTML representation is unable to render, please try loading this page with nbviewer.org.</b></div><div class=\"sk-container\" hidden><div class=\"sk-item sk-dashed-wrapped\"><div class=\"sk-label-container\"><div class=\"sk-label sk-toggleable\"><input class=\"sk-toggleable__control sk-hidden--visually\" id=\"sk-estimator-id-1\" type=\"checkbox\" ><label for=\"sk-estimator-id-1\" class=\"sk-toggleable__label sk-toggleable__label-arrow\">Pipeline</label><div class=\"sk-toggleable__content\"><pre>Pipeline(steps=[(&#x27;columntransformer&#x27;,\n",
       "                 ColumnTransformer(remainder=&#x27;passthrough&#x27;,\n",
       "                                   transformers=[(&#x27;onehotencoder&#x27;,\n",
       "                                                  OneHotEncoder(drop=&#x27;first&#x27;,\n",
       "                                                                handle_unknown=&#x27;ignore&#x27;),\n",
       "                                                  [&#x27;employment_type&#x27;,\n",
       "                                                   &#x27;job_title&#x27;,\n",
       "                                                   &#x27;employee_residence&#x27;,\n",
       "                                                   &#x27;remote_ratio&#x27;,\n",
       "                                                   &#x27;company_location&#x27;])])),\n",
       "                (&#x27;linearregression&#x27;, LinearRegression())])</pre></div></div></div><div class=\"sk-serial\"><div class=\"sk-item sk-dashed-wrapped\"><div class=\"sk-label-container\"><div class=\"sk-label sk-toggleable\"><input class=\"sk-toggleable__control sk-hidden--visually\" id=\"sk-estimator-id-2\" type=\"checkbox\" ><label for=\"sk-estimator-id-2\" class=\"sk-toggleable__label sk-toggleable__label-arrow\">columntransformer: ColumnTransformer</label><div class=\"sk-toggleable__content\"><pre>ColumnTransformer(remainder=&#x27;passthrough&#x27;,\n",
       "                  transformers=[(&#x27;onehotencoder&#x27;,\n",
       "                                 OneHotEncoder(drop=&#x27;first&#x27;,\n",
       "                                               handle_unknown=&#x27;ignore&#x27;),\n",
       "                                 [&#x27;employment_type&#x27;, &#x27;job_title&#x27;,\n",
       "                                  &#x27;employee_residence&#x27;, &#x27;remote_ratio&#x27;,\n",
       "                                  &#x27;company_location&#x27;])])</pre></div></div></div><div class=\"sk-parallel\"><div class=\"sk-parallel-item\"><div class=\"sk-item\"><div class=\"sk-label-container\"><div class=\"sk-label sk-toggleable\"><input class=\"sk-toggleable__control sk-hidden--visually\" id=\"sk-estimator-id-3\" type=\"checkbox\" ><label for=\"sk-estimator-id-3\" class=\"sk-toggleable__label sk-toggleable__label-arrow\">onehotencoder</label><div class=\"sk-toggleable__content\"><pre>[&#x27;employment_type&#x27;, &#x27;job_title&#x27;, &#x27;employee_residence&#x27;, &#x27;remote_ratio&#x27;, &#x27;company_location&#x27;]</pre></div></div></div><div class=\"sk-serial\"><div class=\"sk-item\"><div class=\"sk-estimator sk-toggleable\"><input class=\"sk-toggleable__control sk-hidden--visually\" id=\"sk-estimator-id-4\" type=\"checkbox\" ><label for=\"sk-estimator-id-4\" class=\"sk-toggleable__label sk-toggleable__label-arrow\">OneHotEncoder</label><div class=\"sk-toggleable__content\"><pre>OneHotEncoder(drop=&#x27;first&#x27;, handle_unknown=&#x27;ignore&#x27;)</pre></div></div></div></div></div></div><div class=\"sk-parallel-item\"><div class=\"sk-item\"><div class=\"sk-label-container\"><div class=\"sk-label sk-toggleable\"><input class=\"sk-toggleable__control sk-hidden--visually\" id=\"sk-estimator-id-5\" type=\"checkbox\" ><label for=\"sk-estimator-id-5\" class=\"sk-toggleable__label sk-toggleable__label-arrow\">remainder</label><div class=\"sk-toggleable__content\"><pre>[&#x27;work_year&#x27;, &#x27;experience_level&#x27;, &#x27;company_size&#x27;]</pre></div></div></div><div class=\"sk-serial\"><div class=\"sk-item\"><div class=\"sk-estimator sk-toggleable\"><input class=\"sk-toggleable__control sk-hidden--visually\" id=\"sk-estimator-id-6\" type=\"checkbox\" ><label for=\"sk-estimator-id-6\" class=\"sk-toggleable__label sk-toggleable__label-arrow\">passthrough</label><div class=\"sk-toggleable__content\"><pre>passthrough</pre></div></div></div></div></div></div></div></div><div class=\"sk-item\"><div class=\"sk-estimator sk-toggleable\"><input class=\"sk-toggleable__control sk-hidden--visually\" id=\"sk-estimator-id-7\" type=\"checkbox\" ><label for=\"sk-estimator-id-7\" class=\"sk-toggleable__label sk-toggleable__label-arrow\">LinearRegression</label><div class=\"sk-toggleable__content\"><pre>LinearRegression()</pre></div></div></div></div></div></div></div>"
      ],
      "text/plain": [
       "Pipeline(steps=[('columntransformer',\n",
       "                 ColumnTransformer(remainder='passthrough',\n",
       "                                   transformers=[('onehotencoder',\n",
       "                                                  OneHotEncoder(drop='first',\n",
       "                                                                handle_unknown='ignore'),\n",
       "                                                  ['employment_type',\n",
       "                                                   'job_title',\n",
       "                                                   'employee_residence',\n",
       "                                                   'remote_ratio',\n",
       "                                                   'company_location'])])),\n",
       "                ('linearregression', LinearRegression())])"
      ]
     },
     "execution_count": 36,
     "metadata": {},
     "output_type": "execute_result"
    }
   ],
   "source": [
    "#Linear Regression\n",
    "lr = LinearRegression()\n",
    "lr_pipe = make_pipeline(\n",
    "    ct, lr\n",
    ")\n",
    "lr_pipe.fit(X_resampled, y_resampled)"
   ]
  },
  {
   "cell_type": "code",
   "execution_count": 37,
   "id": "fb46844c",
   "metadata": {
    "execution": {
     "iopub.execute_input": "2024-01-11T04:49:01.457656Z",
     "iopub.status.busy": "2024-01-11T04:49:01.457106Z",
     "iopub.status.idle": "2024-01-11T04:49:01.477224Z",
     "shell.execute_reply": "2024-01-11T04:49:01.476126Z"
    },
    "papermill": {
     "duration": 0.060179,
     "end_time": "2024-01-11T04:49:01.479722",
     "exception": false,
     "start_time": "2024-01-11T04:49:01.419543",
     "status": "completed"
    },
    "tags": []
   },
   "outputs": [
    {
     "name": "stderr",
     "output_type": "stream",
     "text": [
      "/opt/conda/lib/python3.10/site-packages/sklearn/preprocessing/_encoders.py:202: UserWarning:\n",
      "\n",
      "Found unknown categories in columns [2, 4] during transform. These unknown categories will be encoded as all zeros\n",
      "\n"
     ]
    },
    {
     "data": {
      "text/plain": [
       "37298.36609300711"
      ]
     },
     "execution_count": 37,
     "metadata": {},
     "output_type": "execute_result"
    }
   ],
   "source": [
    "lr_pred = lr_pipe.predict(X_test)\n",
    "mae = mean_absolute_error(y_test, lr_pred)\n",
    "mae"
   ]
  },
  {
   "cell_type": "code",
   "execution_count": 38,
   "id": "e473a545",
   "metadata": {
    "execution": {
     "iopub.execute_input": "2024-01-11T04:49:01.536067Z",
     "iopub.status.busy": "2024-01-11T04:49:01.535595Z",
     "iopub.status.idle": "2024-01-11T04:49:11.622393Z",
     "shell.execute_reply": "2024-01-11T04:49:11.620855Z"
    },
    "papermill": {
     "duration": 10.119797,
     "end_time": "2024-01-11T04:49:11.627042",
     "exception": false,
     "start_time": "2024-01-11T04:49:01.507245",
     "status": "completed"
    },
    "tags": []
   },
   "outputs": [
    {
     "name": "stderr",
     "output_type": "stream",
     "text": [
      "/opt/conda/lib/python3.10/site-packages/sklearn/preprocessing/_encoders.py:202: UserWarning:\n",
      "\n",
      "Found unknown categories in columns [0, 2, 4] during transform. These unknown categories will be encoded as all zeros\n",
      "\n"
     ]
    },
    {
     "data": {
      "text/plain": [
       "-44287.55223266806"
      ]
     },
     "execution_count": 38,
     "metadata": {},
     "output_type": "execute_result"
    }
   ],
   "source": [
    "from sklearn.model_selection import cross_val_score\n",
    "lr_cv = cross_val_score(lr_pipe, X_resampled, y_resampled, cv=10, scoring=\"neg_mean_absolute_error\")\n",
    "lr_cv.mean()"
   ]
  },
  {
   "cell_type": "markdown",
   "id": "d577dc64",
   "metadata": {
    "papermill": {
     "duration": 0.032331,
     "end_time": "2024-01-11T04:49:11.718876",
     "exception": false,
     "start_time": "2024-01-11T04:49:11.686545",
     "status": "completed"
    },
    "tags": []
   },
   "source": [
    "# **RandomForestRegressor**"
   ]
  },
  {
   "cell_type": "code",
   "execution_count": 39,
   "id": "d3c4c9eb",
   "metadata": {
    "execution": {
     "iopub.execute_input": "2024-01-11T04:49:11.778696Z",
     "iopub.status.busy": "2024-01-11T04:49:11.777593Z",
     "iopub.status.idle": "2024-01-11T04:49:11.783864Z",
     "shell.execute_reply": "2024-01-11T04:49:11.782737Z"
    },
    "papermill": {
     "duration": 0.039205,
     "end_time": "2024-01-11T04:49:11.786279",
     "exception": false,
     "start_time": "2024-01-11T04:49:11.747074",
     "status": "completed"
    },
    "tags": []
   },
   "outputs": [],
   "source": [
    "import warnings\n",
    "warnings.filterwarnings(\"ignore\")\n",
    "from sklearn.model_selection import GridSearchCV\n",
    "rfr = RandomForestRegressor(n_estimators=400, max_depth=7, max_features=8)\n",
    "rfr_pipe = make_pipeline(\n",
    "    ct, rfr\n",
    ")"
   ]
  },
  {
   "cell_type": "code",
   "execution_count": 40,
   "id": "893268eb",
   "metadata": {
    "execution": {
     "iopub.execute_input": "2024-01-11T04:49:11.843703Z",
     "iopub.status.busy": "2024-01-11T04:49:11.842501Z",
     "iopub.status.idle": "2024-01-11T04:49:11.847877Z",
     "shell.execute_reply": "2024-01-11T04:49:11.846934Z"
    },
    "papermill": {
     "duration": 0.036629,
     "end_time": "2024-01-11T04:49:11.850066",
     "exception": false,
     "start_time": "2024-01-11T04:49:11.813437",
     "status": "completed"
    },
    "tags": []
   },
   "outputs": [],
   "source": [
    "#best parameters for random forest regressor\n",
    "\n",
    "# params = {\"randomforestregressor__n_estimators\": [100, 200, 300, 400, 500],\n",
    "#          \"randomforestregressor__max_depth\": [1,2,3,4,5,6,7],\n",
    "#          \"randomforestregressor__max_features\":list(range(1, len(X_resampled.columns) + 1))}\n",
    "# rf_gs = GridSearchCV(rfr_pipe, params, scoring=\"neg_mean_absolute_error\", cv=5)\n",
    "# rf_gs.fit(X_resampled, y_resampled)\n",
    "\n",
    "# rf_gs.best_params_\n",
    "# {'randomforestregressor__max_depth': 7,\n",
    "#  'randomforestregressor__max_features': 8,\n",
    "#  'randomforestregressor__n_estimators': 400}"
   ]
  },
  {
   "cell_type": "code",
   "execution_count": 41,
   "id": "27b055ec",
   "metadata": {
    "execution": {
     "iopub.execute_input": "2024-01-11T04:49:11.905657Z",
     "iopub.status.busy": "2024-01-11T04:49:11.905241Z",
     "iopub.status.idle": "2024-01-11T04:49:18.367258Z",
     "shell.execute_reply": "2024-01-11T04:49:18.366180Z"
    },
    "papermill": {
     "duration": 6.492829,
     "end_time": "2024-01-11T04:49:18.369701",
     "exception": false,
     "start_time": "2024-01-11T04:49:11.876872",
     "status": "completed"
    },
    "tags": []
   },
   "outputs": [
    {
     "data": {
      "text/plain": [
       "37783.72512928938"
      ]
     },
     "execution_count": 41,
     "metadata": {},
     "output_type": "execute_result"
    }
   ],
   "source": [
    "rfr_pipe.fit(X_resampled, y_resampled)\n",
    "rf_pred = rfr_pipe.predict(X_test)\n",
    "rf_mae = mean_absolute_error(y_test, rf_pred)\n",
    "rf_mae"
   ]
  },
  {
   "cell_type": "code",
   "execution_count": 42,
   "id": "74e261f6",
   "metadata": {
    "execution": {
     "iopub.execute_input": "2024-01-11T04:49:18.426503Z",
     "iopub.status.busy": "2024-01-11T04:49:18.426071Z",
     "iopub.status.idle": "2024-01-11T04:49:47.595158Z",
     "shell.execute_reply": "2024-01-11T04:49:47.593952Z"
    },
    "papermill": {
     "duration": 29.201314,
     "end_time": "2024-01-11T04:49:47.598332",
     "exception": false,
     "start_time": "2024-01-11T04:49:18.397018",
     "status": "completed"
    },
    "tags": []
   },
   "outputs": [],
   "source": [
    "rf_cv = cross_val_score(rfr_pipe, X_resampled, y_resampled, scoring=\"neg_mean_absolute_error\", cv=5)"
   ]
  },
  {
   "cell_type": "code",
   "execution_count": 43,
   "id": "5b31b036",
   "metadata": {
    "execution": {
     "iopub.execute_input": "2024-01-11T04:49:47.656408Z",
     "iopub.status.busy": "2024-01-11T04:49:47.655988Z",
     "iopub.status.idle": "2024-01-11T04:49:47.663183Z",
     "shell.execute_reply": "2024-01-11T04:49:47.662053Z"
    },
    "papermill": {
     "duration": 0.038932,
     "end_time": "2024-01-11T04:49:47.665526",
     "exception": false,
     "start_time": "2024-01-11T04:49:47.626594",
     "status": "completed"
    },
    "tags": []
   },
   "outputs": [
    {
     "data": {
      "text/plain": [
       "-54384.555093709336"
      ]
     },
     "execution_count": 43,
     "metadata": {},
     "output_type": "execute_result"
    }
   ],
   "source": [
    "rf_cv.mean()"
   ]
  },
  {
   "cell_type": "markdown",
   "id": "8da4d59a",
   "metadata": {
    "papermill": {
     "duration": 0.026873,
     "end_time": "2024-01-11T04:49:47.719417",
     "exception": false,
     "start_time": "2024-01-11T04:49:47.692544",
     "status": "completed"
    },
    "tags": []
   },
   "source": [
    "# **XGBRegressor**"
   ]
  },
  {
   "cell_type": "code",
   "execution_count": 44,
   "id": "6f20db1d",
   "metadata": {
    "execution": {
     "iopub.execute_input": "2024-01-11T04:49:47.777299Z",
     "iopub.status.busy": "2024-01-11T04:49:47.776869Z",
     "iopub.status.idle": "2024-01-11T04:49:48.188654Z",
     "shell.execute_reply": "2024-01-11T04:49:48.187733Z"
    },
    "papermill": {
     "duration": 0.444071,
     "end_time": "2024-01-11T04:49:48.191193",
     "exception": false,
     "start_time": "2024-01-11T04:49:47.747122",
     "status": "completed"
    },
    "tags": []
   },
   "outputs": [
    {
     "data": {
      "text/plain": [
       "37218.7922372979"
      ]
     },
     "execution_count": 44,
     "metadata": {},
     "output_type": "execute_result"
    }
   ],
   "source": [
    "xgb = XGBRegressor()\n",
    "xgb_pipe = make_pipeline(\n",
    "    ct, xgb\n",
    ")\n",
    "xgb_pipe.fit(X_resampled, y_resampled)\n",
    "xgb_pred = xgb_pipe.predict(X_test)\n",
    "xgb_mae = mean_absolute_error(y_test, xgb_pred)\n",
    "xgb_mae"
   ]
  },
  {
   "cell_type": "code",
   "execution_count": 45,
   "id": "6e9775ca",
   "metadata": {
    "execution": {
     "iopub.execute_input": "2024-01-11T04:49:48.248663Z",
     "iopub.status.busy": "2024-01-11T04:49:48.248237Z",
     "iopub.status.idle": "2024-01-11T04:49:49.984573Z",
     "shell.execute_reply": "2024-01-11T04:49:49.983744Z"
    },
    "papermill": {
     "duration": 1.768381,
     "end_time": "2024-01-11T04:49:49.987140",
     "exception": false,
     "start_time": "2024-01-11T04:49:48.218759",
     "status": "completed"
    },
    "tags": []
   },
   "outputs": [
    {
     "data": {
      "text/plain": [
       "-49695.21989468961"
      ]
     },
     "execution_count": 45,
     "metadata": {},
     "output_type": "execute_result"
    }
   ],
   "source": [
    "xgb_cv = cross_val_score(xgb_pipe, X_resampled, y_resampled, scoring=\"neg_mean_absolute_error\", cv=5)\n",
    "xgb_cv.mean()"
   ]
  }
 ],
 "metadata": {
  "kaggle": {
   "accelerator": "none",
   "dataSources": [
    {
     "datasetId": 4164244,
     "sourceId": 7199610,
     "sourceType": "datasetVersion"
    }
   ],
   "dockerImageVersionId": 30626,
   "isGpuEnabled": false,
   "isInternetEnabled": true,
   "language": "python",
   "sourceType": "notebook"
  },
  "kernelspec": {
   "display_name": "Python 3",
   "language": "python",
   "name": "python3"
  },
  "language_info": {
   "codemirror_mode": {
    "name": "ipython",
    "version": 3
   },
   "file_extension": ".py",
   "mimetype": "text/x-python",
   "name": "python",
   "nbconvert_exporter": "python",
   "pygments_lexer": "ipython3",
   "version": "3.10.12"
  },
  "papermill": {
   "default_parameters": {},
   "duration": 65.839513,
   "end_time": "2024-01-11T04:49:50.838431",
   "environment_variables": {},
   "exception": null,
   "input_path": "__notebook__.ipynb",
   "output_path": "__notebook__.ipynb",
   "parameters": {},
   "start_time": "2024-01-11T04:48:44.998918",
   "version": "2.4.0"
  }
 },
 "nbformat": 4,
 "nbformat_minor": 5
}
