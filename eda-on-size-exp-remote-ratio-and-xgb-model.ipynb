{
 "cells": [
  {
   "cell_type": "code",
   "execution_count": 1,
   "id": "586ff03a",
   "metadata": {
    "_cell_guid": "b1076dfc-b9ad-4769-8c92-a6c4dae69d19",
    "_uuid": "8f2839f25d086af736a60e9eeb907d3b93b6e0e5",
    "execution": {
     "iopub.execute_input": "2024-01-11T04:44:30.339176Z",
     "iopub.status.busy": "2024-01-11T04:44:30.338873Z",
     "iopub.status.idle": "2024-01-11T04:44:43.280403Z",
     "shell.execute_reply": "2024-01-11T04:44:43.279787Z"
    },
    "papermill": {
     "duration": 12.950308,
     "end_time": "2024-01-11T04:44:43.282218",
     "exception": false,
     "start_time": "2024-01-11T04:44:30.331910",
     "status": "completed"
    },
    "tags": []
   },
   "outputs": [
    {
     "name": "stdout",
     "output_type": "stream",
     "text": [
      "/kaggle/input/2023-data-scientists-salary/ds_salaries.csv\n"
     ]
    }
   ],
   "source": [
    "# This Python 3 environment comes with many helpful analytics libraries installed\n",
    "# It is defined by the kaggle/python Docker image: https://github.com/kaggle/docker-python\n",
    "# For example, here's several helpful packages to load\n",
    "\n",
    "import numpy as np # linear algebra\n",
    "import pandas as pd # data processing, CSV file I/O (e.g. pd.read_csv)\n",
    "import matplotlib.pyplot as plt\n",
    "import seaborn as sns \n",
    "from sklearn.metrics import mean_absolute_error\n",
    "from sklearn.model_selection import train_test_split\n",
    "import eli5\n",
    "from eli5.sklearn import PermutationImportance\n",
    "from sklearn.metrics import accuracy_score\n",
    "from xgboost import XGBRegressor\n",
    "from sklearn.preprocessing import LabelEncoder\n",
    "LE=LabelEncoder()\n",
    "\n",
    "# Input data files are available in the read-only \"../input/\" directory\n",
    "# For example, running this (by clicking run or pressing Shift+Enter) will list all files under the input directory\n",
    "\n",
    "import os\n",
    "for dirname, _, filenames in os.walk('/kaggle/input'):\n",
    "    for filename in filenames:\n",
    "        print(os.path.join(dirname, filename))\n",
    "\n",
    "# You can write up to 20GB to the current directory (/kaggle/working/) that gets preserved as output when you create a version using \"Save & Run All\" \n",
    "# You can also write temporary files to /kaggle/temp/, but they won't be saved outside of the current session"
   ]
  },
  {
   "cell_type": "code",
   "execution_count": 2,
   "id": "7f14565a",
   "metadata": {
    "execution": {
     "iopub.execute_input": "2024-01-11T04:44:43.295112Z",
     "iopub.status.busy": "2024-01-11T04:44:43.294169Z",
     "iopub.status.idle": "2024-01-11T04:44:43.314304Z",
     "shell.execute_reply": "2024-01-11T04:44:43.313522Z"
    },
    "papermill": {
     "duration": 0.028896,
     "end_time": "2024-01-11T04:44:43.316450",
     "exception": false,
     "start_time": "2024-01-11T04:44:43.287554",
     "status": "completed"
    },
    "tags": []
   },
   "outputs": [],
   "source": [
    "data = pd.read_csv('../input/2023-data-scientists-salary/ds_salaries.csv')"
   ]
  },
  {
   "cell_type": "markdown",
   "id": "513498e7",
   "metadata": {
    "papermill": {
     "duration": 0.004731,
     "end_time": "2024-01-11T04:44:43.326408",
     "exception": false,
     "start_time": "2024-01-11T04:44:43.321677",
     "status": "completed"
    },
    "tags": []
   },
   "source": [
    "# Overview\n",
    "\n",
    "This notebook was an analysis of the 2023 Data Scientist Salary dataset. After expoloratory analysis, there were 4 questions I was looking to answer:\n",
    "\n",
    "- Does company size impact salary?\n",
    "- Does working remotely impact salary?\n",
    "- Do freelance or contract workers make more than full time employees?\n",
    "- Can a model be built to predict salary based on experience, company size, remote work ratio, and employment type?\n"
   ]
  },
  {
   "cell_type": "markdown",
   "id": "121fb284",
   "metadata": {
    "papermill": {
     "duration": 0.004648,
     "end_time": "2024-01-11T04:44:43.336069",
     "exception": false,
     "start_time": "2024-01-11T04:44:43.331421",
     "status": "completed"
    },
    "tags": []
   },
   "source": [
    "# Results\n",
    "- Company size does impact salary, medium companies have the highest median salary followed by large companies\n",
    "- Working remotely can impact salary but not very significantly with high salaries coming from both in-office and fully remote groups\n",
    "- Full time employees show the highest median salaries but contractors can potentially match or exceed them\n",
    "- Part-time data scientists generally make the lowest salaries in the group\n",
    "- The XGB Model using Company Size, Remote Work Ratio, Employment Type and Expierence Level to predict Salary in USD was able to predict within $43,200 of the actual USD Salary\n",
    "- The most important factor in regards to maximizing salary is Expierence Level\n"
   ]
  },
  {
   "cell_type": "markdown",
   "id": "5264de83",
   "metadata": {
    "papermill": {
     "duration": 0.004667,
     "end_time": "2024-01-11T04:44:43.345578",
     "exception": false,
     "start_time": "2024-01-11T04:44:43.340911",
     "status": "completed"
    },
    "tags": []
   },
   "source": [
    "# Exploratory Data Analysis (EDA)"
   ]
  },
  {
   "cell_type": "code",
   "execution_count": 3,
   "id": "089e7740",
   "metadata": {
    "execution": {
     "iopub.execute_input": "2024-01-11T04:44:43.356970Z",
     "iopub.status.busy": "2024-01-11T04:44:43.356412Z",
     "iopub.status.idle": "2024-01-11T04:44:43.375945Z",
     "shell.execute_reply": "2024-01-11T04:44:43.375307Z"
    },
    "papermill": {
     "duration": 0.02724,
     "end_time": "2024-01-11T04:44:43.377557",
     "exception": false,
     "start_time": "2024-01-11T04:44:43.350317",
     "status": "completed"
    },
    "tags": []
   },
   "outputs": [
    {
     "data": {
      "text/html": [
       "<div>\n",
       "<style scoped>\n",
       "    .dataframe tbody tr th:only-of-type {\n",
       "        vertical-align: middle;\n",
       "    }\n",
       "\n",
       "    .dataframe tbody tr th {\n",
       "        vertical-align: top;\n",
       "    }\n",
       "\n",
       "    .dataframe thead th {\n",
       "        text-align: right;\n",
       "    }\n",
       "</style>\n",
       "<table border=\"1\" class=\"dataframe\">\n",
       "  <thead>\n",
       "    <tr style=\"text-align: right;\">\n",
       "      <th></th>\n",
       "      <th>work_year</th>\n",
       "      <th>experience_level</th>\n",
       "      <th>employment_type</th>\n",
       "      <th>job_title</th>\n",
       "      <th>salary</th>\n",
       "      <th>salary_currency</th>\n",
       "      <th>salary_in_usd</th>\n",
       "      <th>employee_residence</th>\n",
       "      <th>remote_ratio</th>\n",
       "      <th>company_location</th>\n",
       "      <th>company_size</th>\n",
       "    </tr>\n",
       "  </thead>\n",
       "  <tbody>\n",
       "    <tr>\n",
       "      <th>0</th>\n",
       "      <td>2023</td>\n",
       "      <td>SE</td>\n",
       "      <td>FT</td>\n",
       "      <td>Principal Data Scientist</td>\n",
       "      <td>80000</td>\n",
       "      <td>EUR</td>\n",
       "      <td>85847</td>\n",
       "      <td>ES</td>\n",
       "      <td>100</td>\n",
       "      <td>ES</td>\n",
       "      <td>L</td>\n",
       "    </tr>\n",
       "    <tr>\n",
       "      <th>1</th>\n",
       "      <td>2023</td>\n",
       "      <td>MI</td>\n",
       "      <td>CT</td>\n",
       "      <td>ML Engineer</td>\n",
       "      <td>30000</td>\n",
       "      <td>USD</td>\n",
       "      <td>30000</td>\n",
       "      <td>US</td>\n",
       "      <td>100</td>\n",
       "      <td>US</td>\n",
       "      <td>S</td>\n",
       "    </tr>\n",
       "    <tr>\n",
       "      <th>2</th>\n",
       "      <td>2023</td>\n",
       "      <td>MI</td>\n",
       "      <td>CT</td>\n",
       "      <td>ML Engineer</td>\n",
       "      <td>25500</td>\n",
       "      <td>USD</td>\n",
       "      <td>25500</td>\n",
       "      <td>US</td>\n",
       "      <td>100</td>\n",
       "      <td>US</td>\n",
       "      <td>S</td>\n",
       "    </tr>\n",
       "    <tr>\n",
       "      <th>3</th>\n",
       "      <td>2023</td>\n",
       "      <td>SE</td>\n",
       "      <td>FT</td>\n",
       "      <td>Data Scientist</td>\n",
       "      <td>175000</td>\n",
       "      <td>USD</td>\n",
       "      <td>175000</td>\n",
       "      <td>CA</td>\n",
       "      <td>100</td>\n",
       "      <td>CA</td>\n",
       "      <td>M</td>\n",
       "    </tr>\n",
       "    <tr>\n",
       "      <th>4</th>\n",
       "      <td>2023</td>\n",
       "      <td>SE</td>\n",
       "      <td>FT</td>\n",
       "      <td>Data Scientist</td>\n",
       "      <td>120000</td>\n",
       "      <td>USD</td>\n",
       "      <td>120000</td>\n",
       "      <td>CA</td>\n",
       "      <td>100</td>\n",
       "      <td>CA</td>\n",
       "      <td>M</td>\n",
       "    </tr>\n",
       "  </tbody>\n",
       "</table>\n",
       "</div>"
      ],
      "text/plain": [
       "   work_year experience_level employment_type                 job_title  \\\n",
       "0       2023               SE              FT  Principal Data Scientist   \n",
       "1       2023               MI              CT               ML Engineer   \n",
       "2       2023               MI              CT               ML Engineer   \n",
       "3       2023               SE              FT            Data Scientist   \n",
       "4       2023               SE              FT            Data Scientist   \n",
       "\n",
       "   salary salary_currency  salary_in_usd employee_residence  remote_ratio  \\\n",
       "0   80000             EUR          85847                 ES           100   \n",
       "1   30000             USD          30000                 US           100   \n",
       "2   25500             USD          25500                 US           100   \n",
       "3  175000             USD         175000                 CA           100   \n",
       "4  120000             USD         120000                 CA           100   \n",
       "\n",
       "  company_location company_size  \n",
       "0               ES            L  \n",
       "1               US            S  \n",
       "2               US            S  \n",
       "3               CA            M  \n",
       "4               CA            M  "
      ]
     },
     "execution_count": 3,
     "metadata": {},
     "output_type": "execute_result"
    }
   ],
   "source": [
    "data.head()"
   ]
  },
  {
   "cell_type": "code",
   "execution_count": 4,
   "id": "802fc263",
   "metadata": {
    "execution": {
     "iopub.execute_input": "2024-01-11T04:44:43.389767Z",
     "iopub.status.busy": "2024-01-11T04:44:43.389218Z",
     "iopub.status.idle": "2024-01-11T04:44:43.408536Z",
     "shell.execute_reply": "2024-01-11T04:44:43.407939Z"
    },
    "papermill": {
     "duration": 0.026893,
     "end_time": "2024-01-11T04:44:43.409967",
     "exception": false,
     "start_time": "2024-01-11T04:44:43.383074",
     "status": "completed"
    },
    "tags": []
   },
   "outputs": [
    {
     "data": {
      "text/html": [
       "<div>\n",
       "<style scoped>\n",
       "    .dataframe tbody tr th:only-of-type {\n",
       "        vertical-align: middle;\n",
       "    }\n",
       "\n",
       "    .dataframe tbody tr th {\n",
       "        vertical-align: top;\n",
       "    }\n",
       "\n",
       "    .dataframe thead th {\n",
       "        text-align: right;\n",
       "    }\n",
       "</style>\n",
       "<table border=\"1\" class=\"dataframe\">\n",
       "  <thead>\n",
       "    <tr style=\"text-align: right;\">\n",
       "      <th></th>\n",
       "      <th>work_year</th>\n",
       "      <th>salary</th>\n",
       "      <th>salary_in_usd</th>\n",
       "      <th>remote_ratio</th>\n",
       "    </tr>\n",
       "  </thead>\n",
       "  <tbody>\n",
       "    <tr>\n",
       "      <th>count</th>\n",
       "      <td>3755.000000</td>\n",
       "      <td>3.755000e+03</td>\n",
       "      <td>3755.000000</td>\n",
       "      <td>3755.000000</td>\n",
       "    </tr>\n",
       "    <tr>\n",
       "      <th>mean</th>\n",
       "      <td>2022.373635</td>\n",
       "      <td>1.906956e+05</td>\n",
       "      <td>137570.389880</td>\n",
       "      <td>46.271638</td>\n",
       "    </tr>\n",
       "    <tr>\n",
       "      <th>std</th>\n",
       "      <td>0.691448</td>\n",
       "      <td>6.716765e+05</td>\n",
       "      <td>63055.625278</td>\n",
       "      <td>48.589050</td>\n",
       "    </tr>\n",
       "    <tr>\n",
       "      <th>min</th>\n",
       "      <td>2020.000000</td>\n",
       "      <td>6.000000e+03</td>\n",
       "      <td>5132.000000</td>\n",
       "      <td>0.000000</td>\n",
       "    </tr>\n",
       "    <tr>\n",
       "      <th>25%</th>\n",
       "      <td>2022.000000</td>\n",
       "      <td>1.000000e+05</td>\n",
       "      <td>95000.000000</td>\n",
       "      <td>0.000000</td>\n",
       "    </tr>\n",
       "    <tr>\n",
       "      <th>50%</th>\n",
       "      <td>2022.000000</td>\n",
       "      <td>1.380000e+05</td>\n",
       "      <td>135000.000000</td>\n",
       "      <td>0.000000</td>\n",
       "    </tr>\n",
       "    <tr>\n",
       "      <th>75%</th>\n",
       "      <td>2023.000000</td>\n",
       "      <td>1.800000e+05</td>\n",
       "      <td>175000.000000</td>\n",
       "      <td>100.000000</td>\n",
       "    </tr>\n",
       "    <tr>\n",
       "      <th>max</th>\n",
       "      <td>2023.000000</td>\n",
       "      <td>3.040000e+07</td>\n",
       "      <td>450000.000000</td>\n",
       "      <td>100.000000</td>\n",
       "    </tr>\n",
       "  </tbody>\n",
       "</table>\n",
       "</div>"
      ],
      "text/plain": [
       "         work_year        salary  salary_in_usd  remote_ratio\n",
       "count  3755.000000  3.755000e+03    3755.000000   3755.000000\n",
       "mean   2022.373635  1.906956e+05  137570.389880     46.271638\n",
       "std       0.691448  6.716765e+05   63055.625278     48.589050\n",
       "min    2020.000000  6.000000e+03    5132.000000      0.000000\n",
       "25%    2022.000000  1.000000e+05   95000.000000      0.000000\n",
       "50%    2022.000000  1.380000e+05  135000.000000      0.000000\n",
       "75%    2023.000000  1.800000e+05  175000.000000    100.000000\n",
       "max    2023.000000  3.040000e+07  450000.000000    100.000000"
      ]
     },
     "execution_count": 4,
     "metadata": {},
     "output_type": "execute_result"
    }
   ],
   "source": [
    "data.describe()"
   ]
  },
  {
   "cell_type": "code",
   "execution_count": 5,
   "id": "e1520755",
   "metadata": {
    "execution": {
     "iopub.execute_input": "2024-01-11T04:44:43.421906Z",
     "iopub.status.busy": "2024-01-11T04:44:43.421454Z",
     "iopub.status.idle": "2024-01-11T04:44:43.439679Z",
     "shell.execute_reply": "2024-01-11T04:44:43.439116Z"
    },
    "papermill": {
     "duration": 0.025983,
     "end_time": "2024-01-11T04:44:43.441361",
     "exception": false,
     "start_time": "2024-01-11T04:44:43.415378",
     "status": "completed"
    },
    "tags": []
   },
   "outputs": [
    {
     "name": "stdout",
     "output_type": "stream",
     "text": [
      "<class 'pandas.core.frame.DataFrame'>\n",
      "RangeIndex: 3755 entries, 0 to 3754\n",
      "Data columns (total 11 columns):\n",
      " #   Column              Non-Null Count  Dtype \n",
      "---  ------              --------------  ----- \n",
      " 0   work_year           3755 non-null   int64 \n",
      " 1   experience_level    3755 non-null   object\n",
      " 2   employment_type     3755 non-null   object\n",
      " 3   job_title           3755 non-null   object\n",
      " 4   salary              3755 non-null   int64 \n",
      " 5   salary_currency     3755 non-null   object\n",
      " 6   salary_in_usd       3755 non-null   int64 \n",
      " 7   employee_residence  3755 non-null   object\n",
      " 8   remote_ratio        3755 non-null   int64 \n",
      " 9   company_location    3755 non-null   object\n",
      " 10  company_size        3755 non-null   object\n",
      "dtypes: int64(4), object(7)\n",
      "memory usage: 322.8+ KB\n"
     ]
    }
   ],
   "source": [
    "data.info()"
   ]
  },
  {
   "cell_type": "code",
   "execution_count": 6,
   "id": "befe1c51",
   "metadata": {
    "execution": {
     "iopub.execute_input": "2024-01-11T04:44:43.453036Z",
     "iopub.status.busy": "2024-01-11T04:44:43.452794Z",
     "iopub.status.idle": "2024-01-11T04:44:43.457940Z",
     "shell.execute_reply": "2024-01-11T04:44:43.457136Z"
    },
    "papermill": {
     "duration": 0.012821,
     "end_time": "2024-01-11T04:44:43.459566",
     "exception": false,
     "start_time": "2024-01-11T04:44:43.446745",
     "status": "completed"
    },
    "tags": []
   },
   "outputs": [
    {
     "data": {
      "text/plain": [
       "Index(['work_year', 'experience_level', 'employment_type', 'job_title',\n",
       "       'salary', 'salary_currency', 'salary_in_usd', 'employee_residence',\n",
       "       'remote_ratio', 'company_location', 'company_size'],\n",
       "      dtype='object')"
      ]
     },
     "execution_count": 6,
     "metadata": {},
     "output_type": "execute_result"
    }
   ],
   "source": [
    "data.keys()"
   ]
  },
  {
   "cell_type": "code",
   "execution_count": 7,
   "id": "91d719fb",
   "metadata": {
    "execution": {
     "iopub.execute_input": "2024-01-11T04:44:43.471921Z",
     "iopub.status.busy": "2024-01-11T04:44:43.471648Z",
     "iopub.status.idle": "2024-01-11T04:44:43.479066Z",
     "shell.execute_reply": "2024-01-11T04:44:43.478205Z"
    },
    "papermill": {
     "duration": 0.015502,
     "end_time": "2024-01-11T04:44:43.480671",
     "exception": false,
     "start_time": "2024-01-11T04:44:43.465169",
     "status": "completed"
    },
    "tags": []
   },
   "outputs": [
    {
     "data": {
      "text/plain": [
       "work_year             0\n",
       "experience_level      0\n",
       "employment_type       0\n",
       "job_title             0\n",
       "salary                0\n",
       "salary_currency       0\n",
       "salary_in_usd         0\n",
       "employee_residence    0\n",
       "remote_ratio          0\n",
       "company_location      0\n",
       "company_size          0\n",
       "dtype: int64"
      ]
     },
     "execution_count": 7,
     "metadata": {},
     "output_type": "execute_result"
    }
   ],
   "source": [
    "data.isna().sum() "
   ]
  },
  {
   "cell_type": "code",
   "execution_count": 8,
   "id": "42361ef2",
   "metadata": {
    "execution": {
     "iopub.execute_input": "2024-01-11T04:44:43.493591Z",
     "iopub.status.busy": "2024-01-11T04:44:43.493245Z",
     "iopub.status.idle": "2024-01-11T04:44:44.499943Z",
     "shell.execute_reply": "2024-01-11T04:44:44.499271Z"
    },
    "papermill": {
     "duration": 1.014914,
     "end_time": "2024-01-11T04:44:44.501740",
     "exception": false,
     "start_time": "2024-01-11T04:44:43.486826",
     "status": "completed"
    },
    "tags": []
   },
   "outputs": [
    {
     "data": {
      "image/png": "[encoded data removed]",
      "text/plain": [
       "<Figure size 2000x1000 with 4 Axes>"
      ]
     },
     "metadata": {},
     "output_type": "display_data"
    }
   ],
   "source": [
    "data.hist(bins=20, figsize=(20, 10))\n",
    "plt.suptitle('Distribution of Numerical Variables')\n",
    "plt.show()"
   ]
  },
  {
   "cell_type": "code",
   "execution_count": 9,
   "id": "946bbdfd",
   "metadata": {
    "execution": {
     "iopub.execute_input": "2024-01-11T04:44:44.516621Z",
     "iopub.status.busy": "2024-01-11T04:44:44.516181Z",
     "iopub.status.idle": "2024-01-11T04:44:44.519918Z",
     "shell.execute_reply": "2024-01-11T04:44:44.519359Z"
    },
    "papermill": {
     "duration": 0.012959,
     "end_time": "2024-01-11T04:44:44.521521",
     "exception": false,
     "start_time": "2024-01-11T04:44:44.508562",
     "status": "completed"
    },
    "tags": []
   },
   "outputs": [],
   "source": [
    "sns.set_theme(style=\"white\", palette=\"dark\")"
   ]
  },
  {
   "cell_type": "code",
   "execution_count": 10,
   "id": "201c32b4",
   "metadata": {
    "execution": {
     "iopub.execute_input": "2024-01-11T04:44:44.535421Z",
     "iopub.status.busy": "2024-01-11T04:44:44.535079Z",
     "iopub.status.idle": "2024-01-11T04:44:44.937400Z",
     "shell.execute_reply": "2024-01-11T04:44:44.936780Z"
    },
    "papermill": {
     "duration": 0.411213,
     "end_time": "2024-01-11T04:44:44.939187",
     "exception": false,
     "start_time": "2024-01-11T04:44:44.527974",
     "status": "completed"
    },
    "tags": []
   },
   "outputs": [
    {
     "data": {
      "text/plain": [
       "<matplotlib.legend.Legend at 0x7d3d340d4d90>"
      ]
     },
     "execution_count": 10,
     "metadata": {},
     "output_type": "execute_result"
    },
    {
     "data": {
      "image/png": "[encoded data removed]",
      "text/plain": [
       "<Figure size 1000x500 with 1 Axes>"
      ]
     },
     "metadata": {},
     "output_type": "display_data"
    }
   ],
   "source": [
    "plt.figure(figsize=(10,5))\n",
    "sns.boxplot(x=\"company_size\", y=\"salary_in_usd\", hue = 'experience_level', data=data, order=['S', 'M', 'L'])\n",
    "plt.xlabel(\"Company Size\")\n",
    "plt.ylabel(\"Salary in USD\")\n",
    "plt.legend(title=\"Expierence Level\")"
   ]
  },
  {
   "cell_type": "code",
   "execution_count": 11,
   "id": "7c0eba49",
   "metadata": {
    "execution": {
     "iopub.execute_input": "2024-01-11T04:44:44.954315Z",
     "iopub.status.busy": "2024-01-11T04:44:44.953991Z",
     "iopub.status.idle": "2024-01-11T04:44:45.347123Z",
     "shell.execute_reply": "2024-01-11T04:44:45.346553Z"
    },
    "papermill": {
     "duration": 0.402553,
     "end_time": "2024-01-11T04:44:45.348766",
     "exception": false,
     "start_time": "2024-01-11T04:44:44.946213",
     "status": "completed"
    },
    "tags": []
   },
   "outputs": [
    {
     "data": {
      "text/plain": [
       "(array([     0.,  25000.,  50000.,  75000., 100000., 125000., 150000.,\n",
       "        175000., 200000., 225000.]),\n",
       " [Text(0.0, 0, '0'),\n",
       "  Text(25000.0, 0, '25000'),\n",
       "  Text(50000.0, 0, '50000'),\n",
       "  Text(75000.0, 0, '75000'),\n",
       "  Text(100000.0, 0, '100000'),\n",
       "  Text(125000.0, 0, '125000'),\n",
       "  Text(150000.0, 0, '150000'),\n",
       "  Text(175000.0, 0, '175000'),\n",
       "  Text(200000.0, 0, '200000'),\n",
       "  Text(225000.0, 0, '225000')])"
      ]
     },
     "execution_count": 11,
     "metadata": {},
     "output_type": "execute_result"
    },
    {
     "data": {
      "image/png": "[encoded data removed]",
      "text/plain": [
       "<Figure size 640x480 with 1 Axes>"
      ]
     },
     "metadata": {},
     "output_type": "display_data"
    }
   ],
   "source": [
    "sns.barplot(data = data, x='salary_in_usd', y='experience_level', order=['EN', 'MI', 'SE', 'EX'])\n",
    "plt.title(\"Salary by Expierence Level\")\n",
    "plt.xlabel(\"Salary in USD\")\n",
    "plt.ylabel(\"Expierence Level\")\n",
    "plt.xticks(rotation=90)"
   ]
  },
  {
   "cell_type": "code",
   "execution_count": 12,
   "id": "f3c3d1ac",
   "metadata": {
    "execution": {
     "iopub.execute_input": "2024-01-11T04:44:45.364705Z",
     "iopub.status.busy": "2024-01-11T04:44:45.364318Z",
     "iopub.status.idle": "2024-01-11T04:44:45.753658Z",
     "shell.execute_reply": "2024-01-11T04:44:45.752374Z"
    },
    "papermill": {
     "duration": 0.399324,
     "end_time": "2024-01-11T04:44:45.755513",
     "exception": false,
     "start_time": "2024-01-11T04:44:45.356189",
     "status": "completed"
    },
    "tags": []
   },
   "outputs": [
    {
     "data": {
      "text/plain": [
       "(array([     0.,  25000.,  50000.,  75000., 100000., 125000., 150000.,\n",
       "        175000., 200000., 225000.]),\n",
       " [Text(0.0, 0, '0'),\n",
       "  Text(25000.0, 0, '25000'),\n",
       "  Text(50000.0, 0, '50000'),\n",
       "  Text(75000.0, 0, '75000'),\n",
       "  Text(100000.0, 0, '100000'),\n",
       "  Text(125000.0, 0, '125000'),\n",
       "  Text(150000.0, 0, '150000'),\n",
       "  Text(175000.0, 0, '175000'),\n",
       "  Text(200000.0, 0, '200000'),\n",
       "  Text(225000.0, 0, '225000')])"
      ]
     },
     "execution_count": 12,
     "metadata": {},
     "output_type": "execute_result"
    },
    {
     "data": {
      "image/png": "[encoded data removed]",
      "text/plain": [
       "<Figure size 640x480 with 1 Axes>"
      ]
     },
     "metadata": {},
     "output_type": "display_data"
    }
   ],
   "source": [
    "sns.barplot(data = data, x='salary_in_usd', y='employment_type',order=['FL', 'CT', 'PT', 'FT'])\n",
    "plt.title(\"Salary by Employment Type\")\n",
    "plt.xlabel(\"Salary in USD\")\n",
    "plt.ylabel(\"Employment Type\")\n",
    "plt.xticks(rotation=90)"
   ]
  },
  {
   "cell_type": "code",
   "execution_count": 13,
   "id": "4a0c5901",
   "metadata": {
    "execution": {
     "iopub.execute_input": "2024-01-11T04:44:45.772915Z",
     "iopub.status.busy": "2024-01-11T04:44:45.771986Z",
     "iopub.status.idle": "2024-01-11T04:44:46.148067Z",
     "shell.execute_reply": "2024-01-11T04:44:46.147178Z"
    },
    "papermill": {
     "duration": 0.386556,
     "end_time": "2024-01-11T04:44:46.149974",
     "exception": false,
     "start_time": "2024-01-11T04:44:45.763418",
     "status": "completed"
    },
    "tags": []
   },
   "outputs": [
    {
     "data": {
      "text/plain": [
       "Text(0, 0.5, 'Company Size')"
      ]
     },
     "execution_count": 13,
     "metadata": {},
     "output_type": "execute_result"
    },
    {
     "data": {
      "image/png": "[encoded data removed]",
      "text/plain": [
       "<Figure size 640x480 with 1 Axes>"
      ]
     },
     "metadata": {},
     "output_type": "display_data"
    }
   ],
   "source": [
    "sns.barplot(data = data, x='salary_in_usd', y='company_size', order=['S','M','L'])\n",
    "plt.title(\"Salary by Company Size\")\n",
    "plt.xlabel(\"Salary in USD\")\n",
    "plt.ylabel(\"Company Size\")"
   ]
  },
  {
   "cell_type": "code",
   "execution_count": 14,
   "id": "6696fba6",
   "metadata": {
    "execution": {
     "iopub.execute_input": "2024-01-11T04:44:46.167258Z",
     "iopub.status.busy": "2024-01-11T04:44:46.166689Z",
     "iopub.status.idle": "2024-01-11T04:44:46.175349Z",
     "shell.execute_reply": "2024-01-11T04:44:46.174510Z"
    },
    "papermill": {
     "duration": 0.01924,
     "end_time": "2024-01-11T04:44:46.177198",
     "exception": false,
     "start_time": "2024-01-11T04:44:46.157958",
     "status": "completed"
    },
    "tags": []
   },
   "outputs": [],
   "source": [
    "x = data\n",
    "x['exp_lvl']=LE.fit_transform(x.experience_level)\n",
    "x['emp_type']=LE.fit_transform(x.employment_type)\n",
    "x['remote ratio']=LE.fit_transform(x.remote_ratio)\n",
    "x['company size']=LE.fit_transform(x.company_size)"
   ]
  },
  {
   "cell_type": "code",
   "execution_count": 15,
   "id": "91db73de",
   "metadata": {
    "execution": {
     "iopub.execute_input": "2024-01-11T04:44:46.194836Z",
     "iopub.status.busy": "2024-01-11T04:44:46.194380Z",
     "iopub.status.idle": "2024-01-11T04:44:46.525906Z",
     "shell.execute_reply": "2024-01-11T04:44:46.525015Z"
    },
    "papermill": {
     "duration": 0.342347,
     "end_time": "2024-01-11T04:44:46.527707",
     "exception": false,
     "start_time": "2024-01-11T04:44:46.185360",
     "status": "completed"
    },
    "tags": []
   },
   "outputs": [
    {
     "data": {
      "text/plain": [
       "Text(0, 0.5, 'Salary in USD')"
      ]
     },
     "execution_count": 15,
     "metadata": {},
     "output_type": "execute_result"
    },
    {
     "data": {
      "image/png": "[encoded data removed]",
      "text/plain": [
       "<Figure size 640x480 with 1 Axes>"
      ]
     },
     "metadata": {},
     "output_type": "display_data"
    }
   ],
   "source": [
    "sns.barplot(data = data, x='remote ratio', y='salary_in_usd')\n",
    "plt.title(\"Salary by Remote Ratio\")\n",
    "plt.xlabel(\"Remote Ratio\")\n",
    "plt.ylabel(\"Salary in USD\")\n"
   ]
  },
  {
   "cell_type": "markdown",
   "id": "648f2cab",
   "metadata": {
    "papermill": {
     "duration": 0.007946,
     "end_time": "2024-01-11T04:44:46.544266",
     "exception": false,
     "start_time": "2024-01-11T04:44:46.536320",
     "status": "completed"
    },
    "tags": []
   },
   "source": [
    "# XGB Model and Feature Importance"
   ]
  },
  {
   "cell_type": "code",
   "execution_count": 16,
   "id": "41b26646",
   "metadata": {
    "execution": {
     "iopub.execute_input": "2024-01-11T04:44:46.562267Z",
     "iopub.status.busy": "2024-01-11T04:44:46.561963Z",
     "iopub.status.idle": "2024-01-11T04:44:46.572114Z",
     "shell.execute_reply": "2024-01-11T04:44:46.571337Z"
    },
    "papermill": {
     "duration": 0.021271,
     "end_time": "2024-01-11T04:44:46.573810",
     "exception": false,
     "start_time": "2024-01-11T04:44:46.552539",
     "status": "completed"
    },
    "tags": []
   },
   "outputs": [],
   "source": [
    "features = ['exp_lvl', 'emp_type',\n",
    "       'remote ratio', 'company size']\n",
    "X =data[features]\n",
    "y=data['salary_in_usd']\n",
    "\n",
    "X_train, X_valid, y_train, y_valid = train_test_split(X,y,random_state=1)"
   ]
  },
  {
   "cell_type": "code",
   "execution_count": 17,
   "id": "8059c709",
   "metadata": {
    "execution": {
     "iopub.execute_input": "2024-01-11T04:44:46.592123Z",
     "iopub.status.busy": "2024-01-11T04:44:46.591788Z",
     "iopub.status.idle": "2024-01-11T04:44:46.602508Z",
     "shell.execute_reply": "2024-01-11T04:44:46.601261Z"
    },
    "papermill": {
     "duration": 0.021936,
     "end_time": "2024-01-11T04:44:46.604337",
     "exception": false,
     "start_time": "2024-01-11T04:44:46.582401",
     "status": "completed"
    },
    "tags": []
   },
   "outputs": [
    {
     "name": "stdout",
     "output_type": "stream",
     "text": [
      "<class 'pandas.core.frame.DataFrame'>\n",
      "RangeIndex: 3755 entries, 0 to 3754\n",
      "Data columns (total 4 columns):\n",
      " #   Column        Non-Null Count  Dtype\n",
      "---  ------        --------------  -----\n",
      " 0   exp_lvl       3755 non-null   int64\n",
      " 1   emp_type      3755 non-null   int64\n",
      " 2   remote ratio  3755 non-null   int64\n",
      " 3   company size  3755 non-null   int64\n",
      "dtypes: int64(4)\n",
      "memory usage: 117.5 KB\n"
     ]
    }
   ],
   "source": [
    "X.info()"
   ]
  },
  {
   "cell_type": "code",
   "execution_count": 18,
   "id": "3f64969d",
   "metadata": {
    "execution": {
     "iopub.execute_input": "2024-01-11T04:44:46.627272Z",
     "iopub.status.busy": "2024-01-11T04:44:46.626939Z",
     "iopub.status.idle": "2024-01-11T04:44:46.734802Z",
     "shell.execute_reply": "2024-01-11T04:44:46.733935Z"
    },
    "papermill": {
     "duration": 0.123525,
     "end_time": "2024-01-11T04:44:46.736584",
     "exception": false,
     "start_time": "2024-01-11T04:44:46.613059",
     "status": "completed"
    },
    "tags": []
   },
   "outputs": [
    {
     "name": "stderr",
     "output_type": "stream",
     "text": [
      "/opt/conda/lib/python3.10/site-packages/xgboost/sklearn.py:885: UserWarning: `early_stopping_rounds` in `fit` method is deprecated for better compatibility with scikit-learn, use `early_stopping_rounds` in constructor or`set_params` instead.\n",
      "  warnings.warn(\n"
     ]
    },
    {
     "data": {
      "text/html": [
       "<style>#sk-container-id-1 {color: black;background-color: white;}#sk-container-id-1 pre{padding: 0;}#sk-container-id-1 div.sk-toggleable {background-color: white;}#sk-container-id-1 label.sk-toggleable__label {cursor: pointer;display: block;width: 100%;margin-bottom: 0;padding: 0.3em;box-sizing: border-box;text-align: center;}#sk-container-id-1 label.sk-toggleable__label-arrow:before {content: \"▸\";float: left;margin-right: 0.25em;color: #696969;}#sk-container-id-1 label.sk-toggleable__label-arrow:hover:before {color: black;}#sk-container-id-1 div.sk-estimator:hover label.sk-toggleable__label-arrow:before {color: black;}#sk-container-id-1 div.sk-toggleable__content {max-height: 0;max-width: 0;overflow: hidden;text-align: left;background-color: #f0f8ff;}#sk-container-id-1 div.sk-toggleable__content pre {margin: 0.2em;color: black;border-radius: 0.25em;background-color: #f0f8ff;}#sk-container-id-1 input.sk-toggleable__control:checked~div.sk-toggleable__content {max-height: 200px;max-width: 100%;overflow: auto;}#sk-container-id-1 input.sk-toggleable__control:checked~label.sk-toggleable__label-arrow:before {content: \"▾\";}#sk-container-id-1 div.sk-estimator input.sk-toggleable__control:checked~label.sk-toggleable__label {background-color: #d4ebff;}#sk-container-id-1 div.sk-label input.sk-toggleable__control:checked~label.sk-toggleable__label {background-color: #d4ebff;}#sk-container-id-1 input.sk-hidden--visually {border: 0;clip: rect(1px 1px 1px 1px);clip: rect(1px, 1px, 1px, 1px);height: 1px;margin: -1px;overflow: hidden;padding: 0;position: absolute;width: 1px;}#sk-container-id-1 div.sk-estimator {font-family: monospace;background-color: #f0f8ff;border: 1px dotted black;border-radius: 0.25em;box-sizing: border-box;margin-bottom: 0.5em;}#sk-container-id-1 div.sk-estimator:hover {background-color: #d4ebff;}#sk-container-id-1 div.sk-parallel-item::after {content: \"\";width: 100%;border-bottom: 1px solid gray;flex-grow: 1;}#sk-container-id-1 div.sk-label:hover label.sk-toggleable__label {background-color: #d4ebff;}#sk-container-id-1 div.sk-serial::before {content: \"\";position: absolute;border-left: 1px solid gray;box-sizing: border-box;top: 0;bottom: 0;left: 50%;z-index: 0;}#sk-container-id-1 div.sk-serial {display: flex;flex-direction: column;align-items: center;background-color: white;padding-right: 0.2em;padding-left: 0.2em;position: relative;}#sk-container-id-1 div.sk-item {position: relative;z-index: 1;}#sk-container-id-1 div.sk-parallel {display: flex;align-items: stretch;justify-content: center;background-color: white;position: relative;}#sk-container-id-1 div.sk-item::before, #sk-container-id-1 div.sk-parallel-item::before {content: \"\";position: absolute;border-left: 1px solid gray;box-sizing: border-box;top: 0;bottom: 0;left: 50%;z-index: -1;}#sk-container-id-1 div.sk-parallel-item {display: flex;flex-direction: column;z-index: 1;position: relative;background-color: white;}#sk-container-id-1 div.sk-parallel-item:first-child::after {align-self: flex-end;width: 50%;}#sk-container-id-1 div.sk-parallel-item:last-child::after {align-self: flex-start;width: 50%;}#sk-container-id-1 div.sk-parallel-item:only-child::after {width: 0;}#sk-container-id-1 div.sk-dashed-wrapped {border: 1px dashed gray;margin: 0 0.4em 0.5em 0.4em;box-sizing: border-box;padding-bottom: 0.4em;background-color: white;}#sk-container-id-1 div.sk-label label {font-family: monospace;font-weight: bold;display: inline-block;line-height: 1.2em;}#sk-container-id-1 div.sk-label-container {text-align: center;}#sk-container-id-1 div.sk-container {/* jupyter's `normalize.less` sets `[hidden] { display: none; }` but bootstrap.min.css set `[hidden] { display: none !important; }` so we also need the `!important` here to be able to override the default hidden behavior on the sphinx rendered scikit-learn.org. See: https://github.com/scikit-learn/scikit-learn/issues/21755 */display: inline-block !important;position: relative;}#sk-container-id-1 div.sk-text-repr-fallback {display: none;}</style><div id=\"sk-container-id-1\" class=\"sk-top-container\"><div class=\"sk-text-repr-fallback\"><pre>XGBRegressor(base_score=None, booster=None, callbacks=None,\n",
       "             colsample_bylevel=None, colsample_bynode=None,\n",
       "             colsample_bytree=None, device=None, early_stopping_rounds=None,\n",
       "             enable_categorical=False, eval_metric=None, feature_types=None,\n",
       "             gamma=None, grow_policy=None, importance_type=None,\n",
       "             interaction_constraints=None, learning_rate=0.05, max_bin=None,\n",
       "             max_cat_threshold=None, max_cat_to_onehot=None,\n",
       "             max_delta_step=None, max_depth=None, max_leaves=None,\n",
       "             min_child_weight=None, missing=nan, monotone_constraints=None,\n",
       "             multi_strategy=None, n_estimators=1000, n_jobs=None,\n",
       "             num_parallel_tree=None, random_state=None, ...)</pre><b>In a Jupyter environment, please rerun this cell to show the HTML representation or trust the notebook. <br />On GitHub, the HTML representation is unable to render, please try loading this page with nbviewer.org.</b></div><div class=\"sk-container\" hidden><div class=\"sk-item\"><div class=\"sk-estimator sk-toggleable\"><input class=\"sk-toggleable__control sk-hidden--visually\" id=\"sk-estimator-id-1\" type=\"checkbox\" checked><label for=\"sk-estimator-id-1\" class=\"sk-toggleable__label sk-toggleable__label-arrow\">XGBRegressor</label><div class=\"sk-toggleable__content\"><pre>XGBRegressor(base_score=None, booster=None, callbacks=None,\n",
       "             colsample_bylevel=None, colsample_bynode=None,\n",
       "             colsample_bytree=None, device=None, early_stopping_rounds=None,\n",
       "             enable_categorical=False, eval_metric=None, feature_types=None,\n",
       "             gamma=None, grow_policy=None, importance_type=None,\n",
       "             interaction_constraints=None, learning_rate=0.05, max_bin=None,\n",
       "             max_cat_threshold=None, max_cat_to_onehot=None,\n",
       "             max_delta_step=None, max_depth=None, max_leaves=None,\n",
       "             min_child_weight=None, missing=nan, monotone_constraints=None,\n",
       "             multi_strategy=None, n_estimators=1000, n_jobs=None,\n",
       "             num_parallel_tree=None, random_state=None, ...)</pre></div></div></div></div></div>"
      ],
      "text/plain": [
       "XGBRegressor(base_score=None, booster=None, callbacks=None,\n",
       "             colsample_bylevel=None, colsample_bynode=None,\n",
       "             colsample_bytree=None, device=None, early_stopping_rounds=None,\n",
       "             enable_categorical=False, eval_metric=None, feature_types=None,\n",
       "             gamma=None, grow_policy=None, importance_type=None,\n",
       "             interaction_constraints=None, learning_rate=0.05, max_bin=None,\n",
       "             max_cat_threshold=None, max_cat_to_onehot=None,\n",
       "             max_delta_step=None, max_depth=None, max_leaves=None,\n",
       "             min_child_weight=None, missing=nan, monotone_constraints=None,\n",
       "             multi_strategy=None, n_estimators=1000, n_jobs=None,\n",
       "             num_parallel_tree=None, random_state=None, ...)"
      ]
     },
     "execution_count": 18,
     "metadata": {},
     "output_type": "execute_result"
    }
   ],
   "source": [
    "from sklearn.ensemble import RandomForestRegressor\n",
    "model = XGBRegressor(n_estimators=1000, learning_rate=0.05)\n",
    "model.fit(X_train, y_train, \n",
    "             early_stopping_rounds=5, \n",
    "             eval_set=[(X_valid, y_valid)], \n",
    "             verbose=False)\n",
    "\n"
   ]
  },
  {
   "cell_type": "code",
   "execution_count": 19,
   "id": "74a8a32a",
   "metadata": {
    "execution": {
     "iopub.execute_input": "2024-01-11T04:44:46.755847Z",
     "iopub.status.busy": "2024-01-11T04:44:46.755540Z",
     "iopub.status.idle": "2024-01-11T04:44:46.765276Z",
     "shell.execute_reply": "2024-01-11T04:44:46.764683Z"
    },
    "papermill": {
     "duration": 0.021522,
     "end_time": "2024-01-11T04:44:46.767060",
     "exception": false,
     "start_time": "2024-01-11T04:44:46.745538",
     "status": "completed"
    },
    "tags": []
   },
   "outputs": [
    {
     "name": "stdout",
     "output_type": "stream",
     "text": [
      "43140.03409336728\n"
     ]
    }
   ],
   "source": [
    "# Preprocessing of validation data, get predictions\n",
    "preds = model.predict(X_valid)\n",
    "\n",
    "# Evaluate the model\n",
    "score = mean_absolute_error(y_valid, preds)\n",
    "\n",
    "print(score)"
   ]
  },
  {
   "cell_type": "code",
   "execution_count": 20,
   "id": "5efeab39",
   "metadata": {
    "execution": {
     "iopub.execute_input": "2024-01-11T04:44:46.786200Z",
     "iopub.status.busy": "2024-01-11T04:44:46.785865Z",
     "iopub.status.idle": "2024-01-11T04:44:46.863675Z",
     "shell.execute_reply": "2024-01-11T04:44:46.861932Z"
    },
    "papermill": {
     "duration": 0.089691,
     "end_time": "2024-01-11T04:44:46.865813",
     "exception": false,
     "start_time": "2024-01-11T04:44:46.776122",
     "status": "completed"
    },
    "tags": []
   },
   "outputs": [
    {
     "data": {
      "text/html": [
       "\n",
       "    <style>\n",
       "    table.eli5-weights tr:hover {\n",
       "        filter: brightness(85%);\n",
       "    }\n",
       "</style>\n",
       "\n",
       "\n",
       "\n",
       "    \n",
       "\n",
       "    \n",
       "\n",
       "    \n",
       "\n",
       "    \n",
       "\n",
       "    \n",
       "\n",
       "    \n",
       "\n",
       "\n",
       "    \n",
       "\n",
       "    \n",
       "\n",
       "    \n",
       "\n",
       "    \n",
       "\n",
       "    \n",
       "\n",
       "    \n",
       "\n",
       "\n",
       "    \n",
       "\n",
       "    \n",
       "\n",
       "    \n",
       "\n",
       "    \n",
       "\n",
       "    \n",
       "        <table class=\"eli5-weights eli5-feature-importances\" style=\"border-collapse: collapse; border: none; margin-top: 0em; table-layout: auto;\">\n",
       "    <thead>\n",
       "    <tr style=\"border: none;\">\n",
       "        <th style=\"padding: 0 1em 0 0.5em; text-align: right; border: none;\">Weight</th>\n",
       "        <th style=\"padding: 0 0.5em 0 0.5em; text-align: left; border: none;\">Feature</th>\n",
       "    </tr>\n",
       "    </thead>\n",
       "    <tbody>\n",
       "    \n",
       "        <tr style=\"background-color: hsl(120, 100.00%, 80.00%); border: none;\">\n",
       "            <td style=\"padding: 0 1em 0 0.5em; text-align: right; border: none;\">\n",
       "                0.3114\n",
       "                \n",
       "                    &plusmn; 0.0602\n",
       "                \n",
       "            </td>\n",
       "            <td style=\"padding: 0 0.5em 0 0.5em; text-align: left; border: none;\">\n",
       "                exp_lvl\n",
       "            </td>\n",
       "        </tr>\n",
       "    \n",
       "        <tr style=\"background-color: hsl(120, 100.00%, 93.47%); border: none;\">\n",
       "            <td style=\"padding: 0 1em 0 0.5em; text-align: right; border: none;\">\n",
       "                0.0629\n",
       "                \n",
       "                    &plusmn; 0.0164\n",
       "                \n",
       "            </td>\n",
       "            <td style=\"padding: 0 0.5em 0 0.5em; text-align: left; border: none;\">\n",
       "                remote ratio\n",
       "            </td>\n",
       "        </tr>\n",
       "    \n",
       "        <tr style=\"background-color: hsl(120, 100.00%, 94.91%); border: none;\">\n",
       "            <td style=\"padding: 0 1em 0 0.5em; text-align: right; border: none;\">\n",
       "                0.0441\n",
       "                \n",
       "                    &plusmn; 0.0149\n",
       "                \n",
       "            </td>\n",
       "            <td style=\"padding: 0 0.5em 0 0.5em; text-align: left; border: none;\">\n",
       "                company size\n",
       "            </td>\n",
       "        </tr>\n",
       "    \n",
       "        <tr style=\"background-color: hsl(0, 100.00%, 99.68%); border: none;\">\n",
       "            <td style=\"padding: 0 1em 0 0.5em; text-align: right; border: none;\">\n",
       "                -0.0008\n",
       "                \n",
       "                    &plusmn; 0.0074\n",
       "                \n",
       "            </td>\n",
       "            <td style=\"padding: 0 0.5em 0 0.5em; text-align: left; border: none;\">\n",
       "                emp_type\n",
       "            </td>\n",
       "        </tr>\n",
       "    \n",
       "    \n",
       "    </tbody>\n",
       "</table>\n",
       "    \n",
       "\n",
       "    \n",
       "\n",
       "\n",
       "    \n",
       "\n",
       "    \n",
       "\n",
       "    \n",
       "\n",
       "    \n",
       "\n",
       "    \n",
       "\n",
       "    \n",
       "\n",
       "\n",
       "\n"
      ],
      "text/plain": [
       "<IPython.core.display.HTML object>"
      ]
     },
     "execution_count": 20,
     "metadata": {},
     "output_type": "execute_result"
    }
   ],
   "source": [
    "perm = PermutationImportance(model, random_state=1).fit(X_valid, y_valid)\n",
    "eli5.show_weights(perm, feature_names = X_train.columns.tolist())"
   ]
  },
  {
   "cell_type": "code",
   "execution_count": null,
   "id": "cf112160",
   "metadata": {
    "papermill": {
     "duration": 0.008714,
     "end_time": "2024-01-11T04:44:46.884180",
     "exception": false,
     "start_time": "2024-01-11T04:44:46.875466",
     "status": "completed"
    },
    "tags": []
   },
   "outputs": [],
   "source": []
  }
 ],
 "metadata": {
  "kaggle": {
   "accelerator": "none",
   "dataSources": [
    {
     "datasetId": 4164244,
     "sourceId": 7199610,
     "sourceType": "datasetVersion"
    }
   ],
   "dockerImageVersionId": 30626,
   "isGpuEnabled": false,
   "isInternetEnabled": true,
   "language": "python",
   "sourceType": "notebook"
  },
  "kernelspec": {
   "display_name": "Python 3",
   "language": "python",
   "name": "python3"
  },
  "language_info": {
   "codemirror_mode": {
    "name": "ipython",
    "version": 3
   },
   "file_extension": ".py",
   "mimetype": "text/x-python",
   "name": "python",
   "nbconvert_exporter": "python",
   "pygments_lexer": "ipython3",
   "version": "3.10.12"
  },
  "papermill": {
   "default_parameters": {},
   "duration": 20.622325,
   "end_time": "2024-01-11T04:44:48.417419",
   "environment_variables": {},
   "exception": null,
   "input_path": "__notebook__.ipynb",
   "output_path": "__notebook__.ipynb",
   "parameters": {},
   "start_time": "2024-01-11T04:44:27.795094",
   "version": "2.4.0"
  }
 },
 "nbformat": 4,
 "nbformat_minor": 5
}
