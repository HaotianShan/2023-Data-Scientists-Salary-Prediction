{
 "cells": [
  {
   "cell_type": "code",
   "execution_count": 1,
   "id": "7f9815cb",
   "metadata": {
    "_cell_guid": "a14110a9-5c62-457d-8d08-06fb1cf6feb7",
    "_uuid": "133b3e9f-3462-47f6-888d-c4aff422112e",
    "collapsed": false,
    "execution": {
     "iopub.execute_input": "2024-01-11T04:44:02.195355Z",
     "iopub.status.busy": "2024-01-11T04:44:02.194797Z",
     "iopub.status.idle": "2024-01-11T04:44:03.195151Z",
     "shell.execute_reply": "2024-01-11T04:44:03.194016Z"
    },
    "jupyter": {
     "outputs_hidden": false
    },
    "papermill": {
     "duration": 1.024102,
     "end_time": "2024-01-11T04:44:03.197859",
     "exception": false,
     "start_time": "2024-01-11T04:44:02.173757",
     "status": "completed"
    },
    "tags": []
   },
   "outputs": [
    {
     "name": "stdout",
     "output_type": "stream",
     "text": [
      "/kaggle/input/2023-data-scientists-salary/ds_salaries.csv\n"
     ]
    }
   ],
   "source": [
    "# This Python 3 environment comes with many helpful analytics libraries installed\n",
    "# It is defined by the kaggle/python Docker image: https://github.com/kaggle/docker-python\n",
    "# For example, here's several helpful packages to load\n",
    "\n",
    "import numpy as np # linear algebra\n",
    "import pandas as pd # data processing, CSV file I/O (e.g. pd.read_csv)\n",
    "\n",
    "# Input data files are available in the read-only \"../input/\" directory\n",
    "# For example, running this (by clicking run or pressing Shift+Enter) will list all files under the input directory\n",
    "\n",
    "import os\n",
    "for dirname, _, filenames in os.walk('/kaggle/input'):\n",
    "    for filename in filenames:\n",
    "        print(os.path.join(dirname, filename))\n",
    "\n",
    "# You can write up to 20GB to the current directory (/kaggle/working/) that gets preserved as output when you create a version using \"Save & Run All\" \n",
    "# You can also write temporary files to /kaggle/temp/, but they won't be saved outside of the current session"
   ]
  },
  {
   "cell_type": "markdown",
   "id": "d6721db8",
   "metadata": {
    "_cell_guid": "6a46a04c-fd94-4f09-8b62-47dc5c571eb7",
    "_uuid": "1ab8bb60-bf48-4010-ad5a-63f08bbe2eff",
    "papermill": {
     "duration": 0.018327,
     "end_time": "2024-01-11T04:44:03.234788",
     "exception": false,
     "start_time": "2024-01-11T04:44:03.216461",
     "status": "completed"
    },
    "tags": []
   },
   "source": [
    "putting the data in a dataframe"
   ]
  },
  {
   "cell_type": "code",
   "execution_count": 2,
   "id": "830b3a10",
   "metadata": {
    "_cell_guid": "8e89b0c7-16b7-4127-aa92-0f432fca209e",
    "_uuid": "aa4a9b24-9e49-460d-9917-5bf819b1a008",
    "collapsed": false,
    "execution": {
     "iopub.execute_input": "2024-01-11T04:44:03.272954Z",
     "iopub.status.busy": "2024-01-11T04:44:03.272435Z",
     "iopub.status.idle": "2024-01-11T04:44:03.370373Z",
     "shell.execute_reply": "2024-01-11T04:44:03.369302Z"
    },
    "jupyter": {
     "outputs_hidden": false
    },
    "papermill": {
     "duration": 0.119997,
     "end_time": "2024-01-11T04:44:03.372834",
     "exception": false,
     "start_time": "2024-01-11T04:44:03.252837",
     "status": "completed"
    },
    "tags": []
   },
   "outputs": [
    {
     "name": "stdout",
     "output_type": "stream",
     "text": [
      "         work_year        salary  salary_in_usd  remote_ratio\n",
      "count  3755.000000  3.755000e+03    3755.000000   3755.000000\n",
      "mean   2022.373635  1.906956e+05  137570.389880     46.271638\n",
      "std       0.691448  6.716765e+05   63055.625278     48.589050\n",
      "min    2020.000000  6.000000e+03    5132.000000      0.000000\n",
      "25%    2022.000000  1.000000e+05   95000.000000      0.000000\n",
      "50%    2022.000000  1.380000e+05  135000.000000      0.000000\n",
      "75%    2023.000000  1.800000e+05  175000.000000    100.000000\n",
      "max    2023.000000  3.040000e+07  450000.000000    100.000000\n",
      "Index(['work_year', 'experience_level', 'employment_type', 'job_title',\n",
      "       'salary', 'salary_currency', 'salary_in_usd', 'employee_residence',\n",
      "       'remote_ratio', 'company_location', 'company_size'],\n",
      "      dtype='object')\n",
      "<class 'pandas.core.frame.DataFrame'>\n",
      "RangeIndex: 3755 entries, 0 to 3754\n",
      "Data columns (total 11 columns):\n",
      " #   Column              Non-Null Count  Dtype \n",
      "---  ------              --------------  ----- \n",
      " 0   work_year           3755 non-null   int64 \n",
      " 1   experience_level    3755 non-null   object\n",
      " 2   employment_type     3755 non-null   object\n",
      " 3   job_title           3755 non-null   object\n",
      " 4   salary              3755 non-null   int64 \n",
      " 5   salary_currency     3755 non-null   object\n",
      " 6   salary_in_usd       3755 non-null   int64 \n",
      " 7   employee_residence  3755 non-null   object\n",
      " 8   remote_ratio        3755 non-null   int64 \n",
      " 9   company_location    3755 non-null   object\n",
      " 10  company_size        3755 non-null   object\n",
      "dtypes: int64(4), object(7)\n",
      "memory usage: 322.8+ KB\n",
      "None\n"
     ]
    }
   ],
   "source": [
    "df=pd.read_csv('/kaggle/input/2023-data-scientists-salary/ds_salaries.csv')\n",
    "print(df.describe())\n",
    "print(df.columns)\n",
    "print(df.info())"
   ]
  },
  {
   "cell_type": "code",
   "execution_count": 3,
   "id": "c06083f9",
   "metadata": {
    "_cell_guid": "6189e3c9-79ee-45ce-9804-96322ec9e0c1",
    "_uuid": "7f97979c-5ca6-421e-bd1a-5ff7d7414c2e",
    "collapsed": false,
    "execution": {
     "iopub.execute_input": "2024-01-11T04:44:03.412958Z",
     "iopub.status.busy": "2024-01-11T04:44:03.412528Z",
     "iopub.status.idle": "2024-01-11T04:44:03.422100Z",
     "shell.execute_reply": "2024-01-11T04:44:03.420998Z"
    },
    "jupyter": {
     "outputs_hidden": false
    },
    "papermill": {
     "duration": 0.033061,
     "end_time": "2024-01-11T04:44:03.424507",
     "exception": false,
     "start_time": "2024-01-11T04:44:03.391446",
     "status": "completed"
    },
    "tags": []
   },
   "outputs": [
    {
     "name": "stdout",
     "output_type": "stream",
     "text": [
      "   work_year experience_level employment_type                 job_title  \\\n",
      "0       2023               SE              FT  Principal Data Scientist   \n",
      "1       2023               MI              CT               ML Engineer   \n",
      "\n",
      "   salary salary_currency  salary_in_usd employee_residence  remote_ratio  \\\n",
      "0   80000             EUR          85847                 ES           100   \n",
      "1   30000             USD          30000                 US           100   \n",
      "\n",
      "  company_location company_size  \n",
      "0               ES            L  \n",
      "1               US            S  \n"
     ]
    }
   ],
   "source": [
    "print(df.head(2))"
   ]
  },
  {
   "cell_type": "markdown",
   "id": "d72f62f5",
   "metadata": {
    "_cell_guid": "716f81bf-e9df-4952-8652-3b6c30e9c6ef",
    "_uuid": "8b14993b-b8eb-4946-a0b1-ecec228fbdfa",
    "papermill": {
     "duration": 0.018812,
     "end_time": "2024-01-11T04:44:03.461633",
     "exception": false,
     "start_time": "2024-01-11T04:44:03.442821",
     "status": "completed"
    },
    "tags": []
   },
   "source": [
    "Now we proceed on removing null data by just dropping rows."
   ]
  },
  {
   "cell_type": "code",
   "execution_count": 4,
   "id": "7db330d4",
   "metadata": {
    "_cell_guid": "ebe16785-f43a-4692-a1f2-4ec8ecf92c82",
    "_uuid": "ce7fea46-666d-4d1f-90ed-a489bb418828",
    "collapsed": false,
    "execution": {
     "iopub.execute_input": "2024-01-11T04:44:03.501643Z",
     "iopub.status.busy": "2024-01-11T04:44:03.501238Z",
     "iopub.status.idle": "2024-01-11T04:44:03.517500Z",
     "shell.execute_reply": "2024-01-11T04:44:03.516404Z"
    },
    "jupyter": {
     "outputs_hidden": false
    },
    "papermill": {
     "duration": 0.039097,
     "end_time": "2024-01-11T04:44:03.520044",
     "exception": false,
     "start_time": "2024-01-11T04:44:03.480947",
     "status": "completed"
    },
    "tags": []
   },
   "outputs": [],
   "source": [
    "df=df.dropna(axis=0)\n",
    "df=df.drop(columns='salary_currency')\n",
    "df=df.drop(columns='salary')"
   ]
  },
  {
   "cell_type": "markdown",
   "id": "1c1c0880",
   "metadata": {
    "_cell_guid": "0403364a-541f-4e02-b5ac-0716a8b5b3e3",
    "_uuid": "109c9496-e8ed-4d08-93f5-63942c146ac9",
    "papermill": {
     "duration": 0.018632,
     "end_time": "2024-01-11T04:44:03.557430",
     "exception": false,
     "start_time": "2024-01-11T04:44:03.538798",
     "status": "completed"
    },
    "tags": []
   },
   "source": [
    "With the unnecessary stuff dropped, we go ahead with solving the problem with the remaining complete data."
   ]
  },
  {
   "cell_type": "code",
   "execution_count": 5,
   "id": "d85d3601",
   "metadata": {
    "_cell_guid": "cc877536-1db4-48d7-9166-a0efb891584a",
    "_uuid": "2d4f670b-cd64-4678-9430-68f34f88037b",
    "collapsed": false,
    "execution": {
     "iopub.execute_input": "2024-01-11T04:44:03.597410Z",
     "iopub.status.busy": "2024-01-11T04:44:03.597020Z",
     "iopub.status.idle": "2024-01-11T04:44:05.279935Z",
     "shell.execute_reply": "2024-01-11T04:44:05.278945Z"
    },
    "jupyter": {
     "outputs_hidden": false
    },
    "papermill": {
     "duration": 1.706721,
     "end_time": "2024-01-11T04:44:05.282978",
     "exception": false,
     "start_time": "2024-01-11T04:44:03.576257",
     "status": "completed"
    },
    "tags": []
   },
   "outputs": [],
   "source": [
    "from sklearn.model_selection import train_test_split\n",
    "from sklearn.tree import DecisionTreeRegressor\n",
    "from sklearn.metrics import mean_squared_error\n",
    "import matplotlib.pyplot as plt"
   ]
  },
  {
   "cell_type": "markdown",
   "id": "9a9c66d8",
   "metadata": {
    "_cell_guid": "3704de80-735f-45e3-b78b-e881113f1da5",
    "_uuid": "dd00ad56-ce35-45c6-95f4-4f1e3ba713e1",
    "papermill": {
     "duration": 0.01814,
     "end_time": "2024-01-11T04:44:05.320168",
     "exception": false,
     "start_time": "2024-01-11T04:44:05.302028",
     "status": "completed"
    },
    "tags": []
   },
   "source": [
    "we find out categorical columns next and replace it using one hot encoding technique, that is converting the values into a binary matrix."
   ]
  },
  {
   "cell_type": "markdown",
   "id": "881477da",
   "metadata": {
    "_cell_guid": "ca8cb3dd-a234-4a4e-9d16-2654a1ad93f7",
    "_uuid": "1b61fca7-23c1-4c03-8ef9-6e1f2a2f8b39",
    "papermill": {
     "duration": 0.018058,
     "end_time": "2024-01-11T04:44:05.356604",
     "exception": false,
     "start_time": "2024-01-11T04:44:05.338546",
     "status": "completed"
    },
    "tags": []
   },
   "source": [
    "the above model just imports the decision tree regressors."
   ]
  },
  {
   "cell_type": "code",
   "execution_count": 6,
   "id": "cdaf08ed",
   "metadata": {
    "_cell_guid": "b901cb1a-a348-4486-899c-69ed7a2dbf6d",
    "_uuid": "1972fae8-0b4e-4b42-a343-c666db559d5e",
    "collapsed": false,
    "execution": {
     "iopub.execute_input": "2024-01-11T04:44:05.395007Z",
     "iopub.status.busy": "2024-01-11T04:44:05.394617Z",
     "iopub.status.idle": "2024-01-11T04:44:05.399559Z",
     "shell.execute_reply": "2024-01-11T04:44:05.398443Z"
    },
    "jupyter": {
     "outputs_hidden": false
    },
    "papermill": {
     "duration": 0.026982,
     "end_time": "2024-01-11T04:44:05.401842",
     "exception": false,
     "start_time": "2024-01-11T04:44:05.374860",
     "status": "completed"
    },
    "tags": []
   },
   "outputs": [],
   "source": [
    "categorical_columns = ['experience_level', 'employment_type','job_title',\n",
    "                       'employee_residence','company_location',\n",
    "                       'company_size']"
   ]
  },
  {
   "cell_type": "code",
   "execution_count": 7,
   "id": "fd4cd13f",
   "metadata": {
    "_cell_guid": "ed25a1fb-7397-4fd8-b6e1-299f2086d3b9",
    "_uuid": "c3b0f9ea-cb53-4c99-a38a-b38444f2d26e",
    "collapsed": false,
    "execution": {
     "iopub.execute_input": "2024-01-11T04:44:05.500215Z",
     "iopub.status.busy": "2024-01-11T04:44:05.499794Z",
     "iopub.status.idle": "2024-01-11T04:44:05.524128Z",
     "shell.execute_reply": "2024-01-11T04:44:05.523017Z"
    },
    "jupyter": {
     "outputs_hidden": false
    },
    "papermill": {
     "duration": 0.047239,
     "end_time": "2024-01-11T04:44:05.526880",
     "exception": false,
     "start_time": "2024-01-11T04:44:05.479641",
     "status": "completed"
    },
    "tags": []
   },
   "outputs": [],
   "source": [
    "df = pd.get_dummies(df, columns=categorical_columns, drop_first=True)"
   ]
  },
  {
   "cell_type": "markdown",
   "id": "80f940f4",
   "metadata": {
    "_cell_guid": "302dc5ee-2ba9-4651-8801-65ceb604e8e0",
    "_uuid": "77e99212-330b-444d-bb65-a52f200361ad",
    "papermill": {
     "duration": 0.018219,
     "end_time": "2024-01-11T04:44:05.564186",
     "exception": false,
     "start_time": "2024-01-11T04:44:05.545967",
     "status": "completed"
    },
    "tags": []
   },
   "source": [
    "Now that we are done hot encoding the text values as numbers, let us explore the nature of our data frame again and lets drop the unnecesary salary and salary currency columns as they do not aid in the prediction in any way , the currency part is already justified by location and residence."
   ]
  },
  {
   "cell_type": "code",
   "execution_count": 8,
   "id": "a4d855d9",
   "metadata": {
    "_cell_guid": "ef4e5a7b-c45a-4b3d-bb8a-519200ba9a54",
    "_uuid": "ff471c1b-6932-4c87-ade7-bcecaba095c3",
    "collapsed": false,
    "execution": {
     "iopub.execute_input": "2024-01-11T04:44:05.603187Z",
     "iopub.status.busy": "2024-01-11T04:44:05.602762Z",
     "iopub.status.idle": "2024-01-11T04:44:05.626204Z",
     "shell.execute_reply": "2024-01-11T04:44:05.625041Z"
    },
    "jupyter": {
     "outputs_hidden": false
    },
    "papermill": {
     "duration": 0.04559,
     "end_time": "2024-01-11T04:44:05.628506",
     "exception": false,
     "start_time": "2024-01-11T04:44:05.582916",
     "status": "completed"
    },
    "tags": []
   },
   "outputs": [
    {
     "data": {
      "text/html": [
       "<div>\n",
       "<style scoped>\n",
       "    .dataframe tbody tr th:only-of-type {\n",
       "        vertical-align: middle;\n",
       "    }\n",
       "\n",
       "    .dataframe tbody tr th {\n",
       "        vertical-align: top;\n",
       "    }\n",
       "\n",
       "    .dataframe thead th {\n",
       "        text-align: right;\n",
       "    }\n",
       "</style>\n",
       "<table border=\"1\" class=\"dataframe\">\n",
       "  <thead>\n",
       "    <tr style=\"text-align: right;\">\n",
       "      <th></th>\n",
       "      <th>work_year</th>\n",
       "      <th>salary_in_usd</th>\n",
       "      <th>remote_ratio</th>\n",
       "    </tr>\n",
       "  </thead>\n",
       "  <tbody>\n",
       "    <tr>\n",
       "      <th>count</th>\n",
       "      <td>3755.000000</td>\n",
       "      <td>3755.000000</td>\n",
       "      <td>3755.000000</td>\n",
       "    </tr>\n",
       "    <tr>\n",
       "      <th>mean</th>\n",
       "      <td>2022.373635</td>\n",
       "      <td>137570.389880</td>\n",
       "      <td>46.271638</td>\n",
       "    </tr>\n",
       "    <tr>\n",
       "      <th>std</th>\n",
       "      <td>0.691448</td>\n",
       "      <td>63055.625278</td>\n",
       "      <td>48.589050</td>\n",
       "    </tr>\n",
       "    <tr>\n",
       "      <th>min</th>\n",
       "      <td>2020.000000</td>\n",
       "      <td>5132.000000</td>\n",
       "      <td>0.000000</td>\n",
       "    </tr>\n",
       "    <tr>\n",
       "      <th>25%</th>\n",
       "      <td>2022.000000</td>\n",
       "      <td>95000.000000</td>\n",
       "      <td>0.000000</td>\n",
       "    </tr>\n",
       "    <tr>\n",
       "      <th>50%</th>\n",
       "      <td>2022.000000</td>\n",
       "      <td>135000.000000</td>\n",
       "      <td>0.000000</td>\n",
       "    </tr>\n",
       "    <tr>\n",
       "      <th>75%</th>\n",
       "      <td>2023.000000</td>\n",
       "      <td>175000.000000</td>\n",
       "      <td>100.000000</td>\n",
       "    </tr>\n",
       "    <tr>\n",
       "      <th>max</th>\n",
       "      <td>2023.000000</td>\n",
       "      <td>450000.000000</td>\n",
       "      <td>100.000000</td>\n",
       "    </tr>\n",
       "  </tbody>\n",
       "</table>\n",
       "</div>"
      ],
      "text/plain": [
       "         work_year  salary_in_usd  remote_ratio\n",
       "count  3755.000000    3755.000000   3755.000000\n",
       "mean   2022.373635  137570.389880     46.271638\n",
       "std       0.691448   63055.625278     48.589050\n",
       "min    2020.000000    5132.000000      0.000000\n",
       "25%    2022.000000   95000.000000      0.000000\n",
       "50%    2022.000000  135000.000000      0.000000\n",
       "75%    2023.000000  175000.000000    100.000000\n",
       "max    2023.000000  450000.000000    100.000000"
      ]
     },
     "execution_count": 8,
     "metadata": {},
     "output_type": "execute_result"
    }
   ],
   "source": [
    "df.describe()"
   ]
  },
  {
   "cell_type": "markdown",
   "id": "cf5108f8",
   "metadata": {
    "_cell_guid": "7eb64cf6-07c7-422e-89f4-e192f516f22c",
    "_uuid": "ad86768d-6d7d-4149-8ae5-f8f7e525c518",
    "papermill": {
     "duration": 0.018336,
     "end_time": "2024-01-11T04:44:05.665255",
     "exception": false,
     "start_time": "2024-01-11T04:44:05.646919",
     "status": "completed"
    },
    "tags": []
   },
   "source": [
    "Now we proceed with selecting the predictor variables and the target variable."
   ]
  },
  {
   "cell_type": "code",
   "execution_count": 9,
   "id": "15bd1341",
   "metadata": {
    "_cell_guid": "bcae2df2-7034-48ea-b4e0-58cd62f098f9",
    "_uuid": "70ef2288-04a4-44ea-bc8e-3b77f65e5ab0",
    "collapsed": false,
    "execution": {
     "iopub.execute_input": "2024-01-11T04:44:05.706140Z",
     "iopub.status.busy": "2024-01-11T04:44:05.705721Z",
     "iopub.status.idle": "2024-01-11T04:44:05.728658Z",
     "shell.execute_reply": "2024-01-11T04:44:05.727497Z"
    },
    "jupyter": {
     "outputs_hidden": false
    },
    "papermill": {
     "duration": 0.047184,
     "end_time": "2024-01-11T04:44:05.732358",
     "exception": false,
     "start_time": "2024-01-11T04:44:05.685174",
     "status": "completed"
    },
    "tags": []
   },
   "outputs": [
    {
     "name": "stdout",
     "output_type": "stream",
     "text": [
      "<class 'pandas.core.frame.DataFrame'>\n",
      "RangeIndex: 3755 entries, 0 to 3754\n",
      "Columns: 251 entries, work_year to company_size_S\n",
      "dtypes: bool(248), int64(3)\n",
      "memory usage: 997.5 KB\n",
      "None\n"
     ]
    }
   ],
   "source": [
    "print(df.info())"
   ]
  },
  {
   "cell_type": "code",
   "execution_count": 10,
   "id": "d921d19c",
   "metadata": {
    "_cell_guid": "b3800d2f-3daa-479f-865f-c17a0636e34f",
    "_uuid": "5a908f4d-5f28-4f91-bdaa-bbd1b36cc645",
    "collapsed": false,
    "execution": {
     "iopub.execute_input": "2024-01-11T04:44:05.771666Z",
     "iopub.status.busy": "2024-01-11T04:44:05.771275Z",
     "iopub.status.idle": "2024-01-11T04:44:05.778254Z",
     "shell.execute_reply": "2024-01-11T04:44:05.777126Z"
    },
    "jupyter": {
     "outputs_hidden": false
    },
    "papermill": {
     "duration": 0.029272,
     "end_time": "2024-01-11T04:44:05.780504",
     "exception": false,
     "start_time": "2024-01-11T04:44:05.751232",
     "status": "completed"
    },
    "tags": []
   },
   "outputs": [],
   "source": [
    "#predictors\n",
    "features=df.drop(columns=['salary_in_usd'])\n",
    "X=features\n",
    "#target variables.\n",
    "Y=df['salary_in_usd']"
   ]
  },
  {
   "cell_type": "markdown",
   "id": "6230b858",
   "metadata": {
    "_cell_guid": "ddc5dcb0-abf1-4039-b9de-0d833af747b1",
    "_uuid": "0cecf832-508f-4e09-afbf-9fa0db967de2",
    "papermill": {
     "duration": 0.018609,
     "end_time": "2024-01-11T04:44:05.818504",
     "exception": false,
     "start_time": "2024-01-11T04:44:05.799895",
     "status": "completed"
    },
    "tags": []
   },
   "source": [
    "Now we have selected values for target and features for predictions."
   ]
  },
  {
   "cell_type": "code",
   "execution_count": 11,
   "id": "af609201",
   "metadata": {
    "_cell_guid": "df68affe-69cf-4727-bcef-7af6915cd669",
    "_uuid": "ec717f76-9eb9-486c-82fa-e0182fe5eea4",
    "collapsed": false,
    "execution": {
     "iopub.execute_input": "2024-01-11T04:44:05.859170Z",
     "iopub.status.busy": "2024-01-11T04:44:05.858537Z",
     "iopub.status.idle": "2024-01-11T04:44:05.868047Z",
     "shell.execute_reply": "2024-01-11T04:44:05.867250Z"
    },
    "jupyter": {
     "outputs_hidden": false
    },
    "papermill": {
     "duration": 0.032669,
     "end_time": "2024-01-11T04:44:05.870342",
     "exception": false,
     "start_time": "2024-01-11T04:44:05.837673",
     "status": "completed"
    },
    "tags": []
   },
   "outputs": [],
   "source": [
    "X_train, X_test, y_train, y_test = train_test_split(X, Y, test_size=0.2, random_state=1)"
   ]
  },
  {
   "cell_type": "markdown",
   "id": "a6316fe2",
   "metadata": {
    "_cell_guid": "bf2de90f-45d6-45e2-8b7b-7ee6d2729d8c",
    "_uuid": "475581f0-cfba-48d4-9372-fe4667174c9c",
    "papermill": {
     "duration": 0.019151,
     "end_time": "2024-01-11T04:44:05.908218",
     "exception": false,
     "start_time": "2024-01-11T04:44:05.889067",
     "status": "completed"
    },
    "tags": []
   },
   "source": [
    "We split the data now. And then train the model and test it for various leaf node values."
   ]
  },
  {
   "cell_type": "markdown",
   "id": "892edf4b",
   "metadata": {
    "_cell_guid": "35af22cf-6205-4a3d-b0e2-b81de9ebc545",
    "_uuid": "dc5f1946-4a2e-4916-93df-186f414dca79",
    "papermill": {
     "duration": 0.018275,
     "end_time": "2024-01-11T04:44:05.945533",
     "exception": false,
     "start_time": "2024-01-11T04:44:05.927258",
     "status": "completed"
    },
    "tags": []
   },
   "source": [
    "Now we know that the minimal error is found in around 42 leaves."
   ]
  },
  {
   "cell_type": "markdown",
   "id": "b5485934",
   "metadata": {
    "_cell_guid": "53d711e0-0d1d-4e37-93b5-2a02fddfae07",
    "_uuid": "504bd481-6686-49f9-bd4b-a01c3ee11de7",
    "papermill": {
     "duration": 0.018339,
     "end_time": "2024-01-11T04:44:05.982384",
     "exception": false,
     "start_time": "2024-01-11T04:44:05.964045",
     "status": "completed"
    },
    "tags": []
   },
   "source": [
    "We got the minimal value of the error based on number of leaves."
   ]
  },
  {
   "cell_type": "markdown",
   "id": "19fad8d6",
   "metadata": {
    "_cell_guid": "7dfbfe0e-4e6c-4afc-931d-29252a83a68f",
    "_uuid": "66008bf6-5964-4aa5-97de-95527357035a",
    "papermill": {
     "duration": 0.018296,
     "end_time": "2024-01-11T04:44:06.019380",
     "exception": false,
     "start_time": "2024-01-11T04:44:06.001084",
     "status": "completed"
    },
    "tags": []
   },
   "source": [
    "We get the fact that 38 leaf nodes mean the most accurate readings in this case , i.e. sqrt(mse) is 51 k approximately."
   ]
  },
  {
   "cell_type": "code",
   "execution_count": 12,
   "id": "d2cb91b6",
   "metadata": {
    "_cell_guid": "42c4ea71-eb6b-4401-849e-f806460f9d6b",
    "_uuid": "50e7e395-74a9-41f7-8f69-ae53278acae5",
    "collapsed": false,
    "execution": {
     "iopub.execute_input": "2024-01-11T04:44:06.060253Z",
     "iopub.status.busy": "2024-01-11T04:44:06.059825Z",
     "iopub.status.idle": "2024-01-11T04:44:06.119380Z",
     "shell.execute_reply": "2024-01-11T04:44:06.118173Z"
    },
    "jupyter": {
     "outputs_hidden": false
    },
    "papermill": {
     "duration": 0.082118,
     "end_time": "2024-01-11T04:44:06.121786",
     "exception": false,
     "start_time": "2024-01-11T04:44:06.039668",
     "status": "completed"
    },
    "tags": []
   },
   "outputs": [
    {
     "name": "stdout",
     "output_type": "stream",
     "text": [
      "2608064863.927558\n"
     ]
    }
   ],
   "source": [
    "regressor_trained = DecisionTreeRegressor(max_leaf_nodes=38,random_state=1)\n",
    "    # Train the model\n",
    "regressor_trained.fit(X_train, y_train)\n",
    "    # Make predictions on the test set\n",
    "y_pred = regressor_trained.predict(X_test)\n",
    "    # Evaluate the model\n",
    "mse = mean_squared_error(y_test, y_pred)\n",
    "print(mse)"
   ]
  },
  {
   "cell_type": "markdown",
   "id": "c1c179f1",
   "metadata": {
    "_cell_guid": "3310fc32-4a6c-49e6-bd96-d11283c398c1",
    "_uuid": "3d01dd04-5f1e-4025-ba04-2838125dc494",
    "papermill": {
     "duration": 0.022198,
     "end_time": "2024-01-11T04:44:06.165791",
     "exception": false,
     "start_time": "2024-01-11T04:44:06.143593",
     "status": "completed"
    },
    "tags": []
   },
   "source": [
    "Now that is a huge mse in this case where we are trying to predict the salaries of people,even on an annual basis.Let us try getting a value of the mean absolute error for a better insight in this case."
   ]
  },
  {
   "cell_type": "code",
   "execution_count": 13,
   "id": "3a6051db",
   "metadata": {
    "_cell_guid": "0841c3e5-2e19-48ae-871b-335c1616f937",
    "_uuid": "ed410b3f-b354-48a7-820d-fe81669377c4",
    "collapsed": false,
    "execution": {
     "iopub.execute_input": "2024-01-11T04:44:06.217560Z",
     "iopub.status.busy": "2024-01-11T04:44:06.216530Z",
     "iopub.status.idle": "2024-01-11T04:44:06.224004Z",
     "shell.execute_reply": "2024-01-11T04:44:06.222863Z"
    },
    "jupyter": {
     "outputs_hidden": false
    },
    "papermill": {
     "duration": 0.034633,
     "end_time": "2024-01-11T04:44:06.226306",
     "exception": false,
     "start_time": "2024-01-11T04:44:06.191673",
     "status": "completed"
    },
    "tags": []
   },
   "outputs": [
    {
     "name": "stdout",
     "output_type": "stream",
     "text": [
      "37209.57648122867\n"
     ]
    }
   ],
   "source": [
    "from sklearn.metrics import mean_absolute_error\n",
    "mae = mean_absolute_error(y_test, y_pred)\n",
    "print(mae)"
   ]
  },
  {
   "cell_type": "markdown",
   "id": "68c28eac",
   "metadata": {
    "_cell_guid": "7626b630-c695-4f1a-b7f0-27e741efa85b",
    "_uuid": "b8cc0220-97c6-4bf6-81e0-089616935415",
    "papermill": {
     "duration": 0.018525,
     "end_time": "2024-01-11T04:44:06.267468",
     "exception": false,
     "start_time": "2024-01-11T04:44:06.248943",
     "status": "completed"
    },
    "tags": []
   },
   "source": [
    "Now we proceed with the fact that we may predict a salary with + or - 37.2K in USD value.\n",
    "That infact is INR 30,99,783 i.e around 31 lakh rupees as on 27th of december 2023.\n",
    "Surely this won't be the case everytime , but further model optimisation will be required for appropriate real life usage."
   ]
  },
  {
   "cell_type": "markdown",
   "id": "e6fd91f8",
   "metadata": {
    "_cell_guid": "68b096c1-38cf-4de0-b657-35604443885c",
    "_uuid": "4a4acded-d1e2-43d0-9707-5f9028b9fbaf",
    "papermill": {
     "duration": 0.018758,
     "end_time": "2024-01-11T04:44:06.305275",
     "exception": false,
     "start_time": "2024-01-11T04:44:06.286517",
     "status": "completed"
    },
    "tags": []
   },
   "source": [
    "The next is a scatter plot for comparision of our prediction values."
   ]
  },
  {
   "cell_type": "code",
   "execution_count": 14,
   "id": "c1c539fc",
   "metadata": {
    "_cell_guid": "e6605298-bf9b-4533-9cd3-ea35c2abd994",
    "_uuid": "6fa40277-0bbc-4ab6-948b-51df2ec378c4",
    "collapsed": false,
    "execution": {
     "iopub.execute_input": "2024-01-11T04:44:06.345363Z",
     "iopub.status.busy": "2024-01-11T04:44:06.344686Z",
     "iopub.status.idle": "2024-01-11T04:44:06.723371Z",
     "shell.execute_reply": "2024-01-11T04:44:06.722168Z"
    },
    "jupyter": {
     "outputs_hidden": false
    },
    "papermill": {
     "duration": 0.402008,
     "end_time": "2024-01-11T04:44:06.726484",
     "exception": false,
     "start_time": "2024-01-11T04:44:06.324476",
     "status": "completed"
    },
    "tags": []
   },
   "outputs": [
    {
     "data": {
      "image/png": "[encoded data removed]",
      "text/plain": [
       "<Figure size 640x480 with 1 Axes>"
      ]
     },
     "metadata": {},
     "output_type": "display_data"
    }
   ],
   "source": [
    "import matplotlib.pyplot as plt\n",
    "\n",
    "# Scatter plot for Decision Tree Regressor\n",
    "plt.scatter(y_test, y_pred, color='blue', label='Decision Tree Predictions')\n",
    "plt.xlabel('Actual Salary (USD)')\n",
    "plt.ylabel('Predicted Salary (USD)')\n",
    "plt.title('Decision Tree Regressor: Actual vs Predicted')\n",
    "plt.legend()\n",
    "plt.show()"
   ]
  },
  {
   "cell_type": "markdown",
   "id": "5f259fff",
   "metadata": {
    "_cell_guid": "0b16f2e3-fcd9-4c1f-b24d-b7a34780b361",
    "_uuid": "c78bcf20-a1fe-45e4-8937-8c5ecc51910d",
    "papermill": {
     "duration": 0.02438,
     "end_time": "2024-01-11T04:44:06.771691",
     "exception": false,
     "start_time": "2024-01-11T04:44:06.747311",
     "status": "completed"
    },
    "tags": []
   },
   "source": [
    "We draw a box plot"
   ]
  },
  {
   "cell_type": "code",
   "execution_count": 15,
   "id": "fd75207a",
   "metadata": {
    "_cell_guid": "9ca09734-575c-492e-9b25-6f5b4118615d",
    "_uuid": "e5e5da7a-6ce9-4c24-a11b-4e890ea121a0",
    "collapsed": false,
    "execution": {
     "iopub.execute_input": "2024-01-11T04:44:06.816584Z",
     "iopub.status.busy": "2024-01-11T04:44:06.816050Z",
     "iopub.status.idle": "2024-01-11T04:44:07.063351Z",
     "shell.execute_reply": "2024-01-11T04:44:07.062137Z"
    },
    "jupyter": {
     "outputs_hidden": false
    },
    "papermill": {
     "duration": 0.270916,
     "end_time": "2024-01-11T04:44:07.065811",
     "exception": false,
     "start_time": "2024-01-11T04:44:06.794895",
     "status": "completed"
    },
    "tags": []
   },
   "outputs": [
    {
     "data": {
      "image/png": "[encoded data removed]",
      "text/plain": [
       "<Figure size 640x480 with 1 Axes>"
      ]
     },
     "metadata": {},
     "output_type": "display_data"
    }
   ],
   "source": [
    "plt.boxplot([y_test, y_pred], labels=['Actual', 'Predicted'])\n",
    "plt.ylabel('Salary (USD)')\n",
    "plt.title('Box Plot: Actual vs Predicted')\n",
    "plt.show()"
   ]
  },
  {
   "cell_type": "markdown",
   "id": "39b94d8e",
   "metadata": {
    "_cell_guid": "b0ad65af-e208-434d-baea-0e5bc73bbea8",
    "_uuid": "229d0f1f-57f6-4bdf-8143-66d5707be233",
    "papermill": {
     "duration": 0.020862,
     "end_time": "2024-01-11T04:44:07.106903",
     "exception": false,
     "start_time": "2024-01-11T04:44:07.086041",
     "status": "completed"
    },
    "tags": []
   },
   "source": [
    "We go for line plots now.Although a line plot based on time would not even be a reliable one.\n",
    "And that my friends, is the reason we do not go for line plots."
   ]
  },
  {
   "cell_type": "markdown",
   "id": "37883c4b",
   "metadata": {
    "_cell_guid": "3e981ef8-60ae-4218-b04d-c6436cfd145b",
    "_uuid": "ea66e952-8588-4f37-ad13-66fde8ced794",
    "papermill": {
     "duration": 0.020063,
     "end_time": "2024-01-11T04:44:07.148869",
     "exception": false,
     "start_time": "2024-01-11T04:44:07.128806",
     "status": "completed"
    },
    "tags": []
   },
   "source": [
    "Lets proceed with residual plot"
   ]
  },
  {
   "cell_type": "code",
   "execution_count": 16,
   "id": "32a4adb4",
   "metadata": {
    "_cell_guid": "e96023be-5c31-44d6-a326-931f093f322f",
    "_uuid": "9ac80756-8254-42a7-80c4-bb7c01bb3193",
    "collapsed": false,
    "execution": {
     "iopub.execute_input": "2024-01-11T04:44:07.192300Z",
     "iopub.status.busy": "2024-01-11T04:44:07.191207Z",
     "iopub.status.idle": "2024-01-11T04:44:07.497666Z",
     "shell.execute_reply": "2024-01-11T04:44:07.496487Z"
    },
    "jupyter": {
     "outputs_hidden": false
    },
    "papermill": {
     "duration": 0.331141,
     "end_time": "2024-01-11T04:44:07.500490",
     "exception": false,
     "start_time": "2024-01-11T04:44:07.169349",
     "status": "completed"
    },
    "tags": []
   },
   "outputs": [
    {
     "data": {
      "image/png": "[encoded data removed]",
      "text/plain": [
       "<Figure size 640x480 with 1 Axes>"
      ]
     },
     "metadata": {},
     "output_type": "display_data"
    }
   ],
   "source": [
    "residuals = y_test - y_pred\n",
    "plt.scatter(y_pred, residuals, color='red')\n",
    "plt.axhline(y=0, color='black', linestyle='--')\n",
    "plt.xlabel('Predicted Values')\n",
    "plt.ylabel('Residuals')\n",
    "plt.title('Residual Plot')\n",
    "plt.show()"
   ]
  },
  {
   "cell_type": "markdown",
   "id": "99a0d23a",
   "metadata": {
    "_cell_guid": "5fb47e2f-60ed-4769-ad51-045f582fd0af",
    "_uuid": "f8f24286-a577-4623-9878-1e87ac24c292",
    "papermill": {
     "duration": 0.021788,
     "end_time": "2024-01-11T04:44:07.544250",
     "exception": false,
     "start_time": "2024-01-11T04:44:07.522462",
     "status": "completed"
    },
    "tags": []
   },
   "source": [
    "The above plot displays the error or residues in individual predictions in case of Various residues, with your own salary predicted via the model , you could judge how reliable your own future prediction is."
   ]
  },
  {
   "cell_type": "markdown",
   "id": "d51482fd",
   "metadata": {
    "_cell_guid": "d3ee078c-fdc4-4c12-ae76-1130e15375ac",
    "_uuid": "31ab24e8-0ad8-47a7-8e97-3bc63388a317",
    "papermill": {
     "duration": 0.020563,
     "end_time": "2024-01-11T04:44:07.585595",
     "exception": false,
     "start_time": "2024-01-11T04:44:07.565032",
     "status": "completed"
    },
    "tags": []
   },
   "source": [
    "We proceed with a distribution plot which plays the same role."
   ]
  },
  {
   "cell_type": "code",
   "execution_count": 17,
   "id": "d0f433f0",
   "metadata": {
    "_cell_guid": "08a8a2a0-1668-4fc3-9ba1-828b6ce9bd8d",
    "_uuid": "dbb6577c-d82f-4bdc-add2-aad532fde616",
    "collapsed": false,
    "execution": {
     "iopub.execute_input": "2024-01-11T04:44:07.629312Z",
     "iopub.status.busy": "2024-01-11T04:44:07.628887Z",
     "iopub.status.idle": "2024-01-11T04:44:07.978615Z",
     "shell.execute_reply": "2024-01-11T04:44:07.977798Z"
    },
    "jupyter": {
     "outputs_hidden": false
    },
    "papermill": {
     "duration": 0.374436,
     "end_time": "2024-01-11T04:44:07.980891",
     "exception": false,
     "start_time": "2024-01-11T04:44:07.606455",
     "status": "completed"
    },
    "tags": []
   },
   "outputs": [
    {
     "data": {
      "image/png": "[encoded data removed]",
      "text/plain": [
       "<Figure size 640x480 with 1 Axes>"
      ]
     },
     "metadata": {},
     "output_type": "display_data"
    }
   ],
   "source": [
    "plt.hist(y_test, alpha=0.5, label='Actual', color='blue')\n",
    "plt.hist(y_pred, alpha=0.5, label='Predicted', color='orange')\n",
    "plt.xlabel('Salary (USD)')\n",
    "plt.ylabel('Frequency')\n",
    "plt.title('Distribution of Actual and Predicted Values')\n",
    "plt.legend()\n",
    "plt.show()"
   ]
  },
  {
   "cell_type": "markdown",
   "id": "7eb445c0",
   "metadata": {
    "_cell_guid": "9d8b1287-98a9-44fd-871c-8b5cfb3c6b89",
    "_uuid": "5d1cf368-e461-43ab-bbb2-bd484d64b384",
    "papermill": {
     "duration": 0.021733,
     "end_time": "2024-01-11T04:44:08.024925",
     "exception": false,
     "start_time": "2024-01-11T04:44:08.003192",
     "status": "completed"
    },
    "tags": []
   },
   "source": [
    "Now we proceed with a violin plot using seaborn."
   ]
  },
  {
   "cell_type": "code",
   "execution_count": 18,
   "id": "e81369fe",
   "metadata": {
    "_cell_guid": "b85dda82-1918-47cc-8175-277e84619119",
    "_uuid": "e30e4159-e532-4b43-90f6-2df84233a673",
    "collapsed": false,
    "execution": {
     "iopub.execute_input": "2024-01-11T04:44:08.070321Z",
     "iopub.status.busy": "2024-01-11T04:44:08.069717Z",
     "iopub.status.idle": "2024-01-11T04:44:08.731225Z",
     "shell.execute_reply": "2024-01-11T04:44:08.730033Z"
    },
    "jupyter": {
     "outputs_hidden": false
    },
    "papermill": {
     "duration": 0.686983,
     "end_time": "2024-01-11T04:44:08.733960",
     "exception": false,
     "start_time": "2024-01-11T04:44:08.046977",
     "status": "completed"
    },
    "tags": []
   },
   "outputs": [
    {
     "data": {
      "image/png": "[encoded data removed]",
      "text/plain": [
       "<Figure size 640x480 with 1 Axes>"
      ]
     },
     "metadata": {},
     "output_type": "display_data"
    }
   ],
   "source": [
    "import seaborn as sns\n",
    "sns.violinplot(data=[y_test, y_pred], orient='h', palette=['blue', 'orange'])\n",
    "plt.xlabel('Salary (USD)')\n",
    "plt.title('Violin Plot: Actual vs Predicted')\n",
    "plt.show()"
   ]
  },
  {
   "cell_type": "markdown",
   "id": "dadcbc3c",
   "metadata": {
    "_cell_guid": "8c69c009-b24b-40a9-8f93-16f8ad16423b",
    "_uuid": "73388ce0-de21-4752-b430-fcab25c96500",
    "papermill": {
     "duration": 0.022102,
     "end_time": "2024-01-11T04:44:08.778185",
     "exception": false,
     "start_time": "2024-01-11T04:44:08.756083",
     "status": "completed"
    },
    "tags": []
   },
   "source": [
    "The above plot is similar to a box plot but with a kernel density estimation, which also describes the frequency."
   ]
  },
  {
   "cell_type": "markdown",
   "id": "a3fc66db",
   "metadata": {
    "_cell_guid": "a26fb5ff-ea79-47b7-a020-297263eaa546",
    "_uuid": "a1053129-a3c1-49c5-b07b-9cc4f354c8c1",
    "papermill": {
     "duration": 0.02145,
     "end_time": "2024-01-11T04:44:08.822461",
     "exception": false,
     "start_time": "2024-01-11T04:44:08.801011",
     "status": "completed"
    },
    "tags": []
   },
   "source": [
    "Feel free to provide suggestions."
   ]
  },
  {
   "cell_type": "markdown",
   "id": "007a4bbe",
   "metadata": {
    "_cell_guid": "794e861e-ebe2-4f0f-b0b0-05ef15c52449",
    "_uuid": "20ac62e0-7597-4ce4-a0d9-e8e8e79060fe",
    "papermill": {
     "duration": 0.021695,
     "end_time": "2024-01-11T04:44:08.866306",
     "exception": false,
     "start_time": "2024-01-11T04:44:08.844611",
     "status": "completed"
    },
    "tags": []
   },
   "source": [
    "We have decided to work further by implementing another ml model on the same dataset for better results.\n",
    "We go ahead with random forest regression.\n",
    "We train and retrain and check accuracy till we find out the estimators required for maximum accuracy."
   ]
  },
  {
   "cell_type": "code",
   "execution_count": 19,
   "id": "6df55639",
   "metadata": {
    "_cell_guid": "b8313d61-804e-42aa-b686-69d56f158a2b",
    "_uuid": "386caa0c-65f8-4d1f-ab38-89ad30c214fd",
    "collapsed": false,
    "execution": {
     "iopub.execute_input": "2024-01-11T04:44:08.912111Z",
     "iopub.status.busy": "2024-01-11T04:44:08.911670Z",
     "iopub.status.idle": "2024-01-11T04:44:09.003686Z",
     "shell.execute_reply": "2024-01-11T04:44:09.002395Z"
    },
    "jupyter": {
     "outputs_hidden": false
    },
    "papermill": {
     "duration": 0.118775,
     "end_time": "2024-01-11T04:44:09.006834",
     "exception": false,
     "start_time": "2024-01-11T04:44:08.888059",
     "status": "completed"
    },
    "tags": []
   },
   "outputs": [],
   "source": [
    "from sklearn.ensemble import RandomForestRegressor\n",
    "from sklearn.metrics import mean_absolute_error\n",
    "import matplotlib.pyplot as plt\n",
    "\n",
    "# Assuming you already have X_train, X_test, y_train, y_test"
   ]
  },
  {
   "cell_type": "markdown",
   "id": "21967566",
   "metadata": {
    "_cell_guid": "efada163-d650-49fc-9adc-8b16a09c379c",
    "_uuid": "2fbaf2e8-f421-4116-898e-d81a4af4355b",
    "papermill": {
     "duration": 0.02152,
     "end_time": "2024-01-11T04:44:09.050371",
     "exception": false,
     "start_time": "2024-01-11T04:44:09.028851",
     "status": "completed"
    },
    "tags": []
   },
   "source": [
    "WE have included the necessary packages now , lets proceed on a function for model building and training."
   ]
  },
  {
   "cell_type": "code",
   "execution_count": 20,
   "id": "c5836b2b",
   "metadata": {
    "_cell_guid": "5073930b-64e7-405e-b898-5ac500a777ab",
    "_uuid": "ebb2ff4c-1acc-46bf-ab31-109cd48816b2",
    "collapsed": false,
    "execution": {
     "iopub.execute_input": "2024-01-11T04:44:09.095867Z",
     "iopub.status.busy": "2024-01-11T04:44:09.095472Z",
     "iopub.status.idle": "2024-01-11T04:44:09.101770Z",
     "shell.execute_reply": "2024-01-11T04:44:09.100690Z"
    },
    "jupyter": {
     "outputs_hidden": false
    },
    "papermill": {
     "duration": 0.03196,
     "end_time": "2024-01-11T04:44:09.104152",
     "exception": false,
     "start_time": "2024-01-11T04:44:09.072192",
     "status": "completed"
    },
    "tags": []
   },
   "outputs": [],
   "source": [
    "# Create a Random Forest Regressor\n",
    "def test_till_best(estimators,X_train,y_train,X_test,y_test):\n",
    "    rf_regressor = RandomForestRegressor(n_estimators=estimators, random_state=42)\n",
    "    # Train the model\n",
    "    rf_regressor.fit(X_train, y_train)\n",
    "    # Make predictions on the test set\n",
    "    y_pred_rf = rf_regressor.predict(X_test)\n",
    "    # Evaluate the model\n",
    "    mae_rf = mean_absolute_error(y_test, y_pred_rf)\n",
    "    return mae_rf"
   ]
  },
  {
   "cell_type": "markdown",
   "id": "529531bc",
   "metadata": {
    "_cell_guid": "9b85c6dd-fd68-4c70-b0f2-e40ba7e75a22",
    "_uuid": "51f0728b-c349-4131-b35e-76a739aa06c9",
    "papermill": {
     "duration": 0.022153,
     "end_time": "2024-01-11T04:44:09.148837",
     "exception": false,
     "start_time": "2024-01-11T04:44:09.126684",
     "status": "completed"
    },
    "tags": []
   },
   "source": [
    "Lets use the function iteratively to find out the optimal hyperparameters.You may have to tune in the loop function parameters for getting the results done in human time :)."
   ]
  },
  {
   "cell_type": "markdown",
   "id": "62a70853",
   "metadata": {
    "_cell_guid": "df53c7df-5ea1-40fc-8341-ac914801748e",
    "_uuid": "9545614a-f5b0-4ee6-b9ba-40de27973940",
    "papermill": {
     "duration": 0.02185,
     "end_time": "2024-01-11T04:44:09.192610",
     "exception": false,
     "start_time": "2024-01-11T04:44:09.170760",
     "status": "completed"
    },
    "tags": []
   },
   "source": [
    "Now based on the value of the estimators , we train and test the data on that hypertuned model for accurate predictions.\n",
    "we take 2381 estimators."
   ]
  },
  {
   "cell_type": "code",
   "execution_count": 21,
   "id": "bd97011e",
   "metadata": {
    "_cell_guid": "0b95deb7-3679-417f-94d3-16fa7f814b7b",
    "_uuid": "2c133fca-c14a-4ef7-86df-e9d18112a5d5",
    "collapsed": false,
    "execution": {
     "iopub.execute_input": "2024-01-11T04:44:09.239161Z",
     "iopub.status.busy": "2024-01-11T04:44:09.237967Z",
     "iopub.status.idle": "2024-01-11T04:44:48.299301Z",
     "shell.execute_reply": "2024-01-11T04:44:48.297870Z"
    },
    "jupyter": {
     "outputs_hidden": false
    },
    "papermill": {
     "duration": 39.108622,
     "end_time": "2024-01-11T04:44:48.323446",
     "exception": false,
     "start_time": "2024-01-11T04:44:09.214824",
     "status": "completed"
    },
    "tags": []
   },
   "outputs": [
    {
     "name": "stdout",
     "output_type": "stream",
     "text": [
      "36326.17489105133 is the mean absolute error after hypertuning the model\n"
     ]
    }
   ],
   "source": [
    "estimators=2381\n",
    "rf_regressor = RandomForestRegressor(n_estimators=estimators, random_state=42)\n",
    "    # Train the model\n",
    "rf_regressor.fit(X_train, y_train)\n",
    "    # Make predictions on the test set\n",
    "y_pred_rf = rf_regressor.predict(X_test)\n",
    "    # Evaluate the model\n",
    "mae_rf = mean_absolute_error(y_test, y_pred_rf)\n",
    "print(f\"{mae_rf} is the mean absolute error after hypertuning the model\")"
   ]
  },
  {
   "cell_type": "markdown",
   "id": "7d99764e",
   "metadata": {
    "_cell_guid": "7815ecf8-c5e2-44d6-a18c-a1f7c2a5424b",
    "_uuid": "e6c2fa5b-eadd-4c85-a254-37799a6659ba",
    "papermill": {
     "duration": 0.021824,
     "end_time": "2024-01-11T04:44:48.367509",
     "exception": false,
     "start_time": "2024-01-11T04:44:48.345685",
     "status": "completed"
    },
    "tags": []
   },
   "source": [
    "Now we can proceed on plotting the predicted and actual values using various ways to better study the behavioural patterns of our ensemble machine learning model ."
   ]
  },
  {
   "cell_type": "code",
   "execution_count": 22,
   "id": "b8ab4a05",
   "metadata": {
    "_cell_guid": "35a76168-f097-4649-9872-698ef4a8991f",
    "_uuid": "f1f2b8d0-1212-4825-9664-a3649a0550ac",
    "collapsed": false,
    "execution": {
     "iopub.execute_input": "2024-01-11T04:44:48.413203Z",
     "iopub.status.busy": "2024-01-11T04:44:48.412779Z",
     "iopub.status.idle": "2024-01-11T04:44:48.745617Z",
     "shell.execute_reply": "2024-01-11T04:44:48.744407Z"
    },
    "jupyter": {
     "outputs_hidden": false
    },
    "papermill": {
     "duration": 0.358662,
     "end_time": "2024-01-11T04:44:48.747925",
     "exception": false,
     "start_time": "2024-01-11T04:44:48.389263",
     "status": "completed"
    },
    "tags": []
   },
   "outputs": [
    {
     "data": {
      "image/png": "[encoded data removed]",
      "text/plain": [
       "<Figure size 640x480 with 1 Axes>"
      ]
     },
     "metadata": {},
     "output_type": "display_data"
    }
   ],
   "source": [
    "import matplotlib.pyplot as plt\n",
    "\n",
    "# Scatter plot for Decision Tree Regressor\n",
    "plt.scatter(y_test, y_pred, color='blue', label='RFR Predictions')\n",
    "plt.xlabel('Actual Salary (USD)')\n",
    "plt.ylabel('Predicted Salary (USD)')\n",
    "plt.title('Decision Tree Regressor: Actual vs Predicted')\n",
    "plt.legend()\n",
    "plt.show()"
   ]
  },
  {
   "cell_type": "markdown",
   "id": "4e704e2f",
   "metadata": {
    "_cell_guid": "a6c84c6c-bea8-447f-9968-ea669538d27b",
    "_uuid": "eed5c0cf-4cd3-4897-b946-1e81d2a93697",
    "papermill": {
     "duration": 0.022405,
     "end_time": "2024-01-11T04:44:48.793007",
     "exception": false,
     "start_time": "2024-01-11T04:44:48.770602",
     "status": "completed"
    },
    "tags": []
   },
   "source": [
    "boxplot"
   ]
  },
  {
   "cell_type": "code",
   "execution_count": 23,
   "id": "dca51d00",
   "metadata": {
    "_cell_guid": "ac38efb1-d73a-4cd8-8588-e6e99e17ba5b",
    "_uuid": "9f36ac0d-12d1-40d2-9280-24359437db79",
    "collapsed": false,
    "execution": {
     "iopub.execute_input": "2024-01-11T04:44:48.840601Z",
     "iopub.status.busy": "2024-01-11T04:44:48.840209Z",
     "iopub.status.idle": "2024-01-11T04:44:49.087418Z",
     "shell.execute_reply": "2024-01-11T04:44:49.086057Z"
    },
    "jupyter": {
     "outputs_hidden": false
    },
    "papermill": {
     "duration": 0.274331,
     "end_time": "2024-01-11T04:44:49.090184",
     "exception": false,
     "start_time": "2024-01-11T04:44:48.815853",
     "status": "completed"
    },
    "tags": []
   },
   "outputs": [
    {
     "data": {
      "image/png": "[encoded data removed]",
      "text/plain": [
       "<Figure size 640x480 with 1 Axes>"
      ]
     },
     "metadata": {},
     "output_type": "display_data"
    }
   ],
   "source": [
    "plt.boxplot([y_test, y_pred], labels=['Actual', 'Predicted'])\n",
    "plt.ylabel('Salary (USD)')\n",
    "plt.title('Box Plot: Actual vs Predicted')\n",
    "plt.show()"
   ]
  },
  {
   "cell_type": "markdown",
   "id": "cb7f6445",
   "metadata": {
    "_cell_guid": "936028db-43bc-419a-bdf7-af0284e853a9",
    "_uuid": "a8936f6d-c7c0-43d6-aeb0-b9ea8755ce1f",
    "papermill": {
     "duration": 0.023178,
     "end_time": "2024-01-11T04:44:49.136910",
     "exception": false,
     "start_time": "2024-01-11T04:44:49.113732",
     "status": "completed"
    },
    "tags": []
   },
   "source": [
    "scatter plot of residuals"
   ]
  },
  {
   "cell_type": "code",
   "execution_count": 24,
   "id": "0322bc00",
   "metadata": {
    "_cell_guid": "1b635348-f8b3-4a91-a8ab-61baac14fe8d",
    "_uuid": "2c8563be-b5a5-47f3-9c21-a22f3ed27eb4",
    "collapsed": false,
    "execution": {
     "iopub.execute_input": "2024-01-11T04:44:49.185468Z",
     "iopub.status.busy": "2024-01-11T04:44:49.185025Z",
     "iopub.status.idle": "2024-01-11T04:44:49.495750Z",
     "shell.execute_reply": "2024-01-11T04:44:49.494544Z"
    },
    "jupyter": {
     "outputs_hidden": false
    },
    "papermill": {
     "duration": 0.337956,
     "end_time": "2024-01-11T04:44:49.498228",
     "exception": false,
     "start_time": "2024-01-11T04:44:49.160272",
     "status": "completed"
    },
    "tags": []
   },
   "outputs": [
    {
     "data": {
      "image/png": "[encoded data removed]",
      "text/plain": [
       "<Figure size 640x480 with 1 Axes>"
      ]
     },
     "metadata": {},
     "output_type": "display_data"
    }
   ],
   "source": [
    "residuals = y_test - y_pred\n",
    "plt.scatter(y_pred, residuals, color='red')\n",
    "plt.axhline(y=0, color='black', linestyle='--')\n",
    "plt.xlabel('Predicted Values')\n",
    "plt.ylabel('Residuals')\n",
    "plt.title('Residual Plot')\n",
    "plt.show()"
   ]
  },
  {
   "cell_type": "markdown",
   "id": "fb60f718",
   "metadata": {
    "_cell_guid": "d90a0c91-6081-45e6-9078-14bca423c61c",
    "_uuid": "64237786-5161-42fc-9136-6adbae542020",
    "papermill": {
     "duration": 0.023735,
     "end_time": "2024-01-11T04:44:49.546121",
     "exception": false,
     "start_time": "2024-01-11T04:44:49.522386",
     "status": "completed"
    },
    "tags": []
   },
   "source": [
    "distribution plot"
   ]
  },
  {
   "cell_type": "code",
   "execution_count": 25,
   "id": "e06c6840",
   "metadata": {
    "_cell_guid": "a8064de1-260b-428c-9c5e-a3fe95b9d5ba",
    "_uuid": "7a846274-0508-42a4-9d8a-35d1755e7626",
    "collapsed": false,
    "execution": {
     "iopub.execute_input": "2024-01-11T04:44:49.596908Z",
     "iopub.status.busy": "2024-01-11T04:44:49.596481Z",
     "iopub.status.idle": "2024-01-11T04:44:49.940159Z",
     "shell.execute_reply": "2024-01-11T04:44:49.939038Z"
    },
    "jupyter": {
     "outputs_hidden": false
    },
    "papermill": {
     "duration": 0.372763,
     "end_time": "2024-01-11T04:44:49.942827",
     "exception": false,
     "start_time": "2024-01-11T04:44:49.570064",
     "status": "completed"
    },
    "tags": []
   },
   "outputs": [
    {
     "data": {
      "image/png": "[encoded data removed]",
      "text/plain": [
       "<Figure size 640x480 with 1 Axes>"
      ]
     },
     "metadata": {},
     "output_type": "display_data"
    }
   ],
   "source": [
    "plt.hist(y_test, alpha=0.5, label='Actual', color='blue')\n",
    "plt.hist(y_pred, alpha=0.5, label='Predicted', color='orange')\n",
    "plt.xlabel('Salary (USD)')\n",
    "plt.ylabel('Frequency')\n",
    "plt.title('Distribution of Actual and Predicted Values')\n",
    "plt.legend()\n",
    "plt.show()"
   ]
  },
  {
   "cell_type": "markdown",
   "id": "f4007df2",
   "metadata": {
    "_cell_guid": "ea249cef-b4ca-4abd-9feb-8133f4d5c383",
    "_uuid": "50169cc4-9fd5-4ede-888a-aeeebce3def9",
    "papermill": {
     "duration": 0.024331,
     "end_time": "2024-01-11T04:44:49.991777",
     "exception": false,
     "start_time": "2024-01-11T04:44:49.967446",
     "status": "completed"
    },
    "tags": []
   },
   "source": [
    "violin plot"
   ]
  },
  {
   "cell_type": "code",
   "execution_count": 26,
   "id": "427735ac",
   "metadata": {
    "_cell_guid": "2296c423-7abb-4f73-b0ce-3966282109c5",
    "_uuid": "f285ace3-dd54-4cdb-b794-e71584b039a8",
    "collapsed": false,
    "execution": {
     "iopub.execute_input": "2024-01-11T04:44:50.042985Z",
     "iopub.status.busy": "2024-01-11T04:44:50.042612Z",
     "iopub.status.idle": "2024-01-11T04:44:50.345951Z",
     "shell.execute_reply": "2024-01-11T04:44:50.344826Z"
    },
    "jupyter": {
     "outputs_hidden": false
    },
    "papermill": {
     "duration": 0.332379,
     "end_time": "2024-01-11T04:44:50.348988",
     "exception": false,
     "start_time": "2024-01-11T04:44:50.016609",
     "status": "completed"
    },
    "tags": []
   },
   "outputs": [
    {
     "data": {
      "image/png": "[encoded data removed]",
      "text/plain": [
       "<Figure size 640x480 with 1 Axes>"
      ]
     },
     "metadata": {},
     "output_type": "display_data"
    }
   ],
   "source": [
    "import seaborn as sns\n",
    "sns.violinplot(data=[y_test, y_pred], orient='h', palette=['blue', 'orange'])\n",
    "plt.xlabel('Salary (USD)')\n",
    "plt.title('Violin Plot: Actual vs Predicted')\n",
    "plt.show()"
   ]
  },
  {
   "cell_type": "markdown",
   "id": "6f8efb8b",
   "metadata": {
    "_cell_guid": "26e04592-0130-422c-98b6-f2f90cf05ead",
    "_uuid": "f12ed528-c25e-446c-9bc4-8625ea0026c7",
    "papermill": {
     "duration": 0.025693,
     "end_time": "2024-01-11T04:44:50.400522",
     "exception": false,
     "start_time": "2024-01-11T04:44:50.374829",
     "status": "completed"
    },
    "tags": []
   },
   "source": [
    "Now we need to see how further optimisation could be done."
   ]
  },
  {
   "cell_type": "code",
   "execution_count": 27,
   "id": "22668377",
   "metadata": {
    "_cell_guid": "9dbaf9de-467c-4303-8573-1680f1fc8a77",
    "_uuid": "e107658f-040e-440f-b422-78bca78454ad",
    "collapsed": false,
    "execution": {
     "iopub.execute_input": "2024-01-11T04:44:50.453271Z",
     "iopub.status.busy": "2024-01-11T04:44:50.452865Z",
     "iopub.status.idle": "2024-01-11T04:44:50.458172Z",
     "shell.execute_reply": "2024-01-11T04:44:50.457059Z"
    },
    "jupyter": {
     "outputs_hidden": false
    },
    "papermill": {
     "duration": 0.035717,
     "end_time": "2024-01-11T04:44:50.461632",
     "exception": false,
     "start_time": "2024-01-11T04:44:50.425915",
     "status": "completed"
    },
    "tags": []
   },
   "outputs": [
    {
     "name": "stdout",
     "output_type": "stream",
     "text": [
      "37209.57648122867 and 36326.17489105133are the mean absolute errors in both models\n"
     ]
    }
   ],
   "source": [
    "print(f\"{mae} and {mae_rf}are the mean absolute errors in both models\")"
   ]
  },
  {
   "cell_type": "markdown",
   "id": "76648cb5",
   "metadata": {
    "_cell_guid": "3152b351-5a29-4a0f-8a7a-c750b3822b62",
    "_uuid": "1b724e82-38f5-40bd-a138-f3cc0ad579e9",
    "papermill": {
     "duration": 0.026451,
     "end_time": "2024-01-11T04:44:50.513722",
     "exception": false,
     "start_time": "2024-01-11T04:44:50.487271",
     "status": "completed"
    },
    "tags": []
   },
   "source": [
    "Lets see what parameters can be hypertuned."
   ]
  },
  {
   "cell_type": "code",
   "execution_count": 28,
   "id": "1103c4a6",
   "metadata": {
    "_cell_guid": "8ef9802b-bc08-4da2-82a9-9fb0e67616b4",
    "_uuid": "7c0d570c-2587-4edc-a67b-a58f0b1cae6a",
    "collapsed": false,
    "execution": {
     "iopub.execute_input": "2024-01-11T04:44:50.567839Z",
     "iopub.status.busy": "2024-01-11T04:44:50.567420Z",
     "iopub.status.idle": "2024-01-11T04:56:28.071035Z",
     "shell.execute_reply": "2024-01-11T04:56:28.069412Z"
    },
    "jupyter": {
     "outputs_hidden": false
    },
    "papermill": {
     "duration": 697.534473,
     "end_time": "2024-01-11T04:56:28.074411",
     "exception": false,
     "start_time": "2024-01-11T04:44:50.539938",
     "status": "completed"
    },
    "tags": []
   },
   "outputs": [
    {
     "name": "stdout",
     "output_type": "stream",
     "text": [
      "Fitting 3 folds for each of 100 candidates, totalling 300 fits\n"
     ]
    }
   ],
   "source": [
    "from sklearn.model_selection import RandomizedSearchCV\n",
    "import numpy as np\n",
    "# Define the hyperparameter grid\n",
    "param_dist = {\n",
    "    'n_estimators': [int(x) for x in np.linspace(start=200, stop=2000, num=10)],\n",
    "    'max_features': [1.0, 'sqrt', 'log2'],\n",
    "    'max_depth': [int(x) for x in np.linspace(10, 110, num=11)] + [None],\n",
    "    'min_samples_split': [2, 5, 10],\n",
    "    'min_samples_leaf': [1, 2, 4],\n",
    "    'bootstrap': [True, False],\n",
    "}\n",
    "\n",
    "# Create a random search object\n",
    "random_search = RandomizedSearchCV(\n",
    "    RandomForestRegressor(),\n",
    "    param_distributions=param_dist,\n",
    "    n_iter=100,\n",
    "    cv=3,\n",
    "    verbose=1,\n",
    "    n_jobs=-1,\n",
    "    random_state=42,\n",
    ")\n",
    "\n",
    "# Fit the random search model\n",
    "random_search.fit(X_train, y_train)\n",
    "\n",
    "# Get the best parameters\n",
    "best_params = random_search.best_params_"
   ]
  },
  {
   "cell_type": "markdown",
   "id": "9cab8bd7",
   "metadata": {
    "_cell_guid": "72b70aea-ba5c-4fb3-aae2-4f3816208be0",
    "_uuid": "de038a77-670e-4dbf-bf18-dc17345486c8",
    "papermill": {
     "duration": 0.025296,
     "end_time": "2024-01-11T04:56:28.127044",
     "exception": false,
     "start_time": "2024-01-11T04:56:28.101748",
     "status": "completed"
    },
    "tags": []
   },
   "source": [
    "Model to be fitted with best parameters."
   ]
  },
  {
   "cell_type": "code",
   "execution_count": 29,
   "id": "45d6f552",
   "metadata": {
    "_cell_guid": "9bd68232-70b2-4028-a416-5703ee299ec0",
    "_uuid": "01072e45-0617-499f-8133-f8a604fd85a9",
    "collapsed": false,
    "execution": {
     "iopub.execute_input": "2024-01-11T04:56:28.181319Z",
     "iopub.status.busy": "2024-01-11T04:56:28.180842Z",
     "iopub.status.idle": "2024-01-11T04:56:37.659432Z",
     "shell.execute_reply": "2024-01-11T04:56:37.657956Z"
    },
    "jupyter": {
     "outputs_hidden": false
    },
    "papermill": {
     "duration": 9.509662,
     "end_time": "2024-01-11T04:56:37.662396",
     "exception": false,
     "start_time": "2024-01-11T04:56:28.152734",
     "status": "completed"
    },
    "tags": []
   },
   "outputs": [
    {
     "name": "stdout",
     "output_type": "stream",
     "text": [
      "Final Mean Absolute Error: 36262.07395343955\n"
     ]
    }
   ],
   "source": [
    "# Use the best hyperparameters to create the final model\n",
    "best_estimators = best_params['n_estimators']\n",
    "best_max_depth = best_params['max_depth']\n",
    "best_min_samples_split = best_params['min_samples_split']\n",
    "best_min_samples_leaf = best_params['min_samples_leaf']\n",
    "best_bootstrap = best_params['bootstrap']\n",
    "\n",
    "final_rf_model = RandomForestRegressor(\n",
    "    n_estimators=best_estimators,\n",
    "    max_depth=best_max_depth,\n",
    "    min_samples_split=best_min_samples_split,\n",
    "    min_samples_leaf=best_min_samples_leaf,\n",
    "    bootstrap=best_bootstrap,\n",
    "    random_state=42,  # Set a random state for reproducibility\n",
    "    n_jobs=-1,  # Use all available CPU cores\n",
    ")\n",
    "\n",
    "# Train the final model on the full training dataset\n",
    "final_rf_model.fit(X_train, y_train)\n",
    "\n",
    "# Make predictions on the test set\n",
    "final_y_pred = final_rf_model.predict(X_test)\n",
    "\n",
    "# Evaluate the final model's performance\n",
    "final_mae = mean_absolute_error(y_test, final_y_pred)\n",
    "print(f\"Final Mean Absolute Error: {final_mae}\")"
   ]
  }
 ],
 "metadata": {
  "kaggle": {
   "accelerator": "none",
   "dataSources": [
    {
     "datasetId": 4164244,
     "sourceId": 7199610,
     "sourceType": "datasetVersion"
    }
   ],
   "dockerImageVersionId": 30626,
   "isGpuEnabled": false,
   "isInternetEnabled": false,
   "language": "python",
   "sourceType": "notebook"
  },
  "kernelspec": {
   "display_name": "Python 3",
   "language": "python",
   "name": "python3"
  },
  "language_info": {
   "codemirror_mode": {
    "name": "ipython",
    "version": 3
   },
   "file_extension": ".py",
   "mimetype": "text/x-python",
   "name": "python",
   "nbconvert_exporter": "python",
   "pygments_lexer": "ipython3",
   "version": "3.10.12"
  },
  "papermill": {
   "default_parameters": {},
   "duration": 762.050061,
   "end_time": "2024-01-11T04:56:40.312395",
   "environment_variables": {},
   "exception": null,
   "input_path": "__notebook__.ipynb",
   "output_path": "__notebook__.ipynb",
   "parameters": {},
   "start_time": "2024-01-11T04:43:58.262334",
   "version": "2.4.0"
  }
 },
 "nbformat": 4,
 "nbformat_minor": 5
}
